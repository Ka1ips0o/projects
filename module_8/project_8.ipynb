{
 "cells": [
  {
   "cell_type": "markdown",
   "metadata": {},
   "source": [
    "# Car Price prediction\n",
    "\n",
    "<img src=\"https://whatcar.vn/media/2018/09/car-lot-940x470.jpg\"/>\n",
    "\n",
    "## Прогнозирование стоимости автомобиля по характеристикам\n",
    "*В данном ноутбуке предложено решение для конкурса SF-DST Car Price part 2*\n"
   ]
  },
  {
   "cell_type": "markdown",
   "metadata": {},
   "source": [
    "## Этапы проекта:\n",
    "* Построение \"наивной\"/baseline модели, предсказывающей цену по модели и году выпуска (с ней будем сравнивать другие модели)\n",
    "* EDA и Feature-Engeneering\n",
    "* В рамках исследования будет создана модель на основе градиентного бустинга с использованием CatBoost\n",
    "* Исследование табличной нейронной сети\n",
    "* Комбинирование табличной нейронной сети и NLP в одну multi-input сеть с дальнейшей проверкой метрики\n",
    "* Исследование нейронной сети для обработки изображений и добавление ее в multi-input сеть\n",
    "* Ансамблирование градиентного бустинга и нейронной сети (усреднение их предсказаний)"
   ]
  },
  {
   "cell_type": "markdown",
   "metadata": {},
   "source": [
    "# 0. Установка и загрузка библиотек"
   ]
  },
  {
   "cell_type": "markdown",
   "metadata": {},
   "source": [
    "Установим tensorflow для дальнейшей работы с нейронными сетями"
   ]
  },
  {
   "cell_type": "code",
   "execution_count": 1,
   "metadata": {
    "_kg_hide-input": true,
    "execution": {
     "iopub.execute_input": "2021-12-14T22:46:29.029331Z",
     "iopub.status.busy": "2021-12-14T22:46:29.029002Z",
     "iopub.status.idle": "2021-12-14T22:46:36.442132Z",
     "shell.execute_reply": "2021-12-14T22:46:36.441280Z",
     "shell.execute_reply.started": "2021-12-14T22:46:29.029303Z"
    }
   },
   "outputs": [],
   "source": [
    "!pip install - q tensorflow == 2.3"
   ]
  },
  {
   "cell_type": "markdown",
   "metadata": {},
   "source": [
    "Установим albuminations для аугментации изображений"
   ]
  },
  {
   "cell_type": "code",
   "execution_count": 2,
   "metadata": {
    "_kg_hide-input": true,
    "execution": {
     "iopub.execute_input": "2021-12-14T22:46:36.444548Z",
     "iopub.status.busy": "2021-12-14T22:46:36.444277Z",
     "iopub.status.idle": "2021-12-14T22:46:43.141221Z",
     "shell.execute_reply": "2021-12-14T22:46:43.140370Z",
     "shell.execute_reply.started": "2021-12-14T22:46:36.444521Z"
    }
   },
   "outputs": [],
   "source": [
    "# аугментации изображений\n",
    "!pip install albumentations - q"
   ]
  },
  {
   "cell_type": "markdown",
   "metadata": {},
   "source": [
    "Установим морфологический анализатор для работы с текстом:"
   ]
  },
  {
   "cell_type": "code",
   "execution_count": 3,
   "metadata": {
    "execution": {
     "iopub.execute_input": "2021-12-14T22:46:43.143376Z",
     "iopub.status.busy": "2021-12-14T22:46:43.143027Z",
     "iopub.status.idle": "2021-12-14T22:46:57.765677Z",
     "shell.execute_reply": "2021-12-14T22:46:57.764698Z",
     "shell.execute_reply.started": "2021-12-14T22:46:43.143334Z"
    }
   },
   "outputs": [],
   "source": [
    "!pip install pymorphy2\n",
    "!pip install pymorphy2-dicts"
   ]
  },
  {
   "cell_type": "markdown",
   "metadata": {},
   "source": [
    "Теперь импортируем необходимые для работы библиотеки"
   ]
  },
  {
   "cell_type": "code",
   "execution_count": 4,
   "metadata": {
    "_cell_guid": "b1076dfc-b9ad-4769-8c92-a6c4dae69d19",
    "_kg_hide-input": true,
    "_uuid": "8f2839f25d086af736a60e9eeb907d3b93b6e0e5",
    "execution": {
     "iopub.execute_input": "2021-12-14T22:46:57.767735Z",
     "iopub.status.busy": "2021-12-14T22:46:57.767340Z",
     "iopub.status.idle": "2021-12-14T22:47:04.391323Z",
     "shell.execute_reply": "2021-12-14T22:47:04.390304Z",
     "shell.execute_reply.started": "2021-12-14T22:46:57.767694Z"
    }
   },
   "outputs": [],
   "source": [
    "# This Python 3 environment comes with many helpful analytics libraries installed\n",
    "# It is defined by the kaggle/python Docker image: https://github.com/kaggle/docker-python\n",
    "# For example, here's several helpful packages to load\n",
    "\n",
    "import seaborn as sns\n",
    "import random\n",
    "import numpy as np  # linear algebra\n",
    "import pandas as pd  # data processing, CSV file I/O (e.g. pd.read_csv)\n",
    "import os\n",
    "import sys\n",
    "import PIL\n",
    "import cv2\n",
    "import re\n",
    "import pymorphy2\n",
    "from nltk.corpus import stopwords\n",
    "from datetime import datetime\n",
    "\n",
    "# Input data files are available in the read-only \"../input/\" directory\n",
    "# For example, running this (by clicking run or pressing Shift+Enter) will list all files under the input directory\n",
    "\n",
    "from catboost import CatBoostRegressor\n",
    "from sklearn.model_selection import train_test_split\n",
    "from sklearn.preprocessing import MinMaxScaler\n",
    "from sklearn.preprocessing import RobustScaler\n",
    "from sklearn.preprocessing import StandardScaler\n",
    "\n",
    "# # keras\n",
    "import tensorflow as tf\n",
    "import tensorflow.keras.layers as L\n",
    "from tensorflow.keras import regularizers\n",
    "from tensorflow.keras.models import Model, Sequential\n",
    "from tensorflow.keras.preprocessing.text import Tokenizer\n",
    "from tensorflow.keras.preprocessing import sequence\n",
    "from tensorflow.keras.callbacks import ModelCheckpoint, EarlyStopping, ReduceLROnPlateau\n",
    "from tensorflow.keras.callbacks import *\n",
    "from tensorflow.keras.optimizers.schedules import *\n",
    "import albumentations as a\n",
    "\n",
    "# plt\n",
    "import matplotlib.pyplot as plt\n",
    "# увеличим дефолтный размер графиков\n",
    "from pylab import rcParams\n",
    "rcParams['figure.figsize'] = 10, 5\n",
    "# графики в svg выглядят более четкими\n",
    "%config InlineBackend.figure_format = 'svg'\n",
    "%matplotlib inline\n",
    "\n",
    "# You can write up to 5GB to the current directory (/kaggle/working/) that gets preserved as output when you create a version using \"Save & Run All\"\n",
    "# You can also write temporary files to /kaggle/temp/, but they won't be saved outside of the current session"
   ]
  },
  {
   "cell_type": "markdown",
   "metadata": {},
   "source": [
    "Посмотрим версии используемых библиотек"
   ]
  },
  {
   "cell_type": "code",
   "execution_count": 5,
   "metadata": {
    "_kg_hide-input": true,
    "execution": {
     "iopub.execute_input": "2021-12-14T22:47:04.395532Z",
     "iopub.status.busy": "2021-12-14T22:47:04.395267Z",
     "iopub.status.idle": "2021-12-14T22:47:04.402247Z",
     "shell.execute_reply": "2021-12-14T22:47:04.401112Z",
     "shell.execute_reply.started": "2021-12-14T22:47:04.395505Z"
    }
   },
   "outputs": [],
   "source": [
    "print('Python       :', sys.version.split('\\n')[0])\n",
    "print('Numpy        :', np.__version__)\n",
    "print('Tensorflow   :', tf.__version__)"
   ]
  },
  {
   "cell_type": "markdown",
   "metadata": {},
   "source": [
    "Пропишем функцию для вычисления метрики MAPE"
   ]
  },
  {
   "cell_type": "code",
   "execution_count": 6,
   "metadata": {
    "_kg_hide-input": true,
    "execution": {
     "iopub.execute_input": "2021-12-14T22:47:04.407182Z",
     "iopub.status.busy": "2021-12-14T22:47:04.405897Z",
     "iopub.status.idle": "2021-12-14T22:47:04.414255Z",
     "shell.execute_reply": "2021-12-14T22:47:04.413201Z",
     "shell.execute_reply.started": "2021-12-14T22:47:04.407138Z"
    }
   },
   "outputs": [],
   "source": [
    "def mape(y_true, y_pred):\n",
    "    return np.mean(np.abs((y_pred-y_true)/y_true))"
   ]
  },
  {
   "cell_type": "markdown",
   "metadata": {},
   "source": [
    "Теперь установим random seed для воспроизводимости:"
   ]
  },
  {
   "cell_type": "code",
   "execution_count": 7,
   "metadata": {
    "_kg_hide-input": true,
    "execution": {
     "iopub.execute_input": "2021-12-14T22:47:04.417235Z",
     "iopub.status.busy": "2021-12-14T22:47:04.416471Z",
     "iopub.status.idle": "2021-12-14T22:47:04.423417Z",
     "shell.execute_reply": "2021-12-14T22:47:04.422652Z",
     "shell.execute_reply.started": "2021-12-14T22:47:04.417195Z"
    }
   },
   "outputs": [],
   "source": [
    "# всегда фиксируйте RANDOM_SEED, чтобы ваши эксперименты были воспроизводимы!\n",
    "RANDOM_SEED = 42\n",
    "np.random.seed(RANDOM_SEED)"
   ]
  },
  {
   "cell_type": "markdown",
   "metadata": {},
   "source": [
    "Зафиксируем версию пакетов, чтобы эксперименты были воспроизводимы:"
   ]
  },
  {
   "cell_type": "code",
   "execution_count": 8,
   "metadata": {
    "_kg_hide-input": true,
    "execution": {
     "iopub.execute_input": "2021-12-14T22:47:04.425423Z",
     "iopub.status.busy": "2021-12-14T22:47:04.425163Z",
     "iopub.status.idle": "2021-12-14T22:47:06.695694Z",
     "shell.execute_reply": "2021-12-14T22:47:06.694734Z",
     "shell.execute_reply.started": "2021-12-14T22:47:04.425398Z"
    }
   },
   "outputs": [],
   "source": [
    "!pip freeze > requirements.txt"
   ]
  },
  {
   "cell_type": "markdown",
   "metadata": {},
   "source": [
    "# 1. DATA"
   ]
  },
  {
   "cell_type": "markdown",
   "metadata": {},
   "source": [
    "Посмотрим на типы признаков:\n",
    "\n",
    "* bodyType - категориальный\n",
    "* brand - категориальный\n",
    "* color - категориальный\n",
    "* description - текстовый\n",
    "* engineDisplacement - числовой, представленный как текст\n",
    "* enginePower - числовой, представленный как текст\n",
    "* fuelType - категориальный\n",
    "* mileage - числовой\n",
    "* modelDate - числовой\n",
    "* model_info - категориальный\n",
    "* name - категориальный, желательно сократить размерность\n",
    "* numberOfDoors - категориальный\n",
    "* price - числовой, целевой\n",
    "* productionDate - числовой\n",
    "* sell_id - изображение (файл доступен по адресу, основанному на sell_id)\n",
    "* vehicleConfiguration - не используется (комбинация других столбцов)\n",
    "* vehicleTransmission - категориальный\n",
    "* Владельцы - категориальный\n",
    "* Владение - числовой, представленный как текст\n",
    "* ПТС - категориальный\n",
    "* Привод - категориальный\n",
    "* Руль - категориальный"
   ]
  },
  {
   "cell_type": "markdown",
   "metadata": {},
   "source": [
    "Укажем директорию и загрузим наш обучающий и тестовый фреймы:"
   ]
  },
  {
   "cell_type": "code",
   "execution_count": 9,
   "metadata": {
    "_cell_guid": "79c7e3d0-c299-4dcb-8224-4455121ee9b0",
    "_uuid": "d629ff2d2480ee46fbb7e2d37f6b5fab8052498a",
    "execution": {
     "iopub.execute_input": "2021-12-14T22:47:06.699200Z",
     "iopub.status.busy": "2021-12-14T22:47:06.698906Z",
     "iopub.status.idle": "2021-12-14T22:47:07.124335Z",
     "shell.execute_reply": "2021-12-14T22:47:07.123555Z",
     "shell.execute_reply.started": "2021-12-14T22:47:06.699172Z"
    }
   },
   "outputs": [],
   "source": [
    "DATA_DIR = '../input/sf-dst-car-price-prediction-part2/'\n",
    "train = pd.read_csv(DATA_DIR + 'train.csv')\n",
    "test = pd.read_csv(DATA_DIR + 'test.csv')\n",
    "sample_submission = pd.read_csv(DATA_DIR + 'sample_submission.csv')"
   ]
  },
  {
   "cell_type": "markdown",
   "metadata": {},
   "source": [
    "Проверим, что у нас находится в обучающем и тестовом фреймах"
   ]
  },
  {
   "cell_type": "code",
   "execution_count": 10,
   "metadata": {
    "execution": {
     "iopub.execute_input": "2021-12-14T22:47:07.125990Z",
     "iopub.status.busy": "2021-12-14T22:47:07.125619Z",
     "iopub.status.idle": "2021-12-14T22:47:07.159166Z",
     "shell.execute_reply": "2021-12-14T22:47:07.158210Z",
     "shell.execute_reply.started": "2021-12-14T22:47:07.125952Z"
    }
   },
   "outputs": [],
   "source": [
    "train.info()"
   ]
  },
  {
   "cell_type": "code",
   "execution_count": 11,
   "metadata": {
    "execution": {
     "iopub.execute_input": "2021-12-14T22:47:07.160988Z",
     "iopub.status.busy": "2021-12-14T22:47:07.160611Z",
     "iopub.status.idle": "2021-12-14T22:47:07.233730Z",
     "shell.execute_reply": "2021-12-14T22:47:07.231889Z",
     "shell.execute_reply.started": "2021-12-14T22:47:07.160948Z"
    }
   },
   "outputs": [],
   "source": [
    "train.nunique()"
   ]
  },
  {
   "cell_type": "code",
   "execution_count": 12,
   "metadata": {
    "execution": {
     "iopub.execute_input": "2021-12-14T22:47:07.235632Z",
     "iopub.status.busy": "2021-12-14T22:47:07.235246Z",
     "iopub.status.idle": "2021-12-14T22:47:07.254764Z",
     "shell.execute_reply": "2021-12-14T22:47:07.253701Z",
     "shell.execute_reply.started": "2021-12-14T22:47:07.235593Z"
    }
   },
   "outputs": [],
   "source": [
    "train.isna().sum()"
   ]
  },
  {
   "cell_type": "markdown",
   "metadata": {},
   "source": [
    "Мы видим, что присутствуют пропуски, которые в дальнейшем придется обработать каким-либо способом. Проверим что находится в тестовом фрейме:"
   ]
  },
  {
   "cell_type": "code",
   "execution_count": 13,
   "metadata": {
    "execution": {
     "iopub.execute_input": "2021-12-14T22:47:07.256675Z",
     "iopub.status.busy": "2021-12-14T22:47:07.256290Z",
     "iopub.status.idle": "2021-12-14T22:47:07.274556Z",
     "shell.execute_reply": "2021-12-14T22:47:07.273530Z",
     "shell.execute_reply.started": "2021-12-14T22:47:07.256633Z"
    }
   },
   "outputs": [],
   "source": [
    "test.info()"
   ]
  },
  {
   "cell_type": "code",
   "execution_count": 14,
   "metadata": {
    "execution": {
     "iopub.execute_input": "2021-12-14T22:47:07.277077Z",
     "iopub.status.busy": "2021-12-14T22:47:07.276402Z",
     "iopub.status.idle": "2021-12-14T22:47:07.301512Z",
     "shell.execute_reply": "2021-12-14T22:47:07.300577Z",
     "shell.execute_reply.started": "2021-12-14T22:47:07.277025Z"
    }
   },
   "outputs": [],
   "source": [
    "test.nunique()"
   ]
  },
  {
   "cell_type": "code",
   "execution_count": 15,
   "metadata": {
    "execution": {
     "iopub.execute_input": "2021-12-14T22:47:07.303634Z",
     "iopub.status.busy": "2021-12-14T22:47:07.303069Z",
     "iopub.status.idle": "2021-12-14T22:47:07.314205Z",
     "shell.execute_reply": "2021-12-14T22:47:07.313308Z",
     "shell.execute_reply.started": "2021-12-14T22:47:07.303597Z"
    }
   },
   "outputs": [],
   "source": [
    "test.isna().sum()"
   ]
  },
  {
   "cell_type": "markdown",
   "metadata": {},
   "source": [
    "Здесь пропуски имеются только в столбце \"владение\". В дальнейшем нужно будет обработать."
   ]
  },
  {
   "cell_type": "markdown",
   "metadata": {},
   "source": [
    "Теперь попробуем создать наивную модель и посмотреть результат нашей метрики"
   ]
  },
  {
   "cell_type": "markdown",
   "metadata": {},
   "source": [
    "# 2. Model 0: \"Наивная\" модель \n",
    "Эта модель будет предсказывать среднюю цену по модели и году выпуска. \n",
    "C ней будем сравнивать другие модели.\n",
    "\n"
   ]
  },
  {
   "cell_type": "markdown",
   "metadata": {},
   "source": [
    "Первым делом проведем разделенение на обучающую и валидационную выборки:"
   ]
  },
  {
   "cell_type": "code",
   "execution_count": 16,
   "metadata": {
    "execution": {
     "iopub.execute_input": "2021-12-14T22:47:07.316443Z",
     "iopub.status.busy": "2021-12-14T22:47:07.315759Z",
     "iopub.status.idle": "2021-12-14T22:47:07.328109Z",
     "shell.execute_reply": "2021-12-14T22:47:07.327040Z",
     "shell.execute_reply.started": "2021-12-14T22:47:07.316377Z"
    }
   },
   "outputs": [],
   "source": [
    "# split данных\n",
    "data_train, data_test = train_test_split(\n",
    "    train, test_size=0.2, shuffle=True, random_state=RANDOM_SEED)"
   ]
  },
  {
   "cell_type": "markdown",
   "metadata": {},
   "source": [
    "Создадим наивную модель и проведем оценку отчности:"
   ]
  },
  {
   "cell_type": "code",
   "execution_count": 17,
   "metadata": {
    "execution": {
     "iopub.execute_input": "2021-12-14T22:47:07.331902Z",
     "iopub.status.busy": "2021-12-14T22:47:07.331613Z",
     "iopub.status.idle": "2021-12-14T22:47:12.099259Z",
     "shell.execute_reply": "2021-12-14T22:47:12.098297Z",
     "shell.execute_reply.started": "2021-12-14T22:47:07.331876Z"
    }
   },
   "outputs": [],
   "source": [
    "# Наивная модель\n",
    "predicts = []\n",
    "for index, row in pd.DataFrame(data_test[['model_info', 'productionDate']]).iterrows():\n",
    "    query = f\"model_info == '{row[0]}' and productionDate == '{row[1]}'\"\n",
    "    predicts.append(data_train.query(query)['price'].median())\n",
    "\n",
    "# заполним не найденные совпадения\n",
    "predicts = pd.DataFrame(predicts)\n",
    "predicts = predicts.fillna(predicts.median())\n",
    "\n",
    "# округлим\n",
    "predicts = (predicts // 1000) * 1000\n",
    "\n",
    "# оцениваем точность\n",
    "print(\n",
    "    f\"Точность наивной модели по метрике MAPE: {(mape(data_test['price'], predicts.values[:, 0]))*100:0.2f}%\")"
   ]
  },
  {
   "cell_type": "markdown",
   "metadata": {},
   "source": [
    "Мы получили достаточно плохой результат, но теперь появилось понимание - откуда отталкиваться. \n",
    "\n",
    "Первым делом проведем EDA и попробуем использовать CatBoost."
   ]
  },
  {
   "cell_type": "markdown",
   "metadata": {},
   "source": [
    "# 3. EDA и Feature-Engeneering"
   ]
  },
  {
   "cell_type": "markdown",
   "metadata": {},
   "source": [
    "Проведем быстрый анализ данных для того, чтобы понимать, сможет ли с этими данными работать наш алгоритм. По большей части EDA и Feature-Engeneering был произведен в одном из предыдущих проектов CarPricePrediction, поэтому многие вещи будут заимствованы оттуда."
   ]
  },
  {
   "cell_type": "markdown",
   "metadata": {},
   "source": [
    "Посмотрим, как выглядят распределения числовых признаков:"
   ]
  },
  {
   "cell_type": "code",
   "execution_count": 18,
   "metadata": {
    "_kg_hide-input": true,
    "execution": {
     "iopub.execute_input": "2021-12-14T22:47:12.102152Z",
     "iopub.status.busy": "2021-12-14T22:47:12.101766Z",
     "iopub.status.idle": "2021-12-14T22:47:12.754141Z",
     "shell.execute_reply": "2021-12-14T22:47:12.753209Z",
     "shell.execute_reply.started": "2021-12-14T22:47:12.102111Z"
    }
   },
   "outputs": [],
   "source": [
    "# посмотрим, как выглядят распределения числовых признаков\n",
    "def visualize_distributions(titles_values_dict):\n",
    "    columns = min(3, len(titles_values_dict))\n",
    "    rows = (len(titles_values_dict) - 1) // columns + 1\n",
    "    fig = plt.figure(figsize=(columns * 6, rows * 4))\n",
    "    for i, (title, values) in enumerate(titles_values_dict.items()):\n",
    "        hist, bins = np.histogram(values, bins=20)\n",
    "        ax = fig.add_subplot(rows, columns, i + 1)\n",
    "        ax.bar(bins[:-1], hist, width=(bins[1] - bins[0]) * 0.7)\n",
    "        ax.set_title(title)\n",
    "    plt.show()\n",
    "\n",
    "\n",
    "visualize_distributions({\n",
    "    'mileage': train['mileage'].dropna(),\n",
    "    'modelDate': train['modelDate'].dropna(),\n",
    "    'productionDate': train['productionDate'].dropna()\n",
    "})"
   ]
  },
  {
   "cell_type": "markdown",
   "metadata": {},
   "source": [
    "Итого:\n",
    "* CatBoost сможет работать с признаками и в таком виде, но для нейросети нужны нормированные данные."
   ]
  },
  {
   "cell_type": "markdown",
   "metadata": {},
   "source": [
    "## 3.1. Предобработка табличных данных"
   ]
  },
  {
   "cell_type": "markdown",
   "metadata": {},
   "source": [
    "Объединим тестовый и обучающий фреймы в один:"
   ]
  },
  {
   "cell_type": "code",
   "execution_count": 19,
   "metadata": {
    "execution": {
     "iopub.execute_input": "2021-12-14T22:47:12.755905Z",
     "iopub.status.busy": "2021-12-14T22:47:12.755408Z",
     "iopub.status.idle": "2021-12-14T22:47:12.777423Z",
     "shell.execute_reply": "2021-12-14T22:47:12.776243Z",
     "shell.execute_reply.started": "2021-12-14T22:47:12.755863Z"
    }
   },
   "outputs": [],
   "source": [
    "# ВАЖНО! дря корректной обработки признаков объединяем трейн и тест в один датасет\n",
    "train['sample'] = 1  # трейн\n",
    "test['sample'] = 0  # тест\n",
    "test['price'] = 0  # в тесте нет значения price,  заполняем нулями\n",
    "\n",
    "data = test.append(train, sort=False).reset_index(drop=True)  # объединяем\n",
    "print(train.shape, test.shape, data.shape)"
   ]
  },
  {
   "cell_type": "markdown",
   "metadata": {},
   "source": [
    "Теперь приступим к предобработке"
   ]
  },
  {
   "cell_type": "markdown",
   "metadata": {},
   "source": [
    "### 3.1.1. bodyType"
   ]
  },
  {
   "cell_type": "markdown",
   "metadata": {},
   "source": [
    "Данный столбец отражает тип кузова автомобиля. Посмотрим на количество вариантов:"
   ]
  },
  {
   "cell_type": "code",
   "execution_count": 20,
   "metadata": {
    "execution": {
     "iopub.execute_input": "2021-12-14T22:47:12.779619Z",
     "iopub.status.busy": "2021-12-14T22:47:12.779228Z",
     "iopub.status.idle": "2021-12-14T22:47:12.787425Z",
     "shell.execute_reply": "2021-12-14T22:47:12.786364Z",
     "shell.execute_reply.started": "2021-12-14T22:47:12.779579Z"
    }
   },
   "outputs": [],
   "source": [
    "data.bodyType.unique()"
   ]
  },
  {
   "cell_type": "markdown",
   "metadata": {},
   "source": [
    "Проведем обработку данных:"
   ]
  },
  {
   "cell_type": "code",
   "execution_count": 21,
   "metadata": {
    "execution": {
     "iopub.execute_input": "2021-12-14T22:47:12.789832Z",
     "iopub.status.busy": "2021-12-14T22:47:12.789265Z",
     "iopub.status.idle": "2021-12-14T22:47:12.808472Z",
     "shell.execute_reply": "2021-12-14T22:47:12.807503Z",
     "shell.execute_reply.started": "2021-12-14T22:47:12.789792Z"
    }
   },
   "outputs": [],
   "source": [
    "# Выбираем первое слово для описания типа кузова\n",
    "data['bodyType'] = data['bodyType'].astype(\n",
    "    str).apply(lambda x: None if x.strip() == '' else x)\n",
    "# Понижаем регистр первого слова\n",
    "data['bodyType'] = data.bodyType.apply(lambda x: x.split(' ')[0].lower())"
   ]
  },
  {
   "cell_type": "markdown",
   "metadata": {},
   "source": [
    "Посмотрим количество уникальных значений:"
   ]
  },
  {
   "cell_type": "code",
   "execution_count": 22,
   "metadata": {
    "execution": {
     "iopub.execute_input": "2021-12-14T22:47:12.810366Z",
     "iopub.status.busy": "2021-12-14T22:47:12.809981Z",
     "iopub.status.idle": "2021-12-14T22:47:12.820651Z",
     "shell.execute_reply": "2021-12-14T22:47:12.819884Z",
     "shell.execute_reply.started": "2021-12-14T22:47:12.810328Z"
    }
   },
   "outputs": [],
   "source": [
    "train.bodyType.unique()"
   ]
  },
  {
   "cell_type": "markdown",
   "metadata": {},
   "source": [
    "Проверим распределение значений по типу кузова:"
   ]
  },
  {
   "cell_type": "code",
   "execution_count": 23,
   "metadata": {
    "execution": {
     "iopub.execute_input": "2021-12-14T22:47:12.823901Z",
     "iopub.status.busy": "2021-12-14T22:47:12.823658Z",
     "iopub.status.idle": "2021-12-14T22:47:13.040839Z",
     "shell.execute_reply": "2021-12-14T22:47:13.039689Z",
     "shell.execute_reply.started": "2021-12-14T22:47:12.823879Z"
    }
   },
   "outputs": [],
   "source": [
    "data.bodyType.value_counts().plot.barh()"
   ]
  },
  {
   "cell_type": "markdown",
   "metadata": {},
   "source": [
    "В дальнейшем признак отнесем к категориальным."
   ]
  },
  {
   "cell_type": "markdown",
   "metadata": {},
   "source": [
    "### 3.1.2. brand"
   ]
  },
  {
   "cell_type": "markdown",
   "metadata": {},
   "source": [
    "Данный столбец отражает название фирмы-производителя автомобиля. Проверим уникальные значения:"
   ]
  },
  {
   "cell_type": "code",
   "execution_count": 24,
   "metadata": {
    "execution": {
     "iopub.execute_input": "2021-12-14T22:47:13.042963Z",
     "iopub.status.busy": "2021-12-14T22:47:13.042365Z",
     "iopub.status.idle": "2021-12-14T22:47:13.052072Z",
     "shell.execute_reply": "2021-12-14T22:47:13.050657Z",
     "shell.execute_reply.started": "2021-12-14T22:47:13.042916Z"
    }
   },
   "outputs": [],
   "source": [
    "data.brand.unique()"
   ]
  },
  {
   "cell_type": "markdown",
   "metadata": {},
   "source": [
    "Как мы видим, уникальных значений мало, можно оставить без изменений. Посмотрим распределение значений:"
   ]
  },
  {
   "cell_type": "code",
   "execution_count": 25,
   "metadata": {
    "execution": {
     "iopub.execute_input": "2021-12-14T22:47:13.054221Z",
     "iopub.status.busy": "2021-12-14T22:47:13.053620Z",
     "iopub.status.idle": "2021-12-14T22:47:13.184184Z",
     "shell.execute_reply": "2021-12-14T22:47:13.183221Z",
     "shell.execute_reply.started": "2021-12-14T22:47:13.054181Z"
    }
   },
   "outputs": [],
   "source": [
    "data.brand.value_counts().plot.barh()"
   ]
  },
  {
   "cell_type": "markdown",
   "metadata": {},
   "source": [
    "Отнесем признак к категориальным."
   ]
  },
  {
   "cell_type": "markdown",
   "metadata": {},
   "source": [
    "### 3.1.3. color"
   ]
  },
  {
   "cell_type": "markdown",
   "metadata": {},
   "source": [
    "Данный признак отражает цвет продаваемого автомобиля. Посмотрим количество уникальных значений:"
   ]
  },
  {
   "cell_type": "code",
   "execution_count": 26,
   "metadata": {
    "execution": {
     "iopub.execute_input": "2021-12-14T22:47:13.186303Z",
     "iopub.status.busy": "2021-12-14T22:47:13.185691Z",
     "iopub.status.idle": "2021-12-14T22:47:13.195913Z",
     "shell.execute_reply": "2021-12-14T22:47:13.194470Z",
     "shell.execute_reply.started": "2021-12-14T22:47:13.186246Z"
    }
   },
   "outputs": [],
   "source": [
    "data.color.nunique()"
   ]
  },
  {
   "cell_type": "markdown",
   "metadata": {},
   "source": [
    "Посмотрим распределение значений по цветам:"
   ]
  },
  {
   "cell_type": "code",
   "execution_count": 27,
   "metadata": {
    "execution": {
     "iopub.execute_input": "2021-12-14T22:47:13.198172Z",
     "iopub.status.busy": "2021-12-14T22:47:13.197665Z",
     "iopub.status.idle": "2021-12-14T22:47:13.399619Z",
     "shell.execute_reply": "2021-12-14T22:47:13.398666Z",
     "shell.execute_reply.started": "2021-12-14T22:47:13.198125Z"
    }
   },
   "outputs": [],
   "source": [
    "data.color.value_counts().plot.barh()"
   ]
  },
  {
   "cell_type": "markdown",
   "metadata": {},
   "source": [
    "Отнесем признак к категориальным"
   ]
  },
  {
   "cell_type": "markdown",
   "metadata": {},
   "source": [
    "### 3.1.4. description"
   ]
  },
  {
   "cell_type": "markdown",
   "metadata": {},
   "source": [
    "Данный столбец содержит комментарий о продаваемом автомобиле. В дальнейшем будет использоваться для NLP. Сейчас выделим на основе этого столбца признак, отражающий длину комментария:"
   ]
  },
  {
   "cell_type": "code",
   "execution_count": 28,
   "metadata": {
    "execution": {
     "iopub.execute_input": "2021-12-14T22:47:13.401731Z",
     "iopub.status.busy": "2021-12-14T22:47:13.401112Z",
     "iopub.status.idle": "2021-12-14T22:47:13.417078Z",
     "shell.execute_reply": "2021-12-14T22:47:13.416356Z",
     "shell.execute_reply.started": "2021-12-14T22:47:13.401686Z"
    }
   },
   "outputs": [],
   "source": [
    "data['comment_length'] = data.description.apply(lambda x: len(str(x)))"
   ]
  },
  {
   "cell_type": "code",
   "execution_count": 29,
   "metadata": {
    "execution": {
     "iopub.execute_input": "2021-12-14T22:47:13.418981Z",
     "iopub.status.busy": "2021-12-14T22:47:13.418405Z",
     "iopub.status.idle": "2021-12-14T22:47:13.572154Z",
     "shell.execute_reply": "2021-12-14T22:47:13.571336Z",
     "shell.execute_reply.started": "2021-12-14T22:47:13.418937Z"
    }
   },
   "outputs": [],
   "source": [
    "data.comment_length.hist()"
   ]
  },
  {
   "cell_type": "markdown",
   "metadata": {},
   "source": [
    "Отнесем к числовым признакам"
   ]
  },
  {
   "cell_type": "markdown",
   "metadata": {},
   "source": [
    "### 3.1.5. engineDisplacement"
   ]
  },
  {
   "cell_type": "markdown",
   "metadata": {},
   "source": [
    "Этот признак описывает объем двигателя авто. Посмотрим количество уникальных значений :"
   ]
  },
  {
   "cell_type": "code",
   "execution_count": 30,
   "metadata": {
    "execution": {
     "iopub.execute_input": "2021-12-14T22:47:13.573839Z",
     "iopub.status.busy": "2021-12-14T22:47:13.573338Z",
     "iopub.status.idle": "2021-12-14T22:47:13.581025Z",
     "shell.execute_reply": "2021-12-14T22:47:13.579887Z",
     "shell.execute_reply.started": "2021-12-14T22:47:13.573801Z"
    }
   },
   "outputs": [],
   "source": [
    "data.engineDisplacement.unique()"
   ]
  },
  {
   "cell_type": "markdown",
   "metadata": {},
   "source": [
    "Мы видим, что признак отражает литраж двигателя с припиской LTR. Попробуем ее убрать:"
   ]
  },
  {
   "cell_type": "code",
   "execution_count": 31,
   "metadata": {
    "execution": {
     "iopub.execute_input": "2021-12-14T22:47:13.583242Z",
     "iopub.status.busy": "2021-12-14T22:47:13.582712Z",
     "iopub.status.idle": "2021-12-14T22:47:13.594312Z",
     "shell.execute_reply": "2021-12-14T22:47:13.593477Z",
     "shell.execute_reply.started": "2021-12-14T22:47:13.583200Z"
    }
   },
   "outputs": [],
   "source": [
    "data.engineDisplacement = data.engineDisplacement.apply(lambda x: x[:3])"
   ]
  },
  {
   "cell_type": "code",
   "execution_count": 32,
   "metadata": {
    "execution": {
     "iopub.execute_input": "2021-12-14T22:47:13.604253Z",
     "iopub.status.busy": "2021-12-14T22:47:13.604004Z",
     "iopub.status.idle": "2021-12-14T22:47:13.616199Z",
     "shell.execute_reply": "2021-12-14T22:47:13.615309Z",
     "shell.execute_reply.started": "2021-12-14T22:47:13.604228Z"
    }
   },
   "outputs": [],
   "source": [
    "data.engineDisplacement.value_counts()"
   ]
  },
  {
   "cell_type": "markdown",
   "metadata": {},
   "source": [
    "Мы видим, что 6 значений имеют und ( остаток от undefined LTR). Заполним значением моды:"
   ]
  },
  {
   "cell_type": "code",
   "execution_count": 33,
   "metadata": {
    "execution": {
     "iopub.execute_input": "2021-12-14T22:47:13.619055Z",
     "iopub.status.busy": "2021-12-14T22:47:13.618327Z",
     "iopub.status.idle": "2021-12-14T22:47:13.626906Z",
     "shell.execute_reply": "2021-12-14T22:47:13.626147Z",
     "shell.execute_reply.started": "2021-12-14T22:47:13.619018Z"
    }
   },
   "outputs": [],
   "source": [
    "data.engineDisplacement = data.engineDisplacement.replace(\n",
    "    'und', data.engineDisplacement.mode()[0])"
   ]
  },
  {
   "cell_type": "markdown",
   "metadata": {},
   "source": [
    "Проверим результат:"
   ]
  },
  {
   "cell_type": "code",
   "execution_count": 34,
   "metadata": {
    "execution": {
     "iopub.execute_input": "2021-12-14T22:47:13.628547Z",
     "iopub.status.busy": "2021-12-14T22:47:13.628299Z",
     "iopub.status.idle": "2021-12-14T22:47:13.639425Z",
     "shell.execute_reply": "2021-12-14T22:47:13.638588Z",
     "shell.execute_reply.started": "2021-12-14T22:47:13.628521Z"
    }
   },
   "outputs": [],
   "source": [
    "data.engineDisplacement.unique()"
   ]
  },
  {
   "cell_type": "markdown",
   "metadata": {},
   "source": [
    "Преобразуем в числовой формат и посмотрим распределение:"
   ]
  },
  {
   "cell_type": "code",
   "execution_count": 35,
   "metadata": {
    "execution": {
     "iopub.execute_input": "2021-12-14T22:47:13.641315Z",
     "iopub.status.busy": "2021-12-14T22:47:13.640903Z",
     "iopub.status.idle": "2021-12-14T22:47:13.651934Z",
     "shell.execute_reply": "2021-12-14T22:47:13.650993Z",
     "shell.execute_reply.started": "2021-12-14T22:47:13.641276Z"
    }
   },
   "outputs": [],
   "source": [
    "data.engineDisplacement = data.engineDisplacement.apply(lambda x: float(x))"
   ]
  },
  {
   "cell_type": "code",
   "execution_count": 36,
   "metadata": {
    "execution": {
     "iopub.execute_input": "2021-12-14T22:47:13.653985Z",
     "iopub.status.busy": "2021-12-14T22:47:13.653470Z",
     "iopub.status.idle": "2021-12-14T22:47:13.804546Z",
     "shell.execute_reply": "2021-12-14T22:47:13.803757Z",
     "shell.execute_reply.started": "2021-12-14T22:47:13.653947Z"
    }
   },
   "outputs": [],
   "source": [
    "data.engineDisplacement.hist()"
   ]
  },
  {
   "cell_type": "markdown",
   "metadata": {},
   "source": [
    "Как мы видим, распределение близко к нормальному, но возможно после логарифмирования показатели станут лучше. Отнесем к числовым признакам"
   ]
  },
  {
   "cell_type": "markdown",
   "metadata": {},
   "source": [
    "### 3.1.6. enginePower"
   ]
  },
  {
   "cell_type": "markdown",
   "metadata": {},
   "source": [
    "Признак отражает мощность двигателя автомобиля. Посмотрим на уникальные значения:"
   ]
  },
  {
   "cell_type": "code",
   "execution_count": 37,
   "metadata": {
    "execution": {
     "iopub.execute_input": "2021-12-14T22:47:13.806306Z",
     "iopub.status.busy": "2021-12-14T22:47:13.805799Z",
     "iopub.status.idle": "2021-12-14T22:47:13.814188Z",
     "shell.execute_reply": "2021-12-14T22:47:13.813021Z",
     "shell.execute_reply.started": "2021-12-14T22:47:13.806266Z"
    }
   },
   "outputs": [],
   "source": [
    "data.enginePower.unique()"
   ]
  },
  {
   "cell_type": "markdown",
   "metadata": {},
   "source": [
    "Избавимся от дополнительной информации в данных:"
   ]
  },
  {
   "cell_type": "code",
   "execution_count": 38,
   "metadata": {
    "execution": {
     "iopub.execute_input": "2021-12-14T22:47:13.816846Z",
     "iopub.status.busy": "2021-12-14T22:47:13.816357Z",
     "iopub.status.idle": "2021-12-14T22:47:13.828341Z",
     "shell.execute_reply": "2021-12-14T22:47:13.827612Z",
     "shell.execute_reply.started": "2021-12-14T22:47:13.816793Z"
    }
   },
   "outputs": [],
   "source": [
    "# берем 1 символ, если длина строки 5, первые два если 6,в противном случае первые три символа\n",
    "data['enginePower'] = data['enginePower'].apply(\n",
    "    lambda x: x[:1] if len(x) == 5 else (x[:2] if len(x) == 6 else x[:3]))"
   ]
  },
  {
   "cell_type": "markdown",
   "metadata": {},
   "source": [
    "Проверим результат:"
   ]
  },
  {
   "cell_type": "code",
   "execution_count": 39,
   "metadata": {
    "execution": {
     "iopub.execute_input": "2021-12-14T22:47:13.830427Z",
     "iopub.status.busy": "2021-12-14T22:47:13.830030Z",
     "iopub.status.idle": "2021-12-14T22:47:13.840352Z",
     "shell.execute_reply": "2021-12-14T22:47:13.839592Z",
     "shell.execute_reply.started": "2021-12-14T22:47:13.830363Z"
    }
   },
   "outputs": [],
   "source": [
    "data.enginePower.unique()"
   ]
  },
  {
   "cell_type": "markdown",
   "metadata": {},
   "source": [
    "Замечательно, теперь переведем в числовой формат и посмотрим распределение значений:"
   ]
  },
  {
   "cell_type": "code",
   "execution_count": 40,
   "metadata": {
    "execution": {
     "iopub.execute_input": "2021-12-14T22:47:13.842499Z",
     "iopub.status.busy": "2021-12-14T22:47:13.842126Z",
     "iopub.status.idle": "2021-12-14T22:47:14.085476Z",
     "shell.execute_reply": "2021-12-14T22:47:14.084307Z",
     "shell.execute_reply.started": "2021-12-14T22:47:13.842461Z"
    }
   },
   "outputs": [],
   "source": [
    "data['enginePower'] = data['enginePower'].apply(lambda x: int(x))\n",
    "data.enginePower.hist()"
   ]
  },
  {
   "cell_type": "markdown",
   "metadata": {},
   "source": [
    "Распределение близко к нормальному, но возможно необходимо будет логарифмировать для улучшения показателей. Отнесем к числовым признакам"
   ]
  },
  {
   "cell_type": "markdown",
   "metadata": {},
   "source": [
    "### 3.1.7. fuelType"
   ]
  },
  {
   "cell_type": "markdown",
   "metadata": {},
   "source": [
    "Данный признак содержит данные о типе топлива, используемого в автомобиле. Посмотрим на уникальные значения:\n"
   ]
  },
  {
   "cell_type": "code",
   "execution_count": 41,
   "metadata": {
    "execution": {
     "iopub.execute_input": "2021-12-14T22:47:14.088042Z",
     "iopub.status.busy": "2021-12-14T22:47:14.087332Z",
     "iopub.status.idle": "2021-12-14T22:47:14.117529Z",
     "shell.execute_reply": "2021-12-14T22:47:14.113457Z",
     "shell.execute_reply.started": "2021-12-14T22:47:14.087989Z"
    }
   },
   "outputs": [],
   "source": [
    "data.fuelType.value_counts()"
   ]
  },
  {
   "cell_type": "markdown",
   "metadata": {},
   "source": [
    "Посмотрим распределение признака:"
   ]
  },
  {
   "cell_type": "code",
   "execution_count": 42,
   "metadata": {
    "execution": {
     "iopub.execute_input": "2021-12-14T22:47:14.123075Z",
     "iopub.status.busy": "2021-12-14T22:47:14.121155Z",
     "iopub.status.idle": "2021-12-14T22:47:14.344393Z",
     "shell.execute_reply": "2021-12-14T22:47:14.343476Z",
     "shell.execute_reply.started": "2021-12-14T22:47:14.123025Z"
    }
   },
   "outputs": [],
   "source": [
    "data.fuelType.hist()"
   ]
  },
  {
   "cell_type": "markdown",
   "metadata": {},
   "source": [
    "Как видно из графика, подавляющее большинство автомобилей используют бензиновое топливо. Отнесем признак к категориальным."
   ]
  },
  {
   "cell_type": "markdown",
   "metadata": {},
   "source": [
    "### 3.1.8. mileage"
   ]
  },
  {
   "cell_type": "markdown",
   "metadata": {},
   "source": [
    "Признак содержит данные о пробеге продаваемого авто. Проверим данные:"
   ]
  },
  {
   "cell_type": "code",
   "execution_count": 43,
   "metadata": {
    "execution": {
     "iopub.execute_input": "2021-12-14T22:47:14.346176Z",
     "iopub.status.busy": "2021-12-14T22:47:14.345703Z",
     "iopub.status.idle": "2021-12-14T22:47:14.352971Z",
     "shell.execute_reply": "2021-12-14T22:47:14.351969Z",
     "shell.execute_reply.started": "2021-12-14T22:47:14.346136Z"
    }
   },
   "outputs": [],
   "source": [
    "data.mileage.unique()"
   ]
  },
  {
   "cell_type": "markdown",
   "metadata": {},
   "source": [
    "Данные чистые. Посмотрим на распределение признака:"
   ]
  },
  {
   "cell_type": "code",
   "execution_count": 44,
   "metadata": {
    "execution": {
     "iopub.execute_input": "2021-12-14T22:47:14.355128Z",
     "iopub.status.busy": "2021-12-14T22:47:14.354455Z",
     "iopub.status.idle": "2021-12-14T22:47:14.774639Z",
     "shell.execute_reply": "2021-12-14T22:47:14.773692Z",
     "shell.execute_reply.started": "2021-12-14T22:47:14.355084Z"
    }
   },
   "outputs": [],
   "source": [
    "data.mileage.hist(figsize=(8, 5), bins=100)"
   ]
  },
  {
   "cell_type": "markdown",
   "metadata": {},
   "source": [
    "Проверим на выбросы:"
   ]
  },
  {
   "cell_type": "code",
   "execution_count": 45,
   "metadata": {
    "execution": {
     "iopub.execute_input": "2021-12-14T22:47:14.776481Z",
     "iopub.status.busy": "2021-12-14T22:47:14.775952Z",
     "iopub.status.idle": "2021-12-14T22:47:14.793329Z",
     "shell.execute_reply": "2021-12-14T22:47:14.791404Z",
     "shell.execute_reply.started": "2021-12-14T22:47:14.776436Z"
    }
   },
   "outputs": [],
   "source": [
    "IQR = data['mileage'].quantile(0.75) - data['mileage'].quantile(0.25)\n",
    "perc25 = data['mileage'].quantile(0.25)  # 25-й перцентиль\n",
    "perc75 = data['mileage'].quantile(0.75)  # 75-й перцентиль\n",
    "\n",
    "print(\n",
    "    '25-й перцентиль: {},'.format(perc25),\n",
    "    '75-й перцентиль: {},'.format(perc75),\n",
    "    \"IQR: {}, \".format(IQR),\n",
    "    \"Границы выбросов: [{f}, {l}].\".format(f=perc25 - 1.5*IQR,\n",
    "                                           l=perc75 + 1.5*IQR))"
   ]
  },
  {
   "cell_type": "markdown",
   "metadata": {},
   "source": [
    "Посмотрим, сколько значений превышает границу:"
   ]
  },
  {
   "cell_type": "code",
   "execution_count": 46,
   "metadata": {
    "execution": {
     "iopub.execute_input": "2021-12-14T22:47:14.795148Z",
     "iopub.status.busy": "2021-12-14T22:47:14.794728Z",
     "iopub.status.idle": "2021-12-14T22:47:14.805443Z",
     "shell.execute_reply": "2021-12-14T22:47:14.803992Z",
     "shell.execute_reply.started": "2021-12-14T22:47:14.795106Z"
    }
   },
   "outputs": [],
   "source": [
    "data.mileage[data.mileage > 328841].count()"
   ]
  },
  {
   "cell_type": "markdown",
   "metadata": {},
   "source": [
    "Как мы видим, значений действительно мало. Возможно они действительно являются выбросами, но существуют (основываясь на собственном опыте) автомобили, у которых ОЧЕНЬ большой пробег. Так что предполагаемые выбросы без изменений."
   ]
  },
  {
   "cell_type": "markdown",
   "metadata": {},
   "source": [
    "Отнесем признак к числовым и в дальнейшем используем нормализацию."
   ]
  },
  {
   "cell_type": "markdown",
   "metadata": {},
   "source": [
    "### 3.1.9. modelDate"
   ]
  },
  {
   "cell_type": "markdown",
   "metadata": {},
   "source": [
    "Данный признак содержит информацию о годе производства модели авто. Просмотрим уникальные значения:"
   ]
  },
  {
   "cell_type": "code",
   "execution_count": 47,
   "metadata": {
    "execution": {
     "iopub.execute_input": "2021-12-14T22:47:14.807679Z",
     "iopub.status.busy": "2021-12-14T22:47:14.807272Z",
     "iopub.status.idle": "2021-12-14T22:47:14.815074Z",
     "shell.execute_reply": "2021-12-14T22:47:14.814146Z",
     "shell.execute_reply.started": "2021-12-14T22:47:14.807641Z"
    }
   },
   "outputs": [],
   "source": [
    "data.modelDate.unique()"
   ]
  },
  {
   "cell_type": "markdown",
   "metadata": {},
   "source": [
    "Теперь построим график распределения для наглядности:"
   ]
  },
  {
   "cell_type": "code",
   "execution_count": 48,
   "metadata": {
    "execution": {
     "iopub.execute_input": "2021-12-14T22:47:14.816872Z",
     "iopub.status.busy": "2021-12-14T22:47:14.816318Z",
     "iopub.status.idle": "2021-12-14T22:47:15.120190Z",
     "shell.execute_reply": "2021-12-14T22:47:15.117696Z",
     "shell.execute_reply.started": "2021-12-14T22:47:14.816834Z"
    }
   },
   "outputs": [],
   "source": [
    "data.modelDate.hist()"
   ]
  },
  {
   "cell_type": "markdown",
   "metadata": {},
   "source": [
    "Как мы видим, автомобили представленные в дата-сете, производились в промежутке с 1970 по 2019 год. Создадим новый признак, отражающий возраст модели:"
   ]
  },
  {
   "cell_type": "code",
   "execution_count": 49,
   "metadata": {
    "execution": {
     "iopub.execute_input": "2021-12-14T22:47:15.122286Z",
     "iopub.status.busy": "2021-12-14T22:47:15.121766Z",
     "iopub.status.idle": "2021-12-14T22:47:15.135692Z",
     "shell.execute_reply": "2021-12-14T22:47:15.134830Z",
     "shell.execute_reply.started": "2021-12-14T22:47:15.122244Z"
    }
   },
   "outputs": [],
   "source": [
    "data['model_time'] = datetime.now().year - data.modelDate"
   ]
  },
  {
   "cell_type": "markdown",
   "metadata": {},
   "source": [
    "Отнесем признак к числовым."
   ]
  },
  {
   "cell_type": "markdown",
   "metadata": {},
   "source": [
    "### 3.1.10 model_info"
   ]
  },
  {
   "cell_type": "markdown",
   "metadata": {},
   "source": [
    "Данный столбец отражает информацию о модели продаваемого автомобиля. Посмотрим количество уникальных значений:"
   ]
  },
  {
   "cell_type": "code",
   "execution_count": 50,
   "metadata": {
    "execution": {
     "iopub.execute_input": "2021-12-14T22:47:15.140727Z",
     "iopub.status.busy": "2021-12-14T22:47:15.140059Z",
     "iopub.status.idle": "2021-12-14T22:47:15.166773Z",
     "shell.execute_reply": "2021-12-14T22:47:15.165667Z",
     "shell.execute_reply.started": "2021-12-14T22:47:15.140650Z"
    }
   },
   "outputs": [],
   "source": [
    "data.model_info.value_counts()"
   ]
  },
  {
   "cell_type": "markdown",
   "metadata": {},
   "source": [
    "Мы имеем одну строчку без указания модели. Посмотрим, что это за строка:"
   ]
  },
  {
   "cell_type": "code",
   "execution_count": 51,
   "metadata": {
    "execution": {
     "iopub.execute_input": "2021-12-14T22:47:15.168543Z",
     "iopub.status.busy": "2021-12-14T22:47:15.168045Z",
     "iopub.status.idle": "2021-12-14T22:47:15.223945Z",
     "shell.execute_reply": "2021-12-14T22:47:15.222904Z",
     "shell.execute_reply.started": "2021-12-14T22:47:15.168503Z"
    }
   },
   "outputs": [],
   "source": [
    "data.loc[data['model_info'] == 'None']"
   ]
  },
  {
   "cell_type": "markdown",
   "metadata": {},
   "source": [
    "Видим, что это Mercedes-седан. Посмотрим, возможно в комментарии указана модель:"
   ]
  },
  {
   "cell_type": "code",
   "execution_count": 52,
   "metadata": {
    "execution": {
     "iopub.execute_input": "2021-12-14T22:47:15.230304Z",
     "iopub.status.busy": "2021-12-14T22:47:15.228114Z",
     "iopub.status.idle": "2021-12-14T22:47:15.239740Z",
     "shell.execute_reply": "2021-12-14T22:47:15.238671Z",
     "shell.execute_reply.started": "2021-12-14T22:47:15.230264Z"
    }
   },
   "outputs": [],
   "source": [
    "data.iloc[2803]['description']"
   ]
  },
  {
   "cell_type": "markdown",
   "metadata": {},
   "source": [
    "К сожалению, ничего не вышло. Но заполнять значением моды тоже не стоит, чтобы не \"придумать\" новую модель автомобиля. Оставим без изменений. Отнесем признак к категориальным."
   ]
  },
  {
   "cell_type": "markdown",
   "metadata": {},
   "source": [
    "### 3.1.11. name"
   ]
  },
  {
   "cell_type": "markdown",
   "metadata": {},
   "source": [
    "Столбец дублирует информацию из других столбцов. Единственное, что можно из него выделить - это наличие xDrive в автомобиле. Создадим новый признак:"
   ]
  },
  {
   "cell_type": "code",
   "execution_count": 53,
   "metadata": {
    "execution": {
     "iopub.execute_input": "2021-12-14T22:47:15.247168Z",
     "iopub.status.busy": "2021-12-14T22:47:15.244673Z",
     "iopub.status.idle": "2021-12-14T22:47:15.264711Z",
     "shell.execute_reply": "2021-12-14T22:47:15.263166Z",
     "shell.execute_reply.started": "2021-12-14T22:47:15.247127Z"
    }
   },
   "outputs": [],
   "source": [
    "data['xDrive'] = data['name'].apply(lambda x: 1 if 'xDrive' in x else 0)"
   ]
  },
  {
   "cell_type": "markdown",
   "metadata": {},
   "source": [
    "Посмотрим как распределен признак:"
   ]
  },
  {
   "cell_type": "code",
   "execution_count": 54,
   "metadata": {
    "execution": {
     "iopub.execute_input": "2021-12-14T22:47:15.266605Z",
     "iopub.status.busy": "2021-12-14T22:47:15.266167Z",
     "iopub.status.idle": "2021-12-14T22:47:15.422330Z",
     "shell.execute_reply": "2021-12-14T22:47:15.421448Z",
     "shell.execute_reply.started": "2021-12-14T22:47:15.266546Z"
    }
   },
   "outputs": [],
   "source": [
    "sns.countplot(x='xDrive', data=data)"
   ]
  },
  {
   "cell_type": "markdown",
   "metadata": {},
   "source": [
    "Как мы видим, большая часть представленных автомобилей не имеет xDrive. Отнесем к категориальным признакам."
   ]
  },
  {
   "cell_type": "markdown",
   "metadata": {},
   "source": [
    "### 3.1.12. numberOfDoors"
   ]
  },
  {
   "cell_type": "markdown",
   "metadata": {},
   "source": [
    "Признак содержит информацию о количестве дверей авто. Посмотрим на уникальные значения:"
   ]
  },
  {
   "cell_type": "code",
   "execution_count": 55,
   "metadata": {
    "execution": {
     "iopub.execute_input": "2021-12-14T22:47:15.424185Z",
     "iopub.status.busy": "2021-12-14T22:47:15.423634Z",
     "iopub.status.idle": "2021-12-14T22:47:15.434473Z",
     "shell.execute_reply": "2021-12-14T22:47:15.431753Z",
     "shell.execute_reply.started": "2021-12-14T22:47:15.424141Z"
    }
   },
   "outputs": [],
   "source": [
    "data.numberOfDoors.unique()"
   ]
  },
  {
   "cell_type": "markdown",
   "metadata": {},
   "source": [
    "Как видно, никаких значений, вызывающих сомнения, нет. Проверим распределение признака:"
   ]
  },
  {
   "cell_type": "code",
   "execution_count": 56,
   "metadata": {
    "execution": {
     "iopub.execute_input": "2021-12-14T22:47:15.438735Z",
     "iopub.status.busy": "2021-12-14T22:47:15.437647Z",
     "iopub.status.idle": "2021-12-14T22:47:15.631280Z",
     "shell.execute_reply": "2021-12-14T22:47:15.630479Z",
     "shell.execute_reply.started": "2021-12-14T22:47:15.438646Z"
    }
   },
   "outputs": [],
   "source": [
    "sns.countplot(x='numberOfDoors', data=data)"
   ]
  },
  {
   "cell_type": "markdown",
   "metadata": {},
   "source": [
    "Видим, что большая часть авто имеют 4 или 5 дверей. Отнесем к категориальным признакам."
   ]
  },
  {
   "cell_type": "markdown",
   "metadata": {},
   "source": [
    "### 3.1.13. productionDate"
   ]
  },
  {
   "cell_type": "markdown",
   "metadata": {},
   "source": [
    "Признак содержит информацию о годе производства авто. Проверим корреляцию между productionDate и modelDate:"
   ]
  },
  {
   "cell_type": "code",
   "execution_count": 57,
   "metadata": {
    "execution": {
     "iopub.execute_input": "2021-12-14T22:47:15.632905Z",
     "iopub.status.busy": "2021-12-14T22:47:15.632440Z",
     "iopub.status.idle": "2021-12-14T22:47:15.658054Z",
     "shell.execute_reply": "2021-12-14T22:47:15.657065Z",
     "shell.execute_reply.started": "2021-12-14T22:47:15.632868Z"
    }
   },
   "outputs": [],
   "source": [
    "data[['modelDate', 'productionDate']].corr()"
   ]
  },
  {
   "cell_type": "markdown",
   "metadata": {},
   "source": [
    "Корреляция очень высокая, значит один признак почти дублирует другой, а это может негативно сказаться на обучении. Во избежание этого, оставим только один из признаков, то есть modelDate, который мы добавили выше."
   ]
  },
  {
   "cell_type": "markdown",
   "metadata": {},
   "source": [
    "### 3.1.14. sell_id"
   ]
  },
  {
   "cell_type": "markdown",
   "metadata": {},
   "source": [
    "Этот признак нам в дальнейшем пригодится для того, чтобы находить изображения по идентификатору объявления. Для табличного обучения информативности не имеет."
   ]
  },
  {
   "cell_type": "markdown",
   "metadata": {},
   "source": [
    "### 3.1.15. vehicleConfiguration"
   ]
  },
  {
   "cell_type": "markdown",
   "metadata": {},
   "source": [
    "Столбец содержит информацию из других столбцов. Информативности не несет"
   ]
  },
  {
   "cell_type": "markdown",
   "metadata": {},
   "source": [
    "### 3.1.16. vehicleTransmission"
   ]
  },
  {
   "cell_type": "markdown",
   "metadata": {},
   "source": [
    "Признак содержит информацию о типе коробки передач, используемой в транспортном средстве. Проверим уникальные значения:"
   ]
  },
  {
   "cell_type": "code",
   "execution_count": 58,
   "metadata": {
    "execution": {
     "iopub.execute_input": "2021-12-14T22:47:15.664715Z",
     "iopub.status.busy": "2021-12-14T22:47:15.662220Z",
     "iopub.status.idle": "2021-12-14T22:47:15.677645Z",
     "shell.execute_reply": "2021-12-14T22:47:15.676650Z",
     "shell.execute_reply.started": "2021-12-14T22:47:15.664671Z"
    }
   },
   "outputs": [],
   "source": [
    "data.vehicleTransmission.unique()"
   ]
  },
  {
   "cell_type": "markdown",
   "metadata": {},
   "source": [
    "Посмотрим распределение признака:"
   ]
  },
  {
   "cell_type": "code",
   "execution_count": 59,
   "metadata": {
    "execution": {
     "iopub.execute_input": "2021-12-14T22:47:15.684140Z",
     "iopub.status.busy": "2021-12-14T22:47:15.681799Z",
     "iopub.status.idle": "2021-12-14T22:47:15.866819Z",
     "shell.execute_reply": "2021-12-14T22:47:15.865843Z",
     "shell.execute_reply.started": "2021-12-14T22:47:15.684096Z"
    }
   },
   "outputs": [],
   "source": [
    "sns.countplot(x='vehicleTransmission', data=data)"
   ]
  },
  {
   "cell_type": "markdown",
   "metadata": {},
   "source": [
    "Подавляющее большинство автомобилей имеют автоматическую коробку передач. Отнесем к категориальным признакам."
   ]
  },
  {
   "cell_type": "markdown",
   "metadata": {},
   "source": [
    "### 3.1.17. Владельцы"
   ]
  },
  {
   "cell_type": "markdown",
   "metadata": {},
   "source": [
    "Признак содержит информацию о количестве владельцев авто. Посмотрим пропуски:"
   ]
  },
  {
   "cell_type": "code",
   "execution_count": 60,
   "metadata": {
    "execution": {
     "iopub.execute_input": "2021-12-14T22:47:15.874132Z",
     "iopub.status.busy": "2021-12-14T22:47:15.871530Z",
     "iopub.status.idle": "2021-12-14T22:47:15.889480Z",
     "shell.execute_reply": "2021-12-14T22:47:15.888256Z",
     "shell.execute_reply.started": "2021-12-14T22:47:15.874080Z"
    }
   },
   "outputs": [],
   "source": [
    "data.Владельцы.isna().sum()"
   ]
  },
  {
   "cell_type": "markdown",
   "metadata": {},
   "source": [
    "Всего один пропуск. Посмотрим, что это за строка:"
   ]
  },
  {
   "cell_type": "code",
   "execution_count": 61,
   "metadata": {
    "execution": {
     "iopub.execute_input": "2021-12-14T22:47:15.897424Z",
     "iopub.status.busy": "2021-12-14T22:47:15.894792Z",
     "iopub.status.idle": "2021-12-14T22:47:15.943581Z",
     "shell.execute_reply": "2021-12-14T22:47:15.942549Z",
     "shell.execute_reply.started": "2021-12-14T22:47:15.897355Z"
    }
   },
   "outputs": [],
   "source": [
    "data[data['Владельцы'].isnull()]"
   ]
  },
  {
   "cell_type": "markdown",
   "metadata": {},
   "source": [
    "Посмотрим описание, возможно там указано, сколько было владельцев:"
   ]
  },
  {
   "cell_type": "code",
   "execution_count": 62,
   "metadata": {
    "execution": {
     "iopub.execute_input": "2021-12-14T22:47:15.951015Z",
     "iopub.status.busy": "2021-12-14T22:47:15.948399Z",
     "iopub.status.idle": "2021-12-14T22:47:15.964032Z",
     "shell.execute_reply": "2021-12-14T22:47:15.962681Z",
     "shell.execute_reply.started": "2021-12-14T22:47:15.950962Z"
    }
   },
   "outputs": [],
   "source": [
    "data.iloc[6665]['description']"
   ]
  },
  {
   "cell_type": "markdown",
   "metadata": {},
   "source": [
    "К сожалению, комментарий оказался неинформативен. Заполним значение модой:"
   ]
  },
  {
   "cell_type": "code",
   "execution_count": 63,
   "metadata": {
    "execution": {
     "iopub.execute_input": "2021-12-14T22:47:15.970307Z",
     "iopub.status.busy": "2021-12-14T22:47:15.968497Z",
     "iopub.status.idle": "2021-12-14T22:47:16.002613Z",
     "shell.execute_reply": "2021-12-14T22:47:15.997697Z",
     "shell.execute_reply.started": "2021-12-14T22:47:15.970263Z"
    }
   },
   "outputs": [],
   "source": [
    "data.Владельцы = data.Владельцы.apply(\n",
    "    lambda x: data.Владельцы.mode()[0] if pd.isna(x) else x)"
   ]
  },
  {
   "cell_type": "markdown",
   "metadata": {},
   "source": [
    "Посмотрим результат:"
   ]
  },
  {
   "cell_type": "code",
   "execution_count": 64,
   "metadata": {
    "execution": {
     "iopub.execute_input": "2021-12-14T22:47:16.005684Z",
     "iopub.status.busy": "2021-12-14T22:47:16.005264Z",
     "iopub.status.idle": "2021-12-14T22:47:16.023267Z",
     "shell.execute_reply": "2021-12-14T22:47:16.022360Z",
     "shell.execute_reply.started": "2021-12-14T22:47:16.005644Z"
    }
   },
   "outputs": [],
   "source": [
    "data.Владельцы.isna().sum()"
   ]
  },
  {
   "cell_type": "markdown",
   "metadata": {},
   "source": [
    "Как мы видим, пропущенное значение заполнилось значением моды для этого столбца. Теперь оставим только числовые значения и приведем к числовому виду столбец:"
   ]
  },
  {
   "cell_type": "code",
   "execution_count": 65,
   "metadata": {
    "execution": {
     "iopub.execute_input": "2021-12-14T22:47:16.027717Z",
     "iopub.status.busy": "2021-12-14T22:47:16.026708Z",
     "iopub.status.idle": "2021-12-14T22:47:16.050237Z",
     "shell.execute_reply": "2021-12-14T22:47:16.049453Z",
     "shell.execute_reply.started": "2021-12-14T22:47:16.027672Z"
    }
   },
   "outputs": [],
   "source": [
    "data['Владельцы'] = data['Владельцы'].apply(\n",
    "    lambda x: int(x[0])).astype('int32')"
   ]
  },
  {
   "cell_type": "markdown",
   "metadata": {},
   "source": [
    "Посмотрим распределение:"
   ]
  },
  {
   "cell_type": "code",
   "execution_count": 66,
   "metadata": {
    "execution": {
     "iopub.execute_input": "2021-12-14T22:47:16.056466Z",
     "iopub.status.busy": "2021-12-14T22:47:16.054046Z",
     "iopub.status.idle": "2021-12-14T22:47:16.288965Z",
     "shell.execute_reply": "2021-12-14T22:47:16.287874Z",
     "shell.execute_reply.started": "2021-12-14T22:47:16.056408Z"
    }
   },
   "outputs": [],
   "source": [
    "data.Владельцы.hist()"
   ]
  },
  {
   "cell_type": "markdown",
   "metadata": {},
   "source": [
    "Видно что автомобили с 3 владельцами немного преобладают над всеми остальными, но не сильно. Отнесем признак к категориальным."
   ]
  },
  {
   "cell_type": "markdown",
   "metadata": {},
   "source": [
    "### 3.1.18. Владение"
   ]
  },
  {
   "cell_type": "markdown",
   "metadata": {},
   "source": [
    "Данный столбец отражает,сколько времени продавец владеет автомобилем. Посмотрим, сколько пропусков в данном столбце:"
   ]
  },
  {
   "cell_type": "code",
   "execution_count": 67,
   "metadata": {
    "execution": {
     "iopub.execute_input": "2021-12-14T22:47:16.291338Z",
     "iopub.status.busy": "2021-12-14T22:47:16.290499Z",
     "iopub.status.idle": "2021-12-14T22:47:16.302122Z",
     "shell.execute_reply": "2021-12-14T22:47:16.300732Z",
     "shell.execute_reply.started": "2021-12-14T22:47:16.291285Z"
    }
   },
   "outputs": [],
   "source": [
    "data.Владение.isna().sum()"
   ]
  },
  {
   "cell_type": "markdown",
   "metadata": {},
   "source": [
    "Посмотрим соотношение пропусков ко всему дата-сету:"
   ]
  },
  {
   "cell_type": "code",
   "execution_count": 68,
   "metadata": {
    "execution": {
     "iopub.execute_input": "2021-12-14T22:47:16.305088Z",
     "iopub.status.busy": "2021-12-14T22:47:16.304303Z",
     "iopub.status.idle": "2021-12-14T22:47:16.316324Z",
     "shell.execute_reply": "2021-12-14T22:47:16.315081Z",
     "shell.execute_reply.started": "2021-12-14T22:47:16.305037Z"
    }
   },
   "outputs": [],
   "source": [
    "data.Владение.isna().sum()/len(data.Владение)*100"
   ]
  },
  {
   "cell_type": "markdown",
   "metadata": {},
   "source": [
    "Как видно, пропусков почти 65% дата-сета. Заполнение их каким-либо одним значением сыграет только плохую роль. Лучше данный столбец вообще не включать в обучение."
   ]
  },
  {
   "cell_type": "markdown",
   "metadata": {},
   "source": [
    "### 3.1.19. ПТС"
   ]
  },
  {
   "cell_type": "markdown",
   "metadata": {},
   "source": [
    "Данный признак содержит информацию о ПТС автомобиля. Проверим уникальные значения:"
   ]
  },
  {
   "cell_type": "code",
   "execution_count": 69,
   "metadata": {
    "execution": {
     "iopub.execute_input": "2021-12-14T22:47:16.318930Z",
     "iopub.status.busy": "2021-12-14T22:47:16.318230Z",
     "iopub.status.idle": "2021-12-14T22:47:16.328080Z",
     "shell.execute_reply": "2021-12-14T22:47:16.326953Z",
     "shell.execute_reply.started": "2021-12-14T22:47:16.318883Z"
    }
   },
   "outputs": [],
   "source": [
    "data.ПТС.unique()"
   ]
  },
  {
   "cell_type": "markdown",
   "metadata": {},
   "source": [
    "Выведем график распределения признака:"
   ]
  },
  {
   "cell_type": "code",
   "execution_count": 70,
   "metadata": {
    "execution": {
     "iopub.execute_input": "2021-12-14T22:47:16.330732Z",
     "iopub.status.busy": "2021-12-14T22:47:16.329936Z",
     "iopub.status.idle": "2021-12-14T22:47:16.466559Z",
     "shell.execute_reply": "2021-12-14T22:47:16.465559Z",
     "shell.execute_reply.started": "2021-12-14T22:47:16.330643Z"
    }
   },
   "outputs": [],
   "source": [
    "data.ПТС.hist()"
   ]
  },
  {
   "cell_type": "markdown",
   "metadata": {},
   "source": [
    "Как видно из распределения - большая часть продавцов имеет оригинал ПТС. Пропусков не наблюдается. Отнесем признак к категориальным."
   ]
  },
  {
   "cell_type": "markdown",
   "metadata": {},
   "source": [
    "### 3.1.20. Привод"
   ]
  },
  {
   "cell_type": "markdown",
   "metadata": {},
   "source": [
    "Признак содержит информацию о том, какой привод у транспортного средства. Посмотрим график распределения признака:"
   ]
  },
  {
   "cell_type": "code",
   "execution_count": 71,
   "metadata": {
    "execution": {
     "iopub.execute_input": "2021-12-14T22:47:16.469272Z",
     "iopub.status.busy": "2021-12-14T22:47:16.468653Z",
     "iopub.status.idle": "2021-12-14T22:47:16.593050Z",
     "shell.execute_reply": "2021-12-14T22:47:16.591974Z",
     "shell.execute_reply.started": "2021-12-14T22:47:16.469223Z"
    }
   },
   "outputs": [],
   "source": [
    "sns.countplot(x='Привод', data=data)"
   ]
  },
  {
   "cell_type": "markdown",
   "metadata": {},
   "source": [
    "Видно, что большинство автомобилей имеют полный привод. Пропусков нет, отнесем признак к категориальным."
   ]
  },
  {
   "cell_type": "markdown",
   "metadata": {},
   "source": [
    "### 3.1.21. Руль"
   ]
  },
  {
   "cell_type": "markdown",
   "metadata": {},
   "source": [
    "Признак отражает положение руля в автомобиле. Посмотрим распределение признака:"
   ]
  },
  {
   "cell_type": "code",
   "execution_count": 72,
   "metadata": {
    "execution": {
     "iopub.execute_input": "2021-12-14T22:47:16.595654Z",
     "iopub.status.busy": "2021-12-14T22:47:16.595180Z",
     "iopub.status.idle": "2021-12-14T22:47:16.711047Z",
     "shell.execute_reply": "2021-12-14T22:47:16.710145Z",
     "shell.execute_reply.started": "2021-12-14T22:47:16.595606Z"
    }
   },
   "outputs": [],
   "source": [
    "sns.countplot(x='Руль', data=data)"
   ]
  },
  {
   "cell_type": "markdown",
   "metadata": {},
   "source": [
    "Почти все автомобили имеют левый руль, пропусков нет. Отнесем признак к категориальным."
   ]
  },
  {
   "cell_type": "markdown",
   "metadata": {},
   "source": [
    "### 3.1.22. Целевой признак - price"
   ]
  },
  {
   "cell_type": "markdown",
   "metadata": {},
   "source": [
    "Искомый признак, отражающий стоимость автомобиля. Присутствует только в тренировочной выборке. Посмотрим, в каком виде представлена цена:"
   ]
  },
  {
   "cell_type": "code",
   "execution_count": 73,
   "metadata": {
    "execution": {
     "iopub.execute_input": "2021-12-14T22:47:16.712921Z",
     "iopub.status.busy": "2021-12-14T22:47:16.712370Z",
     "iopub.status.idle": "2021-12-14T22:47:16.721230Z",
     "shell.execute_reply": "2021-12-14T22:47:16.720553Z",
     "shell.execute_reply.started": "2021-12-14T22:47:16.712882Z"
    }
   },
   "outputs": [],
   "source": [
    "data.iloc[6665]['price']"
   ]
  },
  {
   "cell_type": "markdown",
   "metadata": {},
   "source": [
    "Мусор отсутствует, теперь посмотрим график распределения целевого признака:"
   ]
  },
  {
   "cell_type": "code",
   "execution_count": 74,
   "metadata": {
    "execution": {
     "iopub.execute_input": "2021-12-14T22:47:16.723395Z",
     "iopub.status.busy": "2021-12-14T22:47:16.722724Z",
     "iopub.status.idle": "2021-12-14T22:47:17.125286Z",
     "shell.execute_reply": "2021-12-14T22:47:17.124175Z",
     "shell.execute_reply.started": "2021-12-14T22:47:16.723255Z"
    }
   },
   "outputs": [],
   "source": [
    "plt.figure(figsize=(10, 3))\n",
    "plt.subplot(1, 2, 1)\n",
    "plt.title(f\"Распределение столбца {'price'}\")\n",
    "sns.distplot((data[data['sample'] == 1]['price']), bins=50)\n",
    "\n",
    "plt.subplot(1, 2, 2)\n",
    "sns.boxplot(data['price'])\n",
    "plt.xlabel('Price')\n",
    "plt.title(f\"Боксплот столбца {'price'}\", fontsize=12)\n",
    "plt.show()\n",
    "data.price.describe()"
   ]
  },
  {
   "cell_type": "markdown",
   "metadata": {},
   "source": [
    "Видно, что данные сильно смещены влево. Посмотрим, как будет себя весть признак после логарифмирования:"
   ]
  },
  {
   "cell_type": "code",
   "execution_count": 75,
   "metadata": {
    "execution": {
     "iopub.execute_input": "2021-12-14T22:47:17.127080Z",
     "iopub.status.busy": "2021-12-14T22:47:17.126677Z",
     "iopub.status.idle": "2021-12-14T22:47:17.454230Z",
     "shell.execute_reply": "2021-12-14T22:47:17.453367Z",
     "shell.execute_reply.started": "2021-12-14T22:47:17.127039Z"
    }
   },
   "outputs": [],
   "source": [
    "plt.figure(figsize=(10, 3))\n",
    "plt.subplot(1, 2, 1)\n",
    "plt.title(f\"Распределение после log.{'price'} \")\n",
    "sns.distplot(np.log(data[data['sample'] == 1]['price']), bins=50)\n",
    "\n",
    "plt.subplot(1, 2, 2)\n",
    "sns.boxplot(np.log(data[data['sample'] == 1]['price']))\n",
    "plt.xlabel('Price')\n",
    "plt.title('Боксплот после log.price', fontsize=12)\n",
    "plt.show()"
   ]
  },
  {
   "cell_type": "markdown",
   "metadata": {},
   "source": [
    "Распределение стало более центрированным, что хорошо. Выбросы трогать не будем, так как стоимость автомобиля указывает владелец, то есть она может быть довольно (а иногда - необоснованно) высокой.\n",
    "\n",
    "Теперь посмотрим зависимости некоторых столбцов от целевого:"
   ]
  },
  {
   "cell_type": "code",
   "execution_count": 76,
   "metadata": {
    "execution": {
     "iopub.execute_input": "2021-12-14T22:47:17.456166Z",
     "iopub.status.busy": "2021-12-14T22:47:17.455590Z",
     "iopub.status.idle": "2021-12-14T22:47:18.170295Z",
     "shell.execute_reply": "2021-12-14T22:47:18.169441Z",
     "shell.execute_reply.started": "2021-12-14T22:47:17.456120Z"
    }
   },
   "outputs": [],
   "source": [
    "plt.figure(figsize=(10, 5))\n",
    "plt.scatter((data.price), data.model_time)"
   ]
  },
  {
   "cell_type": "markdown",
   "metadata": {},
   "source": [
    "Из распределения видно, что чем более \"свежий\" автомобиль, тем выше на него цена. Но опять же, некоторые более старые автомобили могут стоить дорого из-за раритетности. Посмотрим также зависимость от привода:"
   ]
  },
  {
   "cell_type": "code",
   "execution_count": 77,
   "metadata": {
    "execution": {
     "iopub.execute_input": "2021-12-14T22:47:18.172038Z",
     "iopub.status.busy": "2021-12-14T22:47:18.171555Z",
     "iopub.status.idle": "2021-12-14T22:47:18.842827Z",
     "shell.execute_reply": "2021-12-14T22:47:18.841783Z",
     "shell.execute_reply.started": "2021-12-14T22:47:18.171998Z"
    }
   },
   "outputs": [],
   "source": [
    "plt.figure(figsize=(8, 5))\n",
    "plt.scatter((data.price), data.Привод)"
   ]
  },
  {
   "cell_type": "markdown",
   "metadata": {},
   "source": [
    "Опять же, из распределения хорошо видно, что наиболее высокая цена у полного привода, что логично."
   ]
  },
  {
   "cell_type": "markdown",
   "metadata": {},
   "source": [
    "Теперь сформируем перечень категориальных и числовых признаков:"
   ]
  },
  {
   "cell_type": "code",
   "execution_count": 78,
   "metadata": {
    "execution": {
     "iopub.execute_input": "2021-12-14T22:47:18.844635Z",
     "iopub.status.busy": "2021-12-14T22:47:18.844037Z",
     "iopub.status.idle": "2021-12-14T22:47:18.850870Z",
     "shell.execute_reply": "2021-12-14T22:47:18.849729Z",
     "shell.execute_reply.started": "2021-12-14T22:47:18.844590Z"
    }
   },
   "outputs": [],
   "source": [
    "# используем все текстовые признаки как категориальные без предобработки\n",
    "cat_features = ['bodyType', 'brand', 'color', 'fuelType', 'model_info',\n",
    "                'numberOfDoors', 'vehicleTransmission', 'Владельцы', 'ПТС', 'Привод', 'Руль', 'xDrive']\n",
    "\n",
    "# числовые признаки\n",
    "num_features = ['mileage', 'modelDate', 'model_time',\n",
    "                'engineDisplacement', 'enginePower', 'comment_length']"
   ]
  },
  {
   "cell_type": "markdown",
   "metadata": {},
   "source": [
    "Необходимо посмотреть корреляционную зависимость наших признаков:"
   ]
  },
  {
   "cell_type": "code",
   "execution_count": 79,
   "metadata": {
    "execution": {
     "iopub.execute_input": "2021-12-14T22:47:18.853240Z",
     "iopub.status.busy": "2021-12-14T22:47:18.852490Z",
     "iopub.status.idle": "2021-12-14T22:47:19.461658Z",
     "shell.execute_reply": "2021-12-14T22:47:19.460759Z",
     "shell.execute_reply.started": "2021-12-14T22:47:18.853094Z"
    }
   },
   "outputs": [],
   "source": [
    "plt.figure(figsize=(12, 7))\n",
    "sns.heatmap(data[data['sample'] == 1]\n",
    "            [num_features + ['price']].corr(), annot=True)"
   ]
  },
  {
   "cell_type": "markdown",
   "metadata": {},
   "source": [
    "Как видно из корреляционной матрицы, есть сильная обратная зависимость между признаками model_time и modelDate. Нейронная сеть simple dense NN очень сильно теряет в MAPE, если убрать хотя бы один из признаков. В рамках эксперимента я поменеял modelDate на productionDate. Корреляция упала с -1 до -0.964, что уже дает хоть какой-то результат. При этом catBoost и DNN стали вести себя гораздо лучше (прогресс со 107 места leaderboard'a на 41). В итоге было решено добавить вместо modelDate в числовые фичи productionDate. Ниже представлена их корреляция и изменение столбца num_features."
   ]
  },
  {
   "cell_type": "code",
   "execution_count": 80,
   "metadata": {
    "execution": {
     "iopub.execute_input": "2021-12-14T22:47:19.463639Z",
     "iopub.status.busy": "2021-12-14T22:47:19.463275Z",
     "iopub.status.idle": "2021-12-14T22:47:19.478876Z",
     "shell.execute_reply": "2021-12-14T22:47:19.478204Z",
     "shell.execute_reply.started": "2021-12-14T22:47:19.463601Z"
    }
   },
   "outputs": [],
   "source": [
    "data[['model_time', 'productionDate']].corr()"
   ]
  },
  {
   "cell_type": "code",
   "execution_count": 81,
   "metadata": {
    "execution": {
     "iopub.execute_input": "2021-12-14T22:47:19.480982Z",
     "iopub.status.busy": "2021-12-14T22:47:19.480421Z",
     "iopub.status.idle": "2021-12-14T22:47:19.485411Z",
     "shell.execute_reply": "2021-12-14T22:47:19.484532Z",
     "shell.execute_reply.started": "2021-12-14T22:47:19.480932Z"
    }
   },
   "outputs": [],
   "source": [
    "# числовые признаки\n",
    "num_features = ['mileage', 'model_time', 'productionDate',\n",
    "                'engineDisplacement', 'enginePower', 'comment_length']"
   ]
  },
  {
   "cell_type": "markdown",
   "metadata": {},
   "source": [
    "Теперь напишем функцию для финального этапа обработки данных:"
   ]
  },
  {
   "cell_type": "code",
   "execution_count": 82,
   "metadata": {
    "execution": {
     "iopub.execute_input": "2021-12-14T22:47:19.487497Z",
     "iopub.status.busy": "2021-12-14T22:47:19.486936Z",
     "iopub.status.idle": "2021-12-14T22:47:19.497842Z",
     "shell.execute_reply": "2021-12-14T22:47:19.496933Z",
     "shell.execute_reply.started": "2021-12-14T22:47:19.487453Z"
    }
   },
   "outputs": [],
   "source": [
    "def preproc_data(df_input):\n",
    "\n",
    "    df_output = df_input.copy()\n",
    "\n",
    "    # Удалим неиспользуемые столбцы\n",
    "    df_output.drop(['description', 'sell_id', 'vehicleConfiguration',\n",
    "                    'Владение', 'name', 'modelDate'], axis=1, inplace=True)\n",
    "\n",
    "    ############################### Нормализация ####################################################################\n",
    "\n",
    "    scaler = RobustScaler()  # показал наилучший результат из всех scaler'ов\n",
    "    for column in num_features:\n",
    "        df_output[column] = scaler.fit_transform(df_output[[column]])[:, 0]\n",
    "\n",
    "    #################### Работа с категориальными признаками ############################################################\n",
    "    # Label Encoding\n",
    "    for column in cat_features:\n",
    "        df_output[column], _ = pd.factorize(df_output[column])\n",
    "\n",
    "    # One-Hot Encoding:\n",
    "    df_output = pd.get_dummies(\n",
    "        df_output, columns=cat_features, dummy_na=False)\n",
    "\n",
    "    return df_output"
   ]
  },
  {
   "cell_type": "markdown",
   "metadata": {},
   "source": [
    "Применим полученную функцию для предобработки наших данных:"
   ]
  },
  {
   "cell_type": "code",
   "execution_count": 83,
   "metadata": {
    "execution": {
     "iopub.execute_input": "2021-12-14T22:47:19.499947Z",
     "iopub.status.busy": "2021-12-14T22:47:19.499315Z",
     "iopub.status.idle": "2021-12-14T22:47:19.583401Z",
     "shell.execute_reply": "2021-12-14T22:47:19.582601Z",
     "shell.execute_reply.started": "2021-12-14T22:47:19.499886Z"
    }
   },
   "outputs": [],
   "source": [
    "# Запускаем и проверяем, что получилось\n",
    "df_preproc = preproc_data(data)\n",
    "df_preproc.sample(10)"
   ]
  },
  {
   "cell_type": "markdown",
   "metadata": {},
   "source": [
    "Теперь, когда мы провели предобработку данных, можно приступать к формированию обучающей и валидационной выборок и исследованию различных моделей "
   ]
  },
  {
   "cell_type": "markdown",
   "metadata": {},
   "source": [
    "## 3.2. Split data"
   ]
  },
  {
   "cell_type": "markdown",
   "metadata": {},
   "source": [
    "Разделим данные обратно на тестовую и обучающую выборки:"
   ]
  },
  {
   "cell_type": "code",
   "execution_count": 84,
   "metadata": {
    "execution": {
     "iopub.execute_input": "2021-12-14T22:47:19.585169Z",
     "iopub.status.busy": "2021-12-14T22:47:19.584637Z",
     "iopub.status.idle": "2021-12-14T22:47:19.618179Z",
     "shell.execute_reply": "2021-12-14T22:47:19.617550Z",
     "shell.execute_reply.started": "2021-12-14T22:47:19.585129Z"
    }
   },
   "outputs": [],
   "source": [
    "# Теперь выделим тестовую часть\n",
    "train_data = df_preproc.query('sample == 1').drop(['sample'], axis=1)\n",
    "test_data = df_preproc.query('sample == 0').drop(['sample'], axis=1)\n",
    "\n",
    "y = train_data.price.values     # наш таргет\n",
    "X = train_data.drop(['price'], axis=1)\n",
    "X_sub = test_data.drop(['price'], axis=1)"
   ]
  },
  {
   "cell_type": "markdown",
   "metadata": {},
   "source": [
    "Посмотрим правильно ли все разделилось:"
   ]
  },
  {
   "cell_type": "code",
   "execution_count": 85,
   "metadata": {
    "execution": {
     "iopub.execute_input": "2021-12-14T22:47:19.620047Z",
     "iopub.status.busy": "2021-12-14T22:47:19.619654Z",
     "iopub.status.idle": "2021-12-14T22:47:19.635101Z",
     "shell.execute_reply": "2021-12-14T22:47:19.634191Z",
     "shell.execute_reply.started": "2021-12-14T22:47:19.620010Z"
    }
   },
   "outputs": [],
   "source": [
    "test_data.info()"
   ]
  },
  {
   "cell_type": "markdown",
   "metadata": {},
   "source": [
    "Если посмотреть в самое начало, то мы увидим, что правильно: 1671 строка."
   ]
  },
  {
   "cell_type": "markdown",
   "metadata": {},
   "source": [
    "Теперь создадим первую не \"наивную\" модель на основе CatBoost."
   ]
  },
  {
   "cell_type": "markdown",
   "metadata": {},
   "source": [
    "# 4. Model 2: CatBoostRegressor"
   ]
  },
  {
   "cell_type": "markdown",
   "metadata": {},
   "source": [
    "Разделим наш train на обучающую и валидационную выборки:"
   ]
  },
  {
   "cell_type": "code",
   "execution_count": 86,
   "metadata": {
    "execution": {
     "iopub.execute_input": "2021-12-14T22:47:19.637110Z",
     "iopub.status.busy": "2021-12-14T22:47:19.636504Z",
     "iopub.status.idle": "2021-12-14T22:47:19.649004Z",
     "shell.execute_reply": "2021-12-14T22:47:19.648173Z",
     "shell.execute_reply.started": "2021-12-14T22:47:19.637038Z"
    }
   },
   "outputs": [],
   "source": [
    "X_train, X_test, y_train, y_test = train_test_split(\n",
    "    X, y, test_size=0.15, shuffle=True, random_state=RANDOM_SEED)"
   ]
  },
  {
   "cell_type": "markdown",
   "metadata": {},
   "source": [
    "Теперь обучим наш CatBoosRegressor:"
   ]
  },
  {
   "cell_type": "code",
   "execution_count": 87,
   "metadata": {
    "_kg_hide-output": true,
    "execution": {
     "iopub.execute_input": "2021-12-14T22:47:19.650917Z",
     "iopub.status.busy": "2021-12-14T22:47:19.650426Z",
     "iopub.status.idle": "2021-12-14T22:47:39.387476Z",
     "shell.execute_reply": "2021-12-14T22:47:39.386078Z",
     "shell.execute_reply.started": "2021-12-14T22:47:19.650875Z"
    }
   },
   "outputs": [],
   "source": [
    "model = CatBoostRegressor(iterations=6000,  # Количество итераций\n",
    "                          # depth=10,\n",
    "                          #learning_rate = 0.01,\n",
    "                          random_seed=RANDOM_SEED,\n",
    "                          eval_metric='MAPE',\n",
    "                          custom_metric=['RMSE', 'MAE'],\n",
    "                          od_wait=500,  # Прерывает выполнение, если нет улучшения 500 итераций\n",
    "                          # task_type='GPU',\n",
    "                          )\n",
    "# обучим модель\n",
    "model.fit(X_train, np.log(y_train),\n",
    "          eval_set=(X_test, np.log(y_test)),\n",
    "          verbose_eval=100,\n",
    "          use_best_model=True,\n",
    "          # plot=True\n",
    "          )"
   ]
  },
  {
   "cell_type": "markdown",
   "metadata": {},
   "source": [
    "Посмотрим, какая у нас получилась метрика:"
   ]
  },
  {
   "cell_type": "code",
   "execution_count": 88,
   "metadata": {
    "execution": {
     "iopub.execute_input": "2021-12-14T22:47:39.389365Z",
     "iopub.status.busy": "2021-12-14T22:47:39.388949Z",
     "iopub.status.idle": "2021-12-14T22:47:39.412223Z",
     "shell.execute_reply": "2021-12-14T22:47:39.411191Z",
     "shell.execute_reply.started": "2021-12-14T22:47:39.389332Z"
    }
   },
   "outputs": [],
   "source": [
    "test_predict_catboost = np.exp(model.predict(X_test))\n",
    "print(f\"TEST mape: {(mape(y_test, test_predict_catboost))*100:0.2f}%\")"
   ]
  },
  {
   "cell_type": "markdown",
   "metadata": {},
   "source": [
    "Пробовал различные варианты обучения:\n",
    "* без логарифмирования target'a и использовании modelDate вместо productionDate MAPE ~ 15%\n",
    "* с измененным learning rate MAPE ухудшается на ~1% (исследовались lr=0.01, lr=0.005,lr=0.001)\n",
    "* Различные соотношения тестовой и тренировочной выборки"
   ]
  },
  {
   "cell_type": "markdown",
   "metadata": {},
   "source": [
    "### Submission"
   ]
  },
  {
   "cell_type": "markdown",
   "metadata": {},
   "source": [
    "Создадим сабмит:"
   ]
  },
  {
   "cell_type": "code",
   "execution_count": 89,
   "metadata": {
    "execution": {
     "iopub.execute_input": "2021-12-14T22:47:39.413989Z",
     "iopub.status.busy": "2021-12-14T22:47:39.413594Z",
     "iopub.status.idle": "2021-12-14T22:47:39.744461Z",
     "shell.execute_reply": "2021-12-14T22:47:39.743692Z",
     "shell.execute_reply.started": "2021-12-14T22:47:39.413948Z"
    }
   },
   "outputs": [],
   "source": [
    "sub_predict_catboost = np.exp(model.predict(X_sub))\n",
    "sample_submission['price'] = sub_predict_catboost\n",
    "sample_submission.to_csv('cat_sub.csv', index=False)"
   ]
  },
  {
   "cell_type": "markdown",
   "metadata": {},
   "source": [
    "По итогам сабмита получили MAPE порядка 11.86%. Предыдущий сабмит был сделан с другим используемым в num_features столбцом и его MAPE была почти на процент хуже."
   ]
  },
  {
   "cell_type": "markdown",
   "metadata": {},
   "source": [
    "Уже на данном этапе мы получили результат, который лучше значения baseline. Возможно, если провести еще более детальную предобработку данных и выделить больше фич, которые могут помочь, то метрика улучшится еще сильнее. Также, вероятно, она улучшится, если найти способ побороть высокую корреляцию между некоторыми столбцами.\n",
    "\n",
    "Тем не менее, результат вышел довольно неплохой, хотя при этом мы используем далеко не все столбцы, которые могли бы. В дальнейшем попробуем исправить это упущение, а сейчас перейдем к варианту обработки данных при помощи табличной нейронной сети."
   ]
  },
  {
   "cell_type": "markdown",
   "metadata": {},
   "source": [
    "# 5. Model 3: Табличная нейронная сеть"
   ]
  },
  {
   "cell_type": "markdown",
   "metadata": {},
   "source": [
    "Проверим наш обучающий дата-сет:"
   ]
  },
  {
   "cell_type": "code",
   "execution_count": 90,
   "metadata": {
    "execution": {
     "iopub.execute_input": "2021-12-14T22:47:39.746097Z",
     "iopub.status.busy": "2021-12-14T22:47:39.745753Z",
     "iopub.status.idle": "2021-12-14T22:47:39.775524Z",
     "shell.execute_reply": "2021-12-14T22:47:39.774645Z",
     "shell.execute_reply.started": "2021-12-14T22:47:39.746063Z"
    }
   },
   "outputs": [],
   "source": [
    "X_train.head(5)"
   ]
  },
  {
   "cell_type": "markdown",
   "metadata": {},
   "source": [
    "### 5.1. Simple Dense NN"
   ]
  },
  {
   "cell_type": "markdown",
   "metadata": {},
   "source": [
    "Создадим простую Dense сеть.\n",
    "\n",
    "На данном этапе было перепробовано несколько подходов с различным количеством и размером dense-слоев, функциями активации, количеством dropout-слоев. Наиболее удачным оказался вариант с активацией relu всех dense-слоев и kernel-регуляризацией. были исследованы другие способы регуляризации, но результат получался хуже.\n",
    "\n",
    "Финальный вариант исследуемой сети представлен ниже:"
   ]
  },
  {
   "cell_type": "code",
   "execution_count": 91,
   "metadata": {
    "execution": {
     "iopub.execute_input": "2021-12-14T22:47:39.778821Z",
     "iopub.status.busy": "2021-12-14T22:47:39.778504Z",
     "iopub.status.idle": "2021-12-14T22:47:41.792051Z",
     "shell.execute_reply": "2021-12-14T22:47:41.791145Z",
     "shell.execute_reply.started": "2021-12-14T22:47:39.778792Z"
    }
   },
   "outputs": [],
   "source": [
    "model = Sequential()\n",
    "model.add(L.Dense(512, input_dim=X_train.shape[1], activation=\"relu\"))\n",
    "model.add(L.Dropout(0.5))\n",
    "model.add(L.Dense(256, kernel_regularizer=regularizers.l2(\n",
    "    l2=1e-6), activation=\"relu\"))\n",
    "model.add(L.Dropout(0.5))\n",
    "model.add(L.Dense(128, kernel_regularizer=regularizers.l2(\n",
    "    l2=1e-5), activation=\"relu\"))\n",
    "model.add(L.Dropout(0.25))\n",
    "model.add(L.Dense(1, activation=\"linear\"))"
   ]
  },
  {
   "cell_type": "markdown",
   "metadata": {},
   "source": [
    "Посмотрим структуру модели:"
   ]
  },
  {
   "cell_type": "code",
   "execution_count": 92,
   "metadata": {
    "execution": {
     "iopub.execute_input": "2021-12-14T22:47:41.793747Z",
     "iopub.status.busy": "2021-12-14T22:47:41.793284Z",
     "iopub.status.idle": "2021-12-14T22:47:41.804420Z",
     "shell.execute_reply": "2021-12-14T22:47:41.803259Z",
     "shell.execute_reply.started": "2021-12-14T22:47:41.793710Z"
    }
   },
   "outputs": [],
   "source": [
    "model.summary()"
   ]
  },
  {
   "cell_type": "markdown",
   "metadata": {},
   "source": [
    "Укажем оптимизатор с скоростью обучения 0.005 и скомпилируем модель:"
   ]
  },
  {
   "cell_type": "code",
   "execution_count": 93,
   "metadata": {
    "execution": {
     "iopub.execute_input": "2021-12-14T22:47:41.806930Z",
     "iopub.status.busy": "2021-12-14T22:47:41.806381Z",
     "iopub.status.idle": "2021-12-14T22:47:41.822975Z",
     "shell.execute_reply": "2021-12-14T22:47:41.822114Z",
     "shell.execute_reply.started": "2021-12-14T22:47:41.806893Z"
    }
   },
   "outputs": [],
   "source": [
    "# Compile model\n",
    "optimizer = tf.keras.optimizers.Adam(0.005)\n",
    "model.compile(loss='MAPE', optimizer=optimizer, metrics=['MAPE'])"
   ]
  },
  {
   "cell_type": "markdown",
   "metadata": {},
   "source": [
    "Пропишем наши коллбеки:\n",
    "* earlystop - Для прерывания обучения в случае, когда нет положительного результата на протяжении **patience** эпох.\n",
    "* checkpoint - Сохраняет лучшие веса модели"
   ]
  },
  {
   "cell_type": "code",
   "execution_count": 94,
   "metadata": {
    "execution": {
     "iopub.execute_input": "2021-12-14T22:47:41.826185Z",
     "iopub.status.busy": "2021-12-14T22:47:41.825661Z",
     "iopub.status.idle": "2021-12-14T22:47:41.831687Z",
     "shell.execute_reply": "2021-12-14T22:47:41.831027Z",
     "shell.execute_reply.started": "2021-12-14T22:47:41.826146Z"
    }
   },
   "outputs": [],
   "source": [
    "checkpoint = ModelCheckpoint(\n",
    "    '../working/best_model.hdf5', monitor=['val_MAPE'], verbose=0, mode='min')\n",
    "earlystop = EarlyStopping(\n",
    "    monitor='val_MAPE', patience=50, restore_best_weights=True,)\n",
    "callbacks_list = [checkpoint, earlystop]"
   ]
  },
  {
   "cell_type": "markdown",
   "metadata": {},
   "source": [
    "### 5.2. Fit"
   ]
  },
  {
   "cell_type": "markdown",
   "metadata": {},
   "source": [
    "Обучаем нашу простую модель в течение 500 эпох. По факту, до конца это обучение дойдет вряд ли, потому что рано или поздно сработает EarlyStopping, который прервет процесс обучения, если не было положительной динамики 50 эпох. Валидацию проводим на валидационной части нашего дата-сета."
   ]
  },
  {
   "cell_type": "code",
   "execution_count": 95,
   "metadata": {
    "execution": {
     "iopub.execute_input": "2021-12-14T22:47:41.833686Z",
     "iopub.status.busy": "2021-12-14T22:47:41.833166Z",
     "iopub.status.idle": "2021-12-14T22:48:08.364978Z",
     "shell.execute_reply": "2021-12-14T22:48:08.364142Z",
     "shell.execute_reply.started": "2021-12-14T22:47:41.833647Z"
    }
   },
   "outputs": [],
   "source": [
    "history = model.fit(X_train, (y_train),\n",
    "                    batch_size=512,  # размер батча\n",
    "                    epochs=500,  # количество эпох для обучения\n",
    "                    validation_data=(X_test, (y_test)),  # данные для валидации\n",
    "                    callbacks=callbacks_list,  # список  наших коллбэков\n",
    "                    verbose=0,  # параметр, отвечающий за выведение прогресс-бара\n",
    "                    )"
   ]
  },
  {
   "cell_type": "markdown",
   "metadata": {},
   "source": [
    "Посмотрим график Loss-функции:"
   ]
  },
  {
   "cell_type": "code",
   "execution_count": 96,
   "metadata": {
    "execution": {
     "iopub.execute_input": "2021-12-14T22:48:08.366688Z",
     "iopub.status.busy": "2021-12-14T22:48:08.366332Z",
     "iopub.status.idle": "2021-12-14T22:48:08.504440Z",
     "shell.execute_reply": "2021-12-14T22:48:08.503586Z",
     "shell.execute_reply.started": "2021-12-14T22:48:08.366652Z"
    }
   },
   "outputs": [],
   "source": [
    "plt.title('Loss Function')\n",
    "plt.plot(history.history['MAPE'], label='train')\n",
    "plt.plot(history.history['val_MAPE'], label='test')\n",
    "plt.show()"
   ]
  },
  {
   "cell_type": "markdown",
   "metadata": {},
   "source": [
    "Из графика видно, что вначале происходит резкий спад функции, но потом понижение происходит очень медленно, и к ~ 250 эпохе срабатывает прерывание выполнения из-за отсутствия положительного результата."
   ]
  },
  {
   "cell_type": "markdown",
   "metadata": {},
   "source": [
    "Сохраним модель и загрузим лучшие веса:"
   ]
  },
  {
   "cell_type": "code",
   "execution_count": 97,
   "metadata": {
    "execution": {
     "iopub.execute_input": "2021-12-14T22:48:08.506423Z",
     "iopub.status.busy": "2021-12-14T22:48:08.505851Z",
     "iopub.status.idle": "2021-12-14T22:48:08.546674Z",
     "shell.execute_reply": "2021-12-14T22:48:08.545947Z",
     "shell.execute_reply.started": "2021-12-14T22:48:08.506384Z"
    }
   },
   "outputs": [],
   "source": [
    "model.load_weights('../working/best_model.hdf5')\n",
    "model.save('../working/nn_1.hdf5')"
   ]
  },
  {
   "cell_type": "markdown",
   "metadata": {},
   "source": [
    "Проверим исследуемую метрику:"
   ]
  },
  {
   "cell_type": "code",
   "execution_count": 98,
   "metadata": {
    "execution": {
     "iopub.execute_input": "2021-12-14T22:48:08.548515Z",
     "iopub.status.busy": "2021-12-14T22:48:08.548156Z",
     "iopub.status.idle": "2021-12-14T22:48:08.683802Z",
     "shell.execute_reply": "2021-12-14T22:48:08.682911Z",
     "shell.execute_reply.started": "2021-12-14T22:48:08.548478Z"
    }
   },
   "outputs": [],
   "source": [
    "test_predict_nn1 = model.predict(X_test)\n",
    "print(f\"TEST mape: {(mape(y_test, test_predict_nn1[:,0]))*100:0.2f}%\")"
   ]
  },
  {
   "cell_type": "markdown",
   "metadata": {},
   "source": [
    "Метрика получилась гораздо лучше, чем при использовании CatBoostRegressor'a, значит мы движемся в правильном направлении."
   ]
  },
  {
   "cell_type": "markdown",
   "metadata": {},
   "source": [
    "Сделаем сабмит:"
   ]
  },
  {
   "cell_type": "code",
   "execution_count": 99,
   "metadata": {
    "execution": {
     "iopub.execute_input": "2021-12-14T22:48:08.685630Z",
     "iopub.status.busy": "2021-12-14T22:48:08.685112Z",
     "iopub.status.idle": "2021-12-14T22:48:08.779390Z",
     "shell.execute_reply": "2021-12-14T22:48:08.778555Z",
     "shell.execute_reply.started": "2021-12-14T22:48:08.685591Z"
    }
   },
   "outputs": [],
   "source": [
    "sub_predict_nn1 = model.predict(X_sub)\n",
    "sample_submission['price'] = sub_predict_nn1[:, 0]\n",
    "sample_submission.to_csv('nn1_submission.csv', index=False)"
   ]
  },
  {
   "cell_type": "markdown",
   "metadata": {},
   "source": [
    "На данном этапе я получил результат mape:11.36% на тестовой выборке, что улучшило предыдущий результат почти на пол процента.\n",
    "\n",
    "До этого был сабмит с modelDate вместо productionDate - результат mape был примерно 12.15%."
   ]
  },
  {
   "cell_type": "markdown",
   "metadata": {},
   "source": [
    "Результат получился еще лучше, чем предыдущий. Значит, в данном случае наша нейронная сеть лучше решает поставленную задачу. Это дает несколько поводов для размышления, что делать дальше, чтобы еще сильнее улучшить исследуемую метрику. На данном этапе есть несколько вариантов: \n",
    "* Исследовать различные варианты архитектуры сети и ее параметры дальше\n",
    "* Исследовать известные готовые варианты табличных нейронных сетей\n",
    "* Попробовать дополнить архитектуру сети, сделав из нее multi-input сеть\n",
    "\n",
    "Мы выберем последний вариант, так как помним, есть данные, которые мы до сих пор не использовали в обучении. Перейдем к созданию первой multi-input сети."
   ]
  },
  {
   "cell_type": "markdown",
   "metadata": {},
   "source": [
    "# 6. Model 4: NLP + MLP Multi Input NN"
   ]
  },
  {
   "cell_type": "markdown",
   "metadata": {},
   "source": [
    "Для данной модели мы будем использовать две сети:\n",
    "* NLP для обработки столбца description\n",
    "* MLP, созданная ранее, для табличных данных\n",
    "\n",
    "Для начала посмотрим, как выглядят данные в столбце:"
   ]
  },
  {
   "cell_type": "code",
   "execution_count": 100,
   "metadata": {
    "execution": {
     "iopub.execute_input": "2021-12-14T22:48:08.782847Z",
     "iopub.status.busy": "2021-12-14T22:48:08.782596Z",
     "iopub.status.idle": "2021-12-14T22:48:08.790160Z",
     "shell.execute_reply": "2021-12-14T22:48:08.789069Z",
     "shell.execute_reply.started": "2021-12-14T22:48:08.782822Z"
    }
   },
   "outputs": [],
   "source": [
    "data.description"
   ]
  },
  {
   "cell_type": "markdown",
   "metadata": {},
   "source": [
    "Мы видим, что столбец представляет собой комментарий к продаваемому автомобилю. В нем присутствует мусор, от которого нужно будет избавиться. План действий будет примерно следующим:\n",
    "* Очистим строки от ненужных символов\n",
    "* Проведем лемматизацию строк\n",
    "* Уберем стоп-слова из строк\n",
    "* Проведем токенизацию текста\n",
    "* Проведем векторизацию текста"
   ]
  },
  {
   "cell_type": "markdown",
   "metadata": {},
   "source": [
    "## 6.1. Лемматизация"
   ]
  },
  {
   "cell_type": "markdown",
   "metadata": {},
   "source": [
    "    Данный этап стал для меня первым камнем преткновения. Сначала была идея использовать BERT, но моих знаний оказалось недостаточно, чтобы понять как его полноценно использовать. Потом я пытался использовать spacy для обработки текста, но она отказалась подгружать русскую библиотеку слов, а предлогаемые неофициальные решения со словарями мне показались не слишком подходящими. Поэтому я вернулся к тому, с чего начинал : pymorphy2 для лемматизации слов и nltk для удаления стоп-слов."
   ]
  },
  {
   "cell_type": "markdown",
   "metadata": {},
   "source": [
    "Суть лемматизации заключается в том, чтобы вернуть каждое слово к его изначальной словоформе. Это нужно, чтобы не считать разные формы слова \"уникальными\" при обработке текста."
   ]
  },
  {
   "cell_type": "markdown",
   "metadata": {},
   "source": [
    "Загрузим морфологический анализатор и скопируем данные из исходного дата-сета:"
   ]
  },
  {
   "cell_type": "code",
   "execution_count": 101,
   "metadata": {
    "execution": {
     "iopub.execute_input": "2021-12-14T22:48:08.792307Z",
     "iopub.status.busy": "2021-12-14T22:48:08.791547Z",
     "iopub.status.idle": "2021-12-14T22:48:09.056833Z",
     "shell.execute_reply": "2021-12-14T22:48:09.055616Z",
     "shell.execute_reply.started": "2021-12-14T22:48:08.792245Z"
    }
   },
   "outputs": [],
   "source": [
    "morphy = pymorphy2.MorphAnalyzer()\n",
    "df_NLP = data.copy()"
   ]
  },
  {
   "cell_type": "markdown",
   "metadata": {},
   "source": [
    "Создадим паттерн с \"мусорными\" символами в строках ( обнавлялся несколько раз в процессе обработки текста, каждый раз находились новые уникальные значения) и напишем функцию для лемматизации:"
   ]
  },
  {
   "cell_type": "code",
   "execution_count": 118,
   "metadata": {
    "execution": {
     "iopub.execute_input": "2021-12-14T23:09:43.852809Z",
     "iopub.status.busy": "2021-12-14T23:09:43.852414Z",
     "iopub.status.idle": "2021-12-14T23:09:43.860150Z",
     "shell.execute_reply": "2021-12-14T23:09:43.859260Z",
     "shell.execute_reply.started": "2021-12-14T23:09:43.852776Z"
    }
   },
   "outputs": [],
   "source": [
    "# Паттерн с символами\n",
    "trash_sym = \"[A-Za-z0-9!#$%&'()*+,./:;<=>?@[\\]^_`{|}~—\\\"\\-–»«•∙·✔➥●☛“”°№₽®]+\"\n",
    "\n",
    "# функция для лемматизации текста:\n",
    "\n",
    "\n",
    "def lemma(text):\n",
    "    text = text.lower()  # понижаем регистр\n",
    "    text = re.sub(trash_sym, ' ', text)  # удаляем символы из паттерна\n",
    "    strings = []  # создаем массив, в котором будут храниться лемматизированные строки\n",
    "    for wrd in text.split():  # берем слово из строки\n",
    "        wrd = wrd.strip()  # убираем пробелы до и после слова\n",
    "        wrd = morphy.normal_forms(wrd)[0]  # приводим к нормальной форме\n",
    "        strings.append(wrd)  # добавляем слово в строку массива\n",
    "    return ' '.join(strings)  # вернем значения, разделив пробелами"
   ]
  },
  {
   "cell_type": "markdown",
   "metadata": {},
   "source": [
    "Применим функцию к нашему nlp-датасету:"
   ]
  },
  {
   "cell_type": "code",
   "execution_count": 119,
   "metadata": {
    "execution": {
     "iopub.execute_input": "2021-12-14T23:10:04.748197Z",
     "iopub.status.busy": "2021-12-14T23:10:04.747860Z",
     "iopub.status.idle": "2021-12-14T23:15:27.164469Z",
     "shell.execute_reply": "2021-12-14T23:15:27.163660Z",
     "shell.execute_reply.started": "2021-12-14T23:10:04.748169Z"
    }
   },
   "outputs": [],
   "source": [
    "strings_set = []\n",
    "strings_set = df_NLP.apply(\n",
    "    lambda df_NLP: lemma(df_NLP.description), axis=1)"
   ]
  },
  {
   "cell_type": "markdown",
   "metadata": {},
   "source": [
    "Загрузим список русских стоп-слов:"
   ]
  },
  {
   "cell_type": "code",
   "execution_count": 120,
   "metadata": {
    "execution": {
     "iopub.execute_input": "2021-12-14T23:15:27.166637Z",
     "iopub.status.busy": "2021-12-14T23:15:27.166299Z",
     "iopub.status.idle": "2021-12-14T23:15:27.171782Z",
     "shell.execute_reply": "2021-12-14T23:15:27.170855Z",
     "shell.execute_reply.started": "2021-12-14T23:15:27.166601Z"
    }
   },
   "outputs": [],
   "source": [
    "russian_stopwords = stopwords.words(\"russian\")"
   ]
  },
  {
   "cell_type": "markdown",
   "metadata": {},
   "source": [
    "Напишем функцию, которая которая будет проверять наши лемматизированные слова на наличие в списке стоп-слов:"
   ]
  },
  {
   "cell_type": "code",
   "execution_count": 121,
   "metadata": {
    "execution": {
     "iopub.execute_input": "2021-12-14T23:15:27.173724Z",
     "iopub.status.busy": "2021-12-14T23:15:27.173159Z",
     "iopub.status.idle": "2021-12-14T23:15:28.978775Z",
     "shell.execute_reply": "2021-12-14T23:15:28.977893Z",
     "shell.execute_reply.started": "2021-12-14T23:15:27.173684Z"
    }
   },
   "outputs": [],
   "source": [
    "# функция для проверки на стоп-слова\n",
    "def lineWithoutStopWords(line):\n",
    "    line = line.split()  # разделяем на слова\n",
    "    # возвращаем слово, если оно не в списке стоп-слов\n",
    "    return [word for word in line if word not in russian_stopwords]\n",
    "\n",
    "\n",
    "# применим функцию к нашим лемматизированым строкам слов\n",
    "str_without_stop = [lineWithoutStopWords(line) for line in strings_set]"
   ]
  },
  {
   "cell_type": "markdown",
   "metadata": {},
   "source": [
    "Укажем обучающую\\валидационную и тестовую выборки:"
   ]
  },
  {
   "cell_type": "code",
   "execution_count": 123,
   "metadata": {
    "execution": {
     "iopub.execute_input": "2021-12-14T23:20:26.005463Z",
     "iopub.status.busy": "2021-12-14T23:20:26.005017Z",
     "iopub.status.idle": "2021-12-14T23:20:26.014058Z",
     "shell.execute_reply": "2021-12-14T23:20:26.012931Z",
     "shell.execute_reply.started": "2021-12-14T23:20:26.005418Z"
    }
   },
   "outputs": [],
   "source": [
    "# split данных\n",
    "text_train = data.description.iloc[X_train.index]\n",
    "text_test = data.description.iloc[X_test.index]\n",
    "text_sub = data.description.iloc[X_sub.index]"
   ]
  },
  {
   "cell_type": "markdown",
   "metadata": {},
   "source": [
    "## 6.2. Токенизация"
   ]
  },
  {
   "cell_type": "markdown",
   "metadata": {},
   "source": [
    "Пропишем параметры для токенизатора, с помощью которого будем проводить токенизацию текста:"
   ]
  },
  {
   "cell_type": "code",
   "execution_count": 124,
   "metadata": {
    "execution": {
     "iopub.execute_input": "2021-12-14T23:24:40.985444Z",
     "iopub.status.busy": "2021-12-14T23:24:40.985102Z",
     "iopub.status.idle": "2021-12-14T23:24:40.989946Z",
     "shell.execute_reply": "2021-12-14T23:24:40.988749Z",
     "shell.execute_reply.started": "2021-12-14T23:24:40.985413Z"
    }
   },
   "outputs": [],
   "source": [
    "# The maximum number of words to be used. (most frequent)\n",
    "MAX_WORDS = 100000\n",
    "# Max number of words in each complaint.\n",
    "MAX_SEQUENCE_LENGTH = 256"
   ]
  },
  {
   "cell_type": "markdown",
   "metadata": {},
   "source": [
    "Обучим токенизатор на полученном списке лемматизированых слов:"
   ]
  },
  {
   "cell_type": "code",
   "execution_count": 125,
   "metadata": {
    "execution": {
     "iopub.execute_input": "2021-12-14T23:36:46.081237Z",
     "iopub.status.busy": "2021-12-14T23:36:46.080860Z",
     "iopub.status.idle": "2021-12-14T23:36:46.562919Z",
     "shell.execute_reply": "2021-12-14T23:36:46.561989Z",
     "shell.execute_reply.started": "2021-12-14T23:36:46.081206Z"
    }
   },
   "outputs": [],
   "source": [
    "%%time\n",
    "tokenize = Tokenizer(num_words=MAX_WORDS)\n",
    "tokenize.fit_on_texts(str_without_stop)"
   ]
  },
  {
   "cell_type": "markdown",
   "metadata": {},
   "source": [
    "Проверим результат:"
   ]
  },
  {
   "cell_type": "code",
   "execution_count": 126,
   "metadata": {
    "_kg_hide-input": false,
    "_kg_hide-output": true,
    "execution": {
     "iopub.execute_input": "2021-12-14T23:36:47.874740Z",
     "iopub.status.busy": "2021-12-14T23:36:47.874365Z",
     "iopub.status.idle": "2021-12-14T23:36:47.912525Z",
     "shell.execute_reply": "2021-12-14T23:36:47.911636Z",
     "shell.execute_reply.started": "2021-12-14T23:36:47.874706Z"
    }
   },
   "outputs": [],
   "source": [
    "tokenize.word_index"
   ]
  },
  {
   "cell_type": "markdown",
   "metadata": {},
   "source": [
    "Используем полученный список слов для векторизации текста из наших выборок:"
   ]
  },
  {
   "cell_type": "code",
   "execution_count": 127,
   "metadata": {
    "execution": {
     "iopub.execute_input": "2021-12-14T23:36:51.746867Z",
     "iopub.status.busy": "2021-12-14T23:36:51.746499Z",
     "iopub.status.idle": "2021-12-14T23:36:53.040350Z",
     "shell.execute_reply": "2021-12-14T23:36:53.039380Z",
     "shell.execute_reply.started": "2021-12-14T23:36:51.746836Z"
    }
   },
   "outputs": [],
   "source": [
    "%%time\n",
    "text_train_sequences = sequence.pad_sequences(\n",
    "    tokenize.texts_to_sequences(text_train), maxlen=MAX_SEQUENCE_LENGTH)\n",
    "text_test_sequences = sequence.pad_sequences(\n",
    "    tokenize.texts_to_sequences(text_test), maxlen=MAX_SEQUENCE_LENGTH)\n",
    "text_sub_sequences = sequence.pad_sequences(\n",
    "    tokenize.texts_to_sequences(text_sub), maxlen=MAX_SEQUENCE_LENGTH)\n",
    "\n",
    "print(text_train_sequences.shape,\n",
    "      text_test_sequences.shape, text_sub_sequences.shape, )"
   ]
  },
  {
   "cell_type": "markdown",
   "metadata": {},
   "source": [
    "Выведем пример того, как теперь выглядит текст:"
   ]
  },
  {
   "cell_type": "code",
   "execution_count": 128,
   "metadata": {
    "execution": {
     "iopub.execute_input": "2021-12-14T23:36:57.254286Z",
     "iopub.status.busy": "2021-12-14T23:36:57.253950Z",
     "iopub.status.idle": "2021-12-14T23:36:57.263598Z",
     "shell.execute_reply": "2021-12-14T23:36:57.260716Z",
     "shell.execute_reply.started": "2021-12-14T23:36:57.254254Z"
    }
   },
   "outputs": [],
   "source": [
    "print(text_train.iloc[6])\n",
    "print(text_train_sequences[6])"
   ]
  },
  {
   "cell_type": "markdown",
   "metadata": {},
   "source": [
    "## 6.3. RNN NLP"
   ]
  },
  {
   "cell_type": "markdown",
   "metadata": {},
   "source": [
    "Создание сети для NLP забрало у меня довольно много времени по нескольким причинам:\n",
    "1. Я пытался понять, как использовать SoTA решения для данной задачи, например GPT-2 (так до конца и не разобрался)\n",
    "2. Я исследовал различные структуры NLP:\n",
    "   * Менял количество слоев dense\n",
    "   * Менял количество LSTM слоев\n",
    "   * Менял количество юнитов в слоях\n",
    "   * Менял количество Dropout слоев\n",
    "   * Менял функции активации в слоях\n",
    "   * Использовал различные варианты и положение слоев нормализации\n",
    "   \n",
    "Финальный вариант,представленный ниже, показал наиболее низкое значение MAPE, поэтому я оставил именно его:   "
   ]
  },
  {
   "cell_type": "code",
   "execution_count": 164,
   "metadata": {
    "execution": {
     "iopub.execute_input": "2021-12-13T22:29:28.852439Z",
     "iopub.status.busy": "2021-12-13T22:29:28.852080Z",
     "iopub.status.idle": "2021-12-13T22:29:29.400776Z",
     "shell.execute_reply": "2021-12-13T22:29:29.399931Z",
     "shell.execute_reply.started": "2021-12-13T22:29:28.852399Z"
    }
   },
   "outputs": [],
   "source": [
    "model_nlp = Sequential()\n",
    "model_nlp.add(L.Input(shape=MAX_SEQUENCE_LENGTH, name=\"seq_description\"))\n",
    "model_nlp.add(L.Embedding(len(tokenize.word_index)+1, MAX_SEQUENCE_LENGTH,))\n",
    "model_nlp.add(L.LayerNormalization())\n",
    "model_nlp.add(L.LSTM(256, return_sequences=True))\n",
    "model_nlp.add(L.Dropout(0.5))\n",
    "model_nlp.add(L.Dense(128, activation=\"sigmoid\"))\n",
    "model_nlp.add(L.Dropout(0.5))\n",
    "model_nlp.add(L.LSTM(64,))\n",
    "model_nlp.add(L.Dropout(0.25))\n",
    "model_nlp.add(L.Dense(64, activation=\"relu\"))\n",
    "model_nlp.add(L.Dropout(0.25))"
   ]
  },
  {
   "cell_type": "markdown",
   "metadata": {},
   "source": [
    "После создания NLP-сети мы переходим к сети для табличной обработки данных"
   ]
  },
  {
   "cell_type": "markdown",
   "metadata": {},
   "source": [
    "## 6.4. MLP-сеть"
   ]
  },
  {
   "cell_type": "markdown",
   "metadata": {},
   "source": [
    "Здесь я тоже провел довольно много времени, перебирая различные варианты архитектуры сети, параметров слоев, вариантов регуляризации, в том числе ее значений, и функций активации. В начале была идея попробовать использовать для обработки данных TabNet, но, как и в предыдущем пункте, я не смог полностью разобраться, как мне ее включить в общую конструкцию.\n",
    "\n",
    "Финальным вариантом, на котором я остановился, является архитектура, представленная ниже:"
   ]
  },
  {
   "cell_type": "code",
   "execution_count": 165,
   "metadata": {
    "execution": {
     "iopub.execute_input": "2021-12-13T22:29:29.402467Z",
     "iopub.status.busy": "2021-12-13T22:29:29.402108Z",
     "iopub.status.idle": "2021-12-13T22:29:29.461760Z",
     "shell.execute_reply": "2021-12-13T22:29:29.461040Z",
     "shell.execute_reply.started": "2021-12-13T22:29:29.402433Z"
    }
   },
   "outputs": [],
   "source": [
    "model_mlp = Sequential()\n",
    "model_mlp.add(L.Dense(512, input_dim=X_train.shape[1], activation=\"relu\"))\n",
    "model_mlp.add(L.Dropout(0.5))\n",
    "model_mlp.add(L.Dense(256, kernel_regularizer=regularizers.l2(\n",
    "    l2=1e-6), activation=\"relu\"))\n",
    "model_mlp.add(L.Dropout(0.5))\n",
    "model_mlp.add(L.Dense(128, kernel_regularizer=regularizers.l2(\n",
    "    l2=1e-5), activation=\"relu\"))\n",
    "model_mlp.add(L.Dropout(0.25))"
   ]
  },
  {
   "cell_type": "markdown",
   "metadata": {},
   "source": [
    "Теперь, когда обе сети готовы, создадим \"голову\", которая будет объединять выходы наших сетей воедино."
   ]
  },
  {
   "cell_type": "markdown",
   "metadata": {},
   "source": [
    "## 6.5. Multiple Inputs NN"
   ]
  },
  {
   "cell_type": "markdown",
   "metadata": {},
   "source": [
    "На этом этапе было рассмотрено несколько вариантов с различными функциями активации и количеством юнитов. Как и ранее, финальный вариант, который дал наиболее низкую MAPE, представлен ниже:"
   ]
  },
  {
   "cell_type": "code",
   "execution_count": 166,
   "metadata": {
    "execution": {
     "iopub.execute_input": "2021-12-13T22:29:29.463983Z",
     "iopub.status.busy": "2021-12-13T22:29:29.463473Z",
     "iopub.status.idle": "2021-12-13T22:29:29.493099Z",
     "shell.execute_reply": "2021-12-13T22:29:29.492403Z",
     "shell.execute_reply.started": "2021-12-13T22:29:29.463947Z"
    }
   },
   "outputs": [],
   "source": [
    "combinedInput = L.concatenate([model_nlp.output, model_mlp.output])\n",
    "# being our regression head\n",
    "head = L.Dense(32, activation=\"relu\")(combinedInput)\n",
    "head = L.Dense(1, activation=\"linear\")(head)\n",
    "\n",
    "model = Model(inputs=[model_nlp.input, model_mlp.input], outputs=head)"
   ]
  },
  {
   "cell_type": "markdown",
   "metadata": {},
   "source": [
    "Выведем описание модели:"
   ]
  },
  {
   "cell_type": "code",
   "execution_count": 167,
   "metadata": {
    "_kg_hide-output": true,
    "execution": {
     "iopub.execute_input": "2021-12-13T22:29:29.495467Z",
     "iopub.status.busy": "2021-12-13T22:29:29.495124Z",
     "iopub.status.idle": "2021-12-13T22:29:29.510083Z",
     "shell.execute_reply": "2021-12-13T22:29:29.509379Z",
     "shell.execute_reply.started": "2021-12-13T22:29:29.495431Z"
    }
   },
   "outputs": [],
   "source": [
    "model.summary()"
   ]
  },
  {
   "cell_type": "markdown",
   "metadata": {},
   "source": [
    "## 6.6. Обучение"
   ]
  },
  {
   "cell_type": "markdown",
   "metadata": {},
   "source": [
    "В качестве оптимизатора я исследовал Adam и Adamax. Adam в данном случае сходится гораздо быстрее и дает более стабильные значения исследуемой метрики. Начальную скорость обучения выберем 0.01. \n",
    "\n",
    "Проведем компиляцию модели:"
   ]
  },
  {
   "cell_type": "code",
   "execution_count": 168,
   "metadata": {
    "execution": {
     "iopub.execute_input": "2021-12-13T22:29:29.514114Z",
     "iopub.status.busy": "2021-12-13T22:29:29.513862Z",
     "iopub.status.idle": "2021-12-13T22:29:29.529026Z",
     "shell.execute_reply": "2021-12-13T22:29:29.528195Z",
     "shell.execute_reply.started": "2021-12-13T22:29:29.514089Z"
    }
   },
   "outputs": [],
   "source": [
    "optimizer = tf.keras.optimizers.Adam(0.01)\n",
    "# Проведем компиляцию модели\n",
    "model.compile(loss='MAPE', optimizer=optimizer, metrics=['MAPE'])"
   ]
  },
  {
   "cell_type": "markdown",
   "metadata": {},
   "source": [
    "В процессе исследования, было выявлено, что фиксированная скорость обучения дает не самый хороший результат. Поэтому, помимо уже имеющихся коллбэков, которые мы упоминали ранее при обучении табличной сети, я добавил ReduceLROnPlateau, который уменьшает скорость обучения, в случае когда нет улучшения исследуемой метрики в течение **patience** эпох. \n",
    "\n",
    "Объявим коллбэки:"
   ]
  },
  {
   "cell_type": "code",
   "execution_count": 169,
   "metadata": {
    "execution": {
     "iopub.execute_input": "2021-12-13T22:29:29.531982Z",
     "iopub.status.busy": "2021-12-13T22:29:29.531580Z",
     "iopub.status.idle": "2021-12-13T22:29:29.538386Z",
     "shell.execute_reply": "2021-12-13T22:29:29.537311Z",
     "shell.execute_reply.started": "2021-12-13T22:29:29.531943Z"
    }
   },
   "outputs": [],
   "source": [
    "checkpoint = ModelCheckpoint(\n",
    "    '../working/best_model.hdf5', monitor=['val_MAPE'], verbose=0, mode='min')\n",
    "earlystop = EarlyStopping(\n",
    "    monitor='val_MAPE', patience=15, restore_best_weights=True,)\n",
    "lr_scheduler = ReduceLROnPlateau(monitor='val_MAPE',\n",
    "                                 factor=0.5,  # уменьшим lr в 2 раза\n",
    "                                 patience=5,  # если нет улучшения через 2 эпохи - уменьшить lr\n",
    "                                 min_lr=0.0001,  # минимальная скорость обучения\n",
    "                                 verbose=1,  # выводить сообщения об уменьшении скорости\n",
    "                                 mode='auto')  # выбранный способ отслеживания метрики\n",
    "callbacks_list = [checkpoint, earlystop, lr_scheduler]"
   ]
  },
  {
   "cell_type": "markdown",
   "metadata": {},
   "source": [
    "Теперь приступим к обучению модели. Оно проходит довольно быстро. Фактически, мы все равно сталкиваемся с тем, что процесс обучения прерывается с помощью EarlyStopping. Но с использованием ReduceLROnPlateau точность удалось несколько повысить по сравнению с предыдущими результатами исследований.\n",
    "\n",
    "Запустим обучение модели:"
   ]
  },
  {
   "cell_type": "code",
   "execution_count": 170,
   "metadata": {
    "_kg_hide-output": true,
    "execution": {
     "iopub.execute_input": "2021-12-13T22:29:29.540448Z",
     "iopub.status.busy": "2021-12-13T22:29:29.540037Z",
     "iopub.status.idle": "2021-12-13T22:33:44.424603Z",
     "shell.execute_reply": "2021-12-13T22:33:44.423877Z",
     "shell.execute_reply.started": "2021-12-13T22:29:29.540411Z"
    }
   },
   "outputs": [],
   "source": [
    "# Запустим обучение модели\n",
    "history = model.fit([text_train_sequences, X_train], y_train,\n",
    "                    batch_size=512,\n",
    "                    epochs=500,\n",
    "                    validation_data=([text_test_sequences, X_test], y_test),\n",
    "                    callbacks=callbacks_list\n",
    "                    )"
   ]
  },
  {
   "cell_type": "markdown",
   "metadata": {},
   "source": [
    "Когда обучение завершилось, посмотрим на график нашей функции потерь:"
   ]
  },
  {
   "cell_type": "code",
   "execution_count": 171,
   "metadata": {
    "execution": {
     "iopub.execute_input": "2021-12-13T22:33:44.427884Z",
     "iopub.status.busy": "2021-12-13T22:33:44.427583Z",
     "iopub.status.idle": "2021-12-13T22:33:44.551914Z",
     "shell.execute_reply": "2021-12-13T22:33:44.551215Z",
     "shell.execute_reply.started": "2021-12-13T22:33:44.427856Z"
    }
   },
   "outputs": [],
   "source": [
    "plt.title('Loss')\n",
    "plt.plot(history.history['MAPE'], label='train')\n",
    "plt.plot(history.history['val_MAPE'], label='test')\n",
    "plt.show()"
   ]
  },
  {
   "cell_type": "markdown",
   "metadata": {},
   "source": [
    "Мы видим, что на определенном промежутке обучения график ведет себя \"неспокойно\". Это может быть связано с тем, что в начале мы используем довольно большую скорость обучения, быстро спускаемся в \"плато\", и пока скорость обучения не уменьшится, возникают те самые скачки функции потерь."
   ]
  },
  {
   "cell_type": "markdown",
   "metadata": {},
   "source": [
    "Сохраним лучшие веса модели:"
   ]
  },
  {
   "cell_type": "code",
   "execution_count": 172,
   "metadata": {
    "execution": {
     "iopub.execute_input": "2021-12-13T22:33:44.554190Z",
     "iopub.status.busy": "2021-12-13T22:33:44.553543Z",
     "iopub.status.idle": "2021-12-13T22:33:44.759044Z",
     "shell.execute_reply": "2021-12-13T22:33:44.757956Z",
     "shell.execute_reply.started": "2021-12-13T22:33:44.554150Z"
    }
   },
   "outputs": [],
   "source": [
    "model.load_weights('../working/best_model.hdf5')\n",
    "model.save('../working/nn_mlp_nlp.hdf5')"
   ]
  },
  {
   "cell_type": "markdown",
   "metadata": {},
   "source": [
    "Посмотрим значение полученной метрики:"
   ]
  },
  {
   "cell_type": "code",
   "execution_count": 173,
   "metadata": {
    "execution": {
     "iopub.execute_input": "2021-12-13T22:33:44.766266Z",
     "iopub.status.busy": "2021-12-13T22:33:44.763913Z",
     "iopub.status.idle": "2021-12-13T22:33:45.837138Z",
     "shell.execute_reply": "2021-12-13T22:33:45.836351Z",
     "shell.execute_reply.started": "2021-12-13T22:33:44.766220Z"
    }
   },
   "outputs": [],
   "source": [
    "test_predict_nn2 = model.predict([text_test_sequences, X_test])\n",
    "print(f\"TEST mape: {(mape(y_test, test_predict_nn2[:,0]))*100:0.2f}%\")"
   ]
  },
  {
   "cell_type": "markdown",
   "metadata": {},
   "source": [
    "Метрика получилась немного хуже, чем в предыдущем пункте. Имеется несколько догадок, почему это может быть, но об этом в конце пункта."
   ]
  },
  {
   "cell_type": "code",
   "execution_count": 174,
   "metadata": {
    "execution": {
     "iopub.execute_input": "2021-12-13T22:33:45.838786Z",
     "iopub.status.busy": "2021-12-13T22:33:45.838420Z",
     "iopub.status.idle": "2021-12-13T22:33:46.568283Z",
     "shell.execute_reply": "2021-12-13T22:33:46.567425Z",
     "shell.execute_reply.started": "2021-12-13T22:33:45.838752Z"
    }
   },
   "outputs": [],
   "source": [
    "sub_predict_nn2 = model.predict([text_sub_sequences, X_sub])\n",
    "sample_submission['price'] = sub_predict_nn2[:, 0]\n",
    "sample_submission.to_csv('nn2_submission.csv', index=False)"
   ]
  },
  {
   "cell_type": "markdown",
   "metadata": {},
   "source": [
    "На данном этапе исследования было достигнуто значение MAPE=11.38%. Не самый хороший результат: на 0.03% хуже, чем у простой табличной сети. Я долго размышлял, с чем это может быть связано, и пришел к следующим вариантам:\n",
    "* Не совсем оптимальные архитектуры используемых сетей\n",
    "* Недостаточно хорошо очищены данные столбца description\n",
    "\n",
    "Решение, которое приходит в голову: \n",
    "1. необходимо очистить столбец от emoji, которые используются в тексте. Помимо прочего, возможно использовать готовые сети станет действительно хорошим, видимым результатом, если учесть о том, как хорошо отзываются о работе сети GPT-2\n",
    "2. добавить еще одну сеть в конструкцию multi-input сети, которая будет заниматься обработкой изображений\n",
    "\n",
    "Я выбрал второй вариант, чтобы улучшить исследуемую метрику. Перейдем к созданию multi-input сети, состоящей из трех нейронных сетей."
   ]
  },
  {
   "cell_type": "markdown",
   "metadata": {},
   "source": [
    "# 7. Model 5: NLP+MLP+EffNetB6 Multi Input NN"
   ]
  },
  {
   "cell_type": "markdown",
   "metadata": {},
   "source": [
    "На данном этапе, к multi-input сети, которую мы исследовали п.6. добавляется нейронная сеть, которая занимается обработкой изображений."
   ]
  },
  {
   "cell_type": "markdown",
   "metadata": {},
   "source": [
    "## 7.1. Image Data"
   ]
  },
  {
   "cell_type": "markdown",
   "metadata": {},
   "source": [
    "Загрузим изображения автомобилей, которые будет обрабатывать наша сеть. Для начала проверим, что все имеющиеся у нас в input'е данные подгружены корректтно, выведем 9 изображений из папки img, используя для этого sell_id (вот и пригодился), как название изображения:"
   ]
  },
  {
   "cell_type": "code",
   "execution_count": 129,
   "metadata": {
    "execution": {
     "iopub.execute_input": "2021-12-15T00:57:56.221651Z",
     "iopub.status.busy": "2021-12-15T00:57:56.221268Z",
     "iopub.status.idle": "2021-12-15T00:57:56.756379Z",
     "shell.execute_reply": "2021-12-15T00:57:56.755503Z",
     "shell.execute_reply.started": "2021-12-15T00:57:56.221615Z"
    }
   },
   "outputs": [],
   "source": [
    "# Укажем размер выводимого изображения\n",
    "plt.figure(figsize=(10, 6))\n",
    "# 9 случайных примеров из train\n",
    "random_image = train.sample(n=9)\n",
    "random_image_paths = random_image['sell_id'].values\n",
    "random_image_cat = random_image['price'].values\n",
    "# выведем 9 изображений автомобилей и цен к ним\n",
    "for index, path in enumerate(random_image_paths):\n",
    "    im = PIL.Image.open(DATA_DIR+'img/img/' + str(path) + '.jpg')\n",
    "    plt.subplot(3, 3, index + 1)\n",
    "    plt.imshow(im)\n",
    "    plt.title('price: ' + str(random_image_cat[index]))\n",
    "    plt.axis('off')\n",
    "plt.show()"
   ]
  },
  {
   "cell_type": "markdown",
   "metadata": {},
   "source": [
    "Как видно, все вывелось корректно, никаких нареканий не имеется. Теперь загрузим все имеющиеся изображения с форматом 320х240:"
   ]
  },
  {
   "cell_type": "code",
   "execution_count": 130,
   "metadata": {
    "execution": {
     "iopub.execute_input": "2021-12-15T01:09:41.513364Z",
     "iopub.status.busy": "2021-12-15T01:09:41.513004Z",
     "iopub.status.idle": "2021-12-15T01:10:58.333917Z",
     "shell.execute_reply": "2021-12-15T01:10:58.332921Z",
     "shell.execute_reply.started": "2021-12-15T01:09:41.513334Z"
    }
   },
   "outputs": [],
   "source": [
    "# Установим размер изображения\n",
    "size = (320, 240)\n",
    "# функция для загрузки изображений\n",
    "\n",
    "\n",
    "def get_image_array(index):\n",
    "    images_set = []\n",
    "    for index, sell_id in enumerate(data['sell_id'].iloc[index].values):\n",
    "        image = cv2.imread(DATA_DIR + 'img/img/' + str(sell_id) + '.jpg')\n",
    "        assert(image is not None)\n",
    "        image = cv2.resize(image, size)  # изменение размера\n",
    "        images_set.append(image)  # добавляем изображение в массив\n",
    "    images_set = np.array(images_set)\n",
    "    print('images shape', images_set.shape, 'dtype', images_set.dtype)\n",
    "    return(images_set)\n",
    "\n",
    "\n",
    "# применим функцию для создания выборок\n",
    "images_train = get_image_array(X_train.index)\n",
    "images_test = get_image_array(X_test.index)\n",
    "images_sub = get_image_array(X_sub.index)"
   ]
  },
  {
   "cell_type": "markdown",
   "metadata": {},
   "source": [
    "Теперь, когда мы загрузили изображения, стоит вспомнить основные этапы проекта Ford vs Ferrari, который мы выполняли ранее. Для начала перейдем к настройкам аугментации изображений."
   ]
  },
  {
   "cell_type": "markdown",
   "metadata": {},
   "source": [
    "## 7.2. Настройки albumentations"
   ]
  },
  {
   "cell_type": "markdown",
   "metadata": {},
   "source": [
    "Настройки, которые я использую для аугментации изображений, взяты из моего проекта [Ford vs Ferrari](https://www.kaggle.com/alexfoncrow/dst45-47-car-classification-sf/):"
   ]
  },
  {
   "cell_type": "code",
   "execution_count": 216,
   "metadata": {
    "execution": {
     "iopub.execute_input": "2021-12-14T00:10:41.102757Z",
     "iopub.status.busy": "2021-12-14T00:10:41.102417Z",
     "iopub.status.idle": "2021-12-14T00:10:41.649084Z",
     "shell.execute_reply": "2021-12-14T00:10:41.647408Z",
     "shell.execute_reply.started": "2021-12-14T00:10:41.102726Z"
    }
   },
   "outputs": [],
   "source": [
    "augment_module = a.Compose([\n",
    "    # добавляем размытие по Гауссу и шум с вероятностью 7%\n",
    "    a.Blur(p=0.07),\n",
    "    a.GaussNoise(p=0.07),\n",
    "    #  Установим параметры сдвига,поворота и масштабирования, а также укажем их вероятность.\n",
    "    a.ShiftScaleRotate(shift_limit=0.08,\n",
    "                       scale_limit=0.05,\n",
    "                       border_mode=4,\n",
    "                       rotate_limit=20,\n",
    "                       p=0.7),\n",
    "\n",
    "    a.RGBShift(),\n",
    "    a.HueSaturationValue(),  # случайный оттенок и насыщенность\n",
    "    a.HorizontalFlip(),\n",
    "\n",
    "    # установим случайную яркость и контрастность изображений с вероятностью 50%\n",
    "\n",
    "    a.OneOf([\n",
    "            a.RandomBrightnessContrast(\n",
    "                brightness_limit=0.3, contrast_limit=0.3),\n",
    "            a.RandomBrightnessContrast(brightness_limit=0.1, contrast_limit=0.1)],\n",
    "            p=0.3)\n",
    "])\n",
    "\n",
    "# Выведем пример аугментации\n",
    "plt.figure(figsize=(12, 8))\n",
    "for i in range(9):\n",
    "    img = augment_module(image=images_train[0])['image']\n",
    "    plt.subplot(3, 3, i + 1)\n",
    "    plt.imshow(img)\n",
    "    plt.axis('off')\n",
    "plt.show()"
   ]
  },
  {
   "cell_type": "markdown",
   "metadata": {},
   "source": [
    "Выше показан пример аугментации для имеющихся изображений."
   ]
  },
  {
   "cell_type": "markdown",
   "metadata": {},
   "source": [
    "## 7.3. Использование tf.data.Dataset\n",
    "Если все изображения мы будем хранить в памяти, то может возникнуть проблема ее нехватки. Не храните все изображения в памяти целиком!\n",
    "\n",
    "Метод .fit() модели keras может принимать либо данные в виде массивов или тензоров, либо разного рода итераторы, из которых наиболее современным и гибким является [tf.data.Dataset](https://www.tensorflow.org/guide/data). Он представляет собой конвейер, то есть мы указываем, откуда берем данные и какую цепочку преобразований с ними выполняем. Далее мы будем работать с tf.data.Dataset.\n",
    "\n",
    "Dataset хранит информацию о конечном или бесконечном наборе кортежей (tuple) с данными и может возвращать эти наборы по очереди. Например, данными могут быть пары (input, target) для обучения нейросети. С данными можно осуществлять преобразования, которые осуществляются по мере необходимости ([lazy evaluation](https://ru.wikipedia.org/wiki/%D0%9B%D0%B5%D0%BD%D0%B8%D0%B2%D1%8B%D0%B5_%D0%B2%D1%8B%D1%87%D0%B8%D1%81%D0%BB%D0%B5%D0%BD%D0%B8%D1%8F)).\n",
    "\n",
    "`tf.data.Dataset.from_tensor_slices(data)` - создает датасет из данных, которые представляют собой либо массив, либо кортеж из массивов. Деление осуществляется по первому индексу каждого массива. Например, если `data = (np.zeros((128, 256, 256)), np.zeros(128))`, то датасет будет содержать 128 элементов, каждый из которых содержит один массив 256x256 и одно число.\n",
    "\n",
    "`dataset2 = dataset1.map(func)` - применение функции к датасету; функция должна принимать столько аргументов, каков размер кортежа в датасете 1 и возвращать столько, сколько нужно иметь в датасете 2. Пусть, например, датасет содержит изображения и метки, а нам нужно создать датасет только из изображений, тогда мы напишем так: `dataset2 = dataset.map(lambda img, label: img)`.\n",
    "\n",
    "`dataset2 = dataset1.batch(8)` - группировка по батчам; если датасет 2 должен вернуть один элемент, то он берет из датасета 1 восемь элементов, склеивает их (нулевой индекс результата - номер элемента) и возвращает.\n",
    "\n",
    "`dataset.__iter__()` - превращение датасета в итератор, из которого можно получать элементы методом `.__next__()`. Итератор, в отличие от самого датасета, хранит позицию текущего элемента. Можно также перебирать датасет циклом for.\n",
    "\n",
    "`dataset2 = dataset1.repeat(X)` - датасет 2 будет повторять датасет 1 X раз.\n",
    "\n",
    "Если нам нужно взять из датасета 1000 элементов и использовать их как тестовые, а остальные как обучающие, то мы напишем так:\n",
    "\n",
    "`test_dataset = dataset.take(1000)\n",
    "train_dataset = dataset.skip(1000)`\n",
    "\n",
    "Датасет по сути неизменен: такие операции, как map, batch, repeat, take, skip никак не затрагивают оригинальный датасет. Если датасет хранит элементы [1, 2, 3], то выполнив 3 раза подряд функцию dataset.take(1) мы получим 3 новых датасета, каждый из которых вернет число 1. Если же мы выполним функцию dataset.skip(1), мы получим датасет, возвращающий числа [2, 3], но исходный датасет все равно будет возвращать [1, 2, 3] каждый раз, когда мы его перебираем.\n",
    "\n",
    "tf.Dataset всегда выполняется в graph-режиме (в противоположность eager-режиму), поэтому либо преобразования (`.map()`) должны содержать только tensorflow-функции, либо мы должны использовать tf.py_function в качестве обертки для функций, вызываемых в `.map()`. Подробнее можно прочитать [здесь](https://www.tensorflow.org/guide/data#applying_arbitrary_python_logic)."
   ]
  },
  {
   "cell_type": "markdown",
   "metadata": {},
   "source": [
    " Для обработки данных при помощи tf.data.Dataset необходимо провести некоторую подготовку данных. Начнем с обучения нашего токенизатора:"
   ]
  },
  {
   "cell_type": "code",
   "execution_count": 131,
   "metadata": {
    "execution": {
     "iopub.execute_input": "2021-12-15T01:17:49.160365Z",
     "iopub.status.busy": "2021-12-15T01:17:49.159866Z",
     "iopub.status.idle": "2021-12-15T01:17:49.634527Z",
     "shell.execute_reply": "2021-12-15T01:17:49.633496Z",
     "shell.execute_reply.started": "2021-12-15T01:17:49.160330Z"
    }
   },
   "outputs": [],
   "source": [
    "# обучение токенизатора для NLP\n",
    "tokenize = Tokenizer(num_words=MAX_WORDS)\n",
    "tokenize.fit_on_texts(str_without_stop)"
   ]
  },
  {
   "cell_type": "markdown",
   "metadata": {},
   "source": [
    "Теперь создадим функции, которые будут применяться к имеющимся у нас данным:"
   ]
  },
  {
   "cell_type": "code",
   "execution_count": 218,
   "metadata": {
    "_kg_hide-output": true,
    "execution": {
     "iopub.execute_input": "2021-12-14T00:10:42.135767Z",
     "iopub.status.busy": "2021-12-14T00:10:42.135355Z",
     "iopub.status.idle": "2021-12-14T00:10:45.186578Z",
     "shell.execute_reply": "2021-12-14T00:10:45.185599Z",
     "shell.execute_reply.started": "2021-12-14T00:10:42.135725Z"
    }
   },
   "outputs": [],
   "source": [
    "# аугментация изображений\n",
    "def process_image(image):\n",
    "    return augment_module(image=image.numpy())['image']\n",
    "# векторизация строки\n",
    "\n",
    "\n",
    "def tokenize_(descriptions):\n",
    "    return sequence.pad_sequences(tokenize.texts_to_sequences(descriptions), maxlen=MAX_SEQUENCE_LENGTH)\n",
    "# применение векторизации к тексту\n",
    "\n",
    "\n",
    "def tokenize_text(text):\n",
    "    return tokenize_([text.numpy().decode('utf-8')])[0]\n",
    "# функция  для применения вышеупомянутых функций к входным данным обучающей выборки\n",
    "\n",
    "\n",
    "def tf_process_train_dataset_element(image, table_data, text, price):\n",
    "    im_shape = image.shape\n",
    "    [image, ] = tf.py_function(process_image, [image], [tf.uint8])\n",
    "    image.set_shape(im_shape)\n",
    "    [text, ] = tf.py_function(tokenize_text, [text], [tf.int32])\n",
    "    return (image, table_data, text), price\n",
    "# функция  для применения вышеупомянутых функций к входным данным валидационной и тестовой выборкок\n",
    "\n",
    "\n",
    "def tf_process_val_dataset_element(image, table_data, text, price):\n",
    "    [text, ] = tf.py_function(tokenize_text, [text], [tf.int32])\n",
    "    return (image, table_data, text), price\n",
    "\n",
    "\n",
    "# использование tf.data.Dataset с использованием функций для обучающей выборки\n",
    "train_dataset = tf.data.Dataset.from_tensor_slices((\n",
    "    images_train, X_train, data.description.iloc[X_train.index], y_train\n",
    ")).map(tf_process_train_dataset_element)\n",
    "# использование tf.data.Dataset с использованием функций для валидационной выборки\n",
    "test_dataset = tf.data.Dataset.from_tensor_slices((\n",
    "    images_test, X_test, data.description.iloc[X_test.index], y_test\n",
    ")).map(tf_process_val_dataset_element)\n",
    "# использование tf.data.Dataset с использованием функций для тестовой выборки\n",
    "y_sub = np.zeros(len(X_sub))\n",
    "sub_dataset = tf.data.Dataset.from_tensor_slices((\n",
    "    images_sub, X_sub, data.description.iloc[X_sub.index], y_sub\n",
    ")).map(tf_process_val_dataset_element)\n",
    "\n",
    "# проверяем, что нет ошибок (не будет выброшено исключение):\n",
    "train_dataset.__iter__().__next__()\n",
    "test_dataset.__iter__().__next__()\n",
    "sub_dataset.__iter__().__next__()"
   ]
  },
  {
   "cell_type": "markdown",
   "metadata": {},
   "source": [
    "## 7.4. Fine-tune EfficientNet"
   ]
  },
  {
   "cell_type": "markdown",
   "metadata": {},
   "source": [
    "На данном этапе я обращался к сайту paperswithcode, чтобы определить, какую сеть будет использовать оптимально. Были рассмотрены три сети, имеющиеся в tensorflow:\n",
    "* EfficientNetB3\n",
    "* EfficientNetB6\n",
    "* EfficientNetB7\n",
    "\n",
    "Я остановился на EffNetB6, т.к. она показалась мне наиболее оптимальной. Первоначально я взял B7, но она очень долго обучается, особенно если использовать ReduceLROnPLateau, я бы не уложился в квоту на сохранение.  B3 дал результат чуть хуже, чем B6."
   ]
  },
  {
   "cell_type": "markdown",
   "metadata": {},
   "source": [
    "Загрузим исследуемую модель:"
   ]
  },
  {
   "cell_type": "code",
   "execution_count": 219,
   "metadata": {
    "execution": {
     "iopub.execute_input": "2021-12-14T00:10:45.193386Z",
     "iopub.status.busy": "2021-12-14T00:10:45.191071Z",
     "iopub.status.idle": "2021-12-14T00:10:52.789219Z",
     "shell.execute_reply": "2021-12-14T00:10:52.788323Z",
     "shell.execute_reply.started": "2021-12-14T00:10:45.193343Z"
    }
   },
   "outputs": [],
   "source": [
    "# загрузим модель без \"головы\" и укажем, что она может обучаться\n",
    "efficientnet_model = tf.keras.applications.efficientnet.EfficientNetB6(\n",
    "    weights='imagenet', include_top=False, input_shape=(size[1], size[0], 3))\n",
    "efficientnet_model.trainable = True"
   ]
  },
  {
   "cell_type": "markdown",
   "metadata": {},
   "source": [
    "Проведем Fine-Tuning, заморозив 1\\4 нижних слоев модели:"
   ]
  },
  {
   "cell_type": "code",
   "execution_count": 220,
   "metadata": {
    "execution": {
     "iopub.execute_input": "2021-12-14T00:10:59.122031Z",
     "iopub.status.busy": "2021-12-14T00:10:59.121464Z",
     "iopub.status.idle": "2021-12-14T00:10:59.133912Z",
     "shell.execute_reply": "2021-12-14T00:10:59.132589Z",
     "shell.execute_reply.started": "2021-12-14T00:10:59.121992Z"
    }
   },
   "outputs": [],
   "source": [
    "# Заморозим 1\\4 нижних слоев модели\n",
    "for layer in efficientnet_model.layers[:len(efficientnet_model.layers)//4]:\n",
    "    layer.trainable = False"
   ]
  },
  {
   "cell_type": "markdown",
   "metadata": {},
   "source": [
    "Посмотрим общее количество слоев в модели и какие из них могут обучаться:"
   ]
  },
  {
   "cell_type": "code",
   "execution_count": 221,
   "metadata": {
    "_kg_hide-output": true,
    "execution": {
     "iopub.execute_input": "2021-12-14T00:11:04.192005Z",
     "iopub.status.busy": "2021-12-14T00:11:04.191603Z",
     "iopub.status.idle": "2021-12-14T00:11:04.313579Z",
     "shell.execute_reply": "2021-12-14T00:11:04.312660Z",
     "shell.execute_reply.started": "2021-12-14T00:11:04.191972Z"
    }
   },
   "outputs": [],
   "source": [
    "print(len(efficientnet_model.layers))\n",
    "\n",
    "for layer in efficientnet_model.layers:\n",
    "    print(layer, layer.trainable)"
   ]
  },
  {
   "cell_type": "markdown",
   "metadata": {},
   "source": [
    "Добавим output-слой для нашей EfficienNet модели:"
   ]
  },
  {
   "cell_type": "code",
   "execution_count": 222,
   "metadata": {
    "execution": {
     "iopub.execute_input": "2021-12-14T00:11:19.564267Z",
     "iopub.status.busy": "2021-12-14T00:11:19.563924Z",
     "iopub.status.idle": "2021-12-14T00:11:19.573185Z",
     "shell.execute_reply": "2021-12-14T00:11:19.572354Z",
     "shell.execute_reply.started": "2021-12-14T00:11:19.564235Z"
    }
   },
   "outputs": [],
   "source": [
    "efficientnet_output = L.GlobalAveragePooling2D()(efficientnet_model.output)"
   ]
  },
  {
   "cell_type": "markdown",
   "metadata": {},
   "source": [
    "Архитектура Табличной нейронной сети и RNN NLP взята из п.6."
   ]
  },
  {
   "cell_type": "code",
   "execution_count": 223,
   "metadata": {
    "execution": {
     "iopub.execute_input": "2021-12-14T00:11:20.638855Z",
     "iopub.status.busy": "2021-12-14T00:11:20.638466Z",
     "iopub.status.idle": "2021-12-14T00:11:20.705575Z",
     "shell.execute_reply": "2021-12-14T00:11:20.704611Z",
     "shell.execute_reply.started": "2021-12-14T00:11:20.638825Z"
    }
   },
   "outputs": [],
   "source": [
    "# Табличная нейронная сеть\n",
    "tabular_model = Sequential([\n",
    "    L.Input(shape=X.shape[1]),\n",
    "    L.Dense(512, input_dim=X_train.shape[1], activation=\"relu\"),\n",
    "    L.Dropout(0.5),\n",
    "    L.Dense(256, kernel_regularizer=regularizers.l2(\n",
    "        l2=1e-6), activation=\"relu\"),\n",
    "    L.Dropout(0.5),\n",
    "    L.Dense(128, kernel_regularizer=regularizers.l2(\n",
    "        l2=1e-5), activation=\"relu\"),\n",
    "    L.Dropout(0.25)\n",
    "])"
   ]
  },
  {
   "cell_type": "code",
   "execution_count": 224,
   "metadata": {
    "execution": {
     "iopub.execute_input": "2021-12-14T00:11:22.691027Z",
     "iopub.status.busy": "2021-12-14T00:11:22.690681Z",
     "iopub.status.idle": "2021-12-14T00:11:23.415546Z",
     "shell.execute_reply": "2021-12-14T00:11:23.414709Z",
     "shell.execute_reply.started": "2021-12-14T00:11:22.690994Z"
    }
   },
   "outputs": [],
   "source": [
    "# Нейронная сеть для NLP\n",
    "nlp_model = Sequential([\n",
    "    L.Input(shape=MAX_SEQUENCE_LENGTH, name=\"seq_description\"),\n",
    "    L.Embedding(len(tokenize.word_index)+1, MAX_SEQUENCE_LENGTH,),\n",
    "    L.LayerNormalization(),\n",
    "    L.LSTM(256, return_sequences=True),\n",
    "    L.Dropout(0.5),\n",
    "    L.Dense(128, activation=\"sigmoid\"),\n",
    "    L.Dropout(0.5),\n",
    "    L.LSTM(64,),\n",
    "    L.Dropout(0.25),\n",
    "    L.Dense(64, activation=\"relu\"),\n",
    "    L.Dropout(0.25),\n",
    "])"
   ]
  },
  {
   "cell_type": "markdown",
   "metadata": {},
   "source": [
    "Теперь, когда мы создали все три нейронных сети, объединим их с помощью единой \"головы\". Здесь было исследовано 2 варианта головы с различным количеством юнитов в dense-слое (256 и 128), финальный вариант представлен ниже:"
   ]
  },
  {
   "cell_type": "code",
   "execution_count": 225,
   "metadata": {
    "_kg_hide-output": true,
    "execution": {
     "iopub.execute_input": "2021-12-14T00:11:24.976349Z",
     "iopub.status.busy": "2021-12-14T00:11:24.976024Z",
     "iopub.status.idle": "2021-12-14T00:11:25.323483Z",
     "shell.execute_reply": "2021-12-14T00:11:25.322655Z",
     "shell.execute_reply.started": "2021-12-14T00:11:24.976320Z"
    }
   },
   "outputs": [],
   "source": [
    "# объединяем выходы трех нейросетей\n",
    "combinedInput = L.concatenate(\n",
    "    [efficientnet_output, tabular_model.output, nlp_model.output])\n",
    "\n",
    "# being our regression head\n",
    "head = L.Dense(128, activation=\"relu\")(combinedInput)\n",
    "head = L.Dense(1,)(head)\n",
    "# Соберем наши части в одну модель\n",
    "model = Model(inputs=[efficientnet_model.input,\n",
    "                      tabular_model.input, nlp_model.input], outputs=head)\n",
    "# посмотрим описание нашей модели\n",
    "model.summary()"
   ]
  },
  {
   "cell_type": "markdown",
   "metadata": {},
   "source": [
    "Теперь можно приступать к компиляции и обучению нашей модели:"
   ]
  },
  {
   "cell_type": "code",
   "execution_count": 226,
   "metadata": {
    "execution": {
     "iopub.execute_input": "2021-12-14T00:11:27.329521Z",
     "iopub.status.busy": "2021-12-14T00:11:27.329105Z",
     "iopub.status.idle": "2021-12-14T00:11:27.364553Z",
     "shell.execute_reply": "2021-12-14T00:11:27.363665Z",
     "shell.execute_reply.started": "2021-12-14T00:11:27.329487Z"
    }
   },
   "outputs": [],
   "source": [
    "# укажем используемый оптимизатор и начальную скорость обучения\n",
    "optimizer = tf.keras.optimizers.Adam(0.01)\n",
    "# компиляция модели\n",
    "model.compile(loss='MAPE', optimizer=optimizer, metrics=['MAPE'])"
   ]
  },
  {
   "cell_type": "markdown",
   "metadata": {},
   "source": [
    "Немного изменим список наших коллбэков:\n",
    "1. Для EarlyStopping укажем 10 эпох для завершения обучения\n",
    "2. Для ReduceLROnPlateau:\n",
    "    * укажем 3 эпохи для изменения скорости обучения\n",
    "    * установим минимальную скорость обучения 0.00001"
   ]
  },
  {
   "cell_type": "code",
   "execution_count": 227,
   "metadata": {
    "execution": {
     "iopub.execute_input": "2021-12-14T00:11:32.177258Z",
     "iopub.status.busy": "2021-12-14T00:11:32.176902Z",
     "iopub.status.idle": "2021-12-14T00:11:32.184467Z",
     "shell.execute_reply": "2021-12-14T00:11:32.183108Z",
     "shell.execute_reply.started": "2021-12-14T00:11:32.177225Z"
    }
   },
   "outputs": [],
   "source": [
    "checkpoint = ModelCheckpoint(\n",
    "    '../working/best_model.hdf5', monitor=['val_MAPE'], verbose=0, mode='min')\n",
    "earlystop1 = EarlyStopping(\n",
    "    monitor='val_MAPE', patience=10, restore_best_weights=True,)\n",
    "lr_scheduler1 = ReduceLROnPlateau(monitor='val_loss',\n",
    "                                  factor=0.5,  # уменьшим lr в 2 раза\n",
    "                                  patience=3,  # если нет улучшения через 3 эпохи - уменьшить lr\n",
    "                                  min_lr=0.00001,  # минимальная скорость обучения\n",
    "                                  verbose=1,  # выводить сообщения об уменьшении скорости\n",
    "                                  mode='auto')  # выбранный способ отслеживания метрики\n",
    "callbacks_list1 = [checkpoint, earlystop1, lr_scheduler1]"
   ]
  },
  {
   "cell_type": "markdown",
   "metadata": {},
   "source": [
    "Теперь обучим нашу модель (максимальное количество эпох = 60 для того, чтобы влезть в квоту на сохранение):"
   ]
  },
  {
   "cell_type": "code",
   "execution_count": 228,
   "metadata": {
    "_kg_hide-output": true,
    "execution": {
     "iopub.execute_input": "2021-12-14T00:11:46.076138Z",
     "iopub.status.busy": "2021-12-14T00:11:46.075752Z",
     "iopub.status.idle": "2021-12-14T02:11:50.182485Z",
     "shell.execute_reply": "2021-12-14T02:11:50.181731Z",
     "shell.execute_reply.started": "2021-12-14T00:11:46.076105Z"
    }
   },
   "outputs": [],
   "source": [
    "history = model.fit(train_dataset.batch(30),\n",
    "                    epochs=60,\n",
    "                    validation_data=test_dataset.batch(30),\n",
    "                    callbacks=callbacks_list1\n",
    "                    )"
   ]
  },
  {
   "cell_type": "markdown",
   "metadata": {},
   "source": [
    "Посмотрим, как выглядит функция потерь:"
   ]
  },
  {
   "cell_type": "code",
   "execution_count": 229,
   "metadata": {
    "execution": {
     "iopub.execute_input": "2021-12-14T02:11:50.184728Z",
     "iopub.status.busy": "2021-12-14T02:11:50.184446Z",
     "iopub.status.idle": "2021-12-14T02:11:50.352674Z",
     "shell.execute_reply": "2021-12-14T02:11:50.351589Z",
     "shell.execute_reply.started": "2021-12-14T02:11:50.184701Z"
    }
   },
   "outputs": [],
   "source": [
    "plt.title('Loss')\n",
    "plt.plot(history.history['MAPE'], label='train')\n",
    "plt.plot(history.history['val_MAPE'], label='test')\n",
    "plt.show()"
   ]
  },
  {
   "cell_type": "markdown",
   "metadata": {},
   "source": [
    "Как можно увидеть, в начале функция потерь валидационной выборки ведет себя нестабильно, то растет, то падает. Однако, при уменьшении скорости обучения, она становится более гладкой, резких скачков уже не наблюдается."
   ]
  },
  {
   "cell_type": "markdown",
   "metadata": {},
   "source": [
    "Загрузим лучшие веса модели и сохраним модель:"
   ]
  },
  {
   "cell_type": "code",
   "execution_count": 230,
   "metadata": {
    "execution": {
     "iopub.execute_input": "2021-12-14T02:11:50.355286Z",
     "iopub.status.busy": "2021-12-14T02:11:50.354834Z",
     "iopub.status.idle": "2021-12-14T02:11:54.122466Z",
     "shell.execute_reply": "2021-12-14T02:11:54.121561Z",
     "shell.execute_reply.started": "2021-12-14T02:11:50.355242Z"
    }
   },
   "outputs": [],
   "source": [
    "model.load_weights('../working/best_model.hdf5')\n",
    "model.save('../working/nn_final.hdf5')"
   ]
  },
  {
   "cell_type": "markdown",
   "metadata": {},
   "source": [
    "Посмотрим, как себя будет вести MAPE:"
   ]
  },
  {
   "cell_type": "code",
   "execution_count": 231,
   "metadata": {
    "execution": {
     "iopub.execute_input": "2021-12-14T02:11:54.125279Z",
     "iopub.status.busy": "2021-12-14T02:11:54.124746Z",
     "iopub.status.idle": "2021-12-14T02:12:07.130475Z",
     "shell.execute_reply": "2021-12-14T02:12:07.129399Z",
     "shell.execute_reply.started": "2021-12-14T02:11:54.125240Z"
    }
   },
   "outputs": [],
   "source": [
    "test_predict_nn3 = model.predict(test_dataset.batch(30))\n",
    "print(f\"TEST mape: {(mape(y_test, test_predict_nn3[:,0]))*100:0.2f}%\")"
   ]
  },
  {
   "cell_type": "markdown",
   "metadata": {},
   "source": [
    "На валидационных данных мы получили метрику немного хуже, чем у простой табличной сети, но лучше чем у multi-input сети без обработки изображений. Это говорит нам о том, что работа проделана не зря и положительный результат наблюдается. Сделаем сабмит:"
   ]
  },
  {
   "cell_type": "code",
   "execution_count": 233,
   "metadata": {
    "execution": {
     "iopub.execute_input": "2021-12-14T02:12:21.208078Z",
     "iopub.status.busy": "2021-12-14T02:12:21.207806Z",
     "iopub.status.idle": "2021-12-14T02:12:34.995377Z",
     "shell.execute_reply": "2021-12-14T02:12:34.994608Z",
     "shell.execute_reply.started": "2021-12-14T02:12:21.208052Z"
    }
   },
   "outputs": [],
   "source": [
    "sub_predict_nn3 = model.predict(sub_dataset.batch(30))\n",
    "sample_submission['price'] = sub_predict_nn3[:, 0]\n",
    "sample_submission.to_csv('nn3_submission.csv', index=False)"
   ]
  },
  {
   "cell_type": "markdown",
   "metadata": {},
   "source": [
    "На тестовых данных нам удалось улучшить метрику до 11.27%, это очень хороший результат.\n",
    "\n",
    "Для дальнейшего улучшения модели, возможно, стоит рассмотреть более сложные сети, которые необходимо подгружать извне, руководствуясь paperswithcode. Это поможет улучшить обработку изображений, а если к этому добавить передовые нейронные сети для обработки табличных данных и NLP-сети, то метрика может вырасти довольно сильно.\n",
    "\n",
    "Я же попробую применить Blending."
   ]
  },
  {
   "cell_type": "markdown",
   "metadata": {},
   "source": [
    "# 8. Blending и Final Submission"
   ]
  },
  {
   "cell_type": "markdown",
   "metadata": {},
   "source": [
    "В качестве конечного результата используем комбинацию из результатов предсказаний некоторых предыдущих моделей:\n",
    "1. CatBoostRegressor\n",
    "2. Табличная нейронная сеть\n",
    "3. NLP+MLP+EffNetB6 Multi Input NN"
   ]
  },
  {
   "cell_type": "code",
   "execution_count": 234,
   "metadata": {
    "execution": {
     "iopub.execute_input": "2021-12-14T02:15:26.449867Z",
     "iopub.status.busy": "2021-12-14T02:15:26.449348Z",
     "iopub.status.idle": "2021-12-14T02:15:26.464042Z",
     "shell.execute_reply": "2021-12-14T02:15:26.461998Z",
     "shell.execute_reply.started": "2021-12-14T02:15:26.449824Z"
    }
   },
   "outputs": [],
   "source": [
    "blend_predict = (test_predict_catboost +\n",
    "                 test_predict_nn1[:, 0] + test_predict_nn3[:, 0]) / 3\n",
    "print(f\"TEST mape: {(mape(y_test, blend_predict))*100:0.2f}%\")"
   ]
  },
  {
   "cell_type": "markdown",
   "metadata": {},
   "source": [
    "Мы добились самой хорошей метрики, которая у нас была! На этом этапе сделаем финальный сабмит:"
   ]
  },
  {
   "cell_type": "code",
   "execution_count": 236,
   "metadata": {
    "execution": {
     "iopub.execute_input": "2021-12-14T02:18:44.706912Z",
     "iopub.status.busy": "2021-12-14T02:18:44.706534Z",
     "iopub.status.idle": "2021-12-14T02:18:44.721879Z",
     "shell.execute_reply": "2021-12-14T02:18:44.721107Z",
     "shell.execute_reply.started": "2021-12-14T02:18:44.706882Z"
    }
   },
   "outputs": [],
   "source": [
    "blend_sub_predict = (sub_predict_catboost +\n",
    "                     sub_predict_nn1[:, 0] + sub_predict_nn3[:, 0]) / 3\n",
    "sample_submission['price'] = blend_sub_predict\n",
    "sample_submission.to_csv('blend_submission.csv', index=False)"
   ]
  },
  {
   "cell_type": "markdown",
   "metadata": {},
   "source": [
    "Мы получили результат MAPE=10.87%! Данный результат является довольно хорошим достижением, с учетом того, что мы не затрагивали наиболее современные способы решения части задач. Этот сабмит является конечным, перейдем к выводам."
   ]
  },
  {
   "cell_type": "markdown",
   "metadata": {},
   "source": [
    "# 9. Выводы"
   ]
  },
  {
   "cell_type": "markdown",
   "metadata": {},
   "source": [
    "Как и в предыдущих проектах, скажу - я не уверен, что все параметры и архитектуры сетей подобраны лучшим образом, но результат получился хороший. Была проведена предварительная обработка данных, выделены новые фичи, которые использовались при обучении модели. Здесь хочется отметить, что лучшим решением было бы найти фичу, которая еще сильнее погасила бы взаимную корреляцию между столбцами model_time и productionDate. Я думаю, это бы привело к улучшению метрики.\n",
    "\n",
    "Были исследованы различные способы обработки текста для RNN NLP. Здесь, возможно, стоило бы избавиться от используемых в тексте emoji, либо же применить, например, BERT. Насколько я успел прочитать, он очень хорошо справляется с поставленными задачами. Плюс На основе BERT можно создать модель, которая будет работать вместо нашей RNN NLP.\n",
    "\n",
    "С табличными данными примерно та же история, вместо стандартной сборки модели можно использовать сеть TabNet. Насколько я изучил материал по ней, в большинстве задач она показывает себя очень хорошо при работе с табличными данными.\n",
    "\n",
    "Для обработки изображений - есть множество вариантов - от изменения настроек и способа аугментации до изменения обучаемой нами модели. Для достоверности - лучше выбирать модель в соответствии с современными решениями, но не забывать про ограничение на используемой платформе.\n",
    "\n",
    "Проект получился очень интересный, я узнал много различных вещей, которые могут помочь мне в дальнейшем. Также сформировал несколько вопросов, на которые бы очень хотелось получить ответ.\n",
    "\n",
    "По результатам выполнения  проекта были получены следующие метрики MAPE:\n",
    "1. CatBoostRegressor - 11.87%\n",
    "2. Smiple Dense NN - 11.36%\n",
    "3. MLP + RNN NLP  - 11.38%\n",
    "4. MLP + NLP + EffNetB6 - 11.27%\n",
    "5. Blending(1+2+4) - 10.87%"
   ]
  },
  {
   "cell_type": "code",
   "execution_count": null,
   "metadata": {},
   "outputs": [],
   "source": []
  },
  {
   "cell_type": "code",
   "execution_count": null,
   "metadata": {},
   "outputs": [],
   "source": []
  },
  {
   "cell_type": "code",
   "execution_count": null,
   "metadata": {},
   "outputs": [],
   "source": []
  }
 ],
 "metadata": {
  "kernelspec": {
   "display_name": "Python 3",
   "language": "python",
   "name": "python3"
  },
  "language_info": {
   "codemirror_mode": {
    "name": "ipython",
    "version": 3
   },
   "file_extension": ".py",
   "mimetype": "text/x-python",
   "name": "python",
   "nbconvert_exporter": "python",
   "pygments_lexer": "ipython3",
   "version": "3.8.3"
  }
 },
 "nbformat": 4,
 "nbformat_minor": 4
}
