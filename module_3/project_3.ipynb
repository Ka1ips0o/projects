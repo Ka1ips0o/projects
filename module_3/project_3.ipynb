{
 "cells": [
  {
   "cell_type": "markdown",
   "metadata": {},
   "source": [
    "# Проект 3: О вкусной и здоровой пище\n",
    "## Predict TripAdvisor Rating\n",
    "**По ходу задачи:**\n",
    "* Прокачаем работу с pandas\n",
    "* Поймем как делать предобработку различных данных\n",
    "* Научимся работать с пропущенными данными (Nan)\n",
    "* Познакомимся с различными видами кодирования признаков\n",
    "* Немного попробуем [Feature Engineering](https://ru.wikipedia.org/wiki/Конструирование_признаков) (генерировать новые признаки)\n",
    "* Применим ML модель для предсказания рейтингов ресторана   \n"
   ]
  },
  {
   "cell_type": "markdown",
   "metadata": {},
   "source": [
    "Целью проекта является создание и обучение модели на имеющихся у нас данных.\n",
    "\n",
    "Выполнение проекта делится на следующие этапы:\n",
    "1. Импорт необходимых для работы функций и библиотек\n",
    "2. Создание функций, используемых в проекте\n",
    "3. EDA\n",
    "4. Создание и описание новых признаков, необходимых для более точного обучения модели\n",
    "5. Создание модели\n",
    "6. Обучение модели\n",
    "7. Оценка метрики MAE\n",
    "8. Вывод"
   ]
  },
  {
   "cell_type": "markdown",
   "metadata": {},
   "source": [
    "# import"
   ]
  },
  {
   "cell_type": "code",
   "execution_count": 1,
   "metadata": {
    "_cell_guid": "b1076dfc-b9ad-4769-8c92-a6c4dae69d19",
    "_uuid": "8f2839f25d086af736a60e9eeb907d3b93b6e0e5"
   },
   "outputs": [],
   "source": [
    "# Импортируем необходимые библиотеки для обработки данных,построения графиков и преобразования дат\n",
    "import os\n",
    "from sklearn import metrics  # инструменты для оценки точности модели\n",
    "# инструмент для создания и обучения модели\n",
    "from sklearn.ensemble import RandomForestRegressor\n",
    "from sklearn.model_selection import train_test_split\n",
    "import warnings\n",
    "from datetime import datetime\n",
    "import math\n",
    "import numpy as np\n",
    "import pandas as pd  # data processing, CSV file I/O (e.g. pd.read_csv)\n",
    "\n",
    "import matplotlib.pyplot as plt\n",
    "import seaborn as sns\n",
    "%matplotlib inline\n",
    "\n",
    "warnings.simplefilter('ignore')\n",
    "plt.rcParams['figure.figsize'] = (15, 7)\n",
    "\n",
    "# Инструментарий,необходимый для разделения дата-сета:\n",
    "# Импортируем необходимые библиотеки:"
   ]
  },
  {
   "cell_type": "code",
   "execution_count": 2,
   "metadata": {},
   "outputs": [],
   "source": [
    "# Фиксирование значения RANDOM_SEED, позволяющиее воспроизводить проведенные эксперименты\n",
    "RANDOM_SEED = 42"
   ]
  },
  {
   "cell_type": "code",
   "execution_count": 3,
   "metadata": {},
   "outputs": [],
   "source": [
    "# фиксирование пакетов, чтобы эксперименты были воспроизводимы:\n",
    "!pip freeze > requirements.txt"
   ]
  },
  {
   "cell_type": "markdown",
   "metadata": {},
   "source": [
    "## Функции"
   ]
  },
  {
   "cell_type": "code",
   "execution_count": 4,
   "metadata": {},
   "outputs": [],
   "source": [
    "# Функция для округления результатов предсказаний\n",
    "def predict_rounder(y_pred):\n",
    "    return [(round(y/0.5)*0.5) for y in y_pred]\n",
    "\n",
    "# Функция для проверки на присутствие элемента из одного списка в другом\n",
    "\n",
    "\n",
    "def top_check(column):\n",
    "    for i in top_cuisines:  # Список кухонь\n",
    "        if i in column:  # Искомый столбец\n",
    "            return 1\n",
    "    return 0\n",
    "\n",
    "# Функция для выделения дат из столбца reviews\n",
    "\n",
    "\n",
    "def review_dates(col):\n",
    "    # разделяем исходную строку на массивы с датами и комментариями\n",
    "    x = str(col)[2:-2].split('], [')\n",
    "    if (len(x) < 2 or x[1] == ''):\n",
    "        return []  # если отсутствуют даты,вернуть пустой массив\n",
    "# Разделяем даты внутри массива и возвращаем в формате \"старше,новее\"\n",
    "    to_time = pd.to_datetime(x[1].split(', '), format='\\'%m/%d/%Y\\'')\n",
    "    time_min = to_time.min()\n",
    "    time_max = to_time.max()\n",
    "    return[time_min, time_max]\n",
    "\n",
    "# Функция для проверки на присутствие ресторана в списке сетевых\n",
    "\n",
    "\n",
    "def is_net_rest(column):\n",
    "    for i in id_net_list:  # Проверяем в списке сетевых ресторанов\n",
    "        if i in column:  # Проверяем в искомом столбце\n",
    "            return 1\n",
    "    return 0"
   ]
  },
  {
   "cell_type": "markdown",
   "metadata": {},
   "source": [
    "# 1.DATA"
   ]
  },
  {
   "cell_type": "markdown",
   "metadata": {},
   "source": [
    "В этом пункте проводится загрузка данных, первичный осмотр и описание приведенных в дата-сете столбцов"
   ]
  },
  {
   "cell_type": "code",
   "execution_count": 5,
   "metadata": {
    "_cell_guid": "79c7e3d0-c299-4dcb-8224-4455121ee9b0",
    "_uuid": "d629ff2d2480ee46fbb7e2d37f6b5fab8052498a"
   },
   "outputs": [],
   "source": [
    "df = pd.read_csv('main_taskSF.xls')"
   ]
  },
  {
   "cell_type": "code",
   "execution_count": 6,
   "metadata": {},
   "outputs": [
    {
     "name": "stdout",
     "output_type": "stream",
     "text": [
      "<class 'pandas.core.frame.DataFrame'>\n",
      "RangeIndex: 40000 entries, 0 to 39999\n",
      "Data columns (total 10 columns):\n",
      " #   Column             Non-Null Count  Dtype  \n",
      "---  ------             --------------  -----  \n",
      " 0   Restaurant_id      40000 non-null  object \n",
      " 1   City               40000 non-null  object \n",
      " 2   Cuisine Style      30717 non-null  object \n",
      " 3   Ranking            40000 non-null  float64\n",
      " 4   Rating             40000 non-null  float64\n",
      " 5   Price Range        26114 non-null  object \n",
      " 6   Number of Reviews  37457 non-null  float64\n",
      " 7   Reviews            40000 non-null  object \n",
      " 8   URL_TA             40000 non-null  object \n",
      " 9   ID_TA              40000 non-null  object \n",
      "dtypes: float64(3), object(7)\n",
      "memory usage: 3.1+ MB\n"
     ]
    }
   ],
   "source": [
    "df.info()"
   ]
  },
  {
   "cell_type": "markdown",
   "metadata": {},
   "source": [
    "Подробнее по признакам:\n",
    "* City: Город \n",
    "* Cuisine Style: Кухня\n",
    "* Ranking: Ранг ресторана относительно других ресторанов в этом городе\n",
    "* Price Range: Цены в ресторане в 3 категориях\n",
    "* Number of Reviews: Количество отзывов\n",
    "* Reviews: 2 последних отзыва и даты этих отзывов\n",
    "* URL_TA: страница ресторана на 'www.tripadvisor.com' \n",
    "* ID_TA: ID ресторана в TripAdvisor\n",
    "* Rating: Рейтинг ресторана"
   ]
  },
  {
   "cell_type": "code",
   "execution_count": 7,
   "metadata": {},
   "outputs": [
    {
     "data": {
      "text/html": [
       "<div>\n",
       "<style scoped>\n",
       "    .dataframe tbody tr th:only-of-type {\n",
       "        vertical-align: middle;\n",
       "    }\n",
       "\n",
       "    .dataframe tbody tr th {\n",
       "        vertical-align: top;\n",
       "    }\n",
       "\n",
       "    .dataframe thead th {\n",
       "        text-align: right;\n",
       "    }\n",
       "</style>\n",
       "<table border=\"1\" class=\"dataframe\">\n",
       "  <thead>\n",
       "    <tr style=\"text-align: right;\">\n",
       "      <th></th>\n",
       "      <th>Restaurant_id</th>\n",
       "      <th>City</th>\n",
       "      <th>Cuisine Style</th>\n",
       "      <th>Ranking</th>\n",
       "      <th>Rating</th>\n",
       "      <th>Price Range</th>\n",
       "      <th>Number of Reviews</th>\n",
       "      <th>Reviews</th>\n",
       "      <th>URL_TA</th>\n",
       "      <th>ID_TA</th>\n",
       "    </tr>\n",
       "  </thead>\n",
       "  <tbody>\n",
       "    <tr>\n",
       "      <th>6342</th>\n",
       "      <td>id_9743</td>\n",
       "      <td>Paris</td>\n",
       "      <td>['French', 'European']</td>\n",
       "      <td>9745.0</td>\n",
       "      <td>3.5</td>\n",
       "      <td>$$ - $$$</td>\n",
       "      <td>103.0</td>\n",
       "      <td>[['typical french attitude', \"Look we're cool....</td>\n",
       "      <td>/Restaurant_Review-g187147-d1990809-Reviews-Me...</td>\n",
       "      <td>d1990809</td>\n",
       "    </tr>\n",
       "    <tr>\n",
       "      <th>38500</th>\n",
       "      <td>id_1076</td>\n",
       "      <td>London</td>\n",
       "      <td>['Indian', 'Asian', 'Vegetarian Friendly', 'Ve...</td>\n",
       "      <td>1078.0</td>\n",
       "      <td>4.5</td>\n",
       "      <td>$$ - $$$</td>\n",
       "      <td>133.0</td>\n",
       "      <td>[['Interesting and prisey', 'New years eve 201...</td>\n",
       "      <td>/Restaurant_Review-g186338-d10455238-Reviews-F...</td>\n",
       "      <td>d10455238</td>\n",
       "    </tr>\n",
       "    <tr>\n",
       "      <th>39933</th>\n",
       "      <td>id_5209</td>\n",
       "      <td>Paris</td>\n",
       "      <td>['Indian', 'Asian']</td>\n",
       "      <td>5210.0</td>\n",
       "      <td>4.0</td>\n",
       "      <td>$$ - $$$</td>\n",
       "      <td>43.0</td>\n",
       "      <td>[['Delicious Curry!', 'Just Okay food..'], ['0...</td>\n",
       "      <td>/Restaurant_Review-g187147-d8587751-Reviews-Go...</td>\n",
       "      <td>d8587751</td>\n",
       "    </tr>\n",
       "    <tr>\n",
       "      <th>27569</th>\n",
       "      <td>id_1062</td>\n",
       "      <td>Rome</td>\n",
       "      <td>['Italian', 'Pizza', 'Fast Food', 'Street Food...</td>\n",
       "      <td>1063.0</td>\n",
       "      <td>4.5</td>\n",
       "      <td>$</td>\n",
       "      <td>502.0</td>\n",
       "      <td>[['Best pizza', 'The best pizza in Rome!'], ['...</td>\n",
       "      <td>/Restaurant_Review-g187791-d1095877-Reviews-La...</td>\n",
       "      <td>d1095877</td>\n",
       "    </tr>\n",
       "    <tr>\n",
       "      <th>39692</th>\n",
       "      <td>id_596</td>\n",
       "      <td>Amsterdam</td>\n",
       "      <td>['Cafe', 'Fusion', 'Healthy', 'French', 'Dutch...</td>\n",
       "      <td>597.0</td>\n",
       "      <td>5.0</td>\n",
       "      <td>$</td>\n",
       "      <td>42.0</td>\n",
       "      <td>[['have a coffee and look around', 'Amazing fo...</td>\n",
       "      <td>/Restaurant_Review-g188590-d10136222-Reviews-C...</td>\n",
       "      <td>d10136222</td>\n",
       "    </tr>\n",
       "  </tbody>\n",
       "</table>\n",
       "</div>"
      ],
      "text/plain": [
       "      Restaurant_id       City  \\\n",
       "6342        id_9743      Paris   \n",
       "38500       id_1076     London   \n",
       "39933       id_5209      Paris   \n",
       "27569       id_1062       Rome   \n",
       "39692        id_596  Amsterdam   \n",
       "\n",
       "                                           Cuisine Style  Ranking  Rating  \\\n",
       "6342                              ['French', 'European']   9745.0     3.5   \n",
       "38500  ['Indian', 'Asian', 'Vegetarian Friendly', 'Ve...   1078.0     4.5   \n",
       "39933                                ['Indian', 'Asian']   5210.0     4.0   \n",
       "27569  ['Italian', 'Pizza', 'Fast Food', 'Street Food...   1063.0     4.5   \n",
       "39692  ['Cafe', 'Fusion', 'Healthy', 'French', 'Dutch...    597.0     5.0   \n",
       "\n",
       "      Price Range  Number of Reviews  \\\n",
       "6342     $$ - $$$              103.0   \n",
       "38500    $$ - $$$              133.0   \n",
       "39933    $$ - $$$               43.0   \n",
       "27569           $              502.0   \n",
       "39692           $               42.0   \n",
       "\n",
       "                                                 Reviews  \\\n",
       "6342   [['typical french attitude', \"Look we're cool....   \n",
       "38500  [['Interesting and prisey', 'New years eve 201...   \n",
       "39933  [['Delicious Curry!', 'Just Okay food..'], ['0...   \n",
       "27569  [['Best pizza', 'The best pizza in Rome!'], ['...   \n",
       "39692  [['have a coffee and look around', 'Amazing fo...   \n",
       "\n",
       "                                                  URL_TA      ID_TA  \n",
       "6342   /Restaurant_Review-g187147-d1990809-Reviews-Me...   d1990809  \n",
       "38500  /Restaurant_Review-g186338-d10455238-Reviews-F...  d10455238  \n",
       "39933  /Restaurant_Review-g187147-d8587751-Reviews-Go...   d8587751  \n",
       "27569  /Restaurant_Review-g187791-d1095877-Reviews-La...   d1095877  \n",
       "39692  /Restaurant_Review-g188590-d10136222-Reviews-C...  d10136222  "
      ]
     },
     "execution_count": 7,
     "metadata": {},
     "output_type": "execute_result"
    }
   ],
   "source": [
    "df.sample(5)"
   ]
  },
  {
   "cell_type": "code",
   "execution_count": 8,
   "metadata": {},
   "outputs": [
    {
     "data": {
      "text/plain": [
       "\"[['Unique cuisine', 'Delicious Nepalese food'], ['07/06/2017', '06/19/2016']]\""
      ]
     },
     "execution_count": 8,
     "metadata": {},
     "output_type": "execute_result"
    }
   ],
   "source": [
    "df.Reviews[1]"
   ]
  },
  {
   "cell_type": "markdown",
   "metadata": {},
   "source": [
    "Данные засорены, во многих столбцах есть пропуски. Числовых столбцов среди представленного дата-сета мало, требуется дальнейшая предобработка. Кроме того, один из числовых столбцов является целевым. Для начала выделим еще раз, в каких столбцах отсутствуют значения и в каком количестве."
   ]
  },
  {
   "cell_type": "code",
   "execution_count": 9,
   "metadata": {},
   "outputs": [
    {
     "data": {
      "text/plain": [
       "Price Range          13886\n",
       "Cuisine Style         9283\n",
       "Number of Reviews     2543\n",
       "ID_TA                    0\n",
       "URL_TA                   0\n",
       "Reviews                  0\n",
       "Rating                   0\n",
       "Ranking                  0\n",
       "City                     0\n",
       "Restaurant_id            0\n",
       "dtype: int64"
      ]
     },
     "execution_count": 9,
     "metadata": {},
     "output_type": "execute_result"
    }
   ],
   "source": [
    "df.isnull().sum().sort_values(ascending=False)"
   ]
  },
  {
   "cell_type": "markdown",
   "metadata": {},
   "source": [
    "Таким образом, мы имеем 4 столбца, которые точно требуют определенной очистки и предобработки. При дальнейшем исследовании их может стать больше. Преобразуем названия столбцов в более удобные для дальнейшего использования:"
   ]
  },
  {
   "cell_type": "code",
   "execution_count": 10,
   "metadata": {},
   "outputs": [],
   "source": [
    "df.columns = ['rest_id', 'city', 'cuisine_style', 'ranking', 'rating',\n",
    "              'price_range', 'reviews_number', 'reviews', 'url_ta', 'id_ta']"
   ]
  },
  {
   "cell_type": "code",
   "execution_count": 11,
   "metadata": {},
   "outputs": [
    {
     "data": {
      "text/html": [
       "<div>\n",
       "<style scoped>\n",
       "    .dataframe tbody tr th:only-of-type {\n",
       "        vertical-align: middle;\n",
       "    }\n",
       "\n",
       "    .dataframe tbody tr th {\n",
       "        vertical-align: top;\n",
       "    }\n",
       "\n",
       "    .dataframe thead th {\n",
       "        text-align: right;\n",
       "    }\n",
       "</style>\n",
       "<table border=\"1\" class=\"dataframe\">\n",
       "  <thead>\n",
       "    <tr style=\"text-align: right;\">\n",
       "      <th></th>\n",
       "      <th>rest_id</th>\n",
       "      <th>city</th>\n",
       "      <th>cuisine_style</th>\n",
       "      <th>ranking</th>\n",
       "      <th>rating</th>\n",
       "      <th>price_range</th>\n",
       "      <th>reviews_number</th>\n",
       "      <th>reviews</th>\n",
       "      <th>url_ta</th>\n",
       "      <th>id_ta</th>\n",
       "    </tr>\n",
       "  </thead>\n",
       "  <tbody>\n",
       "    <tr>\n",
       "      <th>0</th>\n",
       "      <td>id_5569</td>\n",
       "      <td>Paris</td>\n",
       "      <td>['European', 'French', 'International']</td>\n",
       "      <td>5570.0</td>\n",
       "      <td>3.5</td>\n",
       "      <td>$$ - $$$</td>\n",
       "      <td>194.0</td>\n",
       "      <td>[['Good food at your doorstep', 'A good hotel ...</td>\n",
       "      <td>/Restaurant_Review-g187147-d1912643-Reviews-R_...</td>\n",
       "      <td>d1912643</td>\n",
       "    </tr>\n",
       "    <tr>\n",
       "      <th>1</th>\n",
       "      <td>id_1535</td>\n",
       "      <td>Stockholm</td>\n",
       "      <td>NaN</td>\n",
       "      <td>1537.0</td>\n",
       "      <td>4.0</td>\n",
       "      <td>NaN</td>\n",
       "      <td>10.0</td>\n",
       "      <td>[['Unique cuisine', 'Delicious Nepalese food']...</td>\n",
       "      <td>/Restaurant_Review-g189852-d7992032-Reviews-Bu...</td>\n",
       "      <td>d7992032</td>\n",
       "    </tr>\n",
       "    <tr>\n",
       "      <th>2</th>\n",
       "      <td>id_352</td>\n",
       "      <td>London</td>\n",
       "      <td>['Japanese', 'Sushi', 'Asian', 'Grill', 'Veget...</td>\n",
       "      <td>353.0</td>\n",
       "      <td>4.5</td>\n",
       "      <td>$$$$</td>\n",
       "      <td>688.0</td>\n",
       "      <td>[['Catch up with friends', 'Not exceptional'],...</td>\n",
       "      <td>/Restaurant_Review-g186338-d8632781-Reviews-RO...</td>\n",
       "      <td>d8632781</td>\n",
       "    </tr>\n",
       "    <tr>\n",
       "      <th>3</th>\n",
       "      <td>id_3456</td>\n",
       "      <td>Berlin</td>\n",
       "      <td>NaN</td>\n",
       "      <td>3458.0</td>\n",
       "      <td>5.0</td>\n",
       "      <td>NaN</td>\n",
       "      <td>3.0</td>\n",
       "      <td>[[], []]</td>\n",
       "      <td>/Restaurant_Review-g187323-d1358776-Reviews-Es...</td>\n",
       "      <td>d1358776</td>\n",
       "    </tr>\n",
       "    <tr>\n",
       "      <th>4</th>\n",
       "      <td>id_615</td>\n",
       "      <td>Munich</td>\n",
       "      <td>['German', 'Central European', 'Vegetarian Fri...</td>\n",
       "      <td>621.0</td>\n",
       "      <td>4.0</td>\n",
       "      <td>$$ - $$$</td>\n",
       "      <td>84.0</td>\n",
       "      <td>[['Best place to try a Bavarian food', 'Nice b...</td>\n",
       "      <td>/Restaurant_Review-g187309-d6864963-Reviews-Au...</td>\n",
       "      <td>d6864963</td>\n",
       "    </tr>\n",
       "    <tr>\n",
       "      <th>...</th>\n",
       "      <td>...</td>\n",
       "      <td>...</td>\n",
       "      <td>...</td>\n",
       "      <td>...</td>\n",
       "      <td>...</td>\n",
       "      <td>...</td>\n",
       "      <td>...</td>\n",
       "      <td>...</td>\n",
       "      <td>...</td>\n",
       "      <td>...</td>\n",
       "    </tr>\n",
       "    <tr>\n",
       "      <th>39995</th>\n",
       "      <td>id_499</td>\n",
       "      <td>Milan</td>\n",
       "      <td>['Italian', 'Vegetarian Friendly', 'Vegan Opti...</td>\n",
       "      <td>500.0</td>\n",
       "      <td>4.5</td>\n",
       "      <td>$$ - $$$</td>\n",
       "      <td>79.0</td>\n",
       "      <td>[['The real Italian experience!', 'Wonderful f...</td>\n",
       "      <td>/Restaurant_Review-g187849-d2104414-Reviews-Ro...</td>\n",
       "      <td>d2104414</td>\n",
       "    </tr>\n",
       "    <tr>\n",
       "      <th>39996</th>\n",
       "      <td>id_6340</td>\n",
       "      <td>Paris</td>\n",
       "      <td>['French', 'American', 'Bar', 'European', 'Veg...</td>\n",
       "      <td>6341.0</td>\n",
       "      <td>3.5</td>\n",
       "      <td>$$ - $$$</td>\n",
       "      <td>542.0</td>\n",
       "      <td>[['Parisian atmosphere', 'Bit pricey but inter...</td>\n",
       "      <td>/Restaurant_Review-g187147-d1800036-Reviews-La...</td>\n",
       "      <td>d1800036</td>\n",
       "    </tr>\n",
       "    <tr>\n",
       "      <th>39997</th>\n",
       "      <td>id_1649</td>\n",
       "      <td>Stockholm</td>\n",
       "      <td>['Japanese', 'Sushi']</td>\n",
       "      <td>1652.0</td>\n",
       "      <td>4.5</td>\n",
       "      <td>NaN</td>\n",
       "      <td>4.0</td>\n",
       "      <td>[['Good by swedish standards', 'A hidden jewel...</td>\n",
       "      <td>/Restaurant_Review-g189852-d947615-Reviews-Sus...</td>\n",
       "      <td>d947615</td>\n",
       "    </tr>\n",
       "    <tr>\n",
       "      <th>39998</th>\n",
       "      <td>id_640</td>\n",
       "      <td>Warsaw</td>\n",
       "      <td>['Polish', 'European', 'Eastern European', 'Ce...</td>\n",
       "      <td>641.0</td>\n",
       "      <td>4.0</td>\n",
       "      <td>$$ - $$$</td>\n",
       "      <td>70.0</td>\n",
       "      <td>[['Underground restaurant', 'Oldest Restaurant...</td>\n",
       "      <td>/Restaurant_Review-g274856-d1100838-Reviews-Ho...</td>\n",
       "      <td>d1100838</td>\n",
       "    </tr>\n",
       "    <tr>\n",
       "      <th>39999</th>\n",
       "      <td>id_4824</td>\n",
       "      <td>Milan</td>\n",
       "      <td>['Spanish']</td>\n",
       "      <td>4827.0</td>\n",
       "      <td>3.0</td>\n",
       "      <td>$$ - $$$</td>\n",
       "      <td>260.0</td>\n",
       "      <td>[['Average', 'Nice an informal'], ['01/31/2016...</td>\n",
       "      <td>/Restaurant_Review-g187849-d1109020-Reviews-Ta...</td>\n",
       "      <td>d1109020</td>\n",
       "    </tr>\n",
       "  </tbody>\n",
       "</table>\n",
       "<p>40000 rows × 10 columns</p>\n",
       "</div>"
      ],
      "text/plain": [
       "       rest_id       city                                      cuisine_style  \\\n",
       "0      id_5569      Paris            ['European', 'French', 'International']   \n",
       "1      id_1535  Stockholm                                                NaN   \n",
       "2       id_352     London  ['Japanese', 'Sushi', 'Asian', 'Grill', 'Veget...   \n",
       "3      id_3456     Berlin                                                NaN   \n",
       "4       id_615     Munich  ['German', 'Central European', 'Vegetarian Fri...   \n",
       "...        ...        ...                                                ...   \n",
       "39995   id_499      Milan  ['Italian', 'Vegetarian Friendly', 'Vegan Opti...   \n",
       "39996  id_6340      Paris  ['French', 'American', 'Bar', 'European', 'Veg...   \n",
       "39997  id_1649  Stockholm                              ['Japanese', 'Sushi']   \n",
       "39998   id_640     Warsaw  ['Polish', 'European', 'Eastern European', 'Ce...   \n",
       "39999  id_4824      Milan                                        ['Spanish']   \n",
       "\n",
       "       ranking  rating price_range  reviews_number  \\\n",
       "0       5570.0     3.5    $$ - $$$           194.0   \n",
       "1       1537.0     4.0         NaN            10.0   \n",
       "2        353.0     4.5        $$$$           688.0   \n",
       "3       3458.0     5.0         NaN             3.0   \n",
       "4        621.0     4.0    $$ - $$$            84.0   \n",
       "...        ...     ...         ...             ...   \n",
       "39995    500.0     4.5    $$ - $$$            79.0   \n",
       "39996   6341.0     3.5    $$ - $$$           542.0   \n",
       "39997   1652.0     4.5         NaN             4.0   \n",
       "39998    641.0     4.0    $$ - $$$            70.0   \n",
       "39999   4827.0     3.0    $$ - $$$           260.0   \n",
       "\n",
       "                                                 reviews  \\\n",
       "0      [['Good food at your doorstep', 'A good hotel ...   \n",
       "1      [['Unique cuisine', 'Delicious Nepalese food']...   \n",
       "2      [['Catch up with friends', 'Not exceptional'],...   \n",
       "3                                               [[], []]   \n",
       "4      [['Best place to try a Bavarian food', 'Nice b...   \n",
       "...                                                  ...   \n",
       "39995  [['The real Italian experience!', 'Wonderful f...   \n",
       "39996  [['Parisian atmosphere', 'Bit pricey but inter...   \n",
       "39997  [['Good by swedish standards', 'A hidden jewel...   \n",
       "39998  [['Underground restaurant', 'Oldest Restaurant...   \n",
       "39999  [['Average', 'Nice an informal'], ['01/31/2016...   \n",
       "\n",
       "                                                  url_ta     id_ta  \n",
       "0      /Restaurant_Review-g187147-d1912643-Reviews-R_...  d1912643  \n",
       "1      /Restaurant_Review-g189852-d7992032-Reviews-Bu...  d7992032  \n",
       "2      /Restaurant_Review-g186338-d8632781-Reviews-RO...  d8632781  \n",
       "3      /Restaurant_Review-g187323-d1358776-Reviews-Es...  d1358776  \n",
       "4      /Restaurant_Review-g187309-d6864963-Reviews-Au...  d6864963  \n",
       "...                                                  ...       ...  \n",
       "39995  /Restaurant_Review-g187849-d2104414-Reviews-Ro...  d2104414  \n",
       "39996  /Restaurant_Review-g187147-d1800036-Reviews-La...  d1800036  \n",
       "39997  /Restaurant_Review-g189852-d947615-Reviews-Sus...   d947615  \n",
       "39998  /Restaurant_Review-g274856-d1100838-Reviews-Ho...  d1100838  \n",
       "39999  /Restaurant_Review-g187849-d1109020-Reviews-Ta...  d1109020  \n",
       "\n",
       "[40000 rows x 10 columns]"
      ]
     },
     "execution_count": 11,
     "metadata": {},
     "output_type": "execute_result"
    }
   ],
   "source": [
    "df"
   ]
  },
  {
   "cell_type": "markdown",
   "metadata": {},
   "source": [
    "## 2. Обработка признаков"
   ]
  },
  {
   "cell_type": "markdown",
   "metadata": {},
   "source": [
    "### 2.1. Нечисловые столбцы"
   ]
  },
  {
   "cell_type": "markdown",
   "metadata": {},
   "source": [
    "### 2.1.1. А сетевой ли у нас ресторан или нет? Расмотрим столбец rest_id"
   ]
  },
  {
   "cell_type": "code",
   "execution_count": 12,
   "metadata": {},
   "outputs": [
    {
     "data": {
      "text/plain": [
       "11909"
      ]
     },
     "execution_count": 12,
     "metadata": {},
     "output_type": "execute_result"
    }
   ],
   "source": [
    "df.rest_id.nunique()"
   ]
  },
  {
   "cell_type": "markdown",
   "metadata": {},
   "source": [
    "Мы видим, что, в отличии от общего количества строк (50000), уникальных значений в id ресторана всего 13094. Значит копаем глубже. Посчитаем, сколько ресторанов являются сетевыми:"
   ]
  },
  {
   "cell_type": "code",
   "execution_count": 13,
   "metadata": {},
   "outputs": [
    {
     "data": {
      "text/plain": [
       "7204"
      ]
     },
     "execution_count": 13,
     "metadata": {},
     "output_type": "execute_result"
    }
   ],
   "source": [
    "# создаем список, в котором хранятся данные о том, сколько раз встречается каждый id ресторана в дата-сете\n",
    "id_list = df.rest_id.value_counts()\n",
    "len(id_list[id_list > 1])  # отфильтруем несетевые рестораны"
   ]
  },
  {
   "cell_type": "markdown",
   "metadata": {},
   "source": [
    "И правда, в дата-сете присутствует аж 7204 сетевых ресторана. Итого, мы имеем строковый столбец, из которого в дальнейшем получим новую информацию. Эти данные можно будет использовать при построении модели."
   ]
  },
  {
   "cell_type": "markdown",
   "metadata": {},
   "source": [
    "### 2.1.2. Столбец City"
   ]
  },
  {
   "cell_type": "markdown",
   "metadata": {},
   "source": [
    "Посмотрим, получится ли что-то придумать со столбцом city, где хранится информация о городе ресторана.\n",
    "Для начала стоит проверить сколько вообще имеется уникальных значений в данном столбце:"
   ]
  },
  {
   "cell_type": "code",
   "execution_count": 14,
   "metadata": {},
   "outputs": [
    {
     "data": {
      "text/plain": [
       "31"
      ]
     },
     "execution_count": 14,
     "metadata": {},
     "output_type": "execute_result"
    }
   ],
   "source": [
    "df.city.nunique()"
   ]
  },
  {
   "cell_type": "markdown",
   "metadata": {},
   "source": [
    "Итак, мы имеем всего 31 город, не так уж и много. Теперь можно наглядно посмотреть, сколько раз встречается каждый город в нашем дата-сете:"
   ]
  },
  {
   "cell_type": "code",
   "execution_count": 15,
   "metadata": {},
   "outputs": [
    {
     "data": {
      "text/plain": [
       "London        5757\n",
       "Paris         4897\n",
       "Madrid        3108\n",
       "Barcelona     2734\n",
       "Berlin        2155\n",
       "Milan         2133\n",
       "Rome          2078\n",
       "Prague        1443\n",
       "Lisbon        1300\n",
       "Vienna        1166\n",
       "Amsterdam     1086\n",
       "Brussels      1060\n",
       "Hamburg        949\n",
       "Munich         893\n",
       "Lyon           892\n",
       "Stockholm      820\n",
       "Budapest       816\n",
       "Warsaw         727\n",
       "Dublin         673\n",
       "Copenhagen     659\n",
       "Athens         628\n",
       "Edinburgh      596\n",
       "Zurich         538\n",
       "Oporto         513\n",
       "Geneva         481\n",
       "Krakow         443\n",
       "Oslo           385\n",
       "Helsinki       376\n",
       "Bratislava     301\n",
       "Luxembourg     210\n",
       "Ljubljana      183\n",
       "Name: city, dtype: int64"
      ]
     },
     "execution_count": 15,
     "metadata": {},
     "output_type": "execute_result"
    }
   ],
   "source": [
    "df_cities_count = df.city.value_counts()\n",
    "df_cities_count"
   ]
  },
  {
   "cell_type": "markdown",
   "metadata": {},
   "source": [
    "Построим график для большей наглядности:"
   ]
  },
  {
   "cell_type": "code",
   "execution_count": 16,
   "metadata": {},
   "outputs": [
    {
     "data": {
      "text/plain": [
       "Text(0.5, 0, 'Город')"
      ]
     },
     "execution_count": 16,
     "metadata": {},
     "output_type": "execute_result"
    },
    {
     "data": {
      "image/png": "[encoded data removed]",
      "text/plain": [
       "<Figure size 1440x360 with 1 Axes>"
      ]
     },
     "metadata": {
      "needs_background": "light"
     },
     "output_type": "display_data"
    }
   ],
   "source": [
    "plt.figure(figsize=(20, 5))\n",
    "sns.barplot(x=df_cities_count.index, y=df_cities_count)\n",
    "plt.title('Распределение городов', fontsize=15)\n",
    "plt.ylabel('Количество упоминаний')\n",
    "plt.xticks(rotation=90)\n",
    "plt.xlabel('Город')"
   ]
  },
  {
   "cell_type": "markdown",
   "metadata": {},
   "source": [
    "Из представленного графика видно, что распрделение неравномерное. Количество упоминаний некоторых городов в дата-сете оказалось мало по сравнению с лидерами данного столбца. В дальнейшем можно преобразовать данный столбец в dummy-переменные. Но для этого стоит немного уменьшить количество присутствующих здесь переменных. посмотрим процентное соотношение упоминаний каждого города:"
   ]
  },
  {
   "cell_type": "code",
   "execution_count": 17,
   "metadata": {},
   "outputs": [
    {
     "data": {
      "text/plain": [
       "London        14.3925\n",
       "Paris         12.2425\n",
       "Madrid         7.7700\n",
       "Barcelona      6.8350\n",
       "Berlin         5.3875\n",
       "Milan          5.3325\n",
       "Rome           5.1950\n",
       "Prague         3.6075\n",
       "Lisbon         3.2500\n",
       "Vienna         2.9150\n",
       "Amsterdam      2.7150\n",
       "Brussels       2.6500\n",
       "Hamburg        2.3725\n",
       "Munich         2.2325\n",
       "Lyon           2.2300\n",
       "Stockholm      2.0500\n",
       "Budapest       2.0400\n",
       "Warsaw         1.8175\n",
       "Dublin         1.6825\n",
       "Copenhagen     1.6475\n",
       "Athens         1.5700\n",
       "Edinburgh      1.4900\n",
       "Zurich         1.3450\n",
       "Oporto         1.2825\n",
       "Geneva         1.2025\n",
       "Krakow         1.1075\n",
       "Oslo           0.9625\n",
       "Helsinki       0.9400\n",
       "Bratislava     0.7525\n",
       "Luxembourg     0.5250\n",
       "Ljubljana      0.4575\n",
       "Name: city, dtype: float64"
      ]
     },
     "execution_count": 17,
     "metadata": {},
     "output_type": "execute_result"
    }
   ],
   "source": [
    "df_sum_cities = len(df.city)\n",
    "# Показывает, сколько % упоминаний данного города от общего кол-ва значений в city\n",
    "city_to_all = df_cities_count/df_sum_cities*100\n",
    "city_to_all"
   ]
  },
  {
   "cell_type": "markdown",
   "metadata": {},
   "source": [
    "Мы видим, что некоторые города занимают 2% и менее в общем списке. Такие города являются редкими и  дальнейшем их можно будет заменить значением 'Other'. Кроме того, столбец city может нам помочь в дальнейшем при создании новых признаков."
   ]
  },
  {
   "cell_type": "markdown",
   "metadata": {},
   "source": [
    "### 2.1.3. Столбец cuisine_style"
   ]
  },
  {
   "cell_type": "markdown",
   "metadata": {},
   "source": [
    "#### А что это такое и с чем его едят?"
   ]
  },
  {
   "cell_type": "markdown",
   "metadata": {},
   "source": [
    "Для начала посмотрим на то, как представлен столбец cuisine"
   ]
  },
  {
   "cell_type": "code",
   "execution_count": 18,
   "metadata": {},
   "outputs": [
    {
     "data": {
      "text/plain": [
       "str"
      ]
     },
     "execution_count": 18,
     "metadata": {},
     "output_type": "execute_result"
    }
   ],
   "source": [
    "type(df.cuisine_style[0])"
   ]
  },
  {
   "cell_type": "markdown",
   "metadata": {},
   "source": [
    "Данные в ячейке представлены ввиде строки, но что же внутри нее?\n",
    "Рассмотрим на примере строки 4:"
   ]
  },
  {
   "cell_type": "code",
   "execution_count": 19,
   "metadata": {},
   "outputs": [
    {
     "data": {
      "text/plain": [
       "\"['German', 'Central European', 'Vegetarian Friendly']\""
      ]
     },
     "execution_count": 19,
     "metadata": {},
     "output_type": "execute_result"
    }
   ],
   "source": [
    "df.cuisine_style[4]"
   ]
  },
  {
   "cell_type": "markdown",
   "metadata": {},
   "source": [
    "Теперь мы видим, что внутри строки находится список с названием кухни. \n",
    "Проверим сколько всего таких вариаций:"
   ]
  },
  {
   "cell_type": "code",
   "execution_count": 20,
   "metadata": {
    "scrolled": true
   },
   "outputs": [
    {
     "data": {
      "text/plain": [
       "NaN                                                                                                                         9283\n",
       "['Italian']                                                                                                                 1032\n",
       "['French']                                                                                                                   805\n",
       "['Spanish']                                                                                                                  695\n",
       "['French', 'European']                                                                                                       405\n",
       "                                                                                                                            ... \n",
       "['Italian', 'Fast Food', 'Mediterranean', 'Delicatessen', 'Vegetarian Friendly', 'Vegan Options', 'Gluten Free Options']       1\n",
       "['French', 'British', 'Welsh']                                                                                                 1\n",
       "['Italian', 'Cafe', 'Mediterranean', 'European', 'Street Food', 'Vegetarian Friendly', 'Gluten Free Options']                  1\n",
       "['Asian', 'Thai', 'Korean']                                                                                                    1\n",
       "['French', 'European', 'Soups', 'Contemporary', 'Vegetarian Friendly', 'Gluten Free Options']                                  1\n",
       "Name: cuisine_style, Length: 9008, dtype: int64"
      ]
     },
     "execution_count": 20,
     "metadata": {},
     "output_type": "execute_result"
    }
   ],
   "source": [
    "df.cuisine_style.value_counts(dropna=False)"
   ]
  },
  {
   "cell_type": "markdown",
   "metadata": {},
   "source": [
    "Из полученнго результата видно, что для дальнейшей работы будет разумно выделить отдельно список всех представленных в ресторанах кухонь. Также, наибольшее количество значений в списке занимает NaN, с этим необходимо что-то придумать.\n",
    "Можно было бы заполнить значения самой часто встречаемой кухней, но логичнее будет заполнить значением ['no_information']."
   ]
  },
  {
   "cell_type": "code",
   "execution_count": 21,
   "metadata": {},
   "outputs": [],
   "source": [
    "df['cuisine_style'] = df.cuisine_style.apply(\n",
    "    lambda x: \"'no_information'\" if pd.isna(x) else x)"
   ]
  },
  {
   "cell_type": "markdown",
   "metadata": {},
   "source": [
    "Пол дела сделано. Теперь для комфортной работы со столбцом осталось преобразовать значения строки в массивы данных:"
   ]
  },
  {
   "cell_type": "code",
   "execution_count": 22,
   "metadata": {},
   "outputs": [],
   "source": [
    "df.cuisine_style = df.cuisine_style.apply(lambda x: str(x)[1:-1].split(', '))"
   ]
  },
  {
   "cell_type": "markdown",
   "metadata": {},
   "source": [
    "Посмотрим что вышло:"
   ]
  },
  {
   "cell_type": "code",
   "execution_count": 23,
   "metadata": {},
   "outputs": [
    {
     "data": {
      "text/plain": [
       "list"
      ]
     },
     "execution_count": 23,
     "metadata": {},
     "output_type": "execute_result"
    }
   ],
   "source": [
    "type(df.cuisine_style[0])"
   ]
  },
  {
   "cell_type": "markdown",
   "metadata": {},
   "source": [
    "Замечательно! Теперь значения столбца представляют собой массивы, внутри которых можно будет искать необходимые нам данные."
   ]
  },
  {
   "cell_type": "markdown",
   "metadata": {},
   "source": [
    "#### Подготовим пищу для размышлений"
   ]
  },
  {
   "cell_type": "markdown",
   "metadata": {},
   "source": [
    "Теперь, когда у нас есть возможность работать с представленными кухнями, можно сформировать список с суммарным количеством их упоминаний:"
   ]
  },
  {
   "cell_type": "code",
   "execution_count": 24,
   "metadata": {},
   "outputs": [
    {
     "data": {
      "text/plain": [
       "'Vegetarian Friendly'    11189\n",
       "'European'               10060\n",
       "no_information            9283\n",
       "'Mediterranean'           6277\n",
       "'Italian'                 5964\n",
       "                         ...  \n",
       "'Xinjiang'                   1\n",
       "'Latvian'                    1\n",
       "'Salvadoran'                 1\n",
       "'Burmese'                    1\n",
       "'Yunnan'                     1\n",
       "Name: cuisine_style, Length: 126, dtype: int64"
      ]
     },
     "execution_count": 24,
     "metadata": {},
     "output_type": "execute_result"
    }
   ],
   "source": [
    "all_cuisines = df.cuisine_style.explode().value_counts()\n",
    "all_cuisines"
   ]
  },
  {
   "cell_type": "markdown",
   "metadata": {},
   "source": [
    "Давайте более наглядно посмотрим, сколько раз встречается та или иная кухня в дата-сете:"
   ]
  },
  {
   "cell_type": "code",
   "execution_count": 25,
   "metadata": {},
   "outputs": [
    {
     "data": {
      "text/plain": [
       "Text(0.5, 0, 'Кухня')"
      ]
     },
     "execution_count": 25,
     "metadata": {},
     "output_type": "execute_result"
    },
    {
     "data": {
      "image/png": "[encoded data removed]",
      "text/plain": [
       "<Figure size 1800x360 with 1 Axes>"
      ]
     },
     "metadata": {
      "needs_background": "light"
     },
     "output_type": "display_data"
    }
   ],
   "source": [
    "plt.figure(figsize=(25, 5))\n",
    "sns.barplot(x=all_cuisines.index, y=all_cuisines)\n",
    "plt.title('Распределение кухонь', fontsize=15)\n",
    "plt.ylabel('Количество упоминаний')\n",
    "plt.xticks(rotation=90)\n",
    "plt.xlabel('Кухня')"
   ]
  },
  {
   "cell_type": "markdown",
   "metadata": {},
   "source": [
    "Как можно увидеть из графика, распределение экспоненциальное,а значит все кухни обладают одинаковой популярностью. Поэтому можно выделить из всего этого списка самые \"модные\" кухни и сформировать топ (возьмем 10 самых популярных). Такой список поможет создать новые признаки, например \"присутствует ли кухня из топ-10 в данном ресторане\"."
   ]
  },
  {
   "cell_type": "code",
   "execution_count": 26,
   "metadata": {},
   "outputs": [
    {
     "data": {
      "text/plain": [
       "[\"'Vegetarian Friendly'\",\n",
       " \"'European'\",\n",
       " 'no_information',\n",
       " \"'Mediterranean'\",\n",
       " \"'Italian'\",\n",
       " \"'Vegan Options'\",\n",
       " \"'Gluten Free Options'\",\n",
       " \"'Bar'\",\n",
       " \"'French'\",\n",
       " \"'Asian'\",\n",
       " \"'Pizza'\"]"
      ]
     },
     "execution_count": 26,
     "metadata": {},
     "output_type": "execute_result"
    }
   ],
   "source": [
    "# берем 11 индексов,т.к. присутствует no_information\n",
    "top_cuisines = list(all_cuisines.index[0:11])\n",
    "top_cuisines"
   ]
  },
  {
   "cell_type": "markdown",
   "metadata": {},
   "source": [
    "Как можно заметить, мы взяли 11 значений, а не 10 как требовалось. Это связано с тем, что в списке кухонь 3 место занимает значение \"no_information\". Так как особой пользы оно нам не принесет, от него стоит избавиться:"
   ]
  },
  {
   "cell_type": "code",
   "execution_count": 27,
   "metadata": {},
   "outputs": [
    {
     "data": {
      "text/plain": [
       "[\"'Vegetarian Friendly'\",\n",
       " \"'European'\",\n",
       " \"'Mediterranean'\",\n",
       " \"'Italian'\",\n",
       " \"'Vegan Options'\",\n",
       " \"'Gluten Free Options'\",\n",
       " \"'Bar'\",\n",
       " \"'French'\",\n",
       " \"'Asian'\",\n",
       " \"'Pizza'\"]"
      ]
     },
     "execution_count": 27,
     "metadata": {},
     "output_type": "execute_result"
    }
   ],
   "source": [
    "top_cuisines.remove(\"no_information\")\n",
    "top_cuisines"
   ]
  },
  {
   "cell_type": "markdown",
   "metadata": {},
   "source": [
    "Список из топ-10 кухонь по всему предоставленному дата-сету сформирован и готов к дальнейшему использованию."
   ]
  },
  {
   "cell_type": "markdown",
   "metadata": {},
   "source": [
    "### 2.1.4. Стобец price_range"
   ]
  },
  {
   "cell_type": "markdown",
   "metadata": {},
   "source": [
    "Со столбцом price_range можно проделать несколько манипуляций, зависит только от того, что даст лучший результат.\n",
    "Для начала взглянем на то,насколько данный столбец заполнен:"
   ]
  },
  {
   "cell_type": "code",
   "execution_count": 28,
   "metadata": {},
   "outputs": [
    {
     "data": {
      "text/plain": [
       "$$ - $$$    18412\n",
       "NaN         13886\n",
       "$            6279\n",
       "$$$$         1423\n",
       "Name: price_range, dtype: int64"
      ]
     },
     "execution_count": 28,
     "metadata": {},
     "output_type": "execute_result"
    }
   ],
   "source": [
    "df.price_range.value_counts(dropna=False)"
   ]
  },
  {
   "cell_type": "markdown",
   "metadata": {},
   "source": [
    "Из полученных данных видно, что присутствует очень большое количество пропусков. Необходимо подумать,как лучше с ними поступить. На мой взлгяд, будет допустимо заполнить их значением моды, давайте попробуем это реализовать:"
   ]
  },
  {
   "cell_type": "code",
   "execution_count": 29,
   "metadata": {},
   "outputs": [],
   "source": [
    "# заменяем пропуски значением моды\n",
    "df.price_range = df.price_range.fillna(df.price_range.mode()[0])"
   ]
  },
  {
   "cell_type": "markdown",
   "metadata": {},
   "source": [
    "Теперь проверим, как изменилось количество значений"
   ]
  },
  {
   "cell_type": "code",
   "execution_count": 30,
   "metadata": {},
   "outputs": [
    {
     "data": {
      "text/plain": [
       "$$ - $$$    32298\n",
       "$            6279\n",
       "$$$$         1423\n",
       "Name: price_range, dtype: int64"
      ]
     },
     "execution_count": 30,
     "metadata": {},
     "output_type": "execute_result"
    }
   ],
   "source": [
    "df.price_range.value_counts(dropna=False)"
   ]
  },
  {
   "cell_type": "markdown",
   "metadata": {},
   "source": [
    "Средний ценовой сегмент стал преобладать более выраженно,но в целом общая картина осталась прежней. В дальнейшем этот столбец можно будет преобразовать в числовой формат для обучения модели."
   ]
  },
  {
   "cell_type": "markdown",
   "metadata": {},
   "source": [
    "### 2.1.5. Столбец reviews"
   ]
  },
  {
   "cell_type": "markdown",
   "metadata": {},
   "source": [
    "#### Истина где-то рядом"
   ]
  },
  {
   "cell_type": "markdown",
   "metadata": {},
   "source": [
    "Давайте взглянем на столбец reviews еще раз более внимательно"
   ]
  },
  {
   "cell_type": "code",
   "execution_count": 31,
   "metadata": {},
   "outputs": [
    {
     "data": {
      "text/plain": [
       "'[[], []]'"
      ]
     },
     "execution_count": 31,
     "metadata": {},
     "output_type": "execute_result"
    }
   ],
   "source": [
    "df.reviews[10]"
   ]
  },
  {
   "cell_type": "markdown",
   "metadata": {},
   "source": [
    "Видно, что в данном столбце находится строка,внутри которой два списка:с комментариями и с датами. Нам нужен будет второй список, но об этом более подробно в Feature Engeneering."
   ]
  },
  {
   "cell_type": "markdown",
   "metadata": {},
   "source": [
    "### 2.1.6. Столбцы url_ta и id_ta"
   ]
  },
  {
   "cell_type": "markdown",
   "metadata": {},
   "source": [
    "#### Столбец url_ta"
   ]
  },
  {
   "cell_type": "markdown",
   "metadata": {},
   "source": [
    "Данный столбец содержит ссылку на ресторан в TripAdvisor и не представляет особого интереса. "
   ]
  },
  {
   "cell_type": "code",
   "execution_count": 32,
   "metadata": {},
   "outputs": [
    {
     "data": {
      "text/plain": [
       "'/Restaurant_Review-g187147-d1912643-Reviews-R_Yves-Paris_Ile_de_France.html'"
      ]
     },
     "execution_count": 32,
     "metadata": {},
     "output_type": "execute_result"
    }
   ],
   "source": [
    "df.url_ta[0]"
   ]
  },
  {
   "cell_type": "markdown",
   "metadata": {},
   "source": [
    "#### Столбец id_ta"
   ]
  },
  {
   "cell_type": "markdown",
   "metadata": {},
   "source": [
    "Столбец содержит id комментария в TripAdvisor. В целом интереса не представляет, единственное, что можно проверить - все ли значения в тестовом наборе являются уникальными:"
   ]
  },
  {
   "cell_type": "code",
   "execution_count": 33,
   "metadata": {},
   "outputs": [
    {
     "data": {
      "text/plain": [
       "20"
      ]
     },
     "execution_count": 33,
     "metadata": {},
     "output_type": "execute_result"
    }
   ],
   "source": [
    "# Вычитаем из количества всех значений количество уникальных\n",
    "len(df.id_ta) - df.id_ta.nunique()"
   ]
  },
  {
   "cell_type": "markdown",
   "metadata": {},
   "source": [
    "Мы видим, что присутствуют значения, которые встречаются больше одного раза. Посмотрим внимательнее:"
   ]
  },
  {
   "cell_type": "code",
   "execution_count": 34,
   "metadata": {},
   "outputs": [],
   "source": [
    "df_id_ta = df.id_ta.value_counts()\n",
    "# формируем фрейм, записывая в него значения id_ta, которые встречаются больше 1 раза\n",
    "df_doubles = df[df.id_ta.apply(lambda x:(df_id_ta[x] > 1))]"
   ]
  },
  {
   "cell_type": "markdown",
   "metadata": {},
   "source": [
    "Теперь взглянем, что вышло:"
   ]
  },
  {
   "cell_type": "code",
   "execution_count": 35,
   "metadata": {},
   "outputs": [
    {
     "data": {
      "text/html": [
       "<div>\n",
       "<style scoped>\n",
       "    .dataframe tbody tr th:only-of-type {\n",
       "        vertical-align: middle;\n",
       "    }\n",
       "\n",
       "    .dataframe tbody tr th {\n",
       "        vertical-align: top;\n",
       "    }\n",
       "\n",
       "    .dataframe thead th {\n",
       "        text-align: right;\n",
       "    }\n",
       "</style>\n",
       "<table border=\"1\" class=\"dataframe\">\n",
       "  <thead>\n",
       "    <tr style=\"text-align: right;\">\n",
       "      <th></th>\n",
       "      <th>rest_id</th>\n",
       "      <th>city</th>\n",
       "      <th>cuisine_style</th>\n",
       "      <th>ranking</th>\n",
       "      <th>rating</th>\n",
       "      <th>price_range</th>\n",
       "      <th>reviews_number</th>\n",
       "      <th>reviews</th>\n",
       "      <th>url_ta</th>\n",
       "      <th>id_ta</th>\n",
       "    </tr>\n",
       "  </thead>\n",
       "  <tbody>\n",
       "    <tr>\n",
       "      <th>38946</th>\n",
       "      <td>id_3242</td>\n",
       "      <td>Madrid</td>\n",
       "      <td>[no_information]</td>\n",
       "      <td>3244.0</td>\n",
       "      <td>5.0</td>\n",
       "      <td>$$ - $$$</td>\n",
       "      <td>13.0</td>\n",
       "      <td>[[], []]</td>\n",
       "      <td>/Restaurant_Review-g187514-d10047799-Reviews-E...</td>\n",
       "      <td>d10047799</td>\n",
       "    </tr>\n",
       "    <tr>\n",
       "      <th>13980</th>\n",
       "      <td>id_3239</td>\n",
       "      <td>Madrid</td>\n",
       "      <td>[no_information]</td>\n",
       "      <td>3241.0</td>\n",
       "      <td>5.0</td>\n",
       "      <td>$$ - $$$</td>\n",
       "      <td>13.0</td>\n",
       "      <td>[[], []]</td>\n",
       "      <td>/Restaurant_Review-g187514-d10047799-Reviews-E...</td>\n",
       "      <td>d10047799</td>\n",
       "    </tr>\n",
       "    <tr>\n",
       "      <th>11583</th>\n",
       "      <td>id_3810</td>\n",
       "      <td>Madrid</td>\n",
       "      <td>['American', 'German', 'European', 'Central Eu...</td>\n",
       "      <td>3812.0</td>\n",
       "      <td>4.0</td>\n",
       "      <td>$$ - $$$</td>\n",
       "      <td>8.0</td>\n",
       "      <td>[[], []]</td>\n",
       "      <td>/Restaurant_Review-g187514-d11674463-Reviews-B...</td>\n",
       "      <td>d11674463</td>\n",
       "    </tr>\n",
       "    <tr>\n",
       "      <th>4732</th>\n",
       "      <td>id_3804</td>\n",
       "      <td>Madrid</td>\n",
       "      <td>['American', 'German', 'European', 'Central Eu...</td>\n",
       "      <td>3806.0</td>\n",
       "      <td>4.0</td>\n",
       "      <td>$$ - $$$</td>\n",
       "      <td>8.0</td>\n",
       "      <td>[[], []]</td>\n",
       "      <td>/Restaurant_Review-g187514-d11674463-Reviews-B...</td>\n",
       "      <td>d11674463</td>\n",
       "    </tr>\n",
       "    <tr>\n",
       "      <th>26551</th>\n",
       "      <td>id_3240</td>\n",
       "      <td>Madrid</td>\n",
       "      <td>[no_information]</td>\n",
       "      <td>3242.0</td>\n",
       "      <td>4.5</td>\n",
       "      <td>$$ - $$$</td>\n",
       "      <td>7.0</td>\n",
       "      <td>[[], []]</td>\n",
       "      <td>/Restaurant_Review-g187514-d11698990-Reviews-V...</td>\n",
       "      <td>d11698990</td>\n",
       "    </tr>\n",
       "    <tr>\n",
       "      <th>26431</th>\n",
       "      <td>id_3238</td>\n",
       "      <td>Madrid</td>\n",
       "      <td>[no_information]</td>\n",
       "      <td>3240.0</td>\n",
       "      <td>4.5</td>\n",
       "      <td>$$ - $$$</td>\n",
       "      <td>7.0</td>\n",
       "      <td>[[], []]</td>\n",
       "      <td>/Restaurant_Review-g187514-d11698990-Reviews-V...</td>\n",
       "      <td>d11698990</td>\n",
       "    </tr>\n",
       "    <tr>\n",
       "      <th>10819</th>\n",
       "      <td>id_2197</td>\n",
       "      <td>Madrid</td>\n",
       "      <td>[no_information]</td>\n",
       "      <td>2199.0</td>\n",
       "      <td>4.5</td>\n",
       "      <td>$$ - $$$</td>\n",
       "      <td>16.0</td>\n",
       "      <td>[[], []]</td>\n",
       "      <td>/Restaurant_Review-g187514-d11921719-Reviews-C...</td>\n",
       "      <td>d11921719</td>\n",
       "    </tr>\n",
       "    <tr>\n",
       "      <th>12628</th>\n",
       "      <td>id_2329</td>\n",
       "      <td>Madrid</td>\n",
       "      <td>[no_information]</td>\n",
       "      <td>2331.0</td>\n",
       "      <td>4.5</td>\n",
       "      <td>$$ - $$$</td>\n",
       "      <td>16.0</td>\n",
       "      <td>[[], []]</td>\n",
       "      <td>/Restaurant_Review-g187514-d11921719-Reviews-C...</td>\n",
       "      <td>d11921719</td>\n",
       "    </tr>\n",
       "    <tr>\n",
       "      <th>29879</th>\n",
       "      <td>id_3662</td>\n",
       "      <td>Madrid</td>\n",
       "      <td>['International', 'Mediterranean', 'Spanish', ...</td>\n",
       "      <td>3664.0</td>\n",
       "      <td>4.0</td>\n",
       "      <td>$$ - $$$</td>\n",
       "      <td>52.0</td>\n",
       "      <td>[['Great Food! Wide Variety.', 'Dinner'], ['11...</td>\n",
       "      <td>/Restaurant_Review-g187514-d11999956-Reviews-S...</td>\n",
       "      <td>d11999956</td>\n",
       "    </tr>\n",
       "    <tr>\n",
       "      <th>16920</th>\n",
       "      <td>id_3536</td>\n",
       "      <td>Madrid</td>\n",
       "      <td>['International', 'Mediterranean', 'Spanish', ...</td>\n",
       "      <td>3538.0</td>\n",
       "      <td>4.0</td>\n",
       "      <td>$$ - $$$</td>\n",
       "      <td>52.0</td>\n",
       "      <td>[['Great Food! Wide Variety.', 'Dinner'], ['11...</td>\n",
       "      <td>/Restaurant_Review-g187514-d11999956-Reviews-S...</td>\n",
       "      <td>d11999956</td>\n",
       "    </tr>\n",
       "    <tr>\n",
       "      <th>26696</th>\n",
       "      <td>id_2485</td>\n",
       "      <td>Madrid</td>\n",
       "      <td>['American']</td>\n",
       "      <td>2487.0</td>\n",
       "      <td>5.0</td>\n",
       "      <td>$</td>\n",
       "      <td>6.0</td>\n",
       "      <td>[['Healthy vegan doughnuts are posible', 'Best...</td>\n",
       "      <td>/Restaurant_Review-g187514-d13002276-Reviews-D...</td>\n",
       "      <td>d13002276</td>\n",
       "    </tr>\n",
       "    <tr>\n",
       "      <th>1579</th>\n",
       "      <td>id_2673</td>\n",
       "      <td>Madrid</td>\n",
       "      <td>['American']</td>\n",
       "      <td>2675.0</td>\n",
       "      <td>5.0</td>\n",
       "      <td>$</td>\n",
       "      <td>6.0</td>\n",
       "      <td>[['Healthy vegan doughnuts are posible', 'Best...</td>\n",
       "      <td>/Restaurant_Review-g187514-d13002276-Reviews-D...</td>\n",
       "      <td>d13002276</td>\n",
       "    </tr>\n",
       "    <tr>\n",
       "      <th>10439</th>\n",
       "      <td>id_468</td>\n",
       "      <td>Madrid</td>\n",
       "      <td>['Mediterranean', 'Spanish', 'Vegetarian Frien...</td>\n",
       "      <td>469.0</td>\n",
       "      <td>4.0</td>\n",
       "      <td>$$ - $$$</td>\n",
       "      <td>355.0</td>\n",
       "      <td>[['Very good all around', 'Our first Madrid re...</td>\n",
       "      <td>/Restaurant_Review-g187514-d1315077-Reviews-El...</td>\n",
       "      <td>d1315077</td>\n",
       "    </tr>\n",
       "    <tr>\n",
       "      <th>25785</th>\n",
       "      <td>id_511</td>\n",
       "      <td>Madrid</td>\n",
       "      <td>['Mediterranean', 'Spanish', 'Vegetarian Frien...</td>\n",
       "      <td>512.0</td>\n",
       "      <td>4.0</td>\n",
       "      <td>$$ - $$$</td>\n",
       "      <td>355.0</td>\n",
       "      <td>[['Very good all around', 'Our first Madrid re...</td>\n",
       "      <td>/Restaurant_Review-g187514-d1315077-Reviews-El...</td>\n",
       "      <td>d1315077</td>\n",
       "    </tr>\n",
       "    <tr>\n",
       "      <th>8421</th>\n",
       "      <td>id_3811</td>\n",
       "      <td>Madrid</td>\n",
       "      <td>['Spanish']</td>\n",
       "      <td>3813.0</td>\n",
       "      <td>4.0</td>\n",
       "      <td>$</td>\n",
       "      <td>23.0</td>\n",
       "      <td>[['Happened to drop in', 'Right for a quick bi...</td>\n",
       "      <td>/Restaurant_Review-g187514-d2477531-Reviews-Ha...</td>\n",
       "      <td>d2477531</td>\n",
       "    </tr>\n",
       "    <tr>\n",
       "      <th>24545</th>\n",
       "      <td>id_3805</td>\n",
       "      <td>Madrid</td>\n",
       "      <td>['Spanish']</td>\n",
       "      <td>3807.0</td>\n",
       "      <td>4.0</td>\n",
       "      <td>$</td>\n",
       "      <td>23.0</td>\n",
       "      <td>[['Happened to drop in', 'Right for a quick bi...</td>\n",
       "      <td>/Restaurant_Review-g187514-d2477531-Reviews-Ha...</td>\n",
       "      <td>d2477531</td>\n",
       "    </tr>\n",
       "    <tr>\n",
       "      <th>25251</th>\n",
       "      <td>id_3575</td>\n",
       "      <td>Madrid</td>\n",
       "      <td>['Spanish', 'Bar']</td>\n",
       "      <td>3577.0</td>\n",
       "      <td>3.5</td>\n",
       "      <td>$</td>\n",
       "      <td>217.0</td>\n",
       "      <td>[['Thursday snack', 'Good value for money &amp; go...</td>\n",
       "      <td>/Restaurant_Review-g187514-d3161682-Reviews-Ce...</td>\n",
       "      <td>d3161682</td>\n",
       "    </tr>\n",
       "    <tr>\n",
       "      <th>39847</th>\n",
       "      <td>id_3709</td>\n",
       "      <td>Madrid</td>\n",
       "      <td>['Spanish', 'Bar']</td>\n",
       "      <td>3711.0</td>\n",
       "      <td>3.5</td>\n",
       "      <td>$</td>\n",
       "      <td>217.0</td>\n",
       "      <td>[['Thursday snack', 'Good value for money &amp; go...</td>\n",
       "      <td>/Restaurant_Review-g187514-d3161682-Reviews-Ce...</td>\n",
       "      <td>d3161682</td>\n",
       "    </tr>\n",
       "    <tr>\n",
       "      <th>3942</th>\n",
       "      <td>id_5646</td>\n",
       "      <td>Madrid</td>\n",
       "      <td>['Lebanese', 'Mediterranean', 'Middle Eastern'...</td>\n",
       "      <td>5649.0</td>\n",
       "      <td>3.5</td>\n",
       "      <td>$$ - $$$</td>\n",
       "      <td>443.0</td>\n",
       "      <td>[['Good Lebanese food', 'Decent place'], ['07/...</td>\n",
       "      <td>/Restaurant_Review-g187514-d3685055-Reviews-Sh...</td>\n",
       "      <td>d3685055</td>\n",
       "    </tr>\n",
       "    <tr>\n",
       "      <th>27680</th>\n",
       "      <td>id_5617</td>\n",
       "      <td>Madrid</td>\n",
       "      <td>['Lebanese', 'Mediterranean', 'Middle Eastern'...</td>\n",
       "      <td>5620.0</td>\n",
       "      <td>3.5</td>\n",
       "      <td>$$ - $$$</td>\n",
       "      <td>443.0</td>\n",
       "      <td>[['Good Lebanese food', 'Decent place'], ['07/...</td>\n",
       "      <td>/Restaurant_Review-g187514-d3685055-Reviews-Sh...</td>\n",
       "      <td>d3685055</td>\n",
       "    </tr>\n",
       "    <tr>\n",
       "      <th>147</th>\n",
       "      <td>id_4110</td>\n",
       "      <td>Madrid</td>\n",
       "      <td>['Spanish']</td>\n",
       "      <td>4112.0</td>\n",
       "      <td>5.0</td>\n",
       "      <td>$$ - $$$</td>\n",
       "      <td>2.0</td>\n",
       "      <td>[[], []]</td>\n",
       "      <td>/Restaurant_Review-g187514-d4600226-Reviews-Ca...</td>\n",
       "      <td>d4600226</td>\n",
       "    </tr>\n",
       "    <tr>\n",
       "      <th>9446</th>\n",
       "      <td>id_4104</td>\n",
       "      <td>Madrid</td>\n",
       "      <td>['Spanish']</td>\n",
       "      <td>4106.0</td>\n",
       "      <td>5.0</td>\n",
       "      <td>$$ - $$$</td>\n",
       "      <td>2.0</td>\n",
       "      <td>[[], []]</td>\n",
       "      <td>/Restaurant_Review-g187514-d4600226-Reviews-Ca...</td>\n",
       "      <td>d4600226</td>\n",
       "    </tr>\n",
       "    <tr>\n",
       "      <th>28096</th>\n",
       "      <td>id_1209</td>\n",
       "      <td>Madrid</td>\n",
       "      <td>['Moroccan', 'Vegetarian Friendly', 'Vegan Opt...</td>\n",
       "      <td>1210.0</td>\n",
       "      <td>4.0</td>\n",
       "      <td>$$ - $$$</td>\n",
       "      <td>341.0</td>\n",
       "      <td>[['Great food, service and atmosphere', 'Decor...</td>\n",
       "      <td>/Restaurant_Review-g187514-d697406-Reviews-Al_...</td>\n",
       "      <td>d697406</td>\n",
       "    </tr>\n",
       "    <tr>\n",
       "      <th>4578</th>\n",
       "      <td>id_1180</td>\n",
       "      <td>Madrid</td>\n",
       "      <td>['Moroccan', 'Vegetarian Friendly', 'Vegan Opt...</td>\n",
       "      <td>1181.0</td>\n",
       "      <td>4.0</td>\n",
       "      <td>$$ - $$$</td>\n",
       "      <td>341.0</td>\n",
       "      <td>[['Great food, service and atmosphere', 'Decor...</td>\n",
       "      <td>/Restaurant_Review-g187514-d697406-Reviews-Al_...</td>\n",
       "      <td>d697406</td>\n",
       "    </tr>\n",
       "    <tr>\n",
       "      <th>10183</th>\n",
       "      <td>id_1225</td>\n",
       "      <td>Madrid</td>\n",
       "      <td>['Mediterranean', 'European', 'Spanish', 'Vege...</td>\n",
       "      <td>1227.0</td>\n",
       "      <td>4.0</td>\n",
       "      <td>$$ - $$$</td>\n",
       "      <td>272.0</td>\n",
       "      <td>[['Simply Excellent!', 'Modern!'], ['10/22/201...</td>\n",
       "      <td>/Restaurant_Review-g187514-d7337366-Reviews-La...</td>\n",
       "      <td>d7337366</td>\n",
       "    </tr>\n",
       "    <tr>\n",
       "      <th>32814</th>\n",
       "      <td>id_1197</td>\n",
       "      <td>Madrid</td>\n",
       "      <td>['Mediterranean', 'European', 'Spanish', 'Vege...</td>\n",
       "      <td>1198.0</td>\n",
       "      <td>4.0</td>\n",
       "      <td>$$ - $$$</td>\n",
       "      <td>272.0</td>\n",
       "      <td>[['Simply Excellent!', 'Modern!'], ['10/22/201...</td>\n",
       "      <td>/Restaurant_Review-g187514-d7337366-Reviews-La...</td>\n",
       "      <td>d7337366</td>\n",
       "    </tr>\n",
       "    <tr>\n",
       "      <th>22924</th>\n",
       "      <td>id_2359</td>\n",
       "      <td>Madrid</td>\n",
       "      <td>['Spanish', 'Mediterranean']</td>\n",
       "      <td>2361.0</td>\n",
       "      <td>4.5</td>\n",
       "      <td>$$ - $$$</td>\n",
       "      <td>16.0</td>\n",
       "      <td>[['The real codido madrileño'], ['03/31/2017']]</td>\n",
       "      <td>/Restaurant_Review-g187514-d7342803-Reviews-Lo...</td>\n",
       "      <td>d7342803</td>\n",
       "    </tr>\n",
       "    <tr>\n",
       "      <th>36275</th>\n",
       "      <td>id_2467</td>\n",
       "      <td>Madrid</td>\n",
       "      <td>['Spanish', 'Mediterranean']</td>\n",
       "      <td>2469.0</td>\n",
       "      <td>4.5</td>\n",
       "      <td>$$ - $$$</td>\n",
       "      <td>16.0</td>\n",
       "      <td>[['The real codido madrileño'], ['03/31/2017']]</td>\n",
       "      <td>/Restaurant_Review-g187514-d7342803-Reviews-Lo...</td>\n",
       "      <td>d7342803</td>\n",
       "    </tr>\n",
       "    <tr>\n",
       "      <th>15525</th>\n",
       "      <td>id_3967</td>\n",
       "      <td>Madrid</td>\n",
       "      <td>['American', 'Spanish', 'Asian']</td>\n",
       "      <td>3969.0</td>\n",
       "      <td>3.5</td>\n",
       "      <td>$$ - $$$</td>\n",
       "      <td>61.0</td>\n",
       "      <td>[[], []]</td>\n",
       "      <td>/Restaurant_Review-g187514-d7809594-Reviews-La...</td>\n",
       "      <td>d7809594</td>\n",
       "    </tr>\n",
       "    <tr>\n",
       "      <th>19388</th>\n",
       "      <td>id_4331</td>\n",
       "      <td>Madrid</td>\n",
       "      <td>['American', 'Spanish', 'Asian']</td>\n",
       "      <td>4333.0</td>\n",
       "      <td>3.5</td>\n",
       "      <td>$$ - $$$</td>\n",
       "      <td>61.0</td>\n",
       "      <td>[[], []]</td>\n",
       "      <td>/Restaurant_Review-g187514-d7809594-Reviews-La...</td>\n",
       "      <td>d7809594</td>\n",
       "    </tr>\n",
       "    <tr>\n",
       "      <th>36822</th>\n",
       "      <td>id_2487</td>\n",
       "      <td>Madrid</td>\n",
       "      <td>['Italian', 'French', 'European']</td>\n",
       "      <td>2489.0</td>\n",
       "      <td>4.0</td>\n",
       "      <td>$$ - $$$</td>\n",
       "      <td>148.0</td>\n",
       "      <td>[['Sat night', 'Can\\'t even explain.. \"A\" plac...</td>\n",
       "      <td>/Restaurant_Review-g187514-d793170-Reviews-Car...</td>\n",
       "      <td>d793170</td>\n",
       "    </tr>\n",
       "    <tr>\n",
       "      <th>5240</th>\n",
       "      <td>id_2406</td>\n",
       "      <td>Madrid</td>\n",
       "      <td>['Italian', 'French', 'European']</td>\n",
       "      <td>2408.0</td>\n",
       "      <td>4.0</td>\n",
       "      <td>$$ - $$$</td>\n",
       "      <td>148.0</td>\n",
       "      <td>[['Sat night', 'Can\\'t even explain.. \"A\" plac...</td>\n",
       "      <td>/Restaurant_Review-g187514-d793170-Reviews-Car...</td>\n",
       "      <td>d793170</td>\n",
       "    </tr>\n",
       "    <tr>\n",
       "      <th>13942</th>\n",
       "      <td>id_1103</td>\n",
       "      <td>Madrid</td>\n",
       "      <td>['Spanish']</td>\n",
       "      <td>1104.0</td>\n",
       "      <td>4.5</td>\n",
       "      <td>$$ - $$$</td>\n",
       "      <td>73.0</td>\n",
       "      <td>[['ok for beer, not for dinner'], ['12/20/2017']]</td>\n",
       "      <td>/Restaurant_Review-g187514-d8753348-Reviews-Tr...</td>\n",
       "      <td>d8753348</td>\n",
       "    </tr>\n",
       "    <tr>\n",
       "      <th>31238</th>\n",
       "      <td>id_1212</td>\n",
       "      <td>Madrid</td>\n",
       "      <td>['Spanish']</td>\n",
       "      <td>1213.0</td>\n",
       "      <td>4.5</td>\n",
       "      <td>$$ - $$$</td>\n",
       "      <td>73.0</td>\n",
       "      <td>[['ok for beer, not for dinner'], ['12/20/2017']]</td>\n",
       "      <td>/Restaurant_Review-g187514-d8753348-Reviews-Tr...</td>\n",
       "      <td>d8753348</td>\n",
       "    </tr>\n",
       "    <tr>\n",
       "      <th>12938</th>\n",
       "      <td>id_2486</td>\n",
       "      <td>Madrid</td>\n",
       "      <td>[no_information]</td>\n",
       "      <td>2488.0</td>\n",
       "      <td>5.0</td>\n",
       "      <td>$$ - $$$</td>\n",
       "      <td>10.0</td>\n",
       "      <td>[['Absolutely authentic and delicious!', 'Wond...</td>\n",
       "      <td>/Restaurant_Review-g187514-d9802625-Reviews-La...</td>\n",
       "      <td>d9802625</td>\n",
       "    </tr>\n",
       "    <tr>\n",
       "      <th>10594</th>\n",
       "      <td>id_2677</td>\n",
       "      <td>Madrid</td>\n",
       "      <td>[no_information]</td>\n",
       "      <td>2679.0</td>\n",
       "      <td>5.0</td>\n",
       "      <td>$$ - $$$</td>\n",
       "      <td>10.0</td>\n",
       "      <td>[['Absolutely authentic and delicious!', 'Wond...</td>\n",
       "      <td>/Restaurant_Review-g187514-d9802625-Reviews-La...</td>\n",
       "      <td>d9802625</td>\n",
       "    </tr>\n",
       "    <tr>\n",
       "      <th>15295</th>\n",
       "      <td>id_475</td>\n",
       "      <td>Madrid</td>\n",
       "      <td>['Japanese', 'Vegetarian Friendly', 'Vegan Opt...</td>\n",
       "      <td>476.0</td>\n",
       "      <td>4.5</td>\n",
       "      <td>$$ - $$$</td>\n",
       "      <td>67.0</td>\n",
       "      <td>[['Whenever in Madrid, we never miss this gem....</td>\n",
       "      <td>/Restaurant_Review-g187514-d9877640-Reviews-Ra...</td>\n",
       "      <td>d9877640</td>\n",
       "    </tr>\n",
       "    <tr>\n",
       "      <th>15565</th>\n",
       "      <td>id_530</td>\n",
       "      <td>Madrid</td>\n",
       "      <td>['Japanese', 'Vegetarian Friendly', 'Vegan Opt...</td>\n",
       "      <td>531.0</td>\n",
       "      <td>4.5</td>\n",
       "      <td>$$ - $$$</td>\n",
       "      <td>67.0</td>\n",
       "      <td>[['Whenever in Madrid, we never miss this gem....</td>\n",
       "      <td>/Restaurant_Review-g187514-d9877640-Reviews-Ra...</td>\n",
       "      <td>d9877640</td>\n",
       "    </tr>\n",
       "    <tr>\n",
       "      <th>22998</th>\n",
       "      <td>id_2312</td>\n",
       "      <td>Madrid</td>\n",
       "      <td>['Seafood', 'Mediterranean', 'European', 'Span...</td>\n",
       "      <td>2314.0</td>\n",
       "      <td>4.0</td>\n",
       "      <td>$$ - $$$</td>\n",
       "      <td>190.0</td>\n",
       "      <td>[['Nice restaurant in Madrid', 'Highly reccome...</td>\n",
       "      <td>/Restaurant_Review-g187514-d987900-Reviews-Com...</td>\n",
       "      <td>d987900</td>\n",
       "    </tr>\n",
       "    <tr>\n",
       "      <th>8019</th>\n",
       "      <td>id_2361</td>\n",
       "      <td>Madrid</td>\n",
       "      <td>['Seafood', 'Mediterranean', 'European', 'Span...</td>\n",
       "      <td>2363.0</td>\n",
       "      <td>4.0</td>\n",
       "      <td>$$ - $$$</td>\n",
       "      <td>190.0</td>\n",
       "      <td>[['Nice restaurant in Madrid', 'Highly reccome...</td>\n",
       "      <td>/Restaurant_Review-g187514-d987900-Reviews-Com...</td>\n",
       "      <td>d987900</td>\n",
       "    </tr>\n",
       "  </tbody>\n",
       "</table>\n",
       "</div>"
      ],
      "text/plain": [
       "       rest_id    city                                      cuisine_style  \\\n",
       "38946  id_3242  Madrid                                   [no_information]   \n",
       "13980  id_3239  Madrid                                   [no_information]   \n",
       "11583  id_3810  Madrid  ['American', 'German', 'European', 'Central Eu...   \n",
       "4732   id_3804  Madrid  ['American', 'German', 'European', 'Central Eu...   \n",
       "26551  id_3240  Madrid                                   [no_information]   \n",
       "26431  id_3238  Madrid                                   [no_information]   \n",
       "10819  id_2197  Madrid                                   [no_information]   \n",
       "12628  id_2329  Madrid                                   [no_information]   \n",
       "29879  id_3662  Madrid  ['International', 'Mediterranean', 'Spanish', ...   \n",
       "16920  id_3536  Madrid  ['International', 'Mediterranean', 'Spanish', ...   \n",
       "26696  id_2485  Madrid                                       ['American']   \n",
       "1579   id_2673  Madrid                                       ['American']   \n",
       "10439   id_468  Madrid  ['Mediterranean', 'Spanish', 'Vegetarian Frien...   \n",
       "25785   id_511  Madrid  ['Mediterranean', 'Spanish', 'Vegetarian Frien...   \n",
       "8421   id_3811  Madrid                                        ['Spanish']   \n",
       "24545  id_3805  Madrid                                        ['Spanish']   \n",
       "25251  id_3575  Madrid                                 ['Spanish', 'Bar']   \n",
       "39847  id_3709  Madrid                                 ['Spanish', 'Bar']   \n",
       "3942   id_5646  Madrid  ['Lebanese', 'Mediterranean', 'Middle Eastern'...   \n",
       "27680  id_5617  Madrid  ['Lebanese', 'Mediterranean', 'Middle Eastern'...   \n",
       "147    id_4110  Madrid                                        ['Spanish']   \n",
       "9446   id_4104  Madrid                                        ['Spanish']   \n",
       "28096  id_1209  Madrid  ['Moroccan', 'Vegetarian Friendly', 'Vegan Opt...   \n",
       "4578   id_1180  Madrid  ['Moroccan', 'Vegetarian Friendly', 'Vegan Opt...   \n",
       "10183  id_1225  Madrid  ['Mediterranean', 'European', 'Spanish', 'Vege...   \n",
       "32814  id_1197  Madrid  ['Mediterranean', 'European', 'Spanish', 'Vege...   \n",
       "22924  id_2359  Madrid                       ['Spanish', 'Mediterranean']   \n",
       "36275  id_2467  Madrid                       ['Spanish', 'Mediterranean']   \n",
       "15525  id_3967  Madrid                   ['American', 'Spanish', 'Asian']   \n",
       "19388  id_4331  Madrid                   ['American', 'Spanish', 'Asian']   \n",
       "36822  id_2487  Madrid                  ['Italian', 'French', 'European']   \n",
       "5240   id_2406  Madrid                  ['Italian', 'French', 'European']   \n",
       "13942  id_1103  Madrid                                        ['Spanish']   \n",
       "31238  id_1212  Madrid                                        ['Spanish']   \n",
       "12938  id_2486  Madrid                                   [no_information]   \n",
       "10594  id_2677  Madrid                                   [no_information]   \n",
       "15295   id_475  Madrid  ['Japanese', 'Vegetarian Friendly', 'Vegan Opt...   \n",
       "15565   id_530  Madrid  ['Japanese', 'Vegetarian Friendly', 'Vegan Opt...   \n",
       "22998  id_2312  Madrid  ['Seafood', 'Mediterranean', 'European', 'Span...   \n",
       "8019   id_2361  Madrid  ['Seafood', 'Mediterranean', 'European', 'Span...   \n",
       "\n",
       "       ranking  rating price_range  reviews_number  \\\n",
       "38946   3244.0     5.0    $$ - $$$            13.0   \n",
       "13980   3241.0     5.0    $$ - $$$            13.0   \n",
       "11583   3812.0     4.0    $$ - $$$             8.0   \n",
       "4732    3806.0     4.0    $$ - $$$             8.0   \n",
       "26551   3242.0     4.5    $$ - $$$             7.0   \n",
       "26431   3240.0     4.5    $$ - $$$             7.0   \n",
       "10819   2199.0     4.5    $$ - $$$            16.0   \n",
       "12628   2331.0     4.5    $$ - $$$            16.0   \n",
       "29879   3664.0     4.0    $$ - $$$            52.0   \n",
       "16920   3538.0     4.0    $$ - $$$            52.0   \n",
       "26696   2487.0     5.0           $             6.0   \n",
       "1579    2675.0     5.0           $             6.0   \n",
       "10439    469.0     4.0    $$ - $$$           355.0   \n",
       "25785    512.0     4.0    $$ - $$$           355.0   \n",
       "8421    3813.0     4.0           $            23.0   \n",
       "24545   3807.0     4.0           $            23.0   \n",
       "25251   3577.0     3.5           $           217.0   \n",
       "39847   3711.0     3.5           $           217.0   \n",
       "3942    5649.0     3.5    $$ - $$$           443.0   \n",
       "27680   5620.0     3.5    $$ - $$$           443.0   \n",
       "147     4112.0     5.0    $$ - $$$             2.0   \n",
       "9446    4106.0     5.0    $$ - $$$             2.0   \n",
       "28096   1210.0     4.0    $$ - $$$           341.0   \n",
       "4578    1181.0     4.0    $$ - $$$           341.0   \n",
       "10183   1227.0     4.0    $$ - $$$           272.0   \n",
       "32814   1198.0     4.0    $$ - $$$           272.0   \n",
       "22924   2361.0     4.5    $$ - $$$            16.0   \n",
       "36275   2469.0     4.5    $$ - $$$            16.0   \n",
       "15525   3969.0     3.5    $$ - $$$            61.0   \n",
       "19388   4333.0     3.5    $$ - $$$            61.0   \n",
       "36822   2489.0     4.0    $$ - $$$           148.0   \n",
       "5240    2408.0     4.0    $$ - $$$           148.0   \n",
       "13942   1104.0     4.5    $$ - $$$            73.0   \n",
       "31238   1213.0     4.5    $$ - $$$            73.0   \n",
       "12938   2488.0     5.0    $$ - $$$            10.0   \n",
       "10594   2679.0     5.0    $$ - $$$            10.0   \n",
       "15295    476.0     4.5    $$ - $$$            67.0   \n",
       "15565    531.0     4.5    $$ - $$$            67.0   \n",
       "22998   2314.0     4.0    $$ - $$$           190.0   \n",
       "8019    2363.0     4.0    $$ - $$$           190.0   \n",
       "\n",
       "                                                 reviews  \\\n",
       "38946                                           [[], []]   \n",
       "13980                                           [[], []]   \n",
       "11583                                           [[], []]   \n",
       "4732                                            [[], []]   \n",
       "26551                                           [[], []]   \n",
       "26431                                           [[], []]   \n",
       "10819                                           [[], []]   \n",
       "12628                                           [[], []]   \n",
       "29879  [['Great Food! Wide Variety.', 'Dinner'], ['11...   \n",
       "16920  [['Great Food! Wide Variety.', 'Dinner'], ['11...   \n",
       "26696  [['Healthy vegan doughnuts are posible', 'Best...   \n",
       "1579   [['Healthy vegan doughnuts are posible', 'Best...   \n",
       "10439  [['Very good all around', 'Our first Madrid re...   \n",
       "25785  [['Very good all around', 'Our first Madrid re...   \n",
       "8421   [['Happened to drop in', 'Right for a quick bi...   \n",
       "24545  [['Happened to drop in', 'Right for a quick bi...   \n",
       "25251  [['Thursday snack', 'Good value for money & go...   \n",
       "39847  [['Thursday snack', 'Good value for money & go...   \n",
       "3942   [['Good Lebanese food', 'Decent place'], ['07/...   \n",
       "27680  [['Good Lebanese food', 'Decent place'], ['07/...   \n",
       "147                                             [[], []]   \n",
       "9446                                            [[], []]   \n",
       "28096  [['Great food, service and atmosphere', 'Decor...   \n",
       "4578   [['Great food, service and atmosphere', 'Decor...   \n",
       "10183  [['Simply Excellent!', 'Modern!'], ['10/22/201...   \n",
       "32814  [['Simply Excellent!', 'Modern!'], ['10/22/201...   \n",
       "22924    [['The real codido madrileño'], ['03/31/2017']]   \n",
       "36275    [['The real codido madrileño'], ['03/31/2017']]   \n",
       "15525                                           [[], []]   \n",
       "19388                                           [[], []]   \n",
       "36822  [['Sat night', 'Can\\'t even explain.. \"A\" plac...   \n",
       "5240   [['Sat night', 'Can\\'t even explain.. \"A\" plac...   \n",
       "13942  [['ok for beer, not for dinner'], ['12/20/2017']]   \n",
       "31238  [['ok for beer, not for dinner'], ['12/20/2017']]   \n",
       "12938  [['Absolutely authentic and delicious!', 'Wond...   \n",
       "10594  [['Absolutely authentic and delicious!', 'Wond...   \n",
       "15295  [['Whenever in Madrid, we never miss this gem....   \n",
       "15565  [['Whenever in Madrid, we never miss this gem....   \n",
       "22998  [['Nice restaurant in Madrid', 'Highly reccome...   \n",
       "8019   [['Nice restaurant in Madrid', 'Highly reccome...   \n",
       "\n",
       "                                                  url_ta      id_ta  \n",
       "38946  /Restaurant_Review-g187514-d10047799-Reviews-E...  d10047799  \n",
       "13980  /Restaurant_Review-g187514-d10047799-Reviews-E...  d10047799  \n",
       "11583  /Restaurant_Review-g187514-d11674463-Reviews-B...  d11674463  \n",
       "4732   /Restaurant_Review-g187514-d11674463-Reviews-B...  d11674463  \n",
       "26551  /Restaurant_Review-g187514-d11698990-Reviews-V...  d11698990  \n",
       "26431  /Restaurant_Review-g187514-d11698990-Reviews-V...  d11698990  \n",
       "10819  /Restaurant_Review-g187514-d11921719-Reviews-C...  d11921719  \n",
       "12628  /Restaurant_Review-g187514-d11921719-Reviews-C...  d11921719  \n",
       "29879  /Restaurant_Review-g187514-d11999956-Reviews-S...  d11999956  \n",
       "16920  /Restaurant_Review-g187514-d11999956-Reviews-S...  d11999956  \n",
       "26696  /Restaurant_Review-g187514-d13002276-Reviews-D...  d13002276  \n",
       "1579   /Restaurant_Review-g187514-d13002276-Reviews-D...  d13002276  \n",
       "10439  /Restaurant_Review-g187514-d1315077-Reviews-El...   d1315077  \n",
       "25785  /Restaurant_Review-g187514-d1315077-Reviews-El...   d1315077  \n",
       "8421   /Restaurant_Review-g187514-d2477531-Reviews-Ha...   d2477531  \n",
       "24545  /Restaurant_Review-g187514-d2477531-Reviews-Ha...   d2477531  \n",
       "25251  /Restaurant_Review-g187514-d3161682-Reviews-Ce...   d3161682  \n",
       "39847  /Restaurant_Review-g187514-d3161682-Reviews-Ce...   d3161682  \n",
       "3942   /Restaurant_Review-g187514-d3685055-Reviews-Sh...   d3685055  \n",
       "27680  /Restaurant_Review-g187514-d3685055-Reviews-Sh...   d3685055  \n",
       "147    /Restaurant_Review-g187514-d4600226-Reviews-Ca...   d4600226  \n",
       "9446   /Restaurant_Review-g187514-d4600226-Reviews-Ca...   d4600226  \n",
       "28096  /Restaurant_Review-g187514-d697406-Reviews-Al_...    d697406  \n",
       "4578   /Restaurant_Review-g187514-d697406-Reviews-Al_...    d697406  \n",
       "10183  /Restaurant_Review-g187514-d7337366-Reviews-La...   d7337366  \n",
       "32814  /Restaurant_Review-g187514-d7337366-Reviews-La...   d7337366  \n",
       "22924  /Restaurant_Review-g187514-d7342803-Reviews-Lo...   d7342803  \n",
       "36275  /Restaurant_Review-g187514-d7342803-Reviews-Lo...   d7342803  \n",
       "15525  /Restaurant_Review-g187514-d7809594-Reviews-La...   d7809594  \n",
       "19388  /Restaurant_Review-g187514-d7809594-Reviews-La...   d7809594  \n",
       "36822  /Restaurant_Review-g187514-d793170-Reviews-Car...    d793170  \n",
       "5240   /Restaurant_Review-g187514-d793170-Reviews-Car...    d793170  \n",
       "13942  /Restaurant_Review-g187514-d8753348-Reviews-Tr...   d8753348  \n",
       "31238  /Restaurant_Review-g187514-d8753348-Reviews-Tr...   d8753348  \n",
       "12938  /Restaurant_Review-g187514-d9802625-Reviews-La...   d9802625  \n",
       "10594  /Restaurant_Review-g187514-d9802625-Reviews-La...   d9802625  \n",
       "15295  /Restaurant_Review-g187514-d9877640-Reviews-Ra...   d9877640  \n",
       "15565  /Restaurant_Review-g187514-d9877640-Reviews-Ra...   d9877640  \n",
       "22998  /Restaurant_Review-g187514-d987900-Reviews-Com...    d987900  \n",
       "8019   /Restaurant_Review-g187514-d987900-Reviews-Com...    d987900  "
      ]
     },
     "execution_count": 35,
     "metadata": {},
     "output_type": "execute_result"
    }
   ],
   "source": [
    "df_doubles.sort_values(by=['id_ta'])"
   ]
  },
  {
   "cell_type": "markdown",
   "metadata": {},
   "source": [
    "Мы видим, что это действительно задублированные значения. различаются только столбцы с id ресторана и с самим рангом ресторана. Но по условиям задания, строки удалять мы не имеем права, поэтому более этот столбец интереса не представляет.\n",
    "Удалим из дата-фрема эти столбцы:"
   ]
  },
  {
   "cell_type": "code",
   "execution_count": 36,
   "metadata": {},
   "outputs": [],
   "source": [
    "df.drop(columns=['url_ta', 'id_ta'], inplace=True)"
   ]
  },
  {
   "cell_type": "markdown",
   "metadata": {},
   "source": [
    "### 2.2. Числовые столбцы"
   ]
  },
  {
   "cell_type": "markdown",
   "metadata": {},
   "source": [
    "### 2.2.1. Столбец ranking"
   ]
  },
  {
   "cell_type": "markdown",
   "metadata": {},
   "source": [
    "#### Попытаемся понять, что делать."
   ]
  },
  {
   "cell_type": "markdown",
   "metadata": {},
   "source": [
    "Сам по себе, столбец ranking говорит нам о том, какой ранг занимает ресторан. Но смотреть распределение значений, опираясь только на этот столбец - занятие плохое. Распрделение будет экспоненциальным, потому что разные города имеют разный процент упоминания в дата-фрейме (п.2.1.2). Да и в самом начале сказано, что это ранг, занимаемый рестораном относительно других в том же городе.\n",
    "Посмотрим, есть ли пропущенные значения в данном столбце:"
   ]
  },
  {
   "cell_type": "code",
   "execution_count": 37,
   "metadata": {},
   "outputs": [
    {
     "data": {
      "text/plain": [
       "0"
      ]
     },
     "execution_count": 37,
     "metadata": {},
     "output_type": "execute_result"
    }
   ],
   "source": [
    "df.ranking.isnull().sum()"
   ]
  },
  {
   "cell_type": "markdown",
   "metadata": {},
   "source": [
    "Пустых значений не наблюдается, что очень хорошо.\n",
    "Теперь можно посмотреть распределение рангов по городам:"
   ]
  },
  {
   "cell_type": "code",
   "execution_count": 38,
   "metadata": {},
   "outputs": [
    {
     "data": {
      "image/png": "[encoded data removed]",
      "text/plain": [
       "<Figure size 1080x504 with 1 Axes>"
      ]
     },
     "metadata": {
      "needs_background": "light"
     },
     "output_type": "display_data"
    }
   ],
   "source": [
    "for town in (df.city.value_counts()).index:\n",
    "    df.ranking[df.city == town].hist(bins=100)\n",
    "plt.show()"
   ]
  },
  {
   "cell_type": "markdown",
   "metadata": {},
   "source": [
    "Как мы видим, во всех городах распределение равномерное. Для формирования дальнейших признаков будем иметь это ввиду.\n",
    "Напоследок проверим на наличие выбросов:"
   ]
  },
  {
   "cell_type": "code",
   "execution_count": 39,
   "metadata": {},
   "outputs": [
    {
     "name": "stdout",
     "output_type": "stream",
     "text": [
      "25-й перцентиль: 973.0, 75-й перцентиль: 5260.0, IQR: 4287.0,  Границы выбросов: [-5457.5, 11690.5].\n"
     ]
    }
   ],
   "source": [
    "IQR = df.ranking.quantile(0.75) - df.ranking.quantile(0.25)\n",
    "perc25 = df.ranking.quantile(0.25)  # 25-й перцентиль\n",
    "perc75 = df.ranking.quantile(0.75)  # 75-й перцентиль\n",
    "\n",
    "print(\n",
    "    '25-й перцентиль: {},'.format(perc25),\n",
    "    '75-й перцентиль: {},'.format(perc75),\n",
    "    \"IQR: {}, \".format(IQR),\n",
    "    \"Границы выбросов: [{f}, {l}].\".format(f=perc25 - 1.5*IQR,\n",
    "                                           l=perc75 + 1.5*IQR))"
   ]
  },
  {
   "cell_type": "markdown",
   "metadata": {},
   "source": [
    "IQR говорит, что выбросами являются все значения выше 11644, однако здравый смысл подсказывает, что ресторанов в Лондоне и Париже довольно много, и ранг ресторана может быть действительно довольно высоким. Оставим без изменений."
   ]
  },
  {
   "cell_type": "markdown",
   "metadata": {},
   "source": [
    "### 2.2.2. Столбец reviews_number"
   ]
  },
  {
   "cell_type": "markdown",
   "metadata": {},
   "source": [
    "Столбец отражает количество отзывов о том или ином заведении. Для начала посмотрим, сколько пропусков в данном столбце:"
   ]
  },
  {
   "cell_type": "code",
   "execution_count": 40,
   "metadata": {},
   "outputs": [
    {
     "data": {
      "text/plain": [
       "2543"
      ]
     },
     "execution_count": 40,
     "metadata": {},
     "output_type": "execute_result"
    }
   ],
   "source": [
    "df.reviews_number.isnull().sum()"
   ]
  },
  {
   "cell_type": "markdown",
   "metadata": {},
   "source": [
    "Итого, 3200 значений. Не так много, можно заполнить их либо нулями, либо медианным значением. На мой взгляд, медианным значением будет заполнить лучше, реализуем данный процесс:"
   ]
  },
  {
   "cell_type": "code",
   "execution_count": 41,
   "metadata": {},
   "outputs": [],
   "source": [
    "# Заполним отсутствующие значения медианным:\n",
    "df.reviews_number = df.reviews_number.apply(\n",
    "    lambda x: df.reviews_number.median() if pd.isna(x) else x)"
   ]
  },
  {
   "cell_type": "markdown",
   "metadata": {},
   "source": [
    "Теперь проверим, все ли значения заменились на медиану:"
   ]
  },
  {
   "cell_type": "code",
   "execution_count": 42,
   "metadata": {},
   "outputs": [
    {
     "data": {
      "text/plain": [
       "0"
      ]
     },
     "execution_count": 42,
     "metadata": {},
     "output_type": "execute_result"
    }
   ],
   "source": [
    "df.reviews_number.isnull().sum()"
   ]
  },
  {
   "cell_type": "markdown",
   "metadata": {},
   "source": [
    "Теперь посмотрим распределение количества отзывов:"
   ]
  },
  {
   "cell_type": "code",
   "execution_count": 43,
   "metadata": {},
   "outputs": [
    {
     "data": {
      "text/plain": [
       "<matplotlib.axes._subplots.AxesSubplot at 0x1925148d4f0>"
      ]
     },
     "execution_count": 43,
     "metadata": {},
     "output_type": "execute_result"
    },
    {
     "data": {
      "image/png": "[encoded data removed]",
      "text/plain": [
       "<Figure size 1080x504 with 1 Axes>"
      ]
     },
     "metadata": {
      "needs_background": "light"
     },
     "output_type": "display_data"
    }
   ],
   "source": [
    "df.reviews_number.hist(bins=30)"
   ]
  },
  {
   "cell_type": "markdown",
   "metadata": {},
   "source": [
    "Распределение количества отзывов является экспоненциальным,отрицательных значений нет. Теперь посмотрим есть ли выбросы:"
   ]
  },
  {
   "cell_type": "code",
   "execution_count": 44,
   "metadata": {},
   "outputs": [
    {
     "name": "stdout",
     "output_type": "stream",
     "text": [
      "25-й перцентиль: 10.0, 75-й перцентиль: 105.0, IQR: 95.0,  Границы выбросов: [-132.5, 247.5].\n"
     ]
    }
   ],
   "source": [
    "IQR = df.reviews_number.quantile(0.75) - df.reviews_number.quantile(0.25)\n",
    "perc25 = df.reviews_number.quantile(0.25)  # 25-й перцентиль\n",
    "perc75 = df.reviews_number.quantile(0.75)  # 75-й перцентиль\n",
    "\n",
    "print(\n",
    "    '25-й перцентиль: {},'.format(perc25),\n",
    "    '75-й перцентиль: {},'.format(perc75),\n",
    "    \"IQR: {}, \".format(IQR),\n",
    "    \"Границы выбросов: [{f}, {l}].\".format(f=perc25 - 1.5*IQR,\n",
    "                                           l=perc75 + 1.5*IQR))"
   ]
  },
  {
   "cell_type": "markdown",
   "metadata": {},
   "source": [
    "Проверим, сколько значений находится выше верхней границы выбросов:"
   ]
  },
  {
   "cell_type": "code",
   "execution_count": 45,
   "metadata": {},
   "outputs": [
    {
     "data": {
      "text/plain": [
       "4853"
      ]
     },
     "execution_count": 45,
     "metadata": {},
     "output_type": "execute_result"
    }
   ],
   "source": [
    "df.reviews_number[df.reviews_number > 247.5].count()"
   ]
  },
  {
   "cell_type": "markdown",
   "metadata": {},
   "source": [
    "Примерно 1\\9 часть значений выше границ выбросов, согласно IQR. Но, для городов с большим населением - не удивительно иметь много отзывов у ресторана.  Поэтому также оставим без изменений."
   ]
  },
  {
   "cell_type": "markdown",
   "metadata": {},
   "source": [
    "### 2.2.3. Целевой столбец rating"
   ]
  },
  {
   "cell_type": "markdown",
   "metadata": {},
   "source": [
    "Теперь можно взглянуть на целевой столбец rating:"
   ]
  },
  {
   "cell_type": "code",
   "execution_count": 46,
   "metadata": {},
   "outputs": [
    {
     "data": {
      "text/plain": [
       "array([3.5, 4. , 4.5, 5. , 3. , 2.5, 2. , 1. , 1.5])"
      ]
     },
     "execution_count": 46,
     "metadata": {},
     "output_type": "execute_result"
    }
   ],
   "source": [
    "df.rating.unique()"
   ]
  },
  {
   "cell_type": "markdown",
   "metadata": {},
   "source": [
    "Пропусков нет, это замечательно. Посмотрим на распределение:"
   ]
  },
  {
   "cell_type": "code",
   "execution_count": 47,
   "metadata": {},
   "outputs": [
    {
     "data": {
      "text/plain": [
       "<matplotlib.axes._subplots.AxesSubplot at 0x19255783550>"
      ]
     },
     "execution_count": 47,
     "metadata": {},
     "output_type": "execute_result"
    },
    {
     "data": {
      "image/png": "[encoded data removed]",
      "text/plain": [
       "<Figure size 1080x504 with 1 Axes>"
      ]
     },
     "metadata": {
      "needs_background": "light"
     },
     "output_type": "display_data"
    }
   ],
   "source": [
    "df.rating.hist()"
   ]
  },
  {
   "cell_type": "markdown",
   "metadata": {},
   "source": [
    "Выбросов не наблюдается, оценки лежат в диапазоне 0-5. Само распределение вполне адекватное, оценки кратны 0.5. В дальнейшем, для снижения погрешности можно написать функцию, которая будет округлять предсказанные оценки в соответствии с представленной градацией. Это поможет снизить MAE."
   ]
  },
  {
   "cell_type": "markdown",
   "metadata": {},
   "source": [
    "Функция predict_rounder представлена в начале работы."
   ]
  },
  {
   "cell_type": "markdown",
   "metadata": {},
   "source": [
    "Теперь все столбцы рассмотрены, можно переходить к самому интересному - выделению новых признаков."
   ]
  },
  {
   "cell_type": "markdown",
   "metadata": {},
   "source": [
    "## 3. Future Engeneering"
   ]
  },
  {
   "cell_type": "markdown",
   "metadata": {},
   "source": [
    "### 3.1. Новые столбцы из нечисловых"
   ]
  },
  {
   "cell_type": "markdown",
   "metadata": {},
   "source": [
    "Для начала, создадим новые столбцы на основе тех, которые мы рассмотрели в пунтке 2.1."
   ]
  },
  {
   "cell_type": "markdown",
   "metadata": {},
   "source": [
    "### 3.1.1. Столбец cuisine_style"
   ]
  },
  {
   "cell_type": "markdown",
   "metadata": {},
   "source": [
    "На основе списка, сформированного при рассмотрении кухонь мы создадим новый столбец, описывающий присутствие или отсутствие кухни из топ-10 в ресторане. Для этого напишем функцию, которая будет возвращать 1, если хотя бы 1 кухня ресторана находится в топ-10, и 0, если нет:"
   ]
  },
  {
   "cell_type": "markdown",
   "metadata": {},
   "source": [
    "Функция top_check представлена в начале работы"
   ]
  },
  {
   "cell_type": "markdown",
   "metadata": {},
   "source": [
    "Теперь применим функцию и сформируем новый столбец:"
   ]
  },
  {
   "cell_type": "code",
   "execution_count": 48,
   "metadata": {},
   "outputs": [],
   "source": [
    "df['top_cuisine'] = df.cuisine_style.apply(lambda x: top_check(x))"
   ]
  },
  {
   "cell_type": "markdown",
   "metadata": {},
   "source": [
    "Теперь мы имеем новый столбец top_cuisine, перейдем к следующему признаку. Им является количество кухонь в каждом ресторане:"
   ]
  },
  {
   "cell_type": "code",
   "execution_count": 49,
   "metadata": {},
   "outputs": [],
   "source": [
    "# если в ресторане нет информации о кухне, заменяем на 0\n",
    "df['cuisine_num'] = df.cuisine_style.apply(\n",
    "    lambda x: 0 if x[0] == \"no_information\" else len(x))"
   ]
  },
  {
   "cell_type": "markdown",
   "metadata": {},
   "source": [
    "Итак, мы сформировали столбец, отражающий количество кухонь в каждом ресторане,посмотрим распределение значений:"
   ]
  },
  {
   "cell_type": "code",
   "execution_count": 50,
   "metadata": {},
   "outputs": [
    {
     "data": {
      "text/plain": [
       "<matplotlib.axes._subplots.AxesSubplot at 0x19255a4d9d0>"
      ]
     },
     "execution_count": 50,
     "metadata": {},
     "output_type": "execute_result"
    },
    {
     "data": {
      "image/png": "[encoded data removed]",
      "text/plain": [
       "<Figure size 1080x504 with 1 Axes>"
      ]
     },
     "metadata": {
      "needs_background": "light"
     },
     "output_type": "display_data"
    }
   ],
   "source": [
    "df.cuisine_num.hist()"
   ]
  },
  {
   "cell_type": "raw",
   "metadata": {},
   "source": [
    "Как мы видим из графика,распределение экспоненциальное, большая часть значений сосредоточена в промежутке от 0 до 7. Это логично, что распределение выглядит таким образом, ведь логичнее сосредоточиться на меньшем количестве кухонь, но на большем качестве."
   ]
  },
  {
   "cell_type": "markdown",
   "metadata": {},
   "source": [
    "### 3.1.2. Столбец price_range"
   ]
  },
  {
   "cell_type": "markdown",
   "metadata": {},
   "source": [
    "Есть несколько вариантов получить новые столбцы из price_range. Используем label-encoding для создания столбца price_numeric:"
   ]
  },
  {
   "cell_type": "code",
   "execution_count": 51,
   "metadata": {},
   "outputs": [],
   "source": [
    "# заменим значения на 1,2 и 3 соответственно\n",
    "df['price_numeric'] = df.price_range.apply(\n",
    "    lambda x: 1 if x == '$' else (2 if x == '$$ - $$$' else 3))"
   ]
  },
  {
   "cell_type": "markdown",
   "metadata": {},
   "source": [
    "Мы создали новый столбец price_numeric, в котором обозначения для бюджетного,среднего и высокого ценовых сегментов заменены на 1,2 и 3 соответственно.\n",
    "Посмотрим на распределение значений столбца:"
   ]
  },
  {
   "cell_type": "code",
   "execution_count": 52,
   "metadata": {},
   "outputs": [
    {
     "data": {
      "text/plain": [
       "<matplotlib.axes._subplots.AxesSubplot at 0x192559678e0>"
      ]
     },
     "execution_count": 52,
     "metadata": {},
     "output_type": "execute_result"
    },
    {
     "data": {
      "image/png": "[encoded data removed]",
      "text/plain": [
       "<Figure size 1080x504 with 1 Axes>"
      ]
     },
     "metadata": {
      "needs_background": "light"
     },
     "output_type": "display_data"
    }
   ],
   "source": [
    "df.price_numeric.hist()"
   ]
  },
  {
   "cell_type": "markdown",
   "metadata": {},
   "source": [
    "Распределение нормальное, большая часть значений сконцентрирована в значении 2. Это говорит о том, что большая часть ресторанов относится к среднему ценовому сегменту."
   ]
  },
  {
   "cell_type": "markdown",
   "metadata": {},
   "source": [
    "### 3.1.3. Столбец reviews"
   ]
  },
  {
   "cell_type": "markdown",
   "metadata": {},
   "source": [
    "Из столбца reviews можно выделить даты отзывов и, что важнее, разницу между самым старым и новым отзывами. Для этого напишем функцию, которая будет выделять из столбца reviews даты и сохранять их в столбце dates_of_reviews:"
   ]
  },
  {
   "cell_type": "markdown",
   "metadata": {},
   "source": [
    "Функция review_dates представлена в начале работы"
   ]
  },
  {
   "cell_type": "markdown",
   "metadata": {},
   "source": [
    "Теперь сформируем столбец с датами:"
   ]
  },
  {
   "cell_type": "code",
   "execution_count": 53,
   "metadata": {},
   "outputs": [],
   "source": [
    "df['dates_of_reviews'] = df.reviews.apply(review_dates)"
   ]
  },
  {
   "cell_type": "markdown",
   "metadata": {},
   "source": [
    "Теперь сформируем столбец, отражающий разницу между самым старым и новым отзывами:"
   ]
  },
  {
   "cell_type": "code",
   "execution_count": 54,
   "metadata": {},
   "outputs": [],
   "source": [
    "# считаем дни между отзывами, если значение в столбце с датами не пустое,иначе записываем 0\n",
    "df['reviews_time_gone'] = df.dates_of_reviews.apply(\n",
    "    lambda x: (x[1]-x[0]).days if len(x) == 2 else 0)"
   ]
  },
  {
   "cell_type": "markdown",
   "metadata": {},
   "source": [
    "Мы сформировали столбец reviews_time_gone, который можно использовать для обучения будущей модели. Посмотрим распределение"
   ]
  },
  {
   "cell_type": "code",
   "execution_count": 55,
   "metadata": {},
   "outputs": [
    {
     "data": {
      "text/plain": [
       "<matplotlib.axes._subplots.AxesSubplot at 0x192511c87c0>"
      ]
     },
     "execution_count": 55,
     "metadata": {},
     "output_type": "execute_result"
    },
    {
     "data": {
      "image/png": "[encoded data removed]",
      "text/plain": [
       "<Figure size 1080x504 with 1 Axes>"
      ]
     },
     "metadata": {
      "needs_background": "light"
     },
     "output_type": "display_data"
    }
   ],
   "source": [
    "df.reviews_time_gone.hist(bins=40)"
   ]
  },
  {
   "cell_type": "markdown",
   "metadata": {},
   "source": [
    "Распределение снова экспоненциальное, большая часть значений сосредоточена в промежутке от 0 до 400. Это говорит о том, что для многих заведений между отзывами прошло не более двух лет. Причин этому может быть несколько - либо заведение новое, либо оно не числилось раньше на TripAdvisor. А возможно людям было просто лень писать отзывы. "
   ]
  },
  {
   "cell_type": "markdown",
   "metadata": {},
   "source": [
    "### 3.1.4. Столбец rest_id"
   ]
  },
  {
   "cell_type": "markdown",
   "metadata": {},
   "source": [
    "На основе данного столбца мы можем сформировать столбец, показывающий является ли ресторан сетевым или нет. Для этого сформируем список с ресторанами, которых больше 1:"
   ]
  },
  {
   "cell_type": "code",
   "execution_count": 56,
   "metadata": {},
   "outputs": [],
   "source": [
    "id_net = id_list[id_list > 1]"
   ]
  },
  {
   "cell_type": "markdown",
   "metadata": {},
   "source": [
    "Теперь сформируем список из id сетевых ресторанов:"
   ]
  },
  {
   "cell_type": "code",
   "execution_count": 57,
   "metadata": {},
   "outputs": [
    {
     "data": {
      "text/plain": [
       "['id_436',\n",
       " 'id_227',\n",
       " 'id_633',\n",
       " 'id_871',\n",
       " 'id_321',\n",
       " 'id_344',\n",
       " 'id_430',\n",
       " 'id_534',\n",
       " 'id_71',\n",
       " 'id_585',\n",
       " 'id_364',\n",
       " 'id_335',\n",
       " 'id_589',\n",
       " 'id_920',\n",
       " 'id_367',\n",
       " 'id_256',\n",
       " 'id_152',\n",
       " 'id_107',\n",
       " 'id_79',\n",
       " 'id_69',\n",
       " 'id_561',\n",
       " 'id_245',\n",
       " 'id_482',\n",
       " 'id_792',\n",
       " 'id_167',\n",
       " 'id_206',\n",
       " 'id_200',\n",
       " 'id_1076',\n",
       " 'id_434',\n",
       " 'id_1697',\n",
       " 'id_837',\n",
       " 'id_479',\n",
       " 'id_216',\n",
       " 'id_175',\n",
       " 'id_607',\n",
       " 'id_1055',\n",
       " 'id_847',\n",
       " 'id_611',\n",
       " 'id_477',\n",
       " 'id_85',\n",
       " 'id_66',\n",
       " 'id_38',\n",
       " 'id_267',\n",
       " 'id_453',\n",
       " 'id_779',\n",
       " 'id_237',\n",
       " 'id_150',\n",
       " 'id_991',\n",
       " 'id_279',\n",
       " 'id_92',\n",
       " 'id_1079',\n",
       " 'id_995',\n",
       " 'id_660',\n",
       " 'id_458',\n",
       " 'id_105',\n",
       " 'id_0',\n",
       " 'id_1009',\n",
       " 'id_359',\n",
       " 'id_14',\n",
       " 'id_54',\n",
       " 'id_86',\n",
       " 'id_425',\n",
       " 'id_885',\n",
       " 'id_330',\n",
       " 'id_830',\n",
       " 'id_445',\n",
       " 'id_492',\n",
       " 'id_756',\n",
       " 'id_2',\n",
       " 'id_681',\n",
       " 'id_971',\n",
       " 'id_549',\n",
       " 'id_615',\n",
       " 'id_10',\n",
       " 'id_315',\n",
       " 'id_845',\n",
       " 'id_835',\n",
       " 'id_692',\n",
       " 'id_693',\n",
       " 'id_21',\n",
       " 'id_905',\n",
       " 'id_959',\n",
       " 'id_866',\n",
       " 'id_1060',\n",
       " 'id_624',\n",
       " 'id_101',\n",
       " 'id_872',\n",
       " 'id_969',\n",
       " 'id_581',\n",
       " 'id_487',\n",
       " 'id_1239',\n",
       " 'id_122',\n",
       " 'id_361',\n",
       " 'id_162',\n",
       " 'id_228',\n",
       " 'id_673',\n",
       " 'id_357',\n",
       " 'id_1050',\n",
       " 'id_306',\n",
       " 'id_1481',\n",
       " 'id_1104',\n",
       " 'id_1520',\n",
       " 'id_822',\n",
       " 'id_379',\n",
       " 'id_296',\n",
       " 'id_894',\n",
       " 'id_271',\n",
       " 'id_17',\n",
       " 'id_745',\n",
       " 'id_734',\n",
       " 'id_623',\n",
       " 'id_312',\n",
       " 'id_1151',\n",
       " 'id_801',\n",
       " 'id_1583',\n",
       " 'id_606',\n",
       " 'id_12',\n",
       " 'id_793',\n",
       " 'id_171',\n",
       " 'id_452',\n",
       " 'id_199',\n",
       " 'id_1040',\n",
       " 'id_508',\n",
       " 'id_239',\n",
       " 'id_325',\n",
       " 'id_1044',\n",
       " 'id_1012',\n",
       " 'id_499',\n",
       " 'id_490',\n",
       " 'id_388',\n",
       " 'id_42',\n",
       " 'id_580',\n",
       " 'id_273',\n",
       " 'id_1057',\n",
       " 'id_349',\n",
       " 'id_516',\n",
       " 'id_429',\n",
       " 'id_382',\n",
       " 'id_374',\n",
       " 'id_198',\n",
       " 'id_1140',\n",
       " 'id_937',\n",
       " 'id_354',\n",
       " 'id_471',\n",
       " 'id_1165',\n",
       " 'id_1190',\n",
       " 'id_926',\n",
       " 'id_468',\n",
       " 'id_1880',\n",
       " 'id_111',\n",
       " 'id_1095',\n",
       " 'id_1476',\n",
       " 'id_853',\n",
       " 'id_347',\n",
       " 'id_233',\n",
       " 'id_648',\n",
       " 'id_1402',\n",
       " 'id_987',\n",
       " 'id_862',\n",
       " 'id_808',\n",
       " 'id_55',\n",
       " 'id_406',\n",
       " 'id_1347',\n",
       " 'id_509',\n",
       " 'id_81',\n",
       " 'id_1034',\n",
       " 'id_125',\n",
       " 'id_858',\n",
       " 'id_112',\n",
       " 'id_117',\n",
       " 'id_78',\n",
       " 'id_60',\n",
       " 'id_1042',\n",
       " 'id_424',\n",
       " 'id_274',\n",
       " 'id_412',\n",
       " 'id_706',\n",
       " 'id_147',\n",
       " 'id_892',\n",
       " 'id_128',\n",
       " 'id_1259',\n",
       " 'id_174',\n",
       " 'id_951',\n",
       " 'id_394',\n",
       " 'id_562',\n",
       " 'id_99',\n",
       " 'id_222',\n",
       " 'id_248',\n",
       " 'id_1976',\n",
       " 'id_1011',\n",
       " 'id_489',\n",
       " 'id_328',\n",
       " 'id_109',\n",
       " 'id_262',\n",
       " 'id_1692',\n",
       " 'id_118',\n",
       " 'id_1234',\n",
       " 'id_242',\n",
       " 'id_963',\n",
       " 'id_1068',\n",
       " 'id_389',\n",
       " 'id_684',\n",
       " 'id_821',\n",
       " 'id_533',\n",
       " 'id_336',\n",
       " 'id_1127',\n",
       " 'id_574',\n",
       " 'id_741',\n",
       " 'id_1926',\n",
       " 'id_156',\n",
       " 'id_1132',\n",
       " 'id_223',\n",
       " 'id_207',\n",
       " 'id_573',\n",
       " 'id_120',\n",
       " 'id_1205',\n",
       " 'id_4',\n",
       " 'id_761',\n",
       " 'id_856',\n",
       " 'id_210',\n",
       " 'id_891',\n",
       " 'id_52',\n",
       " 'id_788',\n",
       " 'id_230',\n",
       " 'id_19',\n",
       " 'id_1146',\n",
       " 'id_568',\n",
       " 'id_320',\n",
       " 'id_501',\n",
       " 'id_249',\n",
       " 'id_1436',\n",
       " 'id_1302',\n",
       " 'id_146',\n",
       " 'id_1007',\n",
       " 'id_133',\n",
       " 'id_776',\n",
       " 'id_1001',\n",
       " 'id_36',\n",
       " 'id_140',\n",
       " 'id_8',\n",
       " 'id_619',\n",
       " 'id_526',\n",
       " 'id_102',\n",
       " 'id_1003',\n",
       " 'id_976',\n",
       " 'id_557',\n",
       " 'id_188',\n",
       " 'id_404',\n",
       " 'id_393',\n",
       " 'id_1039',\n",
       " 'id_127',\n",
       " 'id_1131',\n",
       " 'id_908',\n",
       " 'id_1116',\n",
       " 'id_911',\n",
       " 'id_614',\n",
       " 'id_1069',\n",
       " 'id_1451',\n",
       " 'id_1281',\n",
       " 'id_272',\n",
       " 'id_381',\n",
       " 'id_537',\n",
       " 'id_311',\n",
       " 'id_119',\n",
       " 'id_1414',\n",
       " 'id_259',\n",
       " 'id_376',\n",
       " 'id_49',\n",
       " 'id_1244',\n",
       " 'id_1229',\n",
       " 'id_770',\n",
       " 'id_1420',\n",
       " 'id_544',\n",
       " 'id_1207',\n",
       " 'id_1474',\n",
       " 'id_1740',\n",
       " 'id_100',\n",
       " 'id_121',\n",
       " 'id_960',\n",
       " 'id_1189',\n",
       " 'id_990',\n",
       " 'id_236',\n",
       " 'id_744',\n",
       " 'id_798',\n",
       " 'id_1090',\n",
       " 'id_791',\n",
       " 'id_143',\n",
       " 'id_253',\n",
       " 'id_1122',\n",
       " 'id_64',\n",
       " 'id_841',\n",
       " 'id_1059',\n",
       " 'id_1540',\n",
       " 'id_47',\n",
       " 'id_1078',\n",
       " 'id_1323',\n",
       " 'id_857',\n",
       " 'id_431',\n",
       " 'id_300',\n",
       " 'id_1019',\n",
       " 'id_1533',\n",
       " 'id_1901',\n",
       " 'id_591',\n",
       " 'id_35',\n",
       " 'id_1435',\n",
       " 'id_339',\n",
       " 'id_184',\n",
       " 'id_657',\n",
       " 'id_656',\n",
       " 'id_567',\n",
       " 'id_752',\n",
       " 'id_571',\n",
       " 'id_1551',\n",
       " 'id_1167',\n",
       " 'id_1168',\n",
       " 'id_197',\n",
       " 'id_326',\n",
       " 'id_151',\n",
       " 'id_732',\n",
       " 'id_1041',\n",
       " 'id_504',\n",
       " 'id_895',\n",
       " 'id_1291',\n",
       " 'id_155',\n",
       " 'id_282',\n",
       " 'id_774',\n",
       " 'id_461',\n",
       " 'id_342',\n",
       " 'id_137',\n",
       " 'id_97',\n",
       " 'id_737',\n",
       " 'id_356',\n",
       " 'id_395',\n",
       " 'id_698',\n",
       " 'id_329',\n",
       " 'id_1633',\n",
       " 'id_158',\n",
       " 'id_588',\n",
       " 'id_286',\n",
       " 'id_159',\n",
       " 'id_372',\n",
       " 'id_1466',\n",
       " 'id_528',\n",
       " 'id_805',\n",
       " 'id_72',\n",
       " 'id_480',\n",
       " 'id_1035',\n",
       " 'id_547',\n",
       " 'id_369',\n",
       " 'id_1796',\n",
       " 'id_1298',\n",
       " 'id_550',\n",
       " 'id_9',\n",
       " 'id_211',\n",
       " 'id_1689',\n",
       " 'id_816',\n",
       " 'id_420',\n",
       " 'id_457',\n",
       " 'id_400',\n",
       " 'id_878',\n",
       " 'id_337',\n",
       " 'id_543',\n",
       " 'id_806',\n",
       " 'id_1309',\n",
       " 'id_682',\n",
       " 'id_790',\n",
       " 'id_293',\n",
       " 'id_1137',\n",
       " 'id_997',\n",
       " 'id_653',\n",
       " 'id_1931',\n",
       " 'id_362',\n",
       " 'id_654',\n",
       " 'id_247',\n",
       " 'id_1491',\n",
       " 'id_134',\n",
       " 'id_90',\n",
       " 'id_82',\n",
       " 'id_850',\n",
       " 'id_104',\n",
       " 'id_1032',\n",
       " 'id_138',\n",
       " 'id_796',\n",
       " 'id_912',\n",
       " 'id_132',\n",
       " 'id_1394',\n",
       " 'id_636',\n",
       " 'id_1575',\n",
       " 'id_1322',\n",
       " 'id_590',\n",
       " 'id_524',\n",
       " 'id_839',\n",
       " 'id_824',\n",
       " 'id_1390',\n",
       " 'id_559',\n",
       " 'id_1444',\n",
       " 'id_1504',\n",
       " 'id_1279',\n",
       " 'id_22',\n",
       " 'id_444',\n",
       " 'id_500',\n",
       " 'id_786',\n",
       " 'id_1221',\n",
       " 'id_1235',\n",
       " 'id_116',\n",
       " 'id_33',\n",
       " 'id_766',\n",
       " 'id_1102',\n",
       " 'id_1427',\n",
       " 'id_898',\n",
       " 'id_201',\n",
       " 'id_1243',\n",
       " 'id_1107',\n",
       " 'id_358',\n",
       " 'id_521',\n",
       " 'id_189',\n",
       " 'id_31',\n",
       " 'id_448',\n",
       " 'id_1218',\n",
       " 'id_751',\n",
       " 'id_2410',\n",
       " 'id_668',\n",
       " 'id_292',\n",
       " 'id_493',\n",
       " 'id_1578',\n",
       " 'id_208',\n",
       " 'id_900',\n",
       " 'id_426',\n",
       " 'id_5',\n",
       " 'id_780',\n",
       " 'id_1297',\n",
       " 'id_840',\n",
       " 'id_1731',\n",
       " 'id_1405',\n",
       " 'id_1841',\n",
       " 'id_1871',\n",
       " 'id_1038',\n",
       " 'id_943',\n",
       " 'id_553',\n",
       " 'id_1036',\n",
       " 'id_587',\n",
       " 'id_1303',\n",
       " 'id_1514',\n",
       " 'id_283',\n",
       " 'id_600',\n",
       " 'id_815',\n",
       " 'id_505',\n",
       " 'id_1120',\n",
       " 'id_1769',\n",
       " 'id_365',\n",
       " 'id_621',\n",
       " 'id_1406',\n",
       " 'id_1048',\n",
       " 'id_391',\n",
       " 'id_601',\n",
       " 'id_945',\n",
       " 'id_709',\n",
       " 'id_1249',\n",
       " 'id_26',\n",
       " 'id_1065',\n",
       " 'id_1227',\n",
       " 'id_1324',\n",
       " 'id_1029',\n",
       " 'id_677',\n",
       " 'id_1085',\n",
       " 'id_520',\n",
       " 'id_1052',\n",
       " 'id_687',\n",
       " 'id_467',\n",
       " 'id_901',\n",
       " 'id_1320',\n",
       " 'id_144',\n",
       " 'id_696',\n",
       " 'id_243',\n",
       " 'id_1359',\n",
       " 'id_345',\n",
       " 'id_464',\n",
       " 'id_1345',\n",
       " 'id_702',\n",
       " 'id_1894',\n",
       " 'id_1228',\n",
       " 'id_577',\n",
       " 'id_1360',\n",
       " 'id_1332',\n",
       " 'id_1719',\n",
       " 'id_1376',\n",
       " 'id_145',\n",
       " 'id_1304',\n",
       " 'id_419',\n",
       " 'id_1125',\n",
       " 'id_402',\n",
       " 'id_1766',\n",
       " 'id_1663',\n",
       " 'id_507',\n",
       " 'id_1021',\n",
       " 'id_281',\n",
       " 'id_194',\n",
       " 'id_1393',\n",
       " 'id_1030',\n",
       " 'id_723',\n",
       " 'id_396',\n",
       " 'id_1529',\n",
       " 'id_1222',\n",
       " 'id_240',\n",
       " 'id_244',\n",
       " 'id_465',\n",
       " 'id_173',\n",
       " 'id_1790',\n",
       " 'id_642',\n",
       " 'id_936',\n",
       " 'id_970',\n",
       " 'id_596',\n",
       " 'id_166',\n",
       " 'id_993',\n",
       " 'id_812',\n",
       " 'id_1000',\n",
       " 'id_455',\n",
       " 'id_1334',\n",
       " 'id_1286',\n",
       " 'id_165',\n",
       " 'id_405',\n",
       " 'id_1552',\n",
       " 'id_700',\n",
       " 'id_1248',\n",
       " 'id_743',\n",
       " 'id_1479',\n",
       " 'id_1326',\n",
       " 'id_32',\n",
       " 'id_1885',\n",
       " 'id_278',\n",
       " 'id_1472',\n",
       " 'id_1840',\n",
       " 'id_518',\n",
       " 'id_1313',\n",
       " 'id_777',\n",
       " 'id_472',\n",
       " 'id_1177',\n",
       " 'id_1109',\n",
       " 'id_1144',\n",
       " 'id_1431',\n",
       " 'id_999',\n",
       " 'id_755',\n",
       " 'id_441',\n",
       " 'id_1438',\n",
       " 'id_1111',\n",
       " 'id_1483',\n",
       " 'id_1006',\n",
       " 'id_555',\n",
       " 'id_108',\n",
       " 'id_20',\n",
       " 'id_529',\n",
       " 'id_473',\n",
       " 'id_514',\n",
       " 'id_126',\n",
       " 'id_881',\n",
       " 'id_565',\n",
       " 'id_1638',\n",
       " 'id_433',\n",
       " 'id_192',\n",
       " 'id_1022',\n",
       " 'id_760',\n",
       " 'id_975',\n",
       " 'id_714',\n",
       " 'id_1148',\n",
       " 'id_280',\n",
       " 'id_658',\n",
       " 'id_1260',\n",
       " 'id_1368',\n",
       " 'id_1635',\n",
       " 'id_1139',\n",
       " 'id_53',\n",
       " 'id_1610',\n",
       " 'id_539',\n",
       " 'id_377',\n",
       " 'id_1282',\n",
       " 'id_387',\n",
       " 'id_958',\n",
       " 'id_1401',\n",
       " 'id_609',\n",
       " 'id_1650',\n",
       " 'id_848',\n",
       " 'id_799',\n",
       " 'id_523',\n",
       " 'id_371',\n",
       " 'id_318',\n",
       " 'id_204',\n",
       " 'id_141',\n",
       " 'id_1793',\n",
       " 'id_511',\n",
       " 'id_1698',\n",
       " 'id_538',\n",
       " 'id_1734',\n",
       " 'id_1292',\n",
       " 'id_593',\n",
       " 'id_729',\n",
       " 'id_355',\n",
       " 'id_1561',\n",
       " 'id_305',\n",
       " 'id_408',\n",
       " 'id_1092',\n",
       " 'id_298',\n",
       " 'id_324',\n",
       " 'id_775',\n",
       " 'id_217',\n",
       " 'id_13',\n",
       " 'id_1870',\n",
       " 'id_2291',\n",
       " 'id_460',\n",
       " 'id_463',\n",
       " 'id_196',\n",
       " 'id_924',\n",
       " 'id_1010',\n",
       " 'id_785',\n",
       " 'id_483',\n",
       " 'id_1046',\n",
       " 'id_255',\n",
       " 'id_1077',\n",
       " 'id_7',\n",
       " 'id_214',\n",
       " 'id_843',\n",
       " 'id_563',\n",
       " 'id_864',\n",
       " 'id_1208',\n",
       " 'id_818',\n",
       " 'id_1943',\n",
       " 'id_459',\n",
       " 'id_502',\n",
       " 'id_180',\n",
       " 'id_1662',\n",
       " 'id_950',\n",
       " 'id_1156',\n",
       " 'id_984',\n",
       " 'id_794',\n",
       " 'id_783',\n",
       " 'id_154',\n",
       " 'id_360',\n",
       " 'id_494',\n",
       " 'id_1675',\n",
       " 'id_844',\n",
       " 'id_713',\n",
       " 'id_2379',\n",
       " 'id_1015',\n",
       " 'id_1760',\n",
       " 'id_902',\n",
       " 'id_451',\n",
       " 'id_304',\n",
       " 'id_802',\n",
       " 'id_45',\n",
       " 'id_135',\n",
       " 'id_1143',\n",
       " 'id_341',\n",
       " 'id_828',\n",
       " 'id_612',\n",
       " 'id_566',\n",
       " 'id_532',\n",
       " 'id_909',\n",
       " 'id_753',\n",
       " 'id_317',\n",
       " 'id_1709',\n",
       " 'id_747',\n",
       " 'id_704',\n",
       " 'id_1674',\n",
       " 'id_1162',\n",
       " 'id_1380',\n",
       " 'id_617',\n",
       " 'id_443',\n",
       " 'id_469',\n",
       " 'id_291',\n",
       " 'id_689',\n",
       " 'id_80',\n",
       " 'id_540',\n",
       " 'id_1560',\n",
       " 'id_851',\n",
       " 'id_2311',\n",
       " 'id_43',\n",
       " 'id_1020',\n",
       " 'id_417',\n",
       " 'id_466',\n",
       " 'id_225',\n",
       " 'id_820',\n",
       " 'id_834',\n",
       " 'id_209',\n",
       " 'id_2073',\n",
       " 'id_1178',\n",
       " 'id_913',\n",
       " 'id_914',\n",
       " 'id_454',\n",
       " 'id_647',\n",
       " 'id_285',\n",
       " 'id_1442',\n",
       " 'id_610',\n",
       " 'id_1341',\n",
       " 'id_697',\n",
       " 'id_977',\n",
       " 'id_1272',\n",
       " 'id_148',\n",
       " 'id_867',\n",
       " 'id_592',\n",
       " 'id_1665',\n",
       " 'id_182',\n",
       " 'id_893',\n",
       " 'id_314',\n",
       " 'id_2572',\n",
       " 'id_1611',\n",
       " 'id_1691',\n",
       " 'id_2036',\n",
       " 'id_679',\n",
       " 'id_1799',\n",
       " 'id_1142',\n",
       " 'id_749',\n",
       " 'id_88',\n",
       " 'id_73',\n",
       " 'id_1653',\n",
       " 'id_2089',\n",
       " 'id_763',\n",
       " 'id_1563',\n",
       " 'id_103',\n",
       " 'id_1225',\n",
       " 'id_1123',\n",
       " 'id_186',\n",
       " 'id_28',\n",
       " 'id_1385',\n",
       " 'id_512',\n",
       " 'id_2376',\n",
       " 'id_948',\n",
       " 'id_980',\n",
       " 'id_1063',\n",
       " 'id_1103',\n",
       " 'id_270',\n",
       " 'id_933',\n",
       " 'id_251',\n",
       " 'id_2016',\n",
       " 'id_2640',\n",
       " 'id_168',\n",
       " 'id_1724',\n",
       " 'id_1535',\n",
       " 'id_655',\n",
       " 'id_503',\n",
       " 'id_663',\n",
       " 'id_727',\n",
       " 'id_829',\n",
       " 'id_1937',\n",
       " 'id_235',\n",
       " 'id_739',\n",
       " 'id_491',\n",
       " 'id_450',\n",
       " 'id_1061',\n",
       " 'id_220',\n",
       " 'id_918',\n",
       " 'id_827',\n",
       " 'id_41',\n",
       " 'id_1033',\n",
       " 'id_2313',\n",
       " 'id_781',\n",
       " 'id_1447',\n",
       " 'id_690',\n",
       " 'id_947',\n",
       " 'id_1593',\n",
       " 'id_289',\n",
       " 'id_250',\n",
       " 'id_1172',\n",
       " 'id_1100',\n",
       " 'id_981',\n",
       " 'id_1654',\n",
       " 'id_2058',\n",
       " 'id_536',\n",
       " 'id_2220',\n",
       " 'id_2064',\n",
       " 'id_1013',\n",
       " 'id_333',\n",
       " 'id_213',\n",
       " 'id_485',\n",
       " 'id_40',\n",
       " 'id_24',\n",
       " 'id_583',\n",
       " 'id_252',\n",
       " 'id_1232',\n",
       " 'id_1574',\n",
       " 'id_177',\n",
       " 'id_1058',\n",
       " 'id_432',\n",
       " 'id_1294',\n",
       " 'id_545',\n",
       " 'id_604',\n",
       " 'id_1101',\n",
       " 'id_877',\n",
       " 'id_535',\n",
       " 'id_1163',\n",
       " 'id_603',\n",
       " 'id_825',\n",
       " 'id_735',\n",
       " 'id_1519',\n",
       " 'id_392',\n",
       " 'id_860',\n",
       " 'id_506',\n",
       " 'id_1062',\n",
       " 'id_941',\n",
       " 'id_193',\n",
       " 'id_564',\n",
       " 'id_2198',\n",
       " 'id_263',\n",
       " 'id_972',\n",
       " 'id_1492',\n",
       " 'id_1649',\n",
       " 'id_1518',\n",
       " 'id_784',\n",
       " 'id_1023',\n",
       " 'id_1426',\n",
       " 'id_1606',\n",
       " 'id_632',\n",
       " 'id_1141',\n",
       " 'id_890',\n",
       " 'id_331',\n",
       " 'id_407',\n",
       " 'id_76',\n",
       " 'id_18',\n",
       " 'id_423',\n",
       " 'id_438',\n",
       " 'id_1045',\n",
       " 'id_1212',\n",
       " 'id_1231',\n",
       " 'id_1026',\n",
       " 'id_2375',\n",
       " 'id_1134',\n",
       " 'id_939',\n",
       " 'id_1080',\n",
       " 'id_2596',\n",
       " 'id_77',\n",
       " 'id_1513',\n",
       " 'id_1803',\n",
       " 'id_93',\n",
       " 'id_578',\n",
       " 'id_904',\n",
       " 'id_554',\n",
       " 'id_1174',\n",
       " 'id_620',\n",
       " 'id_1312',\n",
       " 'id_1186',\n",
       " 'id_846',\n",
       " 'id_1984',\n",
       " 'id_440',\n",
       " 'id_181',\n",
       " 'id_1896',\n",
       " 'id_865',\n",
       " 'id_164',\n",
       " 'id_68',\n",
       " 'id_746',\n",
       " 'id_205',\n",
       " 'id_823',\n",
       " 'id_1459',\n",
       " 'id_1585',\n",
       " 'id_297',\n",
       " 'id_351',\n",
       " 'id_1916',\n",
       " 'id_1767',\n",
       " 'id_2356',\n",
       " 'id_437',\n",
       " 'id_276',\n",
       " 'id_1357',\n",
       " 'id_1261',\n",
       " 'id_1262',\n",
       " 'id_1391',\n",
       " 'id_1430',\n",
       " 'id_187',\n",
       " 'id_863',\n",
       " 'id_1129',\n",
       " 'id_1350',\n",
       " 'id_1681',\n",
       " 'id_350',\n",
       " 'id_1963',\n",
       " 'id_717',\n",
       " 'id_319',\n",
       " 'id_1572',\n",
       " 'id_363',\n",
       " 'id_1622',\n",
       " 'id_989',\n",
       " 'id_814',\n",
       " 'id_1241',\n",
       " 'id_157',\n",
       " 'id_767',\n",
       " 'id_750',\n",
       " 'id_778',\n",
       " 'id_1618',\n",
       " 'id_1024',\n",
       " 'id_773',\n",
       " 'id_1247',\n",
       " 'id_1478',\n",
       " 'id_1727',\n",
       " 'id_1598',\n",
       " 'id_644',\n",
       " 'id_488',\n",
       " 'id_1108',\n",
       " 'id_403',\n",
       " 'id_1604',\n",
       " 'id_887',\n",
       " 'id_598',\n",
       " 'id_1377',\n",
       " 'id_3111',\n",
       " 'id_1898',\n",
       " 'id_645',\n",
       " 'id_1099',\n",
       " 'id_1614',\n",
       " 'id_1173',\n",
       " 'id_625',\n",
       " 'id_810',\n",
       " 'id_1603',\n",
       " 'id_1074',\n",
       " 'id_1311',\n",
       " 'id_757',\n",
       " 'id_726',\n",
       " 'id_2216',\n",
       " 'id_1372',\n",
       " 'id_938',\n",
       " 'id_1417',\n",
       " 'id_1761',\n",
       " 'id_1726',\n",
       " 'id_1672',\n",
       " 'id_635',\n",
       " 'id_1318',\n",
       " 'id_2979',\n",
       " 'id_94',\n",
       " 'id_1997',\n",
       " 'id_2179',\n",
       " 'id_1546',\n",
       " 'id_1439',\n",
       " 'id_2107',\n",
       " 'id_1877',\n",
       " 'id_1736',\n",
       " 'id_1505',\n",
       " 'id_475',\n",
       " 'id_1922',\n",
       " 'id_882',\n",
       " 'id_552',\n",
       " 'id_680',\n",
       " 'id_284',\n",
       " 'id_669',\n",
       " 'id_1851',\n",
       " 'id_130',\n",
       " 'id_495',\n",
       " 'id_530',\n",
       " 'id_299',\n",
       " 'id_1890',\n",
       " 'id_1723',\n",
       " 'id_831',\n",
       " 'id_1555',\n",
       " 'id_1732',\n",
       " 'id_879',\n",
       " 'id_558',\n",
       " 'id_449',\n",
       " 'id_1421',\n",
       " 'id_1522',\n",
       " 'id_1197',\n",
       " 'id_694',\n",
       " 'id_1941',\n",
       " 'id_638',\n",
       " 'id_1602',\n",
       " 'id_2314',\n",
       " 'id_731',\n",
       " 'id_838',\n",
       " 'id_1612',\n",
       " 'id_1371',\n",
       " 'id_84',\n",
       " 'id_370',\n",
       " 'id_1182',\n",
       " 'id_277',\n",
       " 'id_1986',\n",
       " 'id_1960',\n",
       " 'id_795',\n",
       " 'id_869',\n",
       " 'id_1070',\n",
       " 'id_1952',\n",
       " 'id_418',\n",
       " 'id_1198',\n",
       " 'id_2300',\n",
       " 'id_2607',\n",
       " 'id_1206',\n",
       " 'id_742',\n",
       " 'id_1049',\n",
       " 'id_859',\n",
       " 'id_498',\n",
       " 'id_1570',\n",
       " 'id_1064',\n",
       " 'id_1705',\n",
       " 'id_265',\n",
       " 'id_854',\n",
       " 'id_833',\n",
       " 'id_1457',\n",
       " 'id_720',\n",
       " 'id_2283',\n",
       " 'id_1119',\n",
       " 'id_584',\n",
       " 'id_685',\n",
       " 'id_599',\n",
       " 'id_257',\n",
       " 'id_2193',\n",
       " 'id_1193',\n",
       " 'id_2056',\n",
       " 'id_1296',\n",
       " 'id_2303',\n",
       " 'id_1950',\n",
       " ...]"
      ]
     },
     "execution_count": 57,
     "metadata": {},
     "output_type": "execute_result"
    }
   ],
   "source": [
    "id_net_list = list(id_net.index)\n",
    "id_net_list"
   ]
  },
  {
   "cell_type": "markdown",
   "metadata": {},
   "source": [
    "Далее напишем функцию, которая будет возвращать 1, если id ресторана находится в списке сетевых и 0 если нет:"
   ]
  },
  {
   "cell_type": "markdown",
   "metadata": {},
   "source": [
    "Функция is_net_rest представлена в начале работы"
   ]
  },
  {
   "cell_type": "markdown",
   "metadata": {},
   "source": [
    "Теперь преобразуем значения в ячейках rest_id в список:"
   ]
  },
  {
   "cell_type": "code",
   "execution_count": 58,
   "metadata": {},
   "outputs": [],
   "source": [
    "df.rest_id = df.rest_id.apply(lambda x: x.split(','))"
   ]
  },
  {
   "cell_type": "markdown",
   "metadata": {},
   "source": [
    "Далее сформируем сам столбец:"
   ]
  },
  {
   "cell_type": "code",
   "execution_count": 59,
   "metadata": {},
   "outputs": [],
   "source": [
    "df['net_rest'] = df.rest_id.apply(lambda x: is_net_rest(x))"
   ]
  },
  {
   "cell_type": "markdown",
   "metadata": {},
   "source": [
    "Проверим результат:"
   ]
  },
  {
   "cell_type": "code",
   "execution_count": 60,
   "metadata": {},
   "outputs": [
    {
     "data": {
      "text/plain": [
       "1    35295\n",
       "0     4705\n",
       "Name: net_rest, dtype: int64"
      ]
     },
     "execution_count": 60,
     "metadata": {},
     "output_type": "execute_result"
    }
   ],
   "source": [
    "df.net_rest.value_counts()"
   ]
  },
  {
   "cell_type": "markdown",
   "metadata": {},
   "source": [
    "Итого мы получили 4705 уникальных ресторанов со значением 0. Все остальные являются сетевыми."
   ]
  },
  {
   "cell_type": "markdown",
   "metadata": {},
   "source": [
    "### 3.2. Числовые столбцы"
   ]
  },
  {
   "cell_type": "markdown",
   "metadata": {},
   "source": [
    "Рассмотрим столбцы из пункта 2.2"
   ]
  },
  {
   "cell_type": "markdown",
   "metadata": {},
   "source": [
    "### 3.2.1. Столбец ranking"
   ]
  },
  {
   "cell_type": "markdown",
   "metadata": {},
   "source": [
    "Данный столбец отражает ранг ресторана относительно других ресторанов в его городе. Можно отнормировать относительно максимального ранга. для этого сформируем словарь, вкотором будут храниться максимальные значения для каждого города:"
   ]
  },
  {
   "cell_type": "code",
   "execution_count": 61,
   "metadata": {},
   "outputs": [],
   "source": [
    "city = df.city.unique()\n",
    "city_rank = {}  # создаем пустой словарь\n",
    "# записываем в словарь значения максимума по каждому городу\n",
    "for i in city:\n",
    "    city_rank[i] = df[df.city == i].ranking.max()"
   ]
  },
  {
   "cell_type": "markdown",
   "metadata": {},
   "source": [
    "Теперь отнормируем столбец ranking относительно полученных значений:"
   ]
  },
  {
   "cell_type": "code",
   "execution_count": 62,
   "metadata": {},
   "outputs": [],
   "source": [
    "df['ranking_norm'] = df[['city', 'ranking']].apply(\n",
    "    lambda x: x[1]/city_rank[x[0]], axis=1)"
   ]
  },
  {
   "cell_type": "markdown",
   "metadata": {},
   "source": [
    "Теперь значения столбца имеют меньший разброс, что может помочь сделать более четкий прогноз."
   ]
  },
  {
   "cell_type": "markdown",
   "metadata": {},
   "source": [
    "### 3.2.2. Столбец reviews_number"
   ]
  },
  {
   "cell_type": "markdown",
   "metadata": {},
   "source": [
    "Данный столбец отражает количество отзывов каждом из ресторанов. Приведем все значения столбца к значению между 0 и 1:"
   ]
  },
  {
   "cell_type": "code",
   "execution_count": 63,
   "metadata": {},
   "outputs": [],
   "source": [
    "# из каждого значения вычитается минимум столбца, затем все делится на разность между максимумом и минимумом\n",
    "df['reviews_num_norm'] = df.reviews_number.apply(lambda x: (\n",
    "    x-df.reviews_number.min())/(df.reviews_number.max()-df.reviews_number.min()))"
   ]
  },
  {
   "cell_type": "markdown",
   "metadata": {},
   "source": [
    "### Проведём корреляционный анализ"
   ]
  },
  {
   "cell_type": "markdown",
   "metadata": {},
   "source": [
    "Для того, чтобы исключить высококоррелированные столбцы, посмотрим на корреляции между ними:"
   ]
  },
  {
   "cell_type": "code",
   "execution_count": 64,
   "metadata": {},
   "outputs": [
    {
     "data": {
      "text/html": [
       "<div>\n",
       "<style scoped>\n",
       "    .dataframe tbody tr th:only-of-type {\n",
       "        vertical-align: middle;\n",
       "    }\n",
       "\n",
       "    .dataframe tbody tr th {\n",
       "        vertical-align: top;\n",
       "    }\n",
       "\n",
       "    .dataframe thead th {\n",
       "        text-align: right;\n",
       "    }\n",
       "</style>\n",
       "<table border=\"1\" class=\"dataframe\">\n",
       "  <thead>\n",
       "    <tr style=\"text-align: right;\">\n",
       "      <th></th>\n",
       "      <th>rating</th>\n",
       "      <th>top_cuisine</th>\n",
       "      <th>cuisine_num</th>\n",
       "      <th>price_numeric</th>\n",
       "      <th>reviews_time_gone</th>\n",
       "      <th>net_rest</th>\n",
       "      <th>ranking_norm</th>\n",
       "      <th>reviews_num_norm</th>\n",
       "    </tr>\n",
       "  </thead>\n",
       "  <tbody>\n",
       "    <tr>\n",
       "      <th>rating</th>\n",
       "      <td>1.000000</td>\n",
       "      <td>0.076070</td>\n",
       "      <td>0.113886</td>\n",
       "      <td>-0.028588</td>\n",
       "      <td>-0.065990</td>\n",
       "      <td>0.223689</td>\n",
       "      <td>-0.544573</td>\n",
       "      <td>0.027229</td>\n",
       "    </tr>\n",
       "    <tr>\n",
       "      <th>top_cuisine</th>\n",
       "      <td>0.076070</td>\n",
       "      <td>1.000000</td>\n",
       "      <td>0.693318</td>\n",
       "      <td>-0.048826</td>\n",
       "      <td>-0.038334</td>\n",
       "      <td>0.135576</td>\n",
       "      <td>-0.412628</td>\n",
       "      <td>0.258060</td>\n",
       "    </tr>\n",
       "    <tr>\n",
       "      <th>cuisine_num</th>\n",
       "      <td>0.113886</td>\n",
       "      <td>0.693318</td>\n",
       "      <td>1.000000</td>\n",
       "      <td>-0.029666</td>\n",
       "      <td>-0.101238</td>\n",
       "      <td>0.157700</td>\n",
       "      <td>-0.543859</td>\n",
       "      <td>0.395179</td>\n",
       "    </tr>\n",
       "    <tr>\n",
       "      <th>price_numeric</th>\n",
       "      <td>-0.028588</td>\n",
       "      <td>-0.048826</td>\n",
       "      <td>-0.029666</td>\n",
       "      <td>1.000000</td>\n",
       "      <td>-0.039184</td>\n",
       "      <td>0.008983</td>\n",
       "      <td>-0.047477</td>\n",
       "      <td>0.108568</td>\n",
       "    </tr>\n",
       "    <tr>\n",
       "      <th>reviews_time_gone</th>\n",
       "      <td>-0.065990</td>\n",
       "      <td>-0.038334</td>\n",
       "      <td>-0.101238</td>\n",
       "      <td>-0.039184</td>\n",
       "      <td>1.000000</td>\n",
       "      <td>-0.047461</td>\n",
       "      <td>0.106435</td>\n",
       "      <td>-0.090588</td>\n",
       "    </tr>\n",
       "    <tr>\n",
       "      <th>net_rest</th>\n",
       "      <td>0.223689</td>\n",
       "      <td>0.135576</td>\n",
       "      <td>0.157700</td>\n",
       "      <td>0.008983</td>\n",
       "      <td>-0.047461</td>\n",
       "      <td>1.000000</td>\n",
       "      <td>-0.319785</td>\n",
       "      <td>0.102318</td>\n",
       "    </tr>\n",
       "    <tr>\n",
       "      <th>ranking_norm</th>\n",
       "      <td>-0.544573</td>\n",
       "      <td>-0.412628</td>\n",
       "      <td>-0.543859</td>\n",
       "      <td>-0.047477</td>\n",
       "      <td>0.106435</td>\n",
       "      <td>-0.319785</td>\n",
       "      <td>1.000000</td>\n",
       "      <td>-0.401283</td>\n",
       "    </tr>\n",
       "    <tr>\n",
       "      <th>reviews_num_norm</th>\n",
       "      <td>0.027229</td>\n",
       "      <td>0.258060</td>\n",
       "      <td>0.395179</td>\n",
       "      <td>0.108568</td>\n",
       "      <td>-0.090588</td>\n",
       "      <td>0.102318</td>\n",
       "      <td>-0.401283</td>\n",
       "      <td>1.000000</td>\n",
       "    </tr>\n",
       "  </tbody>\n",
       "</table>\n",
       "</div>"
      ],
      "text/plain": [
       "                     rating  top_cuisine  cuisine_num  price_numeric  \\\n",
       "rating             1.000000     0.076070     0.113886      -0.028588   \n",
       "top_cuisine        0.076070     1.000000     0.693318      -0.048826   \n",
       "cuisine_num        0.113886     0.693318     1.000000      -0.029666   \n",
       "price_numeric     -0.028588    -0.048826    -0.029666       1.000000   \n",
       "reviews_time_gone -0.065990    -0.038334    -0.101238      -0.039184   \n",
       "net_rest           0.223689     0.135576     0.157700       0.008983   \n",
       "ranking_norm      -0.544573    -0.412628    -0.543859      -0.047477   \n",
       "reviews_num_norm   0.027229     0.258060     0.395179       0.108568   \n",
       "\n",
       "                   reviews_time_gone  net_rest  ranking_norm  reviews_num_norm  \n",
       "rating                     -0.065990  0.223689     -0.544573          0.027229  \n",
       "top_cuisine                -0.038334  0.135576     -0.412628          0.258060  \n",
       "cuisine_num                -0.101238  0.157700     -0.543859          0.395179  \n",
       "price_numeric              -0.039184  0.008983     -0.047477          0.108568  \n",
       "reviews_time_gone           1.000000 -0.047461      0.106435         -0.090588  \n",
       "net_rest                   -0.047461  1.000000     -0.319785          0.102318  \n",
       "ranking_norm                0.106435 -0.319785      1.000000         -0.401283  \n",
       "reviews_num_norm           -0.090588  0.102318     -0.401283          1.000000  "
      ]
     },
     "execution_count": 64,
     "metadata": {},
     "output_type": "execute_result"
    }
   ],
   "source": [
    "correlation = df.drop(\n",
    "    columns=['reviews_number', 'ranking']).corr(method='pearson')\n",
    "correlation"
   ]
  },
  {
   "cell_type": "markdown",
   "metadata": {},
   "source": [
    "Для большей наглядности посмотрим, есть ли столбцы с корреляцией больше 0.7:"
   ]
  },
  {
   "cell_type": "code",
   "execution_count": 65,
   "metadata": {},
   "outputs": [
    {
     "data": {
      "text/html": [
       "<div>\n",
       "<style scoped>\n",
       "    .dataframe tbody tr th:only-of-type {\n",
       "        vertical-align: middle;\n",
       "    }\n",
       "\n",
       "    .dataframe tbody tr th {\n",
       "        vertical-align: top;\n",
       "    }\n",
       "\n",
       "    .dataframe thead th {\n",
       "        text-align: right;\n",
       "    }\n",
       "</style>\n",
       "<table border=\"1\" class=\"dataframe\">\n",
       "  <thead>\n",
       "    <tr style=\"text-align: right;\">\n",
       "      <th></th>\n",
       "      <th>rating</th>\n",
       "      <th>top_cuisine</th>\n",
       "      <th>cuisine_num</th>\n",
       "      <th>price_numeric</th>\n",
       "      <th>reviews_time_gone</th>\n",
       "      <th>net_rest</th>\n",
       "      <th>ranking_norm</th>\n",
       "      <th>reviews_num_norm</th>\n",
       "    </tr>\n",
       "  </thead>\n",
       "  <tbody>\n",
       "    <tr>\n",
       "      <th>rating</th>\n",
       "      <td>1</td>\n",
       "      <td></td>\n",
       "      <td></td>\n",
       "      <td></td>\n",
       "      <td></td>\n",
       "      <td></td>\n",
       "      <td></td>\n",
       "      <td></td>\n",
       "    </tr>\n",
       "    <tr>\n",
       "      <th>top_cuisine</th>\n",
       "      <td></td>\n",
       "      <td>1</td>\n",
       "      <td></td>\n",
       "      <td></td>\n",
       "      <td></td>\n",
       "      <td></td>\n",
       "      <td></td>\n",
       "      <td></td>\n",
       "    </tr>\n",
       "    <tr>\n",
       "      <th>cuisine_num</th>\n",
       "      <td></td>\n",
       "      <td></td>\n",
       "      <td>1</td>\n",
       "      <td></td>\n",
       "      <td></td>\n",
       "      <td></td>\n",
       "      <td></td>\n",
       "      <td></td>\n",
       "    </tr>\n",
       "    <tr>\n",
       "      <th>price_numeric</th>\n",
       "      <td></td>\n",
       "      <td></td>\n",
       "      <td></td>\n",
       "      <td>1</td>\n",
       "      <td></td>\n",
       "      <td></td>\n",
       "      <td></td>\n",
       "      <td></td>\n",
       "    </tr>\n",
       "    <tr>\n",
       "      <th>reviews_time_gone</th>\n",
       "      <td></td>\n",
       "      <td></td>\n",
       "      <td></td>\n",
       "      <td></td>\n",
       "      <td>1</td>\n",
       "      <td></td>\n",
       "      <td></td>\n",
       "      <td></td>\n",
       "    </tr>\n",
       "    <tr>\n",
       "      <th>net_rest</th>\n",
       "      <td></td>\n",
       "      <td></td>\n",
       "      <td></td>\n",
       "      <td></td>\n",
       "      <td></td>\n",
       "      <td>1</td>\n",
       "      <td></td>\n",
       "      <td></td>\n",
       "    </tr>\n",
       "    <tr>\n",
       "      <th>ranking_norm</th>\n",
       "      <td></td>\n",
       "      <td></td>\n",
       "      <td></td>\n",
       "      <td></td>\n",
       "      <td></td>\n",
       "      <td></td>\n",
       "      <td>1</td>\n",
       "      <td></td>\n",
       "    </tr>\n",
       "    <tr>\n",
       "      <th>reviews_num_norm</th>\n",
       "      <td></td>\n",
       "      <td></td>\n",
       "      <td></td>\n",
       "      <td></td>\n",
       "      <td></td>\n",
       "      <td></td>\n",
       "      <td></td>\n",
       "      <td>1</td>\n",
       "    </tr>\n",
       "  </tbody>\n",
       "</table>\n",
       "</div>"
      ],
      "text/plain": [
       "                  rating top_cuisine cuisine_num price_numeric  \\\n",
       "rating                 1                                         \n",
       "top_cuisine                        1                             \n",
       "cuisine_num                                    1                 \n",
       "price_numeric                                                1   \n",
       "reviews_time_gone                                                \n",
       "net_rest                                                         \n",
       "ranking_norm                                                     \n",
       "reviews_num_norm                                                 \n",
       "\n",
       "                  reviews_time_gone net_rest ranking_norm reviews_num_norm  \n",
       "rating                                                                      \n",
       "top_cuisine                                                                 \n",
       "cuisine_num                                                                 \n",
       "price_numeric                                                               \n",
       "reviews_time_gone                 1                                         \n",
       "net_rest                                   1                                \n",
       "ranking_norm                                            1                   \n",
       "reviews_num_norm                                                         1  "
      ]
     },
     "execution_count": 65,
     "metadata": {},
     "output_type": "execute_result"
    }
   ],
   "source": [
    "correlation[(correlation > 0.7) | (correlation < -0.7)].fillna('')"
   ]
  },
  {
   "cell_type": "markdown",
   "metadata": {},
   "source": [
    "Видно, что таких значений не наблюдается, переходим к следующему шагу."
   ]
  },
  {
   "cell_type": "markdown",
   "metadata": {},
   "source": [
    "### 3.3. Столбцы для преобразования в dummie-переменные"
   ]
  },
  {
   "cell_type": "markdown",
   "metadata": {},
   "source": [
    "### Столбец city"
   ]
  },
  {
   "cell_type": "markdown",
   "metadata": {},
   "source": [
    "Данный столбец можно преобразовать в dummie-переменные. Для начала, как писалось в пукте 2.1.2, заменим значения всех городов, вклад которых в общую картину составляет менее 2%, на other и сохраним в новый столбец city_new:"
   ]
  },
  {
   "cell_type": "code",
   "execution_count": 66,
   "metadata": {},
   "outputs": [],
   "source": [
    "df['city_new'] = df.city.apply(lambda x: x if city_to_all[x] > 2 else 'other')"
   ]
  },
  {
   "cell_type": "markdown",
   "metadata": {},
   "source": [
    "А теперь преобразуем полученный столбец в dummie-переменные:"
   ]
  },
  {
   "cell_type": "code",
   "execution_count": 67,
   "metadata": {},
   "outputs": [],
   "source": [
    "df = pd.get_dummies(df, columns=['city_new'], prefix='city')"
   ]
  },
  {
   "cell_type": "markdown",
   "metadata": {},
   "source": [
    "Посмотрим, что получилось:"
   ]
  },
  {
   "cell_type": "code",
   "execution_count": 68,
   "metadata": {},
   "outputs": [
    {
     "data": {
      "text/html": [
       "<div>\n",
       "<style scoped>\n",
       "    .dataframe tbody tr th:only-of-type {\n",
       "        vertical-align: middle;\n",
       "    }\n",
       "\n",
       "    .dataframe tbody tr th {\n",
       "        vertical-align: top;\n",
       "    }\n",
       "\n",
       "    .dataframe thead th {\n",
       "        text-align: right;\n",
       "    }\n",
       "</style>\n",
       "<table border=\"1\" class=\"dataframe\">\n",
       "  <thead>\n",
       "    <tr style=\"text-align: right;\">\n",
       "      <th></th>\n",
       "      <th>rest_id</th>\n",
       "      <th>city</th>\n",
       "      <th>cuisine_style</th>\n",
       "      <th>ranking</th>\n",
       "      <th>rating</th>\n",
       "      <th>price_range</th>\n",
       "      <th>reviews_number</th>\n",
       "      <th>reviews</th>\n",
       "      <th>top_cuisine</th>\n",
       "      <th>cuisine_num</th>\n",
       "      <th>...</th>\n",
       "      <th>city_Lyon</th>\n",
       "      <th>city_Madrid</th>\n",
       "      <th>city_Milan</th>\n",
       "      <th>city_Munich</th>\n",
       "      <th>city_Paris</th>\n",
       "      <th>city_Prague</th>\n",
       "      <th>city_Rome</th>\n",
       "      <th>city_Stockholm</th>\n",
       "      <th>city_Vienna</th>\n",
       "      <th>city_other</th>\n",
       "    </tr>\n",
       "  </thead>\n",
       "  <tbody>\n",
       "    <tr>\n",
       "      <th>0</th>\n",
       "      <td>[id_5569]</td>\n",
       "      <td>Paris</td>\n",
       "      <td>['European', 'French', 'International']</td>\n",
       "      <td>5570.0</td>\n",
       "      <td>3.5</td>\n",
       "      <td>$$ - $$$</td>\n",
       "      <td>194.0</td>\n",
       "      <td>[['Good food at your doorstep', 'A good hotel ...</td>\n",
       "      <td>1</td>\n",
       "      <td>3</td>\n",
       "      <td>...</td>\n",
       "      <td>0</td>\n",
       "      <td>0</td>\n",
       "      <td>0</td>\n",
       "      <td>0</td>\n",
       "      <td>1</td>\n",
       "      <td>0</td>\n",
       "      <td>0</td>\n",
       "      <td>0</td>\n",
       "      <td>0</td>\n",
       "      <td>0</td>\n",
       "    </tr>\n",
       "    <tr>\n",
       "      <th>1</th>\n",
       "      <td>[id_1535]</td>\n",
       "      <td>Stockholm</td>\n",
       "      <td>[no_information]</td>\n",
       "      <td>1537.0</td>\n",
       "      <td>4.0</td>\n",
       "      <td>$$ - $$$</td>\n",
       "      <td>10.0</td>\n",
       "      <td>[['Unique cuisine', 'Delicious Nepalese food']...</td>\n",
       "      <td>0</td>\n",
       "      <td>0</td>\n",
       "      <td>...</td>\n",
       "      <td>0</td>\n",
       "      <td>0</td>\n",
       "      <td>0</td>\n",
       "      <td>0</td>\n",
       "      <td>0</td>\n",
       "      <td>0</td>\n",
       "      <td>0</td>\n",
       "      <td>1</td>\n",
       "      <td>0</td>\n",
       "      <td>0</td>\n",
       "    </tr>\n",
       "    <tr>\n",
       "      <th>2</th>\n",
       "      <td>[id_352]</td>\n",
       "      <td>London</td>\n",
       "      <td>['Japanese', 'Sushi', 'Asian', 'Grill', 'Veget...</td>\n",
       "      <td>353.0</td>\n",
       "      <td>4.5</td>\n",
       "      <td>$$$$</td>\n",
       "      <td>688.0</td>\n",
       "      <td>[['Catch up with friends', 'Not exceptional'],...</td>\n",
       "      <td>1</td>\n",
       "      <td>7</td>\n",
       "      <td>...</td>\n",
       "      <td>0</td>\n",
       "      <td>0</td>\n",
       "      <td>0</td>\n",
       "      <td>0</td>\n",
       "      <td>0</td>\n",
       "      <td>0</td>\n",
       "      <td>0</td>\n",
       "      <td>0</td>\n",
       "      <td>0</td>\n",
       "      <td>0</td>\n",
       "    </tr>\n",
       "    <tr>\n",
       "      <th>3</th>\n",
       "      <td>[id_3456]</td>\n",
       "      <td>Berlin</td>\n",
       "      <td>[no_information]</td>\n",
       "      <td>3458.0</td>\n",
       "      <td>5.0</td>\n",
       "      <td>$$ - $$$</td>\n",
       "      <td>3.0</td>\n",
       "      <td>[[], []]</td>\n",
       "      <td>0</td>\n",
       "      <td>0</td>\n",
       "      <td>...</td>\n",
       "      <td>0</td>\n",
       "      <td>0</td>\n",
       "      <td>0</td>\n",
       "      <td>0</td>\n",
       "      <td>0</td>\n",
       "      <td>0</td>\n",
       "      <td>0</td>\n",
       "      <td>0</td>\n",
       "      <td>0</td>\n",
       "      <td>0</td>\n",
       "    </tr>\n",
       "    <tr>\n",
       "      <th>4</th>\n",
       "      <td>[id_615]</td>\n",
       "      <td>Munich</td>\n",
       "      <td>['German', 'Central European', 'Vegetarian Fri...</td>\n",
       "      <td>621.0</td>\n",
       "      <td>4.0</td>\n",
       "      <td>$$ - $$$</td>\n",
       "      <td>84.0</td>\n",
       "      <td>[['Best place to try a Bavarian food', 'Nice b...</td>\n",
       "      <td>1</td>\n",
       "      <td>3</td>\n",
       "      <td>...</td>\n",
       "      <td>0</td>\n",
       "      <td>0</td>\n",
       "      <td>0</td>\n",
       "      <td>1</td>\n",
       "      <td>0</td>\n",
       "      <td>0</td>\n",
       "      <td>0</td>\n",
       "      <td>0</td>\n",
       "      <td>0</td>\n",
       "      <td>0</td>\n",
       "    </tr>\n",
       "  </tbody>\n",
       "</table>\n",
       "<p>5 rows × 34 columns</p>\n",
       "</div>"
      ],
      "text/plain": [
       "     rest_id       city                                      cuisine_style  \\\n",
       "0  [id_5569]      Paris            ['European', 'French', 'International']   \n",
       "1  [id_1535]  Stockholm                                   [no_information]   \n",
       "2   [id_352]     London  ['Japanese', 'Sushi', 'Asian', 'Grill', 'Veget...   \n",
       "3  [id_3456]     Berlin                                   [no_information]   \n",
       "4   [id_615]     Munich  ['German', 'Central European', 'Vegetarian Fri...   \n",
       "\n",
       "   ranking  rating price_range  reviews_number  \\\n",
       "0   5570.0     3.5    $$ - $$$           194.0   \n",
       "1   1537.0     4.0    $$ - $$$            10.0   \n",
       "2    353.0     4.5        $$$$           688.0   \n",
       "3   3458.0     5.0    $$ - $$$             3.0   \n",
       "4    621.0     4.0    $$ - $$$            84.0   \n",
       "\n",
       "                                             reviews  top_cuisine  \\\n",
       "0  [['Good food at your doorstep', 'A good hotel ...            1   \n",
       "1  [['Unique cuisine', 'Delicious Nepalese food']...            0   \n",
       "2  [['Catch up with friends', 'Not exceptional'],...            1   \n",
       "3                                           [[], []]            0   \n",
       "4  [['Best place to try a Bavarian food', 'Nice b...            1   \n",
       "\n",
       "   cuisine_num  ...  city_Lyon city_Madrid  city_Milan  city_Munich  \\\n",
       "0            3  ...          0           0           0            0   \n",
       "1            0  ...          0           0           0            0   \n",
       "2            7  ...          0           0           0            0   \n",
       "3            0  ...          0           0           0            0   \n",
       "4            3  ...          0           0           0            1   \n",
       "\n",
       "   city_Paris  city_Prague  city_Rome  city_Stockholm  city_Vienna  city_other  \n",
       "0           1            0          0               0            0           0  \n",
       "1           0            0          0               1            0           0  \n",
       "2           0            0          0               0            0           0  \n",
       "3           0            0          0               0            0           0  \n",
       "4           0            0          0               0            0           0  \n",
       "\n",
       "[5 rows x 34 columns]"
      ]
     },
     "execution_count": 68,
     "metadata": {},
     "output_type": "execute_result"
    }
   ],
   "source": [
    "df.head()"
   ]
  },
  {
   "cell_type": "markdown",
   "metadata": {},
   "source": [
    "# 4. Работа с Моделью"
   ]
  },
  {
   "cell_type": "code",
   "execution_count": 69,
   "metadata": {},
   "outputs": [],
   "source": [
    "# Х - данные с информацией о ресторанах, у - целевая переменная (рейтинги ресторанов)\n",
    "X = df.drop(['rest_id', 'rating', 'city', 'cuisine_style', 'ranking',\n",
    "             'price_range', 'reviews_number', 'reviews', 'dates_of_reviews'], axis=1)\n",
    "y = df['rating']"
   ]
  },
  {
   "cell_type": "markdown",
   "metadata": {},
   "source": [
    "**Перед тем как отправлять наши данные на обучение, разделим данные на еще один тест и трейн, для валидации. \n",
    "Это поможет нам проверить, как хорошо наша модель работает, до отправки submissiona на kaggle.**"
   ]
  },
  {
   "cell_type": "code",
   "execution_count": 70,
   "metadata": {},
   "outputs": [],
   "source": [
    "# Воспользуемся специальной функцие train_test_split для разбивки тестовых данных\n",
    "# выделим 20% данных на валидацию (параметр test_size)\n",
    "X_train, X_test, y_train, y_test = train_test_split(\n",
    "    X, y, test_size=0.2, random_state=RANDOM_SEED)"
   ]
  },
  {
   "cell_type": "markdown",
   "metadata": {},
   "source": [
    "# Модель\n",
    "Сам ML"
   ]
  },
  {
   "cell_type": "code",
   "execution_count": 71,
   "metadata": {},
   "outputs": [],
   "source": [
    "# Создаём модель (НАСТРОЙКИ НЕ ТРОГАЕМ)\n",
    "model = RandomForestRegressor(\n",
    "    n_estimators=100, verbose=1, n_jobs=-1, random_state=RANDOM_SEED)"
   ]
  },
  {
   "cell_type": "code",
   "execution_count": 72,
   "metadata": {},
   "outputs": [
    {
     "name": "stderr",
     "output_type": "stream",
     "text": [
      "[Parallel(n_jobs=-1)]: Using backend ThreadingBackend with 8 concurrent workers.\n",
      "[Parallel(n_jobs=-1)]: Done  34 tasks      | elapsed:    0.5s\n",
      "[Parallel(n_jobs=-1)]: Done 100 out of 100 | elapsed:    1.3s finished\n",
      "[Parallel(n_jobs=8)]: Using backend ThreadingBackend with 8 concurrent workers.\n",
      "[Parallel(n_jobs=8)]: Done  34 tasks      | elapsed:    0.0s\n",
      "[Parallel(n_jobs=8)]: Done 100 out of 100 | elapsed:    0.0s finished\n"
     ]
    }
   ],
   "source": [
    "# Обучаем модель на тестовом наборе данных\n",
    "model.fit(X_train, y_train)\n",
    "\n",
    "# Используем обученную модель для предсказания рейтинга ресторанов в тестовой выборке.\n",
    "# Предсказанные значения записываем в переменную y_pred\n",
    "y_pred = model.predict(X_test)"
   ]
  },
  {
   "cell_type": "code",
   "execution_count": 73,
   "metadata": {},
   "outputs": [
    {
     "name": "stdout",
     "output_type": "stream",
     "text": [
      "MAE: 0.21174749999999998\n"
     ]
    }
   ],
   "source": [
    "# Сравниваем предсказанные значения (y_pred) с реальными (y_test), и смотрим насколько они в среднем отличаются\n",
    "# Метрика называется Mean Absolute Error (MAE) и показывает среднее отклонение предсказанных значений от фактических.\n",
    "print('MAE:', metrics.mean_absolute_error(y_test, y_pred))"
   ]
  },
  {
   "cell_type": "markdown",
   "metadata": {},
   "source": [
    "Теперь,получив значение метрики, используем написанную ранее функцию для округления значений, ведь все оценки в дата-фрейме представлены с шагом 0.5:"
   ]
  },
  {
   "cell_type": "code",
   "execution_count": 74,
   "metadata": {},
   "outputs": [
    {
     "name": "stdout",
     "output_type": "stream",
     "text": [
      "MAE: 0.1828125\n"
     ]
    }
   ],
   "source": [
    "y_pred_rounded = predict_rounder(y_pred)\n",
    "print('MAE:', metrics.mean_absolute_error(y_test, y_pred_rounded))"
   ]
  },
  {
   "cell_type": "markdown",
   "metadata": {},
   "source": [
    "Получилось гораздо лучше, чем было изначально."
   ]
  },
  {
   "cell_type": "code",
   "execution_count": 75,
   "metadata": {},
   "outputs": [
    {
     "data": {
      "text/plain": [
       "<matplotlib.axes._subplots.AxesSubplot at 0x19252e12f40>"
      ]
     },
     "execution_count": 75,
     "metadata": {},
     "output_type": "execute_result"
    },
    {
     "data": {
      "image/png": "[encoded data removed]",
      "text/plain": [
       "<Figure size 720x720 with 1 Axes>"
      ]
     },
     "metadata": {
      "needs_background": "light"
     },
     "output_type": "display_data"
    }
   ],
   "source": [
    "# в RandomForestRegressor есть возможность вывести самые важные признаки для модели\n",
    "plt.rcParams['figure.figsize'] = (10, 10)\n",
    "feat_importances = pd.Series(model.feature_importances_, index=X.columns)\n",
    "feat_importances.nlargest(15).plot(kind='barh')"
   ]
  },
  {
   "cell_type": "markdown",
   "metadata": {},
   "source": [
    "Из финального графика видно, что больше всего оказывают влияние столбцы ranking_norm, reviews_num_norm, city_Rome и reviews_time_gone. Влияние остальных признаков на предсказание существенно меньше. В дальнейшем, можно создать более интересные и сложные признаки, которые помогут еще улучшить MAE.\n",
    "\n",
    "Не меньшую роль сыграло заполнение пропусков определенными значениями. Возможно, если провести более детальный анализ, можно придумать более правильное определение каждого пропуска или групп пропусков в столбцах."
   ]
  }
 ],
 "metadata": {
  "kernelspec": {
   "display_name": "Python 3",
   "language": "python",
   "name": "python3"
  },
  "language_info": {
   "codemirror_mode": {
    "name": "ipython",
    "version": 3
   },
   "file_extension": ".py",
   "mimetype": "text/x-python",
   "name": "python",
   "nbconvert_exporter": "python",
   "pygments_lexer": "ipython3",
   "version": "3.8.3"
  }
 },
 "nbformat": 4,
 "nbformat_minor": 4
}
