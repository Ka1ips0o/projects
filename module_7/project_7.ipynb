{
 "cells": [
  {
   "cell_type": "markdown",
   "metadata": {},
   "source": [
    "# Описание"
   ]
  },
  {
   "cell_type": "markdown",
   "metadata": {},
   "source": [
    "Ноутбук по проекту Ford vs Ferrari\n",
    "\n",
    "Целью проекта является создание нейросети, способной определять по предоставленной картинке, к какому из классов относится представленное авто. \n",
    "В процессе будет совершенстоваться навык программирования, а также появится понимание задач компьютерного зрения в реальной жизни."
   ]
  },
  {
   "cell_type": "markdown",
   "metadata": {},
   "source": [
    "# 0. Импорт библиотек"
   ]
  },
  {
   "cell_type": "markdown",
   "metadata": {},
   "source": [
    "Первым делом проверим, подключена ли видеокарта:"
   ]
  },
  {
   "cell_type": "code",
   "execution_count": 1,
   "metadata": {
    "execution": {
     "iopub.execute_input": "2021-11-20T00:49:43.044805Z",
     "iopub.status.busy": "2021-11-20T00:49:43.044444Z",
     "iopub.status.idle": "2021-11-20T00:49:43.759705Z",
     "shell.execute_reply": "2021-11-20T00:49:43.758643Z",
     "shell.execute_reply.started": "2021-11-20T00:49:43.044720Z"
    }
   },
   "outputs": [],
   "source": [
    "!nvidia-smi - L"
   ]
  },
  {
   "cell_type": "markdown",
   "metadata": {},
   "source": [
    "Карта подключена. Теперь подключим библиотеку ImageDataAugmentor:"
   ]
  },
  {
   "cell_type": "code",
   "execution_count": 2,
   "metadata": {
    "execution": {
     "iopub.execute_input": "2021-11-20T00:49:43.761707Z",
     "iopub.status.busy": "2021-11-20T00:49:43.761483Z",
     "iopub.status.idle": "2021-11-20T00:50:03.767724Z",
     "shell.execute_reply": "2021-11-20T00:50:03.766835Z",
     "shell.execute_reply.started": "2021-11-20T00:49:43.761674Z"
    }
   },
   "outputs": [],
   "source": [
    "!pip install git+https: // github.com/mjkvaak/ImageDataAugmentor update tensorflow"
   ]
  },
  {
   "cell_type": "markdown",
   "metadata": {},
   "source": [
    "Теперь подгрузим основные библиотеки:"
   ]
  },
  {
   "cell_type": "code",
   "execution_count": 3,
   "metadata": {
    "execution": {
     "iopub.execute_input": "2021-11-20T00:50:03.769642Z",
     "iopub.status.busy": "2021-11-20T00:50:03.769365Z",
     "iopub.status.idle": "2021-11-20T00:50:10.400986Z",
     "shell.execute_reply": "2021-11-20T00:50:10.400279Z",
     "shell.execute_reply.started": "2021-11-20T00:50:03.769603Z"
    }
   },
   "outputs": [],
   "source": [
    "import numpy as np\n",
    "import pandas as pd\n",
    "import matplotlib.pyplot as plt\n",
    "import seaborn as sns\n",
    "import pickle\n",
    "import zipfile\n",
    "import csv\n",
    "import sys\n",
    "import os\n",
    "import itertools\n",
    "# Подгрузим все необходимые нам инструменты из tensorflow\n",
    "import tensorflow as tf\n",
    "from tensorflow import keras\n",
    "from tensorflow.keras.preprocessing.image import ImageDataGenerator\n",
    "from tensorflow.keras.callbacks import ModelCheckpoint, EarlyStopping, ReduceLROnPlateau\n",
    "from tensorflow.keras.callbacks import Callback\n",
    "from tensorflow.keras.applications.xception import Xception\n",
    "from tensorflow.keras.applications.inception_v3 import InceptionV3\n",
    "from tensorflow.keras import Sequential\n",
    "from tensorflow.keras.layers import *\n",
    "from tensorflow.keras import optimizers\n",
    "from tensorflow.keras.optimizers.schedules import ExponentialDecay\n",
    "from tensorflow.keras.regularizers import l2\n",
    "from tensorflow.keras.applications import ResNet101V2, EfficientNetB3\n",
    "from ImageDataAugmentor.image_data_augmentor import *\n",
    "import albumentations as a\n",
    "\n",
    "from PIL import Image"
   ]
  },
  {
   "cell_type": "markdown",
   "metadata": {},
   "source": [
    "Посмотрим версии используемых библиотек:"
   ]
  },
  {
   "cell_type": "code",
   "execution_count": 4,
   "metadata": {
    "execution": {
     "iopub.execute_input": "2021-11-20T00:50:10.403094Z",
     "iopub.status.busy": "2021-11-20T00:50:10.402838Z",
     "iopub.status.idle": "2021-11-20T00:50:10.414595Z",
     "shell.execute_reply": "2021-11-20T00:50:10.413590Z",
     "shell.execute_reply.started": "2021-11-20T00:50:10.403059Z"
    }
   },
   "outputs": [],
   "source": [
    "print('Python       :', sys.version.split('\\n')[0])\n",
    "print('Numpy        :', np.__version__)\n",
    "print('Tensorflow   :', tf.__version__)\n",
    "print('Keras        :', tf.keras.__version__)"
   ]
  },
  {
   "cell_type": "markdown",
   "metadata": {},
   "source": [
    "## 0.1. Настройка параметров"
   ]
  },
  {
   "cell_type": "markdown",
   "metadata": {},
   "source": [
    "Зафиксируем настройки:"
   ]
  },
  {
   "cell_type": "code",
   "execution_count": 5,
   "metadata": {
    "execution": {
     "iopub.execute_input": "2021-11-20T00:50:10.416236Z",
     "iopub.status.busy": "2021-11-20T00:50:10.416052Z",
     "iopub.status.idle": "2021-11-20T00:50:13.578832Z",
     "shell.execute_reply": "2021-11-20T00:50:13.577818Z",
     "shell.execute_reply.started": "2021-11-20T00:50:10.416214Z"
    }
   },
   "outputs": [],
   "source": [
    "!pip freeze > requirements.txt"
   ]
  },
  {
   "cell_type": "markdown",
   "metadata": {},
   "source": [
    "Настроим основые параметры, которые мы будем использовать в дальнейшем"
   ]
  },
  {
   "cell_type": "code",
   "execution_count": 6,
   "metadata": {
    "execution": {
     "iopub.execute_input": "2021-11-20T00:50:13.581011Z",
     "iopub.status.busy": "2021-11-20T00:50:13.580725Z",
     "iopub.status.idle": "2021-11-20T00:50:13.588363Z",
     "shell.execute_reply": "2021-11-20T00:50:13.586383Z",
     "shell.execute_reply.started": "2021-11-20T00:50:13.580973Z"
    }
   },
   "outputs": [],
   "source": [
    "EPOCHS = 8  # кол-во эпох для обучения\n",
    "BATCH_SIZE = 16  # уменьшаем batch если сеть большая, иначе не влезет в память на GPU\n",
    "LR = 1e-3  # шаг обучения\n",
    "VAL_SPLIT = 0.2  # кол-во данных для валидации(20%)\n",
    "\n",
    "CLASS_NUM = 10  # количество выходных классов\n",
    "H_IMG_SIZE = 150  # Горизонтальный размер изображения\n",
    "V_IMG_SIZE = 150  # Вертикальный размер изображения\n",
    "IMG_CHANNELS = 3   # кол-во каналов для rgb-изображения\n",
    "# Параметры, до которых мы будем преобразовывать изображение\n",
    "input_shape = (V_IMG_SIZE, H_IMG_SIZE, IMG_CHANNELS)\n",
    "\n",
    "DATA_PATH = '../input/sf-dl-car-classification/'  # Директория с данными\n",
    "PATH = \"../working/car/\"  # рабочая директория\n",
    "RANDOM_SEED = 42"
   ]
  },
  {
   "cell_type": "markdown",
   "metadata": {},
   "source": [
    "# 1. Обзор исходных данных"
   ]
  },
  {
   "cell_type": "markdown",
   "metadata": {},
   "source": [
    "Распакуем картинки, с которыми предстоит работать в данном ноутбуке:"
   ]
  },
  {
   "cell_type": "code",
   "execution_count": 7,
   "metadata": {
    "execution": {
     "iopub.execute_input": "2021-11-20T00:50:13.591267Z",
     "iopub.status.busy": "2021-11-20T00:50:13.590994Z",
     "iopub.status.idle": "2021-11-20T00:50:39.035324Z",
     "shell.execute_reply": "2021-11-20T00:50:39.034334Z",
     "shell.execute_reply.started": "2021-11-20T00:50:13.591224Z"
    }
   },
   "outputs": [],
   "source": [
    "print('Разархивируем изображения')\n",
    "# Распаковка архивов с данными\n",
    "for data_zip in ['train.zip', 'test.zip']:\n",
    "    with zipfile.ZipFile(\"../input/sf-dl-car-classification/\"+data_zip, \"r\") as z:\n",
    "        z.extractall(PATH)\n",
    "\n",
    "print(os.listdir(PATH))"
   ]
  },
  {
   "cell_type": "markdown",
   "metadata": {},
   "source": [
    "Загрузим csv файлы для дальнейшей работы:"
   ]
  },
  {
   "cell_type": "code",
   "execution_count": 8,
   "metadata": {
    "execution": {
     "iopub.execute_input": "2021-11-20T00:50:39.037319Z",
     "iopub.status.busy": "2021-11-20T00:50:39.036789Z",
     "iopub.status.idle": "2021-11-20T00:50:39.079820Z",
     "shell.execute_reply": "2021-11-20T00:50:39.079063Z",
     "shell.execute_reply.started": "2021-11-20T00:50:39.037278Z"
    }
   },
   "outputs": [],
   "source": [
    "train_df = pd.read_csv(DATA_PATH+\"train.csv\")\n",
    "sample_submission = pd.read_csv(DATA_PATH+\"sample-submission.csv\")"
   ]
  },
  {
   "cell_type": "markdown",
   "metadata": {},
   "source": [
    "Посмотрим шапку тренировочной выборки. Здесь всего два столбца: id с названием фото и его расширением и класс, к которому относится это фото"
   ]
  },
  {
   "cell_type": "code",
   "execution_count": 9,
   "metadata": {
    "execution": {
     "iopub.execute_input": "2021-11-20T00:50:39.081568Z",
     "iopub.status.busy": "2021-11-20T00:50:39.081283Z",
     "iopub.status.idle": "2021-11-20T00:50:39.102162Z",
     "shell.execute_reply": "2021-11-20T00:50:39.101169Z",
     "shell.execute_reply.started": "2021-11-20T00:50:39.081534Z"
    }
   },
   "outputs": [],
   "source": [
    "train_df.head()"
   ]
  },
  {
   "cell_type": "markdown",
   "metadata": {},
   "source": [
    "Посмотрим пример сабмита: выглядит аналогично тренировочной выборке."
   ]
  },
  {
   "cell_type": "code",
   "execution_count": 10,
   "metadata": {
    "execution": {
     "iopub.execute_input": "2021-11-20T00:50:39.105998Z",
     "iopub.status.busy": "2021-11-20T00:50:39.105765Z",
     "iopub.status.idle": "2021-11-20T00:50:39.114609Z",
     "shell.execute_reply": "2021-11-20T00:50:39.113680Z",
     "shell.execute_reply.started": "2021-11-20T00:50:39.105972Z"
    }
   },
   "outputs": [],
   "source": [
    "sample_submission.head()"
   ]
  },
  {
   "cell_type": "markdown",
   "metadata": {},
   "source": [
    "# 2. EDA (Анализ исходных данных)"
   ]
  },
  {
   "cell_type": "markdown",
   "metadata": {},
   "source": [
    "Для начала необходимо посмотреть сколько всего классов данных мы имеем:"
   ]
  },
  {
   "cell_type": "code",
   "execution_count": 11,
   "metadata": {
    "execution": {
     "iopub.execute_input": "2021-11-20T00:50:39.117082Z",
     "iopub.status.busy": "2021-11-20T00:50:39.116382Z",
     "iopub.status.idle": "2021-11-20T00:50:39.129020Z",
     "shell.execute_reply": "2021-11-20T00:50:39.128211Z",
     "shell.execute_reply.started": "2021-11-20T00:50:39.116962Z"
    }
   },
   "outputs": [],
   "source": [
    "train_df.Category.value_counts()"
   ]
  },
  {
   "cell_type": "markdown",
   "metadata": {},
   "source": [
    "Проверим гистограмму распределения классов:"
   ]
  },
  {
   "cell_type": "code",
   "execution_count": 12,
   "metadata": {
    "execution": {
     "iopub.execute_input": "2021-11-20T00:50:39.130955Z",
     "iopub.status.busy": "2021-11-20T00:50:39.130638Z",
     "iopub.status.idle": "2021-11-20T00:50:39.406444Z",
     "shell.execute_reply": "2021-11-20T00:50:39.405741Z",
     "shell.execute_reply.started": "2021-11-20T00:50:39.130901Z"
    }
   },
   "outputs": [],
   "source": [
    "train_df.Category.hist()"
   ]
  },
  {
   "cell_type": "markdown",
   "metadata": {},
   "source": [
    "Как видно из гистограммы, данные распределены более-менее равномерно по классам. Проверим как выглядят фотографии и их размер:"
   ]
  },
  {
   "cell_type": "code",
   "execution_count": 13,
   "metadata": {
    "execution": {
     "iopub.execute_input": "2021-11-20T00:50:39.408432Z",
     "iopub.status.busy": "2021-11-20T00:50:39.407948Z",
     "iopub.status.idle": "2021-11-20T00:50:40.655507Z",
     "shell.execute_reply": "2021-11-20T00:50:40.654772Z",
     "shell.execute_reply.started": "2021-11-20T00:50:39.408394Z"
    }
   },
   "outputs": [],
   "source": [
    "# выводим случайные 9 изображений с обозначением классов и указанием размера по осям\n",
    "plt.figure(figsize=(12, 8))\n",
    "random_image = train_df.sample(n=9)\n",
    "random_image_paths = random_image['Id'].values\n",
    "random_image_cat = random_image['Category'].values\n",
    "for index, path in enumerate(random_image_paths):\n",
    "    im = Image.open(PATH+f'train/{random_image_cat[index]}/{path}')\n",
    "    plt.subplot(3, 3, index+1)\n",
    "    plt.imshow(im)\n",
    "    plt.title('Class: '+str(random_image_cat[index]))\n",
    "plt.show()"
   ]
  },
  {
   "cell_type": "markdown",
   "metadata": {},
   "source": [
    "Из демонстрации видно, что изображения в выборке разного размера. Также присутствует различие в контрастности и различается ракурс, с которого представлены автомобили. Так как изображений в трейне не очень много, лучше использовать аугментации для увеличения обучающей выборки."
   ]
  },
  {
   "cell_type": "markdown",
   "metadata": {},
   "source": [
    "# 3. Исследование моделей нейросети"
   ]
  },
  {
   "cell_type": "markdown",
   "metadata": {},
   "source": [
    "В качестве исследуемых моделей выбраны Xception, InceptionV3, ResNet101V2 и EfficientNetB3. Все выборы сделаны исходя и Leaderboard'а, представленного на сайте https://paperswithcode.com/. Помимо прочего, я старался выбрать модели, которые не уступают по показателям на ImageNet, но при которых время обучения модели не будет критически большим.\n",
    "\n",
    "* Показатели по всем исследуемым моделям находятся в пределах 80+% по точности предсказаний.\n",
    "\n",
    "* На первом этапе исследования сетей будет использован способ аугментации с помощью ImageDataGenerator. \n",
    "\n",
    "* Используется перенос обучения с существующих сетей на новые, которые мы моделируем.\n",
    "\n",
    "* Оптимизатором шага обучения я выбрал Adamax, частный вариант Adam. Эти два алгоритма являются более чувствутельными к весам исследуемой модели. Adamax показал себя лучше в вычислениях на нижеприведенных моделях, поэтому и стал финальным используемым оптимизатором.\n",
    "\n",
    "* В качестве Loss-функции выбрана категориальная кросс-энтропия\n"
   ]
  },
  {
   "cell_type": "markdown",
   "metadata": {},
   "source": [
    "## 3.1. Модели Xception, InceptionV3 и ResNet101V2"
   ]
  },
  {
   "cell_type": "markdown",
   "metadata": {},
   "source": [
    "Данные модели не  могут получить на вход изображения в том виде, в котором они хранятся в выборках. Поэтому, для начала необходимо их нормализовать с помощью rescale. \n",
    "\n",
    "Начнем с создания генератора для аугментации изображений и применим его."
   ]
  },
  {
   "cell_type": "markdown",
   "metadata": {},
   "source": [
    "### 3.1.1. Аугментация данных для моделей, требующих rescale"
   ]
  },
  {
   "cell_type": "markdown",
   "metadata": {},
   "source": [
    "Установим параметры аугментации изображений нашего генератора ImageDataGenerator :"
   ]
  },
  {
   "cell_type": "code",
   "execution_count": 14,
   "metadata": {
    "execution": {
     "iopub.execute_input": "2021-11-20T00:50:40.656953Z",
     "iopub.status.busy": "2021-11-20T00:50:40.656621Z",
     "iopub.status.idle": "2021-11-20T00:50:40.663879Z",
     "shell.execute_reply": "2021-11-20T00:50:40.662990Z",
     "shell.execute_reply.started": "2021-11-20T00:50:40.656892Z"
    }
   },
   "outputs": [],
   "source": [
    "train_datagen = ImageDataGenerator(\n",
    "    rescale=1. / 255,  # т.к мы используем модели без встроенного rescale\n",
    "    rotation_range=5,  # диапазон поворота\n",
    "    width_shift_range=0.1,  # диапазон растягивания по ширине\n",
    "    height_shift_range=0.1,  # диапазон растягивания по высоте\n",
    "    horizontal_flip=False,  # переворот относительно горизонтали\n",
    "    shear_range=0.1,  # диапазон сдвига\n",
    "    zoom_range=0.1,  # диапазон увеличения\n",
    "    fill_mode='reflect',  # заполнение края отзеркаливанием изображения\n",
    "    validation_split=VAL_SPLIT)  # указываем разбиение на train/val"
   ]
  },
  {
   "cell_type": "markdown",
   "metadata": {},
   "source": [
    "Теперь запустим ImageDataGenerator и проведем аугментацию изображений для обучающей и валидационной выборок:"
   ]
  },
  {
   "cell_type": "code",
   "execution_count": 15,
   "metadata": {
    "execution": {
     "iopub.execute_input": "2021-11-20T00:50:40.665957Z",
     "iopub.status.busy": "2021-11-20T00:50:40.665637Z",
     "iopub.status.idle": "2021-11-20T00:50:41.736330Z",
     "shell.execute_reply": "2021-11-20T00:50:41.735558Z",
     "shell.execute_reply.started": "2021-11-20T00:50:40.665897Z"
    }
   },
   "outputs": [],
   "source": [
    "# Аугментации обучающей выборки\n",
    "train_generator = train_datagen.flow_from_directory(\n",
    "    PATH+'train/',      # директория где расположены папки с изображениями\n",
    "    target_size=(V_IMG_SIZE, H_IMG_SIZE),\n",
    "    class_mode='categorical',\n",
    "    shuffle=True, seed=RANDOM_SEED,\n",
    "    subset='training')  # указана тренировочная выборка\n",
    "# Аугментации валидационной выборки\n",
    "val_generator = train_datagen.flow_from_directory(\n",
    "    PATH+'train/',\n",
    "    target_size=(V_IMG_SIZE, H_IMG_SIZE),\n",
    "    class_mode='categorical',\n",
    "    shuffle=True, seed=RANDOM_SEED,\n",
    "    subset='validation')  # указана валидационная выборка"
   ]
  },
  {
   "cell_type": "markdown",
   "metadata": {},
   "source": [
    "Как мы видим, в результате аугментации у нас получилось 15561 изображение, из которых 12452 изображения в обучающей выборке, и еще 3109 в валидационной."
   ]
  },
  {
   "cell_type": "markdown",
   "metadata": {},
   "source": [
    "Просмотрим результаты аугментации с выведением размеров по осям на примере 6 изображений из обучающей выборки:"
   ]
  },
  {
   "cell_type": "code",
   "execution_count": 16,
   "metadata": {
    "execution": {
     "iopub.execute_input": "2021-11-20T00:50:41.738541Z",
     "iopub.status.busy": "2021-11-20T00:50:41.737525Z",
     "iopub.status.idle": "2021-11-20T00:50:42.950509Z",
     "shell.execute_reply": "2021-11-20T00:50:42.949764Z",
     "shell.execute_reply.started": "2021-11-20T00:50:41.738502Z"
    }
   },
   "outputs": [],
   "source": [
    "x, y = train_generator.next()\n",
    "print('Пример изображений из train_generator')\n",
    "plt.figure(figsize=(12, 8))\n",
    "\n",
    "for i in range(0, 6):\n",
    "    image = x[i]\n",
    "    plt.subplot(3, 3, i+1)\n",
    "    plt.imshow(image)\n",
    "plt.show()"
   ]
  },
  {
   "cell_type": "markdown",
   "metadata": {},
   "source": [
    "Видно, что все изображения приведены к одному размеру, а также наблюдаются прочие аугментации, заполнение края отзеркаливанием изображения. \n",
    "Реализуем демонстрацию изображений из валидационной выборки аналогичным образом:"
   ]
  },
  {
   "cell_type": "code",
   "execution_count": 17,
   "metadata": {
    "execution": {
     "iopub.execute_input": "2021-11-20T00:50:42.952478Z",
     "iopub.status.busy": "2021-11-20T00:50:42.952003Z",
     "iopub.status.idle": "2021-11-20T00:50:44.768481Z",
     "shell.execute_reply": "2021-11-20T00:50:44.766981Z",
     "shell.execute_reply.started": "2021-11-20T00:50:42.952438Z"
    }
   },
   "outputs": [],
   "source": [
    "x, y = val_generator.next()\n",
    "print('Пример изображений из val_generator')\n",
    "plt.figure(figsize=(12, 8))\n",
    "\n",
    "for i in range(0, 6):\n",
    "    image = x[i]\n",
    "    plt.subplot(3, 3, i+1)\n",
    "    plt.imshow(image)\n",
    "plt.show()"
   ]
  },
  {
   "cell_type": "markdown",
   "metadata": {},
   "source": [
    "На валидационной выборке мы получили такие же  преобразования, как и на обучающей.\n",
    "\n",
    "Теперь, когда проведена аугментация изображений для первых трех исследуемых моделей - можно приступать к их созданию."
   ]
  },
  {
   "cell_type": "markdown",
   "metadata": {},
   "source": [
    "### 3.1.2. Создание head"
   ]
  },
  {
   "cell_type": "markdown",
   "metadata": {},
   "source": [
    "Так как мы пытаемся исследовать все модели в одинаковых условиях, создадим для них единую \"голову\", которую будем использовать в этом пункте:\n",
    "* Слой GlobalMaxPool2D, который используется для объединения Base-model и head\n",
    "* Dropout-слой - Направлен на уменьшение переобучения сети засчет \"выключения\" нейронов из процесса обучения с определенной вероятностью\n",
    "* Выходной слой на 10 классов с функцией активации softmax"
   ]
  },
  {
   "cell_type": "code",
   "execution_count": 51,
   "metadata": {
    "execution": {
     "iopub.execute_input": "2021-11-20T02:07:59.512693Z",
     "iopub.status.busy": "2021-11-20T02:07:59.512429Z",
     "iopub.status.idle": "2021-11-20T02:07:59.522700Z",
     "shell.execute_reply": "2021-11-20T02:07:59.521972Z",
     "shell.execute_reply.started": "2021-11-20T02:07:59.512666Z"
    }
   },
   "outputs": [],
   "source": [
    "head = Sequential([\n",
    "    GlobalMaxPool2D(),\n",
    "    Dropout(0.3),\n",
    "    Dense(CLASS_NUM, activation='softmax')\n",
    "])"
   ]
  },
  {
   "cell_type": "markdown",
   "metadata": {},
   "source": [
    "### 3.1.3.  Модель Xception"
   ]
  },
  {
   "cell_type": "markdown",
   "metadata": {},
   "source": [
    "Приступим к созданию и обучению модели: \n",
    "\n",
    "На данном этапе исследуется модель Xception. \n",
    "Загрузим базовую часть модели с весами imagenet, то есть используем перенос обучения с уже существующей сети на новую, которую мы создаем:"
   ]
  },
  {
   "cell_type": "code",
   "execution_count": 19,
   "metadata": {
    "execution": {
     "iopub.execute_input": "2021-11-20T00:50:47.483163Z",
     "iopub.status.busy": "2021-11-20T00:50:47.482851Z",
     "iopub.status.idle": "2021-11-20T00:50:49.241510Z",
     "shell.execute_reply": "2021-11-20T00:50:49.240621Z",
     "shell.execute_reply.started": "2021-11-20T00:50:47.483123Z"
    }
   },
   "outputs": [],
   "source": [
    "# Загружаем базовую модель с весами imagenet\n",
    "base_model = Xception(weights='imagenet',\n",
    "                      include_top=False, input_shape=input_shape)\n",
    "# Указываем, что модель может обучаться\n",
    "base_model.trainable = True"
   ]
  },
  {
   "cell_type": "markdown",
   "metadata": {},
   "source": [
    "Теперь соединим нашу базовую модель и head из п.п.3.1.2 в единую модель:"
   ]
  },
  {
   "cell_type": "code",
   "execution_count": 20,
   "metadata": {
    "execution": {
     "iopub.execute_input": "2021-11-20T00:50:49.243020Z",
     "iopub.status.busy": "2021-11-20T00:50:49.242730Z",
     "iopub.status.idle": "2021-11-20T00:50:49.581811Z",
     "shell.execute_reply": "2021-11-20T00:50:49.581038Z",
     "shell.execute_reply.started": "2021-11-20T00:50:49.242985Z"
    }
   },
   "outputs": [],
   "source": [
    "model = Sequential([\n",
    "    base_model,\n",
    "    head\n",
    "])"
   ]
  },
  {
   "cell_type": "markdown",
   "metadata": {},
   "source": [
    "Проведем компиляцию модели, указав способ определения Loss-функции, используемый оптимизатор,шаг обучения и исследуемую метрику:"
   ]
  },
  {
   "cell_type": "code",
   "execution_count": 21,
   "metadata": {
    "execution": {
     "iopub.execute_input": "2021-11-20T00:50:49.583141Z",
     "iopub.status.busy": "2021-11-20T00:50:49.582886Z",
     "iopub.status.idle": "2021-11-20T00:50:49.599054Z",
     "shell.execute_reply": "2021-11-20T00:50:49.598268Z",
     "shell.execute_reply.started": "2021-11-20T00:50:49.583108Z"
    }
   },
   "outputs": [],
   "source": [
    "model.compile(loss=\"categorical_crossentropy\", optimizer=optimizers.Adamax(\n",
    "    learning_rate=LR), metrics=[\"accuracy\"])"
   ]
  },
  {
   "cell_type": "markdown",
   "metadata": {},
   "source": [
    "Посмотрим количество слоев в базовой модели:"
   ]
  },
  {
   "cell_type": "code",
   "execution_count": 22,
   "metadata": {
    "execution": {
     "iopub.execute_input": "2021-11-20T00:50:49.600886Z",
     "iopub.status.busy": "2021-11-20T00:50:49.600628Z",
     "iopub.status.idle": "2021-11-20T00:50:49.605480Z",
     "shell.execute_reply": "2021-11-20T00:50:49.604765Z",
     "shell.execute_reply.started": "2021-11-20T00:50:49.600853Z"
    }
   },
   "outputs": [],
   "source": [
    "print(len(base_model.layers))"
   ]
  },
  {
   "cell_type": "markdown",
   "metadata": {},
   "source": [
    "На данном этапе мы обучаем все слои, то есть веса в них могут перезаписываться.\n",
    "\n",
    "Теперь создадим список callbacks, которые мы будем использовать во время обучения модели:\n",
    "* checkpoint - сохраняет после каждой эпохи модель в файл в случае, если валидационная точность модели повышается.\n",
    "* earlystop - Прерывает обучение модели в случае, если на протяжении patience эпох не наблюдается улучшения val_accuracy"
   ]
  },
  {
   "cell_type": "code",
   "execution_count": 23,
   "metadata": {
    "execution": {
     "iopub.execute_input": "2021-11-20T00:50:49.607059Z",
     "iopub.status.busy": "2021-11-20T00:50:49.606664Z",
     "iopub.status.idle": "2021-11-20T00:50:49.615937Z",
     "shell.execute_reply": "2021-11-20T00:50:49.615214Z",
     "shell.execute_reply.started": "2021-11-20T00:50:49.607024Z"
    }
   },
   "outputs": [],
   "source": [
    "# Указываем параметры наших коллбэков\n",
    "checkpoint = ModelCheckpoint('best_model.hdf5', monitor=[\n",
    "                             'val_accuracy'], verbose=1, mode='max')\n",
    "earlystop = EarlyStopping(monitor='val_accuracy',\n",
    "                          patience=5, restore_best_weights=True)\n",
    "# Создаем список с используемыми коллбэками\n",
    "callbacks_list = [checkpoint, earlystop]"
   ]
  },
  {
   "cell_type": "markdown",
   "metadata": {},
   "source": [
    "Обучим модель, созданную на основе Xception, с помощью аугментированных данных, а также проведем проверку точности на валидационных данных:"
   ]
  },
  {
   "cell_type": "code",
   "execution_count": 24,
   "metadata": {
    "execution": {
     "iopub.execute_input": "2021-11-20T00:50:49.617342Z",
     "iopub.status.busy": "2021-11-20T00:50:49.617086Z",
     "iopub.status.idle": "2021-11-20T01:13:04.539177Z",
     "shell.execute_reply": "2021-11-20T01:13:04.538427Z",
     "shell.execute_reply.started": "2021-11-20T00:50:49.617308Z"
    }
   },
   "outputs": [],
   "source": [
    "# Приступаем к обучению нашей модели\n",
    "xcept_fit = model.fit(\n",
    "    train_generator,  # Используемые данные для обучения\n",
    "    # Количество итераций обучения за одну эпоху\n",
    "    steps_per_epoch=len(train_generator),\n",
    "    validation_data=val_generator,  # Используемые данные для валидации\n",
    "    # количество итераций валидации за одну эпоху\n",
    "    validation_steps=len(val_generator),\n",
    "    epochs=EPOCHS,  # количество эпох\n",
    "    callbacks=callbacks_list  # Используемые коллбэки\n",
    ")"
   ]
  },
  {
   "cell_type": "markdown",
   "metadata": {},
   "source": [
    "Сохраним результаты в рабочую директорию и загрузим лучшие веса модели:"
   ]
  },
  {
   "cell_type": "code",
   "execution_count": 25,
   "metadata": {
    "execution": {
     "iopub.execute_input": "2021-11-20T01:13:04.541078Z",
     "iopub.status.busy": "2021-11-20T01:13:04.540811Z",
     "iopub.status.idle": "2021-11-20T01:13:05.462291Z",
     "shell.execute_reply": "2021-11-20T01:13:05.461522Z",
     "shell.execute_reply.started": "2021-11-20T01:13:04.541044Z"
    }
   },
   "outputs": [],
   "source": [
    "model.save('../working/model_xcept_1.hdf5')\n",
    "model.load_weights('best_model.hdf5')"
   ]
  },
  {
   "cell_type": "markdown",
   "metadata": {},
   "source": [
    "Проверим точность, которая получилась после обучения используя model.evaluate_generator (предсказывает сначала при помощи входных данных, а затем оценивает точность и сравнивает ее с результатом, полученным на валидации):"
   ]
  },
  {
   "cell_type": "code",
   "execution_count": 26,
   "metadata": {
    "execution": {
     "iopub.execute_input": "2021-11-20T01:13:05.464251Z",
     "iopub.status.busy": "2021-11-20T01:13:05.463605Z",
     "iopub.status.idle": "2021-11-20T01:13:33.762003Z",
     "shell.execute_reply": "2021-11-20T01:13:33.760711Z",
     "shell.execute_reply.started": "2021-11-20T01:13:05.464203Z"
    }
   },
   "outputs": [],
   "source": [
    "scores = model.evaluate_generator(\n",
    "    val_generator, steps=len(val_generator), verbose=1)\n",
    "print(\"Accuracy: %.2f%%\" % (scores[1]*100))"
   ]
  },
  {
   "cell_type": "markdown",
   "metadata": {},
   "source": [
    "Посмотрим графики потерь и точности предсказаний на тренировончной и валидационной выборках:"
   ]
  },
  {
   "cell_type": "code",
   "execution_count": 27,
   "metadata": {
    "execution": {
     "iopub.execute_input": "2021-11-20T01:13:33.763823Z",
     "iopub.status.busy": "2021-11-20T01:13:33.763566Z",
     "iopub.status.idle": "2021-11-20T01:13:34.168196Z",
     "shell.execute_reply": "2021-11-20T01:13:34.167540Z",
     "shell.execute_reply.started": "2021-11-20T01:13:33.763788Z"
    }
   },
   "outputs": [],
   "source": [
    "acc = xcept_fit.history['accuracy']\n",
    "val_acc = xcept_fit.history['val_accuracy']\n",
    "loss = xcept_fit.history['loss']\n",
    "val_loss = xcept_fit.history['val_loss']\n",
    "epochs = range(len(acc))\n",
    "plt.plot(epochs, acc, 'b', label='Training acc')\n",
    "plt.plot(epochs, val_acc, 'r', label='Validation acc')\n",
    "plt.title('Training and validation accuracy')\n",
    "plt.legend()\n",
    "plt.figure()\n",
    "plt.plot(epochs, loss, 'b', label='Training loss')\n",
    "plt.plot(epochs, val_loss, 'r', label='Validation loss')\n",
    "plt.title('Training and validation loss')\n",
    "plt.legend()\n",
    "plt.show()"
   ]
  },
  {
   "cell_type": "markdown",
   "metadata": {},
   "source": [
    "Мы получили достаточно хорошие метрики, хотя похоже, что модель начала переобучаться. На графике точности четко виден пик на 4 эпохе, после которого начинается ее снижение и образуется низина вплоть до 7 эпохи, на которой снова происходит рост метрики.\n",
    "\n",
    "С графиками функции потерь ситуация похожа. До 4 эпохи идет спад функции, однако после этого потери снова начинают расти и возвращаются к результату 4 эпохи только на 8.\n",
    "\n",
    "При этом точность на валидационной выборке мы получили довольно неплохую: 90.99%"
   ]
  },
  {
   "cell_type": "markdown",
   "metadata": {},
   "source": [
    "### 3.1.4. Модель inception_v3"
   ]
  },
  {
   "cell_type": "markdown",
   "metadata": {},
   "source": [
    "В данном подпункте мы будем проводить исследование, аналогичное пп.3.1.3., но в качестве базовой модели будем использовать Inception_v3. \n",
    "\n",
    "Начнем с загрузки базовой части модели с весами ImageNet. Возможность обучения установим = True. Это значит, что веса, которыми уже обладает базовая модель, могут перезаписываться в результате обучения."
   ]
  },
  {
   "cell_type": "code",
   "execution_count": 28,
   "metadata": {
    "execution": {
     "iopub.execute_input": "2021-11-20T01:13:34.173546Z",
     "iopub.status.busy": "2021-11-20T01:13:34.173354Z",
     "iopub.status.idle": "2021-11-20T01:13:36.578310Z",
     "shell.execute_reply": "2021-11-20T01:13:36.577572Z",
     "shell.execute_reply.started": "2021-11-20T01:13:34.173521Z"
    }
   },
   "outputs": [],
   "source": [
    "# Загрузим базовую часть модели InceptionV3\n",
    "base_model = InceptionV3(\n",
    "    weights='imagenet', include_top=False, input_shape=input_shape)\n",
    "base_model.trainable = True"
   ]
  },
  {
   "cell_type": "markdown",
   "metadata": {},
   "source": [
    "Так же, как и в предыдущем пункте, соберем воедино части нашей модели:"
   ]
  },
  {
   "cell_type": "code",
   "execution_count": 29,
   "metadata": {
    "execution": {
     "iopub.execute_input": "2021-11-20T01:13:36.581261Z",
     "iopub.status.busy": "2021-11-20T01:13:36.579427Z",
     "iopub.status.idle": "2021-11-20T01:13:37.150494Z",
     "shell.execute_reply": "2021-11-20T01:13:37.149741Z",
     "shell.execute_reply.started": "2021-11-20T01:13:36.581221Z"
    }
   },
   "outputs": [],
   "source": [
    "model_incept = Sequential([\n",
    "    base_model,\n",
    "    head\n",
    "])"
   ]
  },
  {
   "cell_type": "markdown",
   "metadata": {},
   "source": [
    "Проведем компиляцию модели:"
   ]
  },
  {
   "cell_type": "code",
   "execution_count": 30,
   "metadata": {
    "execution": {
     "iopub.execute_input": "2021-11-20T01:13:37.151965Z",
     "iopub.status.busy": "2021-11-20T01:13:37.151718Z",
     "iopub.status.idle": "2021-11-20T01:13:37.168805Z",
     "shell.execute_reply": "2021-11-20T01:13:37.167987Z",
     "shell.execute_reply.started": "2021-11-20T01:13:37.151932Z"
    }
   },
   "outputs": [],
   "source": [
    "model_incept.compile(loss=\"categorical_crossentropy\", optimizer=optimizers.Adamax(\n",
    "    learning_rate=LR), metrics=[\"accuracy\"])"
   ]
  },
  {
   "cell_type": "markdown",
   "metadata": {},
   "source": [
    "Теперь обучим нашу модель на аугментированных данных, полученных в train_generator, и проведем проверку точности на валидацонных данных:"
   ]
  },
  {
   "cell_type": "code",
   "execution_count": 31,
   "metadata": {
    "execution": {
     "iopub.execute_input": "2021-11-20T01:13:37.170227Z",
     "iopub.status.busy": "2021-11-20T01:13:37.169894Z",
     "iopub.status.idle": "2021-11-20T01:33:27.328292Z",
     "shell.execute_reply": "2021-11-20T01:33:27.327307Z",
     "shell.execute_reply.started": "2021-11-20T01:13:37.170190Z"
    }
   },
   "outputs": [],
   "source": [
    "inceptionv3_fit = model_incept.fit(\n",
    "    train_generator,\n",
    "    steps_per_epoch=len(train_generator),\n",
    "    validation_data=val_generator,\n",
    "    validation_steps=len(val_generator),\n",
    "    epochs=EPOCHS,\n",
    "    callbacks=callbacks_list\n",
    ")"
   ]
  },
  {
   "cell_type": "markdown",
   "metadata": {},
   "source": [
    "Сохраним нашу модель и загрузим лучшие веса:"
   ]
  },
  {
   "cell_type": "code",
   "execution_count": 32,
   "metadata": {
    "execution": {
     "iopub.execute_input": "2021-11-20T01:33:27.330364Z",
     "iopub.status.busy": "2021-11-20T01:33:27.330109Z",
     "iopub.status.idle": "2021-11-20T01:33:28.672222Z",
     "shell.execute_reply": "2021-11-20T01:33:28.671469Z",
     "shell.execute_reply.started": "2021-11-20T01:33:27.330330Z"
    }
   },
   "outputs": [],
   "source": [
    "model_incept.save('../working/model_incept_1.hdf5')\n",
    "model_incept.load_weights('best_model.hdf5')"
   ]
  },
  {
   "cell_type": "markdown",
   "metadata": {},
   "source": [
    "Как и ранее, проведем проверку точности при помощи evaluate_generator:"
   ]
  },
  {
   "cell_type": "code",
   "execution_count": 33,
   "metadata": {
    "execution": {
     "iopub.execute_input": "2021-11-20T01:33:28.673855Z",
     "iopub.status.busy": "2021-11-20T01:33:28.673611Z",
     "iopub.status.idle": "2021-11-20T01:33:56.556200Z",
     "shell.execute_reply": "2021-11-20T01:33:56.555479Z",
     "shell.execute_reply.started": "2021-11-20T01:33:28.673823Z"
    }
   },
   "outputs": [],
   "source": [
    "scores = model_incept.evaluate_generator(\n",
    "    val_generator, steps=len(val_generator), verbose=1)\n",
    "print(\"Accuracy: %.2f%%\" % (scores[1]*100))"
   ]
  },
  {
   "cell_type": "markdown",
   "metadata": {},
   "source": [
    "Посмотрим графики потерь и точности предсказаний на тренировончной и валидационной выборках:"
   ]
  },
  {
   "cell_type": "code",
   "execution_count": 34,
   "metadata": {
    "execution": {
     "iopub.execute_input": "2021-11-20T01:33:56.558358Z",
     "iopub.status.busy": "2021-11-20T01:33:56.557768Z",
     "iopub.status.idle": "2021-11-20T01:33:56.975481Z",
     "shell.execute_reply": "2021-11-20T01:33:56.974754Z",
     "shell.execute_reply.started": "2021-11-20T01:33:56.558318Z"
    }
   },
   "outputs": [],
   "source": [
    "acc = inceptionv3_fit.history['accuracy']\n",
    "val_acc = inceptionv3_fit.history['val_accuracy']\n",
    "loss = inceptionv3_fit.history['loss']\n",
    "val_loss = inceptionv3_fit.history['val_loss']\n",
    "epochs = range(len(acc))\n",
    "plt.plot(epochs, acc, 'b', label='Training acc')\n",
    "plt.plot(epochs, val_acc, 'r', label='Validation acc')\n",
    "plt.title('Training and validation accuracy')\n",
    "plt.legend()\n",
    "plt.figure()\n",
    "plt.plot(epochs, loss, 'b', label='Training loss')\n",
    "plt.plot(epochs, val_loss, 'r', label='Validation loss')\n",
    "plt.title('Training and validation loss')\n",
    "plt.legend()\n",
    "plt.show()"
   ]
  },
  {
   "cell_type": "markdown",
   "metadata": {},
   "source": [
    "На графиках видны характерные пики и провалы при обучении сети. Так, на второй эпохе был сильный рост функции потерь, который быстро снизился. Аналогичная ситуация наблюдается на шестой эпохе. После седьмой эпохи функция потерь снова немного возрастает. \n",
    "\n",
    "С графиками точности происходит примерно то же самое, на обучающей выборке точность постепенно растет, без спадов, а на валидации мы получаем высокую точность на шестой эпохе, после которой следует снижение и, к восьмой эпохе, возвращение примерно в то же значение, которое получено две эпохи назад. Возможно,если увеличить количество эпох - станет более явно видно, переобучилась сеть или нет, на данном этапе однозначный вывод сделать сложно."
   ]
  },
  {
   "cell_type": "markdown",
   "metadata": {},
   "source": [
    "### 3.1.5. Модель ResNet101V2"
   ]
  },
  {
   "cell_type": "markdown",
   "metadata": {},
   "source": [
    "В данном подпункте проведем исследование модели ResNet101V2. Все этапы ничем не отличаются от проделанных в пп.3.1.3-3.1.4:"
   ]
  },
  {
   "cell_type": "code",
   "execution_count": 35,
   "metadata": {
    "execution": {
     "iopub.execute_input": "2021-11-20T01:33:56.976905Z",
     "iopub.status.busy": "2021-11-20T01:33:56.976638Z",
     "iopub.status.idle": "2021-11-20T01:34:02.118999Z",
     "shell.execute_reply": "2021-11-20T01:34:02.118024Z",
     "shell.execute_reply.started": "2021-11-20T01:33:56.976869Z"
    }
   },
   "outputs": [],
   "source": [
    "# Загрузим базовую часть модели с весами ImageNet\n",
    "base_model = ResNet101V2(\n",
    "    weights='imagenet', include_top=False, input_shape=input_shape)\n",
    "base_model.trainable = True"
   ]
  },
  {
   "cell_type": "markdown",
   "metadata": {},
   "source": [
    "Соберем воедино части нашей исследуемой модели:"
   ]
  },
  {
   "cell_type": "code",
   "execution_count": 36,
   "metadata": {
    "execution": {
     "iopub.execute_input": "2021-11-20T01:34:02.135604Z",
     "iopub.status.busy": "2021-11-20T01:34:02.128410Z",
     "iopub.status.idle": "2021-11-20T01:34:02.995078Z",
     "shell.execute_reply": "2021-11-20T01:34:02.994248Z",
     "shell.execute_reply.started": "2021-11-20T01:34:02.135556Z"
    }
   },
   "outputs": [],
   "source": [
    "# Собираем модель\n",
    "model_resnet = Sequential([\n",
    "    base_model,\n",
    "    head\n",
    "])"
   ]
  },
  {
   "cell_type": "markdown",
   "metadata": {},
   "source": [
    "Проведем компиляцию модели:"
   ]
  },
  {
   "cell_type": "code",
   "execution_count": 37,
   "metadata": {
    "execution": {
     "iopub.execute_input": "2021-11-20T01:34:02.996511Z",
     "iopub.status.busy": "2021-11-20T01:34:02.996266Z",
     "iopub.status.idle": "2021-11-20T01:34:03.013387Z",
     "shell.execute_reply": "2021-11-20T01:34:03.012473Z",
     "shell.execute_reply.started": "2021-11-20T01:34:02.996480Z"
    }
   },
   "outputs": [],
   "source": [
    "model_resnet.compile(loss=\"categorical_crossentropy\", optimizer=optimizers.Adamax(\n",
    "    learning_rate=LR), metrics=[\"accuracy\"])"
   ]
  },
  {
   "cell_type": "markdown",
   "metadata": {},
   "source": [
    "Теперь приступим к обучению нашей модели ResNet101v2:"
   ]
  },
  {
   "cell_type": "code",
   "execution_count": 38,
   "metadata": {
    "execution": {
     "iopub.execute_input": "2021-11-20T01:34:03.015138Z",
     "iopub.status.busy": "2021-11-20T01:34:03.014789Z",
     "iopub.status.idle": "2021-11-20T01:56:37.680902Z",
     "shell.execute_reply": "2021-11-20T01:56:37.680000Z",
     "shell.execute_reply.started": "2021-11-20T01:34:03.015101Z"
    }
   },
   "outputs": [],
   "source": [
    "resnet101v2_fit = model_resnet.fit(\n",
    "    train_generator,\n",
    "    steps_per_epoch=len(train_generator),\n",
    "    validation_data=val_generator,\n",
    "    validation_steps=len(val_generator),\n",
    "    epochs=EPOCHS,\n",
    "    callbacks=callbacks_list\n",
    ")"
   ]
  },
  {
   "cell_type": "markdown",
   "metadata": {},
   "source": [
    "Сохраним полученную модель и загрузим ее лучшие веса:"
   ]
  },
  {
   "cell_type": "code",
   "execution_count": 39,
   "metadata": {
    "execution": {
     "iopub.execute_input": "2021-11-20T01:56:37.688338Z",
     "iopub.status.busy": "2021-11-20T01:56:37.686132Z",
     "iopub.status.idle": "2021-11-20T01:56:40.191765Z",
     "shell.execute_reply": "2021-11-20T01:56:40.190873Z",
     "shell.execute_reply.started": "2021-11-20T01:56:37.688296Z"
    }
   },
   "outputs": [],
   "source": [
    "model_resnet.save('../working/model_resnet_1.hdf5')\n",
    "model_resnet.load_weights('best_model.hdf5')"
   ]
  },
  {
   "cell_type": "markdown",
   "metadata": {},
   "source": [
    "Проверим точность нашей модели с помощью evaluate_generator:"
   ]
  },
  {
   "cell_type": "code",
   "execution_count": 40,
   "metadata": {
    "execution": {
     "iopub.execute_input": "2021-11-20T01:56:40.193603Z",
     "iopub.status.busy": "2021-11-20T01:56:40.193343Z",
     "iopub.status.idle": "2021-11-20T01:57:09.741644Z",
     "shell.execute_reply": "2021-11-20T01:57:09.740958Z",
     "shell.execute_reply.started": "2021-11-20T01:56:40.193570Z"
    }
   },
   "outputs": [],
   "source": [
    "scores = model_resnet.evaluate_generator(\n",
    "    val_generator, steps=len(val_generator), verbose=1)\n",
    "print(\"Accuracy: %.2f%%\" % (scores[1]*100))"
   ]
  },
  {
   "cell_type": "markdown",
   "metadata": {},
   "source": [
    "Посмотрим графики потерь и точности предсказаний на тренировончной и валидационной выборках:"
   ]
  },
  {
   "cell_type": "code",
   "execution_count": 41,
   "metadata": {
    "execution": {
     "iopub.execute_input": "2021-11-20T01:57:09.744816Z",
     "iopub.status.busy": "2021-11-20T01:57:09.744615Z",
     "iopub.status.idle": "2021-11-20T01:57:10.159388Z",
     "shell.execute_reply": "2021-11-20T01:57:10.158732Z",
     "shell.execute_reply.started": "2021-11-20T01:57:09.744790Z"
    }
   },
   "outputs": [],
   "source": [
    "acc = resnet101v2_fit.history['accuracy']\n",
    "val_acc = resnet101v2_fit.history['val_accuracy']\n",
    "loss = resnet101v2_fit.history['loss']\n",
    "val_loss = resnet101v2_fit.history['val_loss']\n",
    "epochs = range(len(acc))\n",
    "plt.plot(epochs, acc, 'b', label='Training acc')\n",
    "plt.plot(epochs, val_acc, 'r', label='Validation acc')\n",
    "plt.title('Training and validation accuracy')\n",
    "plt.legend()\n",
    "plt.figure()\n",
    "plt.plot(epochs, loss, 'b', label='Training loss')\n",
    "plt.plot(epochs, val_loss, 'r', label='Validation loss')\n",
    "plt.title('Training and validation loss')\n",
    "plt.legend()\n",
    "plt.show()"
   ]
  },
  {
   "cell_type": "markdown",
   "metadata": {},
   "source": [
    "На графиках функции потерь и точности видно, что модель в промежутке после 4 и до 7 эпохи имела плохие показатели метрик, хуже чем на самой 4 эпохе. К 7 эпохе показатели снова улучшились, однако затем произошел очередной спад точности и рост функции потерь. Можно сделать вывод, что модель начала переобучаться."
   ]
  },
  {
   "cell_type": "markdown",
   "metadata": {},
   "source": [
    "## 3.2. Модель EfficientNetB3"
   ]
  },
  {
   "cell_type": "markdown",
   "metadata": {},
   "source": [
    "Модель EfficientNetB3 немного отличается от остальных тем, что для нее преобразование с помощью rescale не нужно. Это связано с тем, что она принимает на вход тензоры пикселей с диапазоном значений от 0 до 255. Предыдущие модели принимали диапазон от -1 до 1, поэтому для них проводились необходимые преобразования.\n",
    "\n",
    "Для дальнейшей работы необходимо переделать ImageDataGenerator, убрав из него rescale. Остальные параметры остаются без изменений."
   ]
  },
  {
   "cell_type": "markdown",
   "metadata": {},
   "source": [
    "### 3.2.1. Аугментация данных"
   ]
  },
  {
   "cell_type": "markdown",
   "metadata": {},
   "source": [
    "Зафиксируем настройки для нашего генератора, исключив ис перечня rescale=1./255. Описание каждой строчки, что она делает можно найти выше, при первой аугментации:"
   ]
  },
  {
   "cell_type": "code",
   "execution_count": 46,
   "metadata": {
    "execution": {
     "iopub.execute_input": "2021-11-20T02:05:28.635541Z",
     "iopub.status.busy": "2021-11-20T02:05:28.635071Z",
     "iopub.status.idle": "2021-11-20T02:05:28.640260Z",
     "shell.execute_reply": "2021-11-20T02:05:28.639534Z",
     "shell.execute_reply.started": "2021-11-20T02:05:28.635505Z"
    }
   },
   "outputs": [],
   "source": [
    "train_datagen = ImageDataGenerator(\n",
    "    rotation_range=5,\n",
    "    width_shift_range=0.1,\n",
    "    height_shift_range=0.1,\n",
    "    horizontal_flip=False,\n",
    "    shear_range=0.1,\n",
    "    zoom_range=0.1,\n",
    "    fill_mode='reflect',\n",
    "    validation_split=VAL_SPLIT)  # set validation split\n",
    "\n",
    "test_datagen = ImageDataGenerator()"
   ]
  },
  {
   "cell_type": "code",
   "execution_count": 47,
   "metadata": {
    "execution": {
     "iopub.execute_input": "2021-11-20T02:05:30.403580Z",
     "iopub.status.busy": "2021-11-20T02:05:30.402994Z",
     "iopub.status.idle": "2021-11-20T02:05:30.407619Z",
     "shell.execute_reply": "2021-11-20T02:05:30.406554Z",
     "shell.execute_reply.started": "2021-11-20T02:05:30.403539Z"
    }
   },
   "outputs": [],
   "source": [
    "train_generator.reset()\n",
    "val_generator.reset()"
   ]
  },
  {
   "cell_type": "markdown",
   "metadata": {},
   "source": [
    "Проведем аугментацию изображений, используя наши настройки ImageDataGenerator'а:"
   ]
  },
  {
   "cell_type": "code",
   "execution_count": 48,
   "metadata": {
    "execution": {
     "iopub.execute_input": "2021-11-20T02:05:32.649114Z",
     "iopub.status.busy": "2021-11-20T02:05:32.648842Z",
     "iopub.status.idle": "2021-11-20T02:05:33.702942Z",
     "shell.execute_reply": "2021-11-20T02:05:33.702200Z",
     "shell.execute_reply.started": "2021-11-20T02:05:32.649085Z"
    }
   },
   "outputs": [],
   "source": [
    "train_generator = train_datagen.flow_from_directory(\n",
    "    PATH+'train/',      # директория где расположены папки с картинками\n",
    "    target_size=(V_IMG_SIZE, H_IMG_SIZE),\n",
    "    class_mode='categorical',\n",
    "    shuffle=True, seed=RANDOM_SEED,\n",
    "    subset='training')  # Обучающая выборка\n",
    "\n",
    "val_generator = train_datagen.flow_from_directory(\n",
    "    PATH+'train/',\n",
    "    target_size=(V_IMG_SIZE, H_IMG_SIZE),\n",
    "    class_mode='categorical',\n",
    "    shuffle=True, seed=RANDOM_SEED,\n",
    "    subset='validation')  # Валидационная выборка"
   ]
  },
  {
   "cell_type": "markdown",
   "metadata": {},
   "source": [
    "Теперь, как и в предыдущих пунктах, загрузим базовую часть модели с весами ImageNet и укажем, что она может обучаться:"
   ]
  },
  {
   "cell_type": "code",
   "execution_count": 49,
   "metadata": {
    "execution": {
     "iopub.execute_input": "2021-11-20T02:05:36.651686Z",
     "iopub.status.busy": "2021-11-20T02:05:36.650759Z",
     "iopub.status.idle": "2021-11-20T02:05:38.998155Z",
     "shell.execute_reply": "2021-11-20T02:05:38.997359Z",
     "shell.execute_reply.started": "2021-11-20T02:05:36.651635Z"
    }
   },
   "outputs": [],
   "source": [
    "# Загружаем базовую часть модели с указанием trainable= True\n",
    "base_model = EfficientNetB3(\n",
    "    weights='imagenet', include_top=False, input_shape=input_shape)\n",
    "base_model.trainable = True"
   ]
  },
  {
   "cell_type": "markdown",
   "metadata": {},
   "source": [
    "Ниже я переобъявлю head, иначе по какой-то причине при выполнении выскакивает ошибка:"
   ]
  },
  {
   "cell_type": "code",
   "execution_count": 53,
   "metadata": {
    "execution": {
     "iopub.execute_input": "2021-11-20T02:09:58.607720Z",
     "iopub.status.busy": "2021-11-20T02:09:58.607461Z",
     "iopub.status.idle": "2021-11-20T02:09:58.617330Z",
     "shell.execute_reply": "2021-11-20T02:09:58.616611Z",
     "shell.execute_reply.started": "2021-11-20T02:09:58.607691Z"
    }
   },
   "outputs": [],
   "source": [
    "head = Sequential([\n",
    "    GlobalMaxPool2D(),\n",
    "    Dropout(0.3),\n",
    "    Dense(CLASS_NUM, activation='softmax')\n",
    "])"
   ]
  },
  {
   "cell_type": "markdown",
   "metadata": {},
   "source": [
    "Теперь собираем в единую модель наши base_model и head:"
   ]
  },
  {
   "cell_type": "code",
   "execution_count": 54,
   "metadata": {
    "execution": {
     "iopub.execute_input": "2021-11-20T02:10:34.618957Z",
     "iopub.status.busy": "2021-11-20T02:10:34.618675Z",
     "iopub.status.idle": "2021-11-20T02:10:35.489316Z",
     "shell.execute_reply": "2021-11-20T02:10:35.488607Z",
     "shell.execute_reply.started": "2021-11-20T02:10:34.618923Z"
    }
   },
   "outputs": [],
   "source": [
    "model_efficientnetb3 = Sequential([\n",
    "    base_model,\n",
    "    head\n",
    "])"
   ]
  },
  {
   "cell_type": "markdown",
   "metadata": {},
   "source": [
    "Проведем компиляцию модели с указанными параметрами:"
   ]
  },
  {
   "cell_type": "code",
   "execution_count": 55,
   "metadata": {
    "execution": {
     "iopub.execute_input": "2021-11-20T02:10:39.492450Z",
     "iopub.status.busy": "2021-11-20T02:10:39.491778Z",
     "iopub.status.idle": "2021-11-20T02:10:39.509163Z",
     "shell.execute_reply": "2021-11-20T02:10:39.508425Z",
     "shell.execute_reply.started": "2021-11-20T02:10:39.492413Z"
    }
   },
   "outputs": [],
   "source": [
    "model_efficientnetb3.compile(loss=\"categorical_crossentropy\", optimizer=optimizers.Adamax(\n",
    "    learning_rate=LR), metrics=[\"accuracy\"])"
   ]
  },
  {
   "cell_type": "markdown",
   "metadata": {},
   "source": [
    "Наконец, запустим обучение созданной нами модели с демонстрацией точности на обучающей и валидационной выборках:"
   ]
  },
  {
   "cell_type": "code",
   "execution_count": 56,
   "metadata": {
    "execution": {
     "iopub.execute_input": "2021-11-20T02:10:40.046061Z",
     "iopub.status.busy": "2021-11-20T02:10:40.044728Z",
     "iopub.status.idle": "2021-11-20T02:34:11.303754Z",
     "shell.execute_reply": "2021-11-20T02:34:11.302961Z",
     "shell.execute_reply.started": "2021-11-20T02:10:40.046015Z"
    }
   },
   "outputs": [],
   "source": [
    "efficientnetb3_fit = model_efficientnetb3.fit(\n",
    "    train_generator,\n",
    "    steps_per_epoch=len(train_generator),\n",
    "    validation_data=val_generator,\n",
    "    validation_steps=len(val_generator),\n",
    "    epochs=EPOCHS,\n",
    "    callbacks=callbacks_list\n",
    ")"
   ]
  },
  {
   "cell_type": "markdown",
   "metadata": {},
   "source": [
    "Сохраним полученную модель и загрузим ее лучшие веса:"
   ]
  },
  {
   "cell_type": "code",
   "execution_count": 57,
   "metadata": {
    "execution": {
     "iopub.execute_input": "2021-11-20T02:34:11.306162Z",
     "iopub.status.busy": "2021-11-20T02:34:11.305824Z",
     "iopub.status.idle": "2021-11-20T02:34:12.706328Z",
     "shell.execute_reply": "2021-11-20T02:34:12.705555Z",
     "shell.execute_reply.started": "2021-11-20T02:34:11.306125Z"
    }
   },
   "outputs": [],
   "source": [
    "model_efficientnetb3.save('../working/model_efficientnetb3_1.hdf5')\n",
    "model_efficientnetb3.load_weights('best_model.hdf5')"
   ]
  },
  {
   "cell_type": "markdown",
   "metadata": {},
   "source": [
    "Проверим полученную точность (в %) на валидационной выборке с помощью evaluate_generator:"
   ]
  },
  {
   "cell_type": "code",
   "execution_count": 58,
   "metadata": {
    "execution": {
     "iopub.execute_input": "2021-11-20T02:34:12.708262Z",
     "iopub.status.busy": "2021-11-20T02:34:12.707702Z",
     "iopub.status.idle": "2021-11-20T02:34:53.972879Z",
     "shell.execute_reply": "2021-11-20T02:34:53.972136Z",
     "shell.execute_reply.started": "2021-11-20T02:34:12.708231Z"
    }
   },
   "outputs": [],
   "source": [
    "scores = model_efficientnetb3.evaluate_generator(\n",
    "    val_generator, steps=len(val_generator), verbose=1)\n",
    "print(\"Accuracy: %.2f%%\" % (scores[1]*100))"
   ]
  },
  {
   "cell_type": "markdown",
   "metadata": {},
   "source": [
    "Посмотрим графики потерь и точности предсказаний на тренировончной и валидационной выборках:"
   ]
  },
  {
   "cell_type": "code",
   "execution_count": 59,
   "metadata": {
    "execution": {
     "iopub.execute_input": "2021-11-20T02:34:53.975332Z",
     "iopub.status.busy": "2021-11-20T02:34:53.974895Z",
     "iopub.status.idle": "2021-11-20T02:34:54.434517Z",
     "shell.execute_reply": "2021-11-20T02:34:54.433762Z",
     "shell.execute_reply.started": "2021-11-20T02:34:53.975292Z"
    }
   },
   "outputs": [],
   "source": [
    "acc = efficientnetb3_fit.history['accuracy']\n",
    "val_acc = efficientnetb3_fit.history['val_accuracy']\n",
    "loss = efficientnetb3_fit.history['loss']\n",
    "val_loss = efficientnetb3_fit.history['val_loss']\n",
    "epochs = range(len(acc))\n",
    "plt.plot(epochs, acc, 'b', label='Training acc')\n",
    "plt.plot(epochs, val_acc, 'r', label='Validation acc')\n",
    "plt.title('Training and validation accuracy')\n",
    "plt.legend()\n",
    "plt.figure()\n",
    "plt.plot(epochs, loss, 'b', label='Training loss')\n",
    "plt.plot(epochs, val_loss, 'r', label='Validation loss')\n",
    "plt.title('Training and validation loss')\n",
    "plt.legend()\n",
    "plt.show()"
   ]
  },
  {
   "cell_type": "markdown",
   "metadata": {},
   "source": [
    "Как мы можем увидеть - результат полученный при использовании EfficientNetB3 получился наиболее высоким из всех. В дальнейшем я планирую использовать ее для финального сабмита. Но для начала, я планирую попробовать улучшить модели, изменив способ аугментации и собрав для них новую голову."
   ]
  },
  {
   "cell_type": "markdown",
   "metadata": {},
   "source": [
    "# 4. Улучшение моделей"
   ]
  },
  {
   "cell_type": "markdown",
   "metadata": {},
   "source": [
    "Для улучшения исследуемых моделей попробуем воспользоваться другим аугментором (ImageDataAugmentor), использующим albuminations. Помимо этого попробуем вместо фиксированного learning rate использовать ExponentialDecay, который реализует его затухание."
   ]
  },
  {
   "cell_type": "markdown",
   "metadata": {},
   "source": [
    "    На этом этапе было очень много различных экспериментов, в результате которых я выработал всю квоту на использование GPU. Это связано с постоянными перерасчетами, например при изменении структуры шапки, шага обучения, оптимизатора и количества параметров при аугментации. Я не берусь сказать, что выбранные в итоге параметры являются лучшими, вероятно это совсем не так, но они оказали хоть какое-то положительное влияние на обучение модели, так как в начале результаты получались в среднем на 3-4% хуже чем при исследовании моделей в п.3. \n",
    "    Среди прочего - были рассмотрены варианты с фиксированным learning rate, но exponentialDecay показал лучшие результаты на первых трех моделях, были рассмотрены различные варианты функции активации для dense-слоя: Elu и relu (функция relu показала чуть лучший результат, поэтому в финальной версии используется она).\n",
    "    Для albuminations были рассмотрены различные параметры аугментации, в процессе постоянно менялись их вероятности. Так, при наличии настроек яркости a.RandomBrightness - качество обучения падало на 2%. В финальной версии этого параметра нет.\n",
    "    Два сабмита, реализованные на базе модели EfficientNetB3, различаются между собой настройками ImageDataAugmentor: в первом случае используются настройки из п.п.4.1., а во втором используются они же, но без параметров a.RandomBrightnessContrast."
   ]
  },
  {
   "cell_type": "markdown",
   "metadata": {},
   "source": [
    "## 4.1. Аугментация"
   ]
  },
  {
   "cell_type": "markdown",
   "metadata": {},
   "source": [
    "Пропишем парметры аугментации ImageDataAugmentor, используя albuminations:\n",
    "* Установим размытие по Гауссу\n",
    "* Установим Гауссовский шум\n",
    "* Установим параметры сдвига, масштабирования и поворота изображения\n",
    "* Установим яркость и контрастность изображения"
   ]
  },
  {
   "cell_type": "code",
   "execution_count": 60,
   "metadata": {
    "execution": {
     "iopub.execute_input": "2021-11-20T02:34:54.436352Z",
     "iopub.status.busy": "2021-11-20T02:34:54.435863Z",
     "iopub.status.idle": "2021-11-20T02:34:54.444190Z",
     "shell.execute_reply": "2021-11-20T02:34:54.443311Z",
     "shell.execute_reply.started": "2021-11-20T02:34:54.436312Z"
    }
   },
   "outputs": [],
   "source": [
    "augment_module = a.Compose([\n",
    "    # добавляем размытие по Гауссу и шум с вероятностью 7%\n",
    "    a.Blur(p=0.07),\n",
    "    a.GaussNoise(p=0.07),\n",
    "    #  Установим параметры сдвига,поворота и масштабирования, а также укажем их вероятность.\n",
    "    a.ShiftScaleRotate(shift_limit=0.08,\n",
    "                       scale_limit=0.05,\n",
    "                       border_mode=4,\n",
    "                       rotate_limit=20,\n",
    "                       p=0.65),\n",
    "\n",
    "    a.HueSaturationValue(),  # случайный оттенок и насыщенность\n",
    "    a.HorizontalFlip(),\n",
    "\n",
    "    a.Resize(V_IMG_SIZE, H_IMG_SIZE),\n",
    "    # установим случайную яркость и контрастность изображений с вероятностью 50%\n",
    "\n",
    "    a.OneOf([\n",
    "            a.RandomBrightnessContrast(\n",
    "                brightness_limit=0.2, contrast_limit=0.2),\n",
    "            a.RandomBrightnessContrast(brightness_limit=0.1, contrast_limit=0.1)],\n",
    "            p=0.5)\n",
    "])"
   ]
  },
  {
   "cell_type": "markdown",
   "metadata": {},
   "source": [
    "Теперь, используя созданный выше блок, запишем параметры для генератора:"
   ]
  },
  {
   "cell_type": "code",
   "execution_count": 61,
   "metadata": {
    "execution": {
     "iopub.execute_input": "2021-11-20T02:34:54.445728Z",
     "iopub.status.busy": "2021-11-20T02:34:54.445402Z",
     "iopub.status.idle": "2021-11-20T02:34:54.456592Z",
     "shell.execute_reply": "2021-11-20T02:34:54.455689Z",
     "shell.execute_reply.started": "2021-11-20T02:34:54.445693Z"
    }
   },
   "outputs": [],
   "source": [
    "# Подготовка параметров для аугментации:\n",
    "all_datagen = ImageDataAugmentor(\n",
    "    augment=augment_module,\n",
    "    seed=RANDOM_SEED,\n",
    "    validation_split=VAL_SPLIT)"
   ]
  },
  {
   "cell_type": "markdown",
   "metadata": {},
   "source": [
    "Сбросим используемые генераторы:"
   ]
  },
  {
   "cell_type": "code",
   "execution_count": 62,
   "metadata": {
    "execution": {
     "iopub.execute_input": "2021-11-20T02:34:54.459225Z",
     "iopub.status.busy": "2021-11-20T02:34:54.458691Z",
     "iopub.status.idle": "2021-11-20T02:34:54.469956Z",
     "shell.execute_reply": "2021-11-20T02:34:54.469114Z",
     "shell.execute_reply.started": "2021-11-20T02:34:54.459188Z"
    }
   },
   "outputs": [],
   "source": [
    "train_generator.reset()\n",
    "val_generator.reset()"
   ]
  },
  {
   "cell_type": "markdown",
   "metadata": {},
   "source": [
    "Теперь запустим генераторы с используемыми настройками аугментации:"
   ]
  },
  {
   "cell_type": "code",
   "execution_count": 63,
   "metadata": {
    "execution": {
     "iopub.execute_input": "2021-11-20T02:34:54.471492Z",
     "iopub.status.busy": "2021-11-20T02:34:54.471225Z",
     "iopub.status.idle": "2021-11-20T02:34:55.522341Z",
     "shell.execute_reply": "2021-11-20T02:34:55.521468Z",
     "shell.execute_reply.started": "2021-11-20T02:34:54.471457Z"
    }
   },
   "outputs": [],
   "source": [
    "train_generator = all_datagen.flow_from_directory(\n",
    "    PATH+'train/',\n",
    "    target_size=(V_IMG_SIZE, H_IMG_SIZE),\n",
    "    batch_size=BATCH_SIZE,\n",
    "    class_mode='categorical',\n",
    "    shuffle=True,\n",
    "    subset='training')\n",
    "\n",
    "val_generator = all_datagen.flow_from_directory(\n",
    "    PATH+'train/',\n",
    "    target_size=(V_IMG_SIZE, H_IMG_SIZE),\n",
    "    batch_size=BATCH_SIZE,\n",
    "    class_mode='categorical',\n",
    "    shuffle=True,\n",
    "    subset='validation')"
   ]
  },
  {
   "cell_type": "markdown",
   "metadata": {},
   "source": [
    "Создадим блок, который будет нам демонстрировать аугментированные изображения из тренировочной и валидационной выборок:"
   ]
  },
  {
   "cell_type": "code",
   "execution_count": 64,
   "metadata": {
    "execution": {
     "iopub.execute_input": "2021-11-20T02:34:55.525746Z",
     "iopub.status.busy": "2021-11-20T02:34:55.524912Z",
     "iopub.status.idle": "2021-11-20T02:34:55.533959Z",
     "shell.execute_reply": "2021-11-20T02:34:55.533047Z",
     "shell.execute_reply.started": "2021-11-20T02:34:55.525707Z"
    }
   },
   "outputs": [],
   "source": [
    "def show_first_images(generator, count=6, labels=True, figsize=(20, 5), normalized=False):\n",
    "    generator = itertools.islice(generator, count)\n",
    "    fig, axes = plt.subplots(nrows=1, ncols=count, figsize=figsize)\n",
    "    for batch, ax in zip(generator, axes):\n",
    "        if labels:\n",
    "            img_batch, labels_batch = batch\n",
    "            # берем по одному изображению из каждого батча\n",
    "            img, label = img_batch[0], np.argmax(labels_batch[0])\n",
    "        else:\n",
    "            img_batch = batch\n",
    "            img = img_batch[0]\n",
    "        if not normalized:\n",
    "            img = img.astype(np.uint8)\n",
    "        ax.imshow(img)\n",
    "        # метод imshow принимает одно из двух:\n",
    "        # - изображение в формате uint8, яркость от 0 до 255\n",
    "        # - изображение в формате float, яркость от 0 до 1\n",
    "        if labels:\n",
    "            ax.set_title(f'Class: {label}')\n",
    "    plt.show()"
   ]
  },
  {
   "cell_type": "markdown",
   "metadata": {},
   "source": [
    "Просмотрим результаты:"
   ]
  },
  {
   "cell_type": "code",
   "execution_count": 65,
   "metadata": {
    "execution": {
     "iopub.execute_input": "2021-11-20T02:34:55.537668Z",
     "iopub.status.busy": "2021-11-20T02:34:55.537456Z",
     "iopub.status.idle": "2021-11-20T02:34:58.084453Z",
     "shell.execute_reply": "2021-11-20T02:34:58.083775Z",
     "shell.execute_reply.started": "2021-11-20T02:34:55.537645Z"
    }
   },
   "outputs": [],
   "source": [
    "# Обучающая выборка\n",
    "print('Train:')\n",
    "show_first_images(train_generator)\n",
    "\n",
    "# Валидационная выборка\n",
    "print('Val:')\n",
    "show_first_images(val_generator)"
   ]
  },
  {
   "cell_type": "markdown",
   "metadata": {},
   "source": [
    "## 4.2. Создание Head и CallBacks"
   ]
  },
  {
   "cell_type": "markdown",
   "metadata": {},
   "source": [
    "Данный пункт неоднократно переделовался в силу того, что я постоянно менял структуру и количество слоев в шапке. Двумя наиболее хорошими оказались:\n",
    "* Вариант с закомментированной частью кода\n",
    "* Вариант, при котором закомментированная часть тоже используется\n",
    "\n",
    "На данном этапе я пробовал различные функции активации, отсутствие\\присутствие батч-нормализации, различные вероятности для Dropout-слоя и различное количество юнитов в dense-слое. Как сказано в начале самого пункта, функция активации relu показала себя немного лучше, чем elu в результате исследований, поэтому в финальной версии используется именно она."
   ]
  },
  {
   "cell_type": "markdown",
   "metadata": {},
   "source": [
    "Собираем новую head для дальнейшего исследования:"
   ]
  },
  {
   "cell_type": "code",
   "execution_count": 66,
   "metadata": {
    "execution": {
     "iopub.execute_input": "2021-11-20T02:34:58.086492Z",
     "iopub.status.busy": "2021-11-20T02:34:58.085709Z",
     "iopub.status.idle": "2021-11-20T02:34:58.098242Z",
     "shell.execute_reply": "2021-11-20T02:34:58.097541Z",
     "shell.execute_reply.started": "2021-11-20T02:34:58.086454Z"
    }
   },
   "outputs": [],
   "source": [
    "head = Sequential([\n",
    "    GlobalMaxPool2D(),  # GlobalMaxPool2D для объединения base_model и head\n",
    "    # Dense-слой с 256 нейронами и функцией активации relu\n",
    "    Dense(256, activation='relu'),\n",
    "    BatchNormalization(),  # Батч-нормализация\n",
    "    Dropout(0.5),  # Dropout-слой с вероятностью 0.5\n",
    "    # Закомментированные слои, о которых сказано выше\n",
    "    #Dense(64, activation='relu'),\n",
    "    # Dropout(0.25),\n",
    "    # выходной слой с активацией softmax\n",
    "    Dense(CLASS_NUM, activation='softmax')\n",
    "])"
   ]
  },
  {
   "cell_type": "markdown",
   "metadata": {},
   "source": [
    "Немного изменим коллбэки. Я решил что при 8 эпохах на обучении ставить 5 для earlystopping - это не совсем логично. Поэтому уменьшил значение хотя бы до 4 эпох без положительного прогресса в val_accuracy."
   ]
  },
  {
   "cell_type": "code",
   "execution_count": 67,
   "metadata": {
    "execution": {
     "iopub.execute_input": "2021-11-20T02:34:58.099667Z",
     "iopub.status.busy": "2021-11-20T02:34:58.099330Z",
     "iopub.status.idle": "2021-11-20T02:34:58.110029Z",
     "shell.execute_reply": "2021-11-20T02:34:58.109251Z",
     "shell.execute_reply.started": "2021-11-20T02:34:58.099613Z"
    }
   },
   "outputs": [],
   "source": [
    "# Немного изменим значения в earlystopping\n",
    "earlystop = EarlyStopping(monitor='val_accuracy',\n",
    "                          patience=4, restore_best_weights=True)\n",
    "callbacks_list = [checkpoint, earlystop]"
   ]
  },
  {
   "cell_type": "markdown",
   "metadata": {},
   "source": [
    "## 4.3. Модель Xception"
   ]
  },
  {
   "cell_type": "markdown",
   "metadata": {},
   "source": [
    "По аналогии с исследованиями в пункте 3, проведем обучение модели Xception, но в качестве  обучающей и валидационной выборок будем использовать данные, преобразованные с помощью ImageDataAugmentor. Также вместо старой head будем использовать новую, созданную в пп.4.2."
   ]
  },
  {
   "cell_type": "markdown",
   "metadata": {},
   "source": [
    "Начнем, как обычно, с загрузки базовой модели Xception с весами из ImageNet:"
   ]
  },
  {
   "cell_type": "code",
   "execution_count": 68,
   "metadata": {
    "execution": {
     "iopub.execute_input": "2021-11-20T02:34:58.112140Z",
     "iopub.status.busy": "2021-11-20T02:34:58.111753Z",
     "iopub.status.idle": "2021-11-20T02:34:59.331353Z",
     "shell.execute_reply": "2021-11-20T02:34:59.330597Z",
     "shell.execute_reply.started": "2021-11-20T02:34:58.112106Z"
    }
   },
   "outputs": [],
   "source": [
    "# Загружаем базовую часть модели с весами ImageNet, ставим возможность обучения=True\n",
    "base_model = Xception(weights='imagenet',\n",
    "                      include_top=False, input_shape=input_shape)\n",
    "base_model.trainable = True"
   ]
  },
  {
   "cell_type": "markdown",
   "metadata": {},
   "source": [
    "Чтобы сделать код более правильным, не добавлять миллиард генераторов для моделей, которые могут обойтись без rescale - я сделал генератор в единственном виде, а для моделей, которые не могут получать на выход данные без rescale, добавил lambda-слой, реализующий ту же самую функцию.\n",
    "\n",
    "Оптимизатор используем тот же, что и в предыдущем пункте, но заменим постоянный learning rate на ExponentialDecay(при экспериментах с моделями показал результат лучше, чем фиксированный LR).\n",
    "\n",
    "Соберем модель воедино из имеющихся у нас частей и проведем компиляцию:"
   ]
  },
  {
   "cell_type": "code",
   "execution_count": 69,
   "metadata": {
    "execution": {
     "iopub.execute_input": "2021-11-20T02:34:59.333117Z",
     "iopub.status.busy": "2021-11-20T02:34:59.332855Z",
     "iopub.status.idle": "2021-11-20T02:34:59.353557Z",
     "shell.execute_reply": "2021-11-20T02:34:59.352949Z",
     "shell.execute_reply.started": "2021-11-20T02:34:59.333081Z"
    }
   },
   "outputs": [],
   "source": [
    "# Соеднияем Lambda-слой, базовую модель и head в одну модель\n",
    "model_xception = Sequential([\n",
    "    Lambda(lambda x: x/255),  # Слой, реализующий rescale\n",
    "    base_model,\n",
    "    head\n",
    "])\n",
    "# Производим компиляцию модели. Вместо фиксированного learning rate используем ExponentialDecay\n",
    "model_xception.compile(loss=\"categorical_crossentropy\", optimizer=optimizers.Adamax(\n",
    "    learning_rate=ExponentialDecay(LR, decay_steps=100, decay_rate=0.95)), metrics=[\"accuracy\"])"
   ]
  },
  {
   "cell_type": "markdown",
   "metadata": {},
   "source": [
    "Обучаем полученную модель на имеющихся данных:"
   ]
  },
  {
   "cell_type": "code",
   "execution_count": 70,
   "metadata": {
    "execution": {
     "iopub.execute_input": "2021-11-20T02:34:59.354984Z",
     "iopub.status.busy": "2021-11-20T02:34:59.354583Z",
     "iopub.status.idle": "2021-11-20T02:50:55.596578Z",
     "shell.execute_reply": "2021-11-20T02:50:55.595635Z",
     "shell.execute_reply.started": "2021-11-20T02:34:59.354948Z"
    }
   },
   "outputs": [],
   "source": [
    "# Обучаем модель на тренировочной выборке,\n",
    "# проверяем точность на валидационной и тренировочной выборках\n",
    "xception_fit = model_xception.fit(\n",
    "    train_generator,\n",
    "    steps_per_epoch=len(train_generator),\n",
    "    validation_data=val_generator,\n",
    "    validation_steps=len(val_generator),\n",
    "    epochs=EPOCHS,\n",
    "    callbacks=callbacks_list\n",
    ")"
   ]
  },
  {
   "cell_type": "markdown",
   "metadata": {},
   "source": [
    "Сохраним нашу модель и загрузим лучшие веса для нее:"
   ]
  },
  {
   "cell_type": "code",
   "execution_count": 71,
   "metadata": {
    "execution": {
     "iopub.execute_input": "2021-11-20T02:50:55.598411Z",
     "iopub.status.busy": "2021-11-20T02:50:55.598134Z",
     "iopub.status.idle": "2021-11-20T02:50:56.562963Z",
     "shell.execute_reply": "2021-11-20T02:50:56.562175Z",
     "shell.execute_reply.started": "2021-11-20T02:50:55.598375Z"
    }
   },
   "outputs": [],
   "source": [
    "model_xception.save('../working/model_xception1.hdf5')\n",
    "model_xception.load_weights('best_model.hdf5')"
   ]
  },
  {
   "cell_type": "markdown",
   "metadata": {},
   "source": [
    "Проверим полученную точность на валидационных данных с использованием evaluate_generator:"
   ]
  },
  {
   "cell_type": "code",
   "execution_count": 72,
   "metadata": {
    "execution": {
     "iopub.execute_input": "2021-11-20T02:50:56.564881Z",
     "iopub.status.busy": "2021-11-20T02:50:56.564633Z",
     "iopub.status.idle": "2021-11-20T02:51:17.164858Z",
     "shell.execute_reply": "2021-11-20T02:51:17.164109Z",
     "shell.execute_reply.started": "2021-11-20T02:50:56.564848Z"
    }
   },
   "outputs": [],
   "source": [
    "scores = model_xception.evaluate_generator(\n",
    "    val_generator, steps=len(val_generator), verbose=1)\n",
    "print(\"Accuracy: %.2f%%\" % (scores[1]*100))"
   ]
  },
  {
   "cell_type": "markdown",
   "metadata": {},
   "source": [
    "Посмотрим графики потерь и точности предсказаний на тренировончной и валидационной выборках:"
   ]
  },
  {
   "cell_type": "code",
   "execution_count": 73,
   "metadata": {
    "execution": {
     "iopub.execute_input": "2021-11-20T02:51:17.166678Z",
     "iopub.status.busy": "2021-11-20T02:51:17.166270Z",
     "iopub.status.idle": "2021-11-20T02:51:17.590778Z",
     "shell.execute_reply": "2021-11-20T02:51:17.590140Z",
     "shell.execute_reply.started": "2021-11-20T02:51:17.166640Z"
    }
   },
   "outputs": [],
   "source": [
    "acc = xception_fit.history['accuracy']\n",
    "val_acc = xception_fit.history['val_accuracy']\n",
    "loss = xception_fit.history['loss']\n",
    "val_loss = xception_fit.history['val_loss']\n",
    "epochs = range(len(acc))\n",
    "plt.plot(epochs, acc, 'b', label='Training acc')\n",
    "plt.plot(epochs, val_acc, 'r', label='Validation acc')\n",
    "plt.title('Training and validation accuracy')\n",
    "plt.legend()\n",
    "plt.figure()\n",
    "plt.plot(epochs, loss, 'b', label='Training loss')\n",
    "plt.plot(epochs, val_loss, 'r', label='Validation loss')\n",
    "plt.title('Training and validation loss')\n",
    "plt.legend()\n",
    "plt.show()"
   ]
  },
  {
   "cell_type": "markdown",
   "metadata": {},
   "source": [
    "Графики стали более плавными, удалось немного улучшить точность модели. Возможно, если увеличить количество эпох, модель обучится еще лучше, но это слишком долго. Но точность на обучающей выборке все же выше, чем на валидационной, и есть подозрение, что при увеличении эпох разрыв только увеличится.\n",
    "Посмотрим, как поведут себя другие модели."
   ]
  },
  {
   "cell_type": "markdown",
   "metadata": {},
   "source": [
    "## 4.4. Модель Inception_v3"
   ]
  },
  {
   "cell_type": "markdown",
   "metadata": {},
   "source": [
    "Модель InceptionV3 будет исследоваться образом, аналогичным пп.4.3. Для начала мы загрузим базовую часть модели InceptionV3, укажем, что она может обучаться, затем соберем единую модель из частей, которые мы имеем, и обучим полученную модель на данных, полученных с помощью train_generator.\n",
    "\n",
    "**Примечание:** Различные варианты head проверялись для каждой модели, включая эту. Я оставил наиболее универсальный, подходящий для каждой из первых 3 моделей."
   ]
  },
  {
   "cell_type": "code",
   "execution_count": 74,
   "metadata": {
    "execution": {
     "iopub.execute_input": "2021-11-20T02:51:17.592306Z",
     "iopub.status.busy": "2021-11-20T02:51:17.592063Z",
     "iopub.status.idle": "2021-11-20T02:51:19.590295Z",
     "shell.execute_reply": "2021-11-20T02:51:19.589526Z",
     "shell.execute_reply.started": "2021-11-20T02:51:17.592274Z"
    }
   },
   "outputs": [],
   "source": [
    "# Загружаем базовую модель\n",
    "base_model = InceptionV3(\n",
    "    weights='imagenet', include_top=False, input_shape=input_shape)\n",
    "base_model.trainable = True"
   ]
  },
  {
   "cell_type": "markdown",
   "metadata": {},
   "source": [
    "Сделаем единую модель из имеющихся у нас частей и проведем компиляцию:"
   ]
  },
  {
   "cell_type": "code",
   "execution_count": 75,
   "metadata": {
    "execution": {
     "iopub.execute_input": "2021-11-20T02:51:19.591790Z",
     "iopub.status.busy": "2021-11-20T02:51:19.591520Z",
     "iopub.status.idle": "2021-11-20T02:51:19.620051Z",
     "shell.execute_reply": "2021-11-20T02:51:19.619414Z",
     "shell.execute_reply.started": "2021-11-20T02:51:19.591755Z"
    }
   },
   "outputs": [],
   "source": [
    "# Соеднияем Lambda-слой, базовую модель и head в одну модель\n",
    "model_inceptionv3 = Sequential([\n",
    "    Lambda(lambda x: x/255),\n",
    "    base_model,\n",
    "    head\n",
    "])\n",
    "# Проводим компиляцию модели с указанными параметрами\n",
    "model_inceptionv3.compile(loss=\"categorical_crossentropy\", optimizer=optimizers.Adamax(\n",
    "    learning_rate=ExponentialDecay(LR, decay_steps=100, decay_rate=0.95)), metrics=[\"accuracy\"])"
   ]
  },
  {
   "cell_type": "markdown",
   "metadata": {},
   "source": [
    "Обучим полученную модель с использованием данных обучающей выборки, полученных с помощью train_generator. Параллельно с этим будем проверять валидационную точность в течение обучения на валидационной выборке:"
   ]
  },
  {
   "cell_type": "code",
   "execution_count": 76,
   "metadata": {
    "execution": {
     "iopub.execute_input": "2021-11-20T02:51:19.621681Z",
     "iopub.status.busy": "2021-11-20T02:51:19.621419Z",
     "iopub.status.idle": "2021-11-20T03:06:18.517332Z",
     "shell.execute_reply": "2021-11-20T03:06:18.516398Z",
     "shell.execute_reply.started": "2021-11-20T02:51:19.621645Z"
    }
   },
   "outputs": [],
   "source": [
    "# обучаем нашу модель на тренировочной выборке и проводим валидацию в течение 8 эпох\n",
    "inceptionv3_fit = model_inceptionv3.fit(\n",
    "    train_generator,\n",
    "    steps_per_epoch=len(train_generator),\n",
    "    validation_data=val_generator,\n",
    "    validation_steps=len(val_generator),\n",
    "    epochs=EPOCHS,\n",
    "    callbacks=callbacks_list\n",
    ")"
   ]
  },
  {
   "cell_type": "markdown",
   "metadata": {},
   "source": [
    "Сохраним полученную модель и загрузим ее лучшие веса:"
   ]
  },
  {
   "cell_type": "code",
   "execution_count": 77,
   "metadata": {
    "execution": {
     "iopub.execute_input": "2021-11-20T03:06:18.519068Z",
     "iopub.status.busy": "2021-11-20T03:06:18.518780Z",
     "iopub.status.idle": "2021-11-20T03:06:19.845246Z",
     "shell.execute_reply": "2021-11-20T03:06:19.844437Z",
     "shell.execute_reply.started": "2021-11-20T03:06:18.519033Z"
    }
   },
   "outputs": [],
   "source": [
    "model_inceptionv3.save('../working/model_inceptionv3_1.hdf5')\n",
    "model_inceptionv3.load_weights('best_model.hdf5')"
   ]
  },
  {
   "cell_type": "markdown",
   "metadata": {},
   "source": [
    "Проверим валидационную точность с помощью evaluate_generator:"
   ]
  },
  {
   "cell_type": "code",
   "execution_count": 78,
   "metadata": {
    "execution": {
     "iopub.execute_input": "2021-11-20T03:06:19.847193Z",
     "iopub.status.busy": "2021-11-20T03:06:19.846893Z",
     "iopub.status.idle": "2021-11-20T03:06:39.740648Z",
     "shell.execute_reply": "2021-11-20T03:06:39.739639Z",
     "shell.execute_reply.started": "2021-11-20T03:06:19.847160Z"
    }
   },
   "outputs": [],
   "source": [
    "scores = model_inceptionv3.evaluate_generator(\n",
    "    val_generator, steps=len(val_generator), verbose=1)\n",
    "print(\"Accuracy: %.2f%%\" % (scores[1]*100))"
   ]
  },
  {
   "cell_type": "markdown",
   "metadata": {},
   "source": [
    "Посмотрим графики точности и loss-функции для обеих выборок, которые мы использовали:"
   ]
  },
  {
   "cell_type": "code",
   "execution_count": 79,
   "metadata": {
    "execution": {
     "iopub.execute_input": "2021-11-20T03:06:39.742562Z",
     "iopub.status.busy": "2021-11-20T03:06:39.742072Z",
     "iopub.status.idle": "2021-11-20T03:06:40.163545Z",
     "shell.execute_reply": "2021-11-20T03:06:40.162799Z",
     "shell.execute_reply.started": "2021-11-20T03:06:39.742515Z"
    }
   },
   "outputs": [],
   "source": [
    "acc = inceptionv3_fit.history['accuracy']\n",
    "val_acc = inceptionv3_fit.history['val_accuracy']\n",
    "loss = inceptionv3_fit.history['loss']\n",
    "val_loss = inceptionv3_fit.history['val_loss']\n",
    "epochs = range(len(acc))\n",
    "plt.plot(epochs, acc, 'b', label='Training acc')\n",
    "plt.plot(epochs, val_acc, 'r', label='Validation acc')\n",
    "plt.title('Training and validation accuracy')\n",
    "plt.legend()\n",
    "plt.figure()\n",
    "plt.plot(epochs, loss, 'b', label='Training loss')\n",
    "plt.plot(epochs, val_loss, 'r', label='Validation loss')\n",
    "plt.title('Training and validation loss')\n",
    "plt.legend()\n",
    "plt.show()"
   ]
  },
  {
   "cell_type": "markdown",
   "metadata": {},
   "source": [
    "Графики точности и функции потерь гораздо лучше, чем у аналога из пункта 3. Почти на 2/3 обучения точность валидационной выборки выше, чем на обучающей, что хорошо. Также, удалось незначительно улучшить саму метрику."
   ]
  },
  {
   "cell_type": "markdown",
   "metadata": {},
   "source": [
    "## 4.5. Модель ResNet101V2"
   ]
  },
  {
   "cell_type": "markdown",
   "metadata": {},
   "source": [
    "Для модели ResNet101v2 принципиальных различий нет - проделаем те же самые шаги."
   ]
  },
  {
   "cell_type": "code",
   "execution_count": 80,
   "metadata": {
    "execution": {
     "iopub.execute_input": "2021-11-20T03:06:40.165384Z",
     "iopub.status.busy": "2021-11-20T03:06:40.164938Z",
     "iopub.status.idle": "2021-11-20T03:06:42.966702Z",
     "shell.execute_reply": "2021-11-20T03:06:42.965961Z",
     "shell.execute_reply.started": "2021-11-20T03:06:40.165346Z"
    }
   },
   "outputs": [],
   "source": [
    "# загружаем базовую модель с весами ImageNet и указываем, что она может обучаться\n",
    "base_model = ResNet101V2(\n",
    "    weights='imagenet', include_top=False, input_shape=input_shape)\n",
    "base_model.trainable = True"
   ]
  },
  {
   "cell_type": "markdown",
   "metadata": {},
   "source": [
    "Соберем единую модель из имеющихся частей. Как и в пп.4.3 и пп 4.4. используем Lambda-слой, реализующий функцию, аналогичную rescale:"
   ]
  },
  {
   "cell_type": "code",
   "execution_count": 81,
   "metadata": {
    "execution": {
     "iopub.execute_input": "2021-11-20T03:06:42.968146Z",
     "iopub.status.busy": "2021-11-20T03:06:42.967892Z",
     "iopub.status.idle": "2021-11-20T03:06:42.997324Z",
     "shell.execute_reply": "2021-11-20T03:06:42.996701Z",
     "shell.execute_reply.started": "2021-11-20T03:06:42.968114Z"
    }
   },
   "outputs": [],
   "source": [
    "# Собираем все части в одну модель\n",
    "model_resnet101v2 = Sequential([\n",
    "    Lambda(lambda x: x/255),\n",
    "    base_model,\n",
    "    head\n",
    "])\n",
    "# Проводим компиляцию модели с указанными парамтерами\n",
    "model_resnet101v2.compile(loss=\"categorical_crossentropy\", optimizer=optimizers.Adamax(\n",
    "    learning_rate=ExponentialDecay(LR, decay_steps=100, decay_rate=0.95)), metrics=[\"accuracy\"])"
   ]
  },
  {
   "cell_type": "markdown",
   "metadata": {},
   "source": [
    "Проведем обучение модели аналогично предыдущим подпунктам:"
   ]
  },
  {
   "cell_type": "code",
   "execution_count": 82,
   "metadata": {
    "execution": {
     "iopub.execute_input": "2021-11-20T03:06:42.998811Z",
     "iopub.status.busy": "2021-11-20T03:06:42.998551Z",
     "iopub.status.idle": "2021-11-20T03:23:36.512762Z",
     "shell.execute_reply": "2021-11-20T03:23:36.511975Z",
     "shell.execute_reply.started": "2021-11-20T03:06:42.998778Z"
    }
   },
   "outputs": [],
   "source": [
    "# Обучаем модель на тренировочной выборке и проверим ее точность на валидационной выборке:\n",
    "resnet101v2_fit = model_resnet101v2.fit(\n",
    "    train_generator,\n",
    "    steps_per_epoch=len(train_generator),\n",
    "    validation_data=val_generator,\n",
    "    validation_steps=len(val_generator),\n",
    "    epochs=EPOCHS,\n",
    "    callbacks=callbacks_list\n",
    ")"
   ]
  },
  {
   "cell_type": "markdown",
   "metadata": {},
   "source": [
    "Сохраним нашу модель и загрузим лучшие веса:"
   ]
  },
  {
   "cell_type": "code",
   "execution_count": 83,
   "metadata": {
    "execution": {
     "iopub.execute_input": "2021-11-20T03:23:36.518980Z",
     "iopub.status.busy": "2021-11-20T03:23:36.518758Z",
     "iopub.status.idle": "2021-11-20T03:23:38.883190Z",
     "shell.execute_reply": "2021-11-20T03:23:38.882273Z",
     "shell.execute_reply.started": "2021-11-20T03:23:36.518954Z"
    }
   },
   "outputs": [],
   "source": [
    "model_resnet101v2.save('../working/model_resnet101v2_1.hdf5')\n",
    "model_resnet101v2.load_weights('best_model.hdf5')"
   ]
  },
  {
   "cell_type": "markdown",
   "metadata": {},
   "source": [
    "Проверим точность на валидационной выборке с использованием evaluate_generator:"
   ]
  },
  {
   "cell_type": "code",
   "execution_count": 84,
   "metadata": {
    "execution": {
     "iopub.execute_input": "2021-11-20T03:23:38.885354Z",
     "iopub.status.busy": "2021-11-20T03:23:38.885051Z",
     "iopub.status.idle": "2021-11-20T03:23:59.794423Z",
     "shell.execute_reply": "2021-11-20T03:23:59.793309Z",
     "shell.execute_reply.started": "2021-11-20T03:23:38.885322Z"
    }
   },
   "outputs": [],
   "source": [
    "scores = model_resnet101v2.evaluate_generator(\n",
    "    val_generator, steps=len(val_generator), verbose=1)\n",
    "print(\"Accuracy: %.2f%%\" % (scores[1]*100))"
   ]
  },
  {
   "cell_type": "markdown",
   "metadata": {},
   "source": [
    "Построим графики точности и функции потерь для обеих выборок:"
   ]
  },
  {
   "cell_type": "code",
   "execution_count": 85,
   "metadata": {
    "execution": {
     "iopub.execute_input": "2021-11-20T03:23:59.796085Z",
     "iopub.status.busy": "2021-11-20T03:23:59.795825Z",
     "iopub.status.idle": "2021-11-20T03:24:00.322256Z",
     "shell.execute_reply": "2021-11-20T03:24:00.321557Z",
     "shell.execute_reply.started": "2021-11-20T03:23:59.796052Z"
    }
   },
   "outputs": [],
   "source": [
    "acc = inceptionv3_fit.history['accuracy']\n",
    "val_acc = inceptionv3_fit.history['val_accuracy']\n",
    "loss = inceptionv3_fit.history['loss']\n",
    "val_loss = inceptionv3_fit.history['val_loss']\n",
    "epochs = range(len(acc))\n",
    "plt.plot(epochs, acc, 'b', label='Training acc')\n",
    "plt.plot(epochs, val_acc, 'r', label='Validation acc')\n",
    "plt.title('Training and validation accuracy')\n",
    "plt.legend()\n",
    "plt.figure()\n",
    "plt.plot(epochs, loss, 'b', label='Training loss')\n",
    "plt.plot(epochs, val_loss, 'r', label='Validation loss')\n",
    "plt.title('Training and validation loss')\n",
    "plt.legend()\n",
    "plt.show()"
   ]
  },
  {
   "cell_type": "markdown",
   "metadata": {},
   "source": [
    "Как и с предыдущими моделями, графики стали гораздо лучше и плавнее. Валидационные кривые начинают показывать результаты хуже обучающих только к концу обучения. К тому же удалось значительно увеличить точность предсказаний на валидационной выборке - на 15.41%, это очень сильное изменение."
   ]
  },
  {
   "cell_type": "markdown",
   "metadata": {},
   "source": [
    "## 4.5. Модель EfficientNetB3 "
   ]
  },
  {
   "cell_type": "markdown",
   "metadata": {},
   "source": [
    "С моделью EfficientNetB3 получилась отдельная история - как ни пытался, ее результаты получались в среднем процента на 4 меньше, чем в пункте 3. Собственно, это и побудило попробовать разные варианты head, разные настройки для ImageDataAugmentor, попробовать экспоненциальное затухание вместо фиксированного learning rate и даже попробовать регуляризацию функции активации и bias-коэффициентов. Также именно тут я попробовал первый раз использовать Batch-нормализацию для увеличения сходимости. Такая же нормализация используется в начале пункта 4 для создания head.\n",
    "\n",
    "Но старая шапка давала все еще давала метрики хуже, чем в пункте 3, поэтому я решил попробовать сделать другую, так появилась head_new. У нее, как и у обычной head, два варианта реализации, показывающие более-менее одинаковые метрики:\n",
    "1. с закомментированным первым Dense-слоем и используемым вторым Dense-слоем\n",
    "2. с закомментированным вторым Dense-слоем и используемым первым Dense-слоем\n",
    "\n",
    "Я оставил первый вариант, мне он показался чуть лучше. Необходимо отметить, что глобальный пуллинг с использованием среднего значения тоже дал результаты лучше, чем max-пуллинг, поэтому в финальной версии я использую его.\n",
    "\n",
    "Вариант с использованием экспоненциального затухания по итогу дал не самые лучшие результаты при EfficientNetB3, однако хорошо усвоился предыдущими тремя сетями. Поэтому здесь я решил использовать ReduceLROnPlateau. Данный способ позволяет уменьшить learning rate в случае, если нет положительного прогресса исследуемой метрики в течение **patience** эпох. Скорость обучения при этом изменияется по принципу **lr_new=lr*factor**.\n",
    "\n",
    "С помощью сети, основанной на EfficientNetB3, я сделал первые два сабмита. Точность в них различается на ~0.5%. Поэтому я оставил только вариант, где в ImageDataAugmentor используются все  настройки из пп.4.1. Вторым вариантом было не использовать настройки a.RandomBrightnessContrast, он и дал чуть более хороший результат, но при этом переобучение наступало гораздо раньше, чем в первом случае.\n",
    "\n",
    "Ниже представлены этапы создания модели."
   ]
  },
  {
   "cell_type": "markdown",
   "metadata": {},
   "source": [
    "Создадим новую head:"
   ]
  },
  {
   "cell_type": "code",
   "execution_count": 86,
   "metadata": {
    "execution": {
     "iopub.execute_input": "2021-11-20T03:24:00.328157Z",
     "iopub.status.busy": "2021-11-20T03:24:00.326202Z",
     "iopub.status.idle": "2021-11-20T03:24:00.347848Z",
     "shell.execute_reply": "2021-11-20T03:24:00.346916Z",
     "shell.execute_reply.started": "2021-11-20T03:24:00.328111Z"
    }
   },
   "outputs": [],
   "source": [
    "# Создаем head_new, которую будем использовать в дальнейшем для создания модели\n",
    "head_new = Sequential([\n",
    "    GlobalAveragePooling2D(),  # Используем пуллинг со средним значением\n",
    "    #Dense(256, activation='relu',bias_regularizer=l2(1e-3),activity_regularizer=l2(1e-4)),\n",
    "    BatchNormalization(),  # Используем batch-нормализацию\n",
    "    Dropout(0.25),   # Dropout- слой с p=0.25\n",
    "    Dense(256, activation='relu', bias_regularizer=l2(1e-3),\n",
    "          activity_regularizer=l2(1e-4)),  # Dense-слой с l2 регуляризацией\n",
    "    BatchNormalization(),  # Batch- нормализация\n",
    "    # выходной слой на 10 классов и функцией активации softmax\n",
    "    Dense(CLASS_NUM, activation='softmax')\n",
    "])"
   ]
  },
  {
   "cell_type": "markdown",
   "metadata": {},
   "source": [
    "В случае, если использовать закомментированный слой вместо текущего Dense- слоя, метрики получаются немного хуже."
   ]
  },
  {
   "cell_type": "markdown",
   "metadata": {},
   "source": [
    "Обновим Callback, добавив в него уменьшение learning rate в случае, если нет улучшения метрики в течение двух эпох"
   ]
  },
  {
   "cell_type": "code",
   "execution_count": 87,
   "metadata": {
    "execution": {
     "iopub.execute_input": "2021-11-20T03:24:00.349793Z",
     "iopub.status.busy": "2021-11-20T03:24:00.349473Z",
     "iopub.status.idle": "2021-11-20T03:24:00.357344Z",
     "shell.execute_reply": "2021-11-20T03:24:00.356526Z",
     "shell.execute_reply.started": "2021-11-20T03:24:00.349756Z"
    }
   },
   "outputs": [],
   "source": [
    "# Объявим новый коллбэк, который будет уменьшать скорость обучения в случае, если функция потерь не уменьшается в течение 2 эпох\n",
    "lr_scheduler = ReduceLROnPlateau(monitor='val_loss',\n",
    "                                 factor=0.5,  # уменьшим lr в 2 раза\n",
    "                                 patience=2,  # если нет улучшения через 2 эпохи - уменьшить lr\n",
    "\n",
    "                                 min_lr=0.0000001,  # минимальная скорость обучения\n",
    "                                 verbose=1,  # выводить сообщения об уменьшении скорости\n",
    "                                 mode='auto')  # выбранный способ отслеживания метрики\n",
    "\n",
    "# создадим новый список коллбэков, который будем использовать\n",
    "callbacks_list1 = [checkpoint, earlystop, lr_scheduler]"
   ]
  },
  {
   "cell_type": "markdown",
   "metadata": {},
   "source": [
    "Загрузим базовую часть модели EfficientNetB3 с весами ImageNet:"
   ]
  },
  {
   "cell_type": "code",
   "execution_count": 88,
   "metadata": {
    "execution": {
     "iopub.execute_input": "2021-11-20T03:24:00.359142Z",
     "iopub.status.busy": "2021-11-20T03:24:00.358824Z",
     "iopub.status.idle": "2021-11-20T03:24:02.837710Z",
     "shell.execute_reply": "2021-11-20T03:24:02.836921Z",
     "shell.execute_reply.started": "2021-11-20T03:24:00.359107Z"
    }
   },
   "outputs": [],
   "source": [
    "# Загрузим базовую модель и укажем, что она может обучаться\n",
    "base_model = EfficientNetB3(\n",
    "    weights='imagenet', include_top=False, input_shape=input_shape)\n",
    "base_model.trainable = True"
   ]
  },
  {
   "cell_type": "markdown",
   "metadata": {},
   "source": [
    "Соберем в единую сеть все имеющиеся у нас части:\n",
    "\n",
    "**Примечание :** В данном случае Lambda-слой не нужен, так как модель получает на вход тензоры пикселей со значениями в диапазоне от 0 до 255."
   ]
  },
  {
   "cell_type": "code",
   "execution_count": 89,
   "metadata": {
    "execution": {
     "iopub.execute_input": "2021-11-20T03:24:02.839373Z",
     "iopub.status.busy": "2021-11-20T03:24:02.839103Z",
     "iopub.status.idle": "2021-11-20T03:24:03.831713Z",
     "shell.execute_reply": "2021-11-20T03:24:03.830959Z",
     "shell.execute_reply.started": "2021-11-20T03:24:02.839340Z"
    }
   },
   "outputs": [],
   "source": [
    "# Соберем нашу исследуемую модель, используя head_new:\n",
    "model_efficientnetb3 = Sequential([\n",
    "    base_model,\n",
    "    head_new\n",
    "])\n",
    "# Проведем компиляцию модели с приведенными параметрами\n",
    "model_efficientnetb3.compile(loss=\"categorical_crossentropy\", optimizer=optimizers.Adamax(\n",
    "    learning_rate=LR), metrics=[\"accuracy\"])"
   ]
  },
  {
   "cell_type": "markdown",
   "metadata": {},
   "source": [
    "Теперь проведем обучение нашей модели, используя новый список коллбэков (callbacks_list1):"
   ]
  },
  {
   "cell_type": "code",
   "execution_count": 90,
   "metadata": {
    "execution": {
     "iopub.execute_input": "2021-11-20T03:24:03.833242Z",
     "iopub.status.busy": "2021-11-20T03:24:03.833002Z",
     "iopub.status.idle": "2021-11-20T03:45:21.991475Z",
     "shell.execute_reply": "2021-11-20T03:45:21.990613Z",
     "shell.execute_reply.started": "2021-11-20T03:24:03.833201Z"
    }
   },
   "outputs": [],
   "source": [
    "# Проведем обучение модели с использованием тренировочной выборки и посмотрим метрики на валидационной выборке:\n",
    "efficientnetb3_fit = model_efficientnetb3.fit(\n",
    "    train_generator,\n",
    "    steps_per_epoch=len(train_generator),\n",
    "    validation_data=val_generator,\n",
    "    validation_steps=len(val_generator),\n",
    "    epochs=EPOCHS,\n",
    "    callbacks=callbacks_list1  # Новый список коллбэков\n",
    ")"
   ]
  },
  {
   "cell_type": "markdown",
   "metadata": {},
   "source": [
    "Сохраним нашу модель и загрузим лучшие веса:"
   ]
  },
  {
   "cell_type": "code",
   "execution_count": 91,
   "metadata": {
    "execution": {
     "iopub.execute_input": "2021-11-20T03:45:21.996058Z",
     "iopub.status.busy": "2021-11-20T03:45:21.995008Z",
     "iopub.status.idle": "2021-11-20T03:45:23.690518Z",
     "shell.execute_reply": "2021-11-20T03:45:23.689673Z",
     "shell.execute_reply.started": "2021-11-20T03:45:21.996015Z"
    }
   },
   "outputs": [],
   "source": [
    "model_efficientnetb3.save('../working/model_efficientnetb3_1.hdf5')\n",
    "model_efficientnetb3.load_weights('best_model.hdf5')"
   ]
  },
  {
   "cell_type": "markdown",
   "metadata": {},
   "source": [
    "Посмотрим точность на валидационной выборке с помощью evaluate_generator:"
   ]
  },
  {
   "cell_type": "code",
   "execution_count": 92,
   "metadata": {
    "execution": {
     "iopub.execute_input": "2021-11-20T03:45:23.692697Z",
     "iopub.status.busy": "2021-11-20T03:45:23.692428Z",
     "iopub.status.idle": "2021-11-20T03:45:44.120603Z",
     "shell.execute_reply": "2021-11-20T03:45:44.119901Z",
     "shell.execute_reply.started": "2021-11-20T03:45:23.692663Z"
    }
   },
   "outputs": [],
   "source": [
    "scores = model_efficientnetb3.evaluate_generator(\n",
    "    val_generator, steps=len(val_generator), verbose=1)\n",
    "print(\"Accuracy: %.2f%%\" % (scores[1]*100))"
   ]
  },
  {
   "cell_type": "markdown",
   "metadata": {},
   "source": [
    "Посмотрим графики точности и функции потерь на обучающей и валидационной выборках:"
   ]
  },
  {
   "cell_type": "code",
   "execution_count": 93,
   "metadata": {
    "execution": {
     "iopub.execute_input": "2021-11-20T03:45:44.122442Z",
     "iopub.status.busy": "2021-11-20T03:45:44.122041Z",
     "iopub.status.idle": "2021-11-20T03:45:44.560439Z",
     "shell.execute_reply": "2021-11-20T03:45:44.559740Z",
     "shell.execute_reply.started": "2021-11-20T03:45:44.122397Z"
    }
   },
   "outputs": [],
   "source": [
    "acc = efficientnetb3_fit.history['accuracy']\n",
    "val_acc = efficientnetb3_fit.history['val_accuracy']\n",
    "loss = efficientnetb3_fit.history['loss']\n",
    "val_loss = efficientnetb3_fit.history['val_loss']\n",
    "epochs = range(len(acc))\n",
    "plt.plot(epochs, acc, 'b', label='Training acc')\n",
    "plt.plot(epochs, val_acc, 'r', label='Validation acc')\n",
    "plt.title('Training and validation accuracy')\n",
    "plt.legend()\n",
    "plt.figure()\n",
    "plt.plot(epochs, loss, 'b', label='Training loss')\n",
    "plt.plot(epochs, val_loss, 'r', label='Validation loss')\n",
    "plt.title('Training and validation loss')\n",
    "plt.legend()\n",
    "plt.show()"
   ]
  },
  {
   "cell_type": "markdown",
   "metadata": {},
   "source": []
  },
  {
   "cell_type": "markdown",
   "metadata": {},
   "source": [
    "Сделаем Submit. Для этого, сначала сделаем генератор для тестовых данных:"
   ]
  },
  {
   "cell_type": "code",
   "execution_count": 94,
   "metadata": {
    "execution": {
     "iopub.execute_input": "2021-11-20T03:45:44.563190Z",
     "iopub.status.busy": "2021-11-20T03:45:44.561581Z",
     "iopub.status.idle": "2021-11-20T03:45:44.655577Z",
     "shell.execute_reply": "2021-11-20T03:45:44.654922Z",
     "shell.execute_reply.started": "2021-11-20T03:45:44.563145Z"
    }
   },
   "outputs": [],
   "source": [
    "# создадим генератор для тестовых данных\n",
    "test_datagen = ImageDataAugmentor()\n",
    "submission_generator = test_datagen.flow_from_dataframe(dataframe=sample_submission,\n",
    "                                                        directory=PATH+'test_upload/',\n",
    "                                                        x_col=\"Id\",\n",
    "                                                        y_col=None,\n",
    "                                                        shuffle=False,\n",
    "                                                        class_mode=None,\n",
    "                                                        target_size=(\n",
    "                                                            V_IMG_SIZE, H_IMG_SIZE),\n",
    "                                                        batch_size=BATCH_SIZE)"
   ]
  },
  {
   "cell_type": "markdown",
   "metadata": {},
   "source": [
    "Сделаем предсказание на тестовых данных, используя predict_generator:"
   ]
  },
  {
   "cell_type": "code",
   "execution_count": 95,
   "metadata": {
    "execution": {
     "iopub.execute_input": "2021-11-20T03:45:44.657230Z",
     "iopub.status.busy": "2021-11-20T03:45:44.656670Z",
     "iopub.status.idle": "2021-11-20T03:46:25.661935Z",
     "shell.execute_reply": "2021-11-20T03:46:25.661215Z",
     "shell.execute_reply.started": "2021-11-20T03:45:44.657192Z"
    }
   },
   "outputs": [],
   "source": [
    "predictions = model_efficientnetb3.predict_generator(\n",
    "    submission_generator, steps=len(submission_generator), verbose=1)\n",
    "predictions = np.argmax(predictions, axis=-1)  # multiple categories\n",
    "label_map = (train_generator.class_indices)\n",
    "label_map = dict((v, k) for k, v in label_map.items())  # flip k,v\n",
    "predictions = [label_map[k] for k in predictions]"
   ]
  },
  {
   "cell_type": "markdown",
   "metadata": {},
   "source": [
    "Сохраним предсказания в submission и сделаем сабмит:"
   ]
  },
  {
   "cell_type": "code",
   "execution_count": 96,
   "metadata": {
    "execution": {
     "iopub.execute_input": "2021-11-20T03:46:25.664137Z",
     "iopub.status.busy": "2021-11-20T03:46:25.663588Z",
     "iopub.status.idle": "2021-11-20T03:46:25.694989Z",
     "shell.execute_reply": "2021-11-20T03:46:25.694312Z",
     "shell.execute_reply.started": "2021-11-20T03:46:25.664097Z"
    }
   },
   "outputs": [],
   "source": [
    "filenames_w_dir = submission_generator.filenames\n",
    "submission = pd.DataFrame(\n",
    "    {'Id': filenames_w_dir, 'Category': predictions}, columns=['Id', 'Category'])\n",
    "submission['Id'] = submission['Id'].replace('test_upload/', '')\n",
    "submission.to_csv('submission_EfNetB3.csv', index=False)"
   ]
  },
  {
   "cell_type": "markdown",
   "metadata": {},
   "source": [
    "Посмотрим как выглядит результат:"
   ]
  },
  {
   "cell_type": "code",
   "execution_count": 97,
   "metadata": {
    "execution": {
     "iopub.execute_input": "2021-11-20T03:46:25.696589Z",
     "iopub.status.busy": "2021-11-20T03:46:25.696332Z",
     "iopub.status.idle": "2021-11-20T03:46:25.705134Z",
     "shell.execute_reply": "2021-11-20T03:46:25.704258Z",
     "shell.execute_reply.started": "2021-11-20T03:46:25.696555Z"
    }
   },
   "outputs": [],
   "source": [
    "submission.head()"
   ]
  },
  {
   "cell_type": "markdown",
   "metadata": {},
   "source": [
    "По итогу выполнения подпункта я получил 2 сабмита:\n",
    "1. С настройками яркости и контраста\n",
    "1. Без настроек яркости и контраста\n",
    "\n",
    "Сами результаты разительно не отличаются, примерно в 0.5%. \n",
    "\n",
    "Здесь я оставил только финальный результат, потому что процесс выполнения документа становился довольно большим. Второй вариант не отличается ни чем, кроме самих настроек в ImageDataAugmentor.\n",
    "\n",
    "По итогам выполнения различных моделей, я выбрал для финального сабмита именно EfficientNetB3. Она обладает наилучшими графиками исследуемой метрики."
   ]
  },
  {
   "cell_type": "markdown",
   "metadata": {},
   "source": [
    "# 5. Выводы по моделям"
   ]
  },
  {
   "cell_type": "markdown",
   "metadata": {},
   "source": [
    "В результате исследования я получил различные прогнозы по четырем моделям: Xception, InceptionV3, ResNet101V2, EfficientNetB3.\n",
    "\n",
    "Надо сказать, что все исследования проводились при размере изображения 150х150, что могло сильно повлиять на обучение моделей. Валидационная точность у моделей получилась примерно следующая:\n",
    "1. Xception без ImageDataAugmentor'a:90.99%\n",
    "2. Xception с ImageDataAugmentor'ом:91.06%\n",
    "3. InceptionV3 без ImageDataAugmentor'a:88.29%\n",
    "4. InceptionV3 с ImageDataAugmentor'ом:89.64%\n",
    "5. ResNet101V2 без ImageDataAugmentor'a:74.59%\n",
    "6. ResNet101V2 с ImageDataAugmentor'ом:90.02%\n",
    "7. EfficientNetB3 без ImageDataAugmentor'a:91.64%\n",
    "8. EfficientNetB3 с ImageDataAugmentor'ом:91.87%\n",
    "\n",
    "Отмечу, что модель ResNet101V2 показала себя хуже всего в данной задаче, однако именно ее метрики получили ощутимый прирост в результате изменения способа аугментации. На остальных же моделях результат не настолько ощутим, как в ее случае.\n",
    "\n",
    "Модели, полученные в пункте 3 могут обладать довольно неплохой точностью, однако их графики исследуемых метрик имеют видимые провалы на некоторых эпохах обучения, а также почти везде присутствует переобучение.\n",
    "\n",
    "В пункте 4, где исследовались модели с другим способом аугментации, а также изменненной \"головой\", графики получились более плавными, немного уменьшилось переобучение и увеличилась метрика валидационной точности. В случае с EfficientNetB3, разительного изменения в точности не наблюдается, однако есть большие изменения в графиках исследуемых характеристик.\n",
    "\n",
    "Для дальнейшего улучшения метрик, возможно, необходимо было бы еще подумать над структурой головы, а также над способами аугментации и параметрами, используемыми при ней. Возможно стоит снова рассмотреть различные комбинации скорости обучения и используемого способа оптимизации. Но так как квота не бесконечная, а за ее рамки в 37 часов я уже один раз вышел, это останется только теорией о том, как можно улучшить точность предсказаний.\n",
    "\n",
    "Единственное, что стоит еще отметить - вероятно, при бОльшем исходном дата-сете, используемом для обучения и валидации, метрики получились бы лучше, особенно если при этом будет соблюдаться отсутствие доминирования определенного класса в выборках.\n",
    "\n",
    "В качестве модели, используемой для финального сабмита я решил использовать EfficientNetB3. Я не могу сказать, что хорошо выбрал все параметры для этой модели, также как и для других, но именно в ее случае графики функции потерь и точности получились наилучшими: почти на всем этапе обучения точность на валидационной выборке выше, чем на обучающей, а функция потерь на валидации почти на всем обучении ниже. Перед тем как сделать сам сабмит, я попробую использовать тонкую настройку модели:\n",
    "1. Обучим сеть с \"замороженной\" базовой частью\n",
    "2. Обучим сеть снова с \"замороженной\" половиной слоев базовой части\n",
    "3. Обучим сеть в третий раз с \"замороженной\" 1\\4 слоев базовой части\n",
    "4. Обучим сеть финальный раз с полностью размороженной базовой частью\n",
    "\n",
    "После этого сделаем финальный сабмит.\n",
    "\n"
   ]
  },
  {
   "cell_type": "markdown",
   "metadata": {},
   "source": [
    "# 6. Fine-Tuning и финальный Submission"
   ]
  },
  {
   "cell_type": "markdown",
   "metadata": {},
   "source": [
    "## 6.1. Применение Fine-Tuning к модели EfficientNetB3"
   ]
  },
  {
   "cell_type": "markdown",
   "metadata": {},
   "source": [
    "На данном этапе было несколько исследований модели с использованием fine-tuning'а. Один сабмит сделан без изменения размера ( дал около 95% точность на тестовой выборке против 93,7% без тонкой настройки), финальный сабмит сделан уже с изменением размера изображения со 150х150 на 240х240. Количество эпох на первых трех этапах увеличено до 10, последний этап увеличен до 15 эпох."
   ]
  },
  {
   "cell_type": "markdown",
   "metadata": {},
   "source": [
    "Изменим размер изображения:"
   ]
  },
  {
   "cell_type": "code",
   "execution_count": 98,
   "metadata": {
    "execution": {
     "iopub.execute_input": "2021-11-20T03:46:25.706731Z",
     "iopub.status.busy": "2021-11-20T03:46:25.706426Z",
     "iopub.status.idle": "2021-11-20T03:46:25.714241Z",
     "shell.execute_reply": "2021-11-20T03:46:25.712344Z",
     "shell.execute_reply.started": "2021-11-20T03:46:25.706697Z"
    }
   },
   "outputs": [],
   "source": [
    "H_IMG_SIZE = 240  # Горизонтальный размер изображения\n",
    "V_IMG_SIZE = 240  # Вертикальный размер изображения"
   ]
  },
  {
   "cell_type": "markdown",
   "metadata": {},
   "source": [
    "Для наглядности скопируем голову из пп 4.5., чтобы не искать ее выше:"
   ]
  },
  {
   "cell_type": "code",
   "execution_count": 99,
   "metadata": {
    "execution": {
     "iopub.execute_input": "2021-11-20T03:46:25.716097Z",
     "iopub.status.busy": "2021-11-20T03:46:25.715352Z",
     "iopub.status.idle": "2021-11-20T03:46:25.730115Z",
     "shell.execute_reply": "2021-11-20T03:46:25.729342Z",
     "shell.execute_reply.started": "2021-11-20T03:46:25.716060Z"
    }
   },
   "outputs": [],
   "source": [
    "head_new = Sequential([\n",
    "    GlobalAveragePooling2D(),\n",
    "    BatchNormalization(),\n",
    "    Dropout(0.25),\n",
    "    Dense(256, activation='relu', bias_regularizer=l2(\n",
    "        1e-3), activity_regularizer=l2(1e-4)),\n",
    "    BatchNormalization(),\n",
    "    Dense(CLASS_NUM, activation='softmax')\n",
    "])"
   ]
  },
  {
   "cell_type": "markdown",
   "metadata": {},
   "source": [
    "Добавим еще один параметр к аугментациям ImageDataAugmentor - a.RGBShift:"
   ]
  },
  {
   "cell_type": "code",
   "execution_count": 100,
   "metadata": {
    "execution": {
     "iopub.execute_input": "2021-11-20T03:46:25.731983Z",
     "iopub.status.busy": "2021-11-20T03:46:25.731280Z",
     "iopub.status.idle": "2021-11-20T03:46:25.740580Z",
     "shell.execute_reply": "2021-11-20T03:46:25.739857Z",
     "shell.execute_reply.started": "2021-11-20T03:46:25.731942Z"
    }
   },
   "outputs": [],
   "source": [
    "augment_module = a.Compose([\n",
    "    # добавляем размытие по Гауссу и шум с вероятностью 7%\n",
    "    a.Blur(p=0.07),\n",
    "    a.GaussNoise(p=0.07),\n",
    "    #  Установим параметры сдвига,поворота и масштабирования, а также укажем их вероятность.\n",
    "    a.ShiftScaleRotate(shift_limit=0.08,\n",
    "                       scale_limit=0.05,\n",
    "                       border_mode=4,\n",
    "                       rotate_limit=20,\n",
    "                       p=0.7),\n",
    "\n",
    "    a.RGBShift(),\n",
    "    a.HueSaturationValue(),  # случайный оттенок и насыщенность\n",
    "    a.HorizontalFlip(),\n",
    "\n",
    "    a.Resize(V_IMG_SIZE, H_IMG_SIZE),\n",
    "    # установим случайную яркость и контрастность изображений с вероятностью 50%\n",
    "\n",
    "    a.OneOf([\n",
    "            a.RandomBrightnessContrast(\n",
    "                brightness_limit=0.3, contrast_limit=0.3),\n",
    "            a.RandomBrightnessContrast(brightness_limit=0.1, contrast_limit=0.1)],\n",
    "            p=0.3)\n",
    "])"
   ]
  },
  {
   "cell_type": "markdown",
   "metadata": {},
   "source": [
    "Теперь, используя созданный выше блок, запишем параметры для генератора:"
   ]
  },
  {
   "cell_type": "code",
   "execution_count": 101,
   "metadata": {
    "execution": {
     "iopub.execute_input": "2021-11-20T03:46:25.741797Z",
     "iopub.status.busy": "2021-11-20T03:46:25.741568Z",
     "iopub.status.idle": "2021-11-20T03:46:25.754481Z",
     "shell.execute_reply": "2021-11-20T03:46:25.753706Z",
     "shell.execute_reply.started": "2021-11-20T03:46:25.741760Z"
    }
   },
   "outputs": [],
   "source": [
    "# Подготовка параметров для аугментации:\n",
    "all_datagen2 = ImageDataAugmentor(\n",
    "    augment=augment_module,\n",
    "    seed=RANDOM_SEED,\n",
    "    validation_split=VAL_SPLIT)"
   ]
  },
  {
   "cell_type": "markdown",
   "metadata": {},
   "source": [
    "Запустим генератор для того, чтобы получить аугментированные изображения:"
   ]
  },
  {
   "cell_type": "code",
   "execution_count": 102,
   "metadata": {
    "execution": {
     "iopub.execute_input": "2021-11-20T03:46:25.756163Z",
     "iopub.status.busy": "2021-11-20T03:46:25.755394Z",
     "iopub.status.idle": "2021-11-20T03:46:25.764021Z",
     "shell.execute_reply": "2021-11-20T03:46:25.763291Z",
     "shell.execute_reply.started": "2021-11-20T03:46:25.756074Z"
    }
   },
   "outputs": [],
   "source": [
    "# Сбросим генераторы\n",
    "train_generator.reset()\n",
    "val_generator.reset()"
   ]
  },
  {
   "cell_type": "markdown",
   "metadata": {},
   "source": [
    "Запустим генераторы для аугментации изображений:"
   ]
  },
  {
   "cell_type": "code",
   "execution_count": 103,
   "metadata": {
    "execution": {
     "iopub.execute_input": "2021-11-20T03:46:25.766234Z",
     "iopub.status.busy": "2021-11-20T03:46:25.765494Z",
     "iopub.status.idle": "2021-11-20T03:46:26.924983Z",
     "shell.execute_reply": "2021-11-20T03:46:26.924210Z",
     "shell.execute_reply.started": "2021-11-20T03:46:25.766200Z"
    }
   },
   "outputs": [],
   "source": [
    "train_generator = all_datagen2.flow_from_directory(\n",
    "    PATH+'train/',\n",
    "    target_size=(V_IMG_SIZE, H_IMG_SIZE),\n",
    "    batch_size=BATCH_SIZE,\n",
    "    class_mode='categorical',\n",
    "    shuffle=True,\n",
    "    subset='training')\n",
    "\n",
    "val_generator = all_datagen2.flow_from_directory(\n",
    "    PATH+'train/',\n",
    "    target_size=(V_IMG_SIZE, H_IMG_SIZE),\n",
    "    batch_size=BATCH_SIZE,\n",
    "    class_mode='categorical',\n",
    "    shuffle=True,\n",
    "    subset='validation')"
   ]
  },
  {
   "cell_type": "markdown",
   "metadata": {},
   "source": [
    "Изменим коллбэки: так как модель обучается постепенно с разморозкой слоев, в процессе может возникать переобучение, поэтому EarlyStopping может прервать обучение до заверешния этапа обучения, что может негативно сказаться на всем процессе. Поэтому будем использовать только Checkpoint и ReduceLROnPlateau:"
   ]
  },
  {
   "cell_type": "code",
   "execution_count": 104,
   "metadata": {
    "execution": {
     "iopub.execute_input": "2021-11-20T03:46:26.926665Z",
     "iopub.status.busy": "2021-11-20T03:46:26.926113Z",
     "iopub.status.idle": "2021-11-20T03:46:26.932584Z",
     "shell.execute_reply": "2021-11-20T03:46:26.930427Z",
     "shell.execute_reply.started": "2021-11-20T03:46:26.926625Z"
    }
   },
   "outputs": [],
   "source": [
    "# Обновим коллбэки\n",
    "callbacks_list2 = [checkpoint, lr_scheduler]"
   ]
  },
  {
   "cell_type": "markdown",
   "metadata": {},
   "source": [
    "Загрузим базовую модель с весами ImageNet, укажем возможность обучения = False:"
   ]
  },
  {
   "cell_type": "code",
   "execution_count": 105,
   "metadata": {
    "execution": {
     "iopub.execute_input": "2021-11-20T03:46:26.935055Z",
     "iopub.status.busy": "2021-11-20T03:46:26.933658Z",
     "iopub.status.idle": "2021-11-20T03:46:29.310720Z",
     "shell.execute_reply": "2021-11-20T03:46:29.309765Z",
     "shell.execute_reply.started": "2021-11-20T03:46:26.935015Z"
    }
   },
   "outputs": [],
   "source": [
    "# Загрузим модель и установим trainable=False\n",
    "base_model = EfficientNetB3(\n",
    "    weights='imagenet', include_top=False, input_shape=input_shape)\n",
    "base_model.trainable = False"
   ]
  },
  {
   "cell_type": "markdown",
   "metadata": {},
   "source": [
    "Посмотрим количество слоев в базовой модели:"
   ]
  },
  {
   "cell_type": "code",
   "execution_count": 106,
   "metadata": {
    "execution": {
     "iopub.execute_input": "2021-11-20T03:46:29.312618Z",
     "iopub.status.busy": "2021-11-20T03:46:29.312351Z",
     "iopub.status.idle": "2021-11-20T03:46:29.318866Z",
     "shell.execute_reply": "2021-11-20T03:46:29.318124Z",
     "shell.execute_reply.started": "2021-11-20T03:46:29.312581Z"
    }
   },
   "outputs": [],
   "source": [
    "len(base_model.layers)"
   ]
  },
  {
   "cell_type": "markdown",
   "metadata": {},
   "source": [
    "Соберем модель из base_model и head_new и проведем компиляцию:"
   ]
  },
  {
   "cell_type": "code",
   "execution_count": 107,
   "metadata": {
    "execution": {
     "iopub.execute_input": "2021-11-20T03:46:29.320781Z",
     "iopub.status.busy": "2021-11-20T03:46:29.320234Z",
     "iopub.status.idle": "2021-11-20T03:46:30.330342Z",
     "shell.execute_reply": "2021-11-20T03:46:30.329539Z",
     "shell.execute_reply.started": "2021-11-20T03:46:29.320741Z"
    }
   },
   "outputs": [],
   "source": [
    "# Собираем модель\n",
    "model_efficientnetb3_ft = Sequential([\n",
    "    base_model,\n",
    "    head_new\n",
    "])\n",
    "# Проведем компиляцию с указанными параметрами\n",
    "model_efficientnetb3_ft.compile(loss=\"categorical_crossentropy\", optimizer=optimizers.Adamax(\n",
    "    learning_rate=LR), metrics=[\"accuracy\"])"
   ]
  },
  {
   "cell_type": "markdown",
   "metadata": {},
   "source": [
    "Теперь обучим модель:"
   ]
  },
  {
   "cell_type": "code",
   "execution_count": 108,
   "metadata": {
    "execution": {
     "iopub.execute_input": "2021-11-20T03:46:30.333816Z",
     "iopub.status.busy": "2021-11-20T03:46:30.331534Z",
     "iopub.status.idle": "2021-11-20T04:07:02.128053Z",
     "shell.execute_reply": "2021-11-20T04:07:02.127205Z",
     "shell.execute_reply.started": "2021-11-20T03:46:30.333781Z"
    }
   },
   "outputs": [],
   "source": [
    "# Обучение модели на тренировочной выброке и проверка валидационной точности на валидационной выборке\n",
    "efficientnetb3_ft_fit = model_efficientnetb3_ft.fit(\n",
    "    train_generator,\n",
    "    steps_per_epoch=len(train_generator),\n",
    "    validation_data=val_generator,\n",
    "    validation_steps=len(val_generator),\n",
    "    epochs=10,\n",
    "    callbacks=callbacks_list2\n",
    ")"
   ]
  },
  {
   "cell_type": "markdown",
   "metadata": {},
   "source": [
    "Сохраним полученную модель и загрузим лучшие веса:"
   ]
  },
  {
   "cell_type": "code",
   "execution_count": 109,
   "metadata": {
    "execution": {
     "iopub.execute_input": "2021-11-20T04:07:02.130147Z",
     "iopub.status.busy": "2021-11-20T04:07:02.129860Z",
     "iopub.status.idle": "2021-11-20T04:07:04.239283Z",
     "shell.execute_reply": "2021-11-20T04:07:04.238521Z",
     "shell.execute_reply.started": "2021-11-20T04:07:02.130112Z"
    }
   },
   "outputs": [],
   "source": [
    "model_efficientnetb3_ft.save('../working/model_efficientnetb3_ft.hdf5')\n",
    "model_efficientnetb3_ft.load_weights('best_model.hdf5')"
   ]
  },
  {
   "cell_type": "markdown",
   "metadata": {},
   "source": [
    "Посмотрим точность для модели, базовая часть которой была заморожена и не обучалась:"
   ]
  },
  {
   "cell_type": "code",
   "execution_count": 110,
   "metadata": {
    "execution": {
     "iopub.execute_input": "2021-11-20T04:07:04.241200Z",
     "iopub.status.busy": "2021-11-20T04:07:04.240951Z",
     "iopub.status.idle": "2021-11-20T04:07:45.357195Z",
     "shell.execute_reply": "2021-11-20T04:07:45.356402Z",
     "shell.execute_reply.started": "2021-11-20T04:07:04.241167Z"
    }
   },
   "outputs": [],
   "source": [
    "scores = model_efficientnetb3_ft.evaluate_generator(\n",
    "    val_generator, steps=len(val_generator), verbose=1)\n",
    "print(\"Accuracy: %.2f%%\" % (scores[1]*100))"
   ]
  },
  {
   "cell_type": "markdown",
   "metadata": {},
   "source": [
    "Посмотрим графики train и val accuracy и loss:"
   ]
  },
  {
   "cell_type": "code",
   "execution_count": 111,
   "metadata": {
    "execution": {
     "iopub.execute_input": "2021-11-20T04:07:45.358921Z",
     "iopub.status.busy": "2021-11-20T04:07:45.358631Z",
     "iopub.status.idle": "2021-11-20T04:07:45.769561Z",
     "shell.execute_reply": "2021-11-20T04:07:45.768791Z",
     "shell.execute_reply.started": "2021-11-20T04:07:45.358883Z"
    }
   },
   "outputs": [],
   "source": [
    "acc = efficientnetb3_ft_fit.history['accuracy']\n",
    "val_acc = efficientnetb3_ft_fit.history['val_accuracy']\n",
    "loss = efficientnetb3_ft_fit.history['loss']\n",
    "val_loss = efficientnetb3_ft_fit.history['val_loss']\n",
    "epochs = range(len(acc))\n",
    "plt.plot(epochs, acc, 'b', label='Training acc')\n",
    "plt.plot(epochs, val_acc, 'r', label='Validation acc')\n",
    "plt.title('Training and validation accuracy')\n",
    "plt.legend()\n",
    "plt.figure()\n",
    "plt.plot(epochs, loss, 'b', label='Training loss')\n",
    "plt.plot(epochs, val_loss, 'r', label='Validation loss')\n",
    "plt.title('Training and validation loss')\n",
    "plt.legend()\n",
    "plt.show()"
   ]
  },
  {
   "cell_type": "markdown",
   "metadata": {},
   "source": [
    "Как мы видим, обучение достаточно хорошее, на всем промежутке метрики на валидационной выборке гораздо лучше, чем на обучающей."
   ]
  },
  {
   "cell_type": "markdown",
   "metadata": {},
   "source": [
    "Теперь разморозим половину слоев базовой части модели:"
   ]
  },
  {
   "cell_type": "code",
   "execution_count": 112,
   "metadata": {
    "execution": {
     "iopub.execute_input": "2021-11-20T04:07:45.771281Z",
     "iopub.status.busy": "2021-11-20T04:07:45.771002Z",
     "iopub.status.idle": "2021-11-20T04:07:45.795861Z",
     "shell.execute_reply": "2021-11-20T04:07:45.794950Z",
     "shell.execute_reply.started": "2021-11-20T04:07:45.771244Z"
    }
   },
   "outputs": [],
   "source": [
    "# Разморозим все слои модели\n",
    "base_model.trainable = True\n",
    "# Заморозим слои с 0 по len(base_model.layers)//2\n",
    "for layer in base_model.layers[:len(base_model.layers)//2]:\n",
    "    layer.trainable = False"
   ]
  },
  {
   "cell_type": "markdown",
   "metadata": {},
   "source": [
    "Посмотрим, сколько переменных доступно для обучения:"
   ]
  },
  {
   "cell_type": "code",
   "execution_count": 113,
   "metadata": {
    "execution": {
     "iopub.execute_input": "2021-11-20T04:07:45.797616Z",
     "iopub.status.busy": "2021-11-20T04:07:45.797290Z",
     "iopub.status.idle": "2021-11-20T04:07:45.808298Z",
     "shell.execute_reply": "2021-11-20T04:07:45.807606Z",
     "shell.execute_reply.started": "2021-11-20T04:07:45.797580Z"
    }
   },
   "outputs": [],
   "source": [
    "len(base_model.trainable_variables)"
   ]
  },
  {
   "cell_type": "markdown",
   "metadata": {},
   "source": [
    "Проведем компиляцию модели:"
   ]
  },
  {
   "cell_type": "code",
   "execution_count": 114,
   "metadata": {
    "execution": {
     "iopub.execute_input": "2021-11-20T04:07:45.811596Z",
     "iopub.status.busy": "2021-11-20T04:07:45.811222Z",
     "iopub.status.idle": "2021-11-20T04:07:45.829368Z",
     "shell.execute_reply": "2021-11-20T04:07:45.828746Z",
     "shell.execute_reply.started": "2021-11-20T04:07:45.811559Z"
    }
   },
   "outputs": [],
   "source": [
    "model_efficientnetb3_ft.compile(loss=\"categorical_crossentropy\", optimizer=optimizers.Adamax(\n",
    "    learning_rate=LR), metrics=[\"accuracy\"])"
   ]
  },
  {
   "cell_type": "markdown",
   "metadata": {},
   "source": [
    "Проведем дообучение модели:"
   ]
  },
  {
   "cell_type": "code",
   "execution_count": 115,
   "metadata": {
    "execution": {
     "iopub.execute_input": "2021-11-20T04:07:45.830705Z",
     "iopub.status.busy": "2021-11-20T04:07:45.830390Z",
     "iopub.status.idle": "2021-11-20T04:30:54.186151Z",
     "shell.execute_reply": "2021-11-20T04:30:54.185230Z",
     "shell.execute_reply.started": "2021-11-20T04:07:45.830670Z"
    }
   },
   "outputs": [],
   "source": [
    "efficientnetb3_ft_fit = model_efficientnetb3_ft.fit(\n",
    "    train_generator,\n",
    "    steps_per_epoch=len(train_generator),\n",
    "    validation_data=val_generator,\n",
    "    validation_steps=len(val_generator),\n",
    "    epochs=10,\n",
    "    callbacks=callbacks_list2\n",
    ")"
   ]
  },
  {
   "cell_type": "markdown",
   "metadata": {},
   "source": [
    "Сохраним результат обучения и загрузим лучшие веса:"
   ]
  },
  {
   "cell_type": "code",
   "execution_count": 116,
   "metadata": {
    "execution": {
     "iopub.execute_input": "2021-11-20T04:30:54.193267Z",
     "iopub.status.busy": "2021-11-20T04:30:54.192568Z",
     "iopub.status.idle": "2021-11-20T04:30:55.587078Z",
     "shell.execute_reply": "2021-11-20T04:30:55.586304Z",
     "shell.execute_reply.started": "2021-11-20T04:30:54.193232Z"
    }
   },
   "outputs": [],
   "source": [
    "model_efficientnetb3_ft.save('../working/model_efficientnetb3_ft1.hdf5')\n",
    "model_efficientnetb3_ft.load_weights('best_model.hdf5')"
   ]
  },
  {
   "cell_type": "markdown",
   "metadata": {},
   "source": [
    "Проверим точность на валидационной выборке для модели, половина слоев которой была разморожена:"
   ]
  },
  {
   "cell_type": "code",
   "execution_count": 117,
   "metadata": {
    "execution": {
     "iopub.execute_input": "2021-11-20T04:30:55.590532Z",
     "iopub.status.busy": "2021-11-20T04:30:55.588478Z",
     "iopub.status.idle": "2021-11-20T04:31:19.513783Z",
     "shell.execute_reply": "2021-11-20T04:31:19.512971Z",
     "shell.execute_reply.started": "2021-11-20T04:30:55.590485Z"
    }
   },
   "outputs": [],
   "source": [
    "scores = model_efficientnetb3_ft.evaluate_generator(\n",
    "    val_generator, steps=len(val_generator), verbose=1)\n",
    "print(\"Accuracy: %.2f%%\" % (scores[1]*100))"
   ]
  },
  {
   "cell_type": "markdown",
   "metadata": {},
   "source": [
    "Посмотрим графики точности и функции потерь для обеих выборок:"
   ]
  },
  {
   "cell_type": "code",
   "execution_count": 118,
   "metadata": {
    "execution": {
     "iopub.execute_input": "2021-11-20T04:31:19.515593Z",
     "iopub.status.busy": "2021-11-20T04:31:19.515347Z",
     "iopub.status.idle": "2021-11-20T04:31:19.936699Z",
     "shell.execute_reply": "2021-11-20T04:31:19.935931Z",
     "shell.execute_reply.started": "2021-11-20T04:31:19.515555Z"
    }
   },
   "outputs": [],
   "source": [
    "acc = efficientnetb3_ft_fit.history['accuracy']\n",
    "val_acc = efficientnetb3_ft_fit.history['val_accuracy']\n",
    "loss = efficientnetb3_ft_fit.history['loss']\n",
    "val_loss = efficientnetb3_ft_fit.history['val_loss']\n",
    "epochs = range(len(acc))\n",
    "plt.plot(epochs, acc, 'b', label='Training acc')\n",
    "plt.plot(epochs, val_acc, 'r', label='Validation acc')\n",
    "plt.title('Training and validation accuracy')\n",
    "plt.legend()\n",
    "plt.figure()\n",
    "plt.plot(epochs, loss, 'b', label='Training loss')\n",
    "plt.plot(epochs, val_loss, 'r', label='Validation loss')\n",
    "plt.title('Training and validation loss')\n",
    "plt.legend()\n",
    "plt.show()"
   ]
  },
  {
   "cell_type": "markdown",
   "metadata": {},
   "source": [
    "Графики стали немного хуже, однако мы имеем хорошие показатели, уже близкие к тем, которые мы получали без тонкой настройки."
   ]
  },
  {
   "cell_type": "markdown",
   "metadata": {},
   "source": [
    "Теперь разморозим 3/4 слоев модели и проведем повторное обучение:"
   ]
  },
  {
   "cell_type": "code",
   "execution_count": 119,
   "metadata": {
    "execution": {
     "iopub.execute_input": "2021-11-20T04:31:19.938637Z",
     "iopub.status.busy": "2021-11-20T04:31:19.938364Z",
     "iopub.status.idle": "2021-11-20T04:31:19.965333Z",
     "shell.execute_reply": "2021-11-20T04:31:19.964320Z",
     "shell.execute_reply.started": "2021-11-20T04:31:19.938600Z"
    }
   },
   "outputs": [],
   "source": [
    "# Разморозим все слои модели\n",
    "base_model.trainable = True\n",
    "# Заморозим 1\\4 нижних слоев модели\n",
    "for layer in base_model.layers[:len(base_model.layers)//4]:\n",
    "    layer.trainable = False"
   ]
  },
  {
   "cell_type": "markdown",
   "metadata": {},
   "source": [
    "Посмотрим количество переменных, доступных для обучения:"
   ]
  },
  {
   "cell_type": "code",
   "execution_count": 120,
   "metadata": {
    "execution": {
     "iopub.execute_input": "2021-11-20T04:31:19.968631Z",
     "iopub.status.busy": "2021-11-20T04:31:19.968349Z",
     "iopub.status.idle": "2021-11-20T04:31:19.977302Z",
     "shell.execute_reply": "2021-11-20T04:31:19.976269Z",
     "shell.execute_reply.started": "2021-11-20T04:31:19.968589Z"
    }
   },
   "outputs": [],
   "source": [
    "len(base_model.trainable_variables)"
   ]
  },
  {
   "cell_type": "markdown",
   "metadata": {},
   "source": [
    "Проведем компиляцию модели:"
   ]
  },
  {
   "cell_type": "code",
   "execution_count": 121,
   "metadata": {
    "execution": {
     "iopub.execute_input": "2021-11-20T04:31:19.979577Z",
     "iopub.status.busy": "2021-11-20T04:31:19.979087Z",
     "iopub.status.idle": "2021-11-20T04:31:20.017515Z",
     "shell.execute_reply": "2021-11-20T04:31:20.016754Z",
     "shell.execute_reply.started": "2021-11-20T04:31:19.979539Z"
    }
   },
   "outputs": [],
   "source": [
    "model_efficientnetb3_ft.compile(loss=\"categorical_crossentropy\", optimizer=optimizers.Adamax(\n",
    "    learning_rate=LR), metrics=[\"accuracy\"])"
   ]
  },
  {
   "cell_type": "markdown",
   "metadata": {},
   "source": [
    "Проведем дообучение модели:"
   ]
  },
  {
   "cell_type": "code",
   "execution_count": 122,
   "metadata": {
    "execution": {
     "iopub.execute_input": "2021-11-20T04:31:20.019291Z",
     "iopub.status.busy": "2021-11-20T04:31:20.018953Z",
     "iopub.status.idle": "2021-11-20T04:56:11.678422Z",
     "shell.execute_reply": "2021-11-20T04:56:11.677594Z",
     "shell.execute_reply.started": "2021-11-20T04:31:20.019253Z"
    }
   },
   "outputs": [],
   "source": [
    "efficientnetb3_ft_fit = model_efficientnetb3_ft.fit(\n",
    "    train_generator,\n",
    "    steps_per_epoch=len(train_generator),\n",
    "    validation_data=val_generator,\n",
    "    validation_steps=len(val_generator),\n",
    "    epochs=10,\n",
    "    callbacks=callbacks_list2\n",
    ")"
   ]
  },
  {
   "cell_type": "markdown",
   "metadata": {},
   "source": [
    "Сохраним результат и загрузим лучшие веса:"
   ]
  },
  {
   "cell_type": "code",
   "execution_count": 123,
   "metadata": {
    "execution": {
     "iopub.execute_input": "2021-11-20T04:56:11.682694Z",
     "iopub.status.busy": "2021-11-20T04:56:11.682485Z",
     "iopub.status.idle": "2021-11-20T04:56:13.081375Z",
     "shell.execute_reply": "2021-11-20T04:56:13.070851Z",
     "shell.execute_reply.started": "2021-11-20T04:56:11.682668Z"
    }
   },
   "outputs": [],
   "source": [
    "model_efficientnetb3_ft.save('../working/model_efficientnetb3_ft2.hdf5')\n",
    "model_efficientnetb3_ft.load_weights('best_model.hdf5')"
   ]
  },
  {
   "cell_type": "markdown",
   "metadata": {},
   "source": [
    "Проверим точность на валидационной выборке для модели, 3/4 слоев которой разморожены:"
   ]
  },
  {
   "cell_type": "code",
   "execution_count": 124,
   "metadata": {
    "execution": {
     "iopub.execute_input": "2021-11-20T04:56:13.083518Z",
     "iopub.status.busy": "2021-11-20T04:56:13.083249Z",
     "iopub.status.idle": "2021-11-20T04:56:36.924422Z",
     "shell.execute_reply": "2021-11-20T04:56:36.923299Z",
     "shell.execute_reply.started": "2021-11-20T04:56:13.083482Z"
    }
   },
   "outputs": [],
   "source": [
    "scores = model_efficientnetb3_ft.evaluate_generator(\n",
    "    val_generator, steps=len(val_generator), verbose=1)\n",
    "print(\"Accuracy: %.2f%%\" % (scores[1]*100))"
   ]
  },
  {
   "cell_type": "markdown",
   "metadata": {},
   "source": [
    "Посмотрим графики точности и функции потерь для обеих выборок:"
   ]
  },
  {
   "cell_type": "code",
   "execution_count": 125,
   "metadata": {
    "execution": {
     "iopub.execute_input": "2021-11-20T04:56:36.926135Z",
     "iopub.status.busy": "2021-11-20T04:56:36.925852Z",
     "iopub.status.idle": "2021-11-20T04:56:37.484053Z",
     "shell.execute_reply": "2021-11-20T04:56:37.483314Z",
     "shell.execute_reply.started": "2021-11-20T04:56:36.926100Z"
    }
   },
   "outputs": [],
   "source": [
    "acc = efficientnetb3_ft_fit.history['accuracy']\n",
    "val_acc = efficientnetb3_ft_fit.history['val_accuracy']\n",
    "loss = efficientnetb3_ft_fit.history['loss']\n",
    "val_loss = efficientnetb3_ft_fit.history['val_loss']\n",
    "epochs = range(len(acc))\n",
    "plt.plot(epochs, acc, 'b', label='Training acc')\n",
    "plt.plot(epochs, val_acc, 'r', label='Validation acc')\n",
    "plt.title('Training and validation accuracy')\n",
    "plt.legend()\n",
    "plt.figure()\n",
    "plt.plot(epochs, loss, 'b', label='Training loss')\n",
    "plt.plot(epochs, val_loss, 'r', label='Validation loss')\n",
    "plt.title('Training and validation loss')\n",
    "plt.legend()\n",
    "plt.show()"
   ]
  },
  {
   "cell_type": "markdown",
   "metadata": {},
   "source": [
    "Качество графиков еще ухудшилось, но, возможно это связано с тем, что мы теперь наблюдаем маленькое изменение значений по оси y"
   ]
  },
  {
   "cell_type": "markdown",
   "metadata": {},
   "source": [
    "Разморозим всю модель и проведем дообучение:"
   ]
  },
  {
   "cell_type": "code",
   "execution_count": 126,
   "metadata": {
    "execution": {
     "iopub.execute_input": "2021-11-20T04:56:37.490179Z",
     "iopub.status.busy": "2021-11-20T04:56:37.488067Z",
     "iopub.status.idle": "2021-11-20T04:56:37.513553Z",
     "shell.execute_reply": "2021-11-20T04:56:37.512970Z",
     "shell.execute_reply.started": "2021-11-20T04:56:37.490140Z"
    }
   },
   "outputs": [],
   "source": [
    "base_model.trainable = True"
   ]
  },
  {
   "cell_type": "markdown",
   "metadata": {},
   "source": [
    "Проведем компиляцию модели:"
   ]
  },
  {
   "cell_type": "code",
   "execution_count": 127,
   "metadata": {
    "execution": {
     "iopub.execute_input": "2021-11-20T04:56:37.518812Z",
     "iopub.status.busy": "2021-11-20T04:56:37.516962Z",
     "iopub.status.idle": "2021-11-20T04:56:37.567348Z",
     "shell.execute_reply": "2021-11-20T04:56:37.566674Z",
     "shell.execute_reply.started": "2021-11-20T04:56:37.518778Z"
    }
   },
   "outputs": [],
   "source": [
    "model_efficientnetb3_ft.compile(loss=\"categorical_crossentropy\", optimizer=optimizers.Adamax(\n",
    "    learning_rate=LR), metrics=[\"accuracy\"])"
   ]
  },
  {
   "cell_type": "markdown",
   "metadata": {},
   "source": [
    "Проведем дообучение модели:"
   ]
  },
  {
   "cell_type": "code",
   "execution_count": 128,
   "metadata": {
    "execution": {
     "iopub.execute_input": "2021-11-20T04:56:37.572856Z",
     "iopub.status.busy": "2021-11-20T04:56:37.570982Z",
     "iopub.status.idle": "2021-11-20T05:58:58.380038Z",
     "shell.execute_reply": "2021-11-20T05:58:58.379208Z",
     "shell.execute_reply.started": "2021-11-20T04:56:37.572820Z"
    }
   },
   "outputs": [],
   "source": [
    "efficientnetb3_ft_fit = model_efficientnetb3_ft.fit(\n",
    "    train_generator,\n",
    "    steps_per_epoch=len(train_generator),\n",
    "    validation_data=val_generator,\n",
    "    validation_steps=len(val_generator),\n",
    "    epochs=15,\n",
    "    callbacks=callbacks_list2\n",
    ")"
   ]
  },
  {
   "cell_type": "markdown",
   "metadata": {},
   "source": [
    "Сохраним результат и загрузим лучшие веса:"
   ]
  },
  {
   "cell_type": "code",
   "execution_count": 129,
   "metadata": {
    "execution": {
     "iopub.execute_input": "2021-11-20T05:58:58.381991Z",
     "iopub.status.busy": "2021-11-20T05:58:58.381610Z",
     "iopub.status.idle": "2021-11-20T05:58:59.861500Z",
     "shell.execute_reply": "2021-11-20T05:58:59.860560Z",
     "shell.execute_reply.started": "2021-11-20T05:58:58.381941Z"
    }
   },
   "outputs": [],
   "source": [
    "model_efficientnetb3_ft.save('../working/model_efficientnetb3_ft3.hdf5')\n",
    "model_efficientnetb3_ft.load_weights('best_model.hdf5')"
   ]
  },
  {
   "cell_type": "markdown",
   "metadata": {},
   "source": [
    "Проверим точность полученной нами модели:"
   ]
  },
  {
   "cell_type": "code",
   "execution_count": 130,
   "metadata": {
    "execution": {
     "iopub.execute_input": "2021-11-20T05:58:59.863639Z",
     "iopub.status.busy": "2021-11-20T05:58:59.863387Z",
     "iopub.status.idle": "2021-11-20T05:59:23.836697Z",
     "shell.execute_reply": "2021-11-20T05:59:23.835878Z",
     "shell.execute_reply.started": "2021-11-20T05:58:59.863607Z"
    }
   },
   "outputs": [],
   "source": [
    "scores = model_efficientnetb3_ft.evaluate_generator(\n",
    "    val_generator, steps=len(val_generator), verbose=1)\n",
    "print(\"Accuracy: %.2f%%\" % (scores[1]*100))"
   ]
  },
  {
   "cell_type": "markdown",
   "metadata": {},
   "source": [
    "Посмотрим графики функции точности и функции потерь для обеих выборок:"
   ]
  },
  {
   "cell_type": "code",
   "execution_count": 131,
   "metadata": {
    "execution": {
     "iopub.execute_input": "2021-11-20T05:59:23.838465Z",
     "iopub.status.busy": "2021-11-20T05:59:23.838172Z",
     "iopub.status.idle": "2021-11-20T05:59:24.324070Z",
     "shell.execute_reply": "2021-11-20T05:59:24.323343Z",
     "shell.execute_reply.started": "2021-11-20T05:59:23.838428Z"
    }
   },
   "outputs": [],
   "source": [
    "acc = efficientnetb3_ft_fit.history['accuracy']\n",
    "val_acc = efficientnetb3_ft_fit.history['val_accuracy']\n",
    "loss = efficientnetb3_ft_fit.history['loss']\n",
    "val_loss = efficientnetb3_ft_fit.history['val_loss']\n",
    "epochs = range(len(acc))\n",
    "plt.plot(epochs, acc, 'b', label='Training acc')\n",
    "plt.plot(epochs, val_acc, 'r', label='Validation acc')\n",
    "plt.title('Training and validation accuracy')\n",
    "plt.legend()\n",
    "plt.figure()\n",
    "plt.plot(epochs, loss, 'b', label='Training loss')\n",
    "plt.plot(epochs, val_loss, 'r', label='Validation loss')\n",
    "plt.title('Training and validation loss')\n",
    "plt.legend()\n",
    "plt.show()"
   ]
  },
  {
   "cell_type": "markdown",
   "metadata": {},
   "source": [
    "Финальным результатом получилось еще немного улучшить метрику точности и функции потерь. Графики ведут себя немного скачкообразно, однако мы так же наблюдаем эти изменения на маленьком диапазоне значений по y, поэтому они кажутся настолько ломаными."
   ]
  },
  {
   "cell_type": "markdown",
   "metadata": {},
   "source": [
    "## 6.2. Финальный Submit"
   ]
  },
  {
   "cell_type": "markdown",
   "metadata": {},
   "source": [
    "Создадим и запустим генератор для аугментации изображений тестовой выборки:"
   ]
  },
  {
   "cell_type": "code",
   "execution_count": 132,
   "metadata": {
    "execution": {
     "iopub.execute_input": "2021-11-20T05:59:24.325817Z",
     "iopub.status.busy": "2021-11-20T05:59:24.325398Z",
     "iopub.status.idle": "2021-11-20T05:59:24.399015Z",
     "shell.execute_reply": "2021-11-20T05:59:24.398247Z",
     "shell.execute_reply.started": "2021-11-20T05:59:24.325780Z"
    }
   },
   "outputs": [],
   "source": [
    "test_datagen1 = ImageDataAugmentor()\n",
    "submission_generator = test_datagen1.flow_from_dataframe(dataframe=sample_submission,\n",
    "                                                         directory=PATH+'test_upload/',\n",
    "                                                         x_col=\"Id\",\n",
    "                                                         y_col=None,\n",
    "                                                         shuffle=False,\n",
    "                                                         class_mode=None,\n",
    "                                                         target_size=(\n",
    "                                                             V_IMG_SIZE, H_IMG_SIZE),\n",
    "                                                         batch_size=BATCH_SIZE)"
   ]
  },
  {
   "cell_type": "markdown",
   "metadata": {},
   "source": [
    "Сделаем предсказания на тестовых данных, полученных из submission_generator:"
   ]
  },
  {
   "cell_type": "code",
   "execution_count": 133,
   "metadata": {
    "execution": {
     "iopub.execute_input": "2021-11-20T05:59:24.401022Z",
     "iopub.status.busy": "2021-11-20T05:59:24.400304Z",
     "iopub.status.idle": "2021-11-20T06:00:07.510468Z",
     "shell.execute_reply": "2021-11-20T06:00:07.509751Z",
     "shell.execute_reply.started": "2021-11-20T05:59:24.400984Z"
    }
   },
   "outputs": [],
   "source": [
    "predictions = model_efficientnetb3_ft.predict_generator(\n",
    "    submission_generator, steps=len(submission_generator), verbose=1)\n",
    "predictions = np.argmax(predictions, axis=-1)  # multiple categories\n",
    "label_map = (train_generator.class_indices)\n",
    "label_map = dict((v, k) for k, v in label_map.items())  # flip k,v\n",
    "predictions = [label_map[k] for k in predictions]"
   ]
  },
  {
   "cell_type": "markdown",
   "metadata": {},
   "source": [
    "Создадим submission и запишем в него результаты предсказаний:"
   ]
  },
  {
   "cell_type": "code",
   "execution_count": 134,
   "metadata": {
    "execution": {
     "iopub.execute_input": "2021-11-20T06:00:07.512612Z",
     "iopub.status.busy": "2021-11-20T06:00:07.511828Z",
     "iopub.status.idle": "2021-11-20T06:00:07.535186Z",
     "shell.execute_reply": "2021-11-20T06:00:07.534527Z",
     "shell.execute_reply.started": "2021-11-20T06:00:07.512571Z"
    }
   },
   "outputs": [],
   "source": [
    "filenames = submission_generator.filenames\n",
    "submission = pd.DataFrame(\n",
    "    {'Id': filenames, 'Category': predictions}, columns=['Id', 'Category'])\n",
    "submission['Id'] = submission['Id'].replace('test_upload/', '')\n",
    "submission.to_csv('submission_EfNetB3_Fine-Tune+size.csv', index=False)"
   ]
  },
  {
   "cell_type": "markdown",
   "metadata": {},
   "source": [
    "# 7. Выводы по проекту"
   ]
  },
  {
   "cell_type": "markdown",
   "metadata": {},
   "source": [
    "Данный проект позволил изучить различные параметры и модели сетей. В процессе выполнения приходилось использовать разные способы улучшения метрик, изучать параметры, думать как лучше модифицировать код.\n",
    "\n",
    "Результатом выполнения проекта стал финальный сабмит с точностью:\n",
    "\n",
    "Для дальнейшего улучшения метрик можно сделать следующее:\n",
    "1. Увеличить размер train'а\n",
    "2. Более тонко подойти к выбору параметров для аугментации изображений\n",
    "3. Попробовать различные размеры изображений, которые допускает та или иная модель\n",
    "4. Попробовать ансамблирование моделей\n",
    "5. Провести более детальное исследование по различным способам аугментации и выбрать наиболее выгодный\n",
    "6. Рассмотреть другие примеры сетей, пользуясь сайтом papperswithcode\n",
    "7. Рассмотреть различные варианты head для каждой модели\n",
    "\n",
    "В целом, выполнение проекта получилось объемным, но в процессе я изучил и запомнил много различной информации, необходимой для дальнейшей работы с нейронными сетями.\n",
    "    Проект получилось сдать только после дедлайна, но это произошло в результате того, что я сильно увлекся с экспериментами и выработал весь лимит на использование GPU в неделю. Пришлось ждать еженедельного сброса, чтобы была возможность сохранить документ."
   ]
  },
  {
   "cell_type": "code",
   "execution_count": null,
   "metadata": {},
   "outputs": [],
   "source": []
  }
 ],
 "metadata": {
  "kernelspec": {
   "display_name": "Python 3",
   "language": "python",
   "name": "python3"
  },
  "language_info": {
   "codemirror_mode": {
    "name": "ipython",
    "version": 3
   },
   "file_extension": ".py",
   "mimetype": "text/x-python",
   "name": "python",
   "nbconvert_exporter": "python",
   "pygments_lexer": "ipython3",
   "version": "3.8.3"
  }
 },
 "nbformat": 4,
 "nbformat_minor": 4
}
