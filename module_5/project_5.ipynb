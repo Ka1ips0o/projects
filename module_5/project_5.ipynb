{
 "cells": [
  {
   "cell_type": "markdown",
   "metadata": {
    "papermill": {
     "duration": 0.31912,
     "end_time": "2021-07-21T11:57:35.397260",
     "exception": false,
     "start_time": "2021-07-21T11:57:35.078140",
     "status": "completed"
    },
    "tags": []
   },
   "source": [
    "<img src=\"https://whatcar.vn/media/2018/09/car-lot-940x470.jpg\"/>\n",
    "\n",
    "## Прогнозирование стоимости автомобиля по характеристикам\n",
    "\n",
    "Задача: спрогнозировать стоимость автомобилей, используя данные \n",
    "\n"
   ]
  },
  {
   "cell_type": "markdown",
   "metadata": {
    "papermill": {
     "duration": 0.279997,
     "end_time": "2021-07-21T11:57:35.958501",
     "exception": false,
     "start_time": "2021-07-21T11:57:35.678504",
     "status": "completed"
    },
    "tags": []
   },
   "source": [
    "Помним, что по условию соревнования, нам нужно самостоятельно собрать обучающий датасет. Для этого, перед обработкой данных, предварительно проведем парсинг данных с сайта auto.ru."
   ]
  },
  {
   "cell_type": "markdown",
   "metadata": {
    "papermill": {
     "duration": 0.326874,
     "end_time": "2021-07-21T11:57:36.567600",
     "exception": false,
     "start_time": "2021-07-21T11:57:36.240726",
     "status": "completed"
    },
    "tags": []
   },
   "source": [
    "# 0. Import"
   ]
  },
  {
   "cell_type": "code",
   "execution_count": 1,
   "metadata": {
    "_cell_guid": "b1076dfc-b9ad-4769-8c92-a6c4dae69d19",
    "_uuid": "8f2839f25d086af736a60e9eeb907d3b93b6e0e5",
    "execution": {
     "iopub.execute_input": "2021-07-21T11:57:37.158230Z",
     "iopub.status.busy": "2021-07-21T11:57:37.156927Z",
     "iopub.status.idle": "2021-07-21T11:57:40.253851Z",
     "shell.execute_reply": "2021-07-21T11:57:40.253051Z",
     "shell.execute_reply.started": "2021-07-21T11:19:55.692061Z"
    },
    "papermill": {
     "duration": 3.411355,
     "end_time": "2021-07-21T11:57:40.253994",
     "exception": false,
     "start_time": "2021-07-21T11:57:36.842639",
     "status": "completed"
    },
    "tags": []
   },
   "outputs": [],
   "source": [
    "from sklearn.base import clone\n",
    "from sklearn.neighbors import KNeighborsRegressor\n",
    "from sklearn.ensemble import ExtraTreesRegressor\n",
    "from sklearn.preprocessing import StandardScaler\n",
    "from sklearn.ensemble import GradientBoostingRegressor, StackingRegressor\n",
    "from sklearn.linear_model import LinearRegression\n",
    "from sklearn.model_selection import GridSearchCV\n",
    "from sklearn.feature_selection import f_classif, mutual_info_classif\n",
    "from pandas import Series\n",
    "import seaborn as sns\n",
    "import matplotlib.pyplot as plt\n",
    "import numpy as np  # linear algebra\n",
    "import pandas as pd  # data processing, CSV file I/O (e.g. pd.read_csv)\n",
    "import sys\n",
    "import time\n",
    "from datetime import datetime\n",
    "import requests as r\n",
    "import json\n",
    "from bs4 import BeautifulSoup\n",
    "from sklearn.ensemble import RandomForestRegressor\n",
    "from sklearn.preprocessing import PolynomialFeatures\n",
    "from sklearn.model_selection import train_test_split\n",
    "from sklearn.model_selection import KFold, RandomizedSearchCV\n",
    "from tqdm.notebook import tqdm\n",
    "from catboost import CatBoostRegressor\n",
    "from sklearn.preprocessing import LabelEncoder\n",
    "import pandas_profiling\n",
    "import warnings\n",
    "warnings.simplefilter('ignore')"
   ]
  },
  {
   "cell_type": "code",
   "execution_count": 2,
   "metadata": {
    "_kg_hide-input": true,
    "execution": {
     "iopub.execute_input": "2021-07-21T11:57:40.825802Z",
     "iopub.status.busy": "2021-07-21T11:57:40.825066Z",
     "iopub.status.idle": "2021-07-21T11:57:40.834890Z",
     "shell.execute_reply": "2021-07-21T11:57:40.833648Z",
     "shell.execute_reply.started": "2021-07-21T11:19:56.193368Z"
    },
    "papermill": {
     "duration": 0.302994,
     "end_time": "2021-07-21T11:57:40.835094",
     "exception": false,
     "start_time": "2021-07-21T11:57:40.532100",
     "status": "completed"
    },
    "tags": []
   },
   "outputs": [
    {
     "name": "stdout",
     "output_type": "stream",
     "text": [
      "Python       : 3.7.6 | packaged by conda-forge | (default, Mar 23 2020, 23:03:20) \n",
      "Numpy        : 1.18.5\n"
     ]
    }
   ],
   "source": [
    "print('Python       :', sys.version.split('\\n')[0])\n",
    "print('Numpy        :', np.__version__)"
   ]
  },
  {
   "cell_type": "code",
   "execution_count": 3,
   "metadata": {
    "_kg_hide-input": true,
    "execution": {
     "iopub.execute_input": "2021-07-21T11:57:41.398483Z",
     "iopub.status.busy": "2021-07-21T11:57:41.397783Z",
     "iopub.status.idle": "2021-07-21T11:57:44.435738Z",
     "shell.execute_reply": "2021-07-21T11:57:44.435108Z",
     "shell.execute_reply.started": "2021-07-21T11:19:56.215783Z"
    },
    "papermill": {
     "duration": 3.318399,
     "end_time": "2021-07-21T11:57:44.435889",
     "exception": false,
     "start_time": "2021-07-21T11:57:41.117490",
     "status": "completed"
    },
    "tags": []
   },
   "outputs": [],
   "source": [
    "# зафиксируем версию пакетов, чтобы эксперименты были воспроизводимы:\n",
    "!pip freeze > requirements.txt"
   ]
  },
  {
   "cell_type": "code",
   "execution_count": 4,
   "metadata": {
    "execution": {
     "iopub.execute_input": "2021-07-21T11:57:45.002214Z",
     "iopub.status.busy": "2021-07-21T11:57:45.001397Z",
     "iopub.status.idle": "2021-07-21T11:57:45.004767Z",
     "shell.execute_reply": "2021-07-21T11:57:45.005480Z",
     "shell.execute_reply.started": "2021-07-21T11:19:58.235867Z"
    },
    "papermill": {
     "duration": 0.293209,
     "end_time": "2021-07-21T11:57:45.005647",
     "exception": false,
     "start_time": "2021-07-21T11:57:44.712438",
     "status": "completed"
    },
    "tags": []
   },
   "outputs": [],
   "source": [
    "# всегда фиксируйте RANDOM_SEED, чтобы ваши эксперименты были воспроизводимы!\n",
    "RANDOM_SEED = 76"
   ]
  },
  {
   "cell_type": "markdown",
   "metadata": {
    "papermill": {
     "duration": 0.287894,
     "end_time": "2021-07-21T11:57:45.610102",
     "exception": false,
     "start_time": "2021-07-21T11:57:45.322208",
     "status": "completed"
    },
    "tags": []
   },
   "source": [
    "## 0.1. Функции, используемые в проекте"
   ]
  },
  {
   "cell_type": "code",
   "execution_count": 5,
   "metadata": {
    "_kg_hide-input": true,
    "execution": {
     "iopub.execute_input": "2021-07-21T11:57:46.177679Z",
     "iopub.status.busy": "2021-07-21T11:57:46.176603Z",
     "iopub.status.idle": "2021-07-21T11:57:46.179368Z",
     "shell.execute_reply": "2021-07-21T11:57:46.179918Z",
     "shell.execute_reply.started": "2021-07-21T11:19:58.242627Z"
    },
    "papermill": {
     "duration": 0.288468,
     "end_time": "2021-07-21T11:57:46.180070",
     "exception": false,
     "start_time": "2021-07-21T11:57:45.891602",
     "status": "completed"
    },
    "tags": []
   },
   "outputs": [],
   "source": [
    "# Средняя абсолютная ошибка в %\n",
    "def mape(y_true, y_pred):\n",
    "    return np.mean(np.abs((y_pred-y_true)/y_true))"
   ]
  },
  {
   "cell_type": "markdown",
   "metadata": {
    "papermill": {
     "duration": 0.278383,
     "end_time": "2021-07-21T11:57:46.736329",
     "exception": false,
     "start_time": "2021-07-21T11:57:46.457946",
     "status": "completed"
    },
    "tags": []
   },
   "source": [
    "# 1. Парсинг данных с сайта auto.ru"
   ]
  },
  {
   "cell_type": "markdown",
   "metadata": {
    "papermill": {
     "duration": 0.279471,
     "end_time": "2021-07-21T11:57:47.292464",
     "exception": false,
     "start_time": "2021-07-21T11:57:47.012993",
     "status": "completed"
    },
    "tags": []
   },
   "source": [
    "Весь парсинг зацитирован в силу того, что выполнен заранее на локальной машине и результат выгружен в проект. Сам парсинг выполняется очень долго."
   ]
  },
  {
   "cell_type": "code",
   "execution_count": 6,
   "metadata": {
    "execution": {
     "iopub.execute_input": "2021-07-21T11:57:47.844908Z",
     "iopub.status.busy": "2021-07-21T11:57:47.843841Z",
     "iopub.status.idle": "2021-07-21T11:57:47.848165Z",
     "shell.execute_reply": "2021-07-21T11:57:47.848691Z",
     "shell.execute_reply.started": "2021-07-21T11:19:58.255893Z"
    },
    "papermill": {
     "duration": 0.281333,
     "end_time": "2021-07-21T11:57:47.848871",
     "exception": false,
     "start_time": "2021-07-21T11:57:47.567538",
     "status": "completed"
    },
    "tags": []
   },
   "outputs": [],
   "source": [
    "# Начальный URL для дальнейшего парсинга\n",
    "URL = 'https://auto.ru/moskva/cars/used/'\n",
    "# Пустой список со ссылками на автомобили\n",
    "pages_url_list = []"
   ]
  },
  {
   "cell_type": "code",
   "execution_count": 1,
   "metadata": {
    "execution": {
     "iopub.execute_input": "2021-07-21T11:57:48.436382Z",
     "iopub.status.busy": "2021-07-21T11:57:48.435304Z",
     "iopub.status.idle": "2021-07-21T11:57:48.444162Z",
     "shell.execute_reply": "2021-07-21T11:57:48.444733Z",
     "shell.execute_reply.started": "2021-07-21T11:19:58.269890Z"
    },
    "papermill": {
     "duration": 0.289752,
     "end_time": "2021-07-21T11:57:48.444894",
     "exception": false,
     "start_time": "2021-07-21T11:57:48.155142",
     "status": "completed"
    },
    "tags": []
   },
   "outputs": [
    {
     "data": {
      "text/plain": [
       "'while len(pages_url_list)<5000: \\n    for i in range(1,99):   \\n        response = r.get( URL+\\'?page=%s\\'%i)#необходимо для смены страницы\\n        page = BeautifulSoup(response.text, \\'html.parser\\')\\n        for link in page.findAll(\\'a\\',{\"class\": \"Link OfferThumb\"}):\\n           #Проверяем условие присутствия в списке проверяемой ссылки\\n            try:\\n                if link[\\'href\\'] not in pages_url_list: \\n                    pages_url_list.append(link[\\'href\\'])\\n            except:\\n                pass\\n    print(len(pages_url_list))   \\n    #ждем 1 секунду до следующего запроса\\n    time.sleep(1)'"
      ]
     },
     "execution_count": 1,
     "metadata": {},
     "output_type": "execute_result"
    }
   ],
   "source": [
    "# Набирает список из ссылок на авто\n",
    "\"\"\"while len(pages_url_list)<5000: \n",
    "    for i in range(1,99):   \n",
    "        response = r.get( URL+'?page=%s'%i)#необходимо для смены страницы\n",
    "        page = BeautifulSoup(response.text, 'html.parser')\n",
    "        for link in page.findAll('a',{\"class\": \"Link OfferThumb\"}):\n",
    "           #Проверяем условие присутствия в списке проверяемой ссылки\n",
    "            try:\n",
    "                if link['href'] not in pages_url_list: \n",
    "                    pages_url_list.append(link['href'])\n",
    "            except:\n",
    "                pass\n",
    "    print(len(pages_url_list))   \n",
    "    #ждем 1 секунду до следующего запроса\n",
    "    time.sleep(1)\"\"\""
   ]
  },
  {
   "cell_type": "markdown",
   "metadata": {
    "papermill": {
     "duration": 0.281878,
     "end_time": "2021-07-21T11:57:49.001189",
     "exception": false,
     "start_time": "2021-07-21T11:57:48.719311",
     "status": "completed"
    },
    "tags": []
   },
   "source": [
    "Теперь, когда мы собрали список из ссылок на авто, можно спарсить все данные по этим ссылкам:"
   ]
  },
  {
   "cell_type": "code",
   "execution_count": 8,
   "metadata": {
    "execution": {
     "iopub.execute_input": "2021-07-21T11:57:49.567790Z",
     "iopub.status.busy": "2021-07-21T11:57:49.566672Z",
     "iopub.status.idle": "2021-07-21T11:57:49.575565Z",
     "shell.execute_reply": "2021-07-21T11:57:49.576051Z",
     "shell.execute_reply.started": "2021-07-21T11:19:58.282900Z"
    },
    "papermill": {
     "duration": 0.291461,
     "end_time": "2021-07-21T11:57:49.576207",
     "exception": false,
     "start_time": "2021-07-21T11:57:49.284746",
     "status": "completed"
    },
    "tags": []
   },
   "outputs": [
    {
     "data": {
      "text/plain": [
       "'cars_list = []\\n#используем наш список со ссылками\\nfor item in pages_url_list:\\n   response = r.get(item)\\n    response.encoding = \\'utf8\\'\\n    page = BeautifulSoup(response.text, \\'html.parser\\')\\n   #загружаем страницу\\n    if page.find(\\'div\\', class_=\\'CardSold\\') == None:\\n       try:\\n            json_data = json.loads(\\n                page.find(\\'script\\', type=\"application/ld+json\").string)\\n        except:\\n            print(item)\\n            pass\\n        cls_str = \\'CardInfoRow_\\'\\n        span_str = \\'CardInfoRow__cell\\'\\n        #Заполняем словарь с данными по каждому автомобилю и добавляем в список с авто\\n        try:\\n            cars_list.append({\\n            \\'bodyType\\': json_data[\\'bodyType\\'],\\n            \\'brand\\': json_data[\\'brand\\'],\\n            \\'car_url\\': json_data[\\'offers\\'][\\'url\\'],\\n            \\'color\\': json_data[\\'color\\'],\\n            \\'description\\': json_data[\\'description\\'],\\n            \\'engineDisplacement\\': json_data[\\'vehicleEngine\\'][\\'engineDisplacement\\'],\\n            \\'enginePower\\': json_data[\\'vehicleEngine\\'][\\'enginePower\\'],\\n            \\'fuelType\\': json_data[\\'fuelType\\'],\\n            \\'image\\': json_data[\\'image\\'],\\n            \\'mileage\\': page.find(\\n                \\'li\\', class_=cls_str+\\'kmAge\\').find_all(\\'span\\')[1].text,\\n            \\'modelDate\\': json_data[\\'modelDate\\'],\\n            \\'model_name\\': json_data[\\'name\\'],\\n            \\'name\\': json_data[\\'vehicleEngine\\'][\\'name\\'],\\n            \\'numberOfDoors\\': json_data[\\'numberOfDoors\\'],\\n            \\'priceCurrency\\': json_data[\\'offers\\'][\\'priceCurrency\\'],\\n            \\'productionDate\\': json_data[\\'productionDate\\'],\\n            \\'vehicleConfiguration\\': json_data[\\'vehicleConfiguration\\'],\\n            \\'vehicleTransmission\\': json_data[\\'vehicleTransmission\\'],\\n            \\'Владельцы\\': page.find(\\n                \\'li\\', class_=cls_str+\\'ownersCount\\').find_all(\\'span\\')[1].text,\\n            \\'ПТС\\': page.find(\\n                \\'li\\', class_=cls_str+\\'pts\\').find_all(\\'span\\')[1].text,\\n            \\'Привод\\': page.find(\\n                \\'li\\', class_=cls_str+\\'drive\\').find_all(\\'span\\')[1].text,\\n            \\'Руль\\': page.find(\\n                \\'li\\', class_=cls_str+\\'wheel\\').find_all(\\'span\\')[1].text,\\n            \\'Состояние\\': page.find(\\n                \\'li\\', class_=cls_str+\\'state\\').find_all(\\'span\\')[1].text,\\n            \\'Таможня\\': page.find(\\n                \\'li\\', class_=cls_str+\\'customs\\').find_all(\\'span\\')[1].text,\\n            \\'price\\': page.find(\\n                \\'span\\', class_=\\'OfferPriceCaption__price\\').text\\n            })\\n        except:\\n            print(item)\\n            pass\\n\\n#Таймер\\n    print(\\'Ожидаю 0.5 секунды...\\')\\n    time.sleep(0.5)'"
      ]
     },
     "execution_count": 8,
     "metadata": {},
     "output_type": "execute_result"
    }
   ],
   "source": [
    "# создаем пустой список с данными по авто\n",
    "\"\"\"cars_list = []\n",
    "#используем наш список со ссылками\n",
    "for item in pages_url_list:\n",
    "   response = r.get(item)\n",
    "    response.encoding = 'utf8'\n",
    "    page = BeautifulSoup(response.text, 'html.parser')\n",
    "   #загружаем страницу\n",
    "    if page.find('div', class_='CardSold') == None:\n",
    "       try:\n",
    "            json_data = json.loads(\n",
    "                page.find('script', type=\"application/ld+json\").string)\n",
    "        except:\n",
    "            print(item)\n",
    "            pass\n",
    "        cls_str = 'CardInfoRow_'\n",
    "        span_str = 'CardInfoRow__cell'\n",
    "        #Заполняем словарь с данными по каждому автомобилю и добавляем в список с авто\n",
    "        try:\n",
    "            cars_list.append({\n",
    "            'bodyType': json_data['bodyType'],\n",
    "            'brand': json_data['brand'],\n",
    "            'car_url': json_data['offers']['url'],\n",
    "            'color': json_data['color'],\n",
    "            'description': json_data['description'],\n",
    "            'engineDisplacement': json_data['vehicleEngine']['engineDisplacement'],\n",
    "            'enginePower': json_data['vehicleEngine']['enginePower'],\n",
    "            'fuelType': json_data['fuelType'],\n",
    "            'image': json_data['image'],\n",
    "            'mileage': page.find(\n",
    "                'li', class_=cls_str+'kmAge').find_all('span')[1].text,\n",
    "            'modelDate': json_data['modelDate'],\n",
    "            'model_name': json_data['name'],\n",
    "            'name': json_data['vehicleEngine']['name'],\n",
    "            'numberOfDoors': json_data['numberOfDoors'],\n",
    "            'priceCurrency': json_data['offers']['priceCurrency'],\n",
    "            'productionDate': json_data['productionDate'],\n",
    "            'vehicleConfiguration': json_data['vehicleConfiguration'],\n",
    "            'vehicleTransmission': json_data['vehicleTransmission'],\n",
    "            'Владельцы': page.find(\n",
    "                'li', class_=cls_str+'ownersCount').find_all('span')[1].text,\n",
    "            'ПТС': page.find(\n",
    "                'li', class_=cls_str+'pts').find_all('span')[1].text,\n",
    "            'Привод': page.find(\n",
    "                'li', class_=cls_str+'drive').find_all('span')[1].text,\n",
    "            'Руль': page.find(\n",
    "                'li', class_=cls_str+'wheel').find_all('span')[1].text,\n",
    "            'Состояние': page.find(\n",
    "                'li', class_=cls_str+'state').find_all('span')[1].text,\n",
    "            'Таможня': page.find(\n",
    "                'li', class_=cls_str+'customs').find_all('span')[1].text,\n",
    "            'price': page.find(\n",
    "                'span', class_='OfferPriceCaption__price').text\n",
    "            })\n",
    "        except:\n",
    "            print(item)\n",
    "            pass\n",
    "\n",
    "#Таймер\n",
    "    print('Ожидаю 0.5 секунды...')\n",
    "    time.sleep(0.5)\"\"\""
   ]
  },
  {
   "cell_type": "markdown",
   "metadata": {
    "papermill": {
     "duration": 0.276097,
     "end_time": "2021-07-21T11:57:50.129093",
     "exception": false,
     "start_time": "2021-07-21T11:57:49.852996",
     "status": "completed"
    },
    "tags": []
   },
   "source": [
    "Теперь приведем полученные данные к удобному формату"
   ]
  },
  {
   "cell_type": "code",
   "execution_count": 9,
   "metadata": {
    "execution": {
     "iopub.execute_input": "2021-07-21T11:57:50.686193Z",
     "iopub.status.busy": "2021-07-21T11:57:50.685048Z",
     "iopub.status.idle": "2021-07-21T11:57:50.692579Z",
     "shell.execute_reply": "2021-07-21T11:57:50.691981Z",
     "shell.execute_reply.started": "2021-07-21T11:19:58.297034Z"
    },
    "papermill": {
     "duration": 0.285147,
     "end_time": "2021-07-21T11:57:50.692698",
     "exception": false,
     "start_time": "2021-07-21T11:57:50.407551",
     "status": "completed"
    },
    "tags": []
   },
   "outputs": [
    {
     "data": {
      "text/plain": [
       "\"df = pd.DataFrame(cars_list)\\n#Сохраним в csv формате\\ndf.to_csv('cars_autoru.csv', index=False)\""
      ]
     },
     "execution_count": 9,
     "metadata": {},
     "output_type": "execute_result"
    }
   ],
   "source": [
    "\"\"\"df = pd.DataFrame(cars_list)\n",
    "#Сохраним в csv формате\n",
    "df.to_csv('cars_autoru.csv', index=False)\"\"\""
   ]
  },
  {
   "cell_type": "markdown",
   "metadata": {
    "papermill": {
     "duration": 0.31909,
     "end_time": "2021-07-21T11:57:51.287417",
     "exception": false,
     "start_time": "2021-07-21T11:57:50.968327",
     "status": "completed"
    },
    "tags": []
   },
   "source": [
    "# 2. Setup"
   ]
  },
  {
   "cell_type": "markdown",
   "metadata": {
    "papermill": {
     "duration": 0.275704,
     "end_time": "2021-07-21T11:57:51.839717",
     "exception": false,
     "start_time": "2021-07-21T11:57:51.564013",
     "status": "completed"
    },
    "tags": []
   },
   "source": [
    "Загружаем исходные данные для обучения, предложенные условиями задания:"
   ]
  },
  {
   "cell_type": "code",
   "execution_count": 10,
   "metadata": {
    "execution": {
     "iopub.execute_input": "2021-07-21T11:57:52.394899Z",
     "iopub.status.busy": "2021-07-21T11:57:52.394022Z",
     "iopub.status.idle": "2021-07-21T11:57:52.397013Z",
     "shell.execute_reply": "2021-07-21T11:57:52.396345Z",
     "shell.execute_reply.started": "2021-07-21T11:19:58.311379Z"
    },
    "papermill": {
     "duration": 0.282363,
     "end_time": "2021-07-21T11:57:52.397134",
     "exception": false,
     "start_time": "2021-07-21T11:57:52.114771",
     "status": "completed"
    },
    "tags": []
   },
   "outputs": [],
   "source": [
    "VERSION = 16\n",
    "DIR_TRAIN = '../input/parsing1/'  # Дата-Сет из парсинга\n",
    "DIR_TEST = '../input/sf-dst-car-price-prediction/'\n",
    "VAL_SIZE = 0.20   # 20%"
   ]
  },
  {
   "cell_type": "markdown",
   "metadata": {
    "papermill": {
     "duration": 0.272863,
     "end_time": "2021-07-21T11:57:52.943450",
     "exception": false,
     "start_time": "2021-07-21T11:57:52.670587",
     "status": "completed"
    },
    "tags": []
   },
   "source": [
    "# 3. Data"
   ]
  },
  {
   "cell_type": "code",
   "execution_count": 11,
   "metadata": {
    "execution": {
     "iopub.execute_input": "2021-07-21T11:57:53.503396Z",
     "iopub.status.busy": "2021-07-21T11:57:53.498673Z",
     "iopub.status.idle": "2021-07-21T11:57:54.221352Z",
     "shell.execute_reply": "2021-07-21T11:57:54.221956Z",
     "shell.execute_reply.started": "2021-07-21T11:19:58.319800Z"
    },
    "papermill": {
     "duration": 1.002577,
     "end_time": "2021-07-21T11:57:54.222122",
     "exception": false,
     "start_time": "2021-07-21T11:57:53.219545",
     "status": "completed"
    },
    "tags": []
   },
   "outputs": [
    {
     "name": "stdout",
     "output_type": "stream",
     "text": [
      "parsing-all-moscow-auto-ru-09-09-2020  parsing1  sf-dst-car-price-prediction\r\n"
     ]
    }
   ],
   "source": [
    "!ls '../input'"
   ]
  },
  {
   "cell_type": "markdown",
   "metadata": {
    "papermill": {
     "duration": 0.277523,
     "end_time": "2021-07-21T11:57:54.776155",
     "exception": false,
     "start_time": "2021-07-21T11:57:54.498632",
     "status": "completed"
    },
    "tags": []
   },
   "source": [
    "Теперь загрузим фреймы:"
   ]
  },
  {
   "cell_type": "code",
   "execution_count": 12,
   "metadata": {
    "_cell_guid": "79c7e3d0-c299-4dcb-8224-4455121ee9b0",
    "_uuid": "d629ff2d2480ee46fbb7e2d37f6b5fab8052498a",
    "execution": {
     "iopub.execute_input": "2021-07-21T11:57:55.342915Z",
     "iopub.status.busy": "2021-07-21T11:57:55.341873Z",
     "iopub.status.idle": "2021-07-21T11:58:01.135412Z",
     "shell.execute_reply": "2021-07-21T11:58:01.133809Z",
     "shell.execute_reply.started": "2021-07-21T11:19:59.144899Z"
    },
    "papermill": {
     "duration": 6.073066,
     "end_time": "2021-07-21T11:58:01.135574",
     "exception": false,
     "start_time": "2021-07-21T11:57:55.062508",
     "status": "completed"
    },
    "tags": []
   },
   "outputs": [],
   "source": [
    "train = pd.read_csv(DIR_TRAIN+'cars_auto_ru.csv')\n",
    "test = pd.read_csv(DIR_TEST+'test.csv')\n",
    "sample_submission = pd.read_csv(DIR_TEST+'sample_submission.csv')"
   ]
  },
  {
   "cell_type": "markdown",
   "metadata": {
    "papermill": {
     "duration": 0.286823,
     "end_time": "2021-07-21T11:58:01.712580",
     "exception": false,
     "start_time": "2021-07-21T11:58:01.425757",
     "status": "completed"
    },
    "tags": []
   },
   "source": [
    "Проверим, все ли получилось:"
   ]
  },
  {
   "cell_type": "code",
   "execution_count": 13,
   "metadata": {
    "execution": {
     "iopub.execute_input": "2021-07-21T11:58:02.308018Z",
     "iopub.status.busy": "2021-07-21T11:58:02.304713Z",
     "iopub.status.idle": "2021-07-21T11:58:02.329206Z",
     "shell.execute_reply": "2021-07-21T11:58:02.327989Z",
     "shell.execute_reply.started": "2021-07-21T11:20:01.960217Z"
    },
    "papermill": {
     "duration": 0.340447,
     "end_time": "2021-07-21T11:58:02.329362",
     "exception": false,
     "start_time": "2021-07-21T11:58:01.988915",
     "status": "completed"
    },
    "tags": []
   },
   "outputs": [
    {
     "data": {
      "text/html": [
       "<div>\n",
       "<style scoped>\n",
       "    .dataframe tbody tr th:only-of-type {\n",
       "        vertical-align: middle;\n",
       "    }\n",
       "\n",
       "    .dataframe tbody tr th {\n",
       "        vertical-align: top;\n",
       "    }\n",
       "\n",
       "    .dataframe thead th {\n",
       "        text-align: right;\n",
       "    }\n",
       "</style>\n",
       "<table border=\"1\" class=\"dataframe\">\n",
       "  <thead>\n",
       "    <tr style=\"text-align: right;\">\n",
       "      <th></th>\n",
       "      <th>bodyType</th>\n",
       "      <th>brand</th>\n",
       "      <th>car_url</th>\n",
       "      <th>color</th>\n",
       "      <th>description</th>\n",
       "      <th>engineDisplacement</th>\n",
       "      <th>enginePower</th>\n",
       "      <th>fuelType</th>\n",
       "      <th>image</th>\n",
       "      <th>mileage</th>\n",
       "      <th>...</th>\n",
       "      <th>productionDate</th>\n",
       "      <th>vehicleConfiguration</th>\n",
       "      <th>vehicleTransmission</th>\n",
       "      <th>Владельцы</th>\n",
       "      <th>ПТС</th>\n",
       "      <th>Привод</th>\n",
       "      <th>Руль</th>\n",
       "      <th>Состояние</th>\n",
       "      <th>Таможня</th>\n",
       "      <th>price</th>\n",
       "    </tr>\n",
       "  </thead>\n",
       "  <tbody>\n",
       "    <tr>\n",
       "      <th>0</th>\n",
       "      <td>внедорожник 5 дв.</td>\n",
       "      <td>NISSAN</td>\n",
       "      <td>https://auto.ru/cars/used/sale/nissan/qashqai/...</td>\n",
       "      <td>чёрный</td>\n",
       "      <td>Только СЕГОДНЯ И ЗАВТРА при покупке этого авто...</td>\n",
       "      <td>2.0 LTR</td>\n",
       "      <td>144 N12</td>\n",
       "      <td>бензин</td>\n",
       "      <td>https://autoru.naydex.net/MgMy88H00/2e4ded1vP7...</td>\n",
       "      <td>69 850 км</td>\n",
       "      <td>...</td>\n",
       "      <td>2016</td>\n",
       "      <td>ALLROAD_5_DOORS VARIATOR 2.0</td>\n",
       "      <td>вариатор</td>\n",
       "      <td>1 владелец</td>\n",
       "      <td>Оригинал</td>\n",
       "      <td>полный</td>\n",
       "      <td>Левый</td>\n",
       "      <td>Не требует ремонта</td>\n",
       "      <td>Растаможен</td>\n",
       "      <td>1 319 000 ₽</td>\n",
       "    </tr>\n",
       "    <tr>\n",
       "      <th>1</th>\n",
       "      <td>купе</td>\n",
       "      <td>MERCEDES</td>\n",
       "      <td>https://auto.ru/cars/used/sale/mercedes/c_klas...</td>\n",
       "      <td>чёрный</td>\n",
       "      <td>Авто в идеальном состоянии,ухожена,без дтп(мел...</td>\n",
       "      <td>1.6 LTR</td>\n",
       "      <td>156 N12</td>\n",
       "      <td>бензин</td>\n",
       "      <td>https://avatars.mds.yandex.net/get-autoru-vos/...</td>\n",
       "      <td>119 075 км</td>\n",
       "      <td>...</td>\n",
       "      <td>2014</td>\n",
       "      <td>COUPE AUTOMATIC 1.6</td>\n",
       "      <td>автоматическая</td>\n",
       "      <td>2 владельца</td>\n",
       "      <td>Дубликат</td>\n",
       "      <td>задний</td>\n",
       "      <td>Левый</td>\n",
       "      <td>Не требует ремонта</td>\n",
       "      <td>Растаможен</td>\n",
       "      <td>1 470 000 ₽</td>\n",
       "    </tr>\n",
       "    <tr>\n",
       "      <th>2</th>\n",
       "      <td>внедорожник 5 дв.</td>\n",
       "      <td>LAND_ROVER</td>\n",
       "      <td>https://auto.ru/cars/used/sale/land_rover/rang...</td>\n",
       "      <td>серый</td>\n",
       "      <td>Пробег 25 800! \\nОтличная комплектация.\\n2 вла...</td>\n",
       "      <td>2.0 LTR</td>\n",
       "      <td>300 N12</td>\n",
       "      <td>бензин</td>\n",
       "      <td>https://autoru.naydex.net/MgMy88H00/2e4ded1vP7...</td>\n",
       "      <td>25 800 км</td>\n",
       "      <td>...</td>\n",
       "      <td>2018</td>\n",
       "      <td>ALLROAD_5_DOORS AUTOMATIC 2.0</td>\n",
       "      <td>автоматическая</td>\n",
       "      <td>2 владельца</td>\n",
       "      <td>Оригинал</td>\n",
       "      <td>полный</td>\n",
       "      <td>Левый</td>\n",
       "      <td>Не требует ремонта</td>\n",
       "      <td>Растаможен</td>\n",
       "      <td>4 447 000 ₽</td>\n",
       "    </tr>\n",
       "    <tr>\n",
       "      <th>3</th>\n",
       "      <td>внедорожник 5 дв.</td>\n",
       "      <td>BMW</td>\n",
       "      <td>https://auto.ru/cars/used/sale/bmw/x1/11046295...</td>\n",
       "      <td>коричневый</td>\n",
       "      <td>Продам BMW X1 18d.\\nКупил в марте 2017 года, с...</td>\n",
       "      <td>2.0 LTR</td>\n",
       "      <td>150 N12</td>\n",
       "      <td>дизель</td>\n",
       "      <td>https://avatars.mds.yandex.net/get-autoru-vos/...</td>\n",
       "      <td>56 000 км</td>\n",
       "      <td>...</td>\n",
       "      <td>2016</td>\n",
       "      <td>ALLROAD_5_DOORS AUTOMATIC 2.0</td>\n",
       "      <td>автоматическая</td>\n",
       "      <td>1 владелец</td>\n",
       "      <td>Оригинал</td>\n",
       "      <td>полный</td>\n",
       "      <td>Левый</td>\n",
       "      <td>Не требует ремонта</td>\n",
       "      <td>Растаможен</td>\n",
       "      <td>2 069 990 ₽</td>\n",
       "    </tr>\n",
       "    <tr>\n",
       "      <th>4</th>\n",
       "      <td>внедорожник 5 дв.</td>\n",
       "      <td>BMW</td>\n",
       "      <td>https://auto.ru/cars/used/sale/bmw/x5/11041506...</td>\n",
       "      <td>коричневый</td>\n",
       "      <td>Репутация для нас превыше всего!\\nТолько прове...</td>\n",
       "      <td>3.0 LTR</td>\n",
       "      <td>218 N12</td>\n",
       "      <td>дизель</td>\n",
       "      <td>https://avatars.mds.yandex.net/get-autoru-vos/...</td>\n",
       "      <td>80 800 км</td>\n",
       "      <td>...</td>\n",
       "      <td>2015</td>\n",
       "      <td>ALLROAD_5_DOORS AUTOMATIC 3.0</td>\n",
       "      <td>автоматическая</td>\n",
       "      <td>2 владельца</td>\n",
       "      <td>Оригинал</td>\n",
       "      <td>полный</td>\n",
       "      <td>Левый</td>\n",
       "      <td>Не требует ремонта</td>\n",
       "      <td>Растаможен</td>\n",
       "      <td>2 760 000 ₽</td>\n",
       "    </tr>\n",
       "  </tbody>\n",
       "</table>\n",
       "<p>5 rows × 25 columns</p>\n",
       "</div>"
      ],
      "text/plain": [
       "            bodyType       brand  \\\n",
       "0  внедорожник 5 дв.      NISSAN   \n",
       "1               купе    MERCEDES   \n",
       "2  внедорожник 5 дв.  LAND_ROVER   \n",
       "3  внедорожник 5 дв.         BMW   \n",
       "4  внедорожник 5 дв.         BMW   \n",
       "\n",
       "                                             car_url       color  \\\n",
       "0  https://auto.ru/cars/used/sale/nissan/qashqai/...      чёрный   \n",
       "1  https://auto.ru/cars/used/sale/mercedes/c_klas...      чёрный   \n",
       "2  https://auto.ru/cars/used/sale/land_rover/rang...       серый   \n",
       "3  https://auto.ru/cars/used/sale/bmw/x1/11046295...  коричневый   \n",
       "4  https://auto.ru/cars/used/sale/bmw/x5/11041506...  коричневый   \n",
       "\n",
       "                                         description engineDisplacement  \\\n",
       "0  Только СЕГОДНЯ И ЗАВТРА при покупке этого авто...            2.0 LTR   \n",
       "1  Авто в идеальном состоянии,ухожена,без дтп(мел...            1.6 LTR   \n",
       "2  Пробег 25 800! \\nОтличная комплектация.\\n2 вла...            2.0 LTR   \n",
       "3  Продам BMW X1 18d.\\nКупил в марте 2017 года, с...            2.0 LTR   \n",
       "4  Репутация для нас превыше всего!\\nТолько прове...            3.0 LTR   \n",
       "\n",
       "  enginePower fuelType                                              image  \\\n",
       "0     144 N12   бензин  https://autoru.naydex.net/MgMy88H00/2e4ded1vP7...   \n",
       "1     156 N12   бензин  https://avatars.mds.yandex.net/get-autoru-vos/...   \n",
       "2     300 N12   бензин  https://autoru.naydex.net/MgMy88H00/2e4ded1vP7...   \n",
       "3     150 N12   дизель  https://avatars.mds.yandex.net/get-autoru-vos/...   \n",
       "4     218 N12   дизель  https://avatars.mds.yandex.net/get-autoru-vos/...   \n",
       "\n",
       "      mileage  ...  productionDate           vehicleConfiguration  \\\n",
       "0   69 850 км  ...            2016   ALLROAD_5_DOORS VARIATOR 2.0   \n",
       "1  119 075 км  ...            2014            COUPE AUTOMATIC 1.6   \n",
       "2   25 800 км  ...            2018  ALLROAD_5_DOORS AUTOMATIC 2.0   \n",
       "3   56 000 км  ...            2016  ALLROAD_5_DOORS AUTOMATIC 2.0   \n",
       "4   80 800 км  ...            2015  ALLROAD_5_DOORS AUTOMATIC 3.0   \n",
       "\n",
       "  vehicleTransmission    Владельцы       ПТС  Привод   Руль  \\\n",
       "0            вариатор   1 владелец  Оригинал  полный  Левый   \n",
       "1      автоматическая  2 владельца  Дубликат  задний  Левый   \n",
       "2      автоматическая  2 владельца  Оригинал  полный  Левый   \n",
       "3      автоматическая   1 владелец  Оригинал  полный  Левый   \n",
       "4      автоматическая  2 владельца  Оригинал  полный  Левый   \n",
       "\n",
       "            Состояние     Таможня        price  \n",
       "0  Не требует ремонта  Растаможен  1 319 000 ₽  \n",
       "1  Не требует ремонта  Растаможен  1 470 000 ₽  \n",
       "2  Не требует ремонта  Растаможен  4 447 000 ₽  \n",
       "3  Не требует ремонта  Растаможен  2 069 990 ₽  \n",
       "4  Не требует ремонта  Растаможен  2 760 000 ₽  \n",
       "\n",
       "[5 rows x 25 columns]"
      ]
     },
     "execution_count": 13,
     "metadata": {},
     "output_type": "execute_result"
    }
   ],
   "source": [
    "train.head(5)"
   ]
  },
  {
   "cell_type": "code",
   "execution_count": 14,
   "metadata": {
    "execution": {
     "iopub.execute_input": "2021-07-21T11:58:02.999487Z",
     "iopub.status.busy": "2021-07-21T11:58:02.998754Z",
     "iopub.status.idle": "2021-07-21T11:58:03.023245Z",
     "shell.execute_reply": "2021-07-21T11:58:03.022453Z",
     "shell.execute_reply.started": "2021-07-21T11:20:01.991165Z"
    },
    "papermill": {
     "duration": 0.406213,
     "end_time": "2021-07-21T11:58:03.023394",
     "exception": false,
     "start_time": "2021-07-21T11:58:02.617181",
     "status": "completed"
    },
    "tags": []
   },
   "outputs": [
    {
     "name": "stdout",
     "output_type": "stream",
     "text": [
      "<class 'pandas.core.frame.DataFrame'>\n",
      "RangeIndex: 37603 entries, 0 to 37602\n",
      "Data columns (total 25 columns):\n",
      " #   Column                Non-Null Count  Dtype \n",
      "---  ------                --------------  ----- \n",
      " 0   bodyType              37603 non-null  object\n",
      " 1   brand                 37603 non-null  object\n",
      " 2   car_url               37603 non-null  object\n",
      " 3   color                 37603 non-null  object\n",
      " 4   description           37603 non-null  object\n",
      " 5   engineDisplacement    37603 non-null  object\n",
      " 6   enginePower           37603 non-null  object\n",
      " 7   fuelType              37603 non-null  object\n",
      " 8   image                 37603 non-null  object\n",
      " 9   mileage               37603 non-null  object\n",
      " 10  modelDate             37603 non-null  int64 \n",
      " 11  model_name            37603 non-null  object\n",
      " 12  name                  37603 non-null  object\n",
      " 13  numberOfDoors         37603 non-null  int64 \n",
      " 14  priceCurrency         37603 non-null  object\n",
      " 15  productionDate        37603 non-null  int64 \n",
      " 16  vehicleConfiguration  37603 non-null  object\n",
      " 17  vehicleTransmission   37603 non-null  object\n",
      " 18  Владельцы             37603 non-null  object\n",
      " 19  ПТС                   37603 non-null  object\n",
      " 20  Привод                37603 non-null  object\n",
      " 21  Руль                  37603 non-null  object\n",
      " 22  Состояние             37603 non-null  object\n",
      " 23  Таможня               37603 non-null  object\n",
      " 24  price                 37603 non-null  object\n",
      "dtypes: int64(3), object(22)\n",
      "memory usage: 7.2+ MB\n"
     ]
    }
   ],
   "source": [
    "train.info()"
   ]
  },
  {
   "cell_type": "code",
   "execution_count": 15,
   "metadata": {
    "execution": {
     "iopub.execute_input": "2021-07-21T11:58:03.689466Z",
     "iopub.status.busy": "2021-07-21T11:58:03.688396Z",
     "iopub.status.idle": "2021-07-21T11:58:03.698316Z",
     "shell.execute_reply": "2021-07-21T11:58:03.697746Z",
     "shell.execute_reply.started": "2021-07-21T11:20:02.051774Z"
    },
    "papermill": {
     "duration": 0.3775,
     "end_time": "2021-07-21T11:58:03.698443",
     "exception": false,
     "start_time": "2021-07-21T11:58:03.320943",
     "status": "completed"
    },
    "tags": []
   },
   "outputs": [
    {
     "data": {
      "text/plain": [
       "bodyType                0\n",
       "brand                   0\n",
       "car_url                 0\n",
       "color                   0\n",
       "description             0\n",
       "engineDisplacement      0\n",
       "enginePower             0\n",
       "fuelType                0\n",
       "image                   0\n",
       "mileage                 0\n",
       "modelDate               0\n",
       "model_name              0\n",
       "name                    0\n",
       "numberOfDoors           0\n",
       "priceCurrency           0\n",
       "productionDate          0\n",
       "vehicleConfiguration    0\n",
       "vehicleTransmission     0\n",
       "Владельцы               0\n",
       "ПТС                     0\n",
       "Привод                  0\n",
       "Руль                    0\n",
       "Состояние               0\n",
       "Таможня                 0\n",
       "price                   0\n",
       "dtype: int64"
      ]
     },
     "execution_count": 15,
     "metadata": {},
     "output_type": "execute_result"
    }
   ],
   "source": [
    "train.isna().sum()"
   ]
  },
  {
   "cell_type": "markdown",
   "metadata": {
    "papermill": {
     "duration": 0.278903,
     "end_time": "2021-07-21T11:58:04.254151",
     "exception": false,
     "start_time": "2021-07-21T11:58:03.975248",
     "status": "completed"
    },
    "tags": []
   },
   "source": [
    "**Важное замечание:** Парсинг выполнялся на локальной машине, выполнялся очень долго."
   ]
  },
  {
   "cell_type": "markdown",
   "metadata": {
    "papermill": {
     "duration": 0.287066,
     "end_time": "2021-07-21T11:58:04.818268",
     "exception": false,
     "start_time": "2021-07-21T11:58:04.531202",
     "status": "completed"
    },
    "tags": []
   },
   "source": [
    "Проверим тестовый фрейм:"
   ]
  },
  {
   "cell_type": "code",
   "execution_count": 16,
   "metadata": {
    "execution": {
     "iopub.execute_input": "2021-07-21T11:58:05.410225Z",
     "iopub.status.busy": "2021-07-21T11:58:05.409165Z",
     "iopub.status.idle": "2021-07-21T11:58:05.414952Z",
     "shell.execute_reply": "2021-07-21T11:58:05.414320Z",
     "shell.execute_reply.started": "2021-07-21T11:20:02.103282Z"
    },
    "papermill": {
     "duration": 0.312594,
     "end_time": "2021-07-21T11:58:05.415090",
     "exception": false,
     "start_time": "2021-07-21T11:58:05.102496",
     "status": "completed"
    },
    "tags": []
   },
   "outputs": [
    {
     "data": {
      "text/html": [
       "<div>\n",
       "<style scoped>\n",
       "    .dataframe tbody tr th:only-of-type {\n",
       "        vertical-align: middle;\n",
       "    }\n",
       "\n",
       "    .dataframe tbody tr th {\n",
       "        vertical-align: top;\n",
       "    }\n",
       "\n",
       "    .dataframe thead th {\n",
       "        text-align: right;\n",
       "    }\n",
       "</style>\n",
       "<table border=\"1\" class=\"dataframe\">\n",
       "  <thead>\n",
       "    <tr style=\"text-align: right;\">\n",
       "      <th></th>\n",
       "      <th>bodyType</th>\n",
       "      <th>brand</th>\n",
       "      <th>car_url</th>\n",
       "      <th>color</th>\n",
       "      <th>complectation_dict</th>\n",
       "      <th>description</th>\n",
       "      <th>engineDisplacement</th>\n",
       "      <th>enginePower</th>\n",
       "      <th>equipment_dict</th>\n",
       "      <th>fuelType</th>\n",
       "      <th>...</th>\n",
       "      <th>vehicleConfiguration</th>\n",
       "      <th>vehicleTransmission</th>\n",
       "      <th>vendor</th>\n",
       "      <th>Владельцы</th>\n",
       "      <th>Владение</th>\n",
       "      <th>ПТС</th>\n",
       "      <th>Привод</th>\n",
       "      <th>Руль</th>\n",
       "      <th>Состояние</th>\n",
       "      <th>Таможня</th>\n",
       "    </tr>\n",
       "  </thead>\n",
       "  <tbody>\n",
       "    <tr>\n",
       "      <th>0</th>\n",
       "      <td>лифтбек</td>\n",
       "      <td>SKODA</td>\n",
       "      <td>https://auto.ru/cars/used/sale/skoda/octavia/1...</td>\n",
       "      <td>синий</td>\n",
       "      <td>NaN</td>\n",
       "      <td>Все автомобили, представленные в продаже, прох...</td>\n",
       "      <td>1.2 LTR</td>\n",
       "      <td>105 N12</td>\n",
       "      <td>{\"engine-proof\":true,\"tinted-glass\":true,\"airb...</td>\n",
       "      <td>бензин</td>\n",
       "      <td>...</td>\n",
       "      <td>LIFTBACK ROBOT 1.2</td>\n",
       "      <td>роботизированная</td>\n",
       "      <td>EUROPEAN</td>\n",
       "      <td>3 или более</td>\n",
       "      <td>NaN</td>\n",
       "      <td>Оригинал</td>\n",
       "      <td>передний</td>\n",
       "      <td>Левый</td>\n",
       "      <td>Не требует ремонта</td>\n",
       "      <td>Растаможен</td>\n",
       "    </tr>\n",
       "    <tr>\n",
       "      <th>1</th>\n",
       "      <td>лифтбек</td>\n",
       "      <td>SKODA</td>\n",
       "      <td>https://auto.ru/cars/used/sale/skoda/octavia/1...</td>\n",
       "      <td>чёрный</td>\n",
       "      <td>NaN</td>\n",
       "      <td>ЛОТ: 01217195\\nАвтопрага Север\\nДанный автомоб...</td>\n",
       "      <td>1.6 LTR</td>\n",
       "      <td>110 N12</td>\n",
       "      <td>{\"cruise-control\":true,\"asr\":true,\"esp\":true,\"...</td>\n",
       "      <td>бензин</td>\n",
       "      <td>...</td>\n",
       "      <td>LIFTBACK MECHANICAL 1.6</td>\n",
       "      <td>механическая</td>\n",
       "      <td>EUROPEAN</td>\n",
       "      <td>1 владелец</td>\n",
       "      <td>NaN</td>\n",
       "      <td>Оригинал</td>\n",
       "      <td>передний</td>\n",
       "      <td>Левый</td>\n",
       "      <td>Не требует ремонта</td>\n",
       "      <td>Растаможен</td>\n",
       "    </tr>\n",
       "    <tr>\n",
       "      <th>2</th>\n",
       "      <td>лифтбек</td>\n",
       "      <td>SKODA</td>\n",
       "      <td>https://auto.ru/cars/used/sale/skoda/superb/11...</td>\n",
       "      <td>серый</td>\n",
       "      <td>{\"id\":\"20026336\",\"name\":\"Ambition\",\"available_...</td>\n",
       "      <td>Все автомобили, представленные в продаже, прох...</td>\n",
       "      <td>1.8 LTR</td>\n",
       "      <td>152 N12</td>\n",
       "      <td>{\"cruise-control\":true,\"tinted-glass\":true,\"es...</td>\n",
       "      <td>бензин</td>\n",
       "      <td>...</td>\n",
       "      <td>LIFTBACK ROBOT 1.8</td>\n",
       "      <td>роботизированная</td>\n",
       "      <td>EUROPEAN</td>\n",
       "      <td>1 владелец</td>\n",
       "      <td>NaN</td>\n",
       "      <td>Оригинал</td>\n",
       "      <td>передний</td>\n",
       "      <td>Левый</td>\n",
       "      <td>Не требует ремонта</td>\n",
       "      <td>Растаможен</td>\n",
       "    </tr>\n",
       "    <tr>\n",
       "      <th>3</th>\n",
       "      <td>лифтбек</td>\n",
       "      <td>SKODA</td>\n",
       "      <td>https://auto.ru/cars/used/sale/skoda/octavia/1...</td>\n",
       "      <td>коричневый</td>\n",
       "      <td>{\"id\":\"20803582\",\"name\":\"Ambition\",\"available_...</td>\n",
       "      <td>КОМПЛЕКТ ЗИМНЕЙ (ЛЕТНЕЙ) РЕЗИНЫ ПО СЕЗОНУ В ПО...</td>\n",
       "      <td>1.6 LTR</td>\n",
       "      <td>110 N12</td>\n",
       "      <td>{\"cruise-control\":true,\"roller-blind-for-rear-...</td>\n",
       "      <td>бензин</td>\n",
       "      <td>...</td>\n",
       "      <td>LIFTBACK AUTOMATIC 1.6</td>\n",
       "      <td>автоматическая</td>\n",
       "      <td>EUROPEAN</td>\n",
       "      <td>1 владелец</td>\n",
       "      <td>NaN</td>\n",
       "      <td>Оригинал</td>\n",
       "      <td>передний</td>\n",
       "      <td>Левый</td>\n",
       "      <td>Не требует ремонта</td>\n",
       "      <td>Растаможен</td>\n",
       "    </tr>\n",
       "    <tr>\n",
       "      <th>4</th>\n",
       "      <td>лифтбек</td>\n",
       "      <td>SKODA</td>\n",
       "      <td>https://auto.ru/cars/used/sale/skoda/octavia/1...</td>\n",
       "      <td>белый</td>\n",
       "      <td>NaN</td>\n",
       "      <td>ЛОТ: 01220889\\nАвтопрага Север\\n\\nВы можете по...</td>\n",
       "      <td>1.8 LTR</td>\n",
       "      <td>152 N12</td>\n",
       "      <td>{\"cruise-control\":true,\"asr\":true,\"esp\":true,\"...</td>\n",
       "      <td>бензин</td>\n",
       "      <td>...</td>\n",
       "      <td>LIFTBACK AUTOMATIC 1.8</td>\n",
       "      <td>автоматическая</td>\n",
       "      <td>EUROPEAN</td>\n",
       "      <td>1 владелец</td>\n",
       "      <td>NaN</td>\n",
       "      <td>Оригинал</td>\n",
       "      <td>передний</td>\n",
       "      <td>Левый</td>\n",
       "      <td>Не требует ремонта</td>\n",
       "      <td>Растаможен</td>\n",
       "    </tr>\n",
       "  </tbody>\n",
       "</table>\n",
       "<p>5 rows × 32 columns</p>\n",
       "</div>"
      ],
      "text/plain": [
       "  bodyType  brand                                            car_url  \\\n",
       "0  лифтбек  SKODA  https://auto.ru/cars/used/sale/skoda/octavia/1...   \n",
       "1  лифтбек  SKODA  https://auto.ru/cars/used/sale/skoda/octavia/1...   \n",
       "2  лифтбек  SKODA  https://auto.ru/cars/used/sale/skoda/superb/11...   \n",
       "3  лифтбек  SKODA  https://auto.ru/cars/used/sale/skoda/octavia/1...   \n",
       "4  лифтбек  SKODA  https://auto.ru/cars/used/sale/skoda/octavia/1...   \n",
       "\n",
       "        color                                 complectation_dict  \\\n",
       "0       синий                                                NaN   \n",
       "1      чёрный                                                NaN   \n",
       "2       серый  {\"id\":\"20026336\",\"name\":\"Ambition\",\"available_...   \n",
       "3  коричневый  {\"id\":\"20803582\",\"name\":\"Ambition\",\"available_...   \n",
       "4       белый                                                NaN   \n",
       "\n",
       "                                         description engineDisplacement  \\\n",
       "0  Все автомобили, представленные в продаже, прох...            1.2 LTR   \n",
       "1  ЛОТ: 01217195\\nАвтопрага Север\\nДанный автомоб...            1.6 LTR   \n",
       "2  Все автомобили, представленные в продаже, прох...            1.8 LTR   \n",
       "3  КОМПЛЕКТ ЗИМНЕЙ (ЛЕТНЕЙ) РЕЗИНЫ ПО СЕЗОНУ В ПО...            1.6 LTR   \n",
       "4  ЛОТ: 01220889\\nАвтопрага Север\\n\\nВы можете по...            1.8 LTR   \n",
       "\n",
       "  enginePower                                     equipment_dict fuelType  \\\n",
       "0     105 N12  {\"engine-proof\":true,\"tinted-glass\":true,\"airb...   бензин   \n",
       "1     110 N12  {\"cruise-control\":true,\"asr\":true,\"esp\":true,\"...   бензин   \n",
       "2     152 N12  {\"cruise-control\":true,\"tinted-glass\":true,\"es...   бензин   \n",
       "3     110 N12  {\"cruise-control\":true,\"roller-blind-for-rear-...   бензин   \n",
       "4     152 N12  {\"cruise-control\":true,\"asr\":true,\"esp\":true,\"...   бензин   \n",
       "\n",
       "   ...     vehicleConfiguration  vehicleTransmission    vendor    Владельцы  \\\n",
       "0  ...       LIFTBACK ROBOT 1.2     роботизированная  EUROPEAN  3 или более   \n",
       "1  ...  LIFTBACK MECHANICAL 1.6         механическая  EUROPEAN   1 владелец   \n",
       "2  ...       LIFTBACK ROBOT 1.8     роботизированная  EUROPEAN   1 владелец   \n",
       "3  ...   LIFTBACK AUTOMATIC 1.6       автоматическая  EUROPEAN   1 владелец   \n",
       "4  ...   LIFTBACK AUTOMATIC 1.8       автоматическая  EUROPEAN   1 владелец   \n",
       "\n",
       "  Владение       ПТС    Привод   Руль           Состояние     Таможня  \n",
       "0      NaN  Оригинал  передний  Левый  Не требует ремонта  Растаможен  \n",
       "1      NaN  Оригинал  передний  Левый  Не требует ремонта  Растаможен  \n",
       "2      NaN  Оригинал  передний  Левый  Не требует ремонта  Растаможен  \n",
       "3      NaN  Оригинал  передний  Левый  Не требует ремонта  Растаможен  \n",
       "4      NaN  Оригинал  передний  Левый  Не требует ремонта  Растаможен  \n",
       "\n",
       "[5 rows x 32 columns]"
      ]
     },
     "execution_count": 16,
     "metadata": {},
     "output_type": "execute_result"
    }
   ],
   "source": [
    "test.head(5)"
   ]
  },
  {
   "cell_type": "code",
   "execution_count": 17,
   "metadata": {
    "execution": {
     "iopub.execute_input": "2021-07-21T11:58:06.067317Z",
     "iopub.status.busy": "2021-07-21T11:58:06.066550Z",
     "iopub.status.idle": "2021-07-21T11:58:06.083645Z",
     "shell.execute_reply": "2021-07-21T11:58:06.082354Z",
     "shell.execute_reply.started": "2021-07-21T11:20:02.132037Z"
    },
    "papermill": {
     "duration": 0.391967,
     "end_time": "2021-07-21T11:58:06.083881",
     "exception": false,
     "start_time": "2021-07-21T11:58:05.691914",
     "status": "completed"
    },
    "tags": []
   },
   "outputs": [
    {
     "name": "stdout",
     "output_type": "stream",
     "text": [
      "<class 'pandas.core.frame.DataFrame'>\n",
      "RangeIndex: 34686 entries, 0 to 34685\n",
      "Data columns (total 32 columns):\n",
      " #   Column                Non-Null Count  Dtype \n",
      "---  ------                --------------  ----- \n",
      " 0   bodyType              34686 non-null  object\n",
      " 1   brand                 34686 non-null  object\n",
      " 2   car_url               34686 non-null  object\n",
      " 3   color                 34686 non-null  object\n",
      " 4   complectation_dict    6418 non-null   object\n",
      " 5   description           34686 non-null  object\n",
      " 6   engineDisplacement    34686 non-null  object\n",
      " 7   enginePower           34686 non-null  object\n",
      " 8   equipment_dict        24690 non-null  object\n",
      " 9   fuelType              34686 non-null  object\n",
      " 10  image                 34686 non-null  object\n",
      " 11  mileage               34686 non-null  int64 \n",
      " 12  modelDate             34686 non-null  int64 \n",
      " 13  model_info            34686 non-null  object\n",
      " 14  model_name            34686 non-null  object\n",
      " 15  name                  34686 non-null  object\n",
      " 16  numberOfDoors         34686 non-null  int64 \n",
      " 17  parsing_unixtime      34686 non-null  int64 \n",
      " 18  priceCurrency         34686 non-null  object\n",
      " 19  productionDate        34686 non-null  int64 \n",
      " 20  sell_id               34686 non-null  int64 \n",
      " 21  super_gen             34686 non-null  object\n",
      " 22  vehicleConfiguration  34686 non-null  object\n",
      " 23  vehicleTransmission   34686 non-null  object\n",
      " 24  vendor                34686 non-null  object\n",
      " 25  Владельцы             34686 non-null  object\n",
      " 26  Владение              11995 non-null  object\n",
      " 27  ПТС                   34685 non-null  object\n",
      " 28  Привод                34686 non-null  object\n",
      " 29  Руль                  34686 non-null  object\n",
      " 30  Состояние             34686 non-null  object\n",
      " 31  Таможня               34686 non-null  object\n",
      "dtypes: int64(6), object(26)\n",
      "memory usage: 8.5+ MB\n"
     ]
    }
   ],
   "source": [
    "test.info()"
   ]
  },
  {
   "cell_type": "markdown",
   "metadata": {
    "papermill": {
     "duration": 0.276676,
     "end_time": "2021-07-21T11:58:06.638864",
     "exception": false,
     "start_time": "2021-07-21T11:58:06.362188",
     "status": "completed"
    },
    "tags": []
   },
   "source": [
    "проверим пропуски в тестовом фрейме:"
   ]
  },
  {
   "cell_type": "code",
   "execution_count": 18,
   "metadata": {
    "execution": {
     "iopub.execute_input": "2021-07-21T11:58:07.301258Z",
     "iopub.status.busy": "2021-07-21T11:58:07.300199Z",
     "iopub.status.idle": "2021-07-21T11:58:07.312171Z",
     "shell.execute_reply": "2021-07-21T11:58:07.311513Z",
     "shell.execute_reply.started": "2021-07-21T11:20:02.195977Z"
    },
    "papermill": {
     "duration": 0.395426,
     "end_time": "2021-07-21T11:58:07.312298",
     "exception": false,
     "start_time": "2021-07-21T11:58:06.916872",
     "status": "completed"
    },
    "tags": []
   },
   "outputs": [
    {
     "data": {
      "text/plain": [
       "bodyType                    0\n",
       "brand                       0\n",
       "car_url                     0\n",
       "color                       0\n",
       "complectation_dict      28268\n",
       "description                 0\n",
       "engineDisplacement          0\n",
       "enginePower                 0\n",
       "equipment_dict           9996\n",
       "fuelType                    0\n",
       "image                       0\n",
       "mileage                     0\n",
       "modelDate                   0\n",
       "model_info                  0\n",
       "model_name                  0\n",
       "name                        0\n",
       "numberOfDoors               0\n",
       "parsing_unixtime            0\n",
       "priceCurrency               0\n",
       "productionDate              0\n",
       "sell_id                     0\n",
       "super_gen                   0\n",
       "vehicleConfiguration        0\n",
       "vehicleTransmission         0\n",
       "vendor                      0\n",
       "Владельцы                   0\n",
       "Владение                22691\n",
       "ПТС                         1\n",
       "Привод                      0\n",
       "Руль                        0\n",
       "Состояние                   0\n",
       "Таможня                     0\n",
       "dtype: int64"
      ]
     },
     "execution_count": 18,
     "metadata": {},
     "output_type": "execute_result"
    }
   ],
   "source": [
    "test.isna().sum()"
   ]
  },
  {
   "cell_type": "markdown",
   "metadata": {
    "papermill": {
     "duration": 0.274162,
     "end_time": "2021-07-21T11:58:07.865102",
     "exception": false,
     "start_time": "2021-07-21T11:58:07.590940",
     "status": "completed"
    },
    "tags": []
   },
   "source": [
    "## 3.1. Data Preprocessing"
   ]
  },
  {
   "cell_type": "markdown",
   "metadata": {
    "execution": {
     "iopub.execute_input": "2020-10-26T12:47:02.941177Z",
     "iopub.status.busy": "2020-10-26T12:47:02.94004Z",
     "iopub.status.idle": "2020-10-26T12:47:02.94372Z",
     "shell.execute_reply": "2020-10-26T12:47:02.943059Z"
    },
    "papermill": {
     "duration": 0.276764,
     "end_time": "2021-07-21T11:58:08.417216",
     "exception": false,
     "start_time": "2021-07-21T11:58:08.140452",
     "status": "completed"
    },
    "tags": []
   },
   "source": [
    "К сожалению спарсить получилось далеко не все данные, которые находятся в тестовом дата-фрейме. Удалим некоторые из признаков, которые на наш взгляд не несут нагрузки:"
   ]
  },
  {
   "cell_type": "code",
   "execution_count": 19,
   "metadata": {
    "execution": {
     "iopub.execute_input": "2021-07-21T11:58:09.037630Z",
     "iopub.status.busy": "2021-07-21T11:58:09.036605Z",
     "iopub.status.idle": "2021-07-21T11:58:09.040718Z",
     "shell.execute_reply": "2021-07-21T11:58:09.040093Z",
     "shell.execute_reply.started": "2021-07-21T11:20:02.250495Z"
    },
    "papermill": {
     "duration": 0.301091,
     "end_time": "2021-07-21T11:58:09.040866",
     "exception": false,
     "start_time": "2021-07-21T11:58:08.739775",
     "status": "completed"
    },
    "tags": []
   },
   "outputs": [],
   "source": [
    "test.drop(['complectation_dict', 'equipment_dict', 'model_info',\n",
    "           'super_gen', 'vendor', 'Владение'], axis=1, inplace=True)"
   ]
  },
  {
   "cell_type": "markdown",
   "metadata": {
    "papermill": {
     "duration": 0.285128,
     "end_time": "2021-07-21T11:58:09.610210",
     "exception": false,
     "start_time": "2021-07-21T11:58:09.325082",
     "status": "completed"
    },
    "tags": []
   },
   "source": [
    "Теперь посмотрим, что вышло:"
   ]
  },
  {
   "cell_type": "code",
   "execution_count": 20,
   "metadata": {
    "execution": {
     "iopub.execute_input": "2021-07-21T11:58:10.315859Z",
     "iopub.status.busy": "2021-07-21T11:58:10.314966Z",
     "iopub.status.idle": "2021-07-21T11:58:10.329115Z",
     "shell.execute_reply": "2021-07-21T11:58:10.329813Z",
     "shell.execute_reply.started": "2021-07-21T11:20:02.268128Z"
    },
    "papermill": {
     "duration": 0.426775,
     "end_time": "2021-07-21T11:58:10.329989",
     "exception": false,
     "start_time": "2021-07-21T11:58:09.903214",
     "status": "completed"
    },
    "tags": []
   },
   "outputs": [
    {
     "name": "stdout",
     "output_type": "stream",
     "text": [
      "<class 'pandas.core.frame.DataFrame'>\n",
      "RangeIndex: 34686 entries, 0 to 34685\n",
      "Data columns (total 26 columns):\n",
      " #   Column                Non-Null Count  Dtype \n",
      "---  ------                --------------  ----- \n",
      " 0   bodyType              34686 non-null  object\n",
      " 1   brand                 34686 non-null  object\n",
      " 2   car_url               34686 non-null  object\n",
      " 3   color                 34686 non-null  object\n",
      " 4   description           34686 non-null  object\n",
      " 5   engineDisplacement    34686 non-null  object\n",
      " 6   enginePower           34686 non-null  object\n",
      " 7   fuelType              34686 non-null  object\n",
      " 8   image                 34686 non-null  object\n",
      " 9   mileage               34686 non-null  int64 \n",
      " 10  modelDate             34686 non-null  int64 \n",
      " 11  model_name            34686 non-null  object\n",
      " 12  name                  34686 non-null  object\n",
      " 13  numberOfDoors         34686 non-null  int64 \n",
      " 14  parsing_unixtime      34686 non-null  int64 \n",
      " 15  priceCurrency         34686 non-null  object\n",
      " 16  productionDate        34686 non-null  int64 \n",
      " 17  sell_id               34686 non-null  int64 \n",
      " 18  vehicleConfiguration  34686 non-null  object\n",
      " 19  vehicleTransmission   34686 non-null  object\n",
      " 20  Владельцы             34686 non-null  object\n",
      " 21  ПТС                   34685 non-null  object\n",
      " 22  Привод                34686 non-null  object\n",
      " 23  Руль                  34686 non-null  object\n",
      " 24  Состояние             34686 non-null  object\n",
      " 25  Таможня               34686 non-null  object\n",
      "dtypes: int64(6), object(20)\n",
      "memory usage: 6.9+ MB\n"
     ]
    }
   ],
   "source": [
    "test.info()"
   ]
  },
  {
   "cell_type": "markdown",
   "metadata": {
    "papermill": {
     "duration": 0.280514,
     "end_time": "2021-07-21T11:58:10.893277",
     "exception": false,
     "start_time": "2021-07-21T11:58:10.612763",
     "status": "completed"
    },
    "tags": []
   },
   "source": [
    "Теперь посмотрим, есть ли дубликаты в тренировочном дата-сете:"
   ]
  },
  {
   "cell_type": "code",
   "execution_count": 21,
   "metadata": {
    "execution": {
     "iopub.execute_input": "2021-07-21T11:58:11.469376Z",
     "iopub.status.busy": "2021-07-21T11:58:11.467925Z",
     "iopub.status.idle": "2021-07-21T11:58:11.474848Z",
     "shell.execute_reply": "2021-07-21T11:58:11.474066Z",
     "shell.execute_reply.started": "2021-07-21T11:20:02.317385Z"
    },
    "papermill": {
     "duration": 0.299592,
     "end_time": "2021-07-21T11:58:11.475001",
     "exception": false,
     "start_time": "2021-07-21T11:58:11.175409",
     "status": "completed"
    },
    "tags": []
   },
   "outputs": [
    {
     "data": {
      "text/plain": [
       "366"
      ]
     },
     "execution_count": 21,
     "metadata": {},
     "output_type": "execute_result"
    }
   ],
   "source": [
    "train['car_url'].duplicated().sum()"
   ]
  },
  {
   "cell_type": "markdown",
   "metadata": {
    "papermill": {
     "duration": 0.283152,
     "end_time": "2021-07-21T11:58:12.038079",
     "exception": false,
     "start_time": "2021-07-21T11:58:11.754927",
     "status": "completed"
    },
    "tags": []
   },
   "source": [
    "Удалим их:"
   ]
  },
  {
   "cell_type": "code",
   "execution_count": 22,
   "metadata": {
    "execution": {
     "iopub.execute_input": "2021-07-21T11:58:12.607471Z",
     "iopub.status.busy": "2021-07-21T11:58:12.606725Z",
     "iopub.status.idle": "2021-07-21T11:58:12.633079Z",
     "shell.execute_reply": "2021-07-21T11:58:12.632145Z",
     "shell.execute_reply.started": "2021-07-21T11:20:02.330532Z"
    },
    "papermill": {
     "duration": 0.31442,
     "end_time": "2021-07-21T11:58:12.633202",
     "exception": false,
     "start_time": "2021-07-21T11:58:12.318782",
     "status": "completed"
    },
    "tags": []
   },
   "outputs": [],
   "source": [
    "# Удалим, указав столбец, по которому смотреть дубликаты\n",
    "train = train.drop_duplicates(subset=['car_url'])"
   ]
  },
  {
   "cell_type": "markdown",
   "metadata": {
    "papermill": {
     "duration": 0.281721,
     "end_time": "2021-07-21T11:58:13.192816",
     "exception": false,
     "start_time": "2021-07-21T11:58:12.911095",
     "status": "completed"
    },
    "tags": []
   },
   "source": [
    "Проверим, везде ли в тренировочном фрейме есть цена:"
   ]
  },
  {
   "cell_type": "code",
   "execution_count": 23,
   "metadata": {
    "execution": {
     "iopub.execute_input": "2021-07-21T11:58:13.773689Z",
     "iopub.status.busy": "2021-07-21T11:58:13.772538Z",
     "iopub.status.idle": "2021-07-21T11:58:13.777223Z",
     "shell.execute_reply": "2021-07-21T11:58:13.776644Z",
     "shell.execute_reply.started": "2021-07-21T11:20:02.364053Z"
    },
    "papermill": {
     "duration": 0.299686,
     "end_time": "2021-07-21T11:58:13.777357",
     "exception": false,
     "start_time": "2021-07-21T11:58:13.477671",
     "status": "completed"
    },
    "tags": []
   },
   "outputs": [
    {
     "data": {
      "text/plain": [
       "0"
      ]
     },
     "execution_count": 23,
     "metadata": {},
     "output_type": "execute_result"
    }
   ],
   "source": [
    "train.price.isna().sum()"
   ]
  },
  {
   "cell_type": "markdown",
   "metadata": {
    "papermill": {
     "duration": 0.279651,
     "end_time": "2021-07-21T11:58:14.336581",
     "exception": false,
     "start_time": "2021-07-21T11:58:14.056930",
     "status": "completed"
    },
    "tags": []
   },
   "source": [
    "Цена присутствует у всех строк во фрейме."
   ]
  },
  {
   "cell_type": "markdown",
   "metadata": {
    "papermill": {
     "duration": 0.322938,
     "end_time": "2021-07-21T11:58:14.941600",
     "exception": false,
     "start_time": "2021-07-21T11:58:14.618662",
     "status": "completed"
    },
    "tags": []
   },
   "source": [
    "Как мы видим, в некоторых столбцах присутствуют пропуски, с которыми мы в дальнейшем проведем работу и решим, как их заполнить. В целом мы имеем примерно одинаковые по размеру тестовый и тренировочный дата-сеты, примерно по 34 тысячи строк. Теперь, когда первичная обработка данных закончена, можно перейти к более сложным и интересным моментам."
   ]
  },
  {
   "cell_type": "markdown",
   "metadata": {
    "papermill": {
     "duration": 0.278107,
     "end_time": "2021-07-21T11:58:15.501439",
     "exception": false,
     "start_time": "2021-07-21T11:58:15.223332",
     "status": "completed"
    },
    "tags": []
   },
   "source": [
    "## 3.2. Подготовка и Feature Engeneering"
   ]
  },
  {
   "cell_type": "markdown",
   "metadata": {
    "papermill": {
     "duration": 0.277183,
     "end_time": "2021-07-21T11:58:16.055982",
     "exception": false,
     "start_time": "2021-07-21T11:58:15.778799",
     "status": "completed"
    },
    "tags": []
   },
   "source": [
    "Теперь стоит сформировать списки, в которых будут храниться интересные нам признаки. Их, как обычно, будет три: бинарные, числовые и категориальные:"
   ]
  },
  {
   "cell_type": "code",
   "execution_count": 24,
   "metadata": {
    "execution": {
     "iopub.execute_input": "2021-07-21T11:58:16.633276Z",
     "iopub.status.busy": "2021-07-21T11:58:16.632539Z",
     "iopub.status.idle": "2021-07-21T11:58:16.636331Z",
     "shell.execute_reply": "2021-07-21T11:58:16.635601Z",
     "shell.execute_reply.started": "2021-07-21T11:20:02.374345Z"
    },
    "papermill": {
     "duration": 0.299973,
     "end_time": "2021-07-21T11:58:16.636466",
     "exception": false,
     "start_time": "2021-07-21T11:58:16.336493",
     "status": "completed"
    },
    "tags": []
   },
   "outputs": [],
   "source": [
    "# Бинарные признаки - ноль или единица\n",
    "bin_cols = []\n",
    "\n",
    "# Категориальные признаки\n",
    "cat_cols = []\n",
    "\n",
    "# числовые признаки\n",
    "num_cols = []"
   ]
  },
  {
   "cell_type": "markdown",
   "metadata": {
    "papermill": {
     "duration": 0.290083,
     "end_time": "2021-07-21T11:58:17.242105",
     "exception": false,
     "start_time": "2021-07-21T11:58:16.952022",
     "status": "completed"
    },
    "tags": []
   },
   "source": [
    "Теперь пойдем слева-напаво по нашим столбцам и рассмотрим, что мы можем выделить из них для дальнейшего обучения модели."
   ]
  },
  {
   "cell_type": "markdown",
   "metadata": {
    "papermill": {
     "duration": 0.285396,
     "end_time": "2021-07-21T11:58:17.817097",
     "exception": false,
     "start_time": "2021-07-21T11:58:17.531701",
     "status": "completed"
    },
    "tags": []
   },
   "source": [
    "### 3.2.1. Столбец bodyType"
   ]
  },
  {
   "cell_type": "markdown",
   "metadata": {
    "papermill": {
     "duration": 0.287378,
     "end_time": "2021-07-21T11:58:18.385051",
     "exception": false,
     "start_time": "2021-07-21T11:58:18.097673",
     "status": "completed"
    },
    "tags": []
   },
   "source": [
    "Данный столбец отражает тип кузова автомобиля. Посмотрим на количество вариантов:"
   ]
  },
  {
   "cell_type": "code",
   "execution_count": 25,
   "metadata": {
    "execution": {
     "iopub.execute_input": "2021-07-21T11:58:18.959665Z",
     "iopub.status.busy": "2021-07-21T11:58:18.958960Z",
     "iopub.status.idle": "2021-07-21T11:58:18.965963Z",
     "shell.execute_reply": "2021-07-21T11:58:18.965284Z",
     "shell.execute_reply.started": "2021-07-21T11:20:02.387365Z"
    },
    "papermill": {
     "duration": 0.29378,
     "end_time": "2021-07-21T11:58:18.966087",
     "exception": false,
     "start_time": "2021-07-21T11:58:18.672307",
     "status": "completed"
    },
    "tags": []
   },
   "outputs": [
    {
     "data": {
      "text/plain": [
       "array(['внедорожник 5 дв.', 'купе', 'седан', 'хэтчбек 5 дв.',\n",
       "       'внедорожник 3 дв.', 'лифтбек', 'минивэн', 'компактвэн',\n",
       "       'универсал 5 дв.', 'хэтчбек 3 дв.', 'пикап одинарная кабина',\n",
       "       'пикап двойная кабина', 'купе-хардтоп', 'кабриолет', 'фургон',\n",
       "       'родстер', 'лимузин', 'микровэн', 'тарга', 'хэтчбек 4 дв.',\n",
       "       'пикап полуторная кабина', 'фастбек', 'седан-хардтоп',\n",
       "       'внедорожник открытый', 'седан 2 дв.', 'универсал 3 дв.'],\n",
       "      dtype=object)"
      ]
     },
     "execution_count": 25,
     "metadata": {},
     "output_type": "execute_result"
    }
   ],
   "source": [
    "train.bodyType.unique()"
   ]
  },
  {
   "cell_type": "markdown",
   "metadata": {
    "papermill": {
     "duration": 0.287873,
     "end_time": "2021-07-21T11:58:19.538811",
     "exception": false,
     "start_time": "2021-07-21T11:58:19.250938",
     "status": "completed"
    },
    "tags": []
   },
   "source": [
    "Видно, что многие названия на самом деле одинаковые, различие только в указании дверей. Попробуем преобразовать названия:"
   ]
  },
  {
   "cell_type": "code",
   "execution_count": 26,
   "metadata": {
    "execution": {
     "iopub.execute_input": "2021-07-21T11:58:20.124484Z",
     "iopub.status.busy": "2021-07-21T11:58:20.123413Z",
     "iopub.status.idle": "2021-07-21T11:58:20.186520Z",
     "shell.execute_reply": "2021-07-21T11:58:20.187113Z",
     "shell.execute_reply.started": "2021-07-21T11:20:02.405630Z"
    },
    "papermill": {
     "duration": 0.361975,
     "end_time": "2021-07-21T11:58:20.187276",
     "exception": false,
     "start_time": "2021-07-21T11:58:19.825301",
     "status": "completed"
    },
    "tags": []
   },
   "outputs": [],
   "source": [
    "# Выбираем первое слово для описания типа кузова\n",
    "train['bodyType'] = train['bodyType'].astype(\n",
    "    str).apply(lambda x: None if x.strip() == '' else x)\n",
    "# Понижаем регистр первого слова\n",
    "train['bodyType'] = train.bodyType.apply(lambda x: x.split(' ')[0].lower())"
   ]
  },
  {
   "cell_type": "code",
   "execution_count": 27,
   "metadata": {
    "execution": {
     "iopub.execute_input": "2021-07-21T11:58:20.769252Z",
     "iopub.status.busy": "2021-07-21T11:58:20.768200Z",
     "iopub.status.idle": "2021-07-21T11:58:20.783797Z",
     "shell.execute_reply": "2021-07-21T11:58:20.783211Z",
     "shell.execute_reply.started": "2021-07-21T11:20:02.451989Z"
    },
    "papermill": {
     "duration": 0.30304,
     "end_time": "2021-07-21T11:58:20.783966",
     "exception": false,
     "start_time": "2021-07-21T11:58:20.480926",
     "status": "completed"
    },
    "tags": []
   },
   "outputs": [
    {
     "data": {
      "text/plain": [
       "array(['внедорожник', 'купе', 'седан', 'хэтчбек', 'лифтбек', 'минивэн',\n",
       "       'компактвэн', 'универсал', 'пикап', 'купе-хардтоп', 'кабриолет',\n",
       "       'фургон', 'родстер', 'лимузин', 'микровэн', 'тарга', 'фастбек',\n",
       "       'седан-хардтоп'], dtype=object)"
      ]
     },
     "execution_count": 27,
     "metadata": {},
     "output_type": "execute_result"
    }
   ],
   "source": [
    "train.bodyType.unique()"
   ]
  },
  {
   "cell_type": "markdown",
   "metadata": {
    "papermill": {
     "duration": 0.291655,
     "end_time": "2021-07-21T11:58:21.392866",
     "exception": false,
     "start_time": "2021-07-21T11:58:21.101211",
     "status": "completed"
    },
    "tags": []
   },
   "source": [
    "Вариантов стало меньше, посмотрим на их общее количество:"
   ]
  },
  {
   "cell_type": "code",
   "execution_count": 28,
   "metadata": {
    "execution": {
     "iopub.execute_input": "2021-07-21T11:58:21.988321Z",
     "iopub.status.busy": "2021-07-21T11:58:21.987557Z",
     "iopub.status.idle": "2021-07-21T11:58:21.993650Z",
     "shell.execute_reply": "2021-07-21T11:58:21.994275Z",
     "shell.execute_reply.started": "2021-07-21T11:20:02.465446Z"
    },
    "papermill": {
     "duration": 0.314003,
     "end_time": "2021-07-21T11:58:21.994440",
     "exception": false,
     "start_time": "2021-07-21T11:58:21.680437",
     "status": "completed"
    },
    "tags": []
   },
   "outputs": [
    {
     "data": {
      "text/plain": [
       "внедорожник      14771\n",
       "седан            12858\n",
       "хэтчбек           3088\n",
       "лифтбек           2207\n",
       "универсал         1336\n",
       "минивэн            918\n",
       "купе               819\n",
       "компактвэн         518\n",
       "пикап              252\n",
       "купе-хардтоп       154\n",
       "фургон             129\n",
       "родстер             90\n",
       "кабриолет           63\n",
       "седан-хардтоп       17\n",
       "микровэн            11\n",
       "лимузин              3\n",
       "тарга                2\n",
       "фастбек              1\n",
       "Name: bodyType, dtype: int64"
      ]
     },
     "execution_count": 28,
     "metadata": {},
     "output_type": "execute_result"
    }
   ],
   "source": [
    "train.bodyType.value_counts()"
   ]
  },
  {
   "cell_type": "markdown",
   "metadata": {
    "papermill": {
     "duration": 0.286591,
     "end_time": "2021-07-21T11:58:22.570511",
     "exception": false,
     "start_time": "2021-07-21T11:58:22.283920",
     "status": "completed"
    },
    "tags": []
   },
   "source": [
    "Теперь проделаем то же самое для тестового фрейма."
   ]
  },
  {
   "cell_type": "code",
   "execution_count": 29,
   "metadata": {
    "execution": {
     "iopub.execute_input": "2021-07-21T11:58:23.153008Z",
     "iopub.status.busy": "2021-07-21T11:58:23.151966Z",
     "iopub.status.idle": "2021-07-21T11:58:23.162980Z",
     "shell.execute_reply": "2021-07-21T11:58:23.162333Z",
     "shell.execute_reply.started": "2021-07-21T11:20:02.483806Z"
    },
    "papermill": {
     "duration": 0.305415,
     "end_time": "2021-07-21T11:58:23.163105",
     "exception": false,
     "start_time": "2021-07-21T11:58:22.857690",
     "status": "completed"
    },
    "tags": []
   },
   "outputs": [
    {
     "data": {
      "text/plain": [
       "array(['лифтбек', 'внедорожник 5 дв.', 'хэтчбек 5 дв.', 'седан',\n",
       "       'компактвэн', 'универсал 5 дв.', 'пикап одинарная кабина',\n",
       "       'хэтчбек 3 дв.', 'купе', 'кабриолет', 'минивэн',\n",
       "       'пикап двойная кабина', 'внедорожник 3 дв.', 'родстер', 'микровэн',\n",
       "       'седан 2 дв.', 'купе-хардтоп', 'фастбек', 'тарга',\n",
       "       'внедорожник открытый', 'лимузин', 'пикап полуторная кабина',\n",
       "       'седан-хардтоп', 'фургон'], dtype=object)"
      ]
     },
     "execution_count": 29,
     "metadata": {},
     "output_type": "execute_result"
    }
   ],
   "source": [
    "# Смотрим уникальные значения\n",
    "test.bodyType.unique()"
   ]
  },
  {
   "cell_type": "code",
   "execution_count": 30,
   "metadata": {
    "execution": {
     "iopub.execute_input": "2021-07-21T11:58:23.798566Z",
     "iopub.status.busy": "2021-07-21T11:58:23.797186Z",
     "iopub.status.idle": "2021-07-21T11:58:23.841330Z",
     "shell.execute_reply": "2021-07-21T11:58:23.841862Z",
     "shell.execute_reply.started": "2021-07-21T11:20:02.497731Z"
    },
    "papermill": {
     "duration": 0.39728,
     "end_time": "2021-07-21T11:58:23.842043",
     "exception": false,
     "start_time": "2021-07-21T11:58:23.444763",
     "status": "completed"
    },
    "tags": []
   },
   "outputs": [],
   "source": [
    "# Выбираем первое слово для описания типа кузова\n",
    "test['bodyType'] = test['bodyType'].astype(str).apply(\n",
    "    lambda x: None if x.strip() == '' else x)\n",
    "# Понижаем регистр первого слова\n",
    "test['bodyType'] = test.bodyType.apply(lambda x: x.split(' ')[0].lower())"
   ]
  },
  {
   "cell_type": "markdown",
   "metadata": {
    "papermill": {
     "duration": 0.285812,
     "end_time": "2021-07-21T11:58:24.414736",
     "exception": false,
     "start_time": "2021-07-21T11:58:24.128924",
     "status": "completed"
    },
    "tags": []
   },
   "source": [
    "Посмотрим на результаты:"
   ]
  },
  {
   "cell_type": "code",
   "execution_count": 31,
   "metadata": {
    "execution": {
     "iopub.execute_input": "2021-07-21T11:58:24.999858Z",
     "iopub.status.busy": "2021-07-21T11:58:24.999139Z",
     "iopub.status.idle": "2021-07-21T11:58:25.007035Z",
     "shell.execute_reply": "2021-07-21T11:58:25.006078Z",
     "shell.execute_reply.started": "2021-07-21T11:20:02.541444Z"
    },
    "papermill": {
     "duration": 0.309341,
     "end_time": "2021-07-21T11:58:25.007193",
     "exception": false,
     "start_time": "2021-07-21T11:58:24.697852",
     "status": "completed"
    },
    "tags": []
   },
   "outputs": [
    {
     "data": {
      "text/plain": [
       "array(['лифтбек', 'внедорожник', 'хэтчбек', 'седан', 'компактвэн',\n",
       "       'универсал', 'пикап', 'купе', 'кабриолет', 'минивэн', 'родстер',\n",
       "       'микровэн', 'купе-хардтоп', 'фастбек', 'тарга', 'лимузин',\n",
       "       'седан-хардтоп', 'фургон'], dtype=object)"
      ]
     },
     "execution_count": 31,
     "metadata": {},
     "output_type": "execute_result"
    }
   ],
   "source": [
    "test.bodyType.unique()"
   ]
  },
  {
   "cell_type": "code",
   "execution_count": 32,
   "metadata": {
    "execution": {
     "iopub.execute_input": "2021-07-21T11:58:25.598817Z",
     "iopub.status.busy": "2021-07-21T11:58:25.598111Z",
     "iopub.status.idle": "2021-07-21T11:58:25.603147Z",
     "shell.execute_reply": "2021-07-21T11:58:25.602467Z",
     "shell.execute_reply.started": "2021-07-21T11:20:02.553258Z"
    },
    "papermill": {
     "duration": 0.313611,
     "end_time": "2021-07-21T11:58:25.603278",
     "exception": false,
     "start_time": "2021-07-21T11:58:25.289667",
     "status": "completed"
    },
    "tags": []
   },
   "outputs": [
    {
     "data": {
      "text/plain": [
       "седан            13153\n",
       "внедорожник      12346\n",
       "хэтчбек           2609\n",
       "лифтбек           2232\n",
       "универсал         1276\n",
       "минивэн            995\n",
       "купе               824\n",
       "компактвэн         489\n",
       "пикап              290\n",
       "купе-хардтоп       158\n",
       "родстер             99\n",
       "фургон              97\n",
       "кабриолет           90\n",
       "седан-хардтоп       12\n",
       "микровэн             7\n",
       "лимузин              6\n",
       "тарга                2\n",
       "фастбек              1\n",
       "Name: bodyType, dtype: int64"
      ]
     },
     "execution_count": 32,
     "metadata": {},
     "output_type": "execute_result"
    }
   ],
   "source": [
    "test.bodyType.value_counts()"
   ]
  },
  {
   "cell_type": "markdown",
   "metadata": {
    "papermill": {
     "duration": 0.280196,
     "end_time": "2021-07-21T11:58:26.164327",
     "exception": false,
     "start_time": "2021-07-21T11:58:25.884131",
     "status": "completed"
    },
    "tags": []
   },
   "source": [
    "Данный признак можно отнести к категориальным, что мы и сделаем:"
   ]
  },
  {
   "cell_type": "code",
   "execution_count": 33,
   "metadata": {
    "execution": {
     "iopub.execute_input": "2021-07-21T11:58:26.730432Z",
     "iopub.status.busy": "2021-07-21T11:58:26.729705Z",
     "iopub.status.idle": "2021-07-21T11:58:26.735002Z",
     "shell.execute_reply": "2021-07-21T11:58:26.734352Z",
     "shell.execute_reply.started": "2021-07-21T11:20:02.578469Z"
    },
    "papermill": {
     "duration": 0.289563,
     "end_time": "2021-07-21T11:58:26.735135",
     "exception": false,
     "start_time": "2021-07-21T11:58:26.445572",
     "status": "completed"
    },
    "tags": []
   },
   "outputs": [],
   "source": [
    "cat_cols.append('bodyType')"
   ]
  },
  {
   "cell_type": "markdown",
   "metadata": {
    "papermill": {
     "duration": 0.284256,
     "end_time": "2021-07-21T11:58:27.302979",
     "exception": false,
     "start_time": "2021-07-21T11:58:27.018723",
     "status": "completed"
    },
    "tags": []
   },
   "source": [
    "### 3.2.2. Столбец Brand"
   ]
  },
  {
   "cell_type": "markdown",
   "metadata": {
    "papermill": {
     "duration": 0.279658,
     "end_time": "2021-07-21T11:58:27.863620",
     "exception": false,
     "start_time": "2021-07-21T11:58:27.583962",
     "status": "completed"
    },
    "tags": []
   },
   "source": [
    "Данный столбец отражает название фирмы-производителя автомобиля,посмотрим, нет ли там пропусков:"
   ]
  },
  {
   "cell_type": "code",
   "execution_count": 34,
   "metadata": {
    "execution": {
     "iopub.execute_input": "2021-07-21T11:58:28.443315Z",
     "iopub.status.busy": "2021-07-21T11:58:28.442145Z",
     "iopub.status.idle": "2021-07-21T11:58:28.447165Z",
     "shell.execute_reply": "2021-07-21T11:58:28.447700Z",
     "shell.execute_reply.started": "2021-07-21T11:20:02.586627Z"
    },
    "papermill": {
     "duration": 0.298104,
     "end_time": "2021-07-21T11:58:28.447873",
     "exception": false,
     "start_time": "2021-07-21T11:58:28.149769",
     "status": "completed"
    },
    "tags": []
   },
   "outputs": [
    {
     "data": {
      "text/plain": [
       "0"
      ]
     },
     "execution_count": 34,
     "metadata": {},
     "output_type": "execute_result"
    }
   ],
   "source": [
    "train.brand.isna().sum()"
   ]
  },
  {
   "cell_type": "markdown",
   "metadata": {
    "papermill": {
     "duration": 0.282834,
     "end_time": "2021-07-21T11:58:29.016000",
     "exception": false,
     "start_time": "2021-07-21T11:58:28.733166",
     "status": "completed"
    },
    "tags": []
   },
   "source": [
    "Пропусков нет, следовательно столбец можно обрабатывать дальше. Посмотрим на уникальные значения:"
   ]
  },
  {
   "cell_type": "code",
   "execution_count": 35,
   "metadata": {
    "execution": {
     "iopub.execute_input": "2021-07-21T11:58:29.585421Z",
     "iopub.status.busy": "2021-07-21T11:58:29.584593Z",
     "iopub.status.idle": "2021-07-21T11:58:29.592948Z",
     "shell.execute_reply": "2021-07-21T11:58:29.593529Z",
     "shell.execute_reply.started": "2021-07-21T11:20:02.598936Z"
    },
    "papermill": {
     "duration": 0.294358,
     "end_time": "2021-07-21T11:58:29.593702",
     "exception": false,
     "start_time": "2021-07-21T11:58:29.299344",
     "status": "completed"
    },
    "tags": []
   },
   "outputs": [
    {
     "data": {
      "text/plain": [
       "array(['NISSAN', 'MERCEDES', 'LAND_ROVER', 'BMW', 'VOLKSWAGEN', 'LEXUS',\n",
       "       'VOLVO', 'HYUNDAI', 'HAVAL', 'PORSCHE', 'AUDI', 'SUZUKI',\n",
       "       'RENAULT', 'JAGUAR', 'DODGE', 'SKODA', 'CHANGAN', 'KIA', 'CITROEN',\n",
       "       'TOYOTA', 'VAZ', 'MITSUBISHI', 'MAZDA', 'CHEVROLET', 'FORD', 'UAZ',\n",
       "       'VORTEX', 'MINI', 'HONDA', 'OPEL', 'SUBARU', 'JEEP', 'PEUGEOT',\n",
       "       'GAZ', 'GREAT_WALL', 'SSANG_YONG', 'CADILLAC', 'MASERATI',\n",
       "       'INFINITI', 'CHERY', 'GEELY', 'FIAT', 'BAIC', 'RAM', 'DATSUN',\n",
       "       'PONTIAC', 'CHRYSLER', 'ROLLS_ROYCE', 'ZAZ', 'TESLA', 'DAEWOO',\n",
       "       'BENTLEY', 'GMC', 'LIFAN', 'SEAT', 'FAW', 'GAC', 'SMART',\n",
       "       'FERRARI', 'GENESIS', 'TAGAZ', 'IG', 'ACURA', 'IRAN_KHODRO',\n",
       "       'LINCOLN', 'MCLAREN', 'BRILLIANCE', 'ALFA_ROMEO', 'LANCIA',\n",
       "       'HUMMER', 'RAVON', 'DAIHATSU', 'HAFEI', 'SAAB', 'LAMBORGHINI',\n",
       "       'LUXGEN', 'ZOTYE', 'DW_HOWER', 'MOSCVICH', 'MG', 'TATRA', 'SATURN'],\n",
       "      dtype=object)"
      ]
     },
     "execution_count": 35,
     "metadata": {},
     "output_type": "execute_result"
    }
   ],
   "source": [
    "train.brand.unique()"
   ]
  },
  {
   "cell_type": "markdown",
   "metadata": {
    "papermill": {
     "duration": 0.285213,
     "end_time": "2021-07-21T11:58:30.159942",
     "exception": false,
     "start_time": "2021-07-21T11:58:29.874729",
     "status": "completed"
    },
    "tags": []
   },
   "source": [
    "Посмотрим на количество брендов того или иного авто:"
   ]
  },
  {
   "cell_type": "code",
   "execution_count": 36,
   "metadata": {
    "execution": {
     "iopub.execute_input": "2021-07-21T11:58:30.733629Z",
     "iopub.status.busy": "2021-07-21T11:58:30.732654Z",
     "iopub.status.idle": "2021-07-21T11:58:30.750379Z",
     "shell.execute_reply": "2021-07-21T11:58:30.749721Z",
     "shell.execute_reply.started": "2021-07-21T11:20:02.613208Z"
    },
    "papermill": {
     "duration": 0.307416,
     "end_time": "2021-07-21T11:58:30.750504",
     "exception": false,
     "start_time": "2021-07-21T11:58:30.443088",
     "status": "completed"
    },
    "tags": []
   },
   "outputs": [
    {
     "data": {
      "text/plain": [
       "MERCEDES      4338\n",
       "VOLKSWAGEN    4166\n",
       "BMW           4158\n",
       "TOYOTA        4023\n",
       "NISSAN        3952\n",
       "              ... \n",
       "MCLAREN          1\n",
       "HAFEI            1\n",
       "SATURN           1\n",
       "DW_HOWER         1\n",
       "RAVON            1\n",
       "Name: brand, Length: 82, dtype: int64"
      ]
     },
     "execution_count": 36,
     "metadata": {},
     "output_type": "execute_result"
    }
   ],
   "source": [
    "train.brand.value_counts()"
   ]
  },
  {
   "cell_type": "markdown",
   "metadata": {
    "papermill": {
     "duration": 0.289095,
     "end_time": "2021-07-21T11:58:31.322243",
     "exception": false,
     "start_time": "2021-07-21T11:58:31.033148",
     "status": "completed"
    },
    "tags": []
   },
   "source": [
    "На основе предоставленных данных, можно сказать, что на сайте также представлены единичные объявления. Попробуем уменьшить количество брендов, оставив только те, вклад которых составляет не менее 2% дата-сета. Остальные запишем в Other."
   ]
  },
  {
   "cell_type": "code",
   "execution_count": 37,
   "metadata": {
    "execution": {
     "iopub.execute_input": "2021-07-21T11:58:31.892868Z",
     "iopub.status.busy": "2021-07-21T11:58:31.892136Z",
     "iopub.status.idle": "2021-07-21T11:58:31.907013Z",
     "shell.execute_reply": "2021-07-21T11:58:31.907577Z",
     "shell.execute_reply.started": "2021-07-21T11:20:02.628816Z"
    },
    "papermill": {
     "duration": 0.303286,
     "end_time": "2021-07-21T11:58:31.907787",
     "exception": false,
     "start_time": "2021-07-21T11:58:31.604501",
     "status": "completed"
    },
    "tags": []
   },
   "outputs": [],
   "source": [
    "all_brands = len(train.brand)\n",
    "brands_train = train.brand.value_counts()"
   ]
  },
  {
   "cell_type": "markdown",
   "metadata": {
    "papermill": {
     "duration": 0.289815,
     "end_time": "2021-07-21T11:58:32.513678",
     "exception": false,
     "start_time": "2021-07-21T11:58:32.223863",
     "status": "completed"
    },
    "tags": []
   },
   "source": [
    "Теперь вычислим процентное соотношение каждого бренда во всем списке:"
   ]
  },
  {
   "cell_type": "code",
   "execution_count": 38,
   "metadata": {
    "execution": {
     "iopub.execute_input": "2021-07-21T11:58:33.088280Z",
     "iopub.status.busy": "2021-07-21T11:58:33.087536Z",
     "iopub.status.idle": "2021-07-21T11:58:33.116543Z",
     "shell.execute_reply": "2021-07-21T11:58:33.115931Z",
     "shell.execute_reply.started": "2021-07-21T11:20:02.642867Z"
    },
    "papermill": {
     "duration": 0.317043,
     "end_time": "2021-07-21T11:58:33.116685",
     "exception": false,
     "start_time": "2021-07-21T11:58:32.799642",
     "status": "completed"
    },
    "tags": []
   },
   "outputs": [],
   "source": [
    "brand_to_all_train = brands_train/all_brands*100"
   ]
  },
  {
   "cell_type": "markdown",
   "metadata": {
    "papermill": {
     "duration": 0.285556,
     "end_time": "2021-07-21T11:58:33.688607",
     "exception": false,
     "start_time": "2021-07-21T11:58:33.403051",
     "status": "completed"
    },
    "tags": []
   },
   "source": [
    "Посмотрим результат:"
   ]
  },
  {
   "cell_type": "code",
   "execution_count": 39,
   "metadata": {
    "execution": {
     "iopub.execute_input": "2021-07-21T11:58:34.264579Z",
     "iopub.status.busy": "2021-07-21T11:58:34.263815Z",
     "iopub.status.idle": "2021-07-21T11:58:34.267164Z",
     "shell.execute_reply": "2021-07-21T11:58:34.267685Z",
     "shell.execute_reply.started": "2021-07-21T11:20:02.655954Z"
    },
    "papermill": {
     "duration": 0.293953,
     "end_time": "2021-07-21T11:58:34.267872",
     "exception": false,
     "start_time": "2021-07-21T11:58:33.973919",
     "status": "completed"
    },
    "tags": []
   },
   "outputs": [
    {
     "data": {
      "text/plain": [
       "MERCEDES      11.649703\n",
       "VOLKSWAGEN    11.187797\n",
       "BMW           11.166313\n",
       "TOYOTA        10.803770\n",
       "NISSAN        10.613100\n",
       "                ...    \n",
       "MCLAREN        0.002686\n",
       "HAFEI          0.002686\n",
       "SATURN         0.002686\n",
       "DW_HOWER       0.002686\n",
       "RAVON          0.002686\n",
       "Name: brand, Length: 82, dtype: float64"
      ]
     },
     "execution_count": 39,
     "metadata": {},
     "output_type": "execute_result"
    }
   ],
   "source": [
    "brand_to_all_train"
   ]
  },
  {
   "cell_type": "markdown",
   "metadata": {
    "papermill": {
     "duration": 0.291137,
     "end_time": "2021-07-21T11:58:34.845075",
     "exception": false,
     "start_time": "2021-07-21T11:58:34.553938",
     "status": "completed"
    },
    "tags": []
   },
   "source": [
    "Запишем все, что меньше 2% в Other:"
   ]
  },
  {
   "cell_type": "code",
   "execution_count": 40,
   "metadata": {
    "execution": {
     "iopub.execute_input": "2021-07-21T11:58:35.471985Z",
     "iopub.status.busy": "2021-07-21T11:58:35.470865Z",
     "iopub.status.idle": "2021-07-21T11:58:35.728847Z",
     "shell.execute_reply": "2021-07-21T11:58:35.729354Z",
     "shell.execute_reply.started": "2021-07-21T11:20:02.669960Z"
    },
    "papermill": {
     "duration": 0.545024,
     "end_time": "2021-07-21T11:58:35.729519",
     "exception": false,
     "start_time": "2021-07-21T11:58:35.184495",
     "status": "completed"
    },
    "tags": []
   },
   "outputs": [],
   "source": [
    "train['brand_new'] = train.brand.apply(\n",
    "    lambda x: x if brand_to_all_train[x] > 2 else 'other')"
   ]
  },
  {
   "cell_type": "markdown",
   "metadata": {
    "papermill": {
     "duration": 0.282353,
     "end_time": "2021-07-21T11:58:36.293818",
     "exception": false,
     "start_time": "2021-07-21T11:58:36.011465",
     "status": "completed"
    },
    "tags": []
   },
   "source": [
    "Результат:"
   ]
  },
  {
   "cell_type": "code",
   "execution_count": 41,
   "metadata": {
    "execution": {
     "iopub.execute_input": "2021-07-21T11:58:36.865899Z",
     "iopub.status.busy": "2021-07-21T11:58:36.864772Z",
     "iopub.status.idle": "2021-07-21T11:58:36.883637Z",
     "shell.execute_reply": "2021-07-21T11:58:36.882997Z",
     "shell.execute_reply.started": "2021-07-21T11:20:02.837984Z"
    },
    "papermill": {
     "duration": 0.306914,
     "end_time": "2021-07-21T11:58:36.883758",
     "exception": false,
     "start_time": "2021-07-21T11:58:36.576844",
     "status": "completed"
    },
    "tags": []
   },
   "outputs": [
    {
     "data": {
      "text/plain": [
       "MERCEDES      4338\n",
       "VOLKSWAGEN    4166\n",
       "BMW           4158\n",
       "TOYOTA        4023\n",
       "NISSAN        3952\n",
       "other         3710\n",
       "AUDI          2994\n",
       "SKODA         2592\n",
       "MITSUBISHI    2395\n",
       "VOLVO         1263\n",
       "LEXUS         1102\n",
       "HONDA         1033\n",
       "INFINITI       763\n",
       "KIA            748\n",
       "Name: brand_new, dtype: int64"
      ]
     },
     "execution_count": 41,
     "metadata": {},
     "output_type": "execute_result"
    }
   ],
   "source": [
    "train.brand_new.value_counts()"
   ]
  },
  {
   "cell_type": "markdown",
   "metadata": {
    "papermill": {
     "duration": 0.283437,
     "end_time": "2021-07-21T11:58:37.448248",
     "exception": false,
     "start_time": "2021-07-21T11:58:37.164811",
     "status": "completed"
    },
    "tags": []
   },
   "source": [
    "Так-как наша задача предсказать правильно цену для тестовой выборки, посмотрим, попали ли какие-либо модели из выборки в категорию \"other\""
   ]
  },
  {
   "cell_type": "code",
   "execution_count": 42,
   "metadata": {
    "execution": {
     "iopub.execute_input": "2021-07-21T11:58:38.026985Z",
     "iopub.status.busy": "2021-07-21T11:58:38.021655Z",
     "iopub.status.idle": "2021-07-21T11:58:38.288254Z",
     "shell.execute_reply": "2021-07-21T11:58:38.287611Z",
     "shell.execute_reply.started": "2021-07-21T11:20:02.851722Z"
    },
    "papermill": {
     "duration": 0.554505,
     "end_time": "2021-07-21T11:58:38.288385",
     "exception": false,
     "start_time": "2021-07-21T11:58:37.733880",
     "status": "completed"
    },
    "tags": []
   },
   "outputs": [],
   "source": [
    "test['brand_new'] = train.brand.apply(\n",
    "    lambda x: x if brand_to_all_train[x] > 2 else 'other')"
   ]
  },
  {
   "cell_type": "code",
   "execution_count": 43,
   "metadata": {
    "execution": {
     "iopub.execute_input": "2021-07-21T11:58:38.886333Z",
     "iopub.status.busy": "2021-07-21T11:58:38.885615Z",
     "iopub.status.idle": "2021-07-21T11:58:38.889450Z",
     "shell.execute_reply": "2021-07-21T11:58:38.890015Z",
     "shell.execute_reply.started": "2021-07-21T11:20:03.023135Z"
    },
    "papermill": {
     "duration": 0.308814,
     "end_time": "2021-07-21T11:58:38.890173",
     "exception": false,
     "start_time": "2021-07-21T11:58:38.581359",
     "status": "completed"
    },
    "tags": []
   },
   "outputs": [
    {
     "data": {
      "text/plain": [
       "MERCEDES      4338\n",
       "VOLKSWAGEN    4166\n",
       "BMW           4158\n",
       "TOYOTA        4023\n",
       "NISSAN        3952\n",
       "other         3710\n",
       "SKODA         2592\n",
       "MITSUBISHI    2395\n",
       "AUDI          2044\n",
       "LEXUS         1102\n",
       "INFINITI       763\n",
       "KIA            748\n",
       "VOLVO          207\n",
       "HONDA          127\n",
       "Name: brand_new, dtype: int64"
      ]
     },
     "execution_count": 43,
     "metadata": {},
     "output_type": "execute_result"
    }
   ],
   "source": [
    "test.brand_new.value_counts()"
   ]
  },
  {
   "cell_type": "markdown",
   "metadata": {
    "papermill": {
     "duration": 0.285232,
     "end_time": "2021-07-21T11:58:39.472892",
     "exception": false,
     "start_time": "2021-07-21T11:58:39.187660",
     "status": "completed"
    },
    "tags": []
   },
   "source": [
    "Как мы можем увидеть, все модели остались в изначальном списке. Данный столбец можно отнести к категориальным, но предварительно посмотрим графически, каких брендов больше:"
   ]
  },
  {
   "cell_type": "code",
   "execution_count": 44,
   "metadata": {
    "execution": {
     "iopub.execute_input": "2021-07-21T11:58:40.069048Z",
     "iopub.status.busy": "2021-07-21T11:58:40.068331Z",
     "iopub.status.idle": "2021-07-21T11:58:40.411520Z",
     "shell.execute_reply": "2021-07-21T11:58:40.410797Z",
     "shell.execute_reply.started": "2021-07-21T11:20:03.035695Z"
    },
    "papermill": {
     "duration": 0.653969,
     "end_time": "2021-07-21T11:58:40.411650",
     "exception": false,
     "start_time": "2021-07-21T11:58:39.757681",
     "status": "completed"
    },
    "tags": []
   },
   "outputs": [
    {
     "data": {
      "text/plain": [
       "<matplotlib.axes._subplots.AxesSubplot at 0x7f2cdbf72850>"
      ]
     },
     "execution_count": 44,
     "metadata": {},
     "output_type": "execute_result"
    },
    {
     "data": {
      "image/png": "[encoded data removed]",
      "text/plain": [
       "<Figure size 576x396 with 1 Axes>"
      ]
     },
     "metadata": {},
     "output_type": "display_data"
    }
   ],
   "source": [
    "train.brand_new.value_counts().plot.barh()"
   ]
  },
  {
   "cell_type": "markdown",
   "metadata": {
    "papermill": {
     "duration": 0.287155,
     "end_time": "2021-07-21T11:58:40.994110",
     "exception": false,
     "start_time": "2021-07-21T11:58:40.706955",
     "status": "completed"
    },
    "tags": []
   },
   "source": [
    "Видно, что бренды, которые мы отнесли к Other теперь находятся на 6 месте по количеству упоминаний. Но без таких манипуляций возникло бы слишком много уникальных значений. Запишем признак в cat_cols:"
   ]
  },
  {
   "cell_type": "code",
   "execution_count": 45,
   "metadata": {
    "execution": {
     "iopub.execute_input": "2021-07-21T11:58:41.578007Z",
     "iopub.status.busy": "2021-07-21T11:58:41.577006Z",
     "iopub.status.idle": "2021-07-21T11:58:41.580606Z",
     "shell.execute_reply": "2021-07-21T11:58:41.579927Z",
     "shell.execute_reply.started": "2021-07-21T11:20:03.304774Z"
    },
    "papermill": {
     "duration": 0.299715,
     "end_time": "2021-07-21T11:58:41.580729",
     "exception": false,
     "start_time": "2021-07-21T11:58:41.281014",
     "status": "completed"
    },
    "tags": []
   },
   "outputs": [],
   "source": [
    "cat_cols.append('brand_new')"
   ]
  },
  {
   "cell_type": "markdown",
   "metadata": {
    "papermill": {
     "duration": 0.291599,
     "end_time": "2021-07-21T11:58:42.167779",
     "exception": false,
     "start_time": "2021-07-21T11:58:41.876180",
     "status": "completed"
    },
    "tags": []
   },
   "source": [
    "### 3.2.3. Столбец car_url"
   ]
  },
  {
   "cell_type": "markdown",
   "metadata": {
    "papermill": {
     "duration": 0.292646,
     "end_time": "2021-07-21T11:58:42.747231",
     "exception": false,
     "start_time": "2021-07-21T11:58:42.454585",
     "status": "completed"
    },
    "tags": []
   },
   "source": [
    "Данный признак хранит ссылку на объявление о продаже автомобиля. Для обучения использовать не будем, так как смысловой нагрузки он не несет."
   ]
  },
  {
   "cell_type": "markdown",
   "metadata": {
    "papermill": {
     "duration": 0.337242,
     "end_time": "2021-07-21T11:58:43.406176",
     "exception": false,
     "start_time": "2021-07-21T11:58:43.068934",
     "status": "completed"
    },
    "tags": []
   },
   "source": [
    "### 3.2.4. Столбец color"
   ]
  },
  {
   "cell_type": "markdown",
   "metadata": {
    "papermill": {
     "duration": 0.287688,
     "end_time": "2021-07-21T11:58:43.986125",
     "exception": false,
     "start_time": "2021-07-21T11:58:43.698437",
     "status": "completed"
    },
    "tags": []
   },
   "source": [
    "Данный признак отражает цвет продаваемого автомобиля. Посмотрим количество уникальных значений:"
   ]
  },
  {
   "cell_type": "code",
   "execution_count": 46,
   "metadata": {
    "execution": {
     "iopub.execute_input": "2021-07-21T11:58:44.571391Z",
     "iopub.status.busy": "2021-07-21T11:58:44.570641Z",
     "iopub.status.idle": "2021-07-21T11:58:44.577552Z",
     "shell.execute_reply": "2021-07-21T11:58:44.577013Z",
     "shell.execute_reply.started": "2021-07-21T11:20:03.311122Z"
    },
    "papermill": {
     "duration": 0.299627,
     "end_time": "2021-07-21T11:58:44.577682",
     "exception": false,
     "start_time": "2021-07-21T11:58:44.278055",
     "status": "completed"
    },
    "tags": []
   },
   "outputs": [
    {
     "data": {
      "text/plain": [
       "16"
      ]
     },
     "execution_count": 46,
     "metadata": {},
     "output_type": "execute_result"
    }
   ],
   "source": [
    "train.color.nunique()"
   ]
  },
  {
   "cell_type": "markdown",
   "metadata": {
    "papermill": {
     "duration": 0.292704,
     "end_time": "2021-07-21T11:58:45.162101",
     "exception": false,
     "start_time": "2021-07-21T11:58:44.869397",
     "status": "completed"
    },
    "tags": []
   },
   "source": [
    "Сделаем то же самое для тестовой выборки:"
   ]
  },
  {
   "cell_type": "code",
   "execution_count": 47,
   "metadata": {
    "execution": {
     "iopub.execute_input": "2021-07-21T11:58:45.744120Z",
     "iopub.status.busy": "2021-07-21T11:58:45.743292Z",
     "iopub.status.idle": "2021-07-21T11:58:45.750036Z",
     "shell.execute_reply": "2021-07-21T11:58:45.749326Z",
     "shell.execute_reply.started": "2021-07-21T11:20:03.328615Z"
    },
    "papermill": {
     "duration": 0.304139,
     "end_time": "2021-07-21T11:58:45.750167",
     "exception": false,
     "start_time": "2021-07-21T11:58:45.446028",
     "status": "completed"
    },
    "tags": []
   },
   "outputs": [
    {
     "data": {
      "text/plain": [
       "16"
      ]
     },
     "execution_count": 47,
     "metadata": {},
     "output_type": "execute_result"
    }
   ],
   "source": [
    "test.color.nunique()"
   ]
  },
  {
   "cell_type": "markdown",
   "metadata": {
    "papermill": {
     "duration": 0.296359,
     "end_time": "2021-07-21T11:58:46.332919",
     "exception": false,
     "start_time": "2021-07-21T11:58:46.036560",
     "status": "completed"
    },
    "tags": []
   },
   "source": [
    "Проверим на пропуски и добавим к категориальным признакам:"
   ]
  },
  {
   "cell_type": "code",
   "execution_count": 48,
   "metadata": {
    "execution": {
     "iopub.execute_input": "2021-07-21T11:58:46.916368Z",
     "iopub.status.busy": "2021-07-21T11:58:46.915635Z",
     "iopub.status.idle": "2021-07-21T11:58:46.924296Z",
     "shell.execute_reply": "2021-07-21T11:58:46.925207Z",
     "shell.execute_reply.started": "2021-07-21T11:20:03.339156Z"
    },
    "papermill": {
     "duration": 0.304579,
     "end_time": "2021-07-21T11:58:46.925443",
     "exception": false,
     "start_time": "2021-07-21T11:58:46.620864",
     "status": "completed"
    },
    "tags": []
   },
   "outputs": [
    {
     "name": "stdout",
     "output_type": "stream",
     "text": [
      "0\n",
      "0\n"
     ]
    }
   ],
   "source": [
    "print(train.color.isna().sum())\n",
    "print(test.color.isna().sum())"
   ]
  },
  {
   "cell_type": "markdown",
   "metadata": {
    "papermill": {
     "duration": 0.283,
     "end_time": "2021-07-21T11:58:47.495468",
     "exception": false,
     "start_time": "2021-07-21T11:58:47.212468",
     "status": "completed"
    },
    "tags": []
   },
   "source": [
    "Пропусков нет, добавляем к категориальным признакам."
   ]
  },
  {
   "cell_type": "code",
   "execution_count": 49,
   "metadata": {
    "execution": {
     "iopub.execute_input": "2021-07-21T11:58:48.075366Z",
     "iopub.status.busy": "2021-07-21T11:58:48.074627Z",
     "iopub.status.idle": "2021-07-21T11:58:48.076703Z",
     "shell.execute_reply": "2021-07-21T11:58:48.077191Z",
     "shell.execute_reply.started": "2021-07-21T11:20:03.356716Z"
    },
    "papermill": {
     "duration": 0.295249,
     "end_time": "2021-07-21T11:58:48.077365",
     "exception": false,
     "start_time": "2021-07-21T11:58:47.782116",
     "status": "completed"
    },
    "tags": []
   },
   "outputs": [],
   "source": [
    "cat_cols.append('color')"
   ]
  },
  {
   "cell_type": "markdown",
   "metadata": {
    "papermill": {
     "duration": 0.343202,
     "end_time": "2021-07-21T11:58:48.718384",
     "exception": false,
     "start_time": "2021-07-21T11:58:48.375182",
     "status": "completed"
    },
    "tags": []
   },
   "source": [
    "### 3.2.5. Столбец description"
   ]
  },
  {
   "cell_type": "markdown",
   "metadata": {
    "papermill": {
     "duration": 0.293494,
     "end_time": "2021-07-21T11:58:49.305462",
     "exception": false,
     "start_time": "2021-07-21T11:58:49.011968",
     "status": "completed"
    },
    "tags": []
   },
   "source": [
    "Данный признак содержит описание продовца о продоваемом автомобиле. Проверим есть ли пропуски:"
   ]
  },
  {
   "cell_type": "code",
   "execution_count": 50,
   "metadata": {
    "execution": {
     "iopub.execute_input": "2021-07-21T11:58:49.884032Z",
     "iopub.status.busy": "2021-07-21T11:58:49.883293Z",
     "iopub.status.idle": "2021-07-21T11:58:49.902327Z",
     "shell.execute_reply": "2021-07-21T11:58:49.903002Z",
     "shell.execute_reply.started": "2021-07-21T11:20:03.363988Z"
    },
    "papermill": {
     "duration": 0.310737,
     "end_time": "2021-07-21T11:58:49.903163",
     "exception": false,
     "start_time": "2021-07-21T11:58:49.592426",
     "status": "completed"
    },
    "tags": []
   },
   "outputs": [
    {
     "name": "stdout",
     "output_type": "stream",
     "text": [
      "0\n",
      "0\n"
     ]
    }
   ],
   "source": [
    "print(train.description.isna().sum())\n",
    "print(test.description.isna().sum())"
   ]
  },
  {
   "cell_type": "markdown",
   "metadata": {
    "papermill": {
     "duration": 0.285512,
     "end_time": "2021-07-21T11:58:50.476110",
     "exception": false,
     "start_time": "2021-07-21T11:58:50.190598",
     "status": "completed"
    },
    "tags": []
   },
   "source": [
    "Пропусков нет, создадим признак, который бы отражал количество символов в описании:"
   ]
  },
  {
   "cell_type": "code",
   "execution_count": 51,
   "metadata": {
    "execution": {
     "iopub.execute_input": "2021-07-21T11:58:51.049496Z",
     "iopub.status.busy": "2021-07-21T11:58:51.048696Z",
     "iopub.status.idle": "2021-07-21T11:58:51.094310Z",
     "shell.execute_reply": "2021-07-21T11:58:51.094823Z",
     "shell.execute_reply.started": "2021-07-21T11:20:03.387302Z"
    },
    "papermill": {
     "duration": 0.333356,
     "end_time": "2021-07-21T11:58:51.095025",
     "exception": false,
     "start_time": "2021-07-21T11:58:50.761669",
     "status": "completed"
    },
    "tags": []
   },
   "outputs": [],
   "source": [
    "train['comment_length'] = train.description.apply(lambda x: len(str(x)))"
   ]
  },
  {
   "cell_type": "markdown",
   "metadata": {
    "papermill": {
     "duration": 0.290717,
     "end_time": "2021-07-21T11:58:51.673407",
     "exception": false,
     "start_time": "2021-07-21T11:58:51.382690",
     "status": "completed"
    },
    "tags": []
   },
   "source": [
    "повторим для тестового фрейма:"
   ]
  },
  {
   "cell_type": "code",
   "execution_count": 52,
   "metadata": {
    "execution": {
     "iopub.execute_input": "2021-07-21T11:58:52.246542Z",
     "iopub.status.busy": "2021-07-21T11:58:52.245791Z",
     "iopub.status.idle": "2021-07-21T11:58:52.288245Z",
     "shell.execute_reply": "2021-07-21T11:58:52.288879Z",
     "shell.execute_reply.started": "2021-07-21T11:20:03.422208Z"
    },
    "papermill": {
     "duration": 0.331218,
     "end_time": "2021-07-21T11:58:52.289058",
     "exception": false,
     "start_time": "2021-07-21T11:58:51.957840",
     "status": "completed"
    },
    "tags": []
   },
   "outputs": [],
   "source": [
    "test['comment_length'] = test.description.apply(lambda x: len(str(x)))"
   ]
  },
  {
   "cell_type": "markdown",
   "metadata": {
    "papermill": {
     "duration": 0.294684,
     "end_time": "2021-07-21T11:58:52.871812",
     "exception": false,
     "start_time": "2021-07-21T11:58:52.577128",
     "status": "completed"
    },
    "tags": []
   },
   "source": [
    "Теперь добавим к числовым признакам:"
   ]
  },
  {
   "cell_type": "code",
   "execution_count": 53,
   "metadata": {
    "execution": {
     "iopub.execute_input": "2021-07-21T11:58:53.455664Z",
     "iopub.status.busy": "2021-07-21T11:58:53.454967Z",
     "iopub.status.idle": "2021-07-21T11:58:53.459630Z",
     "shell.execute_reply": "2021-07-21T11:58:53.460294Z",
     "shell.execute_reply.started": "2021-07-21T11:20:03.454425Z"
    },
    "papermill": {
     "duration": 0.294836,
     "end_time": "2021-07-21T11:58:53.460473",
     "exception": false,
     "start_time": "2021-07-21T11:58:53.165637",
     "status": "completed"
    },
    "tags": []
   },
   "outputs": [],
   "source": [
    "num_cols.append('comment_length')"
   ]
  },
  {
   "cell_type": "markdown",
   "metadata": {
    "papermill": {
     "duration": 0.319458,
     "end_time": "2021-07-21T11:58:54.069246",
     "exception": false,
     "start_time": "2021-07-21T11:58:53.749788",
     "status": "completed"
    },
    "tags": []
   },
   "source": [
    "### 3.2.6. Столбец EngineDisplacement"
   ]
  },
  {
   "cell_type": "markdown",
   "metadata": {
    "papermill": {
     "duration": 0.283546,
     "end_time": "2021-07-21T11:58:54.645121",
     "exception": false,
     "start_time": "2021-07-21T11:58:54.361575",
     "status": "completed"
    },
    "tags": []
   },
   "source": [
    "Этот признак описывает объем двигателя авто. Посмотрим количество уникальных значений :"
   ]
  },
  {
   "cell_type": "code",
   "execution_count": 54,
   "metadata": {
    "execution": {
     "iopub.execute_input": "2021-07-21T11:58:55.284326Z",
     "iopub.status.busy": "2021-07-21T11:58:55.283319Z",
     "iopub.status.idle": "2021-07-21T11:58:55.289506Z",
     "shell.execute_reply": "2021-07-21T11:58:55.288808Z",
     "shell.execute_reply.started": "2021-07-21T11:20:03.460646Z"
    },
    "papermill": {
     "duration": 0.303435,
     "end_time": "2021-07-21T11:58:55.289629",
     "exception": false,
     "start_time": "2021-07-21T11:58:54.986194",
     "status": "completed"
    },
    "tags": []
   },
   "outputs": [
    {
     "data": {
      "text/plain": [
       "array(['2.0 LTR', '1.6 LTR', '3.0 LTR', '1.8 LTR', '2.5 LTR', '1.5 LTR',\n",
       "       '1.3 LTR', '3.5 LTR', '2.4 LTR', '5.5 LTR', '2.1 LTR', '4.5 LTR',\n",
       "       '2.2 LTR', '4.4 LTR', '1.4 LTR', '2.7 LTR', '4.7 LTR', '2.3 LTR',\n",
       "       '4.8 LTR', '2.9 LTR', '1.1 LTR', '5.2 LTR', '4.0 LTR', '1.2 LTR',\n",
       "       '2.8 LTR', '3.7 LTR', '1.7 LTR', '5.3 LTR', '1.0 LTR', '3.8 LTR',\n",
       "       '5.6 LTR', '3.6 LTR', '3.2 LTR', '5.7 LTR', '4.1 LTR', '4.6 LTR',\n",
       "       '1.9 LTR', ' LTR', '6.4 LTR', '6.2 LTR', '3.1 LTR', '5.0 LTR',\n",
       "       '6.0 LTR', '4.2 LTR', '6.6 LTR', '0.8 LTR', '3.4 LTR', '2.6 LTR',\n",
       "       '3.3 LTR', '5.4 LTR', '5.8 LTR', '6.8 LTR', '0.9 LTR', '4.3 LTR',\n",
       "       '0.7 LTR', '6.5 LTR', '4.9 LTR', '0.6 LTR', '3.9 LTR', '6.3 LTR',\n",
       "       '5.9 LTR'], dtype=object)"
      ]
     },
     "execution_count": 54,
     "metadata": {},
     "output_type": "execute_result"
    }
   ],
   "source": [
    "train.engineDisplacement.unique()"
   ]
  },
  {
   "cell_type": "markdown",
   "metadata": {
    "papermill": {
     "duration": 0.287539,
     "end_time": "2021-07-21T11:58:55.865979",
     "exception": false,
     "start_time": "2021-07-21T11:58:55.578440",
     "status": "completed"
    },
    "tags": []
   },
   "source": [
    "Повторим для тестовой выборки:"
   ]
  },
  {
   "cell_type": "code",
   "execution_count": 55,
   "metadata": {
    "execution": {
     "iopub.execute_input": "2021-07-21T11:58:56.453911Z",
     "iopub.status.busy": "2021-07-21T11:58:56.453042Z",
     "iopub.status.idle": "2021-07-21T11:58:56.460246Z",
     "shell.execute_reply": "2021-07-21T11:58:56.459522Z",
     "shell.execute_reply.started": "2021-07-21T11:20:03.476498Z"
    },
    "papermill": {
     "duration": 0.306316,
     "end_time": "2021-07-21T11:58:56.460379",
     "exception": false,
     "start_time": "2021-07-21T11:58:56.154063",
     "status": "completed"
    },
    "tags": []
   },
   "outputs": [
    {
     "data": {
      "text/plain": [
       "array(['1.2 LTR', '1.6 LTR', '1.8 LTR', '2.0 LTR', '1.4 LTR', '1.3 LTR',\n",
       "       '1.0 LTR', '3.6 LTR', '1.5 LTR', '1.9 LTR', '2.8 LTR', '1.1 LTR',\n",
       "       '2.5 LTR', '4.2 LTR', '3.0 LTR', '4.0 LTR', '5.9 LTR', '2.7 LTR',\n",
       "       '3.1 LTR', '2.4 LTR', '5.2 LTR', '3.2 LTR', '4.1 LTR', '6.3 LTR',\n",
       "       '2.3 LTR', '6.0 LTR', '2.2 LTR', '3.7 LTR', '2.9 LTR', '5.0 LTR',\n",
       "       '3.3 LTR', '2.1 LTR', '2.6 LTR', ' LTR', '3.5 LTR', '1.7 LTR',\n",
       "       '0.7 LTR', '4.4 LTR', '4.8 LTR', '5.4 LTR', '6.6 LTR', '4.9 LTR',\n",
       "       '3.8 LTR', '3.4 LTR', '3.9 LTR', '4.6 LTR', '5.6 LTR', '4.5 LTR',\n",
       "       '5.5 LTR', '6.2 LTR', '4.7 LTR', '4.3 LTR', '5.8 LTR', '5.3 LTR',\n",
       "       '5.7 LTR'], dtype=object)"
      ]
     },
     "execution_count": 55,
     "metadata": {},
     "output_type": "execute_result"
    }
   ],
   "source": [
    "test.engineDisplacement.unique()"
   ]
  },
  {
   "cell_type": "markdown",
   "metadata": {
    "papermill": {
     "duration": 0.288574,
     "end_time": "2021-07-21T11:58:57.037582",
     "exception": false,
     "start_time": "2021-07-21T11:58:56.749008",
     "status": "completed"
    },
    "tags": []
   },
   "source": [
    "Мы видим, что признак отражает литраж двигателя с припиской LTR. Попробуем ее убрать:"
   ]
  },
  {
   "cell_type": "code",
   "execution_count": 56,
   "metadata": {
    "execution": {
     "iopub.execute_input": "2021-07-21T11:58:57.623224Z",
     "iopub.status.busy": "2021-07-21T11:58:57.618112Z",
     "iopub.status.idle": "2021-07-21T11:58:57.638035Z",
     "shell.execute_reply": "2021-07-21T11:58:57.637450Z",
     "shell.execute_reply.started": "2021-07-21T11:20:03.486409Z"
    },
    "papermill": {
     "duration": 0.313442,
     "end_time": "2021-07-21T11:58:57.638172",
     "exception": false,
     "start_time": "2021-07-21T11:58:57.324730",
     "status": "completed"
    },
    "tags": []
   },
   "outputs": [],
   "source": [
    "train.engineDisplacement = train.engineDisplacement.apply(lambda x: x[:3])"
   ]
  },
  {
   "cell_type": "code",
   "execution_count": 57,
   "metadata": {
    "execution": {
     "iopub.execute_input": "2021-07-21T11:58:58.221627Z",
     "iopub.status.busy": "2021-07-21T11:58:58.220644Z",
     "iopub.status.idle": "2021-07-21T11:58:58.227148Z",
     "shell.execute_reply": "2021-07-21T11:58:58.227651Z",
     "shell.execute_reply.started": "2021-07-21T11:20:03.507074Z"
    },
    "papermill": {
     "duration": 0.302563,
     "end_time": "2021-07-21T11:58:58.227813",
     "exception": false,
     "start_time": "2021-07-21T11:58:57.925250",
     "status": "completed"
    },
    "tags": []
   },
   "outputs": [
    {
     "data": {
      "text/plain": [
       "array(['2.0', '1.6', '3.0', '1.8', '2.5', '1.5', '1.3', '3.5', '2.4',\n",
       "       '5.5', '2.1', '4.5', '2.2', '4.4', '1.4', '2.7', '4.7', '2.3',\n",
       "       '4.8', '2.9', '1.1', '5.2', '4.0', '1.2', '2.8', '3.7', '1.7',\n",
       "       '5.3', '1.0', '3.8', '5.6', '3.6', '3.2', '5.7', '4.1', '4.6',\n",
       "       '1.9', ' LT', '6.4', '6.2', '3.1', '5.0', '6.0', '4.2', '6.6',\n",
       "       '0.8', '3.4', '2.6', '3.3', '5.4', '5.8', '6.8', '0.9', '4.3',\n",
       "       '0.7', '6.5', '4.9', '0.6', '3.9', '6.3', '5.9'], dtype=object)"
      ]
     },
     "execution_count": 57,
     "metadata": {},
     "output_type": "execute_result"
    }
   ],
   "source": [
    "train.engineDisplacement.unique()"
   ]
  },
  {
   "cell_type": "markdown",
   "metadata": {
    "papermill": {
     "duration": 0.290294,
     "end_time": "2021-07-21T11:58:58.807402",
     "exception": false,
     "start_time": "2021-07-21T11:58:58.517108",
     "status": "completed"
    },
    "tags": []
   },
   "source": [
    "Видно, что есть значения LT, которые остались неизменными после преобразования. Заменим наиболее частым значением:"
   ]
  },
  {
   "cell_type": "code",
   "execution_count": 58,
   "metadata": {
    "execution": {
     "iopub.execute_input": "2021-07-21T11:58:59.398765Z",
     "iopub.status.busy": "2021-07-21T11:58:59.397579Z",
     "iopub.status.idle": "2021-07-21T11:58:59.402547Z",
     "shell.execute_reply": "2021-07-21T11:58:59.401778Z",
     "shell.execute_reply.started": "2021-07-21T11:20:03.515223Z"
    },
    "papermill": {
     "duration": 0.306496,
     "end_time": "2021-07-21T11:58:59.402673",
     "exception": false,
     "start_time": "2021-07-21T11:58:59.096177",
     "status": "completed"
    },
    "tags": []
   },
   "outputs": [],
   "source": [
    "train.engineDisplacement = train.engineDisplacement.replace(\n",
    "    ' LT', train.engineDisplacement.mode()[0])"
   ]
  },
  {
   "cell_type": "markdown",
   "metadata": {
    "papermill": {
     "duration": 0.289382,
     "end_time": "2021-07-21T11:58:59.979311",
     "exception": false,
     "start_time": "2021-07-21T11:58:59.689929",
     "status": "completed"
    },
    "tags": []
   },
   "source": [
    "Проверим:"
   ]
  },
  {
   "cell_type": "code",
   "execution_count": 59,
   "metadata": {
    "execution": {
     "iopub.execute_input": "2021-07-21T11:59:00.571286Z",
     "iopub.status.busy": "2021-07-21T11:59:00.570328Z",
     "iopub.status.idle": "2021-07-21T11:59:00.576257Z",
     "shell.execute_reply": "2021-07-21T11:59:00.575701Z",
     "shell.execute_reply.started": "2021-07-21T11:20:03.532954Z"
    },
    "papermill": {
     "duration": 0.306347,
     "end_time": "2021-07-21T11:59:00.576397",
     "exception": false,
     "start_time": "2021-07-21T11:59:00.270050",
     "status": "completed"
    },
    "tags": []
   },
   "outputs": [
    {
     "data": {
      "text/plain": [
       "array(['2.0', '1.6', '3.0', '1.8', '2.5', '1.5', '1.3', '3.5', '2.4',\n",
       "       '5.5', '2.1', '4.5', '2.2', '4.4', '1.4', '2.7', '4.7', '2.3',\n",
       "       '4.8', '2.9', '1.1', '5.2', '4.0', '1.2', '2.8', '3.7', '1.7',\n",
       "       '5.3', '1.0', '3.8', '5.6', '3.6', '3.2', '5.7', '4.1', '4.6',\n",
       "       '1.9', '6.4', '6.2', '3.1', '5.0', '6.0', '4.2', '6.6', '0.8',\n",
       "       '3.4', '2.6', '3.3', '5.4', '5.8', '6.8', '0.9', '4.3', '0.7',\n",
       "       '6.5', '4.9', '0.6', '3.9', '6.3', '5.9'], dtype=object)"
      ]
     },
     "execution_count": 59,
     "metadata": {},
     "output_type": "execute_result"
    }
   ],
   "source": [
    "train.engineDisplacement.unique()"
   ]
  },
  {
   "cell_type": "markdown",
   "metadata": {
    "papermill": {
     "duration": 0.287865,
     "end_time": "2021-07-21T11:59:01.153157",
     "exception": false,
     "start_time": "2021-07-21T11:59:00.865292",
     "status": "completed"
    },
    "tags": []
   },
   "source": [
    "Теперь все впорядке. Проверим для тестовой выборки:"
   ]
  },
  {
   "cell_type": "code",
   "execution_count": 60,
   "metadata": {
    "execution": {
     "iopub.execute_input": "2021-07-21T11:59:01.735394Z",
     "iopub.status.busy": "2021-07-21T11:59:01.734394Z",
     "iopub.status.idle": "2021-07-21T11:59:01.740792Z",
     "shell.execute_reply": "2021-07-21T11:59:01.740263Z",
     "shell.execute_reply.started": "2021-07-21T11:20:03.546751Z"
    },
    "papermill": {
     "duration": 0.300013,
     "end_time": "2021-07-21T11:59:01.740940",
     "exception": false,
     "start_time": "2021-07-21T11:59:01.440927",
     "status": "completed"
    },
    "tags": []
   },
   "outputs": [
    {
     "data": {
      "text/plain": [
       "array(['1.2 LTR', '1.6 LTR', '1.8 LTR', '2.0 LTR', '1.4 LTR', '1.3 LTR',\n",
       "       '1.0 LTR', '3.6 LTR', '1.5 LTR', '1.9 LTR', '2.8 LTR', '1.1 LTR',\n",
       "       '2.5 LTR', '4.2 LTR', '3.0 LTR', '4.0 LTR', '5.9 LTR', '2.7 LTR',\n",
       "       '3.1 LTR', '2.4 LTR', '5.2 LTR', '3.2 LTR', '4.1 LTR', '6.3 LTR',\n",
       "       '2.3 LTR', '6.0 LTR', '2.2 LTR', '3.7 LTR', '2.9 LTR', '5.0 LTR',\n",
       "       '3.3 LTR', '2.1 LTR', '2.6 LTR', ' LTR', '3.5 LTR', '1.7 LTR',\n",
       "       '0.7 LTR', '4.4 LTR', '4.8 LTR', '5.4 LTR', '6.6 LTR', '4.9 LTR',\n",
       "       '3.8 LTR', '3.4 LTR', '3.9 LTR', '4.6 LTR', '5.6 LTR', '4.5 LTR',\n",
       "       '5.5 LTR', '6.2 LTR', '4.7 LTR', '4.3 LTR', '5.8 LTR', '5.3 LTR',\n",
       "       '5.7 LTR'], dtype=object)"
      ]
     },
     "execution_count": 60,
     "metadata": {},
     "output_type": "execute_result"
    }
   ],
   "source": [
    "test.engineDisplacement.unique()"
   ]
  },
  {
   "cell_type": "markdown",
   "metadata": {
    "papermill": {
     "duration": 0.342628,
     "end_time": "2021-07-21T11:59:02.380912",
     "exception": false,
     "start_time": "2021-07-21T11:59:02.038284",
     "status": "completed"
    },
    "tags": []
   },
   "source": [
    "Проведем те же преобразования:"
   ]
  },
  {
   "cell_type": "code",
   "execution_count": 61,
   "metadata": {
    "execution": {
     "iopub.execute_input": "2021-07-21T11:59:03.000384Z",
     "iopub.status.busy": "2021-07-21T11:59:02.999601Z",
     "iopub.status.idle": "2021-07-21T11:59:03.012488Z",
     "shell.execute_reply": "2021-07-21T11:59:03.011892Z",
     "shell.execute_reply.started": "2021-07-21T11:20:03.558079Z"
    },
    "papermill": {
     "duration": 0.321631,
     "end_time": "2021-07-21T11:59:03.012625",
     "exception": false,
     "start_time": "2021-07-21T11:59:02.690994",
     "status": "completed"
    },
    "tags": []
   },
   "outputs": [],
   "source": [
    "test.engineDisplacement = test.engineDisplacement.apply(lambda x: x[:3])"
   ]
  },
  {
   "cell_type": "code",
   "execution_count": 62,
   "metadata": {
    "execution": {
     "iopub.execute_input": "2021-07-21T11:59:03.629736Z",
     "iopub.status.busy": "2021-07-21T11:59:03.629007Z",
     "iopub.status.idle": "2021-07-21T11:59:03.634106Z",
     "shell.execute_reply": "2021-07-21T11:59:03.634613Z",
     "shell.execute_reply.started": "2021-07-21T11:20:03.577636Z"
    },
    "papermill": {
     "duration": 0.309097,
     "end_time": "2021-07-21T11:59:03.634785",
     "exception": false,
     "start_time": "2021-07-21T11:59:03.325688",
     "status": "completed"
    },
    "tags": []
   },
   "outputs": [],
   "source": [
    "# Теперь уберем LT\n",
    "test.engineDisplacement = test.engineDisplacement.replace(\n",
    "    ' LT', test.engineDisplacement.mode()[0])"
   ]
  },
  {
   "cell_type": "code",
   "execution_count": 63,
   "metadata": {
    "execution": {
     "iopub.execute_input": "2021-07-21T11:59:04.226765Z",
     "iopub.status.busy": "2021-07-21T11:59:04.226094Z",
     "iopub.status.idle": "2021-07-21T11:59:04.234210Z",
     "shell.execute_reply": "2021-07-21T11:59:04.234695Z",
     "shell.execute_reply.started": "2021-07-21T11:20:03.593933Z"
    },
    "papermill": {
     "duration": 0.306517,
     "end_time": "2021-07-21T11:59:04.234881",
     "exception": false,
     "start_time": "2021-07-21T11:59:03.928364",
     "status": "completed"
    },
    "tags": []
   },
   "outputs": [
    {
     "data": {
      "text/plain": [
       "array(['1.2', '1.6', '1.8', '2.0', '1.4', '1.3', '1.0', '3.6', '1.5',\n",
       "       '1.9', '2.8', '1.1', '2.5', '4.2', '3.0', '4.0', '5.9', '2.7',\n",
       "       '3.1', '2.4', '5.2', '3.2', '4.1', '6.3', '2.3', '6.0', '2.2',\n",
       "       '3.7', '2.9', '5.0', '3.3', '2.1', '2.6', '3.5', '1.7', '0.7',\n",
       "       '4.4', '4.8', '5.4', '6.6', '4.9', '3.8', '3.4', '3.9', '4.6',\n",
       "       '5.6', '4.5', '5.5', '6.2', '4.7', '4.3', '5.8', '5.3', '5.7'],\n",
       "      dtype=object)"
      ]
     },
     "execution_count": 63,
     "metadata": {},
     "output_type": "execute_result"
    }
   ],
   "source": [
    "test.engineDisplacement.unique()"
   ]
  },
  {
   "cell_type": "markdown",
   "metadata": {
    "papermill": {
     "duration": 0.290938,
     "end_time": "2021-07-21T11:59:04.818550",
     "exception": false,
     "start_time": "2021-07-21T11:59:04.527612",
     "status": "completed"
    },
    "tags": []
   },
   "source": [
    "преобразуем признак из обоих фреймов в числовой:"
   ]
  },
  {
   "cell_type": "code",
   "execution_count": 64,
   "metadata": {
    "execution": {
     "iopub.execute_input": "2021-07-21T11:59:05.438211Z",
     "iopub.status.busy": "2021-07-21T11:59:05.437464Z",
     "iopub.status.idle": "2021-07-21T11:59:05.513237Z",
     "shell.execute_reply": "2021-07-21T11:59:05.513801Z",
     "shell.execute_reply.started": "2021-07-21T11:20:03.608588Z"
    },
    "papermill": {
     "duration": 0.374329,
     "end_time": "2021-07-21T11:59:05.514000",
     "exception": false,
     "start_time": "2021-07-21T11:59:05.139671",
     "status": "completed"
    },
    "tags": []
   },
   "outputs": [],
   "source": [
    "train.engineDisplacement = train.engineDisplacement.apply(lambda x: float(x))\n",
    "# Тестовый\n",
    "test.engineDisplacement = test.engineDisplacement.apply(lambda x: float(x))"
   ]
  },
  {
   "cell_type": "markdown",
   "metadata": {
    "papermill": {
     "duration": 0.289943,
     "end_time": "2021-07-21T11:59:06.093525",
     "exception": false,
     "start_time": "2021-07-21T11:59:05.803582",
     "status": "completed"
    },
    "tags": []
   },
   "source": [
    "Посмотрим на распределение признака:"
   ]
  },
  {
   "cell_type": "code",
   "execution_count": 65,
   "metadata": {
    "execution": {
     "iopub.execute_input": "2021-07-21T11:59:06.672533Z",
     "iopub.status.busy": "2021-07-21T11:59:06.671899Z",
     "iopub.status.idle": "2021-07-21T11:59:06.978182Z",
     "shell.execute_reply": "2021-07-21T11:59:06.978667Z",
     "shell.execute_reply.started": "2021-07-21T11:20:03.668249Z"
    },
    "papermill": {
     "duration": 0.595983,
     "end_time": "2021-07-21T11:59:06.978843",
     "exception": false,
     "start_time": "2021-07-21T11:59:06.382860",
     "status": "completed"
    },
    "tags": []
   },
   "outputs": [
    {
     "data": {
      "text/plain": [
       "<matplotlib.axes._subplots.AxesSubplot at 0x7f2cd9ce0b50>"
      ]
     },
     "execution_count": 65,
     "metadata": {},
     "output_type": "execute_result"
    },
    {
     "data": {
      "image/png": "[encoded data removed]",
      "text/plain": [
       "<Figure size 576x396 with 1 Axes>"
      ]
     },
     "metadata": {},
     "output_type": "display_data"
    }
   ],
   "source": [
    "train.engineDisplacement.hist()"
   ]
  },
  {
   "cell_type": "markdown",
   "metadata": {
    "papermill": {
     "duration": 0.288355,
     "end_time": "2021-07-21T11:59:07.560278",
     "exception": false,
     "start_time": "2021-07-21T11:59:07.271923",
     "status": "completed"
    },
    "tags": []
   },
   "source": [
    "Для тестовой выборки:"
   ]
  },
  {
   "cell_type": "code",
   "execution_count": 66,
   "metadata": {
    "execution": {
     "iopub.execute_input": "2021-07-21T11:59:08.150445Z",
     "iopub.status.busy": "2021-07-21T11:59:08.149427Z",
     "iopub.status.idle": "2021-07-21T11:59:08.440403Z",
     "shell.execute_reply": "2021-07-21T11:59:08.440912Z",
     "shell.execute_reply.started": "2021-07-21T11:20:03.925494Z"
    },
    "papermill": {
     "duration": 0.587464,
     "end_time": "2021-07-21T11:59:08.441081",
     "exception": false,
     "start_time": "2021-07-21T11:59:07.853617",
     "status": "completed"
    },
    "tags": []
   },
   "outputs": [
    {
     "data": {
      "text/plain": [
       "<matplotlib.axes._subplots.AxesSubplot at 0x7f2cd981e490>"
      ]
     },
     "execution_count": 66,
     "metadata": {},
     "output_type": "execute_result"
    },
    {
     "data": {
      "image/png": "[encoded data removed]",
      "text/plain": [
       "<Figure size 576x396 with 1 Axes>"
      ]
     },
     "metadata": {},
     "output_type": "display_data"
    }
   ],
   "source": [
    "test.engineDisplacement.hist()"
   ]
  },
  {
   "cell_type": "markdown",
   "metadata": {
    "papermill": {
     "duration": 0.29576,
     "end_time": "2021-07-21T11:59:09.027054",
     "exception": false,
     "start_time": "2021-07-21T11:59:08.731294",
     "status": "completed"
    },
    "tags": []
   },
   "source": [
    "Как мы видим, распределения похожи, основную часть предложений составляют авто с объемом двигателя от 1.3 до 2.5 литра. Никаких выбросов не наблюдается."
   ]
  },
  {
   "cell_type": "markdown",
   "metadata": {
    "papermill": {
     "duration": 0.289066,
     "end_time": "2021-07-21T11:59:09.608407",
     "exception": false,
     "start_time": "2021-07-21T11:59:09.319341",
     "status": "completed"
    },
    "tags": []
   },
   "source": [
    "Теперь добавим признак к числовым столбцам:"
   ]
  },
  {
   "cell_type": "code",
   "execution_count": 67,
   "metadata": {
    "execution": {
     "iopub.execute_input": "2021-07-21T11:59:10.204717Z",
     "iopub.status.busy": "2021-07-21T11:59:10.203632Z",
     "iopub.status.idle": "2021-07-21T11:59:10.208042Z",
     "shell.execute_reply": "2021-07-21T11:59:10.208533Z",
     "shell.execute_reply.started": "2021-07-21T11:20:04.168369Z"
    },
    "papermill": {
     "duration": 0.302585,
     "end_time": "2021-07-21T11:59:10.208692",
     "exception": false,
     "start_time": "2021-07-21T11:59:09.906107",
     "status": "completed"
    },
    "tags": []
   },
   "outputs": [],
   "source": [
    "num_cols.append('engineDisplacement')"
   ]
  },
  {
   "cell_type": "markdown",
   "metadata": {
    "papermill": {
     "duration": 0.292669,
     "end_time": "2021-07-21T11:59:10.796982",
     "exception": false,
     "start_time": "2021-07-21T11:59:10.504313",
     "status": "completed"
    },
    "tags": []
   },
   "source": [
    "### 3.2.7. Столбец enginePower"
   ]
  },
  {
   "cell_type": "markdown",
   "metadata": {
    "papermill": {
     "duration": 0.289431,
     "end_time": "2021-07-21T11:59:11.378143",
     "exception": false,
     "start_time": "2021-07-21T11:59:11.088712",
     "status": "completed"
    },
    "tags": []
   },
   "source": [
    "Признак отражает мощность двигателя автомобиля. Посмотрим на уникальные значения:"
   ]
  },
  {
   "cell_type": "code",
   "execution_count": 68,
   "metadata": {
    "execution": {
     "iopub.execute_input": "2021-07-21T11:59:11.966447Z",
     "iopub.status.busy": "2021-07-21T11:59:11.965400Z",
     "iopub.status.idle": "2021-07-21T11:59:11.976497Z",
     "shell.execute_reply": "2021-07-21T11:59:11.977039Z",
     "shell.execute_reply.started": "2021-07-21T11:20:04.174438Z"
    },
    "papermill": {
     "duration": 0.310231,
     "end_time": "2021-07-21T11:59:11.977213",
     "exception": false,
     "start_time": "2021-07-21T11:59:11.666982",
     "status": "completed"
    },
    "tags": []
   },
   "outputs": [
    {
     "data": {
      "text/plain": [
       "array(['144 N12', '156 N12', '300 N12', '150 N12', '218 N12', '180 N12',\n",
       "       '208 N12', '123 N12', '90 N12', '360 N12', '252 N12', '340 N12',\n",
       "       '106 N12', '110 N12', '152 N12', '525 N12', '170 N12', '200 N12',\n",
       "       '249 N12', '113 N12', '188 N12', '114 N12', '115 N12', '245 N12',\n",
       "       '122 N12', '275 N12', '109 N12', '82 N12', '167 N12', '87 N12',\n",
       "       '204 N12', '102 N12', '235 N12', '240 N12', '197 N12', '339 N12',\n",
       "       '194 N12', '130 N12', '190 N12', '128 N12', '388 N12', '140 N12',\n",
       "       '210 N12', '125 N12', '75 N12', '220 N12', '435 N12', '105 N12',\n",
       "       '145 N12', '161 N12', '98 N12', '355 N12', '80 N12', '143 N12',\n",
       "       '330 N12', '120 N12', '184 N12', '333 N12', '211 N12', '163 N12',\n",
       "       '135 N12', '107 N12', '65 N12', '149 N12', '112 N12', '215 N12',\n",
       "       '550 N12', '126 N12', '181 N12', '224 N12', '100 N12', '88 N12',\n",
       "       '177 N12', '201 N12', '97 N12', '116 N12', '160 N12', '231 N12',\n",
       "       '185 N12', '277 N12', '81 N12', '175 N12', '178 N12', '146 N12',\n",
       "       '171 N12', '141 N12', '173 N12', '117 N12', '192 N12', '272 N12',\n",
       "       '164 N12', '84 N12', '147 N12', '174 N12', '148 N12', '129 N12',\n",
       "       '70 N12', '95 N12', '306 N12', '124 N12', '169 N12', '625 N12',\n",
       "       '266 N12', '324 N12', '186 N12', '500 N12', '455 N12', '314 N12',\n",
       "       '260 N12', '335 N12', '407 N12', '86 N12', '69 N12', '193 N12',\n",
       "       '315 N12', '83 N12', '250 N12', '430 N12', '462 N12', '405 N12',\n",
       "       '294 N12', '136 N12', '238 N12', '400 N12', '280 N12', '320 N12',\n",
       "       '223 N12', '290 N12', '134 N12', '367 N12', '292 N12', '310 N12',\n",
       "       '286 N12', '382 N12', '309 N12', '121 N12', '132 N12', '103 N12',\n",
       "       '137 N12', '127 N12', '326 N12', '243 N12', '273 N12', '450 N12',\n",
       "       '635 N12', '60 N12', '94 N12', '258 N12', '222 N12', '230 N12',\n",
       "       '225 N12', '172 N12', '165 N12', '492 N12', '72 N12', '99 N12',\n",
       "       '101 N12', '469 N12', '409 N12', '262 N12', '575 N12', '585 N12',\n",
       "       '131 N12', '510 N12', '394 N12', '299 N12', '390 N12', '570 N12',\n",
       "       '605 N12', '265 N12', '79 N12', '89 N12', '612 N12', '68 N12',\n",
       "       '205 N12', '74 N12', '317 N12', '762 N12', '78 N12', '557 N12',\n",
       "       '203 N12', '632 N12', '372 N12', '700 N12', '77 N12', '73 N12',\n",
       "       '282 N12', '182 N12', '420 N12', '571 N12', '401 N12', '202 N12',\n",
       "       '313 N12', '565 N12', '52 N12', '55 N12', '544 N12', '67 N12',\n",
       "       '269 N12', '421 N12', '408 N12', '560 N12', '381 N12', '158 N12',\n",
       "       '296 N12', '422 N12', '159 N12', '247 N12', '162 N12', '350 N12',\n",
       "       '85 N12', '166 N12', '233 N12', '288 N12', '142 N12', '630 N12',\n",
       "       '507 N12', '354 N12', '283 N12', '248 N12', '1020 N12', '345 N12',\n",
       "       '518 N12', '241 N12', '600 N12', '264 N12', '396 N12', '255 N12',\n",
       "       '512 N12', '380 N12', '138 N12', '370 N12', '209 N12', '287 N12',\n",
       "       '253 N12', '440 N12', '460 N12', '426 N12', '555 N12', '199 N12',\n",
       "       '58 N12', '295 N12', '92 N12', '71 N12', '351 N12', '284 N12',\n",
       "       '530 N12', '118 N12', '195 N12', '720 N12', '395 N12', '608 N12',\n",
       "       '234 N12', '325 N12', '281 N12', '212 N12', '155 N12', '76 N12',\n",
       "       '139 N12', '239 N12', '610 N12', '301 N12', '626 N12', '46 N12',\n",
       "       '64 N12', '410 N12', '650 N12', '431 N12', '485 N12', '476 N12',\n",
       "       '307 N12', '620 N12', '385 N12', '449 N12', '680 N12', '517 N12',\n",
       "       '104 N12', '304 N12', '271 N12', '528 N12', '540 N12', '270 N12',\n",
       "       '639 N12', '276 N12', '334 N12', '154 N12', '318 N12', '468 N12',\n",
       "       '268 N12', '520 N12', '151 N12', '157 N12', '800 N12', '322 N12',\n",
       "       '213 N12', '522 N12', '221 N12', '305 N12', '580 N12', '168 N12',\n",
       "       '227 N12', '445 N12', '475 N12', '702 N12', '558 N12', '263 N12',\n",
       "       '490 N12', '111 N12', '93 N12', '389 N12', '480 N12', '91 N12',\n",
       "       '96 N12', '328 N12', '302 N12', '278 N12', '303 N12', '50 N12',\n",
       "       '42 N12', '256 N12', '48 N12', '44 N12', '40 N12', '57 N12',\n",
       "       '54 N12', '133 N12', '49 N12', '108 N12', '457 N12', '591 N12',\n",
       "       '279 N12', '487 N12', '242 N12', '564 N12', '347 N12', '383 N12',\n",
       "       '228 N12', '226 N12', '423 N12', '214 N12', '219 N12', '477 N12',\n",
       "       '387 N12', '343 N12', '19 N12', '187 N12', '321 N12', '51 N12',\n",
       "       '179 N12', '7 N12', '53 N12', '236 N12', '183 N12', '45 N12',\n",
       "       '338 N12', '285 N12', '257 N12', '66 N12'], dtype=object)"
      ]
     },
     "execution_count": 68,
     "metadata": {},
     "output_type": "execute_result"
    }
   ],
   "source": [
    "train.enginePower.unique()"
   ]
  },
  {
   "cell_type": "markdown",
   "metadata": {
    "papermill": {
     "duration": 0.292687,
     "end_time": "2021-07-21T11:59:12.561366",
     "exception": false,
     "start_time": "2021-07-21T11:59:12.268679",
     "status": "completed"
    },
    "tags": []
   },
   "source": [
    "Попробуем избавиться от дополнительной информации в обозначении:"
   ]
  },
  {
   "cell_type": "code",
   "execution_count": 69,
   "metadata": {
    "execution": {
     "iopub.execute_input": "2021-07-21T11:59:13.155399Z",
     "iopub.status.busy": "2021-07-21T11:59:13.154591Z",
     "iopub.status.idle": "2021-07-21T11:59:13.182802Z",
     "shell.execute_reply": "2021-07-21T11:59:13.183365Z",
     "shell.execute_reply.started": "2021-07-21T11:20:04.190588Z"
    },
    "papermill": {
     "duration": 0.32537,
     "end_time": "2021-07-21T11:59:13.183535",
     "exception": false,
     "start_time": "2021-07-21T11:59:12.858165",
     "status": "completed"
    },
    "tags": []
   },
   "outputs": [],
   "source": [
    "train['enginePower'] = train['enginePower'].apply(\n",
    "    lambda x: x[:1] if len(x) == 5 else (x[:2] if len(x) == 6 else x[:3]))"
   ]
  },
  {
   "cell_type": "markdown",
   "metadata": {
    "papermill": {
     "duration": 0.29155,
     "end_time": "2021-07-21T11:59:13.768557",
     "exception": false,
     "start_time": "2021-07-21T11:59:13.477007",
     "status": "completed"
    },
    "tags": []
   },
   "source": [
    "Проверим результат:"
   ]
  },
  {
   "cell_type": "code",
   "execution_count": 70,
   "metadata": {
    "execution": {
     "iopub.execute_input": "2021-07-21T11:59:14.371293Z",
     "iopub.status.busy": "2021-07-21T11:59:14.370569Z",
     "iopub.status.idle": "2021-07-21T11:59:14.381556Z",
     "shell.execute_reply": "2021-07-21T11:59:14.380955Z",
     "shell.execute_reply.started": "2021-07-21T11:20:04.214786Z"
    },
    "papermill": {
     "duration": 0.312409,
     "end_time": "2021-07-21T11:59:14.381677",
     "exception": false,
     "start_time": "2021-07-21T11:59:14.069268",
     "status": "completed"
    },
    "tags": []
   },
   "outputs": [
    {
     "data": {
      "text/plain": [
       "array(['144', '156', '300', '150', '218', '180', '208', '123', '90',\n",
       "       '360', '252', '340', '106', '110', '152', '525', '170', '200',\n",
       "       '249', '113', '188', '114', '115', '245', '122', '275', '109',\n",
       "       '82', '167', '87', '204', '102', '235', '240', '197', '339', '194',\n",
       "       '130', '190', '128', '388', '140', '210', '125', '75', '220',\n",
       "       '435', '105', '145', '161', '98', '355', '80', '143', '330', '120',\n",
       "       '184', '333', '211', '163', '135', '107', '65', '149', '112',\n",
       "       '215', '550', '126', '181', '224', '100', '88', '177', '201', '97',\n",
       "       '116', '160', '231', '185', '277', '81', '175', '178', '146',\n",
       "       '171', '141', '173', '117', '192', '272', '164', '84', '147',\n",
       "       '174', '148', '129', '70', '95', '306', '124', '169', '625', '266',\n",
       "       '324', '186', '500', '455', '314', '260', '335', '407', '86', '69',\n",
       "       '193', '315', '83', '250', '430', '462', '405', '294', '136',\n",
       "       '238', '400', '280', '320', '223', '290', '134', '367', '292',\n",
       "       '310', '286', '382', '309', '121', '132', '103', '137', '127',\n",
       "       '326', '243', '273', '450', '635', '60', '94', '258', '222', '230',\n",
       "       '225', '172', '165', '492', '72', '99', '101', '469', '409', '262',\n",
       "       '575', '585', '131', '510', '394', '299', '390', '570', '605',\n",
       "       '265', '79', '89', '612', '68', '205', '74', '317', '762', '78',\n",
       "       '557', '203', '632', '372', '700', '77', '73', '282', '182', '420',\n",
       "       '571', '401', '202', '313', '565', '52', '55', '544', '67', '269',\n",
       "       '421', '408', '560', '381', '158', '296', '422', '159', '247',\n",
       "       '162', '350', '85', '166', '233', '288', '142', '630', '507',\n",
       "       '354', '283', '248', '345', '518', '241', '600', '264', '396',\n",
       "       '255', '512', '380', '138', '370', '209', '287', '253', '440',\n",
       "       '460', '426', '555', '199', '58', '295', '92', '71', '351', '284',\n",
       "       '530', '118', '195', '720', '395', '608', '234', '325', '281',\n",
       "       '212', '155', '76', '139', '239', '610', '301', '626', '46', '64',\n",
       "       '410', '650', '431', '485', '476', '307', '620', '385', '449',\n",
       "       '680', '517', '104', '304', '271', '528', '540', '270', '639',\n",
       "       '276', '334', '154', '318', '468', '268', '520', '151', '157',\n",
       "       '800', '322', '213', '522', '221', '305', '580', '168', '227',\n",
       "       '445', '475', '702', '558', '263', '490', '111', '93', '389',\n",
       "       '480', '91', '96', '328', '302', '278', '303', '50', '42', '256',\n",
       "       '48', '44', '40', '57', '54', '133', '49', '108', '457', '591',\n",
       "       '279', '487', '242', '564', '347', '383', '228', '226', '423',\n",
       "       '214', '219', '477', '387', '343', '19', '187', '321', '51', '179',\n",
       "       '7', '53', '236', '183', '45', '338', '285', '257', '66'],\n",
       "      dtype=object)"
      ]
     },
     "execution_count": 70,
     "metadata": {},
     "output_type": "execute_result"
    }
   ],
   "source": [
    "train.enginePower.unique()"
   ]
  },
  {
   "cell_type": "markdown",
   "metadata": {
    "papermill": {
     "duration": 0.303728,
     "end_time": "2021-07-21T11:59:15.020344",
     "exception": false,
     "start_time": "2021-07-21T11:59:14.716616",
     "status": "completed"
    },
    "tags": []
   },
   "source": [
    "Проделаем то же самое для тестового фрейма:"
   ]
  },
  {
   "cell_type": "code",
   "execution_count": 71,
   "metadata": {
    "execution": {
     "iopub.execute_input": "2021-07-21T11:59:15.615093Z",
     "iopub.status.busy": "2021-07-21T11:59:15.614348Z",
     "iopub.status.idle": "2021-07-21T11:59:15.621165Z",
     "shell.execute_reply": "2021-07-21T11:59:15.620497Z",
     "shell.execute_reply.started": "2021-07-21T11:20:04.225584Z"
    },
    "papermill": {
     "duration": 0.307589,
     "end_time": "2021-07-21T11:59:15.621289",
     "exception": false,
     "start_time": "2021-07-21T11:59:15.313700",
     "status": "completed"
    },
    "tags": []
   },
   "outputs": [
    {
     "data": {
      "text/plain": [
       "array(['105 N12', '110 N12', '152 N12', '200 N12', '102 N12', '150 N12',\n",
       "       '90 N12', '180 N12', '220 N12', '122 N12', '70 N12', '140 N12',\n",
       "       '125 N12', '54 N12', '86 N12', '75 N12', '64 N12', '95 N12',\n",
       "       '260 N12', '170 N12', '80 N12', '68 N12', '160 N12', '115 N12',\n",
       "       '280 N12', '53 N12', '60 N12', '143 N12', '42 N12', '101 N12',\n",
       "       '58 N12', '193 N12', '79 N12', '30 N12', '100 N12', '50 N12',\n",
       "       '163 N12', '225 N12', '420 N12', '211 N12', '245 N12', '560 N12',\n",
       "       '500 N12', '249 N12', '450 N12', '605 N12', '250 N12', '354 N12',\n",
       "       '120 N12', '290 N12', '230 N12', '350 N12', '204 N12', '255 N12',\n",
       "       '340 N12', '177 N12', '272 N12', '372 N12', '210 N12', '130 N12',\n",
       "       '300 N12', '190 N12', '239 N12', '435 N12', '333 N12', '271 N12',\n",
       "       '326 N12', '238 N12', '310 N12', '233 N12', '252 N12', '133 N12',\n",
       "       '460 N12', '520 N12', '400 N12', '525 N12', '367 N12', '265 N12',\n",
       "       '550 N12', '580 N12', '88 N12', '165 N12', '430 N12', '335 N12',\n",
       "       '174 N12', '224 N12', '136 N12', '256 N12', '338 N12', '112 N12',\n",
       "       '218 N12', '360 N12', '93 N12', '182 N12', '113 N12', '240 N12',\n",
       "       '270 N12', '137 N12', '155 N12', '61 N12', '254 N12', '116 N12',\n",
       "       '71 N12', '285 N12', '408 N12', '166 N12', '156 N12', '257 N12',\n",
       "       '201 N12', '162 N12', '194 N12', '142 N12', '154 N12', '147 N12',\n",
       "       '281 N12', '243 N12', '118 N12', '128 N12', '91 N12', '83 N12',\n",
       "       '205 N12', '247 N12', '188 N12', '295 N12', '275 N12', '78 N12',\n",
       "       '109 N12', '94 N12', '185 N12', '258 N12', '145 N12', '132 N12',\n",
       "       '135 N12', '52 N12', '66 N12', '124 N12', '98 N12', '215 N12',\n",
       "       '158 N12', '99 N12', '103 N12', '131 N12', '126 N12', '235 N12',\n",
       "       '181 N12', '315 N12', '203 N12', '231 N12', '82 N12', '304 N12',\n",
       "       '175 N12', '320 N12', '213 N12', '144 N12', '146 N12', '151 N12',\n",
       "       '111 N12', '286 N12', '306 N12', '107 N12', '184 N12', '313 N12',\n",
       "       '264 N12', '575 N12', '407 N12', '192 N12', '129 N12', '555 N12',\n",
       "       '625 N12', '329 N12', '370 N12', '381 N12', '269 N12', '600 N12',\n",
       "       '510 N12', '544 N12', '462 N12', '355 N12', '507 N12', '609 N12',\n",
       "       '431 N12', '530 N12', '387 N12', '610 N12', '197 N12', '343 N12',\n",
       "       '445 N12', '171 N12', '51 N12', '46 N12', '347 N12', '321 N12',\n",
       "       '167 N12', '141 N12', '169 N12', '405 N12', '117 N12', '114 N12',\n",
       "       '173 N12', '234 N12', '540 N12', '106 N12', '49 N12', '248 N12',\n",
       "       '317 N12', '309 N12', '97 N12', '121 N12', '268 N12', '149 N12',\n",
       "       '87 N12', '85 N12', '65 N12', '67 N12', '127 N12', '485 N12',\n",
       "       '186 N12', '222 N12', '307 N12', '262 N12', '302 N12', '284 N12',\n",
       "       '325 N12', '168 N12', '221 N12', '330 N12', '283 N12', '328 N12',\n",
       "       '303 N12', '278 N12', '388 N12', '571 N12', '585 N12', '612 N12',\n",
       "       '401 N12', '279 N12', '455 N12', '382 N12', '557 N12', '517 N12',\n",
       "       '394 N12', '422 N12', '292 N12', '469 N12', '522 N12', '296 N12',\n",
       "       '639 N12', '390 N12', '476 N12', '630 N12', '402 N12', '487 N12',\n",
       "       '558 N12', '421 N12', '316 N12', '514 N12', '457 N12', '626 N12',\n",
       "       '242 N12', '38 N12', '32 N12', '223 N12', '72 N12', '305 N12',\n",
       "       '183 N12', '273 N12', '159 N12', '76 N12', '148 N12', '179 N12',\n",
       "       '73 N12', '277 N12', '282 N12', '178 N12', '288 N12', '199 N12',\n",
       "       '266 N12', '92 N12', '74 N12', '324 N12', '232 N12', '157 N12',\n",
       "       '69 N12', '212 N12', '276 N12', '202 N12', '77 N12', '164 N12',\n",
       "       '96 N12', '84 N12', '228 N12', '108 N12', '208 N12', '263 N12',\n",
       "       '294 N12', '318 N12', '380 N12', '219 N12', '214 N12', '383 N12',\n",
       "       '241 N12', '57 N12', '55 N12', '104 N12', '48 N12', '40 N12',\n",
       "       '44 N12', '227 N12', '139 N12', '209 N12', '195 N12', '189 N12',\n",
       "       '480 N12', '591 N12', '301 N12'], dtype=object)"
      ]
     },
     "execution_count": 71,
     "metadata": {},
     "output_type": "execute_result"
    }
   ],
   "source": [
    "test.enginePower.unique()"
   ]
  },
  {
   "cell_type": "markdown",
   "metadata": {
    "papermill": {
     "duration": 0.315586,
     "end_time": "2021-07-21T11:59:16.231533",
     "exception": false,
     "start_time": "2021-07-21T11:59:15.915947",
     "status": "completed"
    },
    "tags": []
   },
   "source": [
    "Теперь уберем ненужную информацию:"
   ]
  },
  {
   "cell_type": "code",
   "execution_count": 72,
   "metadata": {
    "execution": {
     "iopub.execute_input": "2021-07-21T11:59:16.819929Z",
     "iopub.status.busy": "2021-07-21T11:59:16.819123Z",
     "iopub.status.idle": "2021-07-21T11:59:16.844655Z",
     "shell.execute_reply": "2021-07-21T11:59:16.844034Z",
     "shell.execute_reply.started": "2021-07-21T11:20:04.237683Z"
    },
    "papermill": {
     "duration": 0.323198,
     "end_time": "2021-07-21T11:59:16.844779",
     "exception": false,
     "start_time": "2021-07-21T11:59:16.521581",
     "status": "completed"
    },
    "tags": []
   },
   "outputs": [],
   "source": [
    "test['enginePower'] = test['enginePower'].apply(\n",
    "    lambda x: x[:1] if len(x) == 5 else (x[:2] if len(x) == 6 else x[:3]))"
   ]
  },
  {
   "cell_type": "markdown",
   "metadata": {
    "papermill": {
     "duration": 0.289067,
     "end_time": "2021-07-21T11:59:17.427855",
     "exception": false,
     "start_time": "2021-07-21T11:59:17.138788",
     "status": "completed"
    },
    "tags": []
   },
   "source": [
    "Результат:"
   ]
  },
  {
   "cell_type": "code",
   "execution_count": 73,
   "metadata": {
    "execution": {
     "iopub.execute_input": "2021-07-21T11:59:18.037503Z",
     "iopub.status.busy": "2021-07-21T11:59:18.036496Z",
     "iopub.status.idle": "2021-07-21T11:59:18.044949Z",
     "shell.execute_reply": "2021-07-21T11:59:18.044165Z",
     "shell.execute_reply.started": "2021-07-21T11:20:04.262695Z"
    },
    "papermill": {
     "duration": 0.31854,
     "end_time": "2021-07-21T11:59:18.045102",
     "exception": false,
     "start_time": "2021-07-21T11:59:17.726562",
     "status": "completed"
    },
    "tags": []
   },
   "outputs": [
    {
     "data": {
      "text/plain": [
       "array(['105', '110', '152', '200', '102', '150', '90', '180', '220',\n",
       "       '122', '70', '140', '125', '54', '86', '75', '64', '95', '260',\n",
       "       '170', '80', '68', '160', '115', '280', '53', '60', '143', '42',\n",
       "       '101', '58', '193', '79', '30', '100', '50', '163', '225', '420',\n",
       "       '211', '245', '560', '500', '249', '450', '605', '250', '354',\n",
       "       '120', '290', '230', '350', '204', '255', '340', '177', '272',\n",
       "       '372', '210', '130', '300', '190', '239', '435', '333', '271',\n",
       "       '326', '238', '310', '233', '252', '133', '460', '520', '400',\n",
       "       '525', '367', '265', '550', '580', '88', '165', '430', '335',\n",
       "       '174', '224', '136', '256', '338', '112', '218', '360', '93',\n",
       "       '182', '113', '240', '270', '137', '155', '61', '254', '116', '71',\n",
       "       '285', '408', '166', '156', '257', '201', '162', '194', '142',\n",
       "       '154', '147', '281', '243', '118', '128', '91', '83', '205', '247',\n",
       "       '188', '295', '275', '78', '109', '94', '185', '258', '145', '132',\n",
       "       '135', '52', '66', '124', '98', '215', '158', '99', '103', '131',\n",
       "       '126', '235', '181', '315', '203', '231', '82', '304', '175',\n",
       "       '320', '213', '144', '146', '151', '111', '286', '306', '107',\n",
       "       '184', '313', '264', '575', '407', '192', '129', '555', '625',\n",
       "       '329', '370', '381', '269', '600', '510', '544', '462', '355',\n",
       "       '507', '609', '431', '530', '387', '610', '197', '343', '445',\n",
       "       '171', '51', '46', '347', '321', '167', '141', '169', '405', '117',\n",
       "       '114', '173', '234', '540', '106', '49', '248', '317', '309', '97',\n",
       "       '121', '268', '149', '87', '85', '65', '67', '127', '485', '186',\n",
       "       '222', '307', '262', '302', '284', '325', '168', '221', '330',\n",
       "       '283', '328', '303', '278', '388', '571', '585', '612', '401',\n",
       "       '279', '455', '382', '557', '517', '394', '422', '292', '469',\n",
       "       '522', '296', '639', '390', '476', '630', '402', '487', '558',\n",
       "       '421', '316', '514', '457', '626', '242', '38', '32', '223', '72',\n",
       "       '305', '183', '273', '159', '76', '148', '179', '73', '277', '282',\n",
       "       '178', '288', '199', '266', '92', '74', '324', '232', '157', '69',\n",
       "       '212', '276', '202', '77', '164', '96', '84', '228', '108', '208',\n",
       "       '263', '294', '318', '380', '219', '214', '383', '241', '57', '55',\n",
       "       '104', '48', '40', '44', '227', '139', '209', '195', '189', '480',\n",
       "       '591', '301'], dtype=object)"
      ]
     },
     "execution_count": 73,
     "metadata": {},
     "output_type": "execute_result"
    }
   ],
   "source": [
    "test.enginePower.unique()"
   ]
  },
  {
   "cell_type": "markdown",
   "metadata": {
    "papermill": {
     "duration": 0.294426,
     "end_time": "2021-07-21T11:59:18.637884",
     "exception": false,
     "start_time": "2021-07-21T11:59:18.343458",
     "status": "completed"
    },
    "tags": []
   },
   "source": [
    "Теперь преобразуем в числовой формат:"
   ]
  },
  {
   "cell_type": "code",
   "execution_count": 74,
   "metadata": {
    "execution": {
     "iopub.execute_input": "2021-07-21T11:59:19.266090Z",
     "iopub.status.busy": "2021-07-21T11:59:19.235117Z",
     "iopub.status.idle": "2021-07-21T11:59:19.328356Z",
     "shell.execute_reply": "2021-07-21T11:59:19.327769Z",
     "shell.execute_reply.started": "2021-07-21T11:20:04.271642Z"
    },
    "papermill": {
     "duration": 0.394363,
     "end_time": "2021-07-21T11:59:19.328489",
     "exception": false,
     "start_time": "2021-07-21T11:59:18.934126",
     "status": "completed"
    },
    "tags": []
   },
   "outputs": [],
   "source": [
    "train['enginePower'] = train['enginePower'].apply(lambda x: int(x))\n",
    "test['enginePower'] = test['enginePower'].apply(lambda x: int(x))"
   ]
  },
  {
   "cell_type": "markdown",
   "metadata": {
    "papermill": {
     "duration": 0.314844,
     "end_time": "2021-07-21T11:59:19.938754",
     "exception": false,
     "start_time": "2021-07-21T11:59:19.623910",
     "status": "completed"
    },
    "tags": []
   },
   "source": [
    "Посмотрим распределение признака:"
   ]
  },
  {
   "cell_type": "code",
   "execution_count": 75,
   "metadata": {
    "execution": {
     "iopub.execute_input": "2021-07-21T11:59:20.578455Z",
     "iopub.status.busy": "2021-07-21T11:59:20.571089Z",
     "iopub.status.idle": "2021-07-21T11:59:20.893324Z",
     "shell.execute_reply": "2021-07-21T11:59:20.892724Z",
     "shell.execute_reply.started": "2021-07-21T11:20:04.335693Z"
    },
    "papermill": {
     "duration": 0.630143,
     "end_time": "2021-07-21T11:59:20.893454",
     "exception": false,
     "start_time": "2021-07-21T11:59:20.263311",
     "status": "completed"
    },
    "tags": []
   },
   "outputs": [
    {
     "data": {
      "text/plain": [
       "<matplotlib.axes._subplots.AxesSubplot at 0x7f2cde83c890>"
      ]
     },
     "execution_count": 75,
     "metadata": {},
     "output_type": "execute_result"
    },
    {
     "data": {
      "image/png": "[encoded data removed]",
      "text/plain": [
       "<Figure size 576x396 with 1 Axes>"
      ]
     },
     "metadata": {},
     "output_type": "display_data"
    }
   ],
   "source": [
    "# Тренировочная выборка\n",
    "train.enginePower.hist()"
   ]
  },
  {
   "cell_type": "code",
   "execution_count": 76,
   "metadata": {
    "execution": {
     "iopub.execute_input": "2021-07-21T11:59:21.618921Z",
     "iopub.status.busy": "2021-07-21T11:59:21.492347Z",
     "iopub.status.idle": "2021-07-21T11:59:21.908292Z",
     "shell.execute_reply": "2021-07-21T11:59:21.907726Z",
     "shell.execute_reply.started": "2021-07-21T11:20:04.603768Z"
    },
    "papermill": {
     "duration": 0.719699,
     "end_time": "2021-07-21T11:59:21.908421",
     "exception": false,
     "start_time": "2021-07-21T11:59:21.188722",
     "status": "completed"
    },
    "tags": []
   },
   "outputs": [
    {
     "data": {
      "text/plain": [
       "<matplotlib.axes._subplots.AxesSubplot at 0x7f2cde8cad10>"
      ]
     },
     "execution_count": 76,
     "metadata": {},
     "output_type": "execute_result"
    },
    {
     "data": {
      "image/png": "[encoded data removed]",
      "text/plain": [
       "<Figure size 576x396 with 1 Axes>"
      ]
     },
     "metadata": {},
     "output_type": "display_data"
    }
   ],
   "source": [
    "# Тестовая выборка\n",
    "test.enginePower.hist()"
   ]
  },
  {
   "cell_type": "markdown",
   "metadata": {
    "papermill": {
     "duration": 0.29598,
     "end_time": "2021-07-21T11:59:22.500538",
     "exception": false,
     "start_time": "2021-07-21T11:59:22.204558",
     "status": "completed"
    },
    "tags": []
   },
   "source": [
    "Видно что большую часть представляют двигатели с мощностью от 100 до 250 л.с. Графики немного сдвинуты влево, явных выбросов не наблюдается."
   ]
  },
  {
   "cell_type": "markdown",
   "metadata": {
    "papermill": {
     "duration": 0.342346,
     "end_time": "2021-07-21T11:59:23.138665",
     "exception": false,
     "start_time": "2021-07-21T11:59:22.796319",
     "status": "completed"
    },
    "tags": []
   },
   "source": [
    "Добавим признак в числовые:"
   ]
  },
  {
   "cell_type": "code",
   "execution_count": 77,
   "metadata": {
    "execution": {
     "iopub.execute_input": "2021-07-21T11:59:23.737598Z",
     "iopub.status.busy": "2021-07-21T11:59:23.736552Z",
     "iopub.status.idle": "2021-07-21T11:59:23.740430Z",
     "shell.execute_reply": "2021-07-21T11:59:23.739753Z",
     "shell.execute_reply.started": "2021-07-21T11:20:04.851395Z"
    },
    "papermill": {
     "duration": 0.304752,
     "end_time": "2021-07-21T11:59:23.740550",
     "exception": false,
     "start_time": "2021-07-21T11:59:23.435798",
     "status": "completed"
    },
    "tags": []
   },
   "outputs": [],
   "source": [
    "num_cols.append('enginePower')"
   ]
  },
  {
   "cell_type": "markdown",
   "metadata": {
    "papermill": {
     "duration": 0.298541,
     "end_time": "2021-07-21T11:59:24.336120",
     "exception": false,
     "start_time": "2021-07-21T11:59:24.037579",
     "status": "completed"
    },
    "tags": []
   },
   "source": [
    "### 3.2.8. Столбец fuelType"
   ]
  },
  {
   "cell_type": "markdown",
   "metadata": {
    "papermill": {
     "duration": 0.300257,
     "end_time": "2021-07-21T11:59:24.937668",
     "exception": false,
     "start_time": "2021-07-21T11:59:24.637411",
     "status": "completed"
    },
    "tags": []
   },
   "source": [
    "Данный признак содержит данные о типе топлива, используемого в автомобиле. Посмотрим на уникальные значения:"
   ]
  },
  {
   "cell_type": "code",
   "execution_count": 78,
   "metadata": {
    "execution": {
     "iopub.execute_input": "2021-07-21T11:59:25.544720Z",
     "iopub.status.busy": "2021-07-21T11:59:25.543634Z",
     "iopub.status.idle": "2021-07-21T11:59:25.552583Z",
     "shell.execute_reply": "2021-07-21T11:59:25.552040Z",
     "shell.execute_reply.started": "2021-07-21T11:20:04.856022Z"
    },
    "papermill": {
     "duration": 0.316421,
     "end_time": "2021-07-21T11:59:25.552710",
     "exception": false,
     "start_time": "2021-07-21T11:59:25.236289",
     "status": "completed"
    },
    "tags": []
   },
   "outputs": [
    {
     "name": "stdout",
     "output_type": "stream",
     "text": [
      "['бензин' 'дизель' 'гибрид' 'электро' 'газ']\n",
      "['бензин' 'дизель' 'гибрид' 'электро' 'газ']\n"
     ]
    }
   ],
   "source": [
    "print(train.fuelType.unique())\n",
    "print(test.fuelType.unique())"
   ]
  },
  {
   "cell_type": "markdown",
   "metadata": {
    "papermill": {
     "duration": 0.303442,
     "end_time": "2021-07-21T11:59:26.153843",
     "exception": false,
     "start_time": "2021-07-21T11:59:25.850401",
     "status": "completed"
    },
    "tags": []
   },
   "source": [
    "Теперь посмотрим, есть ли в данных пропуски:"
   ]
  },
  {
   "cell_type": "code",
   "execution_count": 79,
   "metadata": {
    "execution": {
     "iopub.execute_input": "2021-07-21T11:59:26.745242Z",
     "iopub.status.busy": "2021-07-21T11:59:26.744158Z",
     "iopub.status.idle": "2021-07-21T11:59:26.761079Z",
     "shell.execute_reply": "2021-07-21T11:59:26.761753Z",
     "shell.execute_reply.started": "2021-07-21T11:20:04.878025Z"
    },
    "papermill": {
     "duration": 0.314463,
     "end_time": "2021-07-21T11:59:26.761944",
     "exception": false,
     "start_time": "2021-07-21T11:59:26.447481",
     "status": "completed"
    },
    "tags": []
   },
   "outputs": [
    {
     "name": "stdout",
     "output_type": "stream",
     "text": [
      "0\n",
      "0\n"
     ]
    }
   ],
   "source": [
    "print(train.fuelType.isna().sum())\n",
    "print(test.fuelType.isna().sum())"
   ]
  },
  {
   "cell_type": "markdown",
   "metadata": {
    "papermill": {
     "duration": 0.294589,
     "end_time": "2021-07-21T11:59:27.385998",
     "exception": false,
     "start_time": "2021-07-21T11:59:27.091409",
     "status": "completed"
    },
    "tags": []
   },
   "source": [
    "Пропусков нет,что очень радует. Теперь посмотрим распределение признака для обеих выборок:"
   ]
  },
  {
   "cell_type": "code",
   "execution_count": 80,
   "metadata": {
    "execution": {
     "iopub.execute_input": "2021-07-21T11:59:27.988607Z",
     "iopub.status.busy": "2021-07-21T11:59:27.983678Z",
     "iopub.status.idle": "2021-07-21T11:59:28.184953Z",
     "shell.execute_reply": "2021-07-21T11:59:28.184089Z",
     "shell.execute_reply.started": "2021-07-21T11:20:04.890003Z"
    },
    "papermill": {
     "duration": 0.502808,
     "end_time": "2021-07-21T11:59:28.185102",
     "exception": false,
     "start_time": "2021-07-21T11:59:27.682294",
     "status": "completed"
    },
    "tags": []
   },
   "outputs": [
    {
     "data": {
      "text/plain": [
       "<matplotlib.axes._subplots.AxesSubplot at 0x7f2cde8a9bd0>"
      ]
     },
     "execution_count": 80,
     "metadata": {},
     "output_type": "execute_result"
    },
    {
     "data": {
      "image/png": "[encoded data removed]",
      "text/plain": [
       "<Figure size 576x396 with 1 Axes>"
      ]
     },
     "metadata": {},
     "output_type": "display_data"
    }
   ],
   "source": [
    "# Тренировочная выборка\n",
    "train.fuelType.hist()"
   ]
  },
  {
   "cell_type": "code",
   "execution_count": 81,
   "metadata": {
    "execution": {
     "iopub.execute_input": "2021-07-21T11:59:28.812140Z",
     "iopub.status.busy": "2021-07-21T11:59:28.810706Z",
     "iopub.status.idle": "2021-07-21T11:59:29.000559Z",
     "shell.execute_reply": "2021-07-21T11:59:28.999942Z",
     "shell.execute_reply.started": "2021-07-21T11:20:05.049303Z"
    },
    "papermill": {
     "duration": 0.513538,
     "end_time": "2021-07-21T11:59:29.000693",
     "exception": false,
     "start_time": "2021-07-21T11:59:28.487155",
     "status": "completed"
    },
    "tags": []
   },
   "outputs": [
    {
     "data": {
      "text/plain": [
       "<matplotlib.axes._subplots.AxesSubplot at 0x7f2cde947090>"
      ]
     },
     "execution_count": 81,
     "metadata": {},
     "output_type": "execute_result"
    },
    {
     "data": {
      "image/png": "[encoded data removed]",
      "text/plain": [
       "<Figure size 576x396 with 1 Axes>"
      ]
     },
     "metadata": {},
     "output_type": "display_data"
    }
   ],
   "source": [
    "# Тестовая выборка\n",
    "test.fuelType.hist()"
   ]
  },
  {
   "cell_type": "markdown",
   "metadata": {
    "papermill": {
     "duration": 0.297248,
     "end_time": "2021-07-21T11:59:29.604745",
     "exception": false,
     "start_time": "2021-07-21T11:59:29.307497",
     "status": "completed"
    },
    "tags": []
   },
   "source": [
    "Графики выборок схожи, основное количество представленных автомобилей работает на бензиновом топливе. Так как предварительной обработки признаку не требуется, добавим его в категориальные:"
   ]
  },
  {
   "cell_type": "code",
   "execution_count": 82,
   "metadata": {
    "execution": {
     "iopub.execute_input": "2021-07-21T11:59:30.211381Z",
     "iopub.status.busy": "2021-07-21T11:59:30.210353Z",
     "iopub.status.idle": "2021-07-21T11:59:30.214008Z",
     "shell.execute_reply": "2021-07-21T11:59:30.213310Z",
     "shell.execute_reply.started": "2021-07-21T11:20:05.205445Z"
    },
    "papermill": {
     "duration": 0.308633,
     "end_time": "2021-07-21T11:59:30.214133",
     "exception": false,
     "start_time": "2021-07-21T11:59:29.905500",
     "status": "completed"
    },
    "tags": []
   },
   "outputs": [],
   "source": [
    "cat_cols.append('fuelType')"
   ]
  },
  {
   "cell_type": "markdown",
   "metadata": {
    "papermill": {
     "duration": 0.300362,
     "end_time": "2021-07-21T11:59:30.817000",
     "exception": false,
     "start_time": "2021-07-21T11:59:30.516638",
     "status": "completed"
    },
    "tags": []
   },
   "source": [
    "### 3.2.9. Столбец image"
   ]
  },
  {
   "cell_type": "markdown",
   "metadata": {
    "papermill": {
     "duration": 0.301774,
     "end_time": "2021-07-21T11:59:31.419544",
     "exception": false,
     "start_time": "2021-07-21T11:59:31.117770",
     "status": "completed"
    },
    "tags": []
   },
   "source": [
    "Данный признак содержит фото автомобиля. На мой взгляд особой информативности не несет, поэтому для обучения его брать не будем."
   ]
  },
  {
   "cell_type": "markdown",
   "metadata": {
    "papermill": {
     "duration": 0.298728,
     "end_time": "2021-07-21T11:59:32.017805",
     "exception": false,
     "start_time": "2021-07-21T11:59:31.719077",
     "status": "completed"
    },
    "tags": []
   },
   "source": [
    "### 3.2.10. Столбец mileage"
   ]
  },
  {
   "cell_type": "markdown",
   "metadata": {
    "papermill": {
     "duration": 0.300927,
     "end_time": "2021-07-21T11:59:32.616918",
     "exception": false,
     "start_time": "2021-07-21T11:59:32.315991",
     "status": "completed"
    },
    "tags": []
   },
   "source": [
    "Признак содержит данные о пробеге продаваемого авто. Проверим есть ли пропуски:"
   ]
  },
  {
   "cell_type": "code",
   "execution_count": 83,
   "metadata": {
    "execution": {
     "iopub.execute_input": "2021-07-21T11:59:33.233306Z",
     "iopub.status.busy": "2021-07-21T11:59:33.232209Z",
     "iopub.status.idle": "2021-07-21T11:59:33.236564Z",
     "shell.execute_reply": "2021-07-21T11:59:33.235917Z",
     "shell.execute_reply.started": "2021-07-21T11:20:05.209711Z"
    },
    "papermill": {
     "duration": 0.321347,
     "end_time": "2021-07-21T11:59:33.236681",
     "exception": false,
     "start_time": "2021-07-21T11:59:32.915334",
     "status": "completed"
    },
    "tags": []
   },
   "outputs": [
    {
     "name": "stdout",
     "output_type": "stream",
     "text": [
      "0\n",
      "0\n"
     ]
    }
   ],
   "source": [
    "print(train.mileage.isna().sum())\n",
    "print(test.mileage.isna().sum())"
   ]
  },
  {
   "cell_type": "markdown",
   "metadata": {
    "papermill": {
     "duration": 0.298074,
     "end_time": "2021-07-21T11:59:33.835614",
     "exception": false,
     "start_time": "2021-07-21T11:59:33.537540",
     "status": "completed"
    },
    "tags": []
   },
   "source": [
    "Пропусков нет, проверим сами данные:"
   ]
  },
  {
   "cell_type": "code",
   "execution_count": 84,
   "metadata": {
    "execution": {
     "iopub.execute_input": "2021-07-21T11:59:34.445925Z",
     "iopub.status.busy": "2021-07-21T11:59:34.445174Z",
     "iopub.status.idle": "2021-07-21T11:59:34.449727Z",
     "shell.execute_reply": "2021-07-21T11:59:34.449215Z",
     "shell.execute_reply.started": "2021-07-21T11:20:05.228879Z"
    },
    "papermill": {
     "duration": 0.314087,
     "end_time": "2021-07-21T11:59:34.449871",
     "exception": false,
     "start_time": "2021-07-21T11:59:34.135784",
     "status": "completed"
    },
    "tags": []
   },
   "outputs": [
    {
     "data": {
      "text/plain": [
       "array(['69\\xa0850\\xa0км', '119\\xa0075\\xa0км', '25\\xa0800\\xa0км', ...,\n",
       "       255999, 315164, 373317], dtype=object)"
      ]
     },
     "execution_count": 84,
     "metadata": {},
     "output_type": "execute_result"
    }
   ],
   "source": [
    "train.mileage.unique()"
   ]
  },
  {
   "cell_type": "markdown",
   "metadata": {
    "papermill": {
     "duration": 0.307278,
     "end_time": "2021-07-21T11:59:35.060533",
     "exception": false,
     "start_time": "2021-07-21T11:59:34.753255",
     "status": "completed"
    },
    "tags": []
   },
   "source": [
    "Видно, что данные грязные. Уберем из данных лишний мусор:"
   ]
  },
  {
   "cell_type": "code",
   "execution_count": 85,
   "metadata": {
    "execution": {
     "iopub.execute_input": "2021-07-21T11:59:35.744128Z",
     "iopub.status.busy": "2021-07-21T11:59:35.738719Z",
     "iopub.status.idle": "2021-07-21T11:59:35.760019Z",
     "shell.execute_reply": "2021-07-21T11:59:35.759366Z",
     "shell.execute_reply.started": "2021-07-21T11:20:05.244122Z"
    },
    "papermill": {
     "duration": 0.401966,
     "end_time": "2021-07-21T11:59:35.760172",
     "exception": false,
     "start_time": "2021-07-21T11:59:35.358206",
     "status": "completed"
    },
    "tags": []
   },
   "outputs": [],
   "source": [
    "# убираем \\xa0 из данных\n",
    "train['mileage'] = train['mileage'].apply(lambda x: str(x).replace('\\xa0', ''))\n",
    "# убираем км из данных\n",
    "train['mileage'] = train['mileage'].apply(lambda x: str(x).replace('км', ''))"
   ]
  },
  {
   "cell_type": "markdown",
   "metadata": {
    "papermill": {
     "duration": 0.295596,
     "end_time": "2021-07-21T11:59:36.359938",
     "exception": false,
     "start_time": "2021-07-21T11:59:36.064342",
     "status": "completed"
    },
    "tags": []
   },
   "source": [
    "Проверим результат:"
   ]
  },
  {
   "cell_type": "code",
   "execution_count": 86,
   "metadata": {
    "execution": {
     "iopub.execute_input": "2021-07-21T11:59:36.970029Z",
     "iopub.status.busy": "2021-07-21T11:59:36.969283Z",
     "iopub.status.idle": "2021-07-21T11:59:36.976210Z",
     "shell.execute_reply": "2021-07-21T11:59:36.975622Z",
     "shell.execute_reply.started": "2021-07-21T11:20:05.283715Z"
    },
    "papermill": {
     "duration": 0.31542,
     "end_time": "2021-07-21T11:59:36.976332",
     "exception": false,
     "start_time": "2021-07-21T11:59:36.660912",
     "status": "completed"
    },
    "tags": []
   },
   "outputs": [
    {
     "data": {
      "text/plain": [
       "array(['69850', '119075', '25800', ..., '255999', '315164', '373317'],\n",
       "      dtype=object)"
      ]
     },
     "execution_count": 86,
     "metadata": {},
     "output_type": "execute_result"
    }
   ],
   "source": [
    "train.mileage.unique()"
   ]
  },
  {
   "cell_type": "markdown",
   "metadata": {
    "papermill": {
     "duration": 0.299587,
     "end_time": "2021-07-21T11:59:37.586298",
     "exception": false,
     "start_time": "2021-07-21T11:59:37.286711",
     "status": "completed"
    },
    "tags": []
   },
   "source": [
    "Замечательно! Мы убрали весь мусор, который мешал работать с данными. Проделаем то же самое для тестовой выборки:"
   ]
  },
  {
   "cell_type": "code",
   "execution_count": 87,
   "metadata": {
    "execution": {
     "iopub.execute_input": "2021-07-21T11:59:38.228928Z",
     "iopub.status.busy": "2021-07-21T11:59:38.228172Z",
     "iopub.status.idle": "2021-07-21T11:59:38.273745Z",
     "shell.execute_reply": "2021-07-21T11:59:38.273000Z",
     "shell.execute_reply.started": "2021-07-21T11:20:05.295613Z"
    },
    "papermill": {
     "duration": 0.386618,
     "end_time": "2021-07-21T11:59:38.273894",
     "exception": false,
     "start_time": "2021-07-21T11:59:37.887276",
     "status": "completed"
    },
    "tags": []
   },
   "outputs": [],
   "source": [
    "# убираем \\xa0 из данных\n",
    "test['mileage'] = test['mileage'].apply(lambda x: str(x).replace('\\xa0', ''))\n",
    "# убираем км из данных\n",
    "test['mileage'] = test['mileage'].apply(lambda x: str(x).replace('км', ''))"
   ]
  },
  {
   "cell_type": "markdown",
   "metadata": {
    "papermill": {
     "duration": 0.309484,
     "end_time": "2021-07-21T11:59:38.891841",
     "exception": false,
     "start_time": "2021-07-21T11:59:38.582357",
     "status": "completed"
    },
    "tags": []
   },
   "source": [
    "Теперь преобразуем в числовой формат:"
   ]
  },
  {
   "cell_type": "code",
   "execution_count": 88,
   "metadata": {
    "execution": {
     "iopub.execute_input": "2021-07-21T11:59:39.535893Z",
     "iopub.status.busy": "2021-07-21T11:59:39.511431Z",
     "iopub.status.idle": "2021-07-21T11:59:39.587974Z",
     "shell.execute_reply": "2021-07-21T11:59:39.587317Z",
     "shell.execute_reply.started": "2021-07-21T11:20:05.333964Z"
    },
    "papermill": {
     "duration": 0.38851,
     "end_time": "2021-07-21T11:59:39.588109",
     "exception": false,
     "start_time": "2021-07-21T11:59:39.199599",
     "status": "completed"
    },
    "tags": []
   },
   "outputs": [],
   "source": [
    "# Тестовая выборка\n",
    "test['mileage'] = test['mileage'].apply(lambda x: int(x))\n",
    "# Обучающая выборка\n",
    "train['mileage'] = train['mileage'].apply(lambda x: int(x))"
   ]
  },
  {
   "cell_type": "markdown",
   "metadata": {
    "papermill": {
     "duration": 0.305729,
     "end_time": "2021-07-21T11:59:40.203238",
     "exception": false,
     "start_time": "2021-07-21T11:59:39.897509",
     "status": "completed"
    },
    "tags": []
   },
   "source": [
    "Посмотрим распределение значений признака для обеих выборок:"
   ]
  },
  {
   "cell_type": "code",
   "execution_count": 89,
   "metadata": {
    "execution": {
     "iopub.execute_input": "2021-07-21T11:59:40.818880Z",
     "iopub.status.busy": "2021-07-21T11:59:40.816120Z",
     "iopub.status.idle": "2021-07-21T11:59:41.114992Z",
     "shell.execute_reply": "2021-07-21T11:59:41.115486Z",
     "shell.execute_reply.started": "2021-07-21T11:20:05.385185Z"
    },
    "papermill": {
     "duration": 0.610911,
     "end_time": "2021-07-21T11:59:41.115651",
     "exception": false,
     "start_time": "2021-07-21T11:59:40.504740",
     "status": "completed"
    },
    "tags": []
   },
   "outputs": [
    {
     "data": {
      "text/plain": [
       "<matplotlib.axes._subplots.AxesSubplot at 0x7f2cde9eb310>"
      ]
     },
     "execution_count": 89,
     "metadata": {},
     "output_type": "execute_result"
    },
    {
     "data": {
      "image/png": "[encoded data removed]",
      "text/plain": [
       "<Figure size 576x396 with 1 Axes>"
      ]
     },
     "metadata": {},
     "output_type": "display_data"
    }
   ],
   "source": [
    "# Тренировочная выборка\n",
    "train.mileage.hist()"
   ]
  },
  {
   "cell_type": "code",
   "execution_count": 90,
   "metadata": {
    "execution": {
     "iopub.execute_input": "2021-07-21T11:59:41.735427Z",
     "iopub.status.busy": "2021-07-21T11:59:41.730211Z",
     "iopub.status.idle": "2021-07-21T11:59:42.039997Z",
     "shell.execute_reply": "2021-07-21T11:59:42.039394Z",
     "shell.execute_reply.started": "2021-07-21T11:20:05.641504Z"
    },
    "papermill": {
     "duration": 0.623998,
     "end_time": "2021-07-21T11:59:42.040131",
     "exception": false,
     "start_time": "2021-07-21T11:59:41.416133",
     "status": "completed"
    },
    "tags": []
   },
   "outputs": [
    {
     "data": {
      "text/plain": [
       "<matplotlib.axes._subplots.AxesSubplot at 0x7f2cde999190>"
      ]
     },
     "execution_count": 90,
     "metadata": {},
     "output_type": "execute_result"
    },
    {
     "data": {
      "image/png": "[encoded data removed]",
      "text/plain": [
       "<Figure size 576x396 with 1 Axes>"
      ]
     },
     "metadata": {},
     "output_type": "display_data"
    }
   ],
   "source": [
    "# Тестовая выборка\n",
    "test.mileage.hist()"
   ]
  },
  {
   "cell_type": "markdown",
   "metadata": {
    "papermill": {
     "duration": 0.3013,
     "end_time": "2021-07-21T11:59:42.648266",
     "exception": false,
     "start_time": "2021-07-21T11:59:42.346966",
     "status": "completed"
    },
    "tags": []
   },
   "source": [
    "Теперь посмотрим на основные показатели признака:"
   ]
  },
  {
   "cell_type": "code",
   "execution_count": 91,
   "metadata": {
    "execution": {
     "iopub.execute_input": "2021-07-21T11:59:43.261677Z",
     "iopub.status.busy": "2021-07-21T11:59:43.260910Z",
     "iopub.status.idle": "2021-07-21T11:59:43.272997Z",
     "shell.execute_reply": "2021-07-21T11:59:43.272386Z",
     "shell.execute_reply.started": "2021-07-21T11:20:05.895331Z"
    },
    "papermill": {
     "duration": 0.324085,
     "end_time": "2021-07-21T11:59:43.273121",
     "exception": false,
     "start_time": "2021-07-21T11:59:42.949036",
     "status": "completed"
    },
    "tags": []
   },
   "outputs": [
    {
     "data": {
      "text/plain": [
       "count      37237.000000\n",
       "mean      143512.051025\n",
       "std        95159.767630\n",
       "min            1.000000\n",
       "25%        74792.000000\n",
       "50%       130000.000000\n",
       "75%       193318.000000\n",
       "max      1000000.000000\n",
       "Name: mileage, dtype: float64"
      ]
     },
     "execution_count": 91,
     "metadata": {},
     "output_type": "execute_result"
    }
   ],
   "source": [
    "train.mileage.describe()"
   ]
  },
  {
   "cell_type": "code",
   "execution_count": 92,
   "metadata": {
    "execution": {
     "iopub.execute_input": "2021-07-21T11:59:43.908967Z",
     "iopub.status.busy": "2021-07-21T11:59:43.908262Z",
     "iopub.status.idle": "2021-07-21T11:59:43.912545Z",
     "shell.execute_reply": "2021-07-21T11:59:43.912022Z",
     "shell.execute_reply.started": "2021-07-21T11:20:05.907020Z"
    },
    "papermill": {
     "duration": 0.329226,
     "end_time": "2021-07-21T11:59:43.912666",
     "exception": false,
     "start_time": "2021-07-21T11:59:43.583440",
     "status": "completed"
    },
    "tags": []
   },
   "outputs": [
    {
     "data": {
      "text/plain": [
       "count      34686.000000\n",
       "mean      162009.767889\n",
       "std       100676.559489\n",
       "min            1.000000\n",
       "25%        91153.500000\n",
       "50%       149779.500000\n",
       "75%       215000.000000\n",
       "max      1000000.000000\n",
       "Name: mileage, dtype: float64"
      ]
     },
     "execution_count": 92,
     "metadata": {},
     "output_type": "execute_result"
    }
   ],
   "source": [
    "test.mileage.describe()"
   ]
  },
  {
   "cell_type": "markdown",
   "metadata": {
    "papermill": {
     "duration": 0.30429,
     "end_time": "2021-07-21T11:59:44.570408",
     "exception": false,
     "start_time": "2021-07-21T11:59:44.266118",
     "status": "completed"
    },
    "tags": []
   },
   "source": [
    "Распределение на графике может считаться  нормальным, максимальное значение равно 1 млн. км. Является ли это выбросом? Вполне возможно, но есть автомобили, у которых пробег может быть еще больше. Такой вывод делаю, основываясь на собственном опыте. Для достоверности - можно посмотреть, какое количество значений привышается исходя из программного метода:"
   ]
  },
  {
   "cell_type": "code",
   "execution_count": 93,
   "metadata": {
    "execution": {
     "iopub.execute_input": "2021-07-21T11:59:45.201313Z",
     "iopub.status.busy": "2021-07-21T11:59:45.200578Z",
     "iopub.status.idle": "2021-07-21T11:59:45.212457Z",
     "shell.execute_reply": "2021-07-21T11:59:45.211669Z",
     "shell.execute_reply.started": "2021-07-21T11:20:05.917914Z"
    },
    "papermill": {
     "duration": 0.338321,
     "end_time": "2021-07-21T11:59:45.212588",
     "exception": false,
     "start_time": "2021-07-21T11:59:44.874267",
     "status": "completed"
    },
    "tags": []
   },
   "outputs": [
    {
     "name": "stdout",
     "output_type": "stream",
     "text": [
      "25-й перцентиль: 74792.0, 75-й перцентиль: 193318.0, IQR: 118526.0,  Границы выбросов: [-102997.0, 371107.0].\n"
     ]
    }
   ],
   "source": [
    "IQR = train['mileage'].quantile(0.75) - train['mileage'].quantile(0.25)\n",
    "perc25 = train['mileage'].quantile(0.25)  # 25-й перцентиль\n",
    "perc75 = train['mileage'].quantile(0.75)  # 75-й перцентиль\n",
    "\n",
    "print(\n",
    "    '25-й перцентиль: {},'.format(perc25),\n",
    "    '75-й перцентиль: {},'.format(perc75),\n",
    "    \"IQR: {}, \".format(IQR),\n",
    "    \"Границы выбросов: [{f}, {l}].\".format(f=perc25 - 1.5*IQR,\n",
    "                                           l=perc75 + 1.5*IQR))"
   ]
  },
  {
   "cell_type": "markdown",
   "metadata": {
    "papermill": {
     "duration": 0.304062,
     "end_time": "2021-07-21T11:59:45.827478",
     "exception": false,
     "start_time": "2021-07-21T11:59:45.523416",
     "status": "completed"
    },
    "tags": []
   },
   "source": [
    "Как мы видим, исходя из программного метода верхней границей является 371107 км. Но здравый смысл подсказывает, что могут быть значения и выше, и они вполне реальны. Посмотрим сколько значений привышает границу:"
   ]
  },
  {
   "cell_type": "code",
   "execution_count": 94,
   "metadata": {
    "execution": {
     "iopub.execute_input": "2021-07-21T11:59:46.451959Z",
     "iopub.status.busy": "2021-07-21T11:59:46.451134Z",
     "iopub.status.idle": "2021-07-21T11:59:46.458364Z",
     "shell.execute_reply": "2021-07-21T11:59:46.457757Z",
     "shell.execute_reply.started": "2021-07-21T11:20:05.935345Z"
    },
    "papermill": {
     "duration": 0.319152,
     "end_time": "2021-07-21T11:59:46.458491",
     "exception": false,
     "start_time": "2021-07-21T11:59:46.139339",
     "status": "completed"
    },
    "tags": []
   },
   "outputs": [
    {
     "data": {
      "text/plain": [
       "913"
      ]
     },
     "execution_count": 94,
     "metadata": {},
     "output_type": "execute_result"
    }
   ],
   "source": [
    "train.mileage[train.mileage > 371107].count()"
   ]
  },
  {
   "cell_type": "markdown",
   "metadata": {
    "papermill": {
     "duration": 0.307401,
     "end_time": "2021-07-21T11:59:47.068700",
     "exception": false,
     "start_time": "2021-07-21T11:59:46.761299",
     "status": "completed"
    },
    "tags": []
   },
   "source": [
    "Как мы видим значений очень мало, что логично. Оставим их без изменений. Посмотрим аналогично для тестовой выборки:"
   ]
  },
  {
   "cell_type": "code",
   "execution_count": 95,
   "metadata": {
    "execution": {
     "iopub.execute_input": "2021-07-21T11:59:47.684923Z",
     "iopub.status.busy": "2021-07-21T11:59:47.684077Z",
     "iopub.status.idle": "2021-07-21T11:59:47.694215Z",
     "shell.execute_reply": "2021-07-21T11:59:47.694716Z",
     "shell.execute_reply.started": "2021-07-21T11:20:05.952380Z"
    },
    "papermill": {
     "duration": 0.321967,
     "end_time": "2021-07-21T11:59:47.694897",
     "exception": false,
     "start_time": "2021-07-21T11:59:47.372930",
     "status": "completed"
    },
    "tags": []
   },
   "outputs": [
    {
     "name": "stdout",
     "output_type": "stream",
     "text": [
      "25-й перцентиль: 91153.5, 75-й перцентиль: 215000.0, IQR: 123846.5,  Границы выбросов: [-94616.25, 400769.75].\n"
     ]
    }
   ],
   "source": [
    "IQR = test['mileage'].quantile(0.75) - test['mileage'].quantile(0.25)\n",
    "perc25 = test['mileage'].quantile(0.25)  # 25-й перцентиль\n",
    "perc75 = test['mileage'].quantile(0.75)  # 75-й перцентиль\n",
    "\n",
    "print(\n",
    "    '25-й перцентиль: {},'.format(perc25),\n",
    "    '75-й перцентиль: {},'.format(perc75),\n",
    "    \"IQR: {}, \".format(IQR),\n",
    "    \"Границы выбросов: [{f}, {l}].\".format(f=perc25 - 1.5*IQR,\n",
    "                                           l=perc75 + 1.5*IQR))"
   ]
  },
  {
   "cell_type": "markdown",
   "metadata": {
    "papermill": {
     "duration": 0.312704,
     "end_time": "2021-07-21T11:59:48.316996",
     "exception": false,
     "start_time": "2021-07-21T11:59:48.004292",
     "status": "completed"
    },
    "tags": []
   },
   "source": [
    "Для теста верхний порог оказался даже выше, 400769 км. Посмотрим сколько значений его привышают:"
   ]
  },
  {
   "cell_type": "code",
   "execution_count": 96,
   "metadata": {
    "execution": {
     "iopub.execute_input": "2021-07-21T11:59:48.942505Z",
     "iopub.status.busy": "2021-07-21T11:59:48.941778Z",
     "iopub.status.idle": "2021-07-21T11:59:48.947071Z",
     "shell.execute_reply": "2021-07-21T11:59:48.946405Z",
     "shell.execute_reply.started": "2021-07-21T11:20:05.968180Z"
    },
    "papermill": {
     "duration": 0.321586,
     "end_time": "2021-07-21T11:59:48.947252",
     "exception": false,
     "start_time": "2021-07-21T11:59:48.625666",
     "status": "completed"
    },
    "tags": []
   },
   "outputs": [
    {
     "data": {
      "text/plain": [
       "692"
      ]
     },
     "execution_count": 96,
     "metadata": {},
     "output_type": "execute_result"
    }
   ],
   "source": [
    "test.mileage[test.mileage > 400769].count()"
   ]
  },
  {
   "cell_type": "markdown",
   "metadata": {
    "papermill": {
     "duration": 0.306604,
     "end_time": "2021-07-21T11:59:49.594060",
     "exception": false,
     "start_time": "2021-07-21T11:59:49.287456",
     "status": "completed"
    },
    "tags": []
   },
   "source": [
    "Значений также мало, оставим их без изменений. Добавим признак к числовым:"
   ]
  },
  {
   "cell_type": "code",
   "execution_count": 97,
   "metadata": {
    "execution": {
     "iopub.execute_input": "2021-07-21T11:59:50.217253Z",
     "iopub.status.busy": "2021-07-21T11:59:50.216538Z",
     "iopub.status.idle": "2021-07-21T11:59:50.218968Z",
     "shell.execute_reply": "2021-07-21T11:59:50.219529Z",
     "shell.execute_reply.started": "2021-07-21T11:20:05.977441Z"
    },
    "papermill": {
     "duration": 0.317843,
     "end_time": "2021-07-21T11:59:50.219689",
     "exception": false,
     "start_time": "2021-07-21T11:59:49.901846",
     "status": "completed"
    },
    "tags": []
   },
   "outputs": [],
   "source": [
    "num_cols.append('mileage')"
   ]
  },
  {
   "cell_type": "markdown",
   "metadata": {
    "papermill": {
     "duration": 0.355263,
     "end_time": "2021-07-21T11:59:50.880021",
     "exception": false,
     "start_time": "2021-07-21T11:59:50.524758",
     "status": "completed"
    },
    "tags": []
   },
   "source": [
    "### 3.2.11. Столбец modelDate"
   ]
  },
  {
   "cell_type": "markdown",
   "metadata": {
    "papermill": {
     "duration": 0.341896,
     "end_time": "2021-07-21T11:59:51.536031",
     "exception": false,
     "start_time": "2021-07-21T11:59:51.194135",
     "status": "completed"
    },
    "tags": []
   },
   "source": [
    "Данный признак содержит информацию о годе производства модели авто. Посмотрим пропуски:"
   ]
  },
  {
   "cell_type": "code",
   "execution_count": 98,
   "metadata": {
    "execution": {
     "iopub.execute_input": "2021-07-21T11:59:52.171418Z",
     "iopub.status.busy": "2021-07-21T11:59:52.170681Z",
     "iopub.status.idle": "2021-07-21T11:59:52.178719Z",
     "shell.execute_reply": "2021-07-21T11:59:52.180103Z",
     "shell.execute_reply.started": "2021-07-21T11:20:05.990645Z"
    },
    "papermill": {
     "duration": 0.327154,
     "end_time": "2021-07-21T11:59:52.180392",
     "exception": false,
     "start_time": "2021-07-21T11:59:51.853238",
     "status": "completed"
    },
    "tags": []
   },
   "outputs": [
    {
     "name": "stdout",
     "output_type": "stream",
     "text": [
      "0\n",
      "0\n"
     ]
    }
   ],
   "source": [
    "print(train.modelDate.isna().sum())\n",
    "print(test.modelDate.isna().sum())"
   ]
  },
  {
   "cell_type": "markdown",
   "metadata": {
    "papermill": {
     "duration": 0.304687,
     "end_time": "2021-07-21T11:59:52.794098",
     "exception": false,
     "start_time": "2021-07-21T11:59:52.489411",
     "status": "completed"
    },
    "tags": []
   },
   "source": [
    "Перейдем к просмотру данных:"
   ]
  },
  {
   "cell_type": "code",
   "execution_count": 99,
   "metadata": {
    "execution": {
     "iopub.execute_input": "2021-07-21T11:59:53.417209Z",
     "iopub.status.busy": "2021-07-21T11:59:53.416119Z",
     "iopub.status.idle": "2021-07-21T11:59:53.421811Z",
     "shell.execute_reply": "2021-07-21T11:59:53.421294Z",
     "shell.execute_reply.started": "2021-07-21T11:20:06.004382Z"
    },
    "papermill": {
     "duration": 0.318387,
     "end_time": "2021-07-21T11:59:53.421985",
     "exception": false,
     "start_time": "2021-07-21T11:59:53.103598",
     "status": "completed"
    },
    "tags": []
   },
   "outputs": [
    {
     "data": {
      "text/plain": [
       "array([2013, 2011, 2017, 2015, 2014, 2005, 2010, 2019, 2018, 2020, 2016,\n",
       "       2000, 2008, 2012, 2009, 2004, 1972, 2006, 1998, 2007, 2002, 1995,\n",
       "       2001, 1992, 2003, 1956, 1996, 1991, 1994, 1999, 1993, 1990, 1988,\n",
       "       1997, 1982, 1987, 2021, 1976, 1984, 1983, 1973, 1986, 1979, 1989,\n",
       "       1981, 1985, 1946, 1971, 1970, 1953, 1977, 1968, 1978, 1958, 1963,\n",
       "       1955, 1964, 1974, 1965, 1980, 1959, 1969, 1975, 1961, 1952, 1960,\n",
       "       1957, 1949, 1937, 1950, 1938])"
      ]
     },
     "execution_count": 99,
     "metadata": {},
     "output_type": "execute_result"
    }
   ],
   "source": [
    "train.modelDate.unique()"
   ]
  },
  {
   "cell_type": "code",
   "execution_count": 100,
   "metadata": {
    "execution": {
     "iopub.execute_input": "2021-07-21T11:59:54.048479Z",
     "iopub.status.busy": "2021-07-21T11:59:54.047756Z",
     "iopub.status.idle": "2021-07-21T11:59:54.050951Z",
     "shell.execute_reply": "2021-07-21T11:59:54.051553Z",
     "shell.execute_reply.started": "2021-07-21T11:20:06.018057Z"
    },
    "papermill": {
     "duration": 0.322113,
     "end_time": "2021-07-21T11:59:54.051703",
     "exception": false,
     "start_time": "2021-07-21T11:59:53.729590",
     "status": "completed"
    },
    "tags": []
   },
   "outputs": [
    {
     "data": {
      "text/plain": [
       "array([2013, 2017, 2008, 2009, 2016, 2012, 2015, 2010, 2006, 2000, 2007,\n",
       "       1994, 2004, 1999, 2005, 1976, 2001, 1969, 1996, 1998, 1989, 1934,\n",
       "       2014, 2011, 2018, 1986, 1997, 1990, 2019, 2002, 1991, 1987, 1980,\n",
       "       1982, 1938, 1988, 2003, 1983, 1978, 1979, 1984, 1992, 1995, 1993,\n",
       "       1985, 1974, 1966, 1977, 1981, 1972, 1968, 1975, 1949, 1937, 1936,\n",
       "       1973, 1959, 1958, 2020, 1965, 1971, 1904, 1963, 1955, 1951, 1960])"
      ]
     },
     "execution_count": 100,
     "metadata": {},
     "output_type": "execute_result"
    }
   ],
   "source": [
    "test.modelDate.unique()"
   ]
  },
  {
   "cell_type": "markdown",
   "metadata": {
    "papermill": {
     "duration": 0.308753,
     "end_time": "2021-07-21T11:59:54.672379",
     "exception": false,
     "start_time": "2021-07-21T11:59:54.363626",
     "status": "completed"
    },
    "tags": []
   },
   "source": [
    "Посмотрим график распределения признака:"
   ]
  },
  {
   "cell_type": "code",
   "execution_count": 101,
   "metadata": {
    "execution": {
     "iopub.execute_input": "2021-07-21T11:59:55.311983Z",
     "iopub.status.busy": "2021-07-21T11:59:55.311232Z",
     "iopub.status.idle": "2021-07-21T11:59:55.603023Z",
     "shell.execute_reply": "2021-07-21T11:59:55.603621Z",
     "shell.execute_reply.started": "2021-07-21T11:20:06.030551Z"
    },
    "papermill": {
     "duration": 0.604997,
     "end_time": "2021-07-21T11:59:55.603777",
     "exception": false,
     "start_time": "2021-07-21T11:59:54.998780",
     "status": "completed"
    },
    "tags": []
   },
   "outputs": [
    {
     "data": {
      "text/plain": [
       "<matplotlib.axes._subplots.AxesSubplot at 0x7f2cde9bb5d0>"
      ]
     },
     "execution_count": 101,
     "metadata": {},
     "output_type": "execute_result"
    },
    {
     "data": {
      "image/png": "[encoded data removed]",
      "text/plain": [
       "<Figure size 576x396 with 1 Axes>"
      ]
     },
     "metadata": {},
     "output_type": "display_data"
    }
   ],
   "source": [
    "# тренировочная выборка\n",
    "train.modelDate.hist()"
   ]
  },
  {
   "cell_type": "code",
   "execution_count": 102,
   "metadata": {
    "execution": {
     "iopub.execute_input": "2021-07-21T11:59:56.219896Z",
     "iopub.status.busy": "2021-07-21T11:59:56.219168Z",
     "iopub.status.idle": "2021-07-21T11:59:56.522261Z",
     "shell.execute_reply": "2021-07-21T11:59:56.522815Z",
     "shell.execute_reply.started": "2021-07-21T11:20:06.285852Z"
    },
    "papermill": {
     "duration": 0.613583,
     "end_time": "2021-07-21T11:59:56.523001",
     "exception": false,
     "start_time": "2021-07-21T11:59:55.909418",
     "status": "completed"
    },
    "tags": []
   },
   "outputs": [
    {
     "data": {
      "text/plain": [
       "<matplotlib.axes._subplots.AxesSubplot at 0x7f2cde91a510>"
      ]
     },
     "execution_count": 102,
     "metadata": {},
     "output_type": "execute_result"
    },
    {
     "data": {
      "image/png": "[encoded data removed]",
      "text/plain": [
       "<Figure size 576x396 with 1 Axes>"
      ]
     },
     "metadata": {},
     "output_type": "display_data"
    }
   ],
   "source": [
    "# тестовая выборка\n",
    "test.modelDate.hist()"
   ]
  },
  {
   "cell_type": "markdown",
   "metadata": {
    "papermill": {
     "duration": 0.308953,
     "end_time": "2021-07-21T11:59:57.141643",
     "exception": false,
     "start_time": "2021-07-21T11:59:56.832690",
     "status": "completed"
    },
    "tags": []
   },
   "source": [
    "Как видно из графика, большинство авто, представленые в дата-сете, возрастом 20 и менее лет. Хотя есть и раритеты. Выделим на основе имеющихся данных новый признак, который отражает время, прошедшее с момента производства модели (Текущий год 2021):"
   ]
  },
  {
   "cell_type": "code",
   "execution_count": 103,
   "metadata": {
    "execution": {
     "iopub.execute_input": "2021-07-21T11:59:57.756519Z",
     "iopub.status.busy": "2021-07-21T11:59:57.755736Z",
     "iopub.status.idle": "2021-07-21T11:59:57.763447Z",
     "shell.execute_reply": "2021-07-21T11:59:57.762874Z",
     "shell.execute_reply.started": "2021-07-21T11:20:06.541663Z"
    },
    "papermill": {
     "duration": 0.316185,
     "end_time": "2021-07-21T11:59:57.763577",
     "exception": false,
     "start_time": "2021-07-21T11:59:57.447392",
     "status": "completed"
    },
    "tags": []
   },
   "outputs": [],
   "source": [
    "train['model_time'] = datetime.now().year - train.modelDate"
   ]
  },
  {
   "cell_type": "markdown",
   "metadata": {
    "papermill": {
     "duration": 0.309803,
     "end_time": "2021-07-21T11:59:58.383196",
     "exception": false,
     "start_time": "2021-07-21T11:59:58.073393",
     "status": "completed"
    },
    "tags": []
   },
   "source": [
    "Проверим, что получилось:"
   ]
  },
  {
   "cell_type": "code",
   "execution_count": 104,
   "metadata": {
    "execution": {
     "iopub.execute_input": "2021-07-21T11:59:59.010657Z",
     "iopub.status.busy": "2021-07-21T11:59:59.009579Z",
     "iopub.status.idle": "2021-07-21T11:59:59.015041Z",
     "shell.execute_reply": "2021-07-21T11:59:59.015581Z",
     "shell.execute_reply.started": "2021-07-21T11:20:06.547842Z"
    },
    "papermill": {
     "duration": 0.324361,
     "end_time": "2021-07-21T11:59:59.015733",
     "exception": false,
     "start_time": "2021-07-21T11:59:58.691372",
     "status": "completed"
    },
    "tags": []
   },
   "outputs": [
    {
     "data": {
      "text/plain": [
       "array([ 8, 10,  4,  6,  7, 16, 11,  2,  3,  1,  5, 21, 13,  9, 12, 17, 49,\n",
       "       15, 23, 14, 19, 26, 20, 29, 18, 65, 25, 30, 27, 22, 28, 31, 33, 24,\n",
       "       39, 34,  0, 45, 37, 38, 48, 35, 42, 32, 40, 36, 75, 50, 51, 68, 44,\n",
       "       53, 43, 63, 58, 66, 57, 47, 56, 41, 62, 52, 46, 60, 69, 61, 64, 72,\n",
       "       84, 71, 83])"
      ]
     },
     "execution_count": 104,
     "metadata": {},
     "output_type": "execute_result"
    }
   ],
   "source": [
    "train.model_time.unique()"
   ]
  },
  {
   "cell_type": "markdown",
   "metadata": {
    "papermill": {
     "duration": 0.305509,
     "end_time": "2021-07-21T11:59:59.631673",
     "exception": false,
     "start_time": "2021-07-21T11:59:59.326164",
     "status": "completed"
    },
    "tags": []
   },
   "source": [
    "Повторим для тестовой выборки:"
   ]
  },
  {
   "cell_type": "code",
   "execution_count": 105,
   "metadata": {
    "execution": {
     "iopub.execute_input": "2021-07-21T12:00:00.280318Z",
     "iopub.status.busy": "2021-07-21T12:00:00.279654Z",
     "iopub.status.idle": "2021-07-21T12:00:00.287816Z",
     "shell.execute_reply": "2021-07-21T12:00:00.287014Z",
     "shell.execute_reply.started": "2021-07-21T11:20:06.562648Z"
    },
    "papermill": {
     "duration": 0.348185,
     "end_time": "2021-07-21T12:00:00.288003",
     "exception": false,
     "start_time": "2021-07-21T11:59:59.939818",
     "status": "completed"
    },
    "tags": []
   },
   "outputs": [],
   "source": [
    "test['model_time'] = datetime.now().year - test.modelDate"
   ]
  },
  {
   "cell_type": "markdown",
   "metadata": {
    "papermill": {
     "duration": 0.310284,
     "end_time": "2021-07-21T12:00:00.908781",
     "exception": false,
     "start_time": "2021-07-21T12:00:00.598497",
     "status": "completed"
    },
    "tags": []
   },
   "source": [
    "Проверим результат:"
   ]
  },
  {
   "cell_type": "code",
   "execution_count": 106,
   "metadata": {
    "execution": {
     "iopub.execute_input": "2021-07-21T12:00:01.607133Z",
     "iopub.status.busy": "2021-07-21T12:00:01.606362Z",
     "iopub.status.idle": "2021-07-21T12:00:01.612741Z",
     "shell.execute_reply": "2021-07-21T12:00:01.612190Z",
     "shell.execute_reply.started": "2021-07-21T11:20:06.573226Z"
    },
    "papermill": {
     "duration": 0.33438,
     "end_time": "2021-07-21T12:00:01.612879",
     "exception": false,
     "start_time": "2021-07-21T12:00:01.278499",
     "status": "completed"
    },
    "tags": []
   },
   "outputs": [
    {
     "data": {
      "text/plain": [
       "array([  8,   4,  13,  12,   5,   9,   6,  11,  15,  21,  14,  27,  17,\n",
       "        22,  16,  45,  20,  52,  25,  23,  32,  87,   7,  10,   3,  35,\n",
       "        24,  31,   2,  19,  30,  34,  41,  39,  83,  33,  18,  38,  43,\n",
       "        42,  37,  29,  26,  28,  36,  47,  55,  44,  40,  49,  53,  46,\n",
       "        72,  84,  85,  48,  62,  63,   1,  56,  50, 117,  58,  66,  70,\n",
       "        61])"
      ]
     },
     "execution_count": 106,
     "metadata": {},
     "output_type": "execute_result"
    }
   ],
   "source": [
    "test.model_time.unique()"
   ]
  },
  {
   "cell_type": "markdown",
   "metadata": {
    "papermill": {
     "duration": 0.343793,
     "end_time": "2021-07-21T12:00:02.274766",
     "exception": false,
     "start_time": "2021-07-21T12:00:01.930973",
     "status": "completed"
    },
    "tags": []
   },
   "source": [
    "Добавим новый признак к числовым:"
   ]
  },
  {
   "cell_type": "code",
   "execution_count": 107,
   "metadata": {
    "execution": {
     "iopub.execute_input": "2021-07-21T12:00:02.922796Z",
     "iopub.status.busy": "2021-07-21T12:00:02.922049Z",
     "iopub.status.idle": "2021-07-21T12:00:02.927791Z",
     "shell.execute_reply": "2021-07-21T12:00:02.927124Z",
     "shell.execute_reply.started": "2021-07-21T11:20:06.584759Z"
    },
    "papermill": {
     "duration": 0.323914,
     "end_time": "2021-07-21T12:00:02.927946",
     "exception": false,
     "start_time": "2021-07-21T12:00:02.604032",
     "status": "completed"
    },
    "tags": []
   },
   "outputs": [],
   "source": [
    "num_cols.append('model_time')"
   ]
  },
  {
   "cell_type": "markdown",
   "metadata": {
    "papermill": {
     "duration": 0.33151,
     "end_time": "2021-07-21T12:00:03.607560",
     "exception": false,
     "start_time": "2021-07-21T12:00:03.276050",
     "status": "completed"
    },
    "tags": []
   },
   "source": [
    "### 3.2.12 Столбец model_name"
   ]
  },
  {
   "cell_type": "markdown",
   "metadata": {
    "papermill": {
     "duration": 0.337553,
     "end_time": "2021-07-21T12:00:04.260142",
     "exception": false,
     "start_time": "2021-07-21T12:00:03.922589",
     "status": "completed"
    },
    "tags": []
   },
   "source": [
    "Данный признак отражает название модели авто. Посмотрим на пропуски:"
   ]
  },
  {
   "cell_type": "code",
   "execution_count": 108,
   "metadata": {
    "execution": {
     "iopub.execute_input": "2021-07-21T12:00:04.931478Z",
     "iopub.status.busy": "2021-07-21T12:00:04.923530Z",
     "iopub.status.idle": "2021-07-21T12:00:04.941848Z",
     "shell.execute_reply": "2021-07-21T12:00:04.941144Z",
     "shell.execute_reply.started": "2021-07-21T11:20:06.594013Z"
    },
    "papermill": {
     "duration": 0.356717,
     "end_time": "2021-07-21T12:00:04.942017",
     "exception": false,
     "start_time": "2021-07-21T12:00:04.585300",
     "status": "completed"
    },
    "tags": []
   },
   "outputs": [
    {
     "name": "stdout",
     "output_type": "stream",
     "text": [
      "0\n",
      "0\n"
     ]
    }
   ],
   "source": [
    "print(train.model_name.isna().sum())\n",
    "print(test.model_name.isna().sum())"
   ]
  },
  {
   "cell_type": "markdown",
   "metadata": {
    "papermill": {
     "duration": 0.314413,
     "end_time": "2021-07-21T12:00:05.584256",
     "exception": false,
     "start_time": "2021-07-21T12:00:05.269843",
     "status": "completed"
    },
    "tags": []
   },
   "source": [
    "Пропусков нет, посмотрим на сами данные:"
   ]
  },
  {
   "cell_type": "code",
   "execution_count": 109,
   "metadata": {
    "execution": {
     "iopub.execute_input": "2021-07-21T12:00:06.226718Z",
     "iopub.status.busy": "2021-07-21T12:00:06.225985Z",
     "iopub.status.idle": "2021-07-21T12:00:06.234165Z",
     "shell.execute_reply": "2021-07-21T12:00:06.233534Z",
     "shell.execute_reply.started": "2021-07-21T11:20:06.613322Z"
    },
    "papermill": {
     "duration": 0.33822,
     "end_time": "2021-07-21T12:00:06.234288",
     "exception": false,
     "start_time": "2021-07-21T12:00:05.896068",
     "status": "completed"
    },
    "tags": []
   },
   "outputs": [
    {
     "data": {
      "text/plain": [
       "OCTAVIA                                      1135\n",
       "CAMRY                                         802\n",
       "5ER                                           767\n",
       "POLO                                          713\n",
       "E_KLASSE                                      656\n",
       "                                             ... \n",
       "Infiniti QX50 I Рестайлинг                      1\n",
       "2000_C_CS                                       1\n",
       "Jeep Liberty (North America) I                  1\n",
       "Chery Tiggo (T11) I Рестайлинг (FL)             1\n",
       "BMW 7 серии  VI (G11/G12) Рестайлинг 730i       1\n",
       "Name: model_name, Length: 2498, dtype: int64"
      ]
     },
     "execution_count": 109,
     "metadata": {},
     "output_type": "execute_result"
    }
   ],
   "source": [
    "train.model_name.value_counts()"
   ]
  },
  {
   "cell_type": "markdown",
   "metadata": {
    "papermill": {
     "duration": 0.307894,
     "end_time": "2021-07-21T12:00:06.856159",
     "exception": false,
     "start_time": "2021-07-21T12:00:06.548265",
     "status": "completed"
    },
    "tags": []
   },
   "source": [
    "Попробуем привести значения к нижнему регистру и удалить лишние пробелы:"
   ]
  },
  {
   "cell_type": "code",
   "execution_count": 110,
   "metadata": {
    "execution": {
     "iopub.execute_input": "2021-07-21T12:00:07.532470Z",
     "iopub.status.busy": "2021-07-21T12:00:07.526871Z",
     "iopub.status.idle": "2021-07-21T12:00:07.568801Z",
     "shell.execute_reply": "2021-07-21T12:00:07.569356Z",
     "shell.execute_reply.started": "2021-07-21T11:20:06.632985Z"
    },
    "papermill": {
     "duration": 0.372736,
     "end_time": "2021-07-21T12:00:07.569522",
     "exception": false,
     "start_time": "2021-07-21T12:00:07.196786",
     "status": "completed"
    },
    "tags": []
   },
   "outputs": [
    {
     "data": {
      "text/plain": [
       "octavia                            1135\n",
       "camry                               802\n",
       "5er                                 767\n",
       "polo                                713\n",
       "e_klasse                            656\n",
       "                                   ... \n",
       "nissan juke nismo i                   1\n",
       "volkswagen golf plus  ii bifuel       1\n",
       "уаз 469  469б                         1\n",
       "ssangyong actyon  i 6-speed           1\n",
       "citroen berlingo ii                   1\n",
       "Name: model_name, Length: 2497, dtype: int64"
      ]
     },
     "execution_count": 110,
     "metadata": {},
     "output_type": "execute_result"
    }
   ],
   "source": [
    "train['model_name'] = train['model_name'].apply(\n",
    "    lambda x: x.lower().strip())\n",
    "train['model_name'].value_counts()"
   ]
  },
  {
   "cell_type": "markdown",
   "metadata": {
    "papermill": {
     "duration": 0.315506,
     "end_time": "2021-07-21T12:00:08.198092",
     "exception": false,
     "start_time": "2021-07-21T12:00:07.882586",
     "status": "completed"
    },
    "tags": []
   },
   "source": [
    "Как мы видим,решение почти не помогло. Но, тем не менее, применим его и к тестовой выборке:"
   ]
  },
  {
   "cell_type": "code",
   "execution_count": 111,
   "metadata": {
    "execution": {
     "iopub.execute_input": "2021-07-21T12:00:08.886265Z",
     "iopub.status.busy": "2021-07-21T12:00:08.881468Z",
     "iopub.status.idle": "2021-07-21T12:00:08.894216Z",
     "shell.execute_reply": "2021-07-21T12:00:08.893620Z",
     "shell.execute_reply.started": "2021-07-21T11:20:06.663484Z"
    },
    "papermill": {
     "duration": 0.379485,
     "end_time": "2021-07-21T12:00:08.894338",
     "exception": false,
     "start_time": "2021-07-21T12:00:08.514853",
     "status": "completed"
    },
    "tags": []
   },
   "outputs": [
    {
     "data": {
      "text/plain": [
       "OCTAVIA         1418\n",
       "5ER             1026\n",
       "LANCER           855\n",
       "E_KLASSE         809\n",
       "PASSAT           782\n",
       "                ... \n",
       "KIX                1\n",
       "EMERAUDE           1\n",
       "MEGA_CRUISER       1\n",
       "I8                 1\n",
       "M1                 1\n",
       "Name: model_name, Length: 544, dtype: int64"
      ]
     },
     "execution_count": 111,
     "metadata": {},
     "output_type": "execute_result"
    }
   ],
   "source": [
    "# Посчитаем количество упоминаний каждого значения в тестовой выборке\n",
    "test.model_name.value_counts()"
   ]
  },
  {
   "cell_type": "code",
   "execution_count": 112,
   "metadata": {
    "execution": {
     "iopub.execute_input": "2021-07-21T12:00:09.548888Z",
     "iopub.status.busy": "2021-07-21T12:00:09.547780Z",
     "iopub.status.idle": "2021-07-21T12:00:09.571729Z",
     "shell.execute_reply": "2021-07-21T12:00:09.572258Z",
     "shell.execute_reply.started": "2021-07-21T11:20:06.674857Z"
    },
    "papermill": {
     "duration": 0.360038,
     "end_time": "2021-07-21T12:00:09.572425",
     "exception": false,
     "start_time": "2021-07-21T12:00:09.212387",
     "status": "completed"
    },
    "tags": []
   },
   "outputs": [
    {
     "data": {
      "text/plain": [
       "octavia     1418\n",
       "5er         1026\n",
       "lancer       855\n",
       "e_klasse     809\n",
       "passat       782\n",
       "            ... \n",
       "vaneo          1\n",
       "popular        1\n",
       "rs4            1\n",
       "arteon         1\n",
       "m1             1\n",
       "Name: model_name, Length: 544, dtype: int64"
      ]
     },
     "execution_count": 112,
     "metadata": {},
     "output_type": "execute_result"
    }
   ],
   "source": [
    "test['model_name'] = test['model_name'].apply(\n",
    "    lambda x: x.lower().strip())\n",
    "test['model_name'].value_counts()"
   ]
  },
  {
   "cell_type": "markdown",
   "metadata": {
    "papermill": {
     "duration": 0.323276,
     "end_time": "2021-07-21T12:00:10.212087",
     "exception": false,
     "start_time": "2021-07-21T12:00:09.888811",
     "status": "completed"
    },
    "tags": []
   },
   "source": [
    "И здесь особого результата не дало. Запишем признак в категориальные:"
   ]
  },
  {
   "cell_type": "code",
   "execution_count": 113,
   "metadata": {
    "execution": {
     "iopub.execute_input": "2021-07-21T12:00:10.870281Z",
     "iopub.status.busy": "2021-07-21T12:00:10.868333Z",
     "iopub.status.idle": "2021-07-21T12:00:10.874067Z",
     "shell.execute_reply": "2021-07-21T12:00:10.873362Z",
     "shell.execute_reply.started": "2021-07-21T11:20:06.705783Z"
    },
    "papermill": {
     "duration": 0.337024,
     "end_time": "2021-07-21T12:00:10.874212",
     "exception": false,
     "start_time": "2021-07-21T12:00:10.537188",
     "status": "completed"
    },
    "tags": []
   },
   "outputs": [],
   "source": [
    "cat_cols.append('model_name')"
   ]
  },
  {
   "cell_type": "markdown",
   "metadata": {
    "papermill": {
     "duration": 0.341418,
     "end_time": "2021-07-21T12:00:11.587819",
     "exception": false,
     "start_time": "2021-07-21T12:00:11.246401",
     "status": "completed"
    },
    "tags": []
   },
   "source": [
    "### 3.2.13. Столбец name"
   ]
  },
  {
   "cell_type": "markdown",
   "metadata": {
    "papermill": {
     "duration": 0.335371,
     "end_time": "2021-07-21T12:00:12.251600",
     "exception": false,
     "start_time": "2021-07-21T12:00:11.916229",
     "status": "completed"
    },
    "tags": []
   },
   "source": [
    "Признак содержит расширенные данные. Посмотрим данные:"
   ]
  },
  {
   "cell_type": "code",
   "execution_count": 114,
   "metadata": {
    "execution": {
     "iopub.execute_input": "2021-07-21T12:00:12.941946Z",
     "iopub.status.busy": "2021-07-21T12:00:12.936064Z",
     "iopub.status.idle": "2021-07-21T12:00:12.951332Z",
     "shell.execute_reply": "2021-07-21T12:00:12.950617Z",
     "shell.execute_reply.started": "2021-07-21T11:20:06.718127Z"
    },
    "papermill": {
     "duration": 0.350245,
     "end_time": "2021-07-21T12:00:12.951521",
     "exception": false,
     "start_time": "2021-07-21T12:00:12.601276",
     "status": "completed"
    },
    "tags": []
   },
   "outputs": [
    {
     "data": {
      "text/plain": [
       "2.0 AT                                 1239\n",
       "1.6 AT                                  921\n",
       "1.6 MT                                  846\n",
       "3.0 AT                                  763\n",
       "Volkswagen Polo  V Рестайлинг           374\n",
       "                                       ... \n",
       "BMW 2 серии  F22 220d                     1\n",
       "Mercedes-Benz S-Класс  I (W116) 350       1\n",
       "Mercedes-Benz E-Класс  I (W124) 320       1\n",
       "Nissan GT-R  I Рестайлинг 3               1\n",
       "Toyota Avensis  III Рестайлинг            1\n",
       "Name: name, Length: 2391, dtype: int64"
      ]
     },
     "execution_count": 114,
     "metadata": {},
     "output_type": "execute_result"
    }
   ],
   "source": [
    "train.name.value_counts()"
   ]
  },
  {
   "cell_type": "code",
   "execution_count": 115,
   "metadata": {
    "execution": {
     "iopub.execute_input": "2021-07-21T12:00:13.627520Z",
     "iopub.status.busy": "2021-07-21T12:00:13.622090Z",
     "iopub.status.idle": "2021-07-21T12:00:13.636464Z",
     "shell.execute_reply": "2021-07-21T12:00:13.635858Z",
     "shell.execute_reply.started": "2021-07-21T11:20:06.736759Z"
    },
    "papermill": {
     "duration": 0.353171,
     "end_time": "2021-07-21T12:00:13.636586",
     "exception": false,
     "start_time": "2021-07-21T12:00:13.283415",
     "status": "completed"
    },
    "tags": []
   },
   "outputs": [
    {
     "data": {
      "text/plain": [
       "1.6 AT (110 л.с.)         631\n",
       "1.6 MT (102 л.с.)         410\n",
       "1.6 MT (110 л.с.)         314\n",
       "2.0 CVT (141 л.с.) 4WD    309\n",
       "1.4 AMT (122 л.с.)        308\n",
       "                         ... \n",
       "L1 2.2d MT (150 л.с.)       1\n",
       "1.3 MT (99 л.с.)            1\n",
       "T-5R 2.3 AT (240 л.с.)      1\n",
       "3.0d MT (239 л.с.) 4WD      1\n",
       "0.7 CVT (49 л.с.) 4WD       1\n",
       "Name: name, Length: 2780, dtype: int64"
      ]
     },
     "execution_count": 115,
     "metadata": {},
     "output_type": "execute_result"
    }
   ],
   "source": [
    "test.name.value_counts()"
   ]
  },
  {
   "cell_type": "markdown",
   "metadata": {
    "papermill": {
     "duration": 0.335423,
     "end_time": "2021-07-21T12:00:14.298395",
     "exception": false,
     "start_time": "2021-07-21T12:00:13.962972",
     "status": "completed"
    },
    "tags": []
   },
   "source": [
    "Видно, что в данных содержится непонятная \"каша\" из других столбцов. Таким образом данный столбец только дублирует данные. Смысловой нагрузки не несет и для обучения использоваться не будет."
   ]
  },
  {
   "cell_type": "markdown",
   "metadata": {
    "papermill": {
     "duration": 0.319888,
     "end_time": "2021-07-21T12:00:14.947317",
     "exception": false,
     "start_time": "2021-07-21T12:00:14.627429",
     "status": "completed"
    },
    "tags": []
   },
   "source": [
    "### 3.2.14. Столбец numberOfDoors"
   ]
  },
  {
   "cell_type": "markdown",
   "metadata": {
    "papermill": {
     "duration": 0.360316,
     "end_time": "2021-07-21T12:00:15.633242",
     "exception": false,
     "start_time": "2021-07-21T12:00:15.272926",
     "status": "completed"
    },
    "tags": []
   },
   "source": [
    "Признак содержит информацию о количестве дверей авто. Проверим на пропуски:"
   ]
  },
  {
   "cell_type": "code",
   "execution_count": 116,
   "metadata": {
    "execution": {
     "iopub.execute_input": "2021-07-21T12:00:16.261462Z",
     "iopub.status.busy": "2021-07-21T12:00:16.259949Z",
     "iopub.status.idle": "2021-07-21T12:00:16.265719Z",
     "shell.execute_reply": "2021-07-21T12:00:16.265058Z",
     "shell.execute_reply.started": "2021-07-21T11:20:06.752799Z"
    },
    "papermill": {
     "duration": 0.320046,
     "end_time": "2021-07-21T12:00:16.265862",
     "exception": false,
     "start_time": "2021-07-21T12:00:15.945816",
     "status": "completed"
    },
    "tags": []
   },
   "outputs": [
    {
     "name": "stdout",
     "output_type": "stream",
     "text": [
      "0\n",
      "0\n"
     ]
    }
   ],
   "source": [
    "print(train.numberOfDoors.isna().sum())\n",
    "print(test.numberOfDoors.isna().sum())"
   ]
  },
  {
   "cell_type": "markdown",
   "metadata": {
    "papermill": {
     "duration": 0.311311,
     "end_time": "2021-07-21T12:00:16.890007",
     "exception": false,
     "start_time": "2021-07-21T12:00:16.578696",
     "status": "completed"
    },
    "tags": []
   },
   "source": [
    "Посмотрим сами данные:"
   ]
  },
  {
   "cell_type": "code",
   "execution_count": 117,
   "metadata": {
    "execution": {
     "iopub.execute_input": "2021-07-21T12:00:17.519031Z",
     "iopub.status.busy": "2021-07-21T12:00:17.516221Z",
     "iopub.status.idle": "2021-07-21T12:00:17.523687Z",
     "shell.execute_reply": "2021-07-21T12:00:17.524205Z",
     "shell.execute_reply.started": "2021-07-21T11:20:06.764138Z"
    },
    "papermill": {
     "duration": 0.324115,
     "end_time": "2021-07-21T12:00:17.524369",
     "exception": false,
     "start_time": "2021-07-21T12:00:17.200254",
     "status": "completed"
    },
    "tags": []
   },
   "outputs": [
    {
     "data": {
      "text/plain": [
       "5    21794\n",
       "4    13685\n",
       "2     1155\n",
       "3      603\n",
       "Name: numberOfDoors, dtype: int64"
      ]
     },
     "execution_count": 117,
     "metadata": {},
     "output_type": "execute_result"
    }
   ],
   "source": [
    "# Обучающая выборка\n",
    "train.numberOfDoors.value_counts()"
   ]
  },
  {
   "cell_type": "code",
   "execution_count": 118,
   "metadata": {
    "execution": {
     "iopub.execute_input": "2021-07-21T12:00:18.153580Z",
     "iopub.status.busy": "2021-07-21T12:00:18.150937Z",
     "iopub.status.idle": "2021-07-21T12:00:18.158202Z",
     "shell.execute_reply": "2021-07-21T12:00:18.157628Z",
     "shell.execute_reply.started": "2021-07-21T11:20:06.776899Z"
    },
    "papermill": {
     "duration": 0.325003,
     "end_time": "2021-07-21T12:00:18.158324",
     "exception": false,
     "start_time": "2021-07-21T12:00:17.833321",
     "status": "completed"
    },
    "tags": []
   },
   "outputs": [
    {
     "data": {
      "text/plain": [
       "5    18703\n",
       "4    14126\n",
       "2     1206\n",
       "3      650\n",
       "0        1\n",
       "Name: numberOfDoors, dtype: int64"
      ]
     },
     "execution_count": 118,
     "metadata": {},
     "output_type": "execute_result"
    }
   ],
   "source": [
    "# Тестовая выборка\n",
    "test.numberOfDoors.value_counts()"
   ]
  },
  {
   "cell_type": "markdown",
   "metadata": {
    "papermill": {
     "duration": 0.315197,
     "end_time": "2021-07-21T12:00:18.784814",
     "exception": false,
     "start_time": "2021-07-21T12:00:18.469617",
     "status": "completed"
    },
    "tags": []
   },
   "source": [
    "А вот в тестовой выборке возникло совершенно внезапно значение 0. Либо это бездверная капсула, либо опечатка. Я надеюсь опечатка. Заменим значение медианой:"
   ]
  },
  {
   "cell_type": "code",
   "execution_count": 119,
   "metadata": {
    "execution": {
     "iopub.execute_input": "2021-07-21T12:00:19.422745Z",
     "iopub.status.busy": "2021-07-21T12:00:19.416517Z",
     "iopub.status.idle": "2021-07-21T12:00:19.448750Z",
     "shell.execute_reply": "2021-07-21T12:00:19.448142Z",
     "shell.execute_reply.started": "2021-07-21T11:20:06.787862Z"
    },
    "papermill": {
     "duration": 0.351935,
     "end_time": "2021-07-21T12:00:19.448892",
     "exception": false,
     "start_time": "2021-07-21T12:00:19.096957",
     "status": "completed"
    },
    "tags": []
   },
   "outputs": [],
   "source": [
    "test['numberOfDoors'] = test['numberOfDoors'].apply(\n",
    "    lambda x: int(test['numberOfDoors'].median()) if x == 0 else int(x))"
   ]
  },
  {
   "cell_type": "markdown",
   "metadata": {
    "papermill": {
     "duration": 0.31708,
     "end_time": "2021-07-21T12:00:20.082164",
     "exception": false,
     "start_time": "2021-07-21T12:00:19.765084",
     "status": "completed"
    },
    "tags": []
   },
   "source": [
    "Проверим результат:"
   ]
  },
  {
   "cell_type": "code",
   "execution_count": 120,
   "metadata": {
    "execution": {
     "iopub.execute_input": "2021-07-21T12:00:20.711191Z",
     "iopub.status.busy": "2021-07-21T12:00:20.710480Z",
     "iopub.status.idle": "2021-07-21T12:00:20.717062Z",
     "shell.execute_reply": "2021-07-21T12:00:20.717614Z",
     "shell.execute_reply.started": "2021-07-21T11:20:06.811824Z"
    },
    "papermill": {
     "duration": 0.324099,
     "end_time": "2021-07-21T12:00:20.717774",
     "exception": false,
     "start_time": "2021-07-21T12:00:20.393675",
     "status": "completed"
    },
    "tags": []
   },
   "outputs": [
    {
     "data": {
      "text/plain": [
       "5    18704\n",
       "4    14126\n",
       "2     1206\n",
       "3      650\n",
       "Name: numberOfDoors, dtype: int64"
      ]
     },
     "execution_count": 120,
     "metadata": {},
     "output_type": "execute_result"
    }
   ],
   "source": [
    "test.numberOfDoors.value_counts()"
   ]
  },
  {
   "cell_type": "markdown",
   "metadata": {
    "papermill": {
     "duration": 0.315638,
     "end_time": "2021-07-21T12:00:21.351150",
     "exception": false,
     "start_time": "2021-07-21T12:00:21.035512",
     "status": "completed"
    },
    "tags": []
   },
   "source": [
    "Посмотрим графики распределения значений признака:"
   ]
  },
  {
   "cell_type": "code",
   "execution_count": 121,
   "metadata": {
    "execution": {
     "iopub.execute_input": "2021-07-21T12:00:21.993786Z",
     "iopub.status.busy": "2021-07-21T12:00:21.992726Z",
     "iopub.status.idle": "2021-07-21T12:00:22.308408Z",
     "shell.execute_reply": "2021-07-21T12:00:22.307599Z",
     "shell.execute_reply.started": "2021-07-21T11:20:06.820381Z"
    },
    "papermill": {
     "duration": 0.645964,
     "end_time": "2021-07-21T12:00:22.308567",
     "exception": false,
     "start_time": "2021-07-21T12:00:21.662603",
     "status": "completed"
    },
    "tags": []
   },
   "outputs": [
    {
     "data": {
      "text/plain": [
       "<matplotlib.axes._subplots.AxesSubplot at 0x7f2cd9cc0850>"
      ]
     },
     "execution_count": 121,
     "metadata": {},
     "output_type": "execute_result"
    },
    {
     "data": {
      "image/png": "[encoded data removed]",
      "text/plain": [
       "<Figure size 576x396 with 1 Axes>"
      ]
     },
     "metadata": {},
     "output_type": "display_data"
    }
   ],
   "source": [
    "# Тренировочная выборка\n",
    "train.numberOfDoors.hist()"
   ]
  },
  {
   "cell_type": "code",
   "execution_count": 122,
   "metadata": {
    "execution": {
     "iopub.execute_input": "2021-07-21T12:00:22.975167Z",
     "iopub.status.busy": "2021-07-21T12:00:22.974369Z",
     "iopub.status.idle": "2021-07-21T12:00:23.363480Z",
     "shell.execute_reply": "2021-07-21T12:00:23.364332Z",
     "shell.execute_reply.started": "2021-07-21T11:20:07.070410Z"
    },
    "papermill": {
     "duration": 0.737587,
     "end_time": "2021-07-21T12:00:23.364492",
     "exception": false,
     "start_time": "2021-07-21T12:00:22.626905",
     "status": "completed"
    },
    "tags": []
   },
   "outputs": [
    {
     "data": {
      "text/plain": [
       "<matplotlib.axes._subplots.AxesSubplot at 0x7f2cdcbb0a50>"
      ]
     },
     "execution_count": 122,
     "metadata": {},
     "output_type": "execute_result"
    },
    {
     "data": {
      "image/png": "[encoded data removed]",
      "text/plain": [
       "<Figure size 576x396 with 1 Axes>"
      ]
     },
     "metadata": {},
     "output_type": "display_data"
    }
   ],
   "source": [
    "# Тестовая выборка\n",
    "test.numberOfDoors.hist()"
   ]
  },
  {
   "cell_type": "markdown",
   "metadata": {
    "papermill": {
     "duration": 0.313483,
     "end_time": "2021-07-21T12:00:24.041637",
     "exception": false,
     "start_time": "2021-07-21T12:00:23.728154",
     "status": "completed"
    },
    "tags": []
   },
   "source": [
    "Видно, что распределения схожи. Наибольшее количество объявлений о продаже авто содержат пятидверные автомобили. Теперь добавим признак к категориальным:"
   ]
  },
  {
   "cell_type": "code",
   "execution_count": 123,
   "metadata": {
    "execution": {
     "iopub.execute_input": "2021-07-21T12:00:24.683931Z",
     "iopub.status.busy": "2021-07-21T12:00:24.682817Z",
     "iopub.status.idle": "2021-07-21T12:00:24.686312Z",
     "shell.execute_reply": "2021-07-21T12:00:24.685726Z",
     "shell.execute_reply.started": "2021-07-21T11:20:07.333395Z"
    },
    "papermill": {
     "duration": 0.328209,
     "end_time": "2021-07-21T12:00:24.686449",
     "exception": false,
     "start_time": "2021-07-21T12:00:24.358240",
     "status": "completed"
    },
    "tags": []
   },
   "outputs": [],
   "source": [
    "cat_cols.append('numberOfDoors')"
   ]
  },
  {
   "cell_type": "markdown",
   "metadata": {
    "papermill": {
     "duration": 0.314667,
     "end_time": "2021-07-21T12:00:25.327630",
     "exception": false,
     "start_time": "2021-07-21T12:00:25.012963",
     "status": "completed"
    },
    "tags": []
   },
   "source": [
    "### 3.2.15. Столбец parsing_unixtime"
   ]
  },
  {
   "cell_type": "markdown",
   "metadata": {
    "papermill": {
     "duration": 0.314075,
     "end_time": "2021-07-21T12:00:25.961999",
     "exception": false,
     "start_time": "2021-07-21T12:00:25.647924",
     "status": "completed"
    },
    "tags": []
   },
   "source": [
    "Данный признак содержит информацию о времени, когда была спарсена информация об авто. Присутствует только в тестовой выборке. Поэтому использовать для обучения не будем."
   ]
  },
  {
   "cell_type": "markdown",
   "metadata": {
    "papermill": {
     "duration": 0.318464,
     "end_time": "2021-07-21T12:00:26.596357",
     "exception": false,
     "start_time": "2021-07-21T12:00:26.277893",
     "status": "completed"
    },
    "tags": []
   },
   "source": [
    "### 3.2.16. Столбец priceCurrency"
   ]
  },
  {
   "cell_type": "markdown",
   "metadata": {
    "papermill": {
     "duration": 0.316632,
     "end_time": "2021-07-21T12:00:27.226301",
     "exception": false,
     "start_time": "2021-07-21T12:00:26.909669",
     "status": "completed"
    },
    "tags": []
   },
   "source": [
    "Признак содержит информацию о том, какая валюта используется при продаже. Посмотрим на данные:"
   ]
  },
  {
   "cell_type": "code",
   "execution_count": 124,
   "metadata": {
    "execution": {
     "iopub.execute_input": "2021-07-21T12:00:27.867712Z",
     "iopub.status.busy": "2021-07-21T12:00:27.866593Z",
     "iopub.status.idle": "2021-07-21T12:00:27.874692Z",
     "shell.execute_reply": "2021-07-21T12:00:27.874112Z",
     "shell.execute_reply.started": "2021-07-21T11:20:07.342461Z"
    },
    "papermill": {
     "duration": 0.331827,
     "end_time": "2021-07-21T12:00:27.874813",
     "exception": false,
     "start_time": "2021-07-21T12:00:27.542986",
     "status": "completed"
    },
    "tags": []
   },
   "outputs": [
    {
     "name": "stdout",
     "output_type": "stream",
     "text": [
      "['RUB']\n",
      "['RUB']\n"
     ]
    }
   ],
   "source": [
    "print(train.priceCurrency.unique())\n",
    "print(test.priceCurrency.unique())"
   ]
  },
  {
   "cell_type": "markdown",
   "metadata": {
    "papermill": {
     "duration": 0.317109,
     "end_time": "2021-07-21T12:00:28.512100",
     "exception": false,
     "start_time": "2021-07-21T12:00:28.194991",
     "status": "completed"
    },
    "tags": []
   },
   "source": [
    "Как мы видим признак принимает всего одно значение \"RUB\". Особой информативности признак не несет и в обучении роли не сыграет, поэтому пропустим его."
   ]
  },
  {
   "cell_type": "markdown",
   "metadata": {
    "papermill": {
     "duration": 0.31939,
     "end_time": "2021-07-21T12:00:29.157620",
     "exception": false,
     "start_time": "2021-07-21T12:00:28.838230",
     "status": "completed"
    },
    "tags": []
   },
   "source": [
    "### 3.2.17. Столбец productionDate"
   ]
  },
  {
   "cell_type": "markdown",
   "metadata": {
    "papermill": {
     "duration": 0.316019,
     "end_time": "2021-07-21T12:00:29.790161",
     "exception": false,
     "start_time": "2021-07-21T12:00:29.474142",
     "status": "completed"
    },
    "tags": []
   },
   "source": [
    "Признак содержит информацию о годе производства авто. Проверим пропуски:"
   ]
  },
  {
   "cell_type": "code",
   "execution_count": 125,
   "metadata": {
    "execution": {
     "iopub.execute_input": "2021-07-21T12:00:30.434035Z",
     "iopub.status.busy": "2021-07-21T12:00:30.433136Z",
     "iopub.status.idle": "2021-07-21T12:00:30.438775Z",
     "shell.execute_reply": "2021-07-21T12:00:30.438180Z",
     "shell.execute_reply.started": "2021-07-21T11:20:07.359754Z"
    },
    "papermill": {
     "duration": 0.328439,
     "end_time": "2021-07-21T12:00:30.438925",
     "exception": false,
     "start_time": "2021-07-21T12:00:30.110486",
     "status": "completed"
    },
    "tags": []
   },
   "outputs": [
    {
     "name": "stdout",
     "output_type": "stream",
     "text": [
      "0\n",
      "0\n"
     ]
    }
   ],
   "source": [
    "print(train.productionDate.isna().sum())\n",
    "print(test.productionDate.isna().sum())"
   ]
  },
  {
   "cell_type": "markdown",
   "metadata": {
    "papermill": {
     "duration": 0.318023,
     "end_time": "2021-07-21T12:00:31.073638",
     "exception": false,
     "start_time": "2021-07-21T12:00:30.755615",
     "status": "completed"
    },
    "tags": []
   },
   "source": [
    "Пропусков нет, проверим сами данные:"
   ]
  },
  {
   "cell_type": "code",
   "execution_count": 126,
   "metadata": {
    "execution": {
     "iopub.execute_input": "2021-07-21T12:00:31.706194Z",
     "iopub.status.busy": "2021-07-21T12:00:31.705514Z",
     "iopub.status.idle": "2021-07-21T12:00:31.711998Z",
     "shell.execute_reply": "2021-07-21T12:00:31.712557Z",
     "shell.execute_reply.started": "2021-07-21T11:20:07.369417Z"
    },
    "papermill": {
     "duration": 0.326157,
     "end_time": "2021-07-21T12:00:31.712731",
     "exception": false,
     "start_time": "2021-07-21T12:00:31.386574",
     "status": "completed"
    },
    "tags": []
   },
   "outputs": [
    {
     "data": {
      "text/plain": [
       "array([2016, 2014, 2018, 2015, 2017, 2008, 2011, 2019, 2020, 2004, 2012,\n",
       "       2013, 2010, 1985, 2001, 2007, 1999, 2003, 1998, 2006, 1994, 2002,\n",
       "       2009, 2021, 1960, 2005, 1995, 1996, 1997, 1993, 1959, 2000, 1992,\n",
       "       1978, 1988, 1991, 1987, 1989, 1981, 1983, 1969, 1961, 1952, 1976,\n",
       "       1979, 1971, 1963, 1980, 1986, 1964, 1982, 1953, 1990, 1958, 1984,\n",
       "       1967, 1975, 1962, 1973, 1974, 1965, 1972, 1977, 1957, 1968, 1949,\n",
       "       1937, 1950, 1938])"
      ]
     },
     "execution_count": 126,
     "metadata": {},
     "output_type": "execute_result"
    }
   ],
   "source": [
    "train.productionDate.unique()"
   ]
  },
  {
   "cell_type": "markdown",
   "metadata": {
    "papermill": {
     "duration": 0.322037,
     "end_time": "2021-07-21T12:00:32.404306",
     "exception": false,
     "start_time": "2021-07-21T12:00:32.082269",
     "status": "completed"
    },
    "tags": []
   },
   "source": [
    "И для тестовой выборки:"
   ]
  },
  {
   "cell_type": "code",
   "execution_count": 127,
   "metadata": {
    "execution": {
     "iopub.execute_input": "2021-07-21T12:00:33.081337Z",
     "iopub.status.busy": "2021-07-21T12:00:33.080246Z",
     "iopub.status.idle": "2021-07-21T12:00:33.087678Z",
     "shell.execute_reply": "2021-07-21T12:00:33.088214Z",
     "shell.execute_reply.started": "2021-07-21T11:20:07.383202Z"
    },
    "papermill": {
     "duration": 0.36432,
     "end_time": "2021-07-21T12:00:33.088448",
     "exception": false,
     "start_time": "2021-07-21T12:00:32.724128",
     "status": "completed"
    },
    "tags": []
   },
   "outputs": [
    {
     "data": {
      "text/plain": [
       "array([2014, 2017, 2012, 2011, 2019, 2018, 2010, 2020, 2016, 2013, 2006,\n",
       "       2007, 2015, 2005, 2008, 2009, 1997, 2004, 2002, 1987, 2003, 2001,\n",
       "       1976, 2000, 1998, 1995, 1999, 1993, 1939, 1996, 1984, 1990, 1991,\n",
       "       1992, 1989, 1982, 1985, 1994, 1938, 1981, 1988, 1983, 1980, 1986,\n",
       "       1978, 1970, 1979, 1977, 1972, 1975, 1969, 1950, 1953, 1949, 1937,\n",
       "       1959, 1968, 1936, 1904, 1974, 1967, 1961, 1960, 1965, 1963, 1957,\n",
       "       1952, 1973, 1948])"
      ]
     },
     "execution_count": 127,
     "metadata": {},
     "output_type": "execute_result"
    }
   ],
   "source": [
    "test.productionDate.unique()"
   ]
  },
  {
   "cell_type": "markdown",
   "metadata": {
    "papermill": {
     "duration": 0.31766,
     "end_time": "2021-07-21T12:00:33.729129",
     "exception": false,
     "start_time": "2021-07-21T12:00:33.411469",
     "status": "completed"
    },
    "tags": []
   },
   "source": [
    "На всякий случай проверим корреляцию между productionDate и modelDate"
   ]
  },
  {
   "cell_type": "code",
   "execution_count": 128,
   "metadata": {
    "execution": {
     "iopub.execute_input": "2021-07-21T12:00:34.374408Z",
     "iopub.status.busy": "2021-07-21T12:00:34.373575Z",
     "iopub.status.idle": "2021-07-21T12:00:34.428553Z",
     "shell.execute_reply": "2021-07-21T12:00:34.427811Z",
     "shell.execute_reply.started": "2021-07-21T11:20:07.396485Z"
    },
    "papermill": {
     "duration": 0.379513,
     "end_time": "2021-07-21T12:00:34.428693",
     "exception": false,
     "start_time": "2021-07-21T12:00:34.049180",
     "status": "completed"
    },
    "tags": []
   },
   "outputs": [
    {
     "data": {
      "text/html": [
       "<div>\n",
       "<style scoped>\n",
       "    .dataframe tbody tr th:only-of-type {\n",
       "        vertical-align: middle;\n",
       "    }\n",
       "\n",
       "    .dataframe tbody tr th {\n",
       "        vertical-align: top;\n",
       "    }\n",
       "\n",
       "    .dataframe thead th {\n",
       "        text-align: right;\n",
       "    }\n",
       "</style>\n",
       "<table border=\"1\" class=\"dataframe\">\n",
       "  <thead>\n",
       "    <tr style=\"text-align: right;\">\n",
       "      <th></th>\n",
       "      <th>modelDate</th>\n",
       "      <th>productionDate</th>\n",
       "    </tr>\n",
       "  </thead>\n",
       "  <tbody>\n",
       "    <tr>\n",
       "      <th>modelDate</th>\n",
       "      <td>1.000000</td>\n",
       "      <td>0.972688</td>\n",
       "    </tr>\n",
       "    <tr>\n",
       "      <th>productionDate</th>\n",
       "      <td>0.972688</td>\n",
       "      <td>1.000000</td>\n",
       "    </tr>\n",
       "  </tbody>\n",
       "</table>\n",
       "</div>"
      ],
      "text/plain": [
       "                modelDate  productionDate\n",
       "modelDate        1.000000        0.972688\n",
       "productionDate   0.972688        1.000000"
      ]
     },
     "execution_count": 128,
     "metadata": {},
     "output_type": "execute_result"
    }
   ],
   "source": [
    "train[['modelDate', 'productionDate']].corr()"
   ]
  },
  {
   "cell_type": "code",
   "execution_count": 129,
   "metadata": {
    "execution": {
     "iopub.execute_input": "2021-07-21T12:00:35.080335Z",
     "iopub.status.busy": "2021-07-21T12:00:35.079006Z",
     "iopub.status.idle": "2021-07-21T12:00:35.111747Z",
     "shell.execute_reply": "2021-07-21T12:00:35.111158Z",
     "shell.execute_reply.started": "2021-07-21T11:20:07.449737Z"
    },
    "papermill": {
     "duration": 0.359603,
     "end_time": "2021-07-21T12:00:35.111881",
     "exception": false,
     "start_time": "2021-07-21T12:00:34.752278",
     "status": "completed"
    },
    "tags": []
   },
   "outputs": [
    {
     "data": {
      "text/html": [
       "<div>\n",
       "<style scoped>\n",
       "    .dataframe tbody tr th:only-of-type {\n",
       "        vertical-align: middle;\n",
       "    }\n",
       "\n",
       "    .dataframe tbody tr th {\n",
       "        vertical-align: top;\n",
       "    }\n",
       "\n",
       "    .dataframe thead th {\n",
       "        text-align: right;\n",
       "    }\n",
       "</style>\n",
       "<table border=\"1\" class=\"dataframe\">\n",
       "  <thead>\n",
       "    <tr style=\"text-align: right;\">\n",
       "      <th></th>\n",
       "      <th>modelDate</th>\n",
       "      <th>productionDate</th>\n",
       "    </tr>\n",
       "  </thead>\n",
       "  <tbody>\n",
       "    <tr>\n",
       "      <th>modelDate</th>\n",
       "      <td>1.000000</td>\n",
       "      <td>0.974293</td>\n",
       "    </tr>\n",
       "    <tr>\n",
       "      <th>productionDate</th>\n",
       "      <td>0.974293</td>\n",
       "      <td>1.000000</td>\n",
       "    </tr>\n",
       "  </tbody>\n",
       "</table>\n",
       "</div>"
      ],
      "text/plain": [
       "                modelDate  productionDate\n",
       "modelDate        1.000000        0.974293\n",
       "productionDate   0.974293        1.000000"
      ]
     },
     "execution_count": 129,
     "metadata": {},
     "output_type": "execute_result"
    }
   ],
   "source": [
    "test[['modelDate', 'productionDate']].corr()"
   ]
  },
  {
   "cell_type": "markdown",
   "metadata": {
    "papermill": {
     "duration": 0.315941,
     "end_time": "2021-07-21T12:00:35.749782",
     "exception": false,
     "start_time": "2021-07-21T12:00:35.433841",
     "status": "completed"
    },
    "tags": []
   },
   "source": [
    "Корреляция очень высокая, значит один признак почти дублирует другой, а это может негативно сказаться на обучении. Во избежание этого, оставим только один из признаков, то есть modelDate, который мы добавили выше."
   ]
  },
  {
   "cell_type": "markdown",
   "metadata": {
    "papermill": {
     "duration": 0.319158,
     "end_time": "2021-07-21T12:00:36.385966",
     "exception": false,
     "start_time": "2021-07-21T12:00:36.066808",
     "status": "completed"
    },
    "tags": []
   },
   "source": [
    "### 3.2.18. Столбец sell_id"
   ]
  },
  {
   "cell_type": "markdown",
   "metadata": {
    "papermill": {
     "duration": 0.3178,
     "end_time": "2021-07-21T12:00:37.030243",
     "exception": false,
     "start_time": "2021-07-21T12:00:36.712443",
     "status": "completed"
    },
    "tags": []
   },
   "source": [
    "Признак содержит уникальный идентификатор объявления о продаже. Особой информативности не несет, поэтому в дальнейшем использоваться не будет. В дополнение - присутствует только в тестовой выборке."
   ]
  },
  {
   "cell_type": "markdown",
   "metadata": {
    "papermill": {
     "duration": 0.315558,
     "end_time": "2021-07-21T12:00:37.667378",
     "exception": false,
     "start_time": "2021-07-21T12:00:37.351820",
     "status": "completed"
    },
    "tags": []
   },
   "source": [
    "### 3.2.19. Столбец vehicleConfiguration"
   ]
  },
  {
   "cell_type": "markdown",
   "metadata": {
    "papermill": {
     "duration": 0.320858,
     "end_time": "2021-07-21T12:00:38.302930",
     "exception": false,
     "start_time": "2021-07-21T12:00:37.982072",
     "status": "completed"
    },
    "tags": []
   },
   "source": [
    "Признак содержит информацию о конфигурации транспортного средства. Посмотрим данные:"
   ]
  },
  {
   "cell_type": "code",
   "execution_count": 130,
   "metadata": {
    "execution": {
     "iopub.execute_input": "2021-07-21T12:00:39.013628Z",
     "iopub.status.busy": "2021-07-21T12:00:39.012586Z",
     "iopub.status.idle": "2021-07-21T12:00:39.016641Z",
     "shell.execute_reply": "2021-07-21T12:00:39.017134Z",
     "shell.execute_reply.started": "2021-07-21T11:20:07.484163Z"
    },
    "papermill": {
     "duration": 0.347307,
     "end_time": "2021-07-21T12:00:39.017300",
     "exception": false,
     "start_time": "2021-07-21T12:00:38.669993",
     "status": "completed"
    },
    "tags": []
   },
   "outputs": [
    {
     "data": {
      "text/plain": [
       "ALLROAD_5_DOORS AUTOMATIC 3.0     2774\n",
       "ALLROAD_5_DOORS AUTOMATIC 2.0     1987\n",
       "SEDAN AUTOMATIC 2.0               1927\n",
       "ALLROAD_5_DOORS VARIATOR 2.0      1472\n",
       "SEDAN MECHANICAL 1.6              1329\n",
       "                                  ... \n",
       "PICKUP_ONE_HALF AUTOMATIC 5.0        1\n",
       "MICROVAN VARIATOR 0.7                1\n",
       "COUPE_HARDTOP AUTOMATIC 2.7          1\n",
       "MINIVAN AUTOMATIC 3.4                1\n",
       "ALLROAD_3_DOORS MECHANICAL 3.2       1\n",
       "Name: vehicleConfiguration, Length: 702, dtype: int64"
      ]
     },
     "execution_count": 130,
     "metadata": {},
     "output_type": "execute_result"
    }
   ],
   "source": [
    "train.vehicleConfiguration.value_counts()"
   ]
  },
  {
   "cell_type": "code",
   "execution_count": 131,
   "metadata": {
    "execution": {
     "iopub.execute_input": "2021-07-21T12:00:39.666070Z",
     "iopub.status.busy": "2021-07-21T12:00:39.664994Z",
     "iopub.status.idle": "2021-07-21T12:00:39.683550Z",
     "shell.execute_reply": "2021-07-21T12:00:39.684056Z",
     "shell.execute_reply.started": "2021-07-21T11:20:07.497981Z"
    },
    "papermill": {
     "duration": 0.344331,
     "end_time": "2021-07-21T12:00:39.684219",
     "exception": false,
     "start_time": "2021-07-21T12:00:39.339888",
     "status": "completed"
    },
    "tags": []
   },
   "outputs": [
    {
     "data": {
      "text/plain": [
       "ALLROAD_5_DOORS AUTOMATIC 3.0     2389\n",
       "SEDAN AUTOMATIC 2.0               1610\n",
       "ALLROAD_5_DOORS AUTOMATIC 2.0     1327\n",
       "ALLROAD_5_DOORS VARIATOR 2.0      1323\n",
       "SEDAN MECHANICAL 1.6              1314\n",
       "                                  ... \n",
       "COUPE MECHANICAL 3.2                 1\n",
       "CABRIO AUTOMATIC 3.5                 1\n",
       "PICKUP_ONE_HALF MECHANICAL 2.4       1\n",
       "COMPACTVAN VARIATOR 2.4              1\n",
       "PICKUP_ONE MECHANICAL 2.0            1\n",
       "Name: vehicleConfiguration, Length: 634, dtype: int64"
      ]
     },
     "execution_count": 131,
     "metadata": {},
     "output_type": "execute_result"
    }
   ],
   "source": [
    "test.vehicleConfiguration.value_counts()"
   ]
  },
  {
   "cell_type": "markdown",
   "metadata": {
    "papermill": {
     "duration": 0.325511,
     "end_time": "2021-07-21T12:00:40.336796",
     "exception": false,
     "start_time": "2021-07-21T12:00:40.011285",
     "status": "completed"
    },
    "tags": []
   },
   "source": [
    "Как мы видим столбец дублирует данные из других признаков. В этом случае - информативности он не несет, поэтому при обучении использоваться не будет."
   ]
  },
  {
   "cell_type": "markdown",
   "metadata": {
    "papermill": {
     "duration": 0.322085,
     "end_time": "2021-07-21T12:00:40.987590",
     "exception": false,
     "start_time": "2021-07-21T12:00:40.665505",
     "status": "completed"
    },
    "tags": []
   },
   "source": [
    "### 3.2.20. Столбец vehicleTransmission"
   ]
  },
  {
   "cell_type": "markdown",
   "metadata": {
    "papermill": {
     "duration": 0.323151,
     "end_time": "2021-07-21T12:00:41.631091",
     "exception": false,
     "start_time": "2021-07-21T12:00:41.307940",
     "status": "completed"
    },
    "tags": []
   },
   "source": [
    "Признак содержит информацию о типе коробки передач, используемой в транспортном средстве. Проверим на пропуски:"
   ]
  },
  {
   "cell_type": "code",
   "execution_count": 132,
   "metadata": {
    "execution": {
     "iopub.execute_input": "2021-07-21T12:00:42.287544Z",
     "iopub.status.busy": "2021-07-21T12:00:42.286814Z",
     "iopub.status.idle": "2021-07-21T12:00:42.303589Z",
     "shell.execute_reply": "2021-07-21T12:00:42.304363Z",
     "shell.execute_reply.started": "2021-07-21T11:20:07.516267Z"
    },
    "papermill": {
     "duration": 0.345813,
     "end_time": "2021-07-21T12:00:42.304598",
     "exception": false,
     "start_time": "2021-07-21T12:00:41.958785",
     "status": "completed"
    },
    "tags": []
   },
   "outputs": [
    {
     "name": "stdout",
     "output_type": "stream",
     "text": [
      "0\n",
      "0\n"
     ]
    }
   ],
   "source": [
    "print(train.vehicleTransmission.isna().sum())\n",
    "print(test.vehicleTransmission.isna().sum())"
   ]
  },
  {
   "cell_type": "markdown",
   "metadata": {
    "papermill": {
     "duration": 0.317664,
     "end_time": "2021-07-21T12:00:42.945382",
     "exception": false,
     "start_time": "2021-07-21T12:00:42.627718",
     "status": "completed"
    },
    "tags": []
   },
   "source": [
    "Пропусков не наблюдается, посмотрим уникальные значения для обеих выборок:"
   ]
  },
  {
   "cell_type": "code",
   "execution_count": 133,
   "metadata": {
    "execution": {
     "iopub.execute_input": "2021-07-21T12:00:43.597774Z",
     "iopub.status.busy": "2021-07-21T12:00:43.596982Z",
     "iopub.status.idle": "2021-07-21T12:00:43.606462Z",
     "shell.execute_reply": "2021-07-21T12:00:43.607316Z",
     "shell.execute_reply.started": "2021-07-21T11:20:07.532843Z"
    },
    "papermill": {
     "duration": 0.338605,
     "end_time": "2021-07-21T12:00:43.607536",
     "exception": false,
     "start_time": "2021-07-21T12:00:43.268931",
     "status": "completed"
    },
    "tags": []
   },
   "outputs": [
    {
     "name": "stdout",
     "output_type": "stream",
     "text": [
      "['вариатор' 'автоматическая' 'роботизированная' 'механическая']\n",
      "['роботизированная' 'механическая' 'автоматическая' 'вариатор']\n"
     ]
    }
   ],
   "source": [
    "print(train.vehicleTransmission.unique())\n",
    "print(test.vehicleTransmission.unique())"
   ]
  },
  {
   "cell_type": "markdown",
   "metadata": {
    "papermill": {
     "duration": 0.349245,
     "end_time": "2021-07-21T12:00:44.286170",
     "exception": false,
     "start_time": "2021-07-21T12:00:43.936925",
     "status": "completed"
    },
    "tags": []
   },
   "source": [
    "Признак принимает всего 4 значения, пропусков нет, может быть добавлен к категориальным признакам. Посмотрим на распределение признака:"
   ]
  },
  {
   "cell_type": "code",
   "execution_count": 134,
   "metadata": {
    "execution": {
     "iopub.execute_input": "2021-07-21T12:00:44.933721Z",
     "iopub.status.busy": "2021-07-21T12:00:44.933037Z",
     "iopub.status.idle": "2021-07-21T12:00:45.127495Z",
     "shell.execute_reply": "2021-07-21T12:00:45.128058Z",
     "shell.execute_reply.started": "2021-07-21T11:20:07.554976Z"
    },
    "papermill": {
     "duration": 0.523706,
     "end_time": "2021-07-21T12:00:45.128215",
     "exception": false,
     "start_time": "2021-07-21T12:00:44.604509",
     "status": "completed"
    },
    "tags": []
   },
   "outputs": [
    {
     "data": {
      "text/plain": [
       "<matplotlib.axes._subplots.AxesSubplot at 0x7f2cdcaddbd0>"
      ]
     },
     "execution_count": 134,
     "metadata": {},
     "output_type": "execute_result"
    },
    {
     "data": {
      "image/png": "[encoded data removed]",
      "text/plain": [
       "<Figure size 576x396 with 1 Axes>"
      ]
     },
     "metadata": {},
     "output_type": "display_data"
    }
   ],
   "source": [
    "# Тренировочная выборка\n",
    "train.vehicleTransmission.hist()"
   ]
  },
  {
   "cell_type": "code",
   "execution_count": 135,
   "metadata": {
    "execution": {
     "iopub.execute_input": "2021-07-21T12:00:45.775267Z",
     "iopub.status.busy": "2021-07-21T12:00:45.774459Z",
     "iopub.status.idle": "2021-07-21T12:00:45.971458Z",
     "shell.execute_reply": "2021-07-21T12:00:45.971966Z",
     "shell.execute_reply.started": "2021-07-21T11:20:07.706744Z"
    },
    "papermill": {
     "duration": 0.522849,
     "end_time": "2021-07-21T12:00:45.972129",
     "exception": false,
     "start_time": "2021-07-21T12:00:45.449280",
     "status": "completed"
    },
    "tags": []
   },
   "outputs": [
    {
     "data": {
      "text/plain": [
       "<matplotlib.axes._subplots.AxesSubplot at 0x7f2cdcabfc50>"
      ]
     },
     "execution_count": 135,
     "metadata": {},
     "output_type": "execute_result"
    },
    {
     "data": {
      "image/png": "[encoded data removed]",
      "text/plain": [
       "<Figure size 576x396 with 1 Axes>"
      ]
     },
     "metadata": {},
     "output_type": "display_data"
    }
   ],
   "source": [
    "# Тестовая выборка\n",
    "test.vehicleTransmission.hist()"
   ]
  },
  {
   "cell_type": "markdown",
   "metadata": {
    "papermill": {
     "duration": 0.367597,
     "end_time": "2021-07-21T12:00:46.662670",
     "exception": false,
     "start_time": "2021-07-21T12:00:46.295073",
     "status": "completed"
    },
    "tags": []
   },
   "source": [
    "Из графика видно, что чаще всего встречается автоматическая коробка передач. Добавляем признак к категориальным:"
   ]
  },
  {
   "cell_type": "code",
   "execution_count": 136,
   "metadata": {
    "execution": {
     "iopub.execute_input": "2021-07-21T12:00:47.314529Z",
     "iopub.status.busy": "2021-07-21T12:00:47.313777Z",
     "iopub.status.idle": "2021-07-21T12:00:47.317402Z",
     "shell.execute_reply": "2021-07-21T12:00:47.317947Z",
     "shell.execute_reply.started": "2021-07-21T11:20:08.129192Z"
    },
    "papermill": {
     "duration": 0.331517,
     "end_time": "2021-07-21T12:00:47.318115",
     "exception": false,
     "start_time": "2021-07-21T12:00:46.986598",
     "status": "completed"
    },
    "tags": []
   },
   "outputs": [],
   "source": [
    "cat_cols.append('vehicleTransmission')"
   ]
  },
  {
   "cell_type": "markdown",
   "metadata": {
    "papermill": {
     "duration": 0.320649,
     "end_time": "2021-07-21T12:00:47.960038",
     "exception": false,
     "start_time": "2021-07-21T12:00:47.639389",
     "status": "completed"
    },
    "tags": []
   },
   "source": [
    "### 3.2.21. Столбец Владельцы"
   ]
  },
  {
   "cell_type": "markdown",
   "metadata": {
    "papermill": {
     "duration": 0.326801,
     "end_time": "2021-07-21T12:00:48.613043",
     "exception": false,
     "start_time": "2021-07-21T12:00:48.286242",
     "status": "completed"
    },
    "tags": []
   },
   "source": [
    "Признак содержит информацию о количестве владельцев авто. Посмотрим пропуски:"
   ]
  },
  {
   "cell_type": "code",
   "execution_count": 137,
   "metadata": {
    "execution": {
     "iopub.execute_input": "2021-07-21T12:00:49.261317Z",
     "iopub.status.busy": "2021-07-21T12:00:49.260402Z",
     "iopub.status.idle": "2021-07-21T12:00:49.278526Z",
     "shell.execute_reply": "2021-07-21T12:00:49.277802Z",
     "shell.execute_reply.started": "2021-07-21T11:20:08.134301Z"
    },
    "papermill": {
     "duration": 0.344812,
     "end_time": "2021-07-21T12:00:49.278660",
     "exception": false,
     "start_time": "2021-07-21T12:00:48.933848",
     "status": "completed"
    },
    "tags": []
   },
   "outputs": [
    {
     "name": "stdout",
     "output_type": "stream",
     "text": [
      "0\n",
      "0\n"
     ]
    }
   ],
   "source": [
    "print(train.Владельцы.isna().sum())\n",
    "print(test.Владельцы.isna().sum())"
   ]
  },
  {
   "cell_type": "markdown",
   "metadata": {
    "papermill": {
     "duration": 0.324582,
     "end_time": "2021-07-21T12:00:49.930978",
     "exception": false,
     "start_time": "2021-07-21T12:00:49.606396",
     "status": "completed"
    },
    "tags": []
   },
   "source": [
    "Пропусков нет, посмотрим на уникальные значения:"
   ]
  },
  {
   "cell_type": "code",
   "execution_count": 138,
   "metadata": {
    "execution": {
     "iopub.execute_input": "2021-07-21T12:00:50.579015Z",
     "iopub.status.busy": "2021-07-21T12:00:50.578325Z",
     "iopub.status.idle": "2021-07-21T12:00:50.584861Z",
     "shell.execute_reply": "2021-07-21T12:00:50.584255Z",
     "shell.execute_reply.started": "2021-07-21T11:20:08.151393Z"
    },
    "papermill": {
     "duration": 0.33515,
     "end_time": "2021-07-21T12:00:50.584993",
     "exception": false,
     "start_time": "2021-07-21T12:00:50.249843",
     "status": "completed"
    },
    "tags": []
   },
   "outputs": [
    {
     "data": {
      "text/plain": [
       "array(['1\\xa0владелец', '2\\xa0владельца', '3 или более', '1 владелец',\n",
       "       '2 владельца'], dtype=object)"
      ]
     },
     "execution_count": 138,
     "metadata": {},
     "output_type": "execute_result"
    }
   ],
   "source": [
    "# Обучающая выборка\n",
    "train.Владельцы.unique()"
   ]
  },
  {
   "cell_type": "code",
   "execution_count": 139,
   "metadata": {
    "execution": {
     "iopub.execute_input": "2021-07-21T12:00:51.232091Z",
     "iopub.status.busy": "2021-07-21T12:00:51.231029Z",
     "iopub.status.idle": "2021-07-21T12:00:51.240812Z",
     "shell.execute_reply": "2021-07-21T12:00:51.241319Z",
     "shell.execute_reply.started": "2021-07-21T11:20:08.163728Z"
    },
    "papermill": {
     "duration": 0.33609,
     "end_time": "2021-07-21T12:00:51.241478",
     "exception": false,
     "start_time": "2021-07-21T12:00:50.905388",
     "status": "completed"
    },
    "tags": []
   },
   "outputs": [
    {
     "data": {
      "text/plain": [
       "array(['3 или более', '1\\xa0владелец', '2\\xa0владельца'], dtype=object)"
      ]
     },
     "execution_count": 139,
     "metadata": {},
     "output_type": "execute_result"
    }
   ],
   "source": [
    "# Тестовая выборка\n",
    "test.Владельцы.unique()"
   ]
  },
  {
   "cell_type": "markdown",
   "metadata": {
    "papermill": {
     "duration": 0.327476,
     "end_time": "2021-07-21T12:00:51.891777",
     "exception": false,
     "start_time": "2021-07-21T12:00:51.564301",
     "status": "completed"
    },
    "tags": []
   },
   "source": [
    "Как мы видим, данные загрязнены. Попробуем очистить их:"
   ]
  },
  {
   "cell_type": "code",
   "execution_count": 140,
   "metadata": {
    "execution": {
     "iopub.execute_input": "2021-07-21T12:00:52.550001Z",
     "iopub.status.busy": "2021-07-21T12:00:52.548914Z",
     "iopub.status.idle": "2021-07-21T12:00:52.574228Z",
     "shell.execute_reply": "2021-07-21T12:00:52.574747Z",
     "shell.execute_reply.started": "2021-07-21T11:20:08.177130Z"
    },
    "papermill": {
     "duration": 0.351687,
     "end_time": "2021-07-21T12:00:52.574968",
     "exception": false,
     "start_time": "2021-07-21T12:00:52.223281",
     "status": "completed"
    },
    "tags": []
   },
   "outputs": [],
   "source": [
    "train['Владельцы'] = train['Владельцы'].apply(\n",
    "    lambda x: str(x).replace('\\xa0', ' '))"
   ]
  },
  {
   "cell_type": "markdown",
   "metadata": {
    "papermill": {
     "duration": 0.373082,
     "end_time": "2021-07-21T12:00:53.270174",
     "exception": false,
     "start_time": "2021-07-21T12:00:52.897092",
     "status": "completed"
    },
    "tags": []
   },
   "source": [
    "Проверим, что получилось:"
   ]
  },
  {
   "cell_type": "code",
   "execution_count": 141,
   "metadata": {
    "execution": {
     "iopub.execute_input": "2021-07-21T12:00:53.921740Z",
     "iopub.status.busy": "2021-07-21T12:00:53.921027Z",
     "iopub.status.idle": "2021-07-21T12:00:53.931453Z",
     "shell.execute_reply": "2021-07-21T12:00:53.931974Z",
     "shell.execute_reply.started": "2021-07-21T11:20:08.199940Z"
    },
    "papermill": {
     "duration": 0.339816,
     "end_time": "2021-07-21T12:00:53.932149",
     "exception": false,
     "start_time": "2021-07-21T12:00:53.592333",
     "status": "completed"
    },
    "tags": []
   },
   "outputs": [
    {
     "data": {
      "text/plain": [
       "array(['1 владелец', '2 владельца', '3 или более'], dtype=object)"
      ]
     },
     "execution_count": 141,
     "metadata": {},
     "output_type": "execute_result"
    }
   ],
   "source": [
    "train.Владельцы.unique()"
   ]
  },
  {
   "cell_type": "markdown",
   "metadata": {
    "papermill": {
     "duration": 0.372712,
     "end_time": "2021-07-21T12:00:54.639682",
     "exception": false,
     "start_time": "2021-07-21T12:00:54.266970",
     "status": "completed"
    },
    "tags": []
   },
   "source": [
    "Все работает как и должно. Применим к тестовой выборке аналогичный прием:"
   ]
  },
  {
   "cell_type": "code",
   "execution_count": 142,
   "metadata": {
    "execution": {
     "iopub.execute_input": "2021-07-21T12:00:55.384892Z",
     "iopub.status.busy": "2021-07-21T12:00:55.384193Z",
     "iopub.status.idle": "2021-07-21T12:00:55.410441Z",
     "shell.execute_reply": "2021-07-21T12:00:55.410988Z",
     "shell.execute_reply.started": "2021-07-21T11:20:08.211268Z"
    },
    "papermill": {
     "duration": 0.385952,
     "end_time": "2021-07-21T12:00:55.411164",
     "exception": false,
     "start_time": "2021-07-21T12:00:55.025212",
     "status": "completed"
    },
    "tags": []
   },
   "outputs": [],
   "source": [
    "test['Владельцы'] = test['Владельцы'].apply(\n",
    "    lambda x: str(x).replace('\\xa0', ' '))"
   ]
  },
  {
   "cell_type": "markdown",
   "metadata": {
    "papermill": {
     "duration": 0.323593,
     "end_time": "2021-07-21T12:00:56.067091",
     "exception": false,
     "start_time": "2021-07-21T12:00:55.743498",
     "status": "completed"
    },
    "tags": []
   },
   "source": [
    "Убедимся, что все хорошо:"
   ]
  },
  {
   "cell_type": "code",
   "execution_count": 143,
   "metadata": {
    "execution": {
     "iopub.execute_input": "2021-07-21T12:00:56.718793Z",
     "iopub.status.busy": "2021-07-21T12:00:56.718036Z",
     "iopub.status.idle": "2021-07-21T12:00:56.730817Z",
     "shell.execute_reply": "2021-07-21T12:00:56.731416Z",
     "shell.execute_reply.started": "2021-07-21T11:20:08.237639Z"
    },
    "papermill": {
     "duration": 0.342369,
     "end_time": "2021-07-21T12:00:56.731580",
     "exception": false,
     "start_time": "2021-07-21T12:00:56.389211",
     "status": "completed"
    },
    "tags": []
   },
   "outputs": [
    {
     "data": {
      "text/plain": [
       "array(['3 или более', '1 владелец', '2 владельца'], dtype=object)"
      ]
     },
     "execution_count": 143,
     "metadata": {},
     "output_type": "execute_result"
    }
   ],
   "source": [
    "test.Владельцы.unique()"
   ]
  },
  {
   "cell_type": "markdown",
   "metadata": {
    "papermill": {
     "duration": 0.323273,
     "end_time": "2021-07-21T12:00:57.380449",
     "exception": false,
     "start_time": "2021-07-21T12:00:57.057176",
     "status": "completed"
    },
    "tags": []
   },
   "source": [
    "Посмотрим распределение признака для обеих выборок:"
   ]
  },
  {
   "cell_type": "code",
   "execution_count": 144,
   "metadata": {
    "execution": {
     "iopub.execute_input": "2021-07-21T12:00:58.032894Z",
     "iopub.status.busy": "2021-07-21T12:00:58.031568Z",
     "iopub.status.idle": "2021-07-21T12:00:58.218507Z",
     "shell.execute_reply": "2021-07-21T12:00:58.219043Z",
     "shell.execute_reply.started": "2021-07-21T11:20:08.248552Z"
    },
    "papermill": {
     "duration": 0.517681,
     "end_time": "2021-07-21T12:00:58.219213",
     "exception": false,
     "start_time": "2021-07-21T12:00:57.701532",
     "status": "completed"
    },
    "tags": []
   },
   "outputs": [
    {
     "data": {
      "text/plain": [
       "<matplotlib.axes._subplots.AxesSubplot at 0x7f2cdc9dc1d0>"
      ]
     },
     "execution_count": 144,
     "metadata": {},
     "output_type": "execute_result"
    },
    {
     "data": {
      "image/png": "[encoded data removed]",
      "text/plain": [
       "<Figure size 576x396 with 1 Axes>"
      ]
     },
     "metadata": {},
     "output_type": "display_data"
    }
   ],
   "source": [
    "# Обучающая выборка\n",
    "train.Владельцы.hist()"
   ]
  },
  {
   "cell_type": "code",
   "execution_count": 145,
   "metadata": {
    "execution": {
     "iopub.execute_input": "2021-07-21T12:00:58.879509Z",
     "iopub.status.busy": "2021-07-21T12:00:58.878778Z",
     "iopub.status.idle": "2021-07-21T12:00:59.082260Z",
     "shell.execute_reply": "2021-07-21T12:00:59.081650Z",
     "shell.execute_reply.started": "2021-07-21T11:20:08.401928Z"
    },
    "papermill": {
     "duration": 0.53744,
     "end_time": "2021-07-21T12:00:59.082402",
     "exception": false,
     "start_time": "2021-07-21T12:00:58.544962",
     "status": "completed"
    },
    "tags": []
   },
   "outputs": [
    {
     "data": {
      "text/plain": [
       "<matplotlib.axes._subplots.AxesSubplot at 0x7f2cd987ef10>"
      ]
     },
     "execution_count": 145,
     "metadata": {},
     "output_type": "execute_result"
    },
    {
     "data": {
      "image/png": "[encoded data removed]",
      "text/plain": [
       "<Figure size 576x396 with 1 Axes>"
      ]
     },
     "metadata": {},
     "output_type": "display_data"
    }
   ],
   "source": [
    "# Тестовая выборка\n",
    "test.Владельцы.hist()"
   ]
  },
  {
   "cell_type": "markdown",
   "metadata": {
    "papermill": {
     "duration": 0.325549,
     "end_time": "2021-07-21T12:00:59.733146",
     "exception": false,
     "start_time": "2021-07-21T12:00:59.407597",
     "status": "completed"
    },
    "tags": []
   },
   "source": [
    "Как мы видим, преобладают авто, у которых было 3 и более владельцов, но в целом - различие с другими значениями не настолько сильное в случае тренировочной выборки. Добавим признак к категориальным:"
   ]
  },
  {
   "cell_type": "code",
   "execution_count": 146,
   "metadata": {
    "execution": {
     "iopub.execute_input": "2021-07-21T12:01:00.395091Z",
     "iopub.status.busy": "2021-07-21T12:01:00.394274Z",
     "iopub.status.idle": "2021-07-21T12:01:00.397464Z",
     "shell.execute_reply": "2021-07-21T12:01:00.397958Z",
     "shell.execute_reply.started": "2021-07-21T11:20:08.557761Z"
    },
    "papermill": {
     "duration": 0.334776,
     "end_time": "2021-07-21T12:01:00.398115",
     "exception": false,
     "start_time": "2021-07-21T12:01:00.063339",
     "status": "completed"
    },
    "tags": []
   },
   "outputs": [],
   "source": [
    "cat_cols.append('Владельцы')"
   ]
  },
  {
   "cell_type": "markdown",
   "metadata": {
    "papermill": {
     "duration": 0.32997,
     "end_time": "2021-07-21T12:01:01.056932",
     "exception": false,
     "start_time": "2021-07-21T12:01:00.726962",
     "status": "completed"
    },
    "tags": []
   },
   "source": [
    "### 3.2.22. Столбец ПТС"
   ]
  },
  {
   "cell_type": "markdown",
   "metadata": {
    "papermill": {
     "duration": 0.350255,
     "end_time": "2021-07-21T12:01:01.777481",
     "exception": false,
     "start_time": "2021-07-21T12:01:01.427226",
     "status": "completed"
    },
    "tags": []
   },
   "source": [
    "Данный признак содержит информацию о ПТС автомобиля. Проверим на пропуски:"
   ]
  },
  {
   "cell_type": "code",
   "execution_count": 147,
   "metadata": {
    "execution": {
     "iopub.execute_input": "2021-07-21T12:01:02.461225Z",
     "iopub.status.busy": "2021-07-21T12:01:02.460284Z",
     "iopub.status.idle": "2021-07-21T12:01:02.477456Z",
     "shell.execute_reply": "2021-07-21T12:01:02.478063Z",
     "shell.execute_reply.started": "2021-07-21T11:20:08.564159Z"
    },
    "papermill": {
     "duration": 0.362408,
     "end_time": "2021-07-21T12:01:02.478252",
     "exception": false,
     "start_time": "2021-07-21T12:01:02.115844",
     "status": "completed"
    },
    "tags": []
   },
   "outputs": [
    {
     "name": "stdout",
     "output_type": "stream",
     "text": [
      "0\n",
      "1\n"
     ]
    }
   ],
   "source": [
    "print(train.ПТС.isna().sum())\n",
    "print(test.ПТС.isna().sum())"
   ]
  },
  {
   "cell_type": "markdown",
   "metadata": {
    "papermill": {
     "duration": 0.357642,
     "end_time": "2021-07-21T12:01:03.187493",
     "exception": false,
     "start_time": "2021-07-21T12:01:02.829851",
     "status": "completed"
    },
    "tags": []
   },
   "source": [
    "У нас есть один пропуск в тестовой выборке. Посмотрим на значения, принимаемые признаком, чтобы понять, что мы можем сделать:"
   ]
  },
  {
   "cell_type": "code",
   "execution_count": 148,
   "metadata": {
    "execution": {
     "iopub.execute_input": "2021-07-21T12:01:03.864821Z",
     "iopub.status.busy": "2021-07-21T12:01:03.864087Z",
     "iopub.status.idle": "2021-07-21T12:01:03.874450Z",
     "shell.execute_reply": "2021-07-21T12:01:03.873753Z",
     "shell.execute_reply.started": "2021-07-21T11:20:08.578953Z"
    },
    "papermill": {
     "duration": 0.34398,
     "end_time": "2021-07-21T12:01:03.874577",
     "exception": false,
     "start_time": "2021-07-21T12:01:03.530597",
     "status": "completed"
    },
    "tags": []
   },
   "outputs": [
    {
     "data": {
      "text/plain": [
       "array(['Оригинал', 'Дубликат'], dtype=object)"
      ]
     },
     "execution_count": 148,
     "metadata": {},
     "output_type": "execute_result"
    }
   ],
   "source": [
    "train.ПТС.unique()"
   ]
  },
  {
   "cell_type": "markdown",
   "metadata": {
    "papermill": {
     "duration": 0.326362,
     "end_time": "2021-07-21T12:01:04.534363",
     "exception": false,
     "start_time": "2021-07-21T12:01:04.208001",
     "status": "completed"
    },
    "tags": []
   },
   "source": [
    "Как мы видим, признак принимает два значения. Посмотрим тестовую выборку:"
   ]
  },
  {
   "cell_type": "code",
   "execution_count": 149,
   "metadata": {
    "execution": {
     "iopub.execute_input": "2021-07-21T12:01:05.217895Z",
     "iopub.status.busy": "2021-07-21T12:01:05.217116Z",
     "iopub.status.idle": "2021-07-21T12:01:05.220421Z",
     "shell.execute_reply": "2021-07-21T12:01:05.221101Z",
     "shell.execute_reply.started": "2021-07-21T11:20:08.593338Z"
    },
    "papermill": {
     "duration": 0.352681,
     "end_time": "2021-07-21T12:01:05.221263",
     "exception": false,
     "start_time": "2021-07-21T12:01:04.868582",
     "status": "completed"
    },
    "tags": []
   },
   "outputs": [
    {
     "data": {
      "text/plain": [
       "array(['Оригинал', 'Дубликат', nan], dtype=object)"
      ]
     },
     "execution_count": 149,
     "metadata": {},
     "output_type": "execute_result"
    }
   ],
   "source": [
    "test.ПТС.unique()"
   ]
  },
  {
   "cell_type": "markdown",
   "metadata": {
    "papermill": {
     "duration": 0.33111,
     "end_time": "2021-07-21T12:01:05.889731",
     "exception": false,
     "start_time": "2021-07-21T12:01:05.558621",
     "status": "completed"
    },
    "tags": []
   },
   "source": [
    "Заменим пропуск значением моды для данного признака:"
   ]
  },
  {
   "cell_type": "code",
   "execution_count": 150,
   "metadata": {
    "execution": {
     "iopub.execute_input": "2021-07-21T12:01:06.578468Z",
     "iopub.status.busy": "2021-07-21T12:01:06.577725Z",
     "iopub.status.idle": "2021-07-21T12:01:06.622511Z",
     "shell.execute_reply": "2021-07-21T12:01:06.623034Z",
     "shell.execute_reply.started": "2021-07-21T11:20:08.603197Z"
    },
    "papermill": {
     "duration": 0.37988,
     "end_time": "2021-07-21T12:01:06.623203",
     "exception": false,
     "start_time": "2021-07-21T12:01:06.243323",
     "status": "completed"
    },
    "tags": []
   },
   "outputs": [],
   "source": [
    "test['ПТС'] = test['ПТС'].apply(\n",
    "    lambda x: test['ПТС'].mode()[0] if pd.isna(x) else x)"
   ]
  },
  {
   "cell_type": "markdown",
   "metadata": {
    "papermill": {
     "duration": 0.336712,
     "end_time": "2021-07-21T12:01:07.297930",
     "exception": false,
     "start_time": "2021-07-21T12:01:06.961218",
     "status": "completed"
    },
    "tags": []
   },
   "source": [
    "Просмотрим результат:"
   ]
  },
  {
   "cell_type": "code",
   "execution_count": 151,
   "metadata": {
    "execution": {
     "iopub.execute_input": "2021-07-21T12:01:07.968705Z",
     "iopub.status.busy": "2021-07-21T12:01:07.968075Z",
     "iopub.status.idle": "2021-07-21T12:01:07.978474Z",
     "shell.execute_reply": "2021-07-21T12:01:07.977777Z",
     "shell.execute_reply.started": "2021-07-21T11:20:11.799274Z"
    },
    "papermill": {
     "duration": 0.347263,
     "end_time": "2021-07-21T12:01:07.978596",
     "exception": false,
     "start_time": "2021-07-21T12:01:07.631333",
     "status": "completed"
    },
    "tags": []
   },
   "outputs": [
    {
     "data": {
      "text/plain": [
       "array(['Оригинал', 'Дубликат'], dtype=object)"
      ]
     },
     "execution_count": 151,
     "metadata": {},
     "output_type": "execute_result"
    }
   ],
   "source": [
    "test.ПТС.unique()"
   ]
  },
  {
   "cell_type": "markdown",
   "metadata": {
    "papermill": {
     "duration": 0.326964,
     "end_time": "2021-07-21T12:01:08.679915",
     "exception": false,
     "start_time": "2021-07-21T12:01:08.352951",
     "status": "completed"
    },
    "tags": []
   },
   "source": [
    "Посмотрим распределение признака:"
   ]
  },
  {
   "cell_type": "code",
   "execution_count": 152,
   "metadata": {
    "execution": {
     "iopub.execute_input": "2021-07-21T12:01:09.346973Z",
     "iopub.status.busy": "2021-07-21T12:01:09.346186Z",
     "iopub.status.idle": "2021-07-21T12:01:09.499500Z",
     "shell.execute_reply": "2021-07-21T12:01:09.498751Z",
     "shell.execute_reply.started": "2021-07-21T11:20:11.808717Z"
    },
    "papermill": {
     "duration": 0.488589,
     "end_time": "2021-07-21T12:01:09.499627",
     "exception": false,
     "start_time": "2021-07-21T12:01:09.011038",
     "status": "completed"
    },
    "tags": []
   },
   "outputs": [
    {
     "data": {
      "text/plain": [
       "<matplotlib.axes._subplots.AxesSubplot at 0x7f2cd97c3610>"
      ]
     },
     "execution_count": 152,
     "metadata": {},
     "output_type": "execute_result"
    },
    {
     "data": {
      "image/png": "[encoded data removed]",
      "text/plain": [
       "<Figure size 576x396 with 1 Axes>"
      ]
     },
     "metadata": {},
     "output_type": "display_data"
    }
   ],
   "source": [
    "# Тренировочная выборка\n",
    "sns.countplot(x='ПТС', data=train)"
   ]
  },
  {
   "cell_type": "code",
   "execution_count": 153,
   "metadata": {
    "execution": {
     "iopub.execute_input": "2021-07-21T12:01:10.184811Z",
     "iopub.status.busy": "2021-07-21T12:01:10.183701Z",
     "iopub.status.idle": "2021-07-21T12:01:10.333402Z",
     "shell.execute_reply": "2021-07-21T12:01:10.332840Z",
     "shell.execute_reply.started": "2021-07-21T11:20:11.944320Z"
    },
    "papermill": {
     "duration": 0.495359,
     "end_time": "2021-07-21T12:01:10.333535",
     "exception": false,
     "start_time": "2021-07-21T12:01:09.838176",
     "status": "completed"
    },
    "tags": []
   },
   "outputs": [
    {
     "data": {
      "text/plain": [
       "<matplotlib.axes._subplots.AxesSubplot at 0x7f2cd9776610>"
      ]
     },
     "execution_count": 153,
     "metadata": {},
     "output_type": "execute_result"
    },
    {
     "data": {
      "image/png": "[encoded data removed]",
      "text/plain": [
       "<Figure size 576x396 with 1 Axes>"
      ]
     },
     "metadata": {},
     "output_type": "display_data"
    }
   ],
   "source": [
    "# Тестовая выборка\n",
    "sns.countplot(x='ПТС', data=test)"
   ]
  },
  {
   "cell_type": "markdown",
   "metadata": {
    "papermill": {
     "duration": 0.331789,
     "end_time": "2021-07-21T12:01:10.997215",
     "exception": false,
     "start_time": "2021-07-21T12:01:10.665426",
     "status": "completed"
    },
    "tags": []
   },
   "source": [
    "Из распределения видно, что оригиналов ПТС гораздо больше чем дубликатов в обеих выборках. Данный признак является бинарным. Добавим его:"
   ]
  },
  {
   "cell_type": "code",
   "execution_count": 154,
   "metadata": {
    "execution": {
     "iopub.execute_input": "2021-07-21T12:01:11.658461Z",
     "iopub.status.busy": "2021-07-21T12:01:11.657399Z",
     "iopub.status.idle": "2021-07-21T12:01:11.661671Z",
     "shell.execute_reply": "2021-07-21T12:01:11.660803Z",
     "shell.execute_reply.started": "2021-07-21T11:20:12.071857Z"
    },
    "papermill": {
     "duration": 0.337258,
     "end_time": "2021-07-21T12:01:11.661814",
     "exception": false,
     "start_time": "2021-07-21T12:01:11.324556",
     "status": "completed"
    },
    "tags": []
   },
   "outputs": [],
   "source": [
    "bin_cols.append('ПТС')"
   ]
  },
  {
   "cell_type": "markdown",
   "metadata": {
    "papermill": {
     "duration": 0.329303,
     "end_time": "2021-07-21T12:01:12.325493",
     "exception": false,
     "start_time": "2021-07-21T12:01:11.996190",
     "status": "completed"
    },
    "tags": []
   },
   "source": [
    "### 3.2.23. Столбец Привод"
   ]
  },
  {
   "cell_type": "markdown",
   "metadata": {
    "papermill": {
     "duration": 0.331116,
     "end_time": "2021-07-21T12:01:12.992883",
     "exception": false,
     "start_time": "2021-07-21T12:01:12.661767",
     "status": "completed"
    },
    "tags": []
   },
   "source": [
    "Признак содержит информацию о том, какой привод у транспортного средства. Проверим на пропуски:"
   ]
  },
  {
   "cell_type": "code",
   "execution_count": 155,
   "metadata": {
    "execution": {
     "iopub.execute_input": "2021-07-21T12:01:13.685664Z",
     "iopub.status.busy": "2021-07-21T12:01:13.680779Z",
     "iopub.status.idle": "2021-07-21T12:01:13.690148Z",
     "shell.execute_reply": "2021-07-21T12:01:13.689553Z",
     "shell.execute_reply.started": "2021-07-21T11:20:12.079179Z"
    },
    "papermill": {
     "duration": 0.354012,
     "end_time": "2021-07-21T12:01:13.690293",
     "exception": false,
     "start_time": "2021-07-21T12:01:13.336281",
     "status": "completed"
    },
    "tags": []
   },
   "outputs": [
    {
     "name": "stdout",
     "output_type": "stream",
     "text": [
      "0\n",
      "0\n"
     ]
    }
   ],
   "source": [
    "print(train.Привод.isna().sum())\n",
    "print(test.Привод.isna().sum())"
   ]
  },
  {
   "cell_type": "markdown",
   "metadata": {
    "papermill": {
     "duration": 0.334258,
     "end_time": "2021-07-21T12:01:14.357236",
     "exception": false,
     "start_time": "2021-07-21T12:01:14.022978",
     "status": "completed"
    },
    "tags": []
   },
   "source": [
    "Пропусков нет. Просмотрим сами данные:"
   ]
  },
  {
   "cell_type": "code",
   "execution_count": 156,
   "metadata": {
    "execution": {
     "iopub.execute_input": "2021-07-21T12:01:15.028012Z",
     "iopub.status.busy": "2021-07-21T12:01:15.026967Z",
     "iopub.status.idle": "2021-07-21T12:01:15.034018Z",
     "shell.execute_reply": "2021-07-21T12:01:15.033416Z",
     "shell.execute_reply.started": "2021-07-21T11:20:12.097133Z"
    },
    "papermill": {
     "duration": 0.34873,
     "end_time": "2021-07-21T12:01:15.034147",
     "exception": false,
     "start_time": "2021-07-21T12:01:14.685417",
     "status": "completed"
    },
    "tags": []
   },
   "outputs": [
    {
     "data": {
      "text/plain": [
       "array(['полный', 'задний', 'передний'], dtype=object)"
      ]
     },
     "execution_count": 156,
     "metadata": {},
     "output_type": "execute_result"
    }
   ],
   "source": [
    "train.Привод.unique()"
   ]
  },
  {
   "cell_type": "markdown",
   "metadata": {
    "papermill": {
     "duration": 0.339288,
     "end_time": "2021-07-21T12:01:15.706729",
     "exception": false,
     "start_time": "2021-07-21T12:01:15.367441",
     "status": "completed"
    },
    "tags": []
   },
   "source": [
    "Повторим для тестовой выборки:"
   ]
  },
  {
   "cell_type": "code",
   "execution_count": 157,
   "metadata": {
    "execution": {
     "iopub.execute_input": "2021-07-21T12:01:16.384487Z",
     "iopub.status.busy": "2021-07-21T12:01:16.383456Z",
     "iopub.status.idle": "2021-07-21T12:01:16.389156Z",
     "shell.execute_reply": "2021-07-21T12:01:16.389610Z",
     "shell.execute_reply.started": "2021-07-21T11:20:12.112103Z"
    },
    "papermill": {
     "duration": 0.343094,
     "end_time": "2021-07-21T12:01:16.389761",
     "exception": false,
     "start_time": "2021-07-21T12:01:16.046667",
     "status": "completed"
    },
    "tags": []
   },
   "outputs": [
    {
     "data": {
      "text/plain": [
       "array(['передний', 'полный', 'задний'], dtype=object)"
      ]
     },
     "execution_count": 157,
     "metadata": {},
     "output_type": "execute_result"
    }
   ],
   "source": [
    "test.Привод.unique()"
   ]
  },
  {
   "cell_type": "markdown",
   "metadata": {
    "papermill": {
     "duration": 0.361722,
     "end_time": "2021-07-21T12:01:17.092063",
     "exception": false,
     "start_time": "2021-07-21T12:01:16.730341",
     "status": "completed"
    },
    "tags": []
   },
   "source": [
    "Признак категориальный, посмотрим распределение значений:"
   ]
  },
  {
   "cell_type": "code",
   "execution_count": 158,
   "metadata": {
    "execution": {
     "iopub.execute_input": "2021-07-21T12:01:17.772565Z",
     "iopub.status.busy": "2021-07-21T12:01:17.771378Z",
     "iopub.status.idle": "2021-07-21T12:01:17.945183Z",
     "shell.execute_reply": "2021-07-21T12:01:17.944600Z",
     "shell.execute_reply.started": "2021-07-21T11:20:12.122571Z"
    },
    "papermill": {
     "duration": 0.520868,
     "end_time": "2021-07-21T12:01:17.945330",
     "exception": false,
     "start_time": "2021-07-21T12:01:17.424462",
     "status": "completed"
    },
    "tags": []
   },
   "outputs": [
    {
     "data": {
      "text/plain": [
       "<matplotlib.axes._subplots.AxesSubplot at 0x7f2cd97bd150>"
      ]
     },
     "execution_count": 158,
     "metadata": {},
     "output_type": "execute_result"
    },
    {
     "data": {
      "image/png": "[encoded data removed]",
      "text/plain": [
       "<Figure size 576x396 with 1 Axes>"
      ]
     },
     "metadata": {},
     "output_type": "display_data"
    }
   ],
   "source": [
    "# Тренировочная выборка\n",
    "sns.countplot(x='Привод', data=train)"
   ]
  },
  {
   "cell_type": "code",
   "execution_count": 159,
   "metadata": {
    "execution": {
     "iopub.execute_input": "2021-07-21T12:01:18.676268Z",
     "iopub.status.busy": "2021-07-21T12:01:18.675564Z",
     "iopub.status.idle": "2021-07-21T12:01:18.840357Z",
     "shell.execute_reply": "2021-07-21T12:01:18.839793Z",
     "shell.execute_reply.started": "2021-07-21T11:20:12.275279Z"
    },
    "papermill": {
     "duration": 0.503638,
     "end_time": "2021-07-21T12:01:18.840487",
     "exception": false,
     "start_time": "2021-07-21T12:01:18.336849",
     "status": "completed"
    },
    "tags": []
   },
   "outputs": [
    {
     "data": {
      "text/plain": [
       "<matplotlib.axes._subplots.AxesSubplot at 0x7f2cd978fdd0>"
      ]
     },
     "execution_count": 159,
     "metadata": {},
     "output_type": "execute_result"
    },
    {
     "data": {
      "image/png": "[encoded data removed]",
      "text/plain": [
       "<Figure size 576x396 with 1 Axes>"
      ]
     },
     "metadata": {},
     "output_type": "display_data"
    }
   ],
   "source": [
    "# Тестовая выборка\n",
    "sns.countplot(x='Привод', data=test)"
   ]
  },
  {
   "cell_type": "markdown",
   "metadata": {
    "papermill": {
     "duration": 0.331482,
     "end_time": "2021-07-21T12:01:19.504940",
     "exception": false,
     "start_time": "2021-07-21T12:01:19.173458",
     "status": "completed"
    },
    "tags": []
   },
   "source": [
    "Распределение признаков для обеих выборок похож. Наибольший процент в дата-сетах составляют передний и полный привод. Дальнейшей обработки не требуется, добавим признак к остальным категориальным:"
   ]
  },
  {
   "cell_type": "code",
   "execution_count": 160,
   "metadata": {
    "execution": {
     "iopub.execute_input": "2021-07-21T12:01:20.182684Z",
     "iopub.status.busy": "2021-07-21T12:01:20.181593Z",
     "iopub.status.idle": "2021-07-21T12:01:20.185251Z",
     "shell.execute_reply": "2021-07-21T12:01:20.184615Z",
     "shell.execute_reply.started": "2021-07-21T11:20:12.418542Z"
    },
    "papermill": {
     "duration": 0.34601,
     "end_time": "2021-07-21T12:01:20.185378",
     "exception": false,
     "start_time": "2021-07-21T12:01:19.839368",
     "status": "completed"
    },
    "tags": []
   },
   "outputs": [],
   "source": [
    "cat_cols.append('Привод')"
   ]
  },
  {
   "cell_type": "markdown",
   "metadata": {
    "papermill": {
     "duration": 0.334358,
     "end_time": "2021-07-21T12:01:20.851243",
     "exception": false,
     "start_time": "2021-07-21T12:01:20.516885",
     "status": "completed"
    },
    "tags": []
   },
   "source": [
    "### 3.2.24. Столбец Руль"
   ]
  },
  {
   "cell_type": "markdown",
   "metadata": {
    "papermill": {
     "duration": 0.329867,
     "end_time": "2021-07-21T12:01:21.514237",
     "exception": false,
     "start_time": "2021-07-21T12:01:21.184370",
     "status": "completed"
    },
    "tags": []
   },
   "source": [
    "Признак отражает положение руля в автомобиле. Просмотрим данные:"
   ]
  },
  {
   "cell_type": "code",
   "execution_count": 161,
   "metadata": {
    "execution": {
     "iopub.execute_input": "2021-07-21T12:01:22.193967Z",
     "iopub.status.busy": "2021-07-21T12:01:22.192950Z",
     "iopub.status.idle": "2021-07-21T12:01:22.203190Z",
     "shell.execute_reply": "2021-07-21T12:01:22.202575Z",
     "shell.execute_reply.started": "2021-07-21T11:20:12.424462Z"
    },
    "papermill": {
     "duration": 0.350494,
     "end_time": "2021-07-21T12:01:22.203316",
     "exception": false,
     "start_time": "2021-07-21T12:01:21.852822",
     "status": "completed"
    },
    "tags": []
   },
   "outputs": [
    {
     "data": {
      "text/plain": [
       "array(['Левый', 'Правый'], dtype=object)"
      ]
     },
     "execution_count": 161,
     "metadata": {},
     "output_type": "execute_result"
    }
   ],
   "source": [
    "# Тренировочная выборка\n",
    "train.Руль.unique()"
   ]
  },
  {
   "cell_type": "code",
   "execution_count": 162,
   "metadata": {
    "execution": {
     "iopub.execute_input": "2021-07-21T12:01:22.876596Z",
     "iopub.status.busy": "2021-07-21T12:01:22.875877Z",
     "iopub.status.idle": "2021-07-21T12:01:22.882130Z",
     "shell.execute_reply": "2021-07-21T12:01:22.881318Z",
     "shell.execute_reply.started": "2021-07-21T11:20:12.440841Z"
    },
    "papermill": {
     "duration": 0.344957,
     "end_time": "2021-07-21T12:01:22.882279",
     "exception": false,
     "start_time": "2021-07-21T12:01:22.537322",
     "status": "completed"
    },
    "tags": []
   },
   "outputs": [
    {
     "data": {
      "text/plain": [
       "array(['Левый', 'Правый'], dtype=object)"
      ]
     },
     "execution_count": 162,
     "metadata": {},
     "output_type": "execute_result"
    }
   ],
   "source": [
    "# Тестовая выборка\n",
    "test.Руль.unique()"
   ]
  },
  {
   "cell_type": "markdown",
   "metadata": {
    "papermill": {
     "duration": 0.332681,
     "end_time": "2021-07-21T12:01:23.569401",
     "exception": false,
     "start_time": "2021-07-21T12:01:23.236720",
     "status": "completed"
    },
    "tags": []
   },
   "source": [
    "Пропусков нет, признак является бинарным. Посмотрим его распределение для обеих выборок:"
   ]
  },
  {
   "cell_type": "code",
   "execution_count": 163,
   "metadata": {
    "execution": {
     "iopub.execute_input": "2021-07-21T12:01:24.255151Z",
     "iopub.status.busy": "2021-07-21T12:01:24.254423Z",
     "iopub.status.idle": "2021-07-21T12:01:24.406879Z",
     "shell.execute_reply": "2021-07-21T12:01:24.406316Z",
     "shell.execute_reply.started": "2021-07-21T11:20:12.453763Z"
    },
    "papermill": {
     "duration": 0.496341,
     "end_time": "2021-07-21T12:01:24.407010",
     "exception": false,
     "start_time": "2021-07-21T12:01:23.910669",
     "status": "completed"
    },
    "tags": []
   },
   "outputs": [
    {
     "data": {
      "text/plain": [
       "<matplotlib.axes._subplots.AxesSubplot at 0x7f2cd96f1090>"
      ]
     },
     "execution_count": 163,
     "metadata": {},
     "output_type": "execute_result"
    },
    {
     "data": {
      "image/png": "[encoded data removed]",
      "text/plain": [
       "<Figure size 576x396 with 1 Axes>"
      ]
     },
     "metadata": {},
     "output_type": "display_data"
    }
   ],
   "source": [
    "# Тренировочная выборка\n",
    "sns.countplot(x='Руль', data=train)"
   ]
  },
  {
   "cell_type": "code",
   "execution_count": 164,
   "metadata": {
    "execution": {
     "iopub.execute_input": "2021-07-21T12:01:25.113327Z",
     "iopub.status.busy": "2021-07-21T12:01:25.112294Z",
     "iopub.status.idle": "2021-07-21T12:01:25.261155Z",
     "shell.execute_reply": "2021-07-21T12:01:25.261672Z",
     "shell.execute_reply.started": "2021-07-21T11:20:12.593038Z"
    },
    "papermill": {
     "duration": 0.511733,
     "end_time": "2021-07-21T12:01:25.261868",
     "exception": false,
     "start_time": "2021-07-21T12:01:24.750135",
     "status": "completed"
    },
    "tags": []
   },
   "outputs": [
    {
     "data": {
      "text/plain": [
       "<matplotlib.axes._subplots.AxesSubplot at 0x7f2cd9657690>"
      ]
     },
     "execution_count": 164,
     "metadata": {},
     "output_type": "execute_result"
    },
    {
     "data": {
      "image/png": "[encoded data removed]",
      "text/plain": [
       "<Figure size 576x396 with 1 Axes>"
      ]
     },
     "metadata": {},
     "output_type": "display_data"
    }
   ],
   "source": [
    "# Тестовая выборка\n",
    "sns.countplot(x='Руль', data=test)"
   ]
  },
  {
   "cell_type": "markdown",
   "metadata": {
    "papermill": {
     "duration": 0.352353,
     "end_time": "2021-07-21T12:01:25.968787",
     "exception": false,
     "start_time": "2021-07-21T12:01:25.616434",
     "status": "completed"
    },
    "tags": []
   },
   "source": [
    "Из графика видно, что преобладают автомобили с левым рулем. Дальнейшей обработки признак не требует, добавим к бинарным:"
   ]
  },
  {
   "cell_type": "code",
   "execution_count": 165,
   "metadata": {
    "execution": {
     "iopub.execute_input": "2021-07-21T12:01:26.745491Z",
     "iopub.status.busy": "2021-07-21T12:01:26.743936Z",
     "iopub.status.idle": "2021-07-21T12:01:26.749330Z",
     "shell.execute_reply": "2021-07-21T12:01:26.748558Z",
     "shell.execute_reply.started": "2021-07-21T11:20:12.724477Z"
    },
    "papermill": {
     "duration": 0.362089,
     "end_time": "2021-07-21T12:01:26.749462",
     "exception": false,
     "start_time": "2021-07-21T12:01:26.387373",
     "status": "completed"
    },
    "tags": []
   },
   "outputs": [],
   "source": [
    "bin_cols.append('Руль')"
   ]
  },
  {
   "cell_type": "markdown",
   "metadata": {
    "papermill": {
     "duration": 0.336176,
     "end_time": "2021-07-21T12:01:27.428632",
     "exception": false,
     "start_time": "2021-07-21T12:01:27.092456",
     "status": "completed"
    },
    "tags": []
   },
   "source": [
    "### 3.2.25. Столбец Состояние"
   ]
  },
  {
   "cell_type": "markdown",
   "metadata": {
    "papermill": {
     "duration": 0.379677,
     "end_time": "2021-07-21T12:01:28.146603",
     "exception": false,
     "start_time": "2021-07-21T12:01:27.766926",
     "status": "completed"
    },
    "tags": []
   },
   "source": [
    "Признак описывает состояние авто. Просмотрим данные:"
   ]
  },
  {
   "cell_type": "code",
   "execution_count": 166,
   "metadata": {
    "execution": {
     "iopub.execute_input": "2021-07-21T12:01:28.844725Z",
     "iopub.status.busy": "2021-07-21T12:01:28.843978Z",
     "iopub.status.idle": "2021-07-21T12:01:28.851521Z",
     "shell.execute_reply": "2021-07-21T12:01:28.850790Z",
     "shell.execute_reply.started": "2021-07-21T11:20:12.730100Z"
    },
    "papermill": {
     "duration": 0.366943,
     "end_time": "2021-07-21T12:01:28.851645",
     "exception": false,
     "start_time": "2021-07-21T12:01:28.484702",
     "status": "completed"
    },
    "tags": []
   },
   "outputs": [
    {
     "data": {
      "text/plain": [
       "array(['Не требует ремонта', 'Битый / не на ходу'], dtype=object)"
      ]
     },
     "execution_count": 166,
     "metadata": {},
     "output_type": "execute_result"
    }
   ],
   "source": [
    "# Тренировочная выборка\n",
    "train.Состояние.unique()"
   ]
  },
  {
   "cell_type": "code",
   "execution_count": 167,
   "metadata": {
    "execution": {
     "iopub.execute_input": "2021-07-21T12:01:29.534937Z",
     "iopub.status.busy": "2021-07-21T12:01:29.533908Z",
     "iopub.status.idle": "2021-07-21T12:01:29.541694Z",
     "shell.execute_reply": "2021-07-21T12:01:29.541102Z",
     "shell.execute_reply.started": "2021-07-21T11:20:12.748742Z"
    },
    "papermill": {
     "duration": 0.352247,
     "end_time": "2021-07-21T12:01:29.541819",
     "exception": false,
     "start_time": "2021-07-21T12:01:29.189572",
     "status": "completed"
    },
    "tags": []
   },
   "outputs": [
    {
     "data": {
      "text/plain": [
       "array(['Не требует ремонта'], dtype=object)"
      ]
     },
     "execution_count": 167,
     "metadata": {},
     "output_type": "execute_result"
    }
   ],
   "source": [
    "# Тестовая выборка\n",
    "test.Состояние.unique()"
   ]
  },
  {
   "cell_type": "markdown",
   "metadata": {
    "papermill": {
     "duration": 0.334515,
     "end_time": "2021-07-21T12:01:30.218162",
     "exception": false,
     "start_time": "2021-07-21T12:01:29.883647",
     "status": "completed"
    },
    "tags": []
   },
   "source": [
    "В тестовой выборке только одно значение признака, однако в тренировочной два. Посмотрим распределение для тренировочной выборки:"
   ]
  },
  {
   "cell_type": "code",
   "execution_count": 168,
   "metadata": {
    "execution": {
     "iopub.execute_input": "2021-07-21T12:01:30.902482Z",
     "iopub.status.busy": "2021-07-21T12:01:30.901523Z",
     "iopub.status.idle": "2021-07-21T12:01:31.056773Z",
     "shell.execute_reply": "2021-07-21T12:01:31.056052Z",
     "shell.execute_reply.started": "2021-07-21T11:20:12.765689Z"
    },
    "papermill": {
     "duration": 0.498303,
     "end_time": "2021-07-21T12:01:31.056924",
     "exception": false,
     "start_time": "2021-07-21T12:01:30.558621",
     "status": "completed"
    },
    "tags": []
   },
   "outputs": [
    {
     "data": {
      "text/plain": [
       "<matplotlib.axes._subplots.AxesSubplot at 0x7f2cd955da90>"
      ]
     },
     "execution_count": 168,
     "metadata": {},
     "output_type": "execute_result"
    },
    {
     "data": {
      "image/png": "[encoded data removed]",
      "text/plain": [
       "<Figure size 576x396 with 1 Axes>"
      ]
     },
     "metadata": {},
     "output_type": "display_data"
    }
   ],
   "source": [
    "# Тренировочная выборка\n",
    "sns.countplot(x='Состояние', data=train)"
   ]
  },
  {
   "cell_type": "markdown",
   "metadata": {
    "papermill": {
     "duration": 0.336745,
     "end_time": "2021-07-21T12:01:31.732500",
     "exception": false,
     "start_time": "2021-07-21T12:01:31.395755",
     "status": "completed"
    },
    "tags": []
   },
   "source": [
    "Посчитаем значения:"
   ]
  },
  {
   "cell_type": "code",
   "execution_count": 169,
   "metadata": {
    "execution": {
     "iopub.execute_input": "2021-07-21T12:01:32.445989Z",
     "iopub.status.busy": "2021-07-21T12:01:32.444971Z",
     "iopub.status.idle": "2021-07-21T12:01:32.449230Z",
     "shell.execute_reply": "2021-07-21T12:01:32.449745Z",
     "shell.execute_reply.started": "2021-07-21T11:20:12.899658Z"
    },
    "papermill": {
     "duration": 0.374462,
     "end_time": "2021-07-21T12:01:32.449917",
     "exception": false,
     "start_time": "2021-07-21T12:01:32.075455",
     "status": "completed"
    },
    "tags": []
   },
   "outputs": [
    {
     "data": {
      "text/plain": [
       "Не требует ремонта    37235\n",
       "Битый / не на ходу        2\n",
       "Name: Состояние, dtype: int64"
      ]
     },
     "execution_count": 169,
     "metadata": {},
     "output_type": "execute_result"
    }
   ],
   "source": [
    "train.Состояние.value_counts()"
   ]
  },
  {
   "cell_type": "markdown",
   "metadata": {
    "papermill": {
     "duration": 0.342738,
     "end_time": "2021-07-21T12:01:33.133184",
     "exception": false,
     "start_time": "2021-07-21T12:01:32.790446",
     "status": "completed"
    },
    "tags": []
   },
   "source": [
    "Как видно и из распределения и проверки количества значений, признак все же является бинарным, хотя второе значение присутствует в ничтожно малом количестве. Добавим к бинарным:"
   ]
  },
  {
   "cell_type": "code",
   "execution_count": 170,
   "metadata": {
    "execution": {
     "iopub.execute_input": "2021-07-21T12:01:33.871072Z",
     "iopub.status.busy": "2021-07-21T12:01:33.870330Z",
     "iopub.status.idle": "2021-07-21T12:01:33.873166Z",
     "shell.execute_reply": "2021-07-21T12:01:33.873691Z",
     "shell.execute_reply.started": "2021-07-21T11:20:12.910954Z"
    },
    "papermill": {
     "duration": 0.345211,
     "end_time": "2021-07-21T12:01:33.873855",
     "exception": false,
     "start_time": "2021-07-21T12:01:33.528644",
     "status": "completed"
    },
    "tags": []
   },
   "outputs": [],
   "source": [
    "bin_cols.append('Состояние')"
   ]
  },
  {
   "cell_type": "markdown",
   "metadata": {
    "papermill": {
     "duration": 0.333806,
     "end_time": "2021-07-21T12:01:34.550926",
     "exception": false,
     "start_time": "2021-07-21T12:01:34.217120",
     "status": "completed"
    },
    "tags": []
   },
   "source": [
    "### 3.2.26. Столбец Таможня"
   ]
  },
  {
   "cell_type": "markdown",
   "metadata": {
    "papermill": {
     "duration": 0.344005,
     "end_time": "2021-07-21T12:01:35.235760",
     "exception": false,
     "start_time": "2021-07-21T12:01:34.891755",
     "status": "completed"
    },
    "tags": []
   },
   "source": [
    "Признак отражает, что автомобиль растоможен, и одинаков для всех строк. Смысловой нагрузки не несет и смысла добавлять его в обучение нет, пропускаем."
   ]
  },
  {
   "cell_type": "markdown",
   "metadata": {
    "papermill": {
     "duration": 0.344699,
     "end_time": "2021-07-21T12:01:35.918188",
     "exception": false,
     "start_time": "2021-07-21T12:01:35.573489",
     "status": "completed"
    },
    "tags": []
   },
   "source": [
    "### 3.2.27. Целевой столбец price"
   ]
  },
  {
   "cell_type": "markdown",
   "metadata": {
    "papermill": {
     "duration": 0.349935,
     "end_time": "2021-07-21T12:01:36.609509",
     "exception": false,
     "start_time": "2021-07-21T12:01:36.259574",
     "status": "completed"
    },
    "tags": []
   },
   "source": [
    "Искомый признак, отражающий стоимость автомобиля. Присутствует только в тренировочной выборке. Просмотрим уникальные значения и пропуски:"
   ]
  },
  {
   "cell_type": "code",
   "execution_count": 171,
   "metadata": {
    "execution": {
     "iopub.execute_input": "2021-07-21T12:01:37.289946Z",
     "iopub.status.busy": "2021-07-21T12:01:37.289213Z",
     "iopub.status.idle": "2021-07-21T12:01:37.301320Z",
     "shell.execute_reply": "2021-07-21T12:01:37.300676Z",
     "shell.execute_reply.started": "2021-07-21T11:20:12.920252Z"
    },
    "papermill": {
     "duration": 0.350843,
     "end_time": "2021-07-21T12:01:37.301452",
     "exception": false,
     "start_time": "2021-07-21T12:01:36.950609",
     "status": "completed"
    },
    "tags": []
   },
   "outputs": [
    {
     "data": {
      "text/plain": [
       "0"
      ]
     },
     "execution_count": 171,
     "metadata": {},
     "output_type": "execute_result"
    }
   ],
   "source": [
    "train.price.isna().sum()"
   ]
  },
  {
   "cell_type": "markdown",
   "metadata": {
    "papermill": {
     "duration": 0.337468,
     "end_time": "2021-07-21T12:01:37.977218",
     "exception": false,
     "start_time": "2021-07-21T12:01:37.639750",
     "status": "completed"
    },
    "tags": []
   },
   "source": [
    "Пропусков нет."
   ]
  },
  {
   "cell_type": "code",
   "execution_count": 172,
   "metadata": {
    "execution": {
     "iopub.execute_input": "2021-07-21T12:01:38.663669Z",
     "iopub.status.busy": "2021-07-21T12:01:38.662953Z",
     "iopub.status.idle": "2021-07-21T12:01:38.667615Z",
     "shell.execute_reply": "2021-07-21T12:01:38.666948Z",
     "shell.execute_reply.started": "2021-07-21T11:20:12.936264Z"
    },
    "papermill": {
     "duration": 0.352079,
     "end_time": "2021-07-21T12:01:38.667748",
     "exception": false,
     "start_time": "2021-07-21T12:01:38.315669",
     "status": "completed"
    },
    "tags": []
   },
   "outputs": [
    {
     "data": {
      "text/plain": [
       "array(['1\\xa0319\\xa0000\\xa0₽', '1\\xa0470\\xa0000\\xa0₽',\n",
       "       '4\\xa0447\\xa0000\\xa0₽', ..., 799999, 336499, 78000], dtype=object)"
      ]
     },
     "execution_count": 172,
     "metadata": {},
     "output_type": "execute_result"
    }
   ],
   "source": [
    "train.price.unique()"
   ]
  },
  {
   "cell_type": "markdown",
   "metadata": {
    "papermill": {
     "duration": 0.353889,
     "end_time": "2021-07-21T12:01:39.375626",
     "exception": false,
     "start_time": "2021-07-21T12:01:39.021737",
     "status": "completed"
    },
    "tags": []
   },
   "source": [
    "Данные грязные, требуют предварительной очистки. Приступим:"
   ]
  },
  {
   "cell_type": "code",
   "execution_count": 173,
   "metadata": {
    "execution": {
     "iopub.execute_input": "2021-07-21T12:01:40.083538Z",
     "iopub.status.busy": "2021-07-21T12:01:40.066262Z",
     "iopub.status.idle": "2021-07-21T12:01:40.088458Z",
     "shell.execute_reply": "2021-07-21T12:01:40.087902Z",
     "shell.execute_reply.started": "2021-07-21T11:20:12.950035Z"
    },
    "papermill": {
     "duration": 0.376233,
     "end_time": "2021-07-21T12:01:40.088587",
     "exception": false,
     "start_time": "2021-07-21T12:01:39.712354",
     "status": "completed"
    },
    "tags": []
   },
   "outputs": [],
   "source": [
    "train['price'] = train['price'].apply(lambda x: str(x).replace('\\xa0', ''))"
   ]
  },
  {
   "cell_type": "markdown",
   "metadata": {
    "papermill": {
     "duration": 0.341331,
     "end_time": "2021-07-21T12:01:40.768175",
     "exception": false,
     "start_time": "2021-07-21T12:01:40.426844",
     "status": "completed"
    },
    "tags": []
   },
   "source": [
    "проверим результат:"
   ]
  },
  {
   "cell_type": "code",
   "execution_count": 174,
   "metadata": {
    "execution": {
     "iopub.execute_input": "2021-07-21T12:01:41.458128Z",
     "iopub.status.busy": "2021-07-21T12:01:41.456953Z",
     "iopub.status.idle": "2021-07-21T12:01:41.464606Z",
     "shell.execute_reply": "2021-07-21T12:01:41.464040Z",
     "shell.execute_reply.started": "2021-07-21T11:20:12.976218Z"
    },
    "papermill": {
     "duration": 0.354285,
     "end_time": "2021-07-21T12:01:41.464739",
     "exception": false,
     "start_time": "2021-07-21T12:01:41.110454",
     "status": "completed"
    },
    "tags": []
   },
   "outputs": [
    {
     "data": {
      "text/plain": [
       "array(['1319000₽', '1470000₽', '4447000₽', ..., '168000', '474799',\n",
       "       '336499'], dtype=object)"
      ]
     },
     "execution_count": 174,
     "metadata": {},
     "output_type": "execute_result"
    }
   ],
   "source": [
    "train.price.unique()"
   ]
  },
  {
   "cell_type": "markdown",
   "metadata": {
    "papermill": {
     "duration": 0.340133,
     "end_time": "2021-07-21T12:01:42.152499",
     "exception": false,
     "start_time": "2021-07-21T12:01:41.812366",
     "status": "completed"
    },
    "tags": []
   },
   "source": [
    "Пол дела сделано, теперь нужно убрать обозначение валюты:"
   ]
  },
  {
   "cell_type": "code",
   "execution_count": 175,
   "metadata": {
    "execution": {
     "iopub.execute_input": "2021-07-21T12:01:42.838324Z",
     "iopub.status.busy": "2021-07-21T12:01:42.837590Z",
     "iopub.status.idle": "2021-07-21T12:01:42.865260Z",
     "shell.execute_reply": "2021-07-21T12:01:42.864705Z",
     "shell.execute_reply.started": "2021-07-21T11:20:12.987163Z"
    },
    "papermill": {
     "duration": 0.373036,
     "end_time": "2021-07-21T12:01:42.865386",
     "exception": false,
     "start_time": "2021-07-21T12:01:42.492350",
     "status": "completed"
    },
    "tags": []
   },
   "outputs": [],
   "source": [
    "train['price'] = train['price'].apply(lambda x: str(x).replace('₽', ''))"
   ]
  },
  {
   "cell_type": "markdown",
   "metadata": {
    "papermill": {
     "duration": 0.33936,
     "end_time": "2021-07-21T12:01:43.597275",
     "exception": false,
     "start_time": "2021-07-21T12:01:43.257915",
     "status": "completed"
    },
    "tags": []
   },
   "source": [
    "Еще раз проверим:"
   ]
  },
  {
   "cell_type": "code",
   "execution_count": 176,
   "metadata": {
    "execution": {
     "iopub.execute_input": "2021-07-21T12:01:44.301537Z",
     "iopub.status.busy": "2021-07-21T12:01:44.300753Z",
     "iopub.status.idle": "2021-07-21T12:01:44.307074Z",
     "shell.execute_reply": "2021-07-21T12:01:44.306344Z",
     "shell.execute_reply.started": "2021-07-21T11:20:13.013905Z"
    },
    "papermill": {
     "duration": 0.36117,
     "end_time": "2021-07-21T12:01:44.307199",
     "exception": false,
     "start_time": "2021-07-21T12:01:43.946029",
     "status": "completed"
    },
    "tags": []
   },
   "outputs": [
    {
     "data": {
      "text/plain": [
       "array(['1319000', '1470000', '4447000', ..., '168000', '474799', '336499'],\n",
       "      dtype=object)"
      ]
     },
     "execution_count": 176,
     "metadata": {},
     "output_type": "execute_result"
    }
   ],
   "source": [
    "train.price.unique()"
   ]
  },
  {
   "cell_type": "markdown",
   "metadata": {
    "papermill": {
     "duration": 0.352331,
     "end_time": "2021-07-21T12:01:44.999397",
     "exception": false,
     "start_time": "2021-07-21T12:01:44.647066",
     "status": "completed"
    },
    "tags": []
   },
   "source": [
    "Весь мусор удален, теперь приведем столбец к числовому формату:"
   ]
  },
  {
   "cell_type": "code",
   "execution_count": 177,
   "metadata": {
    "execution": {
     "iopub.execute_input": "2021-07-21T12:01:45.690434Z",
     "iopub.status.busy": "2021-07-21T12:01:45.679690Z",
     "iopub.status.idle": "2021-07-21T12:01:45.726287Z",
     "shell.execute_reply": "2021-07-21T12:01:45.725643Z",
     "shell.execute_reply.started": "2021-07-21T11:20:13.022905Z"
    },
    "papermill": {
     "duration": 0.388823,
     "end_time": "2021-07-21T12:01:45.726422",
     "exception": false,
     "start_time": "2021-07-21T12:01:45.337599",
     "status": "completed"
    },
    "tags": []
   },
   "outputs": [],
   "source": [
    "train['price'] = train['price'].apply(lambda x: int(x))"
   ]
  },
  {
   "cell_type": "markdown",
   "metadata": {
    "papermill": {
     "duration": 0.34556,
     "end_time": "2021-07-21T12:01:46.413924",
     "exception": false,
     "start_time": "2021-07-21T12:01:46.068364",
     "status": "completed"
    },
    "tags": []
   },
   "source": [
    "И снова проверим:"
   ]
  },
  {
   "cell_type": "code",
   "execution_count": 178,
   "metadata": {
    "execution": {
     "iopub.execute_input": "2021-07-21T12:01:47.107143Z",
     "iopub.status.busy": "2021-07-21T12:01:47.104583Z",
     "iopub.status.idle": "2021-07-21T12:01:47.112751Z",
     "shell.execute_reply": "2021-07-21T12:01:47.112006Z",
     "shell.execute_reply.started": "2021-07-21T11:20:13.063353Z"
    },
    "papermill": {
     "duration": 0.357902,
     "end_time": "2021-07-21T12:01:47.112934",
     "exception": false,
     "start_time": "2021-07-21T12:01:46.755032",
     "status": "completed"
    },
    "tags": []
   },
   "outputs": [
    {
     "data": {
      "text/plain": [
       "array([1319000, 1470000, 4447000, ...,  168000,  474799,  336499])"
      ]
     },
     "execution_count": 178,
     "metadata": {},
     "output_type": "execute_result"
    }
   ],
   "source": [
    "train.price.unique()"
   ]
  },
  {
   "cell_type": "markdown",
   "metadata": {
    "papermill": {
     "duration": 0.339136,
     "end_time": "2021-07-21T12:01:47.805272",
     "exception": false,
     "start_time": "2021-07-21T12:01:47.466136",
     "status": "completed"
    },
    "tags": []
   },
   "source": [
    "Все нормально преобразовалось. Посмотрим распределение целевого признака:"
   ]
  },
  {
   "cell_type": "code",
   "execution_count": 179,
   "metadata": {
    "execution": {
     "iopub.execute_input": "2021-07-21T12:01:48.609752Z",
     "iopub.status.busy": "2021-07-21T12:01:48.604543Z",
     "iopub.status.idle": "2021-07-21T12:01:49.009416Z",
     "shell.execute_reply": "2021-07-21T12:01:49.008841Z",
     "shell.execute_reply.started": "2021-07-21T11:20:13.071110Z"
    },
    "papermill": {
     "duration": 0.861422,
     "end_time": "2021-07-21T12:01:49.009546",
     "exception": false,
     "start_time": "2021-07-21T12:01:48.148124",
     "status": "completed"
    },
    "tags": []
   },
   "outputs": [
    {
     "data": {
      "text/plain": [
       "<matplotlib.axes._subplots.AxesSubplot at 0x7f2cd95ede50>"
      ]
     },
     "execution_count": 179,
     "metadata": {},
     "output_type": "execute_result"
    },
    {
     "data": {
      "image/png": "[encoded data removed]",
      "text/plain": [
       "<Figure size 576x396 with 1 Axes>"
      ]
     },
     "metadata": {},
     "output_type": "display_data"
    }
   ],
   "source": [
    "plt.figure()\n",
    "plt.title(f\"Распределение {'price'}\")\n",
    "sns.distplot(train.price, kde=False)"
   ]
  },
  {
   "cell_type": "markdown",
   "metadata": {
    "papermill": {
     "duration": 0.348954,
     "end_time": "2021-07-21T12:01:49.701484",
     "exception": false,
     "start_time": "2021-07-21T12:01:49.352530",
     "status": "completed"
    },
    "tags": []
   },
   "source": [
    "Как мы видим, большинство цен лежит в диапазоне от 0 до 1 млн. рублей. Помимо этого присутствуют выбросы, но они не противоречат здравому смыслу. Теперь рассмотрим влияние некоторых признаков на цену:"
   ]
  },
  {
   "cell_type": "code",
   "execution_count": 180,
   "metadata": {
    "execution": {
     "iopub.execute_input": "2021-07-21T12:01:50.422144Z",
     "iopub.status.busy": "2021-07-21T12:01:50.421399Z",
     "iopub.status.idle": "2021-07-21T12:01:50.979857Z",
     "shell.execute_reply": "2021-07-21T12:01:50.979276Z",
     "shell.execute_reply.started": "2021-07-21T11:20:13.397563Z"
    },
    "papermill": {
     "duration": 0.909245,
     "end_time": "2021-07-21T12:01:50.979995",
     "exception": false,
     "start_time": "2021-07-21T12:01:50.070750",
     "status": "completed"
    },
    "tags": []
   },
   "outputs": [
    {
     "data": {
      "text/plain": [
       "<matplotlib.collections.PathCollection at 0x7f2cde9ee490>"
      ]
     },
     "execution_count": 180,
     "metadata": {},
     "output_type": "execute_result"
    },
    {
     "data": {
      "image/png": "[encoded data removed]",
      "text/plain": [
       "<Figure size 720x1080 with 1 Axes>"
      ]
     },
     "metadata": {},
     "output_type": "display_data"
    }
   ],
   "source": [
    "plt.figure(figsize=(10, 15))\n",
    "plt.scatter((train.price), train.brand_new)"
   ]
  },
  {
   "cell_type": "markdown",
   "metadata": {
    "papermill": {
     "duration": 0.34906,
     "end_time": "2021-07-21T12:01:51.673455",
     "exception": false,
     "start_time": "2021-07-21T12:01:51.324395",
     "status": "completed"
    },
    "tags": []
   },
   "source": [
    "Что логично, чем \"элитнее\" авто, тем больше у него становится разброс цен. Также некоторый вклад вносят и авто, которые мы отнесли к типу other. Возможно там имеются раритеты, которые могут много стоить."
   ]
  },
  {
   "cell_type": "markdown",
   "metadata": {
    "execution": {
     "iopub.execute_input": "2021-07-20T23:43:39.034392Z",
     "iopub.status.busy": "2021-07-20T23:43:39.034004Z",
     "iopub.status.idle": "2021-07-20T23:43:39.041739Z",
     "shell.execute_reply": "2021-07-20T23:43:39.040616Z",
     "shell.execute_reply.started": "2021-07-20T23:43:39.034360Z"
    },
    "papermill": {
     "duration": 0.3585,
     "end_time": "2021-07-21T12:01:52.377270",
     "exception": false,
     "start_time": "2021-07-21T12:01:52.018770",
     "status": "completed"
    },
    "tags": []
   },
   "source": [
    "Теперь посмотрим зависимость цены от привода:"
   ]
  },
  {
   "cell_type": "code",
   "execution_count": 181,
   "metadata": {
    "execution": {
     "iopub.execute_input": "2021-07-21T12:01:53.071573Z",
     "iopub.status.busy": "2021-07-21T12:01:53.070810Z",
     "iopub.status.idle": "2021-07-21T12:01:53.416806Z",
     "shell.execute_reply": "2021-07-21T12:01:53.417391Z",
     "shell.execute_reply.started": "2021-07-21T11:20:13.735887Z"
    },
    "papermill": {
     "duration": 0.695524,
     "end_time": "2021-07-21T12:01:53.417549",
     "exception": false,
     "start_time": "2021-07-21T12:01:52.722025",
     "status": "completed"
    },
    "tags": []
   },
   "outputs": [
    {
     "data": {
      "text/plain": [
       "<matplotlib.collections.PathCollection at 0x7f2cde990850>"
      ]
     },
     "execution_count": 181,
     "metadata": {},
     "output_type": "execute_result"
    },
    {
     "data": {
      "image/png": "[encoded data removed]",
      "text/plain": [
       "<Figure size 720x1080 with 1 Axes>"
      ]
     },
     "metadata": {},
     "output_type": "display_data"
    }
   ],
   "source": [
    "plt.figure(figsize=(10, 15))\n",
    "plt.scatter((train.price), train.Привод)"
   ]
  },
  {
   "cell_type": "markdown",
   "metadata": {
    "papermill": {
     "duration": 0.348675,
     "end_time": "2021-07-21T12:01:54.156961",
     "exception": false,
     "start_time": "2021-07-21T12:01:53.808286",
     "status": "completed"
    },
    "tags": []
   },
   "source": [
    "Наименьший разброс цен наблюдается у переднего привода, а наименее сгруппированным является полный привод. Вероятно это связано с разнообразием различных автомобилей из разных классов, имеющих данную характеристику."
   ]
  },
  {
   "cell_type": "markdown",
   "metadata": {
    "papermill": {
     "duration": 0.349135,
     "end_time": "2021-07-21T12:01:54.861791",
     "exception": false,
     "start_time": "2021-07-21T12:01:54.512656",
     "status": "completed"
    },
    "tags": []
   },
   "source": [
    "Проверим аналогичным способом, как влияет количество владельцев на стоимость автомобиля:"
   ]
  },
  {
   "cell_type": "code",
   "execution_count": 182,
   "metadata": {
    "execution": {
     "iopub.execute_input": "2021-07-21T12:01:55.562218Z",
     "iopub.status.busy": "2021-07-21T12:01:55.561502Z",
     "iopub.status.idle": "2021-07-21T12:01:55.924590Z",
     "shell.execute_reply": "2021-07-21T12:01:55.925135Z",
     "shell.execute_reply.started": "2021-07-21T11:20:14.048227Z"
    },
    "papermill": {
     "duration": 0.710918,
     "end_time": "2021-07-21T12:01:55.925310",
     "exception": false,
     "start_time": "2021-07-21T12:01:55.214392",
     "status": "completed"
    },
    "tags": []
   },
   "outputs": [
    {
     "data": {
      "text/plain": [
       "<matplotlib.collections.PathCollection at 0x7f2cdca5da90>"
      ]
     },
     "execution_count": 182,
     "metadata": {},
     "output_type": "execute_result"
    },
    {
     "data": {
      "image/png": "[encoded data removed]",
      "text/plain": [
       "<Figure size 720x1080 with 1 Axes>"
      ]
     },
     "metadata": {},
     "output_type": "display_data"
    }
   ],
   "source": [
    "plt.figure(figsize=(10, 15))\n",
    "plt.scatter((train.price), train.Владельцы)"
   ]
  },
  {
   "cell_type": "markdown",
   "metadata": {
    "papermill": {
     "duration": 0.344432,
     "end_time": "2021-07-21T12:01:56.617368",
     "exception": false,
     "start_time": "2021-07-21T12:01:56.272936",
     "status": "completed"
    },
    "tags": []
   },
   "source": [
    "Из графика видно, что с увеличением числа владельцев увеличивается сгруппированность у \"меньшей\" стоимости автомобиля."
   ]
  },
  {
   "cell_type": "markdown",
   "metadata": {
    "papermill": {
     "duration": 0.353917,
     "end_time": "2021-07-21T12:01:57.322784",
     "exception": false,
     "start_time": "2021-07-21T12:01:56.968867",
     "status": "completed"
    },
    "tags": []
   },
   "source": [
    "## 3.3. Label Encoding"
   ]
  },
  {
   "cell_type": "markdown",
   "metadata": {
    "papermill": {
     "duration": 0.377728,
     "end_time": "2021-07-21T12:01:58.047228",
     "exception": false,
     "start_time": "2021-07-21T12:01:57.669500",
     "status": "completed"
    },
    "tags": []
   },
   "source": [
    "Для дальнейшей обработки соединим оба фрейма в один:"
   ]
  },
  {
   "cell_type": "code",
   "execution_count": 183,
   "metadata": {
    "execution": {
     "iopub.execute_input": "2021-07-21T12:01:58.764360Z",
     "iopub.status.busy": "2021-07-21T12:01:58.763251Z",
     "iopub.status.idle": "2021-07-21T12:01:58.969853Z",
     "shell.execute_reply": "2021-07-21T12:01:58.969204Z",
     "shell.execute_reply.started": "2021-07-21T11:20:14.392878Z"
    },
    "papermill": {
     "duration": 0.558736,
     "end_time": "2021-07-21T12:01:58.969981",
     "exception": false,
     "start_time": "2021-07-21T12:01:58.411245",
     "status": "completed"
    },
    "tags": []
   },
   "outputs": [],
   "source": [
    "train['sample_'] = 0\n",
    "test['sample_'] = 1\n",
    "df = pd.concat([test, train])\n",
    "df = df.reset_index().drop(['index'], axis=1)"
   ]
  },
  {
   "cell_type": "markdown",
   "metadata": {
    "papermill": {
     "duration": 0.34651,
     "end_time": "2021-07-21T12:01:59.664359",
     "exception": false,
     "start_time": "2021-07-21T12:01:59.317849",
     "status": "completed"
    },
    "tags": []
   },
   "source": [
    "Теперь оставим только выделенные признаки из нашего дата-сета, которые будут нужны для обучения:"
   ]
  },
  {
   "cell_type": "code",
   "execution_count": 184,
   "metadata": {
    "execution": {
     "iopub.execute_input": "2021-07-21T12:02:00.369145Z",
     "iopub.status.busy": "2021-07-21T12:02:00.368394Z",
     "iopub.status.idle": "2021-07-21T12:02:00.385593Z",
     "shell.execute_reply": "2021-07-21T12:02:00.384974Z",
     "shell.execute_reply.started": "2021-07-21T11:20:14.622945Z"
    },
    "papermill": {
     "duration": 0.372179,
     "end_time": "2021-07-21T12:02:00.385725",
     "exception": false,
     "start_time": "2021-07-21T12:02:00.013546",
     "status": "completed"
    },
    "tags": []
   },
   "outputs": [],
   "source": [
    "df = df[cat_cols + bin_cols + num_cols + ['price', 'sample_']]"
   ]
  },
  {
   "cell_type": "markdown",
   "metadata": {
    "papermill": {
     "duration": 0.373816,
     "end_time": "2021-07-21T12:02:01.106559",
     "exception": false,
     "start_time": "2021-07-21T12:02:00.732743",
     "status": "completed"
    },
    "tags": []
   },
   "source": [
    "Проверим результаты:"
   ]
  },
  {
   "cell_type": "code",
   "execution_count": 185,
   "metadata": {
    "execution": {
     "iopub.execute_input": "2021-07-21T12:02:01.812905Z",
     "iopub.status.busy": "2021-07-21T12:02:01.812171Z",
     "iopub.status.idle": "2021-07-21T12:02:01.831408Z",
     "shell.execute_reply": "2021-07-21T12:02:01.832013Z",
     "shell.execute_reply.started": "2021-07-21T11:20:14.645373Z"
    },
    "papermill": {
     "duration": 0.376181,
     "end_time": "2021-07-21T12:02:01.832168",
     "exception": false,
     "start_time": "2021-07-21T12:02:01.455987",
     "status": "completed"
    },
    "tags": []
   },
   "outputs": [
    {
     "data": {
      "text/html": [
       "<div>\n",
       "<style scoped>\n",
       "    .dataframe tbody tr th:only-of-type {\n",
       "        vertical-align: middle;\n",
       "    }\n",
       "\n",
       "    .dataframe tbody tr th {\n",
       "        vertical-align: top;\n",
       "    }\n",
       "\n",
       "    .dataframe thead th {\n",
       "        text-align: right;\n",
       "    }\n",
       "</style>\n",
       "<table border=\"1\" class=\"dataframe\">\n",
       "  <thead>\n",
       "    <tr style=\"text-align: right;\">\n",
       "      <th></th>\n",
       "      <th>bodyType</th>\n",
       "      <th>brand_new</th>\n",
       "      <th>color</th>\n",
       "      <th>fuelType</th>\n",
       "      <th>model_name</th>\n",
       "      <th>numberOfDoors</th>\n",
       "      <th>vehicleTransmission</th>\n",
       "      <th>Владельцы</th>\n",
       "      <th>Привод</th>\n",
       "      <th>ПТС</th>\n",
       "      <th>Руль</th>\n",
       "      <th>Состояние</th>\n",
       "      <th>comment_length</th>\n",
       "      <th>engineDisplacement</th>\n",
       "      <th>enginePower</th>\n",
       "      <th>mileage</th>\n",
       "      <th>model_time</th>\n",
       "      <th>price</th>\n",
       "      <th>sample_</th>\n",
       "    </tr>\n",
       "  </thead>\n",
       "  <tbody>\n",
       "    <tr>\n",
       "      <th>0</th>\n",
       "      <td>лифтбек</td>\n",
       "      <td>NISSAN</td>\n",
       "      <td>синий</td>\n",
       "      <td>бензин</td>\n",
       "      <td>octavia</td>\n",
       "      <td>5</td>\n",
       "      <td>роботизированная</td>\n",
       "      <td>3 или более</td>\n",
       "      <td>передний</td>\n",
       "      <td>Оригинал</td>\n",
       "      <td>Левый</td>\n",
       "      <td>Не требует ремонта</td>\n",
       "      <td>1001</td>\n",
       "      <td>1.2</td>\n",
       "      <td>105</td>\n",
       "      <td>74000</td>\n",
       "      <td>8</td>\n",
       "      <td>NaN</td>\n",
       "      <td>1</td>\n",
       "    </tr>\n",
       "  </tbody>\n",
       "</table>\n",
       "</div>"
      ],
      "text/plain": [
       "  bodyType brand_new  color fuelType model_name  numberOfDoors  \\\n",
       "0  лифтбек    NISSAN  синий   бензин    octavia              5   \n",
       "\n",
       "  vehicleTransmission    Владельцы    Привод       ПТС   Руль  \\\n",
       "0    роботизированная  3 или более  передний  Оригинал  Левый   \n",
       "\n",
       "            Состояние  comment_length  engineDisplacement  enginePower  \\\n",
       "0  Не требует ремонта            1001                 1.2          105   \n",
       "\n",
       "   mileage  model_time  price  sample_  \n",
       "0    74000           8    NaN        1  "
      ]
     },
     "execution_count": 185,
     "metadata": {},
     "output_type": "execute_result"
    }
   ],
   "source": [
    "df.head(1)"
   ]
  },
  {
   "cell_type": "markdown",
   "metadata": {
    "papermill": {
     "duration": 0.360692,
     "end_time": "2021-07-21T12:02:02.553936",
     "exception": false,
     "start_time": "2021-07-21T12:02:02.193244",
     "status": "completed"
    },
    "tags": []
   },
   "source": [
    "Теперь приступим непосредственно к самой обработке столбцов"
   ]
  },
  {
   "cell_type": "markdown",
   "metadata": {
    "papermill": {
     "duration": 0.397935,
     "end_time": "2021-07-21T12:02:03.316391",
     "exception": false,
     "start_time": "2021-07-21T12:02:02.918456",
     "status": "completed"
    },
    "tags": []
   },
   "source": [
    "### 3.3.1. Обработка бинарных признаков"
   ]
  },
  {
   "cell_type": "markdown",
   "metadata": {
    "papermill": {
     "duration": 0.348965,
     "end_time": "2021-07-21T12:02:04.020009",
     "exception": false,
     "start_time": "2021-07-21T12:02:03.671044",
     "status": "completed"
    },
    "tags": []
   },
   "source": [
    "Для начала необходимо преобразовать полученные признаки при помощи Label Encoding'а:"
   ]
  },
  {
   "cell_type": "code",
   "execution_count": 186,
   "metadata": {
    "execution": {
     "iopub.execute_input": "2021-07-21T12:02:04.781806Z",
     "iopub.status.busy": "2021-07-21T12:02:04.781059Z",
     "iopub.status.idle": "2021-07-21T12:02:04.880473Z",
     "shell.execute_reply": "2021-07-21T12:02:04.879864Z",
     "shell.execute_reply.started": "2021-07-21T11:20:14.665052Z"
    },
    "papermill": {
     "duration": 0.460881,
     "end_time": "2021-07-21T12:02:04.880645",
     "exception": false,
     "start_time": "2021-07-21T12:02:04.419764",
     "status": "completed"
    },
    "tags": []
   },
   "outputs": [],
   "source": [
    "label_encoder = LabelEncoder()\n",
    "for col in bin_cols:\n",
    "    df[col] = label_encoder.fit_transform(df[col])"
   ]
  },
  {
   "cell_type": "markdown",
   "metadata": {
    "papermill": {
     "duration": 0.361399,
     "end_time": "2021-07-21T12:02:05.600448",
     "exception": false,
     "start_time": "2021-07-21T12:02:05.239049",
     "status": "completed"
    },
    "tags": []
   },
   "source": [
    "Проверим правильность выполнения:"
   ]
  },
  {
   "cell_type": "code",
   "execution_count": 187,
   "metadata": {
    "execution": {
     "iopub.execute_input": "2021-07-21T12:02:06.308056Z",
     "iopub.status.busy": "2021-07-21T12:02:06.307318Z",
     "iopub.status.idle": "2021-07-21T12:02:06.320321Z",
     "shell.execute_reply": "2021-07-21T12:02:06.319739Z",
     "shell.execute_reply.started": "2021-07-21T11:20:14.739334Z"
    },
    "papermill": {
     "duration": 0.366969,
     "end_time": "2021-07-21T12:02:06.320455",
     "exception": false,
     "start_time": "2021-07-21T12:02:05.953486",
     "status": "completed"
    },
    "tags": []
   },
   "outputs": [
    {
     "data": {
      "text/html": [
       "<div>\n",
       "<style scoped>\n",
       "    .dataframe tbody tr th:only-of-type {\n",
       "        vertical-align: middle;\n",
       "    }\n",
       "\n",
       "    .dataframe tbody tr th {\n",
       "        vertical-align: top;\n",
       "    }\n",
       "\n",
       "    .dataframe thead th {\n",
       "        text-align: right;\n",
       "    }\n",
       "</style>\n",
       "<table border=\"1\" class=\"dataframe\">\n",
       "  <thead>\n",
       "    <tr style=\"text-align: right;\">\n",
       "      <th></th>\n",
       "      <th>ПТС</th>\n",
       "      <th>Руль</th>\n",
       "      <th>Состояние</th>\n",
       "    </tr>\n",
       "  </thead>\n",
       "  <tbody>\n",
       "    <tr>\n",
       "      <th>0</th>\n",
       "      <td>1</td>\n",
       "      <td>0</td>\n",
       "      <td>1</td>\n",
       "    </tr>\n",
       "    <tr>\n",
       "      <th>1</th>\n",
       "      <td>1</td>\n",
       "      <td>0</td>\n",
       "      <td>1</td>\n",
       "    </tr>\n",
       "    <tr>\n",
       "      <th>2</th>\n",
       "      <td>1</td>\n",
       "      <td>0</td>\n",
       "      <td>1</td>\n",
       "    </tr>\n",
       "    <tr>\n",
       "      <th>3</th>\n",
       "      <td>1</td>\n",
       "      <td>0</td>\n",
       "      <td>1</td>\n",
       "    </tr>\n",
       "    <tr>\n",
       "      <th>4</th>\n",
       "      <td>1</td>\n",
       "      <td>0</td>\n",
       "      <td>1</td>\n",
       "    </tr>\n",
       "  </tbody>\n",
       "</table>\n",
       "</div>"
      ],
      "text/plain": [
       "   ПТС  Руль  Состояние\n",
       "0    1     0          1\n",
       "1    1     0          1\n",
       "2    1     0          1\n",
       "3    1     0          1\n",
       "4    1     0          1"
      ]
     },
     "execution_count": 187,
     "metadata": {},
     "output_type": "execute_result"
    }
   ],
   "source": [
    "df[bin_cols].head(5)"
   ]
  },
  {
   "cell_type": "markdown",
   "metadata": {
    "papermill": {
     "duration": 0.351015,
     "end_time": "2021-07-21T12:02:07.021161",
     "exception": false,
     "start_time": "2021-07-21T12:02:06.670146",
     "status": "completed"
    },
    "tags": []
   },
   "source": [
    "Визуально, преобразовалось все хорошо, но проверим дополнительно при помощи value_counts():"
   ]
  },
  {
   "cell_type": "code",
   "execution_count": 188,
   "metadata": {
    "execution": {
     "iopub.execute_input": "2021-07-21T12:02:07.732649Z",
     "iopub.status.busy": "2021-07-21T12:02:07.731964Z",
     "iopub.status.idle": "2021-07-21T12:02:07.748191Z",
     "shell.execute_reply": "2021-07-21T12:02:07.747466Z",
     "shell.execute_reply.started": "2021-07-21T11:20:14.753821Z"
    },
    "papermill": {
     "duration": 0.371124,
     "end_time": "2021-07-21T12:02:07.748319",
     "exception": false,
     "start_time": "2021-07-21T12:02:07.377195",
     "status": "completed"
    },
    "tags": []
   },
   "outputs": [
    {
     "data": {
      "text/plain": [
       "1    63084\n",
       "0     8839\n",
       "Name: ПТС, dtype: int64"
      ]
     },
     "metadata": {},
     "output_type": "display_data"
    },
    {
     "data": {
      "text/plain": [
       "0    69423\n",
       "1     2500\n",
       "Name: Руль, dtype: int64"
      ]
     },
     "metadata": {},
     "output_type": "display_data"
    },
    {
     "data": {
      "text/plain": [
       "1    71921\n",
       "0        2\n",
       "Name: Состояние, dtype: int64"
      ]
     },
     "metadata": {},
     "output_type": "display_data"
    }
   ],
   "source": [
    "for col in bin_cols:\n",
    "    display(df[col].value_counts())"
   ]
  },
  {
   "cell_type": "markdown",
   "metadata": {
    "execution": {
     "iopub.execute_input": "2021-07-21T00:03:04.203180Z",
     "iopub.status.busy": "2021-07-21T00:03:04.202802Z",
     "iopub.status.idle": "2021-07-21T00:03:04.207617Z",
     "shell.execute_reply": "2021-07-21T00:03:04.206421Z",
     "shell.execute_reply.started": "2021-07-21T00:03:04.203148Z"
    },
    "papermill": {
     "duration": 0.349762,
     "end_time": "2021-07-21T12:02:08.444980",
     "exception": false,
     "start_time": "2021-07-21T12:02:08.095218",
     "status": "completed"
    },
    "tags": []
   },
   "source": [
    "Посмотрим значимость признаков:"
   ]
  },
  {
   "cell_type": "code",
   "execution_count": 189,
   "metadata": {
    "execution": {
     "iopub.execute_input": "2021-07-21T12:02:09.151598Z",
     "iopub.status.busy": "2021-07-21T12:02:09.150777Z",
     "iopub.status.idle": "2021-07-21T12:02:09.489037Z",
     "shell.execute_reply": "2021-07-21T12:02:09.488389Z",
     "shell.execute_reply.started": "2021-07-21T11:20:14.770366Z"
    },
    "papermill": {
     "duration": 0.697165,
     "end_time": "2021-07-21T12:02:09.489177",
     "exception": false,
     "start_time": "2021-07-21T12:02:08.792012",
     "status": "completed"
    },
    "tags": []
   },
   "outputs": [
    {
     "data": {
      "text/plain": [
       "<matplotlib.axes._subplots.AxesSubplot at 0x7f2cd93e2490>"
      ]
     },
     "execution_count": 189,
     "metadata": {},
     "output_type": "execute_result"
    },
    {
     "data": {
      "image/png": "[encoded data removed]",
      "text/plain": [
       "<Figure size 576x396 with 1 Axes>"
      ]
     },
     "metadata": {},
     "output_type": "display_data"
    }
   ],
   "source": [
    "imp_cat = Series(mutual_info_classif(df[df.sample_ == 0][bin_cols], df[df.sample_ == 0]['price'],\n",
    "                                     discrete_features=True), index=bin_cols)\n",
    "imp_cat.sort_values(inplace=True)\n",
    "imp_cat.plot(kind='barh')"
   ]
  },
  {
   "cell_type": "markdown",
   "metadata": {
    "papermill": {
     "duration": 0.360161,
     "end_time": "2021-07-21T12:02:10.222354",
     "exception": false,
     "start_time": "2021-07-21T12:02:09.862193",
     "status": "completed"
    },
    "tags": []
   },
   "source": [
    "Наибольшее влияние на цену оказывает признак ПТС, Состояние же вклада почти не делает. Данная логика является странной, ведь большее влияние должно оказывать как раз Состояние транспортного средства. Скорее всего это связано с тем, что у нас фактически отсутствует второе значение данного признака."
   ]
  },
  {
   "cell_type": "markdown",
   "metadata": {
    "papermill": {
     "duration": 0.348128,
     "end_time": "2021-07-21T12:02:10.924438",
     "exception": false,
     "start_time": "2021-07-21T12:02:10.576310",
     "status": "completed"
    },
    "tags": []
   },
   "source": [
    "### 3.3.2. Категориальные признаки"
   ]
  },
  {
   "cell_type": "markdown",
   "metadata": {
    "papermill": {
     "duration": 0.353549,
     "end_time": "2021-07-21T12:02:11.628766",
     "exception": false,
     "start_time": "2021-07-21T12:02:11.275217",
     "status": "completed"
    },
    "tags": []
   },
   "source": [
    "На всякий случай еще раз посмотрим количество уникальных значений для каждого признака из списка:"
   ]
  },
  {
   "cell_type": "code",
   "execution_count": 190,
   "metadata": {
    "execution": {
     "iopub.execute_input": "2021-07-21T12:02:12.416923Z",
     "iopub.status.busy": "2021-07-21T12:02:12.416105Z",
     "iopub.status.idle": "2021-07-21T12:02:12.477707Z",
     "shell.execute_reply": "2021-07-21T12:02:12.478224Z",
     "shell.execute_reply.started": "2021-07-21T11:20:15.034765Z"
    },
    "papermill": {
     "duration": 0.425737,
     "end_time": "2021-07-21T12:02:12.478401",
     "exception": false,
     "start_time": "2021-07-21T12:02:12.052664",
     "status": "completed"
    },
    "tags": []
   },
   "outputs": [
    {
     "name": "stdout",
     "output_type": "stream",
     "text": [
      "bodyType 18\n",
      "brand_new 14\n",
      "color 16\n",
      "fuelType 5\n",
      "model_name 2550\n",
      "numberOfDoors 4\n",
      "vehicleTransmission 4\n",
      "Владельцы 3\n",
      "Привод 3\n"
     ]
    }
   ],
   "source": [
    "for col in cat_cols:\n",
    "    print(f'{col}', df[col].nunique())"
   ]
  },
  {
   "cell_type": "markdown",
   "metadata": {},
   "source": [
    "Видно что уникальных значений для некоторых переменных довольно много:"
   ]
  },
  {
   "cell_type": "markdown",
   "metadata": {
    "papermill": {
     "duration": 0.348133,
     "end_time": "2021-07-21T12:02:14.594616",
     "exception": false,
     "start_time": "2021-07-21T12:02:14.246483",
     "status": "completed"
    },
    "tags": []
   },
   "source": [
    "Теперь перекодируем признаки при помощи cat.codes на основе имеющихся категориальных столбцов:"
   ]
  },
  {
   "cell_type": "code",
   "execution_count": 192,
   "metadata": {
    "execution": {
     "iopub.execute_input": "2021-07-21T12:02:15.319543Z",
     "iopub.status.busy": "2021-07-21T12:02:15.318497Z",
     "iopub.status.idle": "2021-07-21T12:02:15.413769Z",
     "shell.execute_reply": "2021-07-21T12:02:15.412927Z",
     "shell.execute_reply.started": "2021-07-21T11:20:15.093812Z"
    },
    "papermill": {
     "duration": 0.462347,
     "end_time": "2021-07-21T12:02:15.413937",
     "exception": false,
     "start_time": "2021-07-21T12:02:14.951590",
     "status": "completed"
    },
    "tags": []
   },
   "outputs": [],
   "source": [
    "for column in cat_cols:\n",
    "    df[column] = df[column].astype('category').cat.codes"
   ]
  },
  {
   "cell_type": "markdown",
   "metadata": {
    "papermill": {
     "duration": 0.347864,
     "end_time": "2021-07-21T12:02:16.815528",
     "exception": false,
     "start_time": "2021-07-21T12:02:16.467664",
     "status": "completed"
    },
    "tags": []
   },
   "source": [
    "проверим результат:"
   ]
  },
  {
   "cell_type": "code",
   "execution_count": 194,
   "metadata": {
    "execution": {
     "iopub.execute_input": "2021-07-21T12:02:17.537439Z",
     "iopub.status.busy": "2021-07-21T12:02:17.536603Z",
     "iopub.status.idle": "2021-07-21T12:02:17.541313Z",
     "shell.execute_reply": "2021-07-21T12:02:17.540626Z",
     "shell.execute_reply.started": "2021-07-21T11:20:15.190816Z"
    },
    "papermill": {
     "duration": 0.377463,
     "end_time": "2021-07-21T12:02:17.541445",
     "exception": false,
     "start_time": "2021-07-21T12:02:17.163982",
     "status": "completed"
    },
    "tags": []
   },
   "outputs": [
    {
     "data": {
      "text/html": [
       "<div>\n",
       "<style scoped>\n",
       "    .dataframe tbody tr th:only-of-type {\n",
       "        vertical-align: middle;\n",
       "    }\n",
       "\n",
       "    .dataframe tbody tr th {\n",
       "        vertical-align: top;\n",
       "    }\n",
       "\n",
       "    .dataframe thead th {\n",
       "        text-align: right;\n",
       "    }\n",
       "</style>\n",
       "<table border=\"1\" class=\"dataframe\">\n",
       "  <thead>\n",
       "    <tr style=\"text-align: right;\">\n",
       "      <th></th>\n",
       "      <th>bodyType</th>\n",
       "      <th>brand_new</th>\n",
       "      <th>color</th>\n",
       "      <th>fuelType</th>\n",
       "      <th>model_name</th>\n",
       "      <th>numberOfDoors</th>\n",
       "      <th>vehicleTransmission</th>\n",
       "      <th>Владельцы</th>\n",
       "      <th>Привод</th>\n",
       "      <th>ПТС</th>\n",
       "      <th>Руль</th>\n",
       "      <th>Состояние</th>\n",
       "      <th>comment_length</th>\n",
       "      <th>engineDisplacement</th>\n",
       "      <th>enginePower</th>\n",
       "      <th>mileage</th>\n",
       "      <th>model_time</th>\n",
       "      <th>price</th>\n",
       "      <th>sample_</th>\n",
       "    </tr>\n",
       "  </thead>\n",
       "  <tbody>\n",
       "    <tr>\n",
       "      <th>0</th>\n",
       "      <td>6</td>\n",
       "      <td>8</td>\n",
       "      <td>13</td>\n",
       "      <td>0</td>\n",
       "      <td>1749</td>\n",
       "      <td>3</td>\n",
       "      <td>3</td>\n",
       "      <td>2</td>\n",
       "      <td>1</td>\n",
       "      <td>1</td>\n",
       "      <td>0</td>\n",
       "      <td>1</td>\n",
       "      <td>1001</td>\n",
       "      <td>1.2</td>\n",
       "      <td>105</td>\n",
       "      <td>74000</td>\n",
       "      <td>8</td>\n",
       "      <td>NaN</td>\n",
       "      <td>1</td>\n",
       "    </tr>\n",
       "    <tr>\n",
       "      <th>1</th>\n",
       "      <td>6</td>\n",
       "      <td>6</td>\n",
       "      <td>15</td>\n",
       "      <td>0</td>\n",
       "      <td>1749</td>\n",
       "      <td>3</td>\n",
       "      <td>2</td>\n",
       "      <td>0</td>\n",
       "      <td>1</td>\n",
       "      <td>1</td>\n",
       "      <td>0</td>\n",
       "      <td>1</td>\n",
       "      <td>2609</td>\n",
       "      <td>1.6</td>\n",
       "      <td>110</td>\n",
       "      <td>60563</td>\n",
       "      <td>4</td>\n",
       "      <td>NaN</td>\n",
       "      <td>1</td>\n",
       "    </tr>\n",
       "    <tr>\n",
       "      <th>2</th>\n",
       "      <td>6</td>\n",
       "      <td>13</td>\n",
       "      <td>12</td>\n",
       "      <td>0</td>\n",
       "      <td>2154</td>\n",
       "      <td>3</td>\n",
       "      <td>3</td>\n",
       "      <td>0</td>\n",
       "      <td>1</td>\n",
       "      <td>1</td>\n",
       "      <td>0</td>\n",
       "      <td>1</td>\n",
       "      <td>1001</td>\n",
       "      <td>1.8</td>\n",
       "      <td>152</td>\n",
       "      <td>88000</td>\n",
       "      <td>8</td>\n",
       "      <td>NaN</td>\n",
       "      <td>1</td>\n",
       "    </tr>\n",
       "    <tr>\n",
       "      <th>3</th>\n",
       "      <td>6</td>\n",
       "      <td>1</td>\n",
       "      <td>6</td>\n",
       "      <td>0</td>\n",
       "      <td>1749</td>\n",
       "      <td>3</td>\n",
       "      <td>0</td>\n",
       "      <td>0</td>\n",
       "      <td>1</td>\n",
       "      <td>1</td>\n",
       "      <td>0</td>\n",
       "      <td>1</td>\n",
       "      <td>1676</td>\n",
       "      <td>1.6</td>\n",
       "      <td>110</td>\n",
       "      <td>95000</td>\n",
       "      <td>8</td>\n",
       "      <td>NaN</td>\n",
       "      <td>1</td>\n",
       "    </tr>\n",
       "    <tr>\n",
       "      <th>4</th>\n",
       "      <td>6</td>\n",
       "      <td>1</td>\n",
       "      <td>1</td>\n",
       "      <td>0</td>\n",
       "      <td>1749</td>\n",
       "      <td>3</td>\n",
       "      <td>0</td>\n",
       "      <td>0</td>\n",
       "      <td>1</td>\n",
       "      <td>1</td>\n",
       "      <td>0</td>\n",
       "      <td>1</td>\n",
       "      <td>2365</td>\n",
       "      <td>1.8</td>\n",
       "      <td>152</td>\n",
       "      <td>58536</td>\n",
       "      <td>13</td>\n",
       "      <td>NaN</td>\n",
       "      <td>1</td>\n",
       "    </tr>\n",
       "  </tbody>\n",
       "</table>\n",
       "</div>"
      ],
      "text/plain": [
       "   bodyType  brand_new  color  fuelType  model_name  numberOfDoors  \\\n",
       "0         6          8     13         0        1749              3   \n",
       "1         6          6     15         0        1749              3   \n",
       "2         6         13     12         0        2154              3   \n",
       "3         6          1      6         0        1749              3   \n",
       "4         6          1      1         0        1749              3   \n",
       "\n",
       "   vehicleTransmission  Владельцы  Привод  ПТС  Руль  Состояние  \\\n",
       "0                    3          2       1    1     0          1   \n",
       "1                    2          0       1    1     0          1   \n",
       "2                    3          0       1    1     0          1   \n",
       "3                    0          0       1    1     0          1   \n",
       "4                    0          0       1    1     0          1   \n",
       "\n",
       "   comment_length  engineDisplacement  enginePower  mileage  model_time  \\\n",
       "0            1001                 1.2          105    74000           8   \n",
       "1            2609                 1.6          110    60563           4   \n",
       "2            1001                 1.8          152    88000           8   \n",
       "3            1676                 1.6          110    95000           8   \n",
       "4            2365                 1.8          152    58536          13   \n",
       "\n",
       "   price  sample_  \n",
       "0    NaN        1  \n",
       "1    NaN        1  \n",
       "2    NaN        1  \n",
       "3    NaN        1  \n",
       "4    NaN        1  "
      ]
     },
     "execution_count": 194,
     "metadata": {},
     "output_type": "execute_result"
    }
   ],
   "source": [
    "df.head(5)"
   ]
  },
  {
   "cell_type": "markdown",
   "metadata": {
    "papermill": {
     "duration": 0.352278,
     "end_time": "2021-07-21T12:02:18.245688",
     "exception": false,
     "start_time": "2021-07-21T12:02:17.893410",
     "status": "completed"
    },
    "tags": []
   },
   "source": [
    "Все преобразовалось правильно."
   ]
  },
  {
   "cell_type": "markdown",
   "metadata": {},
   "source": [
    "Посмотрим значимость категориальных признаков:"
   ]
  },
  {
   "cell_type": "code",
   "execution_count": null,
   "metadata": {},
   "outputs": [],
   "source": [
    "imp_num = Series(f_classif(df[cat_cols][df['sample_'] == 0], df[df['sample_'] == 0]['price'])[0],\n",
    "                 index=cat_cols)\n",
    "imp_num.sort_values(inplace=True)\n",
    "imp_num.plot(kind='barh')"
   ]
  },
  {
   "cell_type": "markdown",
   "metadata": {},
   "source": [
    "Как мы можем заметить, наибольший вклад осуществляют признаки \"bodyType,Владельцы,fuelType\". В целом, вклад почти всех признаков является большим."
   ]
  },
  {
   "cell_type": "markdown",
   "metadata": {
    "papermill": {
     "duration": 0.34791,
     "end_time": "2021-07-21T12:02:18.941690",
     "exception": false,
     "start_time": "2021-07-21T12:02:18.593780",
     "status": "completed"
    },
    "tags": []
   },
   "source": [
    "### 3.3.3. Числовые признаки"
   ]
  },
  {
   "cell_type": "markdown",
   "metadata": {
    "papermill": {
     "duration": 0.354522,
     "end_time": "2021-07-21T12:02:19.652107",
     "exception": false,
     "start_time": "2021-07-21T12:02:19.297585",
     "status": "completed"
    },
    "tags": []
   },
   "source": [
    "Посмотрим на сами числовые признаки и их корреляцию:"
   ]
  },
  {
   "cell_type": "code",
   "execution_count": 195,
   "metadata": {
    "execution": {
     "iopub.execute_input": "2021-07-21T12:02:20.368138Z",
     "iopub.status.busy": "2021-07-21T12:02:20.367372Z",
     "iopub.status.idle": "2021-07-21T12:02:20.388609Z",
     "shell.execute_reply": "2021-07-21T12:02:20.389141Z",
     "shell.execute_reply.started": "2021-07-21T11:20:15.214930Z"
    },
    "papermill": {
     "duration": 0.388866,
     "end_time": "2021-07-21T12:02:20.389328",
     "exception": false,
     "start_time": "2021-07-21T12:02:20.000462",
     "status": "completed"
    },
    "tags": []
   },
   "outputs": [
    {
     "data": {
      "text/html": [
       "<div>\n",
       "<style scoped>\n",
       "    .dataframe tbody tr th:only-of-type {\n",
       "        vertical-align: middle;\n",
       "    }\n",
       "\n",
       "    .dataframe tbody tr th {\n",
       "        vertical-align: top;\n",
       "    }\n",
       "\n",
       "    .dataframe thead th {\n",
       "        text-align: right;\n",
       "    }\n",
       "</style>\n",
       "<table border=\"1\" class=\"dataframe\">\n",
       "  <thead>\n",
       "    <tr style=\"text-align: right;\">\n",
       "      <th></th>\n",
       "      <th>comment_length</th>\n",
       "      <th>engineDisplacement</th>\n",
       "      <th>enginePower</th>\n",
       "      <th>mileage</th>\n",
       "      <th>model_time</th>\n",
       "      <th>price</th>\n",
       "    </tr>\n",
       "  </thead>\n",
       "  <tbody>\n",
       "    <tr>\n",
       "      <th>34686</th>\n",
       "      <td>1276</td>\n",
       "      <td>2.0</td>\n",
       "      <td>144</td>\n",
       "      <td>69850</td>\n",
       "      <td>8</td>\n",
       "      <td>1319000.0</td>\n",
       "    </tr>\n",
       "    <tr>\n",
       "      <th>34687</th>\n",
       "      <td>411</td>\n",
       "      <td>1.6</td>\n",
       "      <td>156</td>\n",
       "      <td>119075</td>\n",
       "      <td>10</td>\n",
       "      <td>1470000.0</td>\n",
       "    </tr>\n",
       "    <tr>\n",
       "      <th>34688</th>\n",
       "      <td>393</td>\n",
       "      <td>2.0</td>\n",
       "      <td>300</td>\n",
       "      <td>25800</td>\n",
       "      <td>4</td>\n",
       "      <td>4447000.0</td>\n",
       "    </tr>\n",
       "    <tr>\n",
       "      <th>34689</th>\n",
       "      <td>180</td>\n",
       "      <td>2.0</td>\n",
       "      <td>150</td>\n",
       "      <td>56000</td>\n",
       "      <td>6</td>\n",
       "      <td>2069990.0</td>\n",
       "    </tr>\n",
       "    <tr>\n",
       "      <th>34690</th>\n",
       "      <td>2212</td>\n",
       "      <td>3.0</td>\n",
       "      <td>218</td>\n",
       "      <td>80800</td>\n",
       "      <td>8</td>\n",
       "      <td>2760000.0</td>\n",
       "    </tr>\n",
       "    <tr>\n",
       "      <th>...</th>\n",
       "      <td>...</td>\n",
       "      <td>...</td>\n",
       "      <td>...</td>\n",
       "      <td>...</td>\n",
       "      <td>...</td>\n",
       "      <td>...</td>\n",
       "    </tr>\n",
       "    <tr>\n",
       "      <th>71918</th>\n",
       "      <td>162</td>\n",
       "      <td>1.5</td>\n",
       "      <td>115</td>\n",
       "      <td>373317</td>\n",
       "      <td>22</td>\n",
       "      <td>210000.0</td>\n",
       "    </tr>\n",
       "    <tr>\n",
       "      <th>71919</th>\n",
       "      <td>989</td>\n",
       "      <td>1.7</td>\n",
       "      <td>130</td>\n",
       "      <td>311000</td>\n",
       "      <td>19</td>\n",
       "      <td>330000.0</td>\n",
       "    </tr>\n",
       "    <tr>\n",
       "      <th>71920</th>\n",
       "      <td>398</td>\n",
       "      <td>1.8</td>\n",
       "      <td>140</td>\n",
       "      <td>196000</td>\n",
       "      <td>13</td>\n",
       "      <td>430000.0</td>\n",
       "    </tr>\n",
       "    <tr>\n",
       "      <th>71921</th>\n",
       "      <td>208</td>\n",
       "      <td>1.4</td>\n",
       "      <td>90</td>\n",
       "      <td>350000</td>\n",
       "      <td>21</td>\n",
       "      <td>135000.0</td>\n",
       "    </tr>\n",
       "    <tr>\n",
       "      <th>71922</th>\n",
       "      <td>151</td>\n",
       "      <td>2.0</td>\n",
       "      <td>131</td>\n",
       "      <td>90000</td>\n",
       "      <td>26</td>\n",
       "      <td>210000.0</td>\n",
       "    </tr>\n",
       "  </tbody>\n",
       "</table>\n",
       "<p>37237 rows × 6 columns</p>\n",
       "</div>"
      ],
      "text/plain": [
       "       comment_length  engineDisplacement  enginePower  mileage  model_time  \\\n",
       "34686            1276                 2.0          144    69850           8   \n",
       "34687             411                 1.6          156   119075          10   \n",
       "34688             393                 2.0          300    25800           4   \n",
       "34689             180                 2.0          150    56000           6   \n",
       "34690            2212                 3.0          218    80800           8   \n",
       "...               ...                 ...          ...      ...         ...   \n",
       "71918             162                 1.5          115   373317          22   \n",
       "71919             989                 1.7          130   311000          19   \n",
       "71920             398                 1.8          140   196000          13   \n",
       "71921             208                 1.4           90   350000          21   \n",
       "71922             151                 2.0          131    90000          26   \n",
       "\n",
       "           price  \n",
       "34686  1319000.0  \n",
       "34687  1470000.0  \n",
       "34688  4447000.0  \n",
       "34689  2069990.0  \n",
       "34690  2760000.0  \n",
       "...          ...  \n",
       "71918   210000.0  \n",
       "71919   330000.0  \n",
       "71920   430000.0  \n",
       "71921   135000.0  \n",
       "71922   210000.0  \n",
       "\n",
       "[37237 rows x 6 columns]"
      ]
     },
     "execution_count": 195,
     "metadata": {},
     "output_type": "execute_result"
    }
   ],
   "source": [
    "df[df['sample_'] == 0][num_cols + ['price']]"
   ]
  },
  {
   "cell_type": "markdown",
   "metadata": {
    "papermill": {
     "duration": 0.349855,
     "end_time": "2021-07-21T12:02:21.141670",
     "exception": false,
     "start_time": "2021-07-21T12:02:20.791815",
     "status": "completed"
    },
    "tags": []
   },
   "source": [
    "Теперь построим корреляцию:"
   ]
  },
  {
   "cell_type": "code",
   "execution_count": 196,
   "metadata": {
    "execution": {
     "iopub.execute_input": "2021-07-21T12:02:21.849876Z",
     "iopub.status.busy": "2021-07-21T12:02:21.848794Z",
     "iopub.status.idle": "2021-07-21T12:02:22.265978Z",
     "shell.execute_reply": "2021-07-21T12:02:22.266470Z",
     "shell.execute_reply.started": "2021-07-21T11:20:15.240780Z"
    },
    "papermill": {
     "duration": 0.771657,
     "end_time": "2021-07-21T12:02:22.266633",
     "exception": false,
     "start_time": "2021-07-21T12:02:21.494976",
     "status": "completed"
    },
    "tags": []
   },
   "outputs": [
    {
     "data": {
      "text/plain": [
       "<matplotlib.axes._subplots.AxesSubplot at 0x7f2cd9439790>"
      ]
     },
     "execution_count": 196,
     "metadata": {},
     "output_type": "execute_result"
    },
    {
     "data": {
      "image/png": "[encoded data removed]",
      "text/plain": [
       "<Figure size 864x504 with 2 Axes>"
      ]
     },
     "metadata": {},
     "output_type": "display_data"
    }
   ],
   "source": [
    "plt.figure(figsize=(12, 7))\n",
    "sns.heatmap(df[df['sample_'] == 0][num_cols + ['price']].corr(), annot=True)"
   ]
  },
  {
   "cell_type": "markdown",
   "metadata": {
    "papermill": {
     "duration": 0.361842,
     "end_time": "2021-07-21T12:02:22.987434",
     "exception": false,
     "start_time": "2021-07-21T12:02:22.625592",
     "status": "completed"
    },
    "tags": []
   },
   "source": [
    "Мы видим, что наибольшая зависимость между признаками enginePower и engineDisplacement. Так как мощность двигателя является более показательным признаком, оставим его, а признак engineDisplacement удалим из выборки и из num_cols."
   ]
  },
  {
   "cell_type": "code",
   "execution_count": 197,
   "metadata": {
    "execution": {
     "iopub.execute_input": "2021-07-21T12:02:23.724078Z",
     "iopub.status.busy": "2021-07-21T12:02:23.723342Z",
     "iopub.status.idle": "2021-07-21T12:02:23.727760Z",
     "shell.execute_reply": "2021-07-21T12:02:23.728276Z",
     "shell.execute_reply.started": "2021-07-21T11:20:15.592758Z"
    },
    "papermill": {
     "duration": 0.36383,
     "end_time": "2021-07-21T12:02:23.728444",
     "exception": false,
     "start_time": "2021-07-21T12:02:23.364614",
     "status": "completed"
    },
    "tags": []
   },
   "outputs": [],
   "source": [
    "num_cols.remove('engineDisplacement')\n",
    "df = df.drop(['engineDisplacement'], axis=1)"
   ]
  },
  {
   "cell_type": "markdown",
   "metadata": {
    "papermill": {
     "duration": 0.357029,
     "end_time": "2021-07-21T12:02:24.445582",
     "exception": false,
     "start_time": "2021-07-21T12:02:24.088553",
     "status": "completed"
    },
    "tags": []
   },
   "source": [
    "Все остальные признаки находятся в пределах относительной нормы, очень высокой корреляции не наблюдается. Посмотрим на значимость числовых признаков:"
   ]
  },
  {
   "cell_type": "code",
   "execution_count": 198,
   "metadata": {
    "execution": {
     "iopub.execute_input": "2021-07-21T12:02:25.195697Z",
     "iopub.status.busy": "2021-07-21T12:02:25.194749Z",
     "iopub.status.idle": "2021-07-21T12:02:26.198357Z",
     "shell.execute_reply": "2021-07-21T12:02:26.197793Z",
     "shell.execute_reply.started": "2021-07-21T11:20:15.600895Z"
    },
    "papermill": {
     "duration": 1.388546,
     "end_time": "2021-07-21T12:02:26.198489",
     "exception": false,
     "start_time": "2021-07-21T12:02:24.809943",
     "status": "completed"
    },
    "tags": []
   },
   "outputs": [
    {
     "data": {
      "text/plain": [
       "<matplotlib.axes._subplots.AxesSubplot at 0x7f2cd9391550>"
      ]
     },
     "execution_count": 198,
     "metadata": {},
     "output_type": "execute_result"
    },
    {
     "data": {
      "image/png": "[encoded data removed]",
      "text/plain": [
       "<Figure size 576x396 with 1 Axes>"
      ]
     },
     "metadata": {},
     "output_type": "display_data"
    }
   ],
   "source": [
    "imp_num = Series(f_classif(df[num_cols][df['sample_'] == 0], df[df['sample_'] == 0]['price'])[0],\n",
    "                 index=num_cols)\n",
    "imp_num.sort_values(inplace=True)\n",
    "imp_num.plot(kind='barh')"
   ]
  },
  {
   "cell_type": "markdown",
   "metadata": {
    "papermill": {
     "duration": 0.357335,
     "end_time": "2021-07-21T12:02:26.909270",
     "exception": false,
     "start_time": "2021-07-21T12:02:26.551935",
     "status": "completed"
    },
    "tags": []
   },
   "source": [
    "Влияние всех признаков высокое. Наиболее важными признаками являются model_time и enginePower"
   ]
  },
  {
   "cell_type": "markdown",
   "metadata": {
    "papermill": {
     "duration": 0.355763,
     "end_time": "2021-07-21T12:02:27.621133",
     "exception": false,
     "start_time": "2021-07-21T12:02:27.265370",
     "status": "completed"
    },
    "tags": []
   },
   "source": [
    "Теперь, когда преобразование всех признаков закончено, можно перейти к созданию и обучению моделей."
   ]
  },
  {
   "cell_type": "markdown",
   "metadata": {
    "papermill": {
     "duration": 0.400171,
     "end_time": "2021-07-21T12:02:28.375240",
     "exception": false,
     "start_time": "2021-07-21T12:02:27.975069",
     "status": "completed"
    },
    "tags": []
   },
   "source": [
    "# 4. Обучение"
   ]
  },
  {
   "cell_type": "markdown",
   "metadata": {
    "papermill": {
     "duration": 0.359521,
     "end_time": "2021-07-21T12:02:29.093376",
     "exception": false,
     "start_time": "2021-07-21T12:02:28.733855",
     "status": "completed"
    },
    "tags": []
   },
   "source": [
    "## 4.1. Train Split"
   ]
  },
  {
   "cell_type": "markdown",
   "metadata": {
    "papermill": {
     "duration": 0.355216,
     "end_time": "2021-07-21T12:02:29.804805",
     "exception": false,
     "start_time": "2021-07-21T12:02:29.449589",
     "status": "completed"
    },
    "tags": []
   },
   "source": [
    "Разделим наш дата-фрейм обратно на тренировочный и тестовый:"
   ]
  },
  {
   "cell_type": "code",
   "execution_count": 199,
   "metadata": {
    "execution": {
     "iopub.execute_input": "2021-07-21T12:02:30.520921Z",
     "iopub.status.busy": "2021-07-21T12:02:30.519527Z",
     "iopub.status.idle": "2021-07-21T12:02:30.536291Z",
     "shell.execute_reply": "2021-07-21T12:02:30.535576Z",
     "shell.execute_reply.started": "2021-07-21T11:20:16.469572Z"
    },
    "papermill": {
     "duration": 0.378187,
     "end_time": "2021-07-21T12:02:30.536433",
     "exception": false,
     "start_time": "2021-07-21T12:02:30.158246",
     "status": "completed"
    },
    "tags": []
   },
   "outputs": [],
   "source": [
    "df_train = df[df.sample_ == 0]\n",
    "df_test = df[df.sample_ == 1].drop(['price', 'sample_'], axis=1).values"
   ]
  },
  {
   "cell_type": "markdown",
   "metadata": {
    "papermill": {
     "duration": 0.378481,
     "end_time": "2021-07-21T12:02:31.290343",
     "exception": false,
     "start_time": "2021-07-21T12:02:30.911862",
     "status": "completed"
    },
    "tags": []
   },
   "source": [
    "Теперь разделим наш тренировочный дата-сет на обучающую и валидационную выборки:"
   ]
  },
  {
   "cell_type": "code",
   "execution_count": 200,
   "metadata": {
    "execution": {
     "iopub.execute_input": "2021-07-21T12:02:32.013314Z",
     "iopub.status.busy": "2021-07-21T12:02:32.011851Z",
     "iopub.status.idle": "2021-07-21T12:02:32.022119Z",
     "shell.execute_reply": "2021-07-21T12:02:32.021414Z",
     "shell.execute_reply.started": "2021-07-21T11:20:16.488803Z"
    },
    "papermill": {
     "duration": 0.374972,
     "end_time": "2021-07-21T12:02:32.022252",
     "exception": false,
     "start_time": "2021-07-21T12:02:31.647280",
     "status": "completed"
    },
    "tags": []
   },
   "outputs": [],
   "source": [
    "X = df_train.drop(['price', 'sample_'], axis=1)\n",
    "Y = df_train['price']\n",
    "\n",
    "X_train, X_test, y_train, y_test = train_test_split(\n",
    "    X, Y, test_size=VAL_SIZE, random_state=RANDOM_SEED)"
   ]
  },
  {
   "cell_type": "markdown",
   "metadata": {
    "papermill": {
     "duration": 0.351999,
     "end_time": "2021-07-21T12:02:32.729630",
     "exception": false,
     "start_time": "2021-07-21T12:02:32.377631",
     "status": "completed"
    },
    "tags": []
   },
   "source": [
    "## 4.2. Model 1: Создадим \"наивную\" модель \n",
    "Эта модель будет предсказывать среднюю цену по мощности двигателя (enginePower). \n",
    "C ней будем сравнивать другие модели.\n",
    "\n",
    "\n"
   ]
  },
  {
   "cell_type": "code",
   "execution_count": 201,
   "metadata": {
    "execution": {
     "iopub.execute_input": "2021-07-21T12:02:33.456312Z",
     "iopub.status.busy": "2021-07-21T12:02:33.455303Z",
     "iopub.status.idle": "2021-07-21T12:02:33.460612Z",
     "shell.execute_reply": "2021-07-21T12:02:33.460033Z",
     "shell.execute_reply.started": "2021-07-21T11:20:16.503529Z"
    },
    "papermill": {
     "duration": 0.3663,
     "end_time": "2021-07-21T12:02:33.460735",
     "exception": false,
     "start_time": "2021-07-21T12:02:33.094435",
     "status": "completed"
    },
    "tags": []
   },
   "outputs": [],
   "source": [
    "tmp_train = X_train.copy()\n",
    "tmp_train['price'] = y_train"
   ]
  },
  {
   "cell_type": "code",
   "execution_count": 202,
   "metadata": {
    "execution": {
     "iopub.execute_input": "2021-07-21T12:02:34.250137Z",
     "iopub.status.busy": "2021-07-21T12:02:34.249353Z",
     "iopub.status.idle": "2021-07-21T12:02:34.258402Z",
     "shell.execute_reply": "2021-07-21T12:02:34.257423Z",
     "shell.execute_reply.started": "2021-07-21T11:20:16.511544Z"
    },
    "papermill": {
     "duration": 0.44513,
     "end_time": "2021-07-21T12:02:34.258575",
     "exception": false,
     "start_time": "2021-07-21T12:02:33.813445",
     "status": "completed"
    },
    "tags": []
   },
   "outputs": [
    {
     "name": "stdout",
     "output_type": "stream",
     "text": [
      "Точность наивной модели по метрике MAPE: 62.68%\n"
     ]
    }
   ],
   "source": [
    "# Находим median по экземплярам enginepower в трейне и размечаем тест\n",
    "predict = X_test['enginePower'].map(\n",
    "    tmp_train.groupby('enginePower')['price'].median())\n",
    "\n",
    "# оцениваем точность\n",
    "print(\n",
    "    f\"Точность наивной модели по метрике MAPE: {(mape(y_test, predict.values))*100:0.2f}%\")"
   ]
  },
  {
   "cell_type": "markdown",
   "metadata": {
    "papermill": {
     "duration": 0.361369,
     "end_time": "2021-07-21T12:02:34.976467",
     "exception": false,
     "start_time": "2021-07-21T12:02:34.615098",
     "status": "completed"
    },
    "tags": []
   },
   "source": [
    "Получили ужасную метрику. Посмотрим, что получится дальше."
   ]
  },
  {
   "cell_type": "markdown",
   "metadata": {
    "papermill": {
     "duration": 0.355216,
     "end_time": "2021-07-21T12:02:35.694207",
     "exception": false,
     "start_time": "2021-07-21T12:02:35.338991",
     "status": "completed"
    },
    "tags": []
   },
   "source": [
    "## 4.3. Model 2 : CatBoost\n",
    "![](https://pbs.twimg.com/media/DP-jUCyXcAArRTo.png:large)   \n",
    "\n",
    "\n",
    "У нас в данных практически все признаки категориальные. Специально для работы с такими данными была создана очень удобная библиотека CatBoost от Яндекса. [https://catboost.ai](http://)     \n",
    "На данный момент **CatBoost является одной из лучших библиотек для табличных данных!**\n",
    "\n",
    "#### Полезные видео о CatBoost (на русском):\n",
    "* [Доклад про CatBoost](https://youtu.be/9ZrfErvm97M)\n",
    "* [Свежий Туториал от команды CatBoost (практическая часть)](https://youtu.be/wQt4kgAOgV0) "
   ]
  },
  {
   "cell_type": "markdown",
   "metadata": {
    "papermill": {
     "duration": 0.352982,
     "end_time": "2021-07-21T12:02:36.408479",
     "exception": false,
     "start_time": "2021-07-21T12:02:36.055497",
     "status": "completed"
    },
    "tags": []
   },
   "source": [
    "### 4.3.1 Fit"
   ]
  },
  {
   "cell_type": "markdown",
   "metadata": {
    "papermill": {
     "duration": 0.355274,
     "end_time": "2021-07-21T12:02:37.116276",
     "exception": false,
     "start_time": "2021-07-21T12:02:36.761002",
     "status": "completed"
    },
    "tags": []
   },
   "source": [
    "Разделим еще раз на обучающую и валидационную выборки:"
   ]
  },
  {
   "cell_type": "code",
   "execution_count": 203,
   "metadata": {
    "execution": {
     "iopub.execute_input": "2021-07-21T12:02:37.836444Z",
     "iopub.status.busy": "2021-07-21T12:02:37.835316Z",
     "iopub.status.idle": "2021-07-21T12:02:37.849974Z",
     "shell.execute_reply": "2021-07-21T12:02:37.849204Z",
     "shell.execute_reply.started": "2021-07-21T11:20:16.525640Z"
    },
    "papermill": {
     "duration": 0.378617,
     "end_time": "2021-07-21T12:02:37.850107",
     "exception": false,
     "start_time": "2021-07-21T12:02:37.471490",
     "status": "completed"
    },
    "tags": []
   },
   "outputs": [],
   "source": [
    "X = df_train.drop(['price', 'sample_'], axis=1).values\n",
    "Y = df_train['price'].values\n",
    "\n",
    "X_train, X_test, y_train, y_test = train_test_split(\n",
    "    X, Y, test_size=VAL_SIZE, random_state=RANDOM_SEED)"
   ]
  },
  {
   "cell_type": "code",
   "execution_count": 204,
   "metadata": {
    "execution": {
     "iopub.execute_input": "2021-07-21T12:02:38.791886Z",
     "iopub.status.busy": "2021-07-21T12:02:38.728555Z",
     "iopub.status.idle": "2021-07-21T12:03:09.218495Z",
     "shell.execute_reply": "2021-07-21T12:03:09.217742Z",
     "shell.execute_reply.started": "2021-07-21T11:20:16.541365Z"
    },
    "papermill": {
     "duration": 31.013687,
     "end_time": "2021-07-21T12:03:09.218648",
     "exception": false,
     "start_time": "2021-07-21T12:02:38.204961",
     "status": "completed"
    },
    "tags": []
   },
   "outputs": [],
   "source": [
    "model = CatBoostRegressor(iterations=5000,\n",
    "                          random_seed=RANDOM_SEED,\n",
    "                          eval_metric='MAPE',\n",
    "                          custom_metric=['R2', 'MAE'],\n",
    "                          silent=True,\n",
    "                          )\n",
    "model.fit(X_train, y_train,\n",
    "          eval_set=(X_test, y_test),\n",
    "          verbose_eval=0,\n",
    "          use_best_model=True,\n",
    "          )\n",
    "\n",
    "model.save_model('catboost_single_model_baseline.model')"
   ]
  },
  {
   "cell_type": "code",
   "execution_count": 205,
   "metadata": {
    "execution": {
     "iopub.execute_input": "2021-07-21T12:03:09.977815Z",
     "iopub.status.busy": "2021-07-21T12:03:09.976812Z",
     "iopub.status.idle": "2021-07-21T12:03:10.006309Z",
     "shell.execute_reply": "2021-07-21T12:03:10.005066Z",
     "shell.execute_reply.started": "2021-07-21T11:20:43.118602Z"
    },
    "papermill": {
     "duration": 0.426086,
     "end_time": "2021-07-21T12:03:10.006453",
     "exception": false,
     "start_time": "2021-07-21T12:03:09.580367",
     "status": "completed"
    },
    "tags": []
   },
   "outputs": [
    {
     "name": "stdout",
     "output_type": "stream",
     "text": [
      "Точность модели по метрике MAPE: 16.98%\n"
     ]
    }
   ],
   "source": [
    "# оцениваем точность\n",
    "predict = model.predict(X_test)\n",
    "print(f\"Точность модели по метрике MAPE: {(mape(y_test, predict))*100:0.2f}%\")"
   ]
  },
  {
   "cell_type": "markdown",
   "metadata": {
    "papermill": {
     "duration": 0.411834,
     "end_time": "2021-07-21T12:03:10.773527",
     "exception": false,
     "start_time": "2021-07-21T12:03:10.361693",
     "status": "completed"
    },
    "tags": []
   },
   "source": [
    "Уже лучше, чем у наивной модели. Попробуем логарифмировать."
   ]
  },
  {
   "cell_type": "markdown",
   "metadata": {
    "papermill": {
     "duration": 0.352137,
     "end_time": "2021-07-21T12:03:11.485764",
     "exception": false,
     "start_time": "2021-07-21T12:03:11.133627",
     "status": "completed"
    },
    "tags": []
   },
   "source": [
    "### 4.3.2. Log Traget\n",
    "Попробуем взять таргет в логорифм - это позволит уменьшить влияние выбросов на обучение модели (используем для этого np.log и np.exp).    \n"
   ]
  },
  {
   "cell_type": "code",
   "execution_count": 206,
   "metadata": {
    "execution": {
     "iopub.execute_input": "2021-07-21T12:03:12.204204Z",
     "iopub.status.busy": "2021-07-21T12:03:12.202690Z",
     "iopub.status.idle": "2021-07-21T12:03:12.208976Z",
     "shell.execute_reply": "2021-07-21T12:03:12.208361Z",
     "shell.execute_reply.started": "2021-07-21T11:21:20.257720Z"
    },
    "papermill": {
     "duration": 0.368131,
     "end_time": "2021-07-21T12:03:12.209117",
     "exception": false,
     "start_time": "2021-07-21T12:03:11.840986",
     "status": "completed"
    },
    "tags": []
   },
   "outputs": [
    {
     "data": {
      "text/plain": [
       "array([14.38818359, 13.86905132, 15.17391972, ..., 13.73212895,\n",
       "       13.9552725 , 14.96798773])"
      ]
     },
     "execution_count": 206,
     "metadata": {},
     "output_type": "execute_result"
    }
   ],
   "source": [
    "np.log(y_train)"
   ]
  },
  {
   "cell_type": "code",
   "execution_count": 207,
   "metadata": {
    "execution": {
     "iopub.execute_input": "2021-07-21T12:03:12.950491Z",
     "iopub.status.busy": "2021-07-21T12:03:12.949785Z",
     "iopub.status.idle": "2021-07-21T12:03:43.890086Z",
     "shell.execute_reply": "2021-07-21T12:03:43.888877Z",
     "shell.execute_reply.started": "2021-07-21T11:21:21.595690Z"
    },
    "papermill": {
     "duration": 31.318555,
     "end_time": "2021-07-21T12:03:43.890246",
     "exception": false,
     "start_time": "2021-07-21T12:03:12.571691",
     "status": "completed"
    },
    "tags": []
   },
   "outputs": [],
   "source": [
    "model = CatBoostRegressor(iterations=5000,\n",
    "                          random_seed=RANDOM_SEED,\n",
    "                          eval_metric='MAPE',\n",
    "                          custom_metric=['R2', 'MAE'],\n",
    "                          silent=True,\n",
    "                          )\n",
    "model.fit(X_train, np.log(y_train+1),\n",
    "          eval_set=(X_test, np.log(y_test)),\n",
    "          verbose_eval=0,\n",
    "          use_best_model=True,\n",
    "          )\n",
    "\n",
    "model.save_model('catboost_single_model_2_baseline.model')"
   ]
  },
  {
   "cell_type": "code",
   "execution_count": 208,
   "metadata": {
    "execution": {
     "iopub.execute_input": "2021-07-21T12:03:44.646680Z",
     "iopub.status.busy": "2021-07-21T12:03:44.645567Z",
     "iopub.status.idle": "2021-07-21T12:03:44.671336Z",
     "shell.execute_reply": "2021-07-21T12:03:44.670678Z",
     "shell.execute_reply.started": "2021-07-21T11:21:49.718606Z"
    },
    "papermill": {
     "duration": 0.425346,
     "end_time": "2021-07-21T12:03:44.671474",
     "exception": false,
     "start_time": "2021-07-21T12:03:44.246128",
     "status": "completed"
    },
    "tags": []
   },
   "outputs": [
    {
     "name": "stdout",
     "output_type": "stream",
     "text": [
      "Точность модели по метрике MAPE: 14.01%\n"
     ]
    }
   ],
   "source": [
    "predict_test = np.exp(model.predict(X_test))\n",
    "print(\n",
    "    f\"Точность модели по метрике MAPE: {(mape(y_test, predict_test))*100:0.2f}%\")"
   ]
  },
  {
   "cell_type": "markdown",
   "metadata": {
    "papermill": {
     "duration": 0.353076,
     "end_time": "2021-07-21T12:03:45.383515",
     "exception": false,
     "start_time": "2021-07-21T12:03:45.030439",
     "status": "completed"
    },
    "tags": []
   },
   "source": [
    "Точность выросла еще, однако недостаточно. Исследуем другие модели."
   ]
  },
  {
   "cell_type": "markdown",
   "metadata": {
    "papermill": {
     "duration": 0.355875,
     "end_time": "2021-07-21T12:03:46.097136",
     "exception": false,
     "start_time": "2021-07-21T12:03:45.741261",
     "status": "completed"
    },
    "tags": []
   },
   "source": [
    "## 4.4. Другие модели"
   ]
  },
  {
   "cell_type": "markdown",
   "metadata": {
    "papermill": {
     "duration": 0.354094,
     "end_time": "2021-07-21T12:03:46.805397",
     "exception": false,
     "start_time": "2021-07-21T12:03:46.451303",
     "status": "completed"
    },
    "tags": []
   },
   "source": [
    "### 4.4.1. Линейная регрессия"
   ]
  },
  {
   "cell_type": "markdown",
   "metadata": {
    "papermill": {
     "duration": 0.401655,
     "end_time": "2021-07-21T12:03:47.564762",
     "exception": false,
     "start_time": "2021-07-21T12:03:47.163107",
     "status": "completed"
    },
    "tags": []
   },
   "source": [
    "Начнем с самого простого, линейной регрессии:"
   ]
  },
  {
   "cell_type": "code",
   "execution_count": 209,
   "metadata": {
    "execution": {
     "iopub.execute_input": "2021-07-21T12:03:48.281679Z",
     "iopub.status.busy": "2021-07-21T12:03:48.280280Z",
     "iopub.status.idle": "2021-07-21T12:03:48.340477Z",
     "shell.execute_reply": "2021-07-21T12:03:48.341141Z",
     "shell.execute_reply.started": "2021-07-21T11:22:19.553107Z"
    },
    "papermill": {
     "duration": 0.422162,
     "end_time": "2021-07-21T12:03:48.341337",
     "exception": false,
     "start_time": "2021-07-21T12:03:47.919175",
     "status": "completed"
    },
    "tags": []
   },
   "outputs": [
    {
     "name": "stdout",
     "output_type": "stream",
     "text": [
      "Точность модели по метрике MAPE: 28.46%\n"
     ]
    }
   ],
   "source": [
    "linreg = LinearRegression().fit(X_train, np.log(y_train+1))\n",
    "print(\n",
    "    f\"Точность модели по метрике MAPE: {(mape(y_test, np.exp(linreg.predict(X_test))))*100:0.2f}%\")\n",
    "predict_test = np.exp(linreg.predict(X_test))"
   ]
  },
  {
   "cell_type": "markdown",
   "metadata": {
    "papermill": {
     "duration": 0.360649,
     "end_time": "2021-07-21T12:03:49.068009",
     "exception": false,
     "start_time": "2021-07-21T12:03:48.707360",
     "status": "completed"
    },
    "tags": []
   },
   "source": [
    "Точность все еще плохая, возможно дальше будет лучше."
   ]
  },
  {
   "cell_type": "markdown",
   "metadata": {
    "papermill": {
     "duration": 0.362239,
     "end_time": "2021-07-21T12:03:49.792902",
     "exception": false,
     "start_time": "2021-07-21T12:03:49.430663",
     "status": "completed"
    },
    "tags": []
   },
   "source": [
    "### 4.4.2. Градиентный бустинг"
   ]
  },
  {
   "cell_type": "code",
   "execution_count": 210,
   "metadata": {
    "execution": {
     "iopub.execute_input": "2021-07-21T12:03:50.519207Z",
     "iopub.status.busy": "2021-07-21T12:03:50.517768Z",
     "iopub.status.idle": "2021-07-21T12:04:36.326308Z",
     "shell.execute_reply": "2021-07-21T12:04:36.326887Z",
     "shell.execute_reply.started": "2021-07-21T11:22:29.745406Z"
    },
    "papermill": {
     "duration": 46.169942,
     "end_time": "2021-07-21T12:04:36.327066",
     "exception": false,
     "start_time": "2021-07-21T12:03:50.157124",
     "status": "completed"
    },
    "tags": []
   },
   "outputs": [
    {
     "name": "stdout",
     "output_type": "stream",
     "text": [
      "Точность модели по метрике MAPE: 14.48%\n"
     ]
    }
   ],
   "source": [
    "grb = GradientBoostingRegressor(min_samples_split=2, learning_rate=0.03,\n",
    "                                max_depth=10, n_estimators=300, random_state=RANDOM_SEED)\n",
    "grb.fit(X_train, np.log(y_train+1))\n",
    "print(\n",
    "    f\"Точность модели по метрике MAPE: {(mape(y_test, np.exp(grb.predict(X_test))))*100:0.2f}%\")\n",
    "predict_test = np.exp(grb.predict(X_test))"
   ]
  },
  {
   "cell_type": "markdown",
   "metadata": {
    "papermill": {
     "duration": 0.360633,
     "end_time": "2021-07-21T12:04:37.051583",
     "exception": false,
     "start_time": "2021-07-21T12:04:36.690950",
     "status": "completed"
    },
    "tags": []
   },
   "source": [
    "Получили значение, немного большее, чем при catBoost"
   ]
  },
  {
   "cell_type": "markdown",
   "metadata": {
    "papermill": {
     "duration": 0.361339,
     "end_time": "2021-07-21T12:04:37.774238",
     "exception": false,
     "start_time": "2021-07-21T12:04:37.412899",
     "status": "completed"
    },
    "tags": []
   },
   "source": [
    "### 4.4.3. RandomForest"
   ]
  },
  {
   "cell_type": "markdown",
   "metadata": {
    "execution": {
     "iopub.execute_input": "2021-07-21T09:44:01.952176Z",
     "iopub.status.busy": "2021-07-21T09:44:01.951923Z",
     "iopub.status.idle": "2021-07-21T09:44:01.957602Z",
     "shell.execute_reply": "2021-07-21T09:44:01.956416Z",
     "shell.execute_reply.started": "2021-07-21T09:44:01.952151Z"
    },
    "papermill": {
     "duration": 0.411276,
     "end_time": "2021-07-21T12:04:38.545243",
     "exception": false,
     "start_time": "2021-07-21T12:04:38.133967",
     "status": "completed"
    },
    "tags": []
   },
   "source": [
    "Опробуем RandomForest с подбором параметров:"
   ]
  },
  {
   "cell_type": "code",
   "execution_count": 211,
   "metadata": {
    "execution": {
     "iopub.execute_input": "2021-07-21T12:04:39.286334Z",
     "iopub.status.busy": "2021-07-21T12:04:39.285289Z",
     "iopub.status.idle": "2021-07-21T12:04:39.290383Z",
     "shell.execute_reply": "2021-07-21T12:04:39.289693Z",
     "shell.execute_reply.started": "2021-07-21T09:44:13.077615Z"
    },
    "papermill": {
     "duration": 0.370558,
     "end_time": "2021-07-21T12:04:39.290511",
     "exception": false,
     "start_time": "2021-07-21T12:04:38.919953",
     "status": "completed"
    },
    "tags": []
   },
   "outputs": [
    {
     "data": {
      "text/plain": [
       "'\\nrandom_grid = {\\'n_estimators\\': [int(x) for x in np.linspace(start = 200, stop = 2000, num = 10)],\\n               \\'max_features\\': [\\'auto\\', \\'sqrt\\'],\\n               \\'max_depth\\': [int(x) for x in np.linspace(10, 110, num = 11)],\\n               \\'min_samples_split\\': [2, 5, 10],\\n               \\'min_samples_leaf\\': [1, 2, 4],\\n               \\'bootstrap\\': [True, False]}\\n\\nrf = RandomForestRegressor(random_state=RANDOM_SEED)\\nrf_random = RandomizedSearchCV(estimator=rf, param_distributions=random_grid, n_iter=100, \\n                               cv=3, verbose=2, random_state=RANDOM_SEED, n_jobs=-1)\\nrf_random.fit(X_train, np.log(y_train+1))\\nprint(f\"Точность модели по метрике MAPE: {(mape(y_test, np.exp(rf_random.predict(X_test))))*100:0.2f}%\")\\npredict_test = np.exp(rf_random.predict(X_test))\\n#Точность модели по метрике MAPE: 15.88%\\n'"
      ]
     },
     "execution_count": 211,
     "metadata": {},
     "output_type": "execute_result"
    }
   ],
   "source": [
    "\"\"\"\n",
    "random_grid = {'n_estimators': [int(x) for x in np.linspace(start = 200, stop = 2000, num = 10)],\n",
    "               'max_features': ['auto', 'sqrt'],\n",
    "               'max_depth': [int(x) for x in np.linspace(10, 110, num = 11)],\n",
    "               'min_samples_split': [2, 5, 10],\n",
    "               'min_samples_leaf': [1, 2, 4],\n",
    "               'bootstrap': [True, False]}\n",
    "\n",
    "rf = RandomForestRegressor(random_state=RANDOM_SEED)\n",
    "rf_random = RandomizedSearchCV(estimator=rf, param_distributions=random_grid, n_iter=100, \n",
    "                               cv=3, verbose=2, random_state=RANDOM_SEED, n_jobs=-1)\n",
    "rf_random.fit(X_train, np.log(y_train+1))\n",
    "print(f\"Точность модели по метрике MAPE: {(mape(y_test, np.exp(rf_random.predict(X_test))))*100:0.2f}%\")\n",
    "predict_test = np.exp(rf_random.predict(X_test))\n",
    "#Точность модели по метрике MAPE: 15.88%\n",
    "\"\"\""
   ]
  },
  {
   "cell_type": "markdown",
   "metadata": {
    "papermill": {
     "duration": 0.366352,
     "end_time": "2021-07-21T12:04:40.016278",
     "exception": false,
     "start_time": "2021-07-21T12:04:39.649926",
     "status": "completed"
    },
    "tags": []
   },
   "source": [
    "Получили результат метрики 15.88%. Выполняется ужасно долго, около четырех часов. Пока лучший результат показал градиентный бустинг. Попробуем собрать ансамбль."
   ]
  },
  {
   "cell_type": "markdown",
   "metadata": {
    "papermill": {
     "duration": 0.411638,
     "end_time": "2021-07-21T12:04:40.790176",
     "exception": false,
     "start_time": "2021-07-21T12:04:40.378538",
     "status": "completed"
    },
    "tags": []
   },
   "source": [
    "### 4.4.4. Ансамбль алгоритмов"
   ]
  },
  {
   "cell_type": "code",
   "execution_count": 212,
   "metadata": {
    "execution": {
     "iopub.execute_input": "2021-07-21T12:04:41.560491Z",
     "iopub.status.busy": "2021-07-21T12:04:41.559319Z",
     "iopub.status.idle": "2021-07-21T12:09:26.011807Z",
     "shell.execute_reply": "2021-07-21T12:09:26.012509Z",
     "shell.execute_reply.started": "2021-07-21T11:24:39.797859Z"
    },
    "papermill": {
     "duration": 284.835052,
     "end_time": "2021-07-21T12:09:26.012709",
     "exception": false,
     "start_time": "2021-07-21T12:04:41.177657",
     "status": "completed"
    },
    "tags": []
   },
   "outputs": [
    {
     "name": "stdout",
     "output_type": "stream",
     "text": [
      "Точность модели по метрике MAPE: 14.90%\n"
     ]
    }
   ],
   "source": [
    "estimators = [('cb', CatBoostRegressor(iterations=5000,\n",
    "                                       random_seed=RANDOM_SEED,\n",
    "                                       eval_metric='MAPE',\n",
    "                                       custom_metric=['R2', 'MAE'],\n",
    "                                       silent=True)),\n",
    "              ('rf', RandomForestRegressor(n_estimators=500,\n",
    "                                           n_jobs=-1,\n",
    "                                           max_depth=15,\n",
    "                                           max_features='log2',\n",
    "                                           random_state=RANDOM_SEED,\n",
    "                                           oob_score=True)),\n",
    "              ('lr', LinearRegression(normalize=True,\n",
    "                                      n_jobs=-1))]\n",
    "\n",
    "\n",
    "st_ensemble = StackingRegressor(estimators=estimators,\n",
    "                                final_estimator=GradientBoostingRegressor(\n",
    "                                    min_samples_split=2,\n",
    "                                    learning_rate=0.03,\n",
    "                                    max_depth=10,\n",
    "                                    n_estimators=500))\n",
    "\n",
    "\n",
    "st_ensemble.fit(X_train, np.log(y_train+1))\n",
    "\n",
    "\n",
    "print(\n",
    "    f\"Точность модели по метрике MAPE: {(mape(y_test, np.exp(st_ensemble.predict(X_test))))*100:0.2f}%\")\n",
    "predict_test = np.exp(st_ensemble.predict(X_test))"
   ]
  },
  {
   "cell_type": "markdown",
   "metadata": {
    "papermill": {
     "duration": 0.357036,
     "end_time": "2021-07-21T12:09:26.730179",
     "exception": false,
     "start_time": "2021-07-21T12:09:26.373143",
     "status": "completed"
    },
    "tags": []
   },
   "source": [
    "Получили метрику 14,9%. Возможно не очень хорошая метрика связана с выбором параметров либо их качеством обработки. Я не могу дать точного ответа на этот вопрос, как бы ни хотел. Можно было бы провести еще множество исследований, но не остается времени. Последнее, что попробуем - использовать StandardScaler на данных."
   ]
  },
  {
   "cell_type": "markdown",
   "metadata": {
    "papermill": {
     "duration": 0.353991,
     "end_time": "2021-07-21T12:09:27.444777",
     "exception": false,
     "start_time": "2021-07-21T12:09:27.090786",
     "status": "completed"
    },
    "tags": []
   },
   "source": [
    "### 4.4.5. Ансамбль с standardScaler"
   ]
  },
  {
   "cell_type": "code",
   "execution_count": 213,
   "metadata": {
    "execution": {
     "iopub.execute_input": "2021-07-21T12:09:28.171045Z",
     "iopub.status.busy": "2021-07-21T12:09:28.170295Z",
     "iopub.status.idle": "2021-07-21T12:09:28.191583Z",
     "shell.execute_reply": "2021-07-21T12:09:28.190896Z",
     "shell.execute_reply.started": "2021-07-21T11:29:00.520870Z"
    },
    "papermill": {
     "duration": 0.385815,
     "end_time": "2021-07-21T12:09:28.191705",
     "exception": false,
     "start_time": "2021-07-21T12:09:27.805890",
     "status": "completed"
    },
    "tags": []
   },
   "outputs": [],
   "source": [
    "scaler = StandardScaler()\n",
    "X_train = scaler.fit_transform(X_train)\n",
    "X_test = scaler.transform(X_test)\n",
    "y_train = y_train\n",
    "y_test = y_test"
   ]
  },
  {
   "cell_type": "markdown",
   "metadata": {
    "papermill": {
     "duration": 0.358788,
     "end_time": "2021-07-21T12:09:28.960551",
     "exception": false,
     "start_time": "2021-07-21T12:09:28.601763",
     "status": "completed"
    },
    "tags": []
   },
   "source": [
    "Теперь посмотрим, как поведет себя Ансамбль:"
   ]
  },
  {
   "cell_type": "code",
   "execution_count": 214,
   "metadata": {
    "execution": {
     "iopub.execute_input": "2021-07-21T12:09:29.696862Z",
     "iopub.status.busy": "2021-07-21T12:09:29.696104Z",
     "iopub.status.idle": "2021-07-21T12:14:14.072977Z",
     "shell.execute_reply": "2021-07-21T12:14:14.072091Z",
     "shell.execute_reply.started": "2021-07-21T11:29:00.540585Z"
    },
    "papermill": {
     "duration": 284.750023,
     "end_time": "2021-07-21T12:14:14.073140",
     "exception": false,
     "start_time": "2021-07-21T12:09:29.323117",
     "status": "completed"
    },
    "tags": []
   },
   "outputs": [
    {
     "name": "stdout",
     "output_type": "stream",
     "text": [
      "Точность модели по метрике MAPE: 14.95%\n"
     ]
    }
   ],
   "source": [
    "estimators = [('cb', CatBoostRegressor(iterations=5000,\n",
    "                                       random_seed=RANDOM_SEED,\n",
    "                                       eval_metric='MAPE',\n",
    "                                       custom_metric=['R2', 'MAE'],\n",
    "                                       silent=True)),\n",
    "              ('rf', RandomForestRegressor(n_estimators=500,\n",
    "                                           n_jobs=-1,\n",
    "                                           max_depth=15,\n",
    "                                           max_features='log2',\n",
    "                                           random_state=RANDOM_SEED,\n",
    "                                           oob_score=True)),\n",
    "              ('lr', LinearRegression(normalize=True,\n",
    "                                      n_jobs=-1))]\n",
    "\n",
    "\n",
    "st_ensemble = StackingRegressor(estimators=estimators,\n",
    "                                final_estimator=GradientBoostingRegressor(\n",
    "                                    min_samples_split=2,\n",
    "                                    learning_rate=0.03,\n",
    "                                    max_depth=10,\n",
    "                                    n_estimators=500))\n",
    "\n",
    "\n",
    "st_ensemble.fit(X_train, np.log(y_train+1))\n",
    "\n",
    "\n",
    "print(\n",
    "    f\"Точность модели по метрике MAPE: {(mape(y_test, np.exp(st_ensemble.predict(X_test))))*100:0.2f}%\")\n",
    "predict_test = np.exp(st_ensemble.predict(X_test))"
   ]
  },
  {
   "cell_type": "markdown",
   "metadata": {
    "papermill": {
     "duration": 0.370541,
     "end_time": "2021-07-21T12:14:14.801841",
     "exception": false,
     "start_time": "2021-07-21T12:14:14.431300",
     "status": "completed"
    },
    "tags": []
   },
   "source": [
    "Как мы видим, почти ничего не поменялось. Лучшие показатели дал только алгоритм Градиентного Бустинга, но разница не является очень сильной. Я склоняюсь к тому что стоит использовать последний алгоритм для решения задачи, поэтому выберем его в качестве решения и приступим к сабмиту"
   ]
  },
  {
   "cell_type": "markdown",
   "metadata": {
    "papermill": {
     "duration": 0.355205,
     "end_time": "2021-07-21T12:14:15.517298",
     "exception": false,
     "start_time": "2021-07-21T12:14:15.162093",
     "status": "completed"
    },
    "tags": []
   },
   "source": [
    "# Submission"
   ]
  },
  {
   "cell_type": "markdown",
   "metadata": {
    "papermill": {
     "duration": 0.356566,
     "end_time": "2021-07-21T12:14:16.232293",
     "exception": false,
     "start_time": "2021-07-21T12:14:15.875727",
     "status": "completed"
    },
    "tags": []
   },
   "source": [
    "Обучим алгоритм на всей выборке:"
   ]
  },
  {
   "cell_type": "code",
   "execution_count": 215,
   "metadata": {
    "execution": {
     "iopub.execute_input": "2021-07-21T12:14:16.954218Z",
     "iopub.status.busy": "2021-07-21T12:14:16.953488Z",
     "iopub.status.idle": "2021-07-21T12:19:58.755819Z",
     "shell.execute_reply": "2021-07-21T12:19:58.756439Z",
     "shell.execute_reply.started": "2021-07-21T11:44:59.119896Z"
    },
    "papermill": {
     "duration": 342.167268,
     "end_time": "2021-07-21T12:19:58.756604",
     "exception": false,
     "start_time": "2021-07-21T12:14:16.589336",
     "status": "completed"
    },
    "tags": []
   },
   "outputs": [
    {
     "data": {
      "text/plain": [
       "StackingRegressor(estimators=[('cb',\n",
       "                               <catboost.core.CatBoostRegressor object at 0x7f2cd936d9d0>),\n",
       "                              ('rf',\n",
       "                               RandomForestRegressor(max_depth=15,\n",
       "                                                     max_features='log2',\n",
       "                                                     n_estimators=500,\n",
       "                                                     n_jobs=-1, oob_score=True,\n",
       "                                                     random_state=76)),\n",
       "                              ('lr',\n",
       "                               LinearRegression(n_jobs=-1, normalize=True))],\n",
       "                  final_estimator=GradientBoostingRegressor(learning_rate=0.03,\n",
       "                                                            max_depth=10,\n",
       "                                                            n_estimators=500))"
      ]
     },
     "execution_count": 215,
     "metadata": {},
     "output_type": "execute_result"
    }
   ],
   "source": [
    "st_ensemble.fit(X, np.log(Y+1))"
   ]
  },
  {
   "cell_type": "markdown",
   "metadata": {
    "papermill": {
     "duration": 0.377417,
     "end_time": "2021-07-21T12:19:59.534733",
     "exception": false,
     "start_time": "2021-07-21T12:19:59.157316",
     "status": "completed"
    },
    "tags": []
   },
   "source": [
    "Теперь применим к тестовой выборке:"
   ]
  },
  {
   "cell_type": "code",
   "execution_count": 216,
   "metadata": {
    "execution": {
     "iopub.execute_input": "2021-07-21T12:20:00.270173Z",
     "iopub.status.busy": "2021-07-21T12:20:00.269186Z",
     "iopub.status.idle": "2021-07-21T12:20:02.386512Z",
     "shell.execute_reply": "2021-07-21T12:20:02.387098Z",
     "shell.execute_reply.started": "2021-07-21T11:50:03.204079Z"
    },
    "papermill": {
     "duration": 2.488045,
     "end_time": "2021-07-21T12:20:02.387269",
     "exception": false,
     "start_time": "2021-07-21T12:19:59.899224",
     "status": "completed"
    },
    "tags": []
   },
   "outputs": [],
   "source": [
    "# округляем, чтобы были целые числа\n",
    "predict_submission = np.round(\n",
    "    np.exp(st_ensemble.predict(df_test)), -3).astype('int')"
   ]
  },
  {
   "cell_type": "markdown",
   "metadata": {
    "papermill": {
     "duration": 0.377592,
     "end_time": "2021-07-21T12:20:03.138457",
     "exception": false,
     "start_time": "2021-07-21T12:20:02.760865",
     "status": "completed"
    },
    "tags": []
   },
   "source": [
    "Готовим и сохраняем сабмит:"
   ]
  },
  {
   "cell_type": "code",
   "execution_count": 217,
   "metadata": {
    "execution": {
     "iopub.execute_input": "2021-07-21T12:20:03.897506Z",
     "iopub.status.busy": "2021-07-21T12:20:03.896557Z",
     "iopub.status.idle": "2021-07-21T12:20:03.899783Z",
     "shell.execute_reply": "2021-07-21T12:20:03.899133Z",
     "shell.execute_reply.started": "2021-07-21T11:51:09.192537Z"
    },
    "papermill": {
     "duration": 0.389604,
     "end_time": "2021-07-21T12:20:03.899926",
     "exception": false,
     "start_time": "2021-07-21T12:20:03.510322",
     "status": "completed"
    },
    "tags": []
   },
   "outputs": [],
   "source": [
    "VERSION = 3"
   ]
  },
  {
   "cell_type": "code",
   "execution_count": 218,
   "metadata": {
    "execution": {
     "iopub.execute_input": "2021-07-21T12:20:04.618536Z",
     "iopub.status.busy": "2021-07-21T12:20:04.617838Z",
     "iopub.status.idle": "2021-07-21T12:20:05.042297Z",
     "shell.execute_reply": "2021-07-21T12:20:05.042855Z",
     "shell.execute_reply.started": "2021-07-21T11:51:10.911468Z"
    },
    "papermill": {
     "duration": 0.786952,
     "end_time": "2021-07-21T12:20:05.043037",
     "exception": false,
     "start_time": "2021-07-21T12:20:04.256085",
     "status": "completed"
    },
    "tags": []
   },
   "outputs": [
    {
     "data": {
      "text/html": [
       "<div>\n",
       "<style scoped>\n",
       "    .dataframe tbody tr th:only-of-type {\n",
       "        vertical-align: middle;\n",
       "    }\n",
       "\n",
       "    .dataframe tbody tr th {\n",
       "        vertical-align: top;\n",
       "    }\n",
       "\n",
       "    .dataframe thead th {\n",
       "        text-align: right;\n",
       "    }\n",
       "</style>\n",
       "<table border=\"1\" class=\"dataframe\">\n",
       "  <thead>\n",
       "    <tr style=\"text-align: right;\">\n",
       "      <th></th>\n",
       "      <th>sell_id</th>\n",
       "      <th>price</th>\n",
       "    </tr>\n",
       "  </thead>\n",
       "  <tbody>\n",
       "    <tr>\n",
       "      <th>0</th>\n",
       "      <td>1100575026</td>\n",
       "      <td>625000</td>\n",
       "    </tr>\n",
       "    <tr>\n",
       "      <th>1</th>\n",
       "      <td>1100549428</td>\n",
       "      <td>1105000</td>\n",
       "    </tr>\n",
       "    <tr>\n",
       "      <th>2</th>\n",
       "      <td>1100658222</td>\n",
       "      <td>920000</td>\n",
       "    </tr>\n",
       "    <tr>\n",
       "      <th>3</th>\n",
       "      <td>1100937408</td>\n",
       "      <td>889000</td>\n",
       "    </tr>\n",
       "    <tr>\n",
       "      <th>4</th>\n",
       "      <td>1101037972</td>\n",
       "      <td>785000</td>\n",
       "    </tr>\n",
       "    <tr>\n",
       "      <th>5</th>\n",
       "      <td>1100912634</td>\n",
       "      <td>626000</td>\n",
       "    </tr>\n",
       "    <tr>\n",
       "      <th>6</th>\n",
       "      <td>1101228730</td>\n",
       "      <td>847000</td>\n",
       "    </tr>\n",
       "    <tr>\n",
       "      <th>7</th>\n",
       "      <td>1100165896</td>\n",
       "      <td>392000</td>\n",
       "    </tr>\n",
       "    <tr>\n",
       "      <th>8</th>\n",
       "      <td>1100768262</td>\n",
       "      <td>1635000</td>\n",
       "    </tr>\n",
       "    <tr>\n",
       "      <th>9</th>\n",
       "      <td>1101218501</td>\n",
       "      <td>659000</td>\n",
       "    </tr>\n",
       "  </tbody>\n",
       "</table>\n",
       "</div>"
      ],
      "text/plain": [
       "      sell_id    price\n",
       "0  1100575026   625000\n",
       "1  1100549428  1105000\n",
       "2  1100658222   920000\n",
       "3  1100937408   889000\n",
       "4  1101037972   785000\n",
       "5  1100912634   626000\n",
       "6  1101228730   847000\n",
       "7  1100165896   392000\n",
       "8  1100768262  1635000\n",
       "9  1101218501   659000"
      ]
     },
     "execution_count": 218,
     "metadata": {},
     "output_type": "execute_result"
    }
   ],
   "source": [
    "sample_submission['price'] = predict_submission\n",
    "sample_submission.to_csv(f'submission_2_v{VERSION}.csv', index=False)\n",
    "sample_submission.head(10)"
   ]
  },
  {
   "cell_type": "markdown",
   "metadata": {
    "papermill": {
     "duration": 0.360605,
     "end_time": "2021-07-21T12:20:05.768815",
     "exception": false,
     "start_time": "2021-07-21T12:20:05.408210",
     "status": "completed"
    },
    "tags": []
   },
   "source": [
    "В итоге получили **MAPE 22%**!"
   ]
  },
  {
   "cell_type": "markdown",
   "metadata": {
    "papermill": {
     "duration": 0.367025,
     "end_time": "2021-07-21T12:20:06.497185",
     "exception": false,
     "start_time": "2021-07-21T12:20:06.130160",
     "status": "completed"
    },
    "tags": []
   },
   "source": [
    "Вероятно, признаки, которые мы подобрали не дают достоверного качества при обучении. Либо данных оказалось слишком мало, чтобы нормально обучить. Вариантов может быть очень много, но результат заключается в том, что нам удалось немного улучшить метрику ( Я честно постарался бы сделать это еще лучше, но не осталось времени.). В дальнейшем - стоит попробовать использовать иные преобразования категориальных признаков, возможно выделить большее их количество. А так, как результат мы получили разницу в метрике на тренировочной выборке и тестовой в ~7%. Как напутствие самому себе хочу отметить, что стоит выделять большее количество различных признаков. Возможно они смогли бы сыграть важную роль."
   ]
  },
  {
   "cell_type": "markdown",
   "metadata": {
    "papermill": {
     "duration": 0.366712,
     "end_time": "2021-07-21T12:20:07.221550",
     "exception": false,
     "start_time": "2021-07-21T12:20:06.854838",
     "status": "completed"
    },
    "tags": []
   },
   "source": [
    "# What's next?\n",
    "Или что еще можно сделать, чтоб улучшить результат:\n",
    "\n",
    "* Спарсить свежие данные \n",
    "* Посмотреть, что можно извлечь из признаков или как еще можно обработать признаки\n",
    "* Сгенерировать новые признаки\n",
    "* Попробовать подобрать параметры модели\n",
    "* Попробовать другие алгоритмы и библиотеки ML\n",
    "* Сделать Ансамбль моделей, Blending, Stacking"
   ]
  },
  {
   "cell_type": "code",
   "execution_count": null,
   "metadata": {
    "papermill": {
     "duration": 0.357472,
     "end_time": "2021-07-21T12:20:07.993186",
     "exception": false,
     "start_time": "2021-07-21T12:20:07.635714",
     "status": "completed"
    },
    "tags": []
   },
   "outputs": [],
   "source": []
  },
  {
   "cell_type": "code",
   "execution_count": null,
   "metadata": {
    "papermill": {
     "duration": 0.358443,
     "end_time": "2021-07-21T12:20:08.713958",
     "exception": false,
     "start_time": "2021-07-21T12:20:08.355515",
     "status": "completed"
    },
    "tags": []
   },
   "outputs": [],
   "source": []
  },
  {
   "cell_type": "code",
   "execution_count": null,
   "metadata": {
    "papermill": {
     "duration": 0.367996,
     "end_time": "2021-07-21T12:20:09.462654",
     "exception": false,
     "start_time": "2021-07-21T12:20:09.094658",
     "status": "completed"
    },
    "tags": []
   },
   "outputs": [],
   "source": []
  }
 ],
 "metadata": {
  "kernelspec": {
   "display_name": "Python 3",
   "language": "python",
   "name": "python3"
  },
  "language_info": {
   "codemirror_mode": {
    "name": "ipython",
    "version": 3
   },
   "file_extension": ".py",
   "mimetype": "text/x-python",
   "name": "python",
   "nbconvert_exporter": "python",
   "pygments_lexer": "ipython3",
   "version": "3.8.3"
  },
  "papermill": {
   "duration": 1360.04705,
   "end_time": "2021-07-21T12:20:09.934011",
   "environment_variables": {},
   "exception": null,
   "input_path": "__notebook__.ipynb",
   "output_path": "__notebook__.ipynb",
   "parameters": {},
   "start_time": "2021-07-21T11:57:29.886961",
   "version": "2.1.0"
  }
 },
 "nbformat": 4,
 "nbformat_minor": 4
}
