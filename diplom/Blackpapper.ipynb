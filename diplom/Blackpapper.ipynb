{
 "cells": [
  {
   "cell_type": "markdown",
   "metadata": {},
   "source": [
    "# Introdution"
   ]
  },
  {
   "cell_type": "markdown",
   "metadata": {},
   "source": [
    "Основной целью этого проекта является выбор модели для прогноза стоимости настольных игр.\n",
    "\n",
    "Основной метрикой, на которую опирается проект выбрана МАРЕ, так как она наиболее наглядно показывает среднюю погрешность в процентах при определении стоимости игр. Вторичными метриками выбраны МАЕ и RMSE для фиксирования погрешностей при предсказаниях.\n",
    "\n",
    "Задачи, которые необходимо выполнить для достижения цели:\n",
    "1. Парсинг данных для обучения\n",
    "2. Очистка данных\n",
    "3. Feature engeneering\n",
    "4. Исследование моделей\n",
    "5. Выбор модели для решения поставленной задачи\n",
    "\n",
    "Необходимо сразу обратить внимание, что для обучения был проведен парсинг двух дата-сетов:**книги** и **настольные игры**\n",
    "Дата-сет с книгами был выбран для того, чтобы проверить как себя будут вести модели, если данных будет в несколько раз больше, чем в \"настольных играх\".\n",
    "\n",
    "С каждым из дата-сетов будут проведены отдельные исследования. В дальнейшем есть идея использовать книги для предварительного обучения.\n",
    "\n"
   ]
  },
  {
   "cell_type": "markdown",
   "metadata": {},
   "source": [
    "# Import"
   ]
  },
  {
   "cell_type": "code",
   "execution_count": 1,
   "metadata": {
    "_cell_guid": "b1076dfc-b9ad-4769-8c92-a6c4dae69d19",
    "_uuid": "8f2839f25d086af736a60e9eeb907d3b93b6e0e5",
    "execution": {
     "iopub.execute_input": "2022-05-17T15:41:33.286713Z",
     "iopub.status.busy": "2022-05-17T15:41:33.286123Z",
     "iopub.status.idle": "2022-05-17T15:42:06.462794Z",
     "shell.execute_reply": "2022-05-17T15:42:06.461959Z",
     "shell.execute_reply.started": "2022-05-17T15:41:33.286615Z"
    }
   },
   "outputs": [],
   "source": [
    "!pip install tensorflow == 2.3\n",
    "!pip install pymorphy2\n",
    "!pip install pymorphy2-dicts\n",
    "!pip install pytorch-tabnet"
   ]
  },
  {
   "cell_type": "code",
   "execution_count": 2,
   "metadata": {
    "execution": {
     "iopub.execute_input": "2022-05-17T15:42:06.465674Z",
     "iopub.status.busy": "2022-05-17T15:42:06.465373Z",
     "iopub.status.idle": "2022-05-17T15:42:15.905960Z",
     "shell.execute_reply": "2022-05-17T15:42:15.905216Z",
     "shell.execute_reply.started": "2022-05-17T15:42:06.465634Z"
    }
   },
   "outputs": [],
   "source": [
    "# This Python 3 environment comes with many helpful analytics libraries installed\n",
    "# It is defined by the kaggle/python Docker image: https://github.com/kaggle/docker-python\n",
    "# For example, here's several helpful packages to load\n",
    "\n",
    "import seaborn as sns\n",
    "import random\n",
    "import numpy as np  # linear algebra\n",
    "import pandas as pd  # data processing, CSV file I/O (e.g. pd.read_csv)\n",
    "import os\n",
    "import sys\n",
    "import PIL\n",
    "import cv2\n",
    "import re\n",
    "import pymorphy2\n",
    "import math\n",
    "from nltk.corpus import stopwords\n",
    "\n",
    "# Input data files are available in the read-only \"../input/\" directory\n",
    "# For example, running this (by clicking run or pressing Shift+Enter) will list all files under the input directory\n",
    "\n",
    "from sklearn.ensemble import RandomForestRegressor\n",
    "from catboost import CatBoostRegressor\n",
    "from sklearn.model_selection import train_test_split, KFold\n",
    "from sklearn.linear_model import LinearRegression\n",
    "from sklearn.preprocessing import MinMaxScaler\n",
    "from sklearn.preprocessing import RobustScaler\n",
    "from sklearn.preprocessing import StandardScaler\n",
    "from sklearn.metrics import mean_squared_error\n",
    "\n",
    "# pytorch\n",
    "from pytorch_tabnet.tab_model import TabNetRegressor\n",
    "from pytorch_tabnet.metrics import Metric\n",
    "# # keras\n",
    "import tensorflow as tf\n",
    "import tensorflow.keras.layers as L\n",
    "from tensorflow.keras import regularizers\n",
    "from tensorflow.keras.models import Model, Sequential\n",
    "from tensorflow.keras.preprocessing.text import Tokenizer\n",
    "from tensorflow.keras.preprocessing import sequence\n",
    "from tensorflow.keras.callbacks import ModelCheckpoint, EarlyStopping, ReduceLROnPlateau\n",
    "from tensorflow.keras.callbacks import *\n",
    "from tensorflow.keras.optimizers.schedules import *\n",
    "import albumentations as a\n",
    "\n",
    "# plt\n",
    "import matplotlib.pyplot as plt\n",
    "# увеличим дефолтный размер графиков\n",
    "from pylab import rcParams\n",
    "rcParams['figure.figsize'] = 10, 5\n",
    "# графики в svg выглядят более четкими\n",
    "%config InlineBackend.figure_format = 'svg'\n",
    "%matplotlib inline"
   ]
  },
  {
   "cell_type": "markdown",
   "metadata": {},
   "source": [
    "## Метрики МАЕ и МАРЕ"
   ]
  },
  {
   "cell_type": "markdown",
   "metadata": {},
   "source": [
    "Метрика MAPE"
   ]
  },
  {
   "cell_type": "code",
   "execution_count": 3,
   "metadata": {
    "execution": {
     "iopub.execute_input": "2022-05-17T15:42:15.907575Z",
     "iopub.status.busy": "2022-05-17T15:42:15.907308Z",
     "iopub.status.idle": "2022-05-17T15:42:15.911475Z",
     "shell.execute_reply": "2022-05-17T15:42:15.910858Z",
     "shell.execute_reply.started": "2022-05-17T15:42:15.907528Z"
    }
   },
   "outputs": [],
   "source": [
    "def mape(y_true, y_pred):\n",
    "    return np.mean(np.abs((y_pred-y_true)/y_true))"
   ]
  },
  {
   "cell_type": "markdown",
   "metadata": {},
   "source": [
    "Метрика MAE:"
   ]
  },
  {
   "cell_type": "code",
   "execution_count": 4,
   "metadata": {
    "execution": {
     "iopub.execute_input": "2022-05-17T15:42:15.913623Z",
     "iopub.status.busy": "2022-05-17T15:42:15.913213Z",
     "iopub.status.idle": "2022-05-17T15:42:15.933829Z",
     "shell.execute_reply": "2022-05-17T15:42:15.933010Z",
     "shell.execute_reply.started": "2022-05-17T15:42:15.913589Z"
    }
   },
   "outputs": [],
   "source": [
    "def mae(y_true, y_pred):\n",
    "    return np.mean(np.abs(y_pred-y_true))"
   ]
  },
  {
   "cell_type": "markdown",
   "metadata": {},
   "source": [
    "Метрика rmse ( нужна для baseline'a):"
   ]
  },
  {
   "cell_type": "code",
   "execution_count": 5,
   "metadata": {
    "execution": {
     "iopub.execute_input": "2022-05-17T15:42:15.935743Z",
     "iopub.status.busy": "2022-05-17T15:42:15.935410Z",
     "iopub.status.idle": "2022-05-17T15:42:15.942461Z",
     "shell.execute_reply": "2022-05-17T15:42:15.941776Z",
     "shell.execute_reply.started": "2022-05-17T15:42:15.935706Z"
    }
   },
   "outputs": [],
   "source": [
    "def rmse(y_true, y_pred):\n",
    "    return np.sqrt(np.mean((y_true - y_pred) ** 2))"
   ]
  },
  {
   "cell_type": "markdown",
   "metadata": {},
   "source": [
    "Фиксируем рандом сид"
   ]
  },
  {
   "cell_type": "code",
   "execution_count": 6,
   "metadata": {
    "execution": {
     "iopub.execute_input": "2022-05-17T15:42:15.944303Z",
     "iopub.status.busy": "2022-05-17T15:42:15.944052Z",
     "iopub.status.idle": "2022-05-17T15:42:15.952400Z",
     "shell.execute_reply": "2022-05-17T15:42:15.951610Z",
     "shell.execute_reply.started": "2022-05-17T15:42:15.944270Z"
    }
   },
   "outputs": [],
   "source": [
    "RANDOM_SEED = 42\n",
    "np.random.seed(RANDOM_SEED)"
   ]
  },
  {
   "cell_type": "markdown",
   "metadata": {},
   "source": [
    "Подгружаем дата-сеты для обучения: Книги и настольные игры:"
   ]
  },
  {
   "cell_type": "code",
   "execution_count": 7,
   "metadata": {
    "execution": {
     "iopub.execute_input": "2022-05-17T15:42:15.954121Z",
     "iopub.status.busy": "2022-05-17T15:42:15.953810Z",
     "iopub.status.idle": "2022-05-17T15:42:16.802588Z",
     "shell.execute_reply": "2022-05-17T15:42:16.801831Z",
     "shell.execute_reply.started": "2022-05-17T15:42:15.954085Z"
    }
   },
   "outputs": [],
   "source": [
    "DATA_DIR = '../input/books-for-pretrain/'\n",
    "data = pd.read_csv(DATA_DIR + 'books_df.csv')"
   ]
  },
  {
   "cell_type": "code",
   "execution_count": 8,
   "metadata": {
    "execution": {
     "iopub.execute_input": "2022-05-17T15:42:16.804315Z",
     "iopub.status.busy": "2022-05-17T15:42:16.804051Z",
     "iopub.status.idle": "2022-05-17T15:42:16.885163Z",
     "shell.execute_reply": "2022-05-17T15:42:16.884466Z",
     "shell.execute_reply.started": "2022-05-17T15:42:16.804269Z"
    }
   },
   "outputs": [],
   "source": [
    "DATA_DIR1 = '../input/tabletop-games/'\n",
    "data_games = pd.read_csv(DATA_DIR1 + 'games_hg.csv')"
   ]
  },
  {
   "cell_type": "markdown",
   "metadata": {},
   "source": [
    "Теперь приступим к изучению дата-сетов и моделей."
   ]
  },
  {
   "cell_type": "markdown",
   "metadata": {},
   "source": [
    "# Первый дата-сет (книги)"
   ]
  },
  {
   "cell_type": "markdown",
   "metadata": {},
   "source": [
    "Первый дата-сет содержит в себе следующую информацию:"
   ]
  },
  {
   "cell_type": "code",
   "execution_count": 9,
   "metadata": {
    "execution": {
     "iopub.execute_input": "2022-05-17T15:42:16.886904Z",
     "iopub.status.busy": "2022-05-17T15:42:16.886648Z",
     "iopub.status.idle": "2022-05-17T15:42:16.907119Z",
     "shell.execute_reply": "2022-05-17T15:42:16.906447Z",
     "shell.execute_reply.started": "2022-05-17T15:42:16.886869Z"
    }
   },
   "outputs": [],
   "source": [
    "data.head()"
   ]
  },
  {
   "cell_type": "markdown",
   "metadata": {},
   "source": [
    "Как видно, данные засорены различным мусором. Проведем предварительную очистку и обработку, необходимые для дальнейшей работы с дата-сетом."
   ]
  },
  {
   "cell_type": "markdown",
   "metadata": {},
   "source": [
    "# Очистка и обработка данных"
   ]
  },
  {
   "cell_type": "markdown",
   "metadata": {},
   "source": [
    "Удалим мусор из ячеек:"
   ]
  },
  {
   "cell_type": "code",
   "execution_count": 10,
   "metadata": {
    "execution": {
     "iopub.execute_input": "2022-05-17T15:42:16.910783Z",
     "iopub.status.busy": "2022-05-17T15:42:16.910566Z",
     "iopub.status.idle": "2022-05-17T15:42:17.060740Z",
     "shell.execute_reply": "2022-05-17T15:42:17.059835Z",
     "shell.execute_reply.started": "2022-05-17T15:42:16.910757Z"
    }
   },
   "outputs": [],
   "source": [
    "data['description'] = data['description'].apply(lambda x: x.replace('\\r', ''))\n",
    "data['Name'] = data['Name'].apply(lambda x: x.replace('\\r', ''))\n",
    "data['description'] = data['description'].apply(lambda x: x.replace('\\n', ''))\n",
    "data['Name'] = data['Name'].apply(lambda x: x.replace('\\n', ''))\n",
    "data['description'] = data['description'].apply(\n",
    "    lambda x: x.replace('Читать дальше…', ''))"
   ]
  },
  {
   "cell_type": "markdown",
   "metadata": {},
   "source": [
    "Результат:"
   ]
  },
  {
   "cell_type": "code",
   "execution_count": 11,
   "metadata": {
    "execution": {
     "iopub.execute_input": "2022-05-17T15:42:17.062536Z",
     "iopub.status.busy": "2022-05-17T15:42:17.062214Z",
     "iopub.status.idle": "2022-05-17T15:42:17.074728Z",
     "shell.execute_reply": "2022-05-17T15:42:17.073743Z",
     "shell.execute_reply.started": "2022-05-17T15:42:17.062500Z"
    }
   },
   "outputs": [],
   "source": [
    "data.head()"
   ]
  },
  {
   "cell_type": "markdown",
   "metadata": {},
   "source": [
    "# Небольшой Feature engeneering"
   ]
  },
  {
   "cell_type": "markdown",
   "metadata": {},
   "source": [
    "Выделим несколько фич:\n",
    "* Символьная длина описания\n",
    "* Символьная длина названия"
   ]
  },
  {
   "cell_type": "code",
   "execution_count": 12,
   "metadata": {
    "execution": {
     "iopub.execute_input": "2022-05-17T15:42:17.076751Z",
     "iopub.status.busy": "2022-05-17T15:42:17.076259Z",
     "iopub.status.idle": "2022-05-17T15:42:17.095825Z",
     "shell.execute_reply": "2022-05-17T15:42:17.095205Z",
     "shell.execute_reply.started": "2022-05-17T15:42:17.076713Z"
    }
   },
   "outputs": [],
   "source": [
    "data['desc_length'] = data['description'].apply(lambda x: len(x))"
   ]
  },
  {
   "cell_type": "code",
   "execution_count": 13,
   "metadata": {
    "execution": {
     "iopub.execute_input": "2022-05-17T15:42:17.097173Z",
     "iopub.status.busy": "2022-05-17T15:42:17.096869Z",
     "iopub.status.idle": "2022-05-17T15:42:17.116253Z",
     "shell.execute_reply": "2022-05-17T15:42:17.115600Z",
     "shell.execute_reply.started": "2022-05-17T15:42:17.097136Z"
    }
   },
   "outputs": [],
   "source": [
    "data['name_length'] = data['Name'].apply(lambda x: len(x))"
   ]
  },
  {
   "cell_type": "markdown",
   "metadata": {},
   "source": [
    "Результат:"
   ]
  },
  {
   "cell_type": "code",
   "execution_count": 14,
   "metadata": {
    "execution": {
     "iopub.execute_input": "2022-05-17T15:42:17.118154Z",
     "iopub.status.busy": "2022-05-17T15:42:17.117965Z",
     "iopub.status.idle": "2022-05-17T15:42:17.132927Z",
     "shell.execute_reply": "2022-05-17T15:42:17.132199Z",
     "shell.execute_reply.started": "2022-05-17T15:42:17.118131Z"
    }
   },
   "outputs": [],
   "source": [
    "data.head()"
   ]
  },
  {
   "cell_type": "markdown",
   "metadata": {},
   "source": [
    "Посмотрим количество авторов и издательств:"
   ]
  },
  {
   "cell_type": "code",
   "execution_count": 16,
   "metadata": {
    "execution": {
     "iopub.execute_input": "2022-05-17T15:44:18.793624Z",
     "iopub.status.busy": "2022-05-17T15:44:18.793350Z",
     "iopub.status.idle": "2022-05-17T15:44:18.808184Z",
     "shell.execute_reply": "2022-05-17T15:44:18.807510Z",
     "shell.execute_reply.started": "2022-05-17T15:44:18.793595Z"
    }
   },
   "outputs": [],
   "source": [
    "data.author.value_counts()"
   ]
  },
  {
   "cell_type": "code",
   "execution_count": 17,
   "metadata": {
    "execution": {
     "iopub.execute_input": "2022-05-17T15:44:41.709455Z",
     "iopub.status.busy": "2022-05-17T15:44:41.708668Z",
     "iopub.status.idle": "2022-05-17T15:44:41.722105Z",
     "shell.execute_reply": "2022-05-17T15:44:41.721374Z",
     "shell.execute_reply.started": "2022-05-17T15:44:41.709412Z"
    }
   },
   "outputs": [],
   "source": [
    "data.more_info.value_counts()"
   ]
  },
  {
   "cell_type": "markdown",
   "metadata": {},
   "source": [
    "Как видно, издательств и авторов очень много. В дальнейшем они будут отнесены к категориальным признакам."
   ]
  },
  {
   "cell_type": "markdown",
   "metadata": {},
   "source": [
    "Проверим количество строк:"
   ]
  },
  {
   "cell_type": "code",
   "execution_count": 15,
   "metadata": {
    "execution": {
     "iopub.execute_input": "2022-05-17T12:54:05.163879Z",
     "iopub.status.busy": "2022-05-17T12:54:05.163208Z",
     "iopub.status.idle": "2022-05-17T12:54:05.171700Z",
     "shell.execute_reply": "2022-05-17T12:54:05.170902Z",
     "shell.execute_reply.started": "2022-05-17T12:54:05.163842Z"
    }
   },
   "outputs": [],
   "source": [
    "len(data)"
   ]
  },
  {
   "cell_type": "markdown",
   "metadata": {},
   "source": [
    "Проверим пропуски:"
   ]
  },
  {
   "cell_type": "code",
   "execution_count": 16,
   "metadata": {
    "execution": {
     "iopub.execute_input": "2022-05-17T12:54:05.173916Z",
     "iopub.status.busy": "2022-05-17T12:54:05.173278Z",
     "iopub.status.idle": "2022-05-17T12:54:05.201143Z",
     "shell.execute_reply": "2022-05-17T12:54:05.200315Z",
     "shell.execute_reply.started": "2022-05-17T12:54:05.173841Z"
    }
   },
   "outputs": [],
   "source": [
    "data.isna().sum()"
   ]
  },
  {
   "cell_type": "markdown",
   "metadata": {},
   "source": [
    "Удалим мусор из target'a и переведем значения столбца в int:"
   ]
  },
  {
   "cell_type": "code",
   "execution_count": 17,
   "metadata": {
    "execution": {
     "iopub.execute_input": "2022-05-17T12:54:05.203145Z",
     "iopub.status.busy": "2022-05-17T12:54:05.202540Z",
     "iopub.status.idle": "2022-05-17T12:54:05.221107Z",
     "shell.execute_reply": "2022-05-17T12:54:05.220214Z",
     "shell.execute_reply.started": "2022-05-17T12:54:05.203110Z"
    }
   },
   "outputs": [],
   "source": [
    "data['price'] = data['price'].apply(lambda x: x.replace('\\xa0', ''))"
   ]
  },
  {
   "cell_type": "code",
   "execution_count": 18,
   "metadata": {
    "execution": {
     "iopub.execute_input": "2022-05-17T12:54:05.222927Z",
     "iopub.status.busy": "2022-05-17T12:54:05.222584Z",
     "iopub.status.idle": "2022-05-17T12:54:05.252469Z",
     "shell.execute_reply": "2022-05-17T12:54:05.251574Z",
     "shell.execute_reply.started": "2022-05-17T12:54:05.222886Z"
    }
   },
   "outputs": [],
   "source": [
    "data['price'] = data['price'].apply(lambda x: int(x))"
   ]
  },
  {
   "cell_type": "markdown",
   "metadata": {},
   "source": [
    "Предобработка данных:"
   ]
  },
  {
   "cell_type": "code",
   "execution_count": 19,
   "metadata": {
    "execution": {
     "iopub.execute_input": "2022-05-17T12:54:05.254358Z",
     "iopub.status.busy": "2022-05-17T12:54:05.254046Z",
     "iopub.status.idle": "2022-05-17T12:54:05.263193Z",
     "shell.execute_reply": "2022-05-17T12:54:05.262140Z",
     "shell.execute_reply.started": "2022-05-17T12:54:05.254317Z"
    }
   },
   "outputs": [],
   "source": [
    "def preproc_data(df_input):\n",
    "\n",
    "    df_output = df_input.copy()\n",
    "\n",
    "    # Удалим неиспользуемые столбцы\n",
    "    df_output.drop(['description', 'Name'], axis=1, inplace=True)\n",
    "\n",
    "    scaler = StandardScaler()\n",
    "    for column in num_features:\n",
    "        df_output[column] = scaler.fit_transform(df_output[[column]])[:, 0]\n",
    "\n",
    "    #################### Работа с категориальными признаками ############################################################\n",
    "    # Label Encoding\n",
    "    for column in cat_features:\n",
    "        df_output[column], _ = pd.factorize(df_output[column])\n",
    "\n",
    "    # One-Hot Encoding:\n",
    "    df_output = pd.get_dummies(\n",
    "        df_output, columns=cat_features, dummy_na=False)\n",
    "\n",
    "    return df_output"
   ]
  },
  {
   "cell_type": "markdown",
   "metadata": {},
   "source": [
    "Используемые для обучения столбцы:"
   ]
  },
  {
   "cell_type": "code",
   "execution_count": 20,
   "metadata": {
    "execution": {
     "iopub.execute_input": "2022-05-17T12:54:05.265695Z",
     "iopub.status.busy": "2022-05-17T12:54:05.264987Z",
     "iopub.status.idle": "2022-05-17T12:54:05.272597Z",
     "shell.execute_reply": "2022-05-17T12:54:05.271614Z",
     "shell.execute_reply.started": "2022-05-17T12:54:05.265631Z"
    }
   },
   "outputs": [],
   "source": [
    "num_features = ['name_length', 'desc_length']"
   ]
  },
  {
   "cell_type": "code",
   "execution_count": 21,
   "metadata": {
    "execution": {
     "iopub.execute_input": "2022-05-17T12:54:05.274475Z",
     "iopub.status.busy": "2022-05-17T12:54:05.274060Z",
     "iopub.status.idle": "2022-05-17T12:54:05.282504Z",
     "shell.execute_reply": "2022-05-17T12:54:05.281464Z",
     "shell.execute_reply.started": "2022-05-17T12:54:05.274435Z"
    }
   },
   "outputs": [],
   "source": [
    "cat_features = ['author', 'more_info']"
   ]
  },
  {
   "cell_type": "markdown",
   "metadata": {},
   "source": [
    "Результат:"
   ]
  },
  {
   "cell_type": "code",
   "execution_count": 22,
   "metadata": {
    "execution": {
     "iopub.execute_input": "2022-05-17T12:54:05.284983Z",
     "iopub.status.busy": "2022-05-17T12:54:05.284350Z",
     "iopub.status.idle": "2022-05-17T12:54:06.754835Z",
     "shell.execute_reply": "2022-05-17T12:54:06.753324Z",
     "shell.execute_reply.started": "2022-05-17T12:54:05.284845Z"
    }
   },
   "outputs": [],
   "source": [
    "df_preproc = preproc_data(data)\n",
    "df_preproc.sample(10)"
   ]
  },
  {
   "cell_type": "markdown",
   "metadata": {},
   "source": [
    "# Train-test split"
   ]
  },
  {
   "cell_type": "markdown",
   "metadata": {},
   "source": [
    "Обработка и разделение данных на обучающую и валидационную выборки:"
   ]
  },
  {
   "cell_type": "code",
   "execution_count": 23,
   "metadata": {
    "execution": {
     "iopub.execute_input": "2022-05-17T12:54:06.757408Z",
     "iopub.status.busy": "2022-05-17T12:54:06.756746Z",
     "iopub.status.idle": "2022-05-17T12:54:07.142290Z",
     "shell.execute_reply": "2022-05-17T12:54:07.141432Z",
     "shell.execute_reply.started": "2022-05-17T12:54:06.757357Z"
    }
   },
   "outputs": [],
   "source": [
    "y = df_preproc.price.values     # наш таргет\n",
    "X = df_preproc.drop(['price'], axis=1)"
   ]
  },
  {
   "cell_type": "code",
   "execution_count": 24,
   "metadata": {
    "execution": {
     "iopub.execute_input": "2022-05-17T12:54:07.144383Z",
     "iopub.status.busy": "2022-05-17T12:54:07.143617Z",
     "iopub.status.idle": "2022-05-17T12:54:08.885299Z",
     "shell.execute_reply": "2022-05-17T12:54:08.884406Z",
     "shell.execute_reply.started": "2022-05-17T12:54:07.144339Z"
    }
   },
   "outputs": [],
   "source": [
    "X_train, X_test, y_train, y_test = train_test_split(\n",
    "    X, y, test_size=0.25, shuffle=True, random_state=RANDOM_SEED)"
   ]
  },
  {
   "cell_type": "markdown",
   "metadata": {},
   "source": [
    "# Примитивный бейзлайн"
   ]
  },
  {
   "cell_type": "markdown",
   "metadata": {},
   "source": [
    "Обычный бейзлайн, по-большей мере, необходим для того, чтобы понимать, в какую сторону движется исследование моделей для прогнозирования стоимости, то есть является начальной точкой."
   ]
  },
  {
   "cell_type": "code",
   "execution_count": 25,
   "metadata": {
    "execution": {
     "iopub.execute_input": "2022-05-17T12:54:08.886882Z",
     "iopub.status.busy": "2022-05-17T12:54:08.886581Z",
     "iopub.status.idle": "2022-05-17T12:54:08.894991Z",
     "shell.execute_reply": "2022-05-17T12:54:08.894205Z",
     "shell.execute_reply.started": "2022-05-17T12:54:08.886843Z"
    }
   },
   "outputs": [],
   "source": [
    "books_base_mape = (mape(y_test, np.mean(y_train)))*100\n",
    "books_base_mae = mae(y_test, np.mean(y_train))\n",
    "books_base_rmse = rmse(y_test, np.mean(y_train))"
   ]
  },
  {
   "cell_type": "code",
   "execution_count": 26,
   "metadata": {
    "execution": {
     "iopub.execute_input": "2022-05-17T12:54:08.896958Z",
     "iopub.status.busy": "2022-05-17T12:54:08.896452Z",
     "iopub.status.idle": "2022-05-17T12:54:08.904430Z",
     "shell.execute_reply": "2022-05-17T12:54:08.903566Z",
     "shell.execute_reply.started": "2022-05-17T12:54:08.896919Z"
    }
   },
   "outputs": [],
   "source": [
    "print(f\"TEST mape: {books_base_mape:0.2f}%\")"
   ]
  },
  {
   "cell_type": "code",
   "execution_count": 27,
   "metadata": {
    "execution": {
     "iopub.execute_input": "2022-05-17T12:54:08.907294Z",
     "iopub.status.busy": "2022-05-17T12:54:08.906479Z",
     "iopub.status.idle": "2022-05-17T12:54:08.914603Z",
     "shell.execute_reply": "2022-05-17T12:54:08.913438Z",
     "shell.execute_reply.started": "2022-05-17T12:54:08.907224Z"
    }
   },
   "outputs": [],
   "source": [
    "print(f\"TEST mae: {books_base_mae:0.2f}\")"
   ]
  },
  {
   "cell_type": "code",
   "execution_count": 28,
   "metadata": {
    "execution": {
     "iopub.execute_input": "2022-05-17T12:54:08.917468Z",
     "iopub.status.busy": "2022-05-17T12:54:08.916665Z",
     "iopub.status.idle": "2022-05-17T12:54:08.924554Z",
     "shell.execute_reply": "2022-05-17T12:54:08.923542Z",
     "shell.execute_reply.started": "2022-05-17T12:54:08.917425Z"
    }
   },
   "outputs": [],
   "source": [
    "print(f\"TEST mae: {books_base_rmse:0.2f}\")"
   ]
  },
  {
   "cell_type": "markdown",
   "metadata": {},
   "source": [
    " В данном случае метрика МАРЕ выходит больше 200%. Это означает, что в среднем, при прогнозе модель ошибается более чем в два раза, что является плохим результатом при прогнозировании стоимости книги."
   ]
  },
  {
   "cell_type": "markdown",
   "metadata": {},
   "source": [
    "# Линейная регрессия"
   ]
  },
  {
   "cell_type": "markdown",
   "metadata": {},
   "source": [
    "Первым и наиболее простым решением является использование линейной регресси для предсказания стоимости. Ниже представлена реализация линейной регрессии:"
   ]
  },
  {
   "cell_type": "code",
   "execution_count": 29,
   "metadata": {
    "execution": {
     "iopub.execute_input": "2022-05-17T12:54:08.927581Z",
     "iopub.status.busy": "2022-05-17T12:54:08.926641Z",
     "iopub.status.idle": "2022-05-17T13:09:51.234719Z",
     "shell.execute_reply": "2022-05-17T13:09:51.233781Z",
     "shell.execute_reply.started": "2022-05-17T12:54:08.927391Z"
    }
   },
   "outputs": [],
   "source": [
    "linreg = LinearRegression().fit(X_train, np.log(y_train.reshape(-1, 1)))\n",
    "test_predict = linreg.predict(X_test)"
   ]
  },
  {
   "cell_type": "markdown",
   "metadata": {},
   "source": [
    "Проверим, есть ли выбросы:"
   ]
  },
  {
   "cell_type": "code",
   "execution_count": 30,
   "metadata": {
    "execution": {
     "iopub.execute_input": "2022-05-17T13:09:51.250420Z",
     "iopub.status.busy": "2022-05-17T13:09:51.243549Z",
     "iopub.status.idle": "2022-05-17T13:09:51.551036Z",
     "shell.execute_reply": "2022-05-17T13:09:51.550404Z",
     "shell.execute_reply.started": "2022-05-17T13:09:51.250367Z"
    }
   },
   "outputs": [],
   "source": [
    "plt.hist(test_predict)"
   ]
  },
  {
   "cell_type": "markdown",
   "metadata": {},
   "source": [
    "Как можно увидеть из графика,есть небольшое количество значений разительно отличающееся от основной части значений. Посмотрим максимальное значение:"
   ]
  },
  {
   "cell_type": "code",
   "execution_count": 31,
   "metadata": {
    "execution": {
     "iopub.execute_input": "2022-05-17T13:09:51.553169Z",
     "iopub.status.busy": "2022-05-17T13:09:51.552561Z",
     "iopub.status.idle": "2022-05-17T13:09:51.559973Z",
     "shell.execute_reply": "2022-05-17T13:09:51.559034Z",
     "shell.execute_reply.started": "2022-05-17T13:09:51.553101Z"
    }
   },
   "outputs": [],
   "source": [
    "test_predict.max()"
   ]
  },
  {
   "cell_type": "markdown",
   "metadata": {},
   "source": [
    "Уберем выбросы и посчитаем отслеживаемые метрики:"
   ]
  },
  {
   "cell_type": "code",
   "execution_count": 32,
   "metadata": {
    "execution": {
     "iopub.execute_input": "2022-05-17T13:09:51.562864Z",
     "iopub.status.busy": "2022-05-17T13:09:51.562059Z",
     "iopub.status.idle": "2022-05-17T13:09:51.568671Z",
     "shell.execute_reply": "2022-05-17T13:09:51.567688Z",
     "shell.execute_reply.started": "2022-05-17T13:09:51.562815Z"
    }
   },
   "outputs": [],
   "source": [
    "# Списки для хранения новых данных\n",
    "y_test_new = []\n",
    "pred = []"
   ]
  },
  {
   "cell_type": "markdown",
   "metadata": {},
   "source": [
    "Убираем inf из массива с предиктами, и соответствующие им значения из y_test:"
   ]
  },
  {
   "cell_type": "code",
   "execution_count": 33,
   "metadata": {
    "execution": {
     "iopub.execute_input": "2022-05-17T13:09:51.571880Z",
     "iopub.status.busy": "2022-05-17T13:09:51.571003Z",
     "iopub.status.idle": "2022-05-17T13:09:51.622002Z",
     "shell.execute_reply": "2022-05-17T13:09:51.621183Z",
     "shell.execute_reply.started": "2022-05-17T13:09:51.571752Z"
    }
   },
   "outputs": [],
   "source": [
    "for i in range(0, len(y_test)-1):\n",
    "    if np.exp(test_predict[i]) != np.inf:\n",
    "        y_test_new.append(y_test[i])\n",
    "        pred.append(np.exp(test_predict[i]))"
   ]
  },
  {
   "cell_type": "markdown",
   "metadata": {},
   "source": [
    "Преобразуем новые списки в массивы для вычисления метрик:"
   ]
  },
  {
   "cell_type": "code",
   "execution_count": 34,
   "metadata": {
    "execution": {
     "iopub.execute_input": "2022-05-17T13:09:51.623711Z",
     "iopub.status.busy": "2022-05-17T13:09:51.623442Z",
     "iopub.status.idle": "2022-05-17T13:09:51.634538Z",
     "shell.execute_reply": "2022-05-17T13:09:51.633264Z",
     "shell.execute_reply.started": "2022-05-17T13:09:51.623677Z"
    }
   },
   "outputs": [],
   "source": [
    "y_test_new1 = np.array(y_test_new)\n",
    "pred1 = np.array(pred)"
   ]
  },
  {
   "cell_type": "markdown",
   "metadata": {},
   "source": [
    "Вычислим исследуемые метрики:"
   ]
  },
  {
   "cell_type": "code",
   "execution_count": 35,
   "metadata": {
    "execution": {
     "iopub.execute_input": "2022-05-17T13:09:51.636357Z",
     "iopub.status.busy": "2022-05-17T13:09:51.636108Z",
     "iopub.status.idle": "2022-05-17T13:09:51.975603Z",
     "shell.execute_reply": "2022-05-17T13:09:51.974729Z",
     "shell.execute_reply.started": "2022-05-17T13:09:51.636329Z"
    }
   },
   "outputs": [],
   "source": [
    "books_linreg_mape = (mape(y_test_new1, pred1))*100\n",
    "books_linreg_mae = mae(y_test_new1, pred1)\n",
    "books_linreg_rmse = math.sqrt(mean_squared_error(y_test_new1, pred1))"
   ]
  },
  {
   "cell_type": "code",
   "execution_count": 36,
   "metadata": {
    "execution": {
     "iopub.execute_input": "2022-05-17T13:09:51.977427Z",
     "iopub.status.busy": "2022-05-17T13:09:51.977149Z",
     "iopub.status.idle": "2022-05-17T13:09:51.983160Z",
     "shell.execute_reply": "2022-05-17T13:09:51.982117Z",
     "shell.execute_reply.started": "2022-05-17T13:09:51.977390Z"
    }
   },
   "outputs": [],
   "source": [
    "print(f\"TEST mape: {books_linreg_mape:0.2f}%\")"
   ]
  },
  {
   "cell_type": "code",
   "execution_count": 37,
   "metadata": {
    "execution": {
     "iopub.execute_input": "2022-05-17T13:09:51.985432Z",
     "iopub.status.busy": "2022-05-17T13:09:51.985013Z",
     "iopub.status.idle": "2022-05-17T13:09:51.993736Z",
     "shell.execute_reply": "2022-05-17T13:09:51.992304Z",
     "shell.execute_reply.started": "2022-05-17T13:09:51.985383Z"
    }
   },
   "outputs": [],
   "source": [
    "print(f\"TEST mae: {books_linreg_mae:0.2f}\")"
   ]
  },
  {
   "cell_type": "code",
   "execution_count": 38,
   "metadata": {
    "execution": {
     "iopub.execute_input": "2022-05-17T13:09:51.995336Z",
     "iopub.status.busy": "2022-05-17T13:09:51.995031Z",
     "iopub.status.idle": "2022-05-17T13:09:52.003639Z",
     "shell.execute_reply": "2022-05-17T13:09:52.002893Z",
     "shell.execute_reply.started": "2022-05-17T13:09:51.995289Z"
    }
   },
   "outputs": [],
   "source": [
    "print(f\"TEST rmse: {books_linreg_rmse:0.2f}\")"
   ]
  },
  {
   "cell_type": "markdown",
   "metadata": {},
   "source": [
    "Погрешность существенно уменьшилась, но возникли непредвиденные трудности при работе с выбросами, появившимися после предсказания линейной регрессии. Важно отметить, что при других алгоритмов схожих трудностей не возникало."
   ]
  },
  {
   "cell_type": "markdown",
   "metadata": {},
   "source": [
    "# RandomForest"
   ]
  },
  {
   "cell_type": "markdown",
   "metadata": {},
   "source": [
    "Обратимся к решающим деревьям. В качестве следующей модели используется RandomForestRegressor. Изначально была идея использовать с подбором гиперпараметров, но вычисления получаются безумно долгие. Поэтому параметры выбраны исходя из нескольких экспериментов и опыта предыдущих проектов."
   ]
  },
  {
   "cell_type": "code",
   "execution_count": 39,
   "metadata": {
    "execution": {
     "iopub.execute_input": "2022-05-17T13:09:52.005815Z",
     "iopub.status.busy": "2022-05-17T13:09:52.005146Z",
     "iopub.status.idle": "2022-05-17T13:11:53.841905Z",
     "shell.execute_reply": "2022-05-17T13:11:53.841063Z",
     "shell.execute_reply.started": "2022-05-17T13:09:52.005777Z"
    }
   },
   "outputs": [],
   "source": [
    "rand_forest = RandomForestRegressor(n_estimators=500,\n",
    "                                    n_jobs=-1,\n",
    "                                    max_depth=15,\n",
    "                                    max_features='log2',\n",
    "                                    random_state=RANDOM_SEED,\n",
    "                                    oob_score=True).fit(X_train, np.log(y_train))"
   ]
  },
  {
   "cell_type": "code",
   "execution_count": 40,
   "metadata": {
    "execution": {
     "iopub.execute_input": "2022-05-17T13:11:53.844415Z",
     "iopub.status.busy": "2022-05-17T13:11:53.844179Z",
     "iopub.status.idle": "2022-05-17T13:11:54.486099Z",
     "shell.execute_reply": "2022-05-17T13:11:54.485193Z",
     "shell.execute_reply.started": "2022-05-17T13:11:53.844386Z"
    }
   },
   "outputs": [],
   "source": [
    "rand_predict = np.exp(rand_forest.predict(X_test))"
   ]
  },
  {
   "cell_type": "markdown",
   "metadata": {},
   "source": [
    "Теперь вычислим наши метрики"
   ]
  },
  {
   "cell_type": "code",
   "execution_count": 41,
   "metadata": {
    "execution": {
     "iopub.execute_input": "2022-05-17T13:11:54.497557Z",
     "iopub.status.busy": "2022-05-17T13:11:54.497306Z",
     "iopub.status.idle": "2022-05-17T13:11:54.504039Z",
     "shell.execute_reply": "2022-05-17T13:11:54.503244Z",
     "shell.execute_reply.started": "2022-05-17T13:11:54.497527Z"
    }
   },
   "outputs": [],
   "source": [
    "books_forest_mape = (mape(y_test, rand_predict))*100\n",
    "books_forest_mae = mae(y_test, rand_predict)\n",
    "books_forest_rmse = math.sqrt(mean_squared_error(y_test, rand_predict))"
   ]
  },
  {
   "cell_type": "code",
   "execution_count": 42,
   "metadata": {
    "execution": {
     "iopub.execute_input": "2022-05-17T13:11:54.506592Z",
     "iopub.status.busy": "2022-05-17T13:11:54.505921Z",
     "iopub.status.idle": "2022-05-17T13:11:54.515692Z",
     "shell.execute_reply": "2022-05-17T13:11:54.514934Z",
     "shell.execute_reply.started": "2022-05-17T13:11:54.506547Z"
    }
   },
   "outputs": [],
   "source": [
    "print(f\"TEST mape: {books_forest_mape:0.2f}%\")"
   ]
  },
  {
   "cell_type": "code",
   "execution_count": 43,
   "metadata": {
    "execution": {
     "iopub.execute_input": "2022-05-17T13:11:54.517697Z",
     "iopub.status.busy": "2022-05-17T13:11:54.517129Z",
     "iopub.status.idle": "2022-05-17T13:11:54.524264Z",
     "shell.execute_reply": "2022-05-17T13:11:54.523134Z",
     "shell.execute_reply.started": "2022-05-17T13:11:54.517661Z"
    }
   },
   "outputs": [],
   "source": [
    "print(f\"TEST mae: {books_forest_mae:0.2f}\")"
   ]
  },
  {
   "cell_type": "code",
   "execution_count": 44,
   "metadata": {
    "execution": {
     "iopub.execute_input": "2022-05-17T13:11:54.526841Z",
     "iopub.status.busy": "2022-05-17T13:11:54.526136Z",
     "iopub.status.idle": "2022-05-17T13:11:54.536886Z",
     "shell.execute_reply": "2022-05-17T13:11:54.535828Z",
     "shell.execute_reply.started": "2022-05-17T13:11:54.526797Z"
    }
   },
   "outputs": [],
   "source": [
    "print(f\"TEST rmse: {books_forest_rmse:0.2f}\")"
   ]
  },
  {
   "cell_type": "markdown",
   "metadata": {},
   "source": [
    "Значение МАРЕ еще немного уменьшилось, то есть наблюдается положительная динамика относительно используемых алгоритмов. \" Грубые\" ошибки и средняя абсолютная ошибка тоже немного уменьшились. Таким образом, мы получили более качественную модель по всем исследуемым метрикам. Далее перейдем к модели, использующей Catboost."
   ]
  },
  {
   "cell_type": "markdown",
   "metadata": {},
   "source": [
    "# Catboost"
   ]
  },
  {
   "cell_type": "markdown",
   "metadata": {},
   "source": [
    "Catboost является комбинацией алгоритмов, использующих деревья и градиентный бустинг. Вызовем и обучим модель. Указано 60000 итераций, но фактически - будет выполняться пока не сработает прерывание."
   ]
  },
  {
   "cell_type": "code",
   "execution_count": 45,
   "metadata": {
    "execution": {
     "iopub.execute_input": "2022-05-17T13:11:54.539779Z",
     "iopub.status.busy": "2022-05-17T13:11:54.539071Z",
     "iopub.status.idle": "2022-05-17T13:20:41.105690Z",
     "shell.execute_reply": "2022-05-17T13:20:41.104694Z",
     "shell.execute_reply.started": "2022-05-17T13:11:54.539733Z"
    }
   },
   "outputs": [],
   "source": [
    "model = CatBoostRegressor(iterations=60000,  # Количество итераций\n",
    "                          learning_rate=0.1,\n",
    "                          random_seed=RANDOM_SEED,\n",
    "                          eval_metric='MAPE',\n",
    "                          custom_metric=['RMSE', 'MAE'],\n",
    "                          od_wait=500,  # Прерывает выполнение, если нет улучшения 500 итераций\n",
    "                          # task_type='GPU',\n",
    "                          )\n",
    "# обучим модель\n",
    "model.fit(X_train, np.log(y_train),\n",
    "          eval_set=(X_test, np.log(y_test)),\n",
    "          verbose_eval=100,\n",
    "          use_best_model=True,\n",
    "          # plot=True\n",
    "          )"
   ]
  },
  {
   "cell_type": "markdown",
   "metadata": {},
   "source": [
    "Спрогнозируем стоимость для валидационной выборки и вычислим метрики:"
   ]
  },
  {
   "cell_type": "code",
   "execution_count": 46,
   "metadata": {
    "execution": {
     "iopub.execute_input": "2022-05-17T13:20:41.107729Z",
     "iopub.status.busy": "2022-05-17T13:20:41.107362Z",
     "iopub.status.idle": "2022-05-17T13:20:41.693757Z",
     "shell.execute_reply": "2022-05-17T13:20:41.692732Z",
     "shell.execute_reply.started": "2022-05-17T13:20:41.107687Z"
    }
   },
   "outputs": [],
   "source": [
    "test_predict_catboost = np.exp(model.predict(X_test))"
   ]
  },
  {
   "cell_type": "code",
   "execution_count": 47,
   "metadata": {
    "execution": {
     "iopub.execute_input": "2022-05-17T13:20:41.695892Z",
     "iopub.status.busy": "2022-05-17T13:20:41.695583Z",
     "iopub.status.idle": "2022-05-17T13:20:41.702584Z",
     "shell.execute_reply": "2022-05-17T13:20:41.701736Z",
     "shell.execute_reply.started": "2022-05-17T13:20:41.695850Z"
    }
   },
   "outputs": [],
   "source": [
    "books_cat_mape = (mape(y_test, test_predict_catboost))*100\n",
    "books_cat_mae = mae(y_test, test_predict_catboost)\n",
    "books_cat_rmse = math.sqrt(mean_squared_error(y_test, test_predict_catboost))"
   ]
  },
  {
   "cell_type": "code",
   "execution_count": 48,
   "metadata": {
    "execution": {
     "iopub.execute_input": "2022-05-17T13:20:41.704492Z",
     "iopub.status.busy": "2022-05-17T13:20:41.703975Z",
     "iopub.status.idle": "2022-05-17T13:20:41.714003Z",
     "shell.execute_reply": "2022-05-17T13:20:41.712917Z",
     "shell.execute_reply.started": "2022-05-17T13:20:41.704442Z"
    }
   },
   "outputs": [],
   "source": [
    "print(f\"TEST mape: {books_cat_mape:0.2f}%\")"
   ]
  },
  {
   "cell_type": "code",
   "execution_count": 49,
   "metadata": {
    "execution": {
     "iopub.execute_input": "2022-05-17T13:20:41.716017Z",
     "iopub.status.busy": "2022-05-17T13:20:41.715399Z",
     "iopub.status.idle": "2022-05-17T13:20:41.722932Z",
     "shell.execute_reply": "2022-05-17T13:20:41.721931Z",
     "shell.execute_reply.started": "2022-05-17T13:20:41.715954Z"
    }
   },
   "outputs": [],
   "source": [
    "print(f\"TEST mae: {books_cat_mae:0.2f}\")"
   ]
  },
  {
   "cell_type": "code",
   "execution_count": 50,
   "metadata": {
    "execution": {
     "iopub.execute_input": "2022-05-17T13:20:41.724961Z",
     "iopub.status.busy": "2022-05-17T13:20:41.724283Z",
     "iopub.status.idle": "2022-05-17T13:20:41.733941Z",
     "shell.execute_reply": "2022-05-17T13:20:41.732947Z",
     "shell.execute_reply.started": "2022-05-17T13:20:41.724918Z"
    }
   },
   "outputs": [],
   "source": [
    "print(f\"TEST rmse: {books_cat_rmse:0.2f}\")"
   ]
  },
  {
   "cell_type": "markdown",
   "metadata": {},
   "source": [
    "Сам по себе алгоритм без GPU вычисляет дольше предыдущих, но при этом имеет огромное преимущество в метриках: по сравнению с предыдущими результатами МАРЕ улучшилась больше чем в два раза, МАЕ и RMSE примерно в полтора раза. Таким образом, за несколько алгоритмов достигнута отметка, в 5~ раз лучше бейзлайна, который был в начале, что является хорошим результатом. Но впереди еще несколько нейронных сетей, и необходимо посмотреть, какие результаты покажут они."
   ]
  },
  {
   "cell_type": "markdown",
   "metadata": {},
   "source": [
    "# MLP сеть"
   ]
  },
  {
   "cell_type": "markdown",
   "metadata": {},
   "source": [
    "Обычная нейронная сеть, собранная из нескольких полносвязных слоев, без добавления дропаутов. Структура сети выбрана на основе советов по предыдущим проектам, по этой же причине исключены dropout - слои. Создадим и скомпилируем модель:"
   ]
  },
  {
   "cell_type": "code",
   "execution_count": 51,
   "metadata": {
    "execution": {
     "iopub.execute_input": "2022-05-17T13:20:41.735983Z",
     "iopub.status.busy": "2022-05-17T13:20:41.735511Z",
     "iopub.status.idle": "2022-05-17T13:20:47.463817Z",
     "shell.execute_reply": "2022-05-17T13:20:47.462611Z",
     "shell.execute_reply.started": "2022-05-17T13:20:41.735943Z"
    }
   },
   "outputs": [],
   "source": [
    "model_ml = Sequential()\n",
    "model_ml.add(L.Dense(512, input_dim=X_train.shape[1], activation=\"relu\"))\n",
    "model_ml.add(L.LayerNormalization())\n",
    "model_ml.add(L.Dense(512, kernel_regularizer=regularizers.l2(\n",
    "    l2=1e-6), activation=\"relu\"))\n",
    "model_ml.add(L.Dense(256, kernel_regularizer=regularizers.l2(\n",
    "    l2=1e-6), activation=\"relu\"))\n",
    "model_ml.add(L.Dense(128, kernel_regularizer=regularizers.l2(\n",
    "    l2=1e-7), activation=\"relu\"))\n",
    "model_ml.add(L.Dense(1, activation=\"linear\"))"
   ]
  },
  {
   "cell_type": "code",
   "execution_count": 52,
   "metadata": {
    "execution": {
     "iopub.execute_input": "2022-05-17T13:20:47.466052Z",
     "iopub.status.busy": "2022-05-17T13:20:47.465372Z",
     "iopub.status.idle": "2022-05-17T13:20:47.485031Z",
     "shell.execute_reply": "2022-05-17T13:20:47.484218Z",
     "shell.execute_reply.started": "2022-05-17T13:20:47.466009Z"
    }
   },
   "outputs": [],
   "source": [
    "# Compile model\n",
    "optimizer = tf.keras.optimizers.Adam(0.001)\n",
    "model_ml.compile(loss='MAPE', optimizer=optimizer, metrics=['MAPE'])"
   ]
  },
  {
   "cell_type": "markdown",
   "metadata": {},
   "source": [
    "Объявим простые коллбэки, такие как ранняя остановка, если нет положительной динамики на протяжении 50 эпох. Также используется чекпоинт для сохранения лучших весов модели"
   ]
  },
  {
   "cell_type": "code",
   "execution_count": 53,
   "metadata": {
    "execution": {
     "iopub.execute_input": "2022-05-17T13:20:47.487459Z",
     "iopub.status.busy": "2022-05-17T13:20:47.486753Z",
     "iopub.status.idle": "2022-05-17T13:20:47.493706Z",
     "shell.execute_reply": "2022-05-17T13:20:47.492668Z",
     "shell.execute_reply.started": "2022-05-17T13:20:47.487384Z"
    }
   },
   "outputs": [],
   "source": [
    "checkpoint = ModelCheckpoint(\n",
    "    '../working/best_model.hdf5', monitor=['val_MAPE'], verbose=0, mode='min')\n",
    "earlystop = EarlyStopping(\n",
    "    monitor='val_MAPE', patience=50, restore_best_weights=True,)\n",
    "callbacks_list = [checkpoint, earlystop]"
   ]
  },
  {
   "cell_type": "code",
   "execution_count": 54,
   "metadata": {
    "execution": {
     "iopub.execute_input": "2022-05-17T13:20:47.496155Z",
     "iopub.status.busy": "2022-05-17T13:20:47.495406Z",
     "iopub.status.idle": "2022-05-17T13:22:41.490453Z",
     "shell.execute_reply": "2022-05-17T13:22:41.489531Z",
     "shell.execute_reply.started": "2022-05-17T13:20:47.496117Z"
    }
   },
   "outputs": [],
   "source": [
    "history = model_ml.fit(X_train, (y_train),\n",
    "                       batch_size=512,  # размер батча\n",
    "                       epochs=500,  # количество эпох для обучения\n",
    "                       # данные для валидации\n",
    "                       validation_data=(X_test, (y_test)),\n",
    "                       callbacks=callbacks_list,  # список  наших коллбэков\n",
    "                       verbose=1,  # параметр, отвечающий за выведение прогресс-бара\n",
    "                       )"
   ]
  },
  {
   "cell_type": "code",
   "execution_count": 55,
   "metadata": {
    "execution": {
     "iopub.execute_input": "2022-05-17T13:22:41.494433Z",
     "iopub.status.busy": "2022-05-17T13:22:41.494145Z",
     "iopub.status.idle": "2022-05-17T13:22:43.712190Z",
     "shell.execute_reply": "2022-05-17T13:22:43.711382Z",
     "shell.execute_reply.started": "2022-05-17T13:22:41.494392Z"
    }
   },
   "outputs": [],
   "source": [
    "test_predict_nn1 = model_ml.predict(X_test)"
   ]
  },
  {
   "cell_type": "markdown",
   "metadata": {},
   "source": [
    "Вычислим метрики:"
   ]
  },
  {
   "cell_type": "code",
   "execution_count": 56,
   "metadata": {
    "execution": {
     "iopub.execute_input": "2022-05-17T13:22:43.714051Z",
     "iopub.status.busy": "2022-05-17T13:22:43.713790Z",
     "iopub.status.idle": "2022-05-17T13:22:43.723511Z",
     "shell.execute_reply": "2022-05-17T13:22:43.720384Z",
     "shell.execute_reply.started": "2022-05-17T13:22:43.714017Z"
    }
   },
   "outputs": [],
   "source": [
    "books_mlp_mape = (mape(y_test, test_predict_nn1[:, 0]))*100\n",
    "books_mlp_mae = mae(y_test, test_predict_nn1[:, 0])\n",
    "books_mlp_rmse = math.sqrt(mean_squared_error(y_test, test_predict_nn1[:, 0]))"
   ]
  },
  {
   "cell_type": "code",
   "execution_count": 57,
   "metadata": {
    "execution": {
     "iopub.execute_input": "2022-05-17T13:22:43.725020Z",
     "iopub.status.busy": "2022-05-17T13:22:43.724741Z",
     "iopub.status.idle": "2022-05-17T13:22:43.732111Z",
     "shell.execute_reply": "2022-05-17T13:22:43.731044Z",
     "shell.execute_reply.started": "2022-05-17T13:22:43.724918Z"
    }
   },
   "outputs": [],
   "source": [
    "print(f\"TEST mape: {books_mlp_mape:0.2f}%\")"
   ]
  },
  {
   "cell_type": "code",
   "execution_count": 58,
   "metadata": {
    "execution": {
     "iopub.execute_input": "2022-05-17T13:22:43.734739Z",
     "iopub.status.busy": "2022-05-17T13:22:43.733801Z",
     "iopub.status.idle": "2022-05-17T13:22:43.741323Z",
     "shell.execute_reply": "2022-05-17T13:22:43.740183Z",
     "shell.execute_reply.started": "2022-05-17T13:22:43.734686Z"
    }
   },
   "outputs": [],
   "source": [
    "print(f\"TEST mae: {books_mlp_mae:0.2f}\")"
   ]
  },
  {
   "cell_type": "code",
   "execution_count": 59,
   "metadata": {
    "execution": {
     "iopub.execute_input": "2022-05-17T13:22:43.744747Z",
     "iopub.status.busy": "2022-05-17T13:22:43.742793Z",
     "iopub.status.idle": "2022-05-17T13:22:43.752270Z",
     "shell.execute_reply": "2022-05-17T13:22:43.751298Z",
     "shell.execute_reply.started": "2022-05-17T13:22:43.744695Z"
    }
   },
   "outputs": [],
   "source": [
    "print(f\"TEST rmse: {books_mlp_rmse:0.2f}\")"
   ]
  },
  {
   "cell_type": "markdown",
   "metadata": {},
   "source": [
    "С MLP сетью ситуация получилась немного неоднозначная: Мы получили улучшение метрики МАРЕ, значит, в среднем, наша сеть стала меньше ошибаться при прогнозе. Но при этом метрики МАЕ и RMSE выросли, что значит, наша сеть делает более грубые ошибки, чем Catboost, который был рассмотрен до этого. Возникает извечный вопрос о балансе качества и количества. Общее направление у нас улучшилось, но темпы уже перестали быть такими высокими. Посмотрим, как поведет себя multi-input сеть, состоящая и MLP и NLP сетей."
   ]
  },
  {
   "cell_type": "markdown",
   "metadata": {},
   "source": [
    "# NLP+MLP сеть"
   ]
  },
  {
   "cell_type": "markdown",
   "metadata": {},
   "source": [
    "## Предобработка текста"
   ]
  },
  {
   "cell_type": "markdown",
   "metadata": {},
   "source": [
    "В данном дата-сете текст представлен в столбце \"description\". Этот столбец будет в дальнейшем использоваться для обучения NLP-сети. Для начала необходимо провести предварительную подготовку и создание функции для лемматизации и очистки текста.\n",
    "Лемматизация - приведение слова к первоначальной словарной форме. Для этого используется pymorphy.\n",
    "Под очисткой подразумевается удаление символов, не несущих смысловой нагрузки. "
   ]
  },
  {
   "cell_type": "code",
   "execution_count": 99,
   "metadata": {
    "execution": {
     "iopub.execute_input": "2022-05-17T16:37:14.426175Z",
     "iopub.status.busy": "2022-05-17T16:37:14.425421Z",
     "iopub.status.idle": "2022-05-17T16:37:14.647168Z",
     "shell.execute_reply": "2022-05-17T16:37:14.646390Z",
     "shell.execute_reply.started": "2022-05-17T16:37:14.426138Z"
    }
   },
   "outputs": [],
   "source": [
    "morphy = pymorphy2.MorphAnalyzer()\n",
    "df_NLP = data.copy()"
   ]
  },
  {
   "cell_type": "code",
   "execution_count": 97,
   "metadata": {
    "execution": {
     "iopub.execute_input": "2022-05-17T16:36:51.296340Z",
     "iopub.status.busy": "2022-05-17T16:36:51.296065Z",
     "iopub.status.idle": "2022-05-17T16:36:51.302748Z",
     "shell.execute_reply": "2022-05-17T16:36:51.301885Z",
     "shell.execute_reply.started": "2022-05-17T16:36:51.296312Z"
    }
   },
   "outputs": [],
   "source": [
    "# Паттерн с символами\n",
    "trash_sym = \"[A-Za-z0-9!#$%&'()*+,./:;<=>?@[\\]^_`{|}~—\\\"\\-–»«•∙·✔➥●☛“”°№₽®]+\"\n",
    "\n",
    "# функция для лемматизации текста:\n",
    "\n",
    "\n",
    "def lemma(text):\n",
    "    text = text.lower()  # понижаем регистр\n",
    "    text = re.sub(trash_sym, ' ', text)  # удаляем символы из паттерна\n",
    "    strings = []  # создаем массив, в котором будут храниться лемматизированные строки\n",
    "    for wrd in text.split():  # берем слово из строки\n",
    "        wrd = wrd.strip()  # убираем пробелы до и после слова\n",
    "        wrd = morphy.normal_forms(wrd)[0]  # приводим к нормальной форме\n",
    "        strings.append(wrd)  # добавляем слово в строку массива\n",
    "    return ' '.join(strings)  # вернем значения, разделив пробелами"
   ]
  },
  {
   "cell_type": "markdown",
   "metadata": {},
   "source": [
    "Сформируем список строк, применив к нашему столбцу функцию по лемматизации и очистке текста:"
   ]
  },
  {
   "cell_type": "code",
   "execution_count": 62,
   "metadata": {
    "execution": {
     "iopub.execute_input": "2022-05-17T13:22:44.216614Z",
     "iopub.status.busy": "2022-05-17T13:22:44.215424Z",
     "iopub.status.idle": "2022-05-17T13:33:13.222814Z",
     "shell.execute_reply": "2022-05-17T13:33:13.222062Z",
     "shell.execute_reply.started": "2022-05-17T13:22:44.216572Z"
    }
   },
   "outputs": [],
   "source": [
    "strings_set = []\n",
    "strings_set = df_NLP.apply(\n",
    "    lambda df_NLP: lemma(df_NLP.description), axis=1)"
   ]
  },
  {
   "cell_type": "markdown",
   "metadata": {},
   "source": [
    "В любом языке существуют слова, не несущие смысловой нагрузки. Русский язык - не исключение. Поэтому уберем такие слова из наших строк при помощи stopwords:"
   ]
  },
  {
   "cell_type": "code",
   "execution_count": 104,
   "metadata": {
    "execution": {
     "iopub.execute_input": "2022-05-17T16:39:14.327389Z",
     "iopub.status.busy": "2022-05-17T16:39:14.327126Z",
     "iopub.status.idle": "2022-05-17T16:39:14.338152Z",
     "shell.execute_reply": "2022-05-17T16:39:14.337280Z",
     "shell.execute_reply.started": "2022-05-17T16:39:14.327360Z"
    }
   },
   "outputs": [],
   "source": [
    "russian_stopwords = stopwords.words(\"russian\")"
   ]
  },
  {
   "cell_type": "code",
   "execution_count": 64,
   "metadata": {
    "execution": {
     "iopub.execute_input": "2022-05-17T13:33:13.234534Z",
     "iopub.status.busy": "2022-05-17T13:33:13.234225Z",
     "iopub.status.idle": "2022-05-17T13:33:15.425328Z",
     "shell.execute_reply": "2022-05-17T13:33:15.424573Z",
     "shell.execute_reply.started": "2022-05-17T13:33:13.234494Z"
    }
   },
   "outputs": [],
   "source": [
    "# функция для проверки на стоп-слова\n",
    "def lineWithoutStopWords(line):\n",
    "    line = line.split()  # разделяем на слова\n",
    "    # возвращаем слово, если оно не в списке стоп-слов\n",
    "    return [word for word in line if word not in russian_stopwords]\n",
    "\n",
    "\n",
    "# применим функцию к нашим лемматизированым строкам слов\n",
    "str_without_stop = [lineWithoutStopWords(line) for line in strings_set]"
   ]
  },
  {
   "cell_type": "code",
   "execution_count": 65,
   "metadata": {
    "execution": {
     "iopub.execute_input": "2022-05-17T13:33:15.426675Z",
     "iopub.status.busy": "2022-05-17T13:33:15.426424Z",
     "iopub.status.idle": "2022-05-17T13:33:15.435282Z",
     "shell.execute_reply": "2022-05-17T13:33:15.434301Z",
     "shell.execute_reply.started": "2022-05-17T13:33:15.426642Z"
    }
   },
   "outputs": [],
   "source": [
    "text_train = data.description.iloc[X_train.index]\n",
    "text_test = data.description.iloc[X_test.index]"
   ]
  },
  {
   "cell_type": "code",
   "execution_count": 66,
   "metadata": {
    "execution": {
     "iopub.execute_input": "2022-05-17T13:33:15.436993Z",
     "iopub.status.busy": "2022-05-17T13:33:15.436739Z",
     "iopub.status.idle": "2022-05-17T13:33:15.444789Z",
     "shell.execute_reply": "2022-05-17T13:33:15.443814Z",
     "shell.execute_reply.started": "2022-05-17T13:33:15.436958Z"
    }
   },
   "outputs": [],
   "source": [
    "# The maximum number of words to be used. (most frequent)\n",
    "MAX_WORDS = 100000\n",
    "# Max number of words in each complaint.\n",
    "MAX_SEQUENCE_LENGTH = 256"
   ]
  },
  {
   "cell_type": "code",
   "execution_count": 67,
   "metadata": {
    "execution": {
     "iopub.execute_input": "2022-05-17T13:33:15.446706Z",
     "iopub.status.busy": "2022-05-17T13:33:15.446351Z",
     "iopub.status.idle": "2022-05-17T13:33:16.411689Z",
     "shell.execute_reply": "2022-05-17T13:33:16.410929Z",
     "shell.execute_reply.started": "2022-05-17T13:33:15.446672Z"
    }
   },
   "outputs": [],
   "source": [
    "% % time\n",
    "tokenize = Tokenizer(num_words=MAX_WORDS)\n",
    "tokenize.fit_on_texts(str_without_stop)"
   ]
  },
  {
   "cell_type": "code",
   "execution_count": 68,
   "metadata": {
    "execution": {
     "iopub.execute_input": "2022-05-17T13:33:16.413386Z",
     "iopub.status.busy": "2022-05-17T13:33:16.412985Z",
     "iopub.status.idle": "2022-05-17T13:33:19.086814Z",
     "shell.execute_reply": "2022-05-17T13:33:19.086046Z",
     "shell.execute_reply.started": "2022-05-17T13:33:16.413350Z"
    }
   },
   "outputs": [],
   "source": [
    "% % time\n",
    "text_train_sequences = sequence.pad_sequences(\n",
    "    tokenize.texts_to_sequences(text_train), maxlen=MAX_SEQUENCE_LENGTH)\n",
    "text_test_sequences = sequence.pad_sequences(\n",
    "    tokenize.texts_to_sequences(text_test), maxlen=MAX_SEQUENCE_LENGTH)"
   ]
  },
  {
   "cell_type": "markdown",
   "metadata": {},
   "source": [
    "## NLP"
   ]
  },
  {
   "cell_type": "code",
   "execution_count": 69,
   "metadata": {
    "execution": {
     "iopub.execute_input": "2022-05-17T13:33:19.088486Z",
     "iopub.status.busy": "2022-05-17T13:33:19.088101Z",
     "iopub.status.idle": "2022-05-17T13:33:19.587563Z",
     "shell.execute_reply": "2022-05-17T13:33:19.586805Z",
     "shell.execute_reply.started": "2022-05-17T13:33:19.088450Z"
    }
   },
   "outputs": [],
   "source": [
    "model_nlp = Sequential()\n",
    "model_nlp.add(L.Input(shape=MAX_SEQUENCE_LENGTH, name=\"seq_package\"))\n",
    "model_nlp.add(L.Embedding(len(tokenize.word_index)+1, MAX_SEQUENCE_LENGTH,))\n",
    "model_nlp.add(L.LayerNormalization())\n",
    "model_nlp.add(L.LSTM(256, return_sequences=True))\n",
    "model_nlp.add(L.Dropout(0.5))\n",
    "model_nlp.add(L.Dense(128, activation=\"relu\"))\n",
    "model_nlp.add(L.LSTM(64,))\n",
    "model_nlp.add(L.Dropout(0.25))\n",
    "model_nlp.add(L.Dense(64, activation=\"relu\"))\n",
    "model_nlp.add(L.Dropout(0.25))"
   ]
  },
  {
   "cell_type": "markdown",
   "metadata": {},
   "source": [
    "## MLP"
   ]
  },
  {
   "cell_type": "code",
   "execution_count": 70,
   "metadata": {
    "execution": {
     "iopub.execute_input": "2022-05-17T13:33:19.591821Z",
     "iopub.status.busy": "2022-05-17T13:33:19.588713Z",
     "iopub.status.idle": "2022-05-17T13:33:19.630461Z",
     "shell.execute_reply": "2022-05-17T13:33:19.629801Z",
     "shell.execute_reply.started": "2022-05-17T13:33:19.591782Z"
    }
   },
   "outputs": [],
   "source": [
    "model_mlp = Sequential()\n",
    "model_mlp.add(L.Dense(512, input_dim=X_train.shape[1], activation=\"relu\"))\n",
    "model_mlp.add(L.Dropout(0.5))\n",
    "model_mlp.add(L.Dense(256, kernel_regularizer=regularizers.l2(\n",
    "    l2=1e-6), activation=\"relu\"))\n",
    "model_mlp.add(L.Dropout(0.5))\n",
    "model_mlp.add(L.Dense(128, kernel_regularizer=regularizers.l2(\n",
    "    l2=1e-5), activation=\"relu\"))\n",
    "model_mlp.add(L.Dropout(0.25))"
   ]
  },
  {
   "cell_type": "code",
   "execution_count": 71,
   "metadata": {
    "execution": {
     "iopub.execute_input": "2022-05-17T13:33:19.632372Z",
     "iopub.status.busy": "2022-05-17T13:33:19.631715Z",
     "iopub.status.idle": "2022-05-17T13:33:19.659778Z",
     "shell.execute_reply": "2022-05-17T13:33:19.659142Z",
     "shell.execute_reply.started": "2022-05-17T13:33:19.632332Z"
    }
   },
   "outputs": [],
   "source": [
    "combinedInput = L.concatenate([model_nlp.output, model_mlp.output])\n",
    "# being our regression head\n",
    "head = L.Dense(32, activation=\"relu\")(combinedInput)\n",
    "head = L.Dense(1, activation=\"linear\")(head)\n",
    "\n",
    "model = Model(inputs=[model_nlp.input, model_mlp.input], outputs=head)"
   ]
  },
  {
   "cell_type": "code",
   "execution_count": 72,
   "metadata": {
    "execution": {
     "iopub.execute_input": "2022-05-17T13:33:19.661375Z",
     "iopub.status.busy": "2022-05-17T13:33:19.661047Z",
     "iopub.status.idle": "2022-05-17T13:33:19.675112Z",
     "shell.execute_reply": "2022-05-17T13:33:19.674003Z",
     "shell.execute_reply.started": "2022-05-17T13:33:19.661337Z"
    }
   },
   "outputs": [],
   "source": [
    "optimizer = tf.keras.optimizers.Adam(0.001)\n",
    "# Проведем компиляцию модели\n",
    "model.compile(loss='MAPE', optimizer=optimizer, metrics=['MAPE'])"
   ]
  },
  {
   "cell_type": "code",
   "execution_count": 73,
   "metadata": {
    "execution": {
     "iopub.execute_input": "2022-05-17T13:33:19.676829Z",
     "iopub.status.busy": "2022-05-17T13:33:19.676442Z",
     "iopub.status.idle": "2022-05-17T13:33:19.683487Z",
     "shell.execute_reply": "2022-05-17T13:33:19.682712Z",
     "shell.execute_reply.started": "2022-05-17T13:33:19.676790Z"
    }
   },
   "outputs": [],
   "source": [
    "checkpoint = ModelCheckpoint(\n",
    "    '../working/best_model.hdf5', monitor=['val_MAPE'], verbose=0, mode='min')\n",
    "earlystop = EarlyStopping(\n",
    "    monitor='val_MAPE', patience=15, restore_best_weights=True,)\n",
    "lr_scheduler = ReduceLROnPlateau(monitor='val_MAPE',\n",
    "                                 factor=0.5,  # уменьшим lr в 2 раза\n",
    "                                 patience=10,  # если нет улучшения через 2 эпохи - уменьшить lr\n",
    "                                 min_lr=0.00001,  # минимальная скорость обучения\n",
    "                                 verbose=1,  # выводить сообщения об уменьшении скорости\n",
    "                                 mode='auto')  # выбранный способ отслеживания метрики\n",
    "callbacks_list = [checkpoint, earlystop, lr_scheduler]"
   ]
  },
  {
   "cell_type": "code",
   "execution_count": 74,
   "metadata": {
    "execution": {
     "iopub.execute_input": "2022-05-17T13:33:19.685469Z",
     "iopub.status.busy": "2022-05-17T13:33:19.684974Z",
     "iopub.status.idle": "2022-05-17T13:36:29.923849Z",
     "shell.execute_reply": "2022-05-17T13:36:29.923104Z",
     "shell.execute_reply.started": "2022-05-17T13:33:19.685432Z"
    }
   },
   "outputs": [],
   "source": [
    "history = model.fit([text_train_sequences, X_train], y_train,\n",
    "                    batch_size=512,\n",
    "                    epochs=500,\n",
    "                    validation_data=([text_test_sequences, X_test], y_test),\n",
    "                    callbacks=callbacks_list\n",
    "                    )"
   ]
  },
  {
   "cell_type": "code",
   "execution_count": 75,
   "metadata": {
    "execution": {
     "iopub.execute_input": "2022-05-17T13:36:29.926828Z",
     "iopub.status.busy": "2022-05-17T13:36:29.926417Z",
     "iopub.status.idle": "2022-05-17T13:36:34.708044Z",
     "shell.execute_reply": "2022-05-17T13:36:34.707241Z",
     "shell.execute_reply.started": "2022-05-17T13:36:29.926789Z"
    }
   },
   "outputs": [],
   "source": [
    "test_predict_nn2 = model.predict([text_test_sequences, X_test])"
   ]
  },
  {
   "cell_type": "code",
   "execution_count": 76,
   "metadata": {
    "execution": {
     "iopub.execute_input": "2022-05-17T13:36:34.710715Z",
     "iopub.status.busy": "2022-05-17T13:36:34.710285Z",
     "iopub.status.idle": "2022-05-17T13:36:34.716930Z",
     "shell.execute_reply": "2022-05-17T13:36:34.716235Z",
     "shell.execute_reply.started": "2022-05-17T13:36:34.710677Z"
    }
   },
   "outputs": [],
   "source": [
    "books_multi_mape = (mape(y_test, test_predict_nn2[:, 0]))*100\n",
    "books_multi_mae = mae(y_test, test_predict_nn2[:, 0])\n",
    "books_multi_rmse = math.sqrt(\n",
    "    mean_squared_error(y_test, test_predict_nn2[:, 0]))"
   ]
  },
  {
   "cell_type": "code",
   "execution_count": 77,
   "metadata": {
    "execution": {
     "iopub.execute_input": "2022-05-17T13:36:34.719633Z",
     "iopub.status.busy": "2022-05-17T13:36:34.717998Z",
     "iopub.status.idle": "2022-05-17T13:36:34.728359Z",
     "shell.execute_reply": "2022-05-17T13:36:34.727552Z",
     "shell.execute_reply.started": "2022-05-17T13:36:34.719593Z"
    }
   },
   "outputs": [],
   "source": [
    "print(f\"TEST mape: {books_multi_mape:0.2f}%\")"
   ]
  },
  {
   "cell_type": "code",
   "execution_count": 78,
   "metadata": {
    "execution": {
     "iopub.execute_input": "2022-05-17T13:36:34.730051Z",
     "iopub.status.busy": "2022-05-17T13:36:34.729619Z",
     "iopub.status.idle": "2022-05-17T13:36:34.738021Z",
     "shell.execute_reply": "2022-05-17T13:36:34.737321Z",
     "shell.execute_reply.started": "2022-05-17T13:36:34.730014Z"
    }
   },
   "outputs": [],
   "source": [
    "print(f\"TEST mae: {books_multi_mae:0.2f}\")"
   ]
  },
  {
   "cell_type": "code",
   "execution_count": 79,
   "metadata": {
    "execution": {
     "iopub.execute_input": "2022-05-17T13:36:34.740078Z",
     "iopub.status.busy": "2022-05-17T13:36:34.739497Z",
     "iopub.status.idle": "2022-05-17T13:36:34.747443Z",
     "shell.execute_reply": "2022-05-17T13:36:34.746692Z",
     "shell.execute_reply.started": "2022-05-17T13:36:34.740042Z"
    }
   },
   "outputs": [],
   "source": [
    "print(f\"TEST rmse: {books_multi_rmse:0.2f}\")"
   ]
  },
  {
   "cell_type": "markdown",
   "metadata": {},
   "source": [
    "Как можно заметить все исследуемые метрики немного ухудшились, по сравнению с одиночной MLP-сетью. Вероятно выбрана не самая оптимальная структура обеих сетей, но тем не менее результат отличается незначительно, и он все еще гораздо лучше изначального бейзлайна. Теперь стоит перейти к нейронной сети TabNet."
   ]
  },
  {
   "cell_type": "markdown",
   "metadata": {},
   "source": [
    "# TabNet с K-Fold"
   ]
  },
  {
   "cell_type": "markdown",
   "metadata": {},
   "source": [
    "Сеть TabNet на данный момент является SotA решением во множестве задач, она используется как для классификации, так и для задач регрессии. Но, как и у всех нейронных сетей, большинство проблем при обучении возникает из-за недостаточной полноты данных в выборке. \n",
    "Перейдем к обучению:"
   ]
  },
  {
   "cell_type": "code",
   "execution_count": 80,
   "metadata": {
    "execution": {
     "iopub.execute_input": "2022-05-17T13:36:34.749388Z",
     "iopub.status.busy": "2022-05-17T13:36:34.748662Z",
     "iopub.status.idle": "2022-05-17T13:36:35.852822Z",
     "shell.execute_reply": "2022-05-17T13:36:35.852059Z",
     "shell.execute_reply.started": "2022-05-17T13:36:34.749351Z"
    }
   },
   "outputs": [],
   "source": [
    "X_train_new = X_train.values\n",
    "y_train_new = np.log(y_train).reshape(-1, 1)\n",
    "X_test_new = X_test.values\n",
    "y_test_new = np.log(y_test).reshape(-1, 1)"
   ]
  },
  {
   "cell_type": "markdown",
   "metadata": {},
   "source": [
    "Так как у TabNet нет метрики МАРЕ, создадим ее сами для дальнейшего использования:"
   ]
  },
  {
   "cell_type": "code",
   "execution_count": 81,
   "metadata": {
    "execution": {
     "iopub.execute_input": "2022-05-17T13:36:35.854661Z",
     "iopub.status.busy": "2022-05-17T13:36:35.854020Z",
     "iopub.status.idle": "2022-05-17T13:36:35.860224Z",
     "shell.execute_reply": "2022-05-17T13:36:35.859538Z",
     "shell.execute_reply.started": "2022-05-17T13:36:35.854619Z"
    }
   },
   "outputs": [],
   "source": [
    "class my_Mape(Metric):\n",
    "    def __init__(self):\n",
    "        self._name = \"mape\"\n",
    "        self._maximize = False\n",
    "\n",
    "    def __call__(self, y_true, y_score):\n",
    "        return np.mean(np.abs((y_score-y_true)/y_true))"
   ]
  },
  {
   "cell_type": "markdown",
   "metadata": {},
   "source": [
    "Теперь приступим к разделению на обучающую и валидационную выборки с помощью KFold и самому обучению:"
   ]
  },
  {
   "cell_type": "code",
   "execution_count": 82,
   "metadata": {
    "execution": {
     "iopub.execute_input": "2022-05-17T13:36:35.861931Z",
     "iopub.status.busy": "2022-05-17T13:36:35.861309Z",
     "iopub.status.idle": "2022-05-17T13:36:41.574650Z",
     "shell.execute_reply": "2022-05-17T13:36:41.571149Z",
     "shell.execute_reply.started": "2022-05-17T13:36:35.861888Z"
    }
   },
   "outputs": [],
   "source": [
    "kf = KFold(n_splits=5, random_state=RANDOM_SEED, shuffle=True)\n",
    "predictions_array = []\n",
    "CV_score_array = []\n",
    "for train_index, test_index in kf.split(X_train_new):\n",
    "    X_train1, X_valid1 = X_train_new[train_index], X_train_new[test_index]\n",
    "    y_train1, y_valid1 = y_train_new[train_index], y_train_new[test_index]\n",
    "    regressor = TabNetRegressor(verbose=1, seed=RANDOM_SEED)\n",
    "    regressor.fit(X_train=X_train1, y_train=y_train1,\n",
    "                  eval_set=[(X_valid1, y_valid1)],\n",
    "                  patience=1, max_epochs=5,\n",
    "                  eval_metric=[my_Mape])\n",
    "    CV_score_array.append(regressor.best_cost)\n",
    "    predictions_array.append(np.exp(regressor.predict(X_test_new)))\n",
    "\n",
    "predictions = np.mean(predictions_array, axis=0)"
   ]
  },
  {
   "cell_type": "markdown",
   "metadata": {},
   "source": [
    "Искомые метрики:"
   ]
  },
  {
   "cell_type": "code",
   "execution_count": null,
   "metadata": {
    "execution": {
     "iopub.status.busy": "2022-05-17T13:36:41.575785Z",
     "iopub.status.idle": "2022-05-17T13:36:41.576484Z",
     "shell.execute_reply": "2022-05-17T13:36:41.576278Z",
     "shell.execute_reply.started": "2022-05-17T13:36:41.576239Z"
    }
   },
   "outputs": [],
   "source": [
    "books_tnkf_mape = (mape(y_test, predictions))*100\n",
    "books_tnkf_mae = mae(y_test, predictions)\n",
    "books_tnkf_rmse = math.sqrt(mean_squared_error(y_test, predictions))"
   ]
  },
  {
   "cell_type": "code",
   "execution_count": null,
   "metadata": {
    "execution": {
     "iopub.status.busy": "2022-05-17T13:36:41.578114Z",
     "iopub.status.idle": "2022-05-17T13:36:41.578836Z",
     "shell.execute_reply": "2022-05-17T13:36:41.578623Z",
     "shell.execute_reply.started": "2022-05-17T13:36:41.578598Z"
    }
   },
   "outputs": [],
   "source": [
    "print(f\"TEST mape: {books_tnkf_mape:0.2f}%\")"
   ]
  },
  {
   "cell_type": "code",
   "execution_count": null,
   "metadata": {
    "execution": {
     "iopub.status.busy": "2022-05-17T13:36:41.580116Z",
     "iopub.status.idle": "2022-05-17T13:36:41.580844Z",
     "shell.execute_reply": "2022-05-17T13:36:41.580632Z",
     "shell.execute_reply.started": "2022-05-17T13:36:41.580608Z"
    }
   },
   "outputs": [],
   "source": [
    "print(f\"TEST mae: {books_tnkf_mae:0.2f}\")"
   ]
  },
  {
   "cell_type": "code",
   "execution_count": null,
   "metadata": {
    "execution": {
     "iopub.status.busy": "2022-05-17T13:36:41.582120Z",
     "iopub.status.idle": "2022-05-17T13:36:41.582874Z",
     "shell.execute_reply": "2022-05-17T13:36:41.582663Z",
     "shell.execute_reply.started": "2022-05-17T13:36:41.582638Z"
    }
   },
   "outputs": [],
   "source": [
    "print(f\"TEST rmse: {books_tnkf_rmse:0.2f}\")"
   ]
  },
  {
   "cell_type": "markdown",
   "metadata": {},
   "source": [
    "Как можно увидеть - все метрики ухудшились по сравнению с двумя предыдущими нейронными сетями. Сделать однозначный вывод, почему это произошло - довольно сложно. Но я перепробовал различные параметры при обучении, и улучшить показатели мне так и не удалось. Вероятно, это связано с качеством обучающих данных - мало столбцов, которые несут в себе нужные данные. Плюс сам дата сет не слишком длинный. На сколько я понял для TabNet рекомендуют использовать объемные дата-сеты. Посмотрим, как поведет себя TabNet без KFold."
   ]
  },
  {
   "cell_type": "markdown",
   "metadata": {},
   "source": [
    "# TabNet обычный"
   ]
  },
  {
   "cell_type": "code",
   "execution_count": null,
   "metadata": {
    "execution": {
     "iopub.status.busy": "2022-05-17T13:36:41.584195Z",
     "iopub.status.idle": "2022-05-17T13:36:41.584949Z",
     "shell.execute_reply": "2022-05-17T13:36:41.584723Z",
     "shell.execute_reply.started": "2022-05-17T13:36:41.584697Z"
    }
   },
   "outputs": [],
   "source": [
    "regressor1 = TabNetRegressor(verbose=1, seed=RANDOM_SEED)"
   ]
  },
  {
   "cell_type": "code",
   "execution_count": null,
   "metadata": {
    "execution": {
     "iopub.status.busy": "2022-05-17T13:36:41.586394Z",
     "iopub.status.idle": "2022-05-17T13:36:41.587207Z",
     "shell.execute_reply": "2022-05-17T13:36:41.586961Z",
     "shell.execute_reply.started": "2022-05-17T13:36:41.586933Z"
    }
   },
   "outputs": [],
   "source": [
    "regressor1.fit(X_train=X_train.values, y_train=np.log(y_train.reshape(-1, 1)),\n",
    "               eval_set=[(X_test.values, np.log(y_test.reshape(-1, 1)))],\n",
    "               patience=5, max_epochs=20,\n",
    "               eval_metric=[my_Mape],\n",
    "               batch_size=2048,\n",
    "               virtual_batch_size=512)"
   ]
  },
  {
   "cell_type": "code",
   "execution_count": null,
   "metadata": {
    "execution": {
     "iopub.status.busy": "2022-05-17T13:36:41.588764Z",
     "iopub.status.idle": "2022-05-17T13:36:41.589594Z",
     "shell.execute_reply": "2022-05-17T13:36:41.589336Z",
     "shell.execute_reply.started": "2022-05-17T13:36:41.589307Z"
    }
   },
   "outputs": [],
   "source": [
    "predict_stream = np.exp(regressor1.predict(X_test.values))"
   ]
  },
  {
   "cell_type": "markdown",
   "metadata": {},
   "source": [
    "Вычислим метрики:"
   ]
  },
  {
   "cell_type": "code",
   "execution_count": null,
   "metadata": {
    "execution": {
     "iopub.status.busy": "2022-05-17T13:36:41.591107Z",
     "iopub.status.idle": "2022-05-17T13:36:41.592020Z",
     "shell.execute_reply": "2022-05-17T13:36:41.591761Z",
     "shell.execute_reply.started": "2022-05-17T13:36:41.591731Z"
    }
   },
   "outputs": [],
   "source": [
    "books_tnst_mape = (mape(y_test, predict_stream))*100\n",
    "books_tnst_mae = mae(y_test, predict_stream)\n",
    "books_tnst_rmse = math.sqrt(mean_squared_error(y_test, predict_stream))"
   ]
  },
  {
   "cell_type": "code",
   "execution_count": null,
   "metadata": {
    "execution": {
     "iopub.status.busy": "2022-05-17T13:36:41.593757Z",
     "iopub.status.idle": "2022-05-17T13:36:41.594617Z",
     "shell.execute_reply": "2022-05-17T13:36:41.594357Z",
     "shell.execute_reply.started": "2022-05-17T13:36:41.594328Z"
    }
   },
   "outputs": [],
   "source": [
    "print(f\"TEST mape: {books_tnst_mape:0.2f}%\")"
   ]
  },
  {
   "cell_type": "code",
   "execution_count": null,
   "metadata": {
    "_kg_hide-input": true,
    "execution": {
     "iopub.status.busy": "2022-05-17T13:36:41.596128Z",
     "iopub.status.idle": "2022-05-17T13:36:41.596966Z",
     "shell.execute_reply": "2022-05-17T13:36:41.596721Z",
     "shell.execute_reply.started": "2022-05-17T13:36:41.596692Z"
    }
   },
   "outputs": [],
   "source": [
    "print(f\"TEST mae: {books_tnst_mae:0.2f}\")"
   ]
  },
  {
   "cell_type": "code",
   "execution_count": null,
   "metadata": {
    "execution": {
     "iopub.status.busy": "2022-05-17T13:36:41.598513Z",
     "iopub.status.idle": "2022-05-17T13:36:41.599333Z",
     "shell.execute_reply": "2022-05-17T13:36:41.599073Z",
     "shell.execute_reply.started": "2022-05-17T13:36:41.599044Z"
    }
   },
   "outputs": [],
   "source": [
    "print(f\"TEST rmse: {books_tnst_rmse:0.2f}\")"
   ]
  },
  {
   "cell_type": "markdown",
   "metadata": {},
   "source": [
    "Качество даже еще немного понизилось по сравнению с kfold. На данный момент табнет показывает результаты лучше чем линейная регрессия и случайный лес, но хуже чем все остальные."
   ]
  },
  {
   "cell_type": "markdown",
   "metadata": {},
   "source": [
    "# Выводы"
   ]
  },
  {
   "cell_type": "markdown",
   "metadata": {},
   "source": [
    "По первому дата-сету мы получили примерно следующие результаты:"
   ]
  },
  {
   "cell_type": "code",
   "execution_count": null,
   "metadata": {
    "execution": {
     "iopub.status.busy": "2022-05-17T13:36:41.600859Z",
     "iopub.status.idle": "2022-05-17T13:36:41.601691Z",
     "shell.execute_reply": "2022-05-17T13:36:41.601432Z",
     "shell.execute_reply.started": "2022-05-17T13:36:41.601403Z"
    }
   },
   "outputs": [],
   "source": [
    "data_metrics = [('baseline', np.round(books_base_mape), np.round(books_base_mae), np.round(books_base_rmse)),\n",
    "                ('LinearRegression', np.round(books_linreg_mape), np.round(\n",
    "                    books_linreg_mae), np.round(books_linreg_rmse)),\n",
    "                ('RandomForest', np.round(books_forest_mape), np.round(\n",
    "                    books_forest_mae), np.round(books_forest_rmse)),\n",
    "                ('CatBoost', np.round(books_cat_mape), np.round(\n",
    "                    books_cat_mae), np.round(books_cat_rmse)),\n",
    "                ('MLP', np.round(books_mlp_mape), np.round(\n",
    "                    books_mlp_mae), np.round(books_mlp_rmse)),\n",
    "                ('Multi-Input', np.round(books_multi_mape),\n",
    "                 np.round(books_multi_mae), np.round(books_multi_rmse)),\n",
    "                ('TabNet KFold', np.round(books_tnkf_mape), np.round(\n",
    "                    books_tnkf_mae), np.round(books_tnkf_rmse)),\n",
    "                ('TabNet Stream', np.round(books_tnst_mape), np.round(\n",
    "                    books_tnst_mae), np.round(books_tnst_rmse))\n",
    "                ]\n",
    "labels = ['model', 'MAPE', 'MAE', 'RMSE']\n",
    "df = pd.DataFrame.from_records(data_metrics, columns=labels)"
   ]
  },
  {
   "cell_type": "code",
   "execution_count": null,
   "metadata": {
    "execution": {
     "iopub.status.busy": "2022-05-17T13:36:41.603189Z",
     "iopub.status.idle": "2022-05-17T13:36:41.604030Z",
     "shell.execute_reply": "2022-05-17T13:36:41.603785Z",
     "shell.execute_reply.started": "2022-05-17T13:36:41.603755Z"
    }
   },
   "outputs": [],
   "source": [
    "df"
   ]
  },
  {
   "cell_type": "markdown",
   "metadata": {},
   "source": [
    "По данной таблице можно сказать, что первое место по всем параметрам занимает обычная MLP сеть, состоящая из нескольких Dense-слоев, а следующая после нее идет multi-input сеть. Метрики двух этих сетей являются наиболее низкими, что означает уменьшение количества и грубости ошибок по сравнению с другими моделями. "
   ]
  },
  {
   "cell_type": "markdown",
   "metadata": {},
   "source": [
    "# Второй дата-сет (целевой)"
   ]
  },
  {
   "cell_type": "markdown",
   "metadata": {},
   "source": [
    "Дата-сет с играми содержит данные о настольных играх, собранные с помощью парсинга с сайта hobby-games.ru. Изначально, с ним возникли трудности из-за малого количества данных для обучения, поэтому было произведено исследование на первом дата-сете, о том как повлияет увеличение выборки на исследуемые метрики."
   ]
  },
  {
   "cell_type": "markdown",
   "metadata": {},
   "source": [
    "Скопируем данные и уберем те, в которых не указана цена:"
   ]
  },
  {
   "cell_type": "code",
   "execution_count": 18,
   "metadata": {
    "execution": {
     "iopub.execute_input": "2022-05-17T15:49:40.008594Z",
     "iopub.status.busy": "2022-05-17T15:49:40.008092Z",
     "iopub.status.idle": "2022-05-17T15:49:40.013658Z",
     "shell.execute_reply": "2022-05-17T15:49:40.012607Z",
     "shell.execute_reply.started": "2022-05-17T15:49:40.008541Z"
    }
   },
   "outputs": [],
   "source": [
    "data_games1 = data_games.copy()"
   ]
  },
  {
   "cell_type": "code",
   "execution_count": 19,
   "metadata": {
    "execution": {
     "iopub.execute_input": "2022-05-17T15:49:41.381213Z",
     "iopub.status.busy": "2022-05-17T15:49:41.380533Z",
     "iopub.status.idle": "2022-05-17T15:49:41.388890Z",
     "shell.execute_reply": "2022-05-17T15:49:41.386762Z",
     "shell.execute_reply.started": "2022-05-17T15:49:41.381175Z"
    }
   },
   "outputs": [],
   "source": [
    "data_games1 = data_games1[data_games1.price != 'Цена скоро будет']"
   ]
  },
  {
   "cell_type": "code",
   "execution_count": 20,
   "metadata": {
    "execution": {
     "iopub.execute_input": "2022-05-17T15:49:43.015731Z",
     "iopub.status.busy": "2022-05-17T15:49:43.014948Z",
     "iopub.status.idle": "2022-05-17T15:49:43.023698Z",
     "shell.execute_reply": "2022-05-17T15:49:43.022736Z",
     "shell.execute_reply.started": "2022-05-17T15:49:43.015690Z"
    }
   },
   "outputs": [],
   "source": [
    "data_games1 = data_games1.reset_index(drop=True)"
   ]
  },
  {
   "cell_type": "code",
   "execution_count": 21,
   "metadata": {
    "execution": {
     "iopub.execute_input": "2022-05-17T15:49:50.088638Z",
     "iopub.status.busy": "2022-05-17T15:49:50.088352Z",
     "iopub.status.idle": "2022-05-17T15:49:50.101697Z",
     "shell.execute_reply": "2022-05-17T15:49:50.100882Z",
     "shell.execute_reply.started": "2022-05-17T15:49:50.088607Z"
    }
   },
   "outputs": [],
   "source": [
    "data_games1.head()"
   ]
  },
  {
   "cell_type": "markdown",
   "metadata": {},
   "source": [
    "Представленные столбцы:\n",
    "* gameName - название игры\n",
    "* players - количество игроков\n",
    "* time - среднее время одной партии\n",
    "* age - возраст\n",
    "* price - цена игры ( наш таргет)\n",
    "* description - описание игры\n",
    "* image - ссылка на изображение (Сильно усложняет обработку и не оказывает должного эффекта. Не используется)\n",
    "* manufacturer - производитель\n",
    "* package - Что входит в набор"
   ]
  },
  {
   "cell_type": "markdown",
   "metadata": {},
   "source": [
    "# Небольшая предобработка"
   ]
  },
  {
   "cell_type": "markdown",
   "metadata": {},
   "source": [
    "Уберем ненужную информацию из столбцов:"
   ]
  },
  {
   "cell_type": "code",
   "execution_count": 22,
   "metadata": {
    "execution": {
     "iopub.execute_input": "2022-05-17T15:54:26.946288Z",
     "iopub.status.busy": "2022-05-17T15:54:26.945791Z",
     "iopub.status.idle": "2022-05-17T15:54:26.954480Z",
     "shell.execute_reply": "2022-05-17T15:54:26.953588Z",
     "shell.execute_reply.started": "2022-05-17T15:54:26.946251Z"
    }
   },
   "outputs": [],
   "source": [
    "data_games1['players'] = data_games1['players'].apply(\n",
    "    lambda x: x.split(' ')[0])\n",
    "data_games1['time'] = data_games1['time'].apply(lambda x: x.split(' ')[0])"
   ]
  },
  {
   "cell_type": "markdown",
   "metadata": {},
   "source": [
    "Очистим столбец с ценами и переведем в int:"
   ]
  },
  {
   "cell_type": "code",
   "execution_count": 23,
   "metadata": {
    "execution": {
     "iopub.execute_input": "2022-05-17T15:54:28.556299Z",
     "iopub.status.busy": "2022-05-17T15:54:28.556039Z",
     "iopub.status.idle": "2022-05-17T15:54:28.569303Z",
     "shell.execute_reply": "2022-05-17T15:54:28.567662Z",
     "shell.execute_reply.started": "2022-05-17T15:54:28.556271Z"
    }
   },
   "outputs": [],
   "source": [
    "data_games1['price'] = data_games1['price'].apply(\n",
    "    lambda x: x.replace('бон.', ''))\n",
    "data_games1['price'] = data_games1['price'].apply(lambda x: x.replace('₽', ''))\n",
    "data_games1['price'] = data_games1['price'].apply(\n",
    "    lambda x: x.replace('\\xa0', ''))"
   ]
  },
  {
   "cell_type": "code",
   "execution_count": 24,
   "metadata": {
    "execution": {
     "iopub.execute_input": "2022-05-17T15:54:29.896762Z",
     "iopub.status.busy": "2022-05-17T15:54:29.895931Z",
     "iopub.status.idle": "2022-05-17T15:54:29.904844Z",
     "shell.execute_reply": "2022-05-17T15:54:29.903952Z",
     "shell.execute_reply.started": "2022-05-17T15:54:29.896714Z"
    }
   },
   "outputs": [],
   "source": [
    "data_games1['price'] = data_games1['price'].apply(lambda x: int(x))"
   ]
  },
  {
   "cell_type": "markdown",
   "metadata": {},
   "source": [
    "Уберем некоторые ненужные символы из описания и состава игры для выделения некоторых фич:"
   ]
  },
  {
   "cell_type": "code",
   "execution_count": 25,
   "metadata": {
    "execution": {
     "iopub.execute_input": "2022-05-17T15:54:32.610130Z",
     "iopub.status.busy": "2022-05-17T15:54:32.609573Z",
     "iopub.status.idle": "2022-05-17T15:54:32.639986Z",
     "shell.execute_reply": "2022-05-17T15:54:32.639201Z",
     "shell.execute_reply.started": "2022-05-17T15:54:32.610093Z"
    }
   },
   "outputs": [],
   "source": [
    "data_games1['description'] = data_games1['description'].apply(\n",
    "    lambda x: x.replace('\\r', ''))\n",
    "data_games1['description'] = data_games1['description'].apply(\n",
    "    lambda x: x.replace('\\n', ''))\n",
    "data_games1['description'] = data_games1['description'].apply(\n",
    "    lambda x: x.replace('\\t', ''))\n",
    "data_games1['package'] = data_games1['package'].apply(\n",
    "    lambda x: x.replace('\\r', ''))\n",
    "data_games1['package'] = data_games1['package'].apply(\n",
    "    lambda x: x.replace('\\n', ''))\n",
    "data_games1['package'] = data_games1['package'].apply(\n",
    "    lambda x: x.replace('\\t', ''))"
   ]
  },
  {
   "cell_type": "markdown",
   "metadata": {},
   "source": [
    "# Feature engeneering"
   ]
  },
  {
   "cell_type": "markdown",
   "metadata": {},
   "source": [
    "На данном этапе выделим несколько фич для обучения:\n",
    "* Есть ли карты в наборе\n",
    "* Есть ли фигурки в наборе\n",
    "* Символьная длина описания\n",
    "* Символьная длина набора\n",
    "* Символьная длина названия"
   ]
  },
  {
   "cell_type": "code",
   "execution_count": 26,
   "metadata": {
    "execution": {
     "iopub.execute_input": "2022-05-17T15:55:10.305669Z",
     "iopub.status.busy": "2022-05-17T15:55:10.305312Z",
     "iopub.status.idle": "2022-05-17T15:55:10.323847Z",
     "shell.execute_reply": "2022-05-17T15:55:10.323056Z",
     "shell.execute_reply.started": "2022-05-17T15:55:10.305630Z"
    }
   },
   "outputs": [],
   "source": [
    "data_games1['cards'] = data_games1['package'].apply(\n",
    "    lambda x: 1 if 'карт' in x else 0)\n",
    "data_games1['figures'] = data_games1['package'].apply(\n",
    "    lambda x: 1 if 'фигур' in x else 0)\n",
    "data_games1['pack_length'] = data_games1['package'].apply(lambda x: len(x))\n",
    "data_games1['desc_length'] = data_games1['description'].apply(lambda x: len(x))\n",
    "data_games1['name_length'] = data_games1['gameName'].apply(lambda x: len(x))"
   ]
  },
  {
   "cell_type": "code",
   "execution_count": 27,
   "metadata": {
    "execution": {
     "iopub.execute_input": "2022-05-17T15:55:11.722303Z",
     "iopub.status.busy": "2022-05-17T15:55:11.721626Z",
     "iopub.status.idle": "2022-05-17T15:55:11.754805Z",
     "shell.execute_reply": "2022-05-17T15:55:11.751955Z",
     "shell.execute_reply.started": "2022-05-17T15:55:11.722251Z"
    }
   },
   "outputs": [],
   "source": [
    "data_games1.head()"
   ]
  },
  {
   "cell_type": "markdown",
   "metadata": {},
   "source": [
    "Теперь построим гистограммы для наших новых столбцов:"
   ]
  },
  {
   "cell_type": "code",
   "execution_count": 139,
   "metadata": {
    "execution": {
     "iopub.execute_input": "2022-05-17T18:11:04.323235Z",
     "iopub.status.busy": "2022-05-17T18:11:04.322583Z",
     "iopub.status.idle": "2022-05-17T18:11:04.642722Z",
     "shell.execute_reply": "2022-05-17T18:11:04.642039Z",
     "shell.execute_reply.started": "2022-05-17T18:11:04.323199Z"
    }
   },
   "outputs": [],
   "source": [
    "data_games1.cards.hist()"
   ]
  },
  {
   "cell_type": "code",
   "execution_count": 140,
   "metadata": {
    "execution": {
     "iopub.execute_input": "2022-05-17T18:11:21.600163Z",
     "iopub.status.busy": "2022-05-17T18:11:21.599869Z",
     "iopub.status.idle": "2022-05-17T18:11:21.809068Z",
     "shell.execute_reply": "2022-05-17T18:11:21.808405Z",
     "shell.execute_reply.started": "2022-05-17T18:11:21.600131Z"
    }
   },
   "outputs": [],
   "source": [
    "data_games1.figures.hist()"
   ]
  },
  {
   "cell_type": "markdown",
   "metadata": {},
   "source": [
    "Как можно увидеть - данные несбалансированы. Скорее всего это связано с тем, что большинство настольных игр делают довольно простыми, в них присутствуют только карты из дополнительных вещей игры. Фигурки - вещь гораздо менее используемая, однако наличие фигурок, по собственному опыту могу сказать, обычно сильно увеличивает стоимость самой игры."
   ]
  },
  {
   "cell_type": "markdown",
   "metadata": {},
   "source": [
    "Категориальные и числовые столбцы, используемые для обучения:"
   ]
  },
  {
   "cell_type": "code",
   "execution_count": 28,
   "metadata": {
    "execution": {
     "iopub.execute_input": "2022-05-17T15:56:46.828232Z",
     "iopub.status.busy": "2022-05-17T15:56:46.827679Z",
     "iopub.status.idle": "2022-05-17T15:56:46.831753Z",
     "shell.execute_reply": "2022-05-17T15:56:46.831081Z",
     "shell.execute_reply.started": "2022-05-17T15:56:46.828196Z"
    }
   },
   "outputs": [],
   "source": [
    "cat_features1 = ['players', 'time', 'age', 'manufacturer', 'cards', 'figures']\n",
    "num_features1 = ['pack_length', 'desc_length', 'name_length']"
   ]
  },
  {
   "cell_type": "markdown",
   "metadata": {},
   "source": [
    "Функция для предобработки данных:"
   ]
  },
  {
   "cell_type": "code",
   "execution_count": 29,
   "metadata": {
    "execution": {
     "iopub.execute_input": "2022-05-17T15:56:56.321190Z",
     "iopub.status.busy": "2022-05-17T15:56:56.320931Z",
     "iopub.status.idle": "2022-05-17T15:56:56.328758Z",
     "shell.execute_reply": "2022-05-17T15:56:56.327933Z",
     "shell.execute_reply.started": "2022-05-17T15:56:56.321161Z"
    }
   },
   "outputs": [],
   "source": [
    "def preproc_data1(df_input):\n",
    "\n",
    "    df_output = df_input.copy()\n",
    "\n",
    "    # Удалим неиспользуемые столбцы\n",
    "    df_output.drop(['description', 'package', 'gameName',\n",
    "                    'image'], axis=1, inplace=True)\n",
    "\n",
    "    scaler = RobustScaler()\n",
    "    for column in num_features1:\n",
    "        df_output[column] = scaler.fit_transform(df_output[[column]])[:, 0]\n",
    "\n",
    "    #################### Работа с категориальными признаками ############################################################\n",
    "    # Label Encoding\n",
    "    for column in cat_features1:\n",
    "        df_output[column], _ = pd.factorize(df_output[column])\n",
    "\n",
    "    # One-Hot Encoding:\n",
    "    df_output = pd.get_dummies(\n",
    "        df_output, columns=cat_features1, dummy_na=False)\n",
    "\n",
    "    return df_output"
   ]
  },
  {
   "cell_type": "code",
   "execution_count": 30,
   "metadata": {
    "execution": {
     "iopub.execute_input": "2022-05-17T15:56:59.256714Z",
     "iopub.status.busy": "2022-05-17T15:56:59.255085Z",
     "iopub.status.idle": "2022-05-17T15:56:59.330939Z",
     "shell.execute_reply": "2022-05-17T15:56:59.325841Z",
     "shell.execute_reply.started": "2022-05-17T15:56:59.256666Z"
    }
   },
   "outputs": [],
   "source": [
    "df_preproc1 = preproc_data1(data_games1)\n",
    "df_preproc1.head(10)"
   ]
  },
  {
   "cell_type": "markdown",
   "metadata": {},
   "source": [
    "Разделение на выборки:"
   ]
  },
  {
   "cell_type": "code",
   "execution_count": 31,
   "metadata": {
    "execution": {
     "iopub.execute_input": "2022-05-17T15:57:06.804543Z",
     "iopub.status.busy": "2022-05-17T15:57:06.804287Z",
     "iopub.status.idle": "2022-05-17T15:57:06.814823Z",
     "shell.execute_reply": "2022-05-17T15:57:06.814007Z",
     "shell.execute_reply.started": "2022-05-17T15:57:06.804514Z"
    }
   },
   "outputs": [],
   "source": [
    "y1 = df_preproc1.price.values     # наш таргет\n",
    "X1 = df_preproc1.drop(['price'], axis=1)"
   ]
  },
  {
   "cell_type": "code",
   "execution_count": 32,
   "metadata": {
    "execution": {
     "iopub.execute_input": "2022-05-17T15:57:07.348982Z",
     "iopub.status.busy": "2022-05-17T15:57:07.348401Z",
     "iopub.status.idle": "2022-05-17T15:57:07.360324Z",
     "shell.execute_reply": "2022-05-17T15:57:07.359402Z",
     "shell.execute_reply.started": "2022-05-17T15:57:07.348940Z"
    }
   },
   "outputs": [],
   "source": [
    "X_train_games, X_test_games, y_train_games, y_test_games = train_test_split(\n",
    "    X1, y1, test_size=0.15, shuffle=True, random_state=RANDOM_SEED)"
   ]
  },
  {
   "cell_type": "markdown",
   "metadata": {},
   "source": [
    "# Бейзлайн"
   ]
  },
  {
   "cell_type": "markdown",
   "metadata": {},
   "source": [
    "Бейзлайн необходим для того, чтобы иметь понимание в какую сторону мы движемся при использовании различных моделей прогнозирования стоимости."
   ]
  },
  {
   "cell_type": "code",
   "execution_count": 34,
   "metadata": {
    "execution": {
     "iopub.execute_input": "2022-05-17T16:00:47.118228Z",
     "iopub.status.busy": "2022-05-17T16:00:47.117672Z",
     "iopub.status.idle": "2022-05-17T16:00:47.124782Z",
     "shell.execute_reply": "2022-05-17T16:00:47.123936Z",
     "shell.execute_reply.started": "2022-05-17T16:00:47.118187Z"
    }
   },
   "outputs": [],
   "source": [
    "game_base_mape = (mape(y_test_games, np.mean(y_train_games)))*100\n",
    "game_base_mae = mae(y_test_games, np.mean(y_train_games))\n",
    "game_base_rmse = rmse(y_test_games, np.mean(y_train_games))"
   ]
  },
  {
   "cell_type": "code",
   "execution_count": 44,
   "metadata": {
    "execution": {
     "iopub.execute_input": "2022-05-17T16:03:49.061081Z",
     "iopub.status.busy": "2022-05-17T16:03:49.060828Z",
     "iopub.status.idle": "2022-05-17T16:03:49.067668Z",
     "shell.execute_reply": "2022-05-17T16:03:49.066703Z",
     "shell.execute_reply.started": "2022-05-17T16:03:49.061055Z"
    }
   },
   "outputs": [],
   "source": [
    "print(f\"TEST mape: {game_base_mape:0.2f}%\")\n",
    "print(f\"TEST mae: {game_base_mae:0.2f}\")\n",
    "print(f\"TEST rmse: {game_base_rmse:0.2f}\")"
   ]
  },
  {
   "cell_type": "markdown",
   "metadata": {},
   "source": [
    "Как можно увидеть, согласно метрике МАРЕ ,в среднем, такая модель ошибается более чем на 100% при определении стоимости игры. Данный результат является очень плохим, фактически неспособным дать хоть какой-то достоверный прогноз. Но он нужен для определении базы для дальнейшего выбора наиболее продуктивного алгоритма."
   ]
  },
  {
   "cell_type": "markdown",
   "metadata": {},
   "source": [
    "# Линейная регрессия"
   ]
  },
  {
   "cell_type": "markdown",
   "metadata": {},
   "source": [
    "Как и в дата-сете с книгами, первым делом посмотрим, как будет себя вести линейная регрессия, какие метрики она покажет:"
   ]
  },
  {
   "cell_type": "code",
   "execution_count": 37,
   "metadata": {
    "execution": {
     "iopub.execute_input": "2022-05-17T16:01:12.501644Z",
     "iopub.status.busy": "2022-05-17T16:01:12.501373Z",
     "iopub.status.idle": "2022-05-17T16:01:12.583330Z",
     "shell.execute_reply": "2022-05-17T16:01:12.582570Z",
     "shell.execute_reply.started": "2022-05-17T16:01:12.501615Z"
    }
   },
   "outputs": [],
   "source": [
    "linreg = LinearRegression().fit(X_train_games, np.log(y_train_games))\n",
    "predict_linreg = np.exp(linreg.predict(X_test_games))"
   ]
  },
  {
   "cell_type": "markdown",
   "metadata": {},
   "source": [
    "Возникла та же самая проблема, некоторые значения при экспоненцировании уходят в inf. Избавимся от них для вычисления метрик"
   ]
  },
  {
   "cell_type": "code",
   "execution_count": 46,
   "metadata": {
    "execution": {
     "iopub.execute_input": "2022-05-17T16:06:42.806286Z",
     "iopub.status.busy": "2022-05-17T16:06:42.805588Z",
     "iopub.status.idle": "2022-05-17T16:06:42.810438Z",
     "shell.execute_reply": "2022-05-17T16:06:42.809412Z",
     "shell.execute_reply.started": "2022-05-17T16:06:42.806249Z"
    }
   },
   "outputs": [],
   "source": [
    "y_test_new1 = []\n",
    "linreg_pred = []"
   ]
  },
  {
   "cell_type": "code",
   "execution_count": 47,
   "metadata": {
    "execution": {
     "iopub.execute_input": "2022-05-17T16:06:43.228354Z",
     "iopub.status.busy": "2022-05-17T16:06:43.227928Z",
     "iopub.status.idle": "2022-05-17T16:06:43.233994Z",
     "shell.execute_reply": "2022-05-17T16:06:43.233275Z",
     "shell.execute_reply.started": "2022-05-17T16:06:43.228319Z"
    }
   },
   "outputs": [],
   "source": [
    "for i in range(0, len(y_test_games)-1):\n",
    "    if predict_linreg[i] != np.inf:\n",
    "        y_test_new1.append(y_test_games[i])\n",
    "        linreg_pred.append(predict_linreg[i])"
   ]
  },
  {
   "cell_type": "code",
   "execution_count": 48,
   "metadata": {
    "execution": {
     "iopub.execute_input": "2022-05-17T16:06:43.826604Z",
     "iopub.status.busy": "2022-05-17T16:06:43.825713Z",
     "iopub.status.idle": "2022-05-17T16:06:43.831223Z",
     "shell.execute_reply": "2022-05-17T16:06:43.830426Z",
     "shell.execute_reply.started": "2022-05-17T16:06:43.826528Z"
    }
   },
   "outputs": [],
   "source": [
    "y_test_new1 = np.array(y_test_new1)\n",
    "linreg_pred = np.array(linreg_pred)"
   ]
  },
  {
   "cell_type": "code",
   "execution_count": 49,
   "metadata": {
    "execution": {
     "iopub.execute_input": "2022-05-17T16:06:44.818711Z",
     "iopub.status.busy": "2022-05-17T16:06:44.818244Z",
     "iopub.status.idle": "2022-05-17T16:06:44.830521Z",
     "shell.execute_reply": "2022-05-17T16:06:44.829377Z",
     "shell.execute_reply.started": "2022-05-17T16:06:44.818669Z"
    }
   },
   "outputs": [],
   "source": [
    "game_linreg_mape = (mape(y_test_new1, linreg_pred))*100\n",
    "game_linreg_mae = mae(y_test_new1, linreg_pred)\n",
    "game_linreg_rmse = rmse(y_test_new1, linreg_pred)"
   ]
  },
  {
   "cell_type": "code",
   "execution_count": 50,
   "metadata": {
    "execution": {
     "iopub.execute_input": "2022-05-17T16:06:45.523012Z",
     "iopub.status.busy": "2022-05-17T16:06:45.522476Z",
     "iopub.status.idle": "2022-05-17T16:06:45.528678Z",
     "shell.execute_reply": "2022-05-17T16:06:45.527699Z",
     "shell.execute_reply.started": "2022-05-17T16:06:45.522977Z"
    }
   },
   "outputs": [],
   "source": [
    "print(f\"TEST mape: {game_linreg_mape:0.2f}%\")\n",
    "print(f\"TEST mae: {game_linreg_mae:0.2f}\")\n",
    "print(f\"TEST rmse: {game_linreg_rmse:0.2f}\")"
   ]
  },
  {
   "cell_type": "markdown",
   "metadata": {},
   "source": [
    "Погрешность упала, по сравнению с бейзлайном. Также, можно выделить, что погрешность почти в два раза отличается от дата-сета с книгами, выходит что на текущих данных регрессия чувствует себя лучше, чем на тех, которые использовались в начале. Посмотрим, как поведут себя другие алгоритмы."
   ]
  },
  {
   "cell_type": "markdown",
   "metadata": {},
   "source": [
    "# RandomForest"
   ]
  },
  {
   "cell_type": "markdown",
   "metadata": {},
   "source": [
    "RandomForest используется с теми же параметрами, которые были в первой части работы. Необходимо отдельно отметить, что были попытки использовать различные параметры в поисках улучшения метрик, однако это не привело к разительным успехам. Кроме того, действительно хорошим решением было бы использовать подбор гиперпараметров, однако этот способ занимает много вычислительного времени."
   ]
  },
  {
   "cell_type": "code",
   "execution_count": 52,
   "metadata": {
    "execution": {
     "iopub.execute_input": "2022-05-17T16:09:01.336229Z",
     "iopub.status.busy": "2022-05-17T16:09:01.334097Z",
     "iopub.status.idle": "2022-05-17T16:09:03.102517Z",
     "shell.execute_reply": "2022-05-17T16:09:03.101607Z",
     "shell.execute_reply.started": "2022-05-17T16:09:01.336191Z"
    }
   },
   "outputs": [],
   "source": [
    "game_forest = RandomForestRegressor(n_estimators=500,\n",
    "                                    n_jobs=-1,\n",
    "                                    max_depth=15,\n",
    "                                    max_features='log2',\n",
    "                                    random_state=RANDOM_SEED,\n",
    "                                    oob_score=True).fit(X_train_games, np.log(y_train_games))\n",
    "\n",
    "rf_predict_games = np.exp(game_forest.predict(X_test_games))"
   ]
  },
  {
   "cell_type": "code",
   "execution_count": 53,
   "metadata": {
    "execution": {
     "iopub.execute_input": "2022-05-17T16:09:06.958090Z",
     "iopub.status.busy": "2022-05-17T16:09:06.957835Z",
     "iopub.status.idle": "2022-05-17T16:09:06.963262Z",
     "shell.execute_reply": "2022-05-17T16:09:06.962192Z",
     "shell.execute_reply.started": "2022-05-17T16:09:06.958062Z"
    }
   },
   "outputs": [],
   "source": [
    "game_forest_mape = (mape(y_test_games, rf_predict_games))*100\n",
    "game_forest_mae = mae(y_test_games, rf_predict_games)\n",
    "game_forest_rmse = rmse(y_test_games, rf_predict_games)"
   ]
  },
  {
   "cell_type": "code",
   "execution_count": 54,
   "metadata": {
    "execution": {
     "iopub.execute_input": "2022-05-17T16:09:39.707294Z",
     "iopub.status.busy": "2022-05-17T16:09:39.706606Z",
     "iopub.status.idle": "2022-05-17T16:09:39.712509Z",
     "shell.execute_reply": "2022-05-17T16:09:39.711387Z",
     "shell.execute_reply.started": "2022-05-17T16:09:39.707256Z"
    }
   },
   "outputs": [],
   "source": [
    "print(f\"TEST mape: {game_forest_mape:0.2f}%\")\n",
    "print(f\"TEST mae: {game_forest_mae:0.2f}\")\n",
    "print(f\"TEST rmse: {game_forest_rmse:0.2f}\")"
   ]
  },
  {
   "cell_type": "markdown",
   "metadata": {},
   "source": [
    "Первое отличие от исследования на дата-сете с книгами - там случайный лес показал улучшение метрик, по сравнению с линейной регрессией. Здесь же получилось, что его метрики немного хуже, вероятно для него недостаточно данных, чтобы найти наиболее качественное решение задачи. Посмотрим, как это скажется на других моделях."
   ]
  },
  {
   "cell_type": "markdown",
   "metadata": {},
   "source": [
    "# Catboost"
   ]
  },
  {
   "cell_type": "code",
   "execution_count": 55,
   "metadata": {
    "execution": {
     "iopub.execute_input": "2022-05-17T16:15:06.138231Z",
     "iopub.status.busy": "2022-05-17T16:15:06.137504Z",
     "iopub.status.idle": "2022-05-17T16:15:10.293416Z",
     "shell.execute_reply": "2022-05-17T16:15:10.292739Z",
     "shell.execute_reply.started": "2022-05-17T16:15:06.138191Z"
    }
   },
   "outputs": [],
   "source": [
    "cb_model = CatBoostRegressor(iterations=60000,  # Количество итераций\n",
    "                             learning_rate=0.1,\n",
    "                             random_seed=RANDOM_SEED,\n",
    "                             eval_metric='MAPE',\n",
    "                             custom_metric=['RMSE', 'MAE'],\n",
    "                             od_wait=500,  # Прерывает выполнение, если нет улучшения 500 итераций\n",
    "                             )\n",
    "# обучим модель\n",
    "cb_model.fit(X_train_games, np.log(y_train_games),\n",
    "             eval_set=(X_test_games, np.log(y_test_games)),\n",
    "             verbose_eval=100,\n",
    "             use_best_model=True,\n",
    "             )"
   ]
  },
  {
   "cell_type": "code",
   "execution_count": 56,
   "metadata": {
    "execution": {
     "iopub.execute_input": "2022-05-17T16:15:10.295956Z",
     "iopub.status.busy": "2022-05-17T16:15:10.295103Z",
     "iopub.status.idle": "2022-05-17T16:15:10.311760Z",
     "shell.execute_reply": "2022-05-17T16:15:10.311097Z",
     "shell.execute_reply.started": "2022-05-17T16:15:10.295918Z"
    }
   },
   "outputs": [],
   "source": [
    "game_predict_catboost = np.exp(cb_model.predict(X_test_games))"
   ]
  },
  {
   "cell_type": "code",
   "execution_count": 58,
   "metadata": {
    "execution": {
     "iopub.execute_input": "2022-05-17T16:16:32.620688Z",
     "iopub.status.busy": "2022-05-17T16:16:32.620410Z",
     "iopub.status.idle": "2022-05-17T16:16:32.625449Z",
     "shell.execute_reply": "2022-05-17T16:16:32.624607Z",
     "shell.execute_reply.started": "2022-05-17T16:16:32.620659Z"
    }
   },
   "outputs": [],
   "source": [
    "game_cat_mape = (mape(y_test_games, game_predict_catboost))*100\n",
    "game_cat_mae = mae(y_test_games, game_predict_catboost)\n",
    "game_cat_rmse = rmse(y_test_games, game_predict_catboost)"
   ]
  },
  {
   "cell_type": "code",
   "execution_count": 59,
   "metadata": {
    "execution": {
     "iopub.execute_input": "2022-05-17T16:16:33.605599Z",
     "iopub.status.busy": "2022-05-17T16:16:33.605194Z",
     "iopub.status.idle": "2022-05-17T16:16:33.611149Z",
     "shell.execute_reply": "2022-05-17T16:16:33.610415Z",
     "shell.execute_reply.started": "2022-05-17T16:16:33.605567Z"
    }
   },
   "outputs": [],
   "source": [
    "print(f\"TEST mape: {game_cat_mape:0.2f}%\")\n",
    "print(f\"TEST mae: {game_cat_mae:0.2f}\")\n",
    "print(f\"TEST rmse: {game_cat_rmse:0.2f}\")"
   ]
  },
  {
   "cell_type": "markdown",
   "metadata": {},
   "source": [
    "Catboost все так же показывает хорошие результаты, он неизменимо улучшает исследуемые метрики. Так, при catboost'e, наши прогнозы, в среднем, на 41% отличаются от фактических значений выборки, что гораздо лучше, чем 117% при бейзлайне."
   ]
  },
  {
   "cell_type": "markdown",
   "metadata": {},
   "source": [
    "# MLP сеть"
   ]
  },
  {
   "cell_type": "markdown",
   "metadata": {},
   "source": [
    "Данная модель идентична с моделью из первой части работы и собрана из нескольких Dense-слоев с использованием l2 регуляризации и функции активации нейрона \"relu\". Создадим и скомпилируем модель:"
   ]
  },
  {
   "cell_type": "code",
   "execution_count": 82,
   "metadata": {
    "execution": {
     "iopub.execute_input": "2022-05-17T16:31:04.399999Z",
     "iopub.status.busy": "2022-05-17T16:31:04.399601Z",
     "iopub.status.idle": "2022-05-17T16:31:04.442796Z",
     "shell.execute_reply": "2022-05-17T16:31:04.441968Z",
     "shell.execute_reply.started": "2022-05-17T16:31:04.399961Z"
    }
   },
   "outputs": [],
   "source": [
    "model_ml1 = Sequential()\n",
    "model_ml1.add(\n",
    "    L.Dense(1024, input_dim=X_train_games.shape[1], activation=\"relu\"))\n",
    "model_ml1.add(L.Dense(512, kernel_regularizer=regularizers.l2(\n",
    "    l2=1e-6), activation=\"relu\"))\n",
    "model_ml1.add(L.Dense(256, kernel_regularizer=regularizers.l2(\n",
    "    l2=1e-6), activation=\"relu\"))\n",
    "model_ml1.add(L.Dense(128, kernel_regularizer=regularizers.l2(\n",
    "    l2=1e-7), activation=\"relu\"))\n",
    "model_ml1.add(L.Dense(1, activation=\"linear\"))"
   ]
  },
  {
   "cell_type": "code",
   "execution_count": 83,
   "metadata": {
    "execution": {
     "iopub.execute_input": "2022-05-17T16:31:04.629268Z",
     "iopub.status.busy": "2022-05-17T16:31:04.629003Z",
     "iopub.status.idle": "2022-05-17T16:31:04.638102Z",
     "shell.execute_reply": "2022-05-17T16:31:04.637370Z",
     "shell.execute_reply.started": "2022-05-17T16:31:04.629231Z"
    }
   },
   "outputs": [],
   "source": [
    "# Compile model\n",
    "optimizer = tf.keras.optimizers.Adamax(0.001)\n",
    "model_ml1.compile(loss='MAPE', optimizer=optimizer, metrics=['MAPE'])"
   ]
  },
  {
   "cell_type": "markdown",
   "metadata": {},
   "source": [
    "Пропишемо основные колбэки:"
   ]
  },
  {
   "cell_type": "code",
   "execution_count": 84,
   "metadata": {
    "execution": {
     "iopub.execute_input": "2022-05-17T16:31:05.413026Z",
     "iopub.status.busy": "2022-05-17T16:31:05.412769Z",
     "iopub.status.idle": "2022-05-17T16:31:05.419970Z",
     "shell.execute_reply": "2022-05-17T16:31:05.419110Z",
     "shell.execute_reply.started": "2022-05-17T16:31:05.412998Z"
    }
   },
   "outputs": [],
   "source": [
    "checkpoint = ModelCheckpoint(\n",
    "    '../working/best_model.hdf5', monitor=['val_MAPE'], verbose=0, mode='min')\n",
    "earlystop = EarlyStopping(\n",
    "    monitor='val_MAPE', patience=50, restore_best_weights=True,)\n",
    "callbacks_list = [checkpoint, earlystop]"
   ]
  },
  {
   "cell_type": "markdown",
   "metadata": {},
   "source": [
    "Обучение:"
   ]
  },
  {
   "cell_type": "code",
   "execution_count": 85,
   "metadata": {
    "collapsed": true,
    "execution": {
     "iopub.execute_input": "2022-05-17T16:31:06.317053Z",
     "iopub.status.busy": "2022-05-17T16:31:06.316807Z",
     "iopub.status.idle": "2022-05-17T16:31:26.588841Z",
     "shell.execute_reply": "2022-05-17T16:31:26.588090Z",
     "shell.execute_reply.started": "2022-05-17T16:31:06.317026Z"
    },
    "jupyter": {
     "outputs_hidden": true
    }
   },
   "outputs": [],
   "source": [
    "history1 = model_ml1.fit(X_train_games, y_train_games,\n",
    "                         batch_size=512,  # размер батча\n",
    "                         epochs=500,  # количество эпох для обучения\n",
    "                         # данные для валидации\n",
    "                         validation_data=(X_test_games, y_test_games),\n",
    "                         callbacks=callbacks_list,  # список  наших коллбэков\n",
    "                         verbose=1,  # параметр, отвечающий за выведение прогресс-бара\n",
    "                         )"
   ]
  },
  {
   "cell_type": "code",
   "execution_count": 90,
   "metadata": {
    "execution": {
     "iopub.execute_input": "2022-05-17T16:31:52.059323Z",
     "iopub.status.busy": "2022-05-17T16:31:52.058904Z",
     "iopub.status.idle": "2022-05-17T16:31:52.157417Z",
     "shell.execute_reply": "2022-05-17T16:31:52.156613Z",
     "shell.execute_reply.started": "2022-05-17T16:31:52.059255Z"
    }
   },
   "outputs": [],
   "source": [
    "game_predict_nn1 = model_ml1.predict(X_test_games)"
   ]
  },
  {
   "cell_type": "code",
   "execution_count": 91,
   "metadata": {
    "execution": {
     "iopub.execute_input": "2022-05-17T16:31:53.127391Z",
     "iopub.status.busy": "2022-05-17T16:31:53.127093Z",
     "iopub.status.idle": "2022-05-17T16:31:53.134880Z",
     "shell.execute_reply": "2022-05-17T16:31:53.133269Z",
     "shell.execute_reply.started": "2022-05-17T16:31:53.127357Z"
    }
   },
   "outputs": [],
   "source": [
    "game_mlp_mape = (mape(y_test_games, game_predict_nn1[:, 0]))*100\n",
    "game_mlp_mae = mae(y_test_games, game_predict_nn1[:, 0])\n",
    "game_mlp_rmse = rmse(y_test_games, game_predict_nn1[:, 0])"
   ]
  },
  {
   "cell_type": "code",
   "execution_count": 92,
   "metadata": {
    "execution": {
     "iopub.execute_input": "2022-05-17T16:31:53.473987Z",
     "iopub.status.busy": "2022-05-17T16:31:53.473507Z",
     "iopub.status.idle": "2022-05-17T16:31:53.480007Z",
     "shell.execute_reply": "2022-05-17T16:31:53.479105Z",
     "shell.execute_reply.started": "2022-05-17T16:31:53.473942Z"
    }
   },
   "outputs": [],
   "source": [
    "print(f\"TEST mape: {game_mlp_mape:0.2f}%\")\n",
    "print(f\"TEST mae: {game_mlp_mae:0.2f}\")\n",
    "print(f\"TEST rmse: {game_mlp_rmse:0.2f}\")"
   ]
  },
  {
   "cell_type": "markdown",
   "metadata": {},
   "source": [
    "Как можно увидеть - все метрика МАРЕ еще немного улучшилась, однако метрики МАЕ и RMSE стали немного хуже. Это значит, что наша модель, в среднем, ошибается на 37% в сравнении с фактическим значением, но грубые ошибки, которые могут возникать при прогнозе, стали немного больше. Необходимо отдельно выделить, что при попытке логарифмировать таргет модель давала характеристики, на 5-7% худшие, чем без него. "
   ]
  },
  {
   "cell_type": "markdown",
   "metadata": {},
   "source": [
    "# MLP+NLP+NLP"
   ]
  },
  {
   "cell_type": "markdown",
   "metadata": {},
   "source": [
    "Здесь структура сети немного отличается от первой части, так как в NLP мы используем две сети, одна из которых обучается на столбце \"description\", а вторая на столбце \"package\". В остальном, процесс обработки данных такой же, как и в multi-input сети для дата-сета с книгами."
   ]
  },
  {
   "cell_type": "markdown",
   "metadata": {},
   "source": [
    "Обработка текста"
   ]
  },
  {
   "cell_type": "code",
   "execution_count": 93,
   "metadata": {
    "execution": {
     "iopub.execute_input": "2022-05-17T16:36:29.694105Z",
     "iopub.status.busy": "2022-05-17T16:36:29.693529Z",
     "iopub.status.idle": "2022-05-17T16:36:29.699376Z",
     "shell.execute_reply": "2022-05-17T16:36:29.698680Z",
     "shell.execute_reply.started": "2022-05-17T16:36:29.694069Z"
    }
   },
   "outputs": [],
   "source": [
    "df_NLP1 = data_games1.copy()"
   ]
  },
  {
   "cell_type": "code",
   "execution_count": 100,
   "metadata": {
    "execution": {
     "iopub.execute_input": "2022-05-17T16:37:21.167963Z",
     "iopub.status.busy": "2022-05-17T16:37:21.167385Z",
     "iopub.status.idle": "2022-05-17T16:37:55.310489Z",
     "shell.execute_reply": "2022-05-17T16:37:55.309757Z",
     "shell.execute_reply.started": "2022-05-17T16:37:21.167921Z"
    }
   },
   "outputs": [],
   "source": [
    "strings_set1 = []\n",
    "strings_set1 = df_NLP1.apply(\n",
    "    lambda df_NLP1: lemma(df_NLP1.description), axis=1)"
   ]
  },
  {
   "cell_type": "code",
   "execution_count": 101,
   "metadata": {
    "execution": {
     "iopub.execute_input": "2022-05-17T16:37:55.312117Z",
     "iopub.status.busy": "2022-05-17T16:37:55.311895Z",
     "iopub.status.idle": "2022-05-17T16:38:10.311309Z",
     "shell.execute_reply": "2022-05-17T16:38:10.310599Z",
     "shell.execute_reply.started": "2022-05-17T16:37:55.312085Z"
    }
   },
   "outputs": [],
   "source": [
    "strings_set2 = []\n",
    "strings_set2 = df_NLP1.apply(\n",
    "    lambda df_NLP1: lemma(df_NLP1.package), axis=1)"
   ]
  },
  {
   "cell_type": "code",
   "execution_count": 102,
   "metadata": {
    "execution": {
     "iopub.execute_input": "2022-05-17T16:38:10.312998Z",
     "iopub.status.busy": "2022-05-17T16:38:10.312754Z",
     "iopub.status.idle": "2022-05-17T16:38:10.318030Z",
     "shell.execute_reply": "2022-05-17T16:38:10.317406Z",
     "shell.execute_reply.started": "2022-05-17T16:38:10.312965Z"
    }
   },
   "outputs": [],
   "source": [
    "# функция для проверки на стоп-слова\n",
    "def lineWithoutStopWords(line):\n",
    "    line = line.split()  # разделяем на слова\n",
    "    # возвращаем слово, если оно не в списке стоп-слов\n",
    "    return [word for word in line if word not in russian_stopwords]"
   ]
  },
  {
   "cell_type": "code",
   "execution_count": 105,
   "metadata": {
    "execution": {
     "iopub.execute_input": "2022-05-17T16:39:23.553006Z",
     "iopub.status.busy": "2022-05-17T16:39:23.552376Z",
     "iopub.status.idle": "2022-05-17T16:39:23.782233Z",
     "shell.execute_reply": "2022-05-17T16:39:23.781514Z",
     "shell.execute_reply.started": "2022-05-17T16:39:23.552965Z"
    }
   },
   "outputs": [],
   "source": [
    "# применим функцию к нашим лемматизированым строкам слов\n",
    "str_without_stop1 = [lineWithoutStopWords(line) for line in strings_set1]\n",
    "str_without_stop2 = [lineWithoutStopWords(line) for line in strings_set2]"
   ]
  },
  {
   "cell_type": "code",
   "execution_count": 106,
   "metadata": {
    "execution": {
     "iopub.execute_input": "2022-05-17T16:39:25.480802Z",
     "iopub.status.busy": "2022-05-17T16:39:25.480242Z",
     "iopub.status.idle": "2022-05-17T16:39:25.488891Z",
     "shell.execute_reply": "2022-05-17T16:39:25.488090Z",
     "shell.execute_reply.started": "2022-05-17T16:39:25.480765Z"
    }
   },
   "outputs": [],
   "source": [
    "text_train_games = data_games1.package.iloc[X_train_games.index]\n",
    "text_test_games = data_games1.package.iloc[X_test_games.index]"
   ]
  },
  {
   "cell_type": "code",
   "execution_count": 107,
   "metadata": {
    "execution": {
     "iopub.execute_input": "2022-05-17T16:39:26.191192Z",
     "iopub.status.busy": "2022-05-17T16:39:26.190494Z",
     "iopub.status.idle": "2022-05-17T16:39:26.196505Z",
     "shell.execute_reply": "2022-05-17T16:39:26.195691Z",
     "shell.execute_reply.started": "2022-05-17T16:39:26.191154Z"
    }
   },
   "outputs": [],
   "source": [
    "text_train_games1 = data_games1.description.iloc[X_train_games.index]\n",
    "text_test_games1 = data_games1.description.iloc[X_test_games.index]"
   ]
  },
  {
   "cell_type": "code",
   "execution_count": 108,
   "metadata": {
    "execution": {
     "iopub.execute_input": "2022-05-17T16:39:27.110858Z",
     "iopub.status.busy": "2022-05-17T16:39:27.110164Z",
     "iopub.status.idle": "2022-05-17T16:39:27.114815Z",
     "shell.execute_reply": "2022-05-17T16:39:27.113998Z",
     "shell.execute_reply.started": "2022-05-17T16:39:27.110824Z"
    }
   },
   "outputs": [],
   "source": [
    "# The maximum number of words to be used. (most frequent)\n",
    "MAX_WORDS = 100000\n",
    "# Max number of words in each complaint.\n",
    "MAX_SEQUENCE_LENGTH = 256"
   ]
  },
  {
   "cell_type": "code",
   "execution_count": 109,
   "metadata": {
    "execution": {
     "iopub.execute_input": "2022-05-17T16:39:31.251188Z",
     "iopub.status.busy": "2022-05-17T16:39:31.250904Z",
     "iopub.status.idle": "2022-05-17T16:39:31.335500Z",
     "shell.execute_reply": "2022-05-17T16:39:31.334802Z",
     "shell.execute_reply.started": "2022-05-17T16:39:31.251159Z"
    }
   },
   "outputs": [],
   "source": [
    "% % time\n",
    "tokenize1 = Tokenizer(num_words=MAX_WORDS)\n",
    "tokenize1.fit_on_texts(str_without_stop1)"
   ]
  },
  {
   "cell_type": "code",
   "execution_count": 110,
   "metadata": {
    "execution": {
     "iopub.execute_input": "2022-05-17T16:39:31.708396Z",
     "iopub.status.busy": "2022-05-17T16:39:31.707934Z",
     "iopub.status.idle": "2022-05-17T16:39:31.755764Z",
     "shell.execute_reply": "2022-05-17T16:39:31.754969Z",
     "shell.execute_reply.started": "2022-05-17T16:39:31.708358Z"
    }
   },
   "outputs": [],
   "source": [
    "% % time\n",
    "tokenize2 = Tokenizer(num_words=MAX_WORDS)\n",
    "tokenize2.fit_on_texts(str_without_stop2)"
   ]
  },
  {
   "cell_type": "code",
   "execution_count": 111,
   "metadata": {
    "execution": {
     "iopub.execute_input": "2022-05-17T16:39:33.399620Z",
     "iopub.status.busy": "2022-05-17T16:39:33.399092Z",
     "iopub.status.idle": "2022-05-17T16:39:33.546321Z",
     "shell.execute_reply": "2022-05-17T16:39:33.545514Z",
     "shell.execute_reply.started": "2022-05-17T16:39:33.399574Z"
    }
   },
   "outputs": [],
   "source": [
    "% % time\n",
    "text_train_sequences1 = sequence.pad_sequences(\n",
    "    tokenize1.texts_to_sequences(text_train_games), maxlen=MAX_SEQUENCE_LENGTH)\n",
    "text_test_sequences1 = sequence.pad_sequences(\n",
    "    tokenize1.texts_to_sequences(text_test_games), maxlen=MAX_SEQUENCE_LENGTH)"
   ]
  },
  {
   "cell_type": "code",
   "execution_count": 112,
   "metadata": {
    "execution": {
     "iopub.execute_input": "2022-05-17T16:39:48.774612Z",
     "iopub.status.busy": "2022-05-17T16:39:48.774332Z",
     "iopub.status.idle": "2022-05-17T16:39:48.916447Z",
     "shell.execute_reply": "2022-05-17T16:39:48.915734Z",
     "shell.execute_reply.started": "2022-05-17T16:39:48.774581Z"
    }
   },
   "outputs": [],
   "source": [
    "% % time\n",
    "text_train_sequences2 = sequence.pad_sequences(\n",
    "    tokenize2.texts_to_sequences(text_train_games1), maxlen=MAX_SEQUENCE_LENGTH)\n",
    "text_test_sequences2 = sequence.pad_sequences(\n",
    "    tokenize2.texts_to_sequences(text_test_games1), maxlen=MAX_SEQUENCE_LENGTH)"
   ]
  },
  {
   "cell_type": "markdown",
   "metadata": {},
   "source": [
    "# NLP1 сеть"
   ]
  },
  {
   "cell_type": "code",
   "execution_count": 113,
   "metadata": {
    "execution": {
     "iopub.execute_input": "2022-05-17T16:59:06.923014Z",
     "iopub.status.busy": "2022-05-17T16:59:06.922687Z",
     "iopub.status.idle": "2022-05-17T16:59:07.582799Z",
     "shell.execute_reply": "2022-05-17T16:59:07.582100Z",
     "shell.execute_reply.started": "2022-05-17T16:59:06.922976Z"
    }
   },
   "outputs": [],
   "source": [
    "model_nlp1 = Sequential()\n",
    "model_nlp1.add(L.Input(shape=MAX_SEQUENCE_LENGTH, name=\"seq_package1\"))\n",
    "model_nlp1.add(L.Embedding(len(tokenize1.word_index)+1, MAX_SEQUENCE_LENGTH,))\n",
    "model_nlp1.add(L.LayerNormalization())\n",
    "model_nlp1.add(L.LSTM(256, return_sequences=True))\n",
    "model_nlp1.add(L.Dropout(0.5))\n",
    "model_nlp1.add(L.Dense(128, activation=\"relu\"))\n",
    "model_nlp1.add(L.LSTM(64,))\n",
    "model_nlp1.add(L.Dropout(0.25))\n",
    "model_nlp1.add(L.Dense(64, activation=\"relu\"))"
   ]
  },
  {
   "cell_type": "markdown",
   "metadata": {},
   "source": [
    "# NLP2 сеть"
   ]
  },
  {
   "cell_type": "code",
   "execution_count": 114,
   "metadata": {
    "execution": {
     "iopub.execute_input": "2022-05-17T16:59:11.428145Z",
     "iopub.status.busy": "2022-05-17T16:59:11.427391Z",
     "iopub.status.idle": "2022-05-17T16:59:12.532698Z",
     "shell.execute_reply": "2022-05-17T16:59:12.531998Z",
     "shell.execute_reply.started": "2022-05-17T16:59:11.428108Z"
    }
   },
   "outputs": [],
   "source": [
    "model_nlp2 = Sequential()\n",
    "model_nlp2.add(L.Input(shape=MAX_SEQUENCE_LENGTH, name=\"seq_package2\"))\n",
    "model_nlp2.add(L.Embedding(len(tokenize2.word_index)+1, MAX_SEQUENCE_LENGTH,))\n",
    "model_nlp2.add(L.LayerNormalization())\n",
    "model_nlp2.add(L.LSTM(256, return_sequences=True))\n",
    "model_nlp2.add(L.Dropout(0.5))\n",
    "model_nlp2.add(L.Dense(128, activation=\"relu\"))\n",
    "model_nlp2.add(L.LSTM(64,))\n",
    "model_nlp2.add(L.Dropout(0.25))\n",
    "model_nlp2.add(L.Dense(64, activation=\"relu\"))\n",
    "model_nlp2.add(L.Dropout(0.25))"
   ]
  },
  {
   "cell_type": "markdown",
   "metadata": {},
   "source": [
    "# MLP сеть"
   ]
  },
  {
   "cell_type": "code",
   "execution_count": 115,
   "metadata": {
    "execution": {
     "iopub.execute_input": "2022-05-17T16:59:14.239007Z",
     "iopub.status.busy": "2022-05-17T16:59:14.238708Z",
     "iopub.status.idle": "2022-05-17T16:59:14.285572Z",
     "shell.execute_reply": "2022-05-17T16:59:14.284871Z",
     "shell.execute_reply.started": "2022-05-17T16:59:14.238980Z"
    }
   },
   "outputs": [],
   "source": [
    "model_mlp1 = Sequential()\n",
    "model_mlp1.add(\n",
    "    L.Dense(512, input_dim=X_train_games.shape[1], activation=\"relu\"))\n",
    "model_mlp1.add(L.Dropout(0.5))\n",
    "model_mlp1.add(L.Dense(256, kernel_regularizer=regularizers.l2(\n",
    "    l2=1e-6), activation=\"relu\"))\n",
    "model_mlp1.add(L.Dropout(0.5))\n",
    "model_mlp1.add(L.Dense(128, kernel_regularizer=regularizers.l2(\n",
    "    l2=1e-5), activation=\"relu\"))\n",
    "model_mlp1.add(L.Dropout(0.25))"
   ]
  },
  {
   "cell_type": "code",
   "execution_count": 116,
   "metadata": {
    "execution": {
     "iopub.execute_input": "2022-05-17T16:59:22.758141Z",
     "iopub.status.busy": "2022-05-17T16:59:22.757890Z",
     "iopub.status.idle": "2022-05-17T16:59:22.785671Z",
     "shell.execute_reply": "2022-05-17T16:59:22.785003Z",
     "shell.execute_reply.started": "2022-05-17T16:59:22.758114Z"
    }
   },
   "outputs": [],
   "source": [
    "combinedInput = L.concatenate(\n",
    "    [model_nlp1.output, model_nlp2.output, model_mlp1.output])\n",
    "# being our regression head\n",
    "head = L.Dense(32, activation=\"relu\")(combinedInput)\n",
    "head = L.Dense(1, activation=\"linear\")(head)\n",
    "\n",
    "model = Model(inputs=[model_nlp1.input, model_nlp2.input,\n",
    "                      model_mlp1.input], outputs=head)"
   ]
  },
  {
   "cell_type": "code",
   "execution_count": 117,
   "metadata": {
    "execution": {
     "iopub.execute_input": "2022-05-17T16:59:23.237774Z",
     "iopub.status.busy": "2022-05-17T16:59:23.237245Z",
     "iopub.status.idle": "2022-05-17T16:59:23.243939Z",
     "shell.execute_reply": "2022-05-17T16:59:23.243150Z",
     "shell.execute_reply.started": "2022-05-17T16:59:23.237739Z"
    }
   },
   "outputs": [],
   "source": [
    "checkpoint = ModelCheckpoint(\n",
    "    '../working/best_model.hdf5', monitor=['val_MAPE'], verbose=0, mode='min')\n",
    "earlystop = EarlyStopping(\n",
    "    monitor='val_MAPE', patience=30, restore_best_weights=True,)\n",
    "lr_scheduler = ReduceLROnPlateau(monitor='val_MAPE',\n",
    "                                 factor=0.5,  # уменьшим lr в 2 раза\n",
    "                                 patience=10,  # если нет улучшения через 2 эпохи - уменьшить lr\n",
    "                                 min_lr=0.00001,  # минимальная скорость обучения\n",
    "                                 verbose=1,  # выводить сообщения об уменьшении скорости\n",
    "                                 mode='auto')  # выбранный способ отслеживания метрики\n",
    "callbacks_list = [checkpoint, earlystop, lr_scheduler]"
   ]
  },
  {
   "cell_type": "code",
   "execution_count": 118,
   "metadata": {
    "execution": {
     "iopub.execute_input": "2022-05-17T16:59:27.931565Z",
     "iopub.status.busy": "2022-05-17T16:59:27.931062Z",
     "iopub.status.idle": "2022-05-17T16:59:27.943580Z",
     "shell.execute_reply": "2022-05-17T16:59:27.942828Z",
     "shell.execute_reply.started": "2022-05-17T16:59:27.931516Z"
    }
   },
   "outputs": [],
   "source": [
    "optimizer = tf.keras.optimizers.Adam(0.001)\n",
    "# Проведем компиляцию модели\n",
    "model.compile(loss='MAPE', optimizer=optimizer, metrics=['MAPE'])"
   ]
  },
  {
   "cell_type": "code",
   "execution_count": 119,
   "metadata": {
    "_kg_hide-output": false,
    "collapsed": true,
    "execution": {
     "iopub.execute_input": "2022-05-17T16:59:29.437591Z",
     "iopub.status.busy": "2022-05-17T16:59:29.436870Z",
     "iopub.status.idle": "2022-05-17T17:02:48.073315Z",
     "shell.execute_reply": "2022-05-17T17:02:48.071851Z",
     "shell.execute_reply.started": "2022-05-17T16:59:29.437520Z"
    },
    "jupyter": {
     "outputs_hidden": true
    }
   },
   "outputs": [],
   "source": [
    "history = model.fit([text_train_sequences1, text_train_sequences2, X_train_games], y_train_games,\n",
    "                    batch_size=512,\n",
    "                    epochs=500,\n",
    "                    validation_data=(\n",
    "                        [text_test_sequences1, text_test_sequences2, X_test_games], y_test_games),\n",
    "                    callbacks=callbacks_list\n",
    "                    )"
   ]
  },
  {
   "cell_type": "code",
   "execution_count": 120,
   "metadata": {
    "execution": {
     "iopub.execute_input": "2022-05-17T17:02:48.075236Z",
     "iopub.status.busy": "2022-05-17T17:02:48.075000Z",
     "iopub.status.idle": "2022-05-17T17:02:58.335954Z",
     "shell.execute_reply": "2022-05-17T17:02:58.335212Z",
     "shell.execute_reply.started": "2022-05-17T17:02:48.075202Z"
    }
   },
   "outputs": [],
   "source": [
    "game_predict_nn2 = model.predict(\n",
    "    [text_test_sequences1, text_test_sequences2, X_test_games])"
   ]
  },
  {
   "cell_type": "code",
   "execution_count": 121,
   "metadata": {
    "execution": {
     "iopub.execute_input": "2022-05-17T17:02:58.337743Z",
     "iopub.status.busy": "2022-05-17T17:02:58.337420Z",
     "iopub.status.idle": "2022-05-17T17:02:58.342481Z",
     "shell.execute_reply": "2022-05-17T17:02:58.341831Z",
     "shell.execute_reply.started": "2022-05-17T17:02:58.337700Z"
    }
   },
   "outputs": [],
   "source": [
    "game_multi_mape = (mape(y_test_games, game_predict_nn2[:, 0]))*100\n",
    "game_multi_mae = mae(y_test_games, game_predict_nn2[:, 0])\n",
    "game_multi_rmse = rmse(y_test_games, game_predict_nn2[:, 0])"
   ]
  },
  {
   "cell_type": "code",
   "execution_count": 122,
   "metadata": {
    "execution": {
     "iopub.execute_input": "2022-05-17T17:05:38.448115Z",
     "iopub.status.busy": "2022-05-17T17:05:38.447401Z",
     "iopub.status.idle": "2022-05-17T17:05:38.453607Z",
     "shell.execute_reply": "2022-05-17T17:05:38.452864Z",
     "shell.execute_reply.started": "2022-05-17T17:05:38.448078Z"
    }
   },
   "outputs": [],
   "source": [
    "print(f\"TEST mape: {game_multi_mape:0.2f}%\")\n",
    "print(f\"TEST mae: {game_multi_mae:0.2f}\")\n",
    "print(f\"TEST rmse: {game_multi_rmse:0.2f}\")"
   ]
  },
  {
   "cell_type": "markdown",
   "metadata": {},
   "source": [
    "Как видно, метрики остались примерно на том же самом уровне, что и при одиночной MLP сети. То есть, надстройка из еще двух сетей для обработки текста не оказала негативного эффекта, как в первой части работы. Поэтому на данный момент, мне кажется, лидирующее место можно отдать именно этой конструкции."
   ]
  },
  {
   "cell_type": "markdown",
   "metadata": {},
   "source": [
    "# Простой TabNet"
   ]
  },
  {
   "cell_type": "markdown",
   "metadata": {},
   "source": [
    "Табнет с kfold разбиением я решил не рассматривать, так как метрики у них получаются примерно одинаковые, однако придется создавать дополнительные переменные для разбивки и обучения. Поэтому оставлен только TabNet обычный."
   ]
  },
  {
   "cell_type": "code",
   "execution_count": 127,
   "metadata": {
    "execution": {
     "iopub.execute_input": "2022-05-17T17:58:23.381019Z",
     "iopub.status.busy": "2022-05-17T17:58:23.380684Z",
     "iopub.status.idle": "2022-05-17T17:58:23.389362Z",
     "shell.execute_reply": "2022-05-17T17:58:23.388599Z",
     "shell.execute_reply.started": "2022-05-17T17:58:23.380984Z"
    }
   },
   "outputs": [],
   "source": [
    "regressor2 = TabNetRegressor(verbose=1, seed=RANDOM_SEED)"
   ]
  },
  {
   "cell_type": "code",
   "execution_count": 128,
   "metadata": {
    "execution": {
     "iopub.execute_input": "2022-05-17T17:58:59.719046Z",
     "iopub.status.busy": "2022-05-17T17:58:59.718351Z",
     "iopub.status.idle": "2022-05-17T17:59:01.125795Z",
     "shell.execute_reply": "2022-05-17T17:59:01.124906Z",
     "shell.execute_reply.started": "2022-05-17T17:58:59.719004Z"
    }
   },
   "outputs": [],
   "source": [
    "regressor2.fit(X_train=X_train_games.values, y_train=np.log(y_train_games.reshape(-1, 1)),\n",
    "               eval_set=[(X_test_games.values, np.log(\n",
    "                   y_test_games.reshape(-1, 1)))],\n",
    "               patience=5, max_epochs=20,\n",
    "               eval_metric=['mae', 'mse', 'rmse'],\n",
    "               batch_size=2048,\n",
    "               virtual_batch_size=512)"
   ]
  },
  {
   "cell_type": "code",
   "execution_count": 129,
   "metadata": {
    "execution": {
     "iopub.execute_input": "2022-05-17T17:59:07.517632Z",
     "iopub.status.busy": "2022-05-17T17:59:07.517033Z",
     "iopub.status.idle": "2022-05-17T17:59:07.535839Z",
     "shell.execute_reply": "2022-05-17T17:59:07.534980Z",
     "shell.execute_reply.started": "2022-05-17T17:59:07.517591Z"
    }
   },
   "outputs": [],
   "source": [
    "predict_stream1 = np.exp(regressor2.predict(X_test_games.values))"
   ]
  },
  {
   "cell_type": "code",
   "execution_count": 131,
   "metadata": {
    "execution": {
     "iopub.execute_input": "2022-05-17T18:02:11.630277Z",
     "iopub.status.busy": "2022-05-17T18:02:11.630012Z",
     "iopub.status.idle": "2022-05-17T18:02:11.639644Z",
     "shell.execute_reply": "2022-05-17T18:02:11.638928Z",
     "shell.execute_reply.started": "2022-05-17T18:02:11.630247Z"
    }
   },
   "outputs": [],
   "source": [
    "game_tabnet_mape = (mape(y_test_games, predict_stream1))*100\n",
    "game_tabnet_mae = mae(y_test_games, predict_stream1)\n",
    "game_tabnet_rmse = rmse(y_test_games, predict_stream1)"
   ]
  },
  {
   "cell_type": "code",
   "execution_count": 132,
   "metadata": {
    "execution": {
     "iopub.execute_input": "2022-05-17T18:02:44.631944Z",
     "iopub.status.busy": "2022-05-17T18:02:44.631466Z",
     "iopub.status.idle": "2022-05-17T18:02:44.638187Z",
     "shell.execute_reply": "2022-05-17T18:02:44.637085Z",
     "shell.execute_reply.started": "2022-05-17T18:02:44.631906Z"
    }
   },
   "outputs": [],
   "source": [
    "print(f\"TEST mape: {game_tabnet_mape:0.2f}%\")\n",
    "print(f\"TEST mae: {game_tabnet_mae:0.2f}\")\n",
    "print(f\"TEST rmse: {game_tabnet_rmse:0.2f}\")"
   ]
  },
  {
   "cell_type": "markdown",
   "metadata": {},
   "source": [
    "TabNet, как и в первой части работы, оказался неэффективен для этих данных. Скорее всего, для него нужно гораздо больше параметров, которые он будет использовать при обучении. Но данные, собранные в процессе парсинга, к сожалению, не могут предоставить столько ресурсов для обучения."
   ]
  },
  {
   "cell_type": "markdown",
   "metadata": {},
   "source": [
    "# Выводы"
   ]
  },
  {
   "cell_type": "markdown",
   "metadata": {},
   "source": [
    "Рассмотрим результаты метрик, которые получены при реализации различных моделей, направленных на предсказание стоимости настольных игр:"
   ]
  },
  {
   "cell_type": "code",
   "execution_count": 141,
   "metadata": {
    "execution": {
     "iopub.execute_input": "2022-05-17T18:16:49.360036Z",
     "iopub.status.busy": "2022-05-17T18:16:49.359381Z",
     "iopub.status.idle": "2022-05-17T18:16:49.369089Z",
     "shell.execute_reply": "2022-05-17T18:16:49.368327Z",
     "shell.execute_reply.started": "2022-05-17T18:16:49.359995Z"
    }
   },
   "outputs": [],
   "source": [
    "data_metrics1 = [('baseline', np.round(game_base_mape), np.round(game_base_mae), np.round(game_base_rmse)),\n",
    "                 ('LinearRegression', np.round(game_linreg_mape),\n",
    "                  np.round(game_linreg_mae), np.round(game_linreg_rmse)),\n",
    "                 ('RandomForest', np.round(game_forest_mape), np.round(\n",
    "                     game_forest_mae), np.round(game_forest_rmse)),\n",
    "                 ('CatBoost', np.round(game_cat_mape), np.round(\n",
    "                     game_cat_mae), np.round(game_cat_rmse)),\n",
    "                 ('MLP', np.round(game_mlp_mape), np.round(\n",
    "                     game_mlp_mae), np.round(game_mlp_rmse)),\n",
    "                 ('Multi-Input', np.round(game_multi_mape),\n",
    "                  np.round(game_multi_mae), np.round(game_multi_rmse)),\n",
    "                 ('TabNet', np.round(game_tabnet_mape), np.round(\n",
    "                     game_tabnet_mae), np.round(game_tabnet_rmse))\n",
    "                 ]\n",
    "labels = ['model', 'MAPE', 'MAE', 'RMSE']\n",
    "df1 = pd.DataFrame.from_records(data_metrics1, columns=labels)"
   ]
  },
  {
   "cell_type": "code",
   "execution_count": 142,
   "metadata": {
    "execution": {
     "iopub.execute_input": "2022-05-17T18:16:50.201136Z",
     "iopub.status.busy": "2022-05-17T18:16:50.200886Z",
     "iopub.status.idle": "2022-05-17T18:16:50.212491Z",
     "shell.execute_reply": "2022-05-17T18:16:50.211800Z",
     "shell.execute_reply.started": "2022-05-17T18:16:50.201107Z"
    }
   },
   "outputs": [],
   "source": [
    "df1"
   ]
  },
  {
   "cell_type": "markdown",
   "metadata": {},
   "source": [
    "В общем случае получился следующий результат: Одиночная MLP и Multi-input сети имеют наилучшие показатели метрики МАРЕ среди всех рассматриваемых моделей. Если же рассматривать общие показатели всех трех метрик, то им конкуренцию составляет модель CatBoost: она имеет чуть более высокую среднюю погрешность, чем нейросети, но при этом показатели МАЕ и RMSE у него меньше, что означает об уменьшении среднего значения грубых ошибок. \n",
    "\n",
    "Далее, основываясь на собвстенном опыте, хотел бы выделить, что сейчас стоимость настольных игр постоянно меняется, поэтому руководствоваться только таким маленьким дата-сетом не очень правильно, лучше выделить и исследовать тенденцию с течением времени ( нескольких месяцев), чтобы иметь дата-сеты разреженные по времени. Так, скорее всего, получится достигнуть более стабильных показателей. У настольных игр, к сожалению, не так много первичных параметров, которые можно было бы выделить для большей информативности. В дополнение - не все магазины, с сайтов которых парсится информация, удобоваримо выделяют различные параметры игры в нормальные классы, что позволяет проводить парсинг спокойно, без каких либо эксцессов."
   ]
  },
  {
   "cell_type": "markdown",
   "metadata": {},
   "source": [
    "# Итог"
   ]
  },
  {
   "cell_type": "markdown",
   "metadata": {},
   "source": [
    "Подводя итог, хотел бы сказать отдельно, что парсинг данных был очень сложным, не в последнюю очередь из-за постоянно меняющихся цен. Это, скорее всего оказало негативное влияние на имеющиеся данные. Сами данные были очищены и был проведен небольшой EDA и feature-engeneering. Были исследованы различные алгоритмы на двух наборах данных, но общие тенденцие наблюдаются примерно схожие.\n",
    "\n",
    "В качестве модели, которая будет решать поставленную задачу, на мой взгляд, стоит выбрать Multi-input сеть, так как ее метрики не сильно различаются с лидирующей \"MLP\", однако она имеет небольшое преимущество, так как ее можно будет дополнять различными надстройками, способными и дальше улучшать качество модели посредством уменьшения погрешностей."
   ]
  },
  {
   "cell_type": "code",
   "execution_count": null,
   "metadata": {},
   "outputs": [],
   "source": []
  }
 ],
 "metadata": {
  "kernelspec": {
   "display_name": "Python 3",
   "language": "python",
   "name": "python3"
  },
  "language_info": {
   "codemirror_mode": {
    "name": "ipython",
    "version": 3
   },
   "file_extension": ".py",
   "mimetype": "text/x-python",
   "name": "python",
   "nbconvert_exporter": "python",
   "pygments_lexer": "ipython3",
   "version": "3.8.3"
  }
 },
 "nbformat": 4,
 "nbformat_minor": 4
}
