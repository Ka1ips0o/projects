{
 "cells": [
  {
   "cell_type": "markdown",
   "metadata": {
    "papermill": {
     "duration": 0.132935,
     "end_time": "2021-06-01T19:04:01.122494",
     "exception": false,
     "start_time": "2021-06-01T19:04:00.989559",
     "status": "completed"
    },
    "tags": []
   },
   "source": [
    "# 1. Data"
   ]
  },
  {
   "cell_type": "markdown",
   "metadata": {
    "papermill": {
     "duration": 0.130776,
     "end_time": "2021-06-01T19:04:01.385674",
     "exception": false,
     "start_time": "2021-06-01T19:04:01.254898",
     "status": "completed"
    },
    "tags": []
   },
   "source": [
    "Подгрузим все нобходимые для работы с данными библиотеки:"
   ]
  },
  {
   "cell_type": "code",
   "execution_count": 1,
   "metadata": {
    "_cell_guid": "b1076dfc-b9ad-4769-8c92-a6c4dae69d19",
    "_uuid": "8f2839f25d086af736a60e9eeb907d3b93b6e0e5",
    "execution": {
     "iopub.execute_input": "2021-06-01T19:04:01.661371Z",
     "iopub.status.busy": "2021-06-01T19:04:01.660798Z",
     "iopub.status.idle": "2021-06-01T19:04:03.075904Z",
     "shell.execute_reply": "2021-06-01T19:04:03.076460Z",
     "shell.execute_reply.started": "2021-06-01T18:43:50.149405Z"
    },
    "papermill": {
     "duration": 1.559529,
     "end_time": "2021-06-01T19:04:03.076686",
     "exception": false,
     "start_time": "2021-06-01T19:04:01.517157",
     "status": "completed"
    },
    "tags": []
   },
   "outputs": [],
   "source": [
    "import warnings\n",
    "import numpy as np\n",
    "import pandas as pd\n",
    "# Инструменты для построения графиков\n",
    "import matplotlib.pyplot as plt\n",
    "import seaborn as sns\n",
    "# Инструменты для предобработки данных\n",
    "from sklearn.feature_selection import f_classif, mutual_info_classif\n",
    "from sklearn.preprocessing import LabelEncoder, OneHotEncoder, StandardScaler, PolynomialFeatures\n",
    "# Инструменты для создания выборки и модели\n",
    "from sklearn.model_selection import train_test_split\n",
    "from sklearn.linear_model import LogisticRegression\n",
    "\n",
    "# Инструменты для анализа метрик, полученных при обучении на наших данных\n",
    "from sklearn.metrics import confusion_matrix\n",
    "from sklearn.metrics import auc, roc_auc_score, roc_curve\n",
    "# Инструменты для работы с датами\n",
    "from datetime import datetime\n",
    "from sklearn.model_selection import GridSearchCV\n",
    "# Подгрузка данных, с которыми мы будем работать\n",
    "import os\n",
    "for dirname, _, filenames in os.walk('/kaggle/input'):\n",
    "    for filename in filenames:\n",
    "        print(os.path.join(dirname, filename))\n",
    "# отключим отображение ошибок\n",
    "warnings.filterwarnings(\"ignore\")"
   ]
  },
  {
   "cell_type": "markdown",
   "metadata": {
    "papermill": {
     "duration": 0.135064,
     "end_time": "2021-06-01T19:04:03.345509",
     "exception": false,
     "start_time": "2021-06-01T19:04:03.210445",
     "status": "completed"
    },
    "tags": []
   },
   "source": [
    "Для начала подгрузим данные:"
   ]
  },
  {
   "cell_type": "code",
   "execution_count": 2,
   "metadata": {
    "execution": {
     "iopub.execute_input": "2021-06-01T19:04:03.614852Z",
     "iopub.status.busy": "2021-06-01T19:04:03.614344Z",
     "iopub.status.idle": "2021-06-01T19:04:03.969878Z",
     "shell.execute_reply": "2021-06-01T19:04:03.970289Z",
     "shell.execute_reply.started": "2021-06-01T18:43:50.171673Z"
    },
    "papermill": {
     "duration": 0.492264,
     "end_time": "2021-06-01T19:04:03.970432",
     "exception": false,
     "start_time": "2021-06-01T19:04:03.478168",
     "status": "completed"
    },
    "tags": []
   },
   "outputs": [],
   "source": [
    "# загрузка данных\n",
    "df = pd.read_csv('train.csv')\n",
    "test_df = pd.read_csv('test.csv')"
   ]
  },
  {
   "cell_type": "markdown",
   "metadata": {
    "papermill": {
     "duration": 0.131976,
     "end_time": "2021-06-01T19:04:04.235088",
     "exception": false,
     "start_time": "2021-06-01T19:04:04.103112",
     "status": "completed"
    },
    "tags": []
   },
   "source": [
    "Сохраним настройки и Random seed для воспроизводимости эксперементов:"
   ]
  },
  {
   "cell_type": "code",
   "execution_count": 3,
   "metadata": {
    "execution": {
     "iopub.execute_input": "2021-06-01T19:04:04.503873Z",
     "iopub.status.busy": "2021-06-01T19:04:04.503227Z",
     "iopub.status.idle": "2021-06-01T19:04:06.874452Z",
     "shell.execute_reply": "2021-06-01T19:04:06.874891Z",
     "shell.execute_reply.started": "2021-06-01T18:43:50.353949Z"
    },
    "papermill": {
     "duration": 2.50902,
     "end_time": "2021-06-01T19:04:06.875028",
     "exception": false,
     "start_time": "2021-06-01T19:04:04.366008",
     "status": "completed"
    },
    "tags": []
   },
   "outputs": [],
   "source": [
    "!pip freeze > requirements.txt\n",
    "RANDOM_SEED = 45"
   ]
  },
  {
   "cell_type": "markdown",
   "metadata": {
    "papermill": {
     "duration": 0.131045,
     "end_time": "2021-06-01T19:04:07.136626",
     "exception": false,
     "start_time": "2021-06-01T19:04:07.005581",
     "status": "completed"
    },
    "tags": []
   },
   "source": [
    "Мы не будем соединять тестовый и обучающий фреймы в 1 во избежании обучения на тестовых данных. Все манипуляции с данными будут проходить параллельно"
   ]
  },
  {
   "cell_type": "markdown",
   "metadata": {
    "papermill": {
     "duration": 0.130864,
     "end_time": "2021-06-01T19:04:07.398514",
     "exception": false,
     "start_time": "2021-06-01T19:04:07.267650",
     "status": "completed"
    },
    "tags": []
   },
   "source": [
    "## 1.1. Описание полей\n",
    "* client_id - идентификатор клиента\n",
    "* education - уровень образования\n",
    "* sex - пол заемщика\n",
    "* age - возраст заемщика\n",
    "* car - флаг наличия автомобиля\n",
    "* car_type - наличие автомобиля иномарки\n",
    "* deсline_app_cnt - количество отказанных прошлых заявок\n",
    "* good_work - наличие хорошей работы\n",
    "* bki_request_cnt - количество запросов в БКИ\n",
    "* home_address - категоризатор домашнего адреса\n",
    "* work_address - категоризатор рабочего адреса\n",
    "* income - доход заемщика\n",
    "* foreign_passport - наличие загранпаспорта\n",
    "* sna - связь заемщика с клиентами банка\n",
    "* first_time - давность наличия информации о заемщике\n",
    "* score_bki - скоринговый балл по данным из БКИ\n",
    "* region_rating - рейтинг региона\n",
    "* app_date - дата подачи заявки\n",
    "* default - Присутствие\\отсутствие дефолта по кредиту"
   ]
  },
  {
   "cell_type": "markdown",
   "metadata": {
    "papermill": {
     "duration": 0.173248,
     "end_time": "2021-06-01T19:04:07.702798",
     "exception": false,
     "start_time": "2021-06-01T19:04:07.529550",
     "status": "completed"
    },
    "tags": []
   },
   "source": [
    "## 1.2. Проверка первичных данных"
   ]
  },
  {
   "cell_type": "code",
   "execution_count": 4,
   "metadata": {
    "execution": {
     "iopub.execute_input": "2021-06-01T19:04:07.978228Z",
     "iopub.status.busy": "2021-06-01T19:04:07.977706Z",
     "iopub.status.idle": "2021-06-01T19:04:08.012124Z",
     "shell.execute_reply": "2021-06-01T19:04:08.012503Z",
     "shell.execute_reply.started": "2021-06-01T18:43:51.928895Z"
    },
    "papermill": {
     "duration": 0.177518,
     "end_time": "2021-06-01T19:04:08.012650",
     "exception": false,
     "start_time": "2021-06-01T19:04:07.835132",
     "status": "completed"
    },
    "tags": []
   },
   "outputs": [
    {
     "data": {
      "text/html": [
       "<div>\n",
       "<style scoped>\n",
       "    .dataframe tbody tr th:only-of-type {\n",
       "        vertical-align: middle;\n",
       "    }\n",
       "\n",
       "    .dataframe tbody tr th {\n",
       "        vertical-align: top;\n",
       "    }\n",
       "\n",
       "    .dataframe thead th {\n",
       "        text-align: right;\n",
       "    }\n",
       "</style>\n",
       "<table border=\"1\" class=\"dataframe\">\n",
       "  <thead>\n",
       "    <tr style=\"text-align: right;\">\n",
       "      <th></th>\n",
       "      <th>client_id</th>\n",
       "      <th>app_date</th>\n",
       "      <th>education</th>\n",
       "      <th>sex</th>\n",
       "      <th>age</th>\n",
       "      <th>car</th>\n",
       "      <th>car_type</th>\n",
       "      <th>decline_app_cnt</th>\n",
       "      <th>good_work</th>\n",
       "      <th>score_bki</th>\n",
       "      <th>bki_request_cnt</th>\n",
       "      <th>region_rating</th>\n",
       "      <th>home_address</th>\n",
       "      <th>work_address</th>\n",
       "      <th>income</th>\n",
       "      <th>sna</th>\n",
       "      <th>first_time</th>\n",
       "      <th>foreign_passport</th>\n",
       "      <th>default</th>\n",
       "    </tr>\n",
       "  </thead>\n",
       "  <tbody>\n",
       "    <tr>\n",
       "      <th>0</th>\n",
       "      <td>25905</td>\n",
       "      <td>01FEB2014</td>\n",
       "      <td>SCH</td>\n",
       "      <td>M</td>\n",
       "      <td>62</td>\n",
       "      <td>Y</td>\n",
       "      <td>Y</td>\n",
       "      <td>0</td>\n",
       "      <td>0</td>\n",
       "      <td>-2.008753</td>\n",
       "      <td>1</td>\n",
       "      <td>50</td>\n",
       "      <td>1</td>\n",
       "      <td>2</td>\n",
       "      <td>18000</td>\n",
       "      <td>4</td>\n",
       "      <td>1</td>\n",
       "      <td>N</td>\n",
       "      <td>0</td>\n",
       "    </tr>\n",
       "    <tr>\n",
       "      <th>1</th>\n",
       "      <td>63161</td>\n",
       "      <td>12MAR2014</td>\n",
       "      <td>SCH</td>\n",
       "      <td>F</td>\n",
       "      <td>59</td>\n",
       "      <td>N</td>\n",
       "      <td>N</td>\n",
       "      <td>0</td>\n",
       "      <td>0</td>\n",
       "      <td>-1.532276</td>\n",
       "      <td>3</td>\n",
       "      <td>50</td>\n",
       "      <td>2</td>\n",
       "      <td>3</td>\n",
       "      <td>19000</td>\n",
       "      <td>4</td>\n",
       "      <td>1</td>\n",
       "      <td>N</td>\n",
       "      <td>0</td>\n",
       "    </tr>\n",
       "    <tr>\n",
       "      <th>2</th>\n",
       "      <td>25887</td>\n",
       "      <td>01FEB2014</td>\n",
       "      <td>SCH</td>\n",
       "      <td>M</td>\n",
       "      <td>25</td>\n",
       "      <td>Y</td>\n",
       "      <td>N</td>\n",
       "      <td>2</td>\n",
       "      <td>0</td>\n",
       "      <td>-1.408142</td>\n",
       "      <td>1</td>\n",
       "      <td>80</td>\n",
       "      <td>1</td>\n",
       "      <td>2</td>\n",
       "      <td>30000</td>\n",
       "      <td>1</td>\n",
       "      <td>4</td>\n",
       "      <td>Y</td>\n",
       "      <td>0</td>\n",
       "    </tr>\n",
       "    <tr>\n",
       "      <th>3</th>\n",
       "      <td>16222</td>\n",
       "      <td>23JAN2014</td>\n",
       "      <td>SCH</td>\n",
       "      <td>F</td>\n",
       "      <td>53</td>\n",
       "      <td>N</td>\n",
       "      <td>N</td>\n",
       "      <td>0</td>\n",
       "      <td>0</td>\n",
       "      <td>-2.057471</td>\n",
       "      <td>2</td>\n",
       "      <td>50</td>\n",
       "      <td>2</td>\n",
       "      <td>3</td>\n",
       "      <td>10000</td>\n",
       "      <td>1</td>\n",
       "      <td>3</td>\n",
       "      <td>N</td>\n",
       "      <td>0</td>\n",
       "    </tr>\n",
       "    <tr>\n",
       "      <th>4</th>\n",
       "      <td>101655</td>\n",
       "      <td>18APR2014</td>\n",
       "      <td>GRD</td>\n",
       "      <td>M</td>\n",
       "      <td>48</td>\n",
       "      <td>N</td>\n",
       "      <td>N</td>\n",
       "      <td>0</td>\n",
       "      <td>1</td>\n",
       "      <td>-1.244723</td>\n",
       "      <td>1</td>\n",
       "      <td>60</td>\n",
       "      <td>2</td>\n",
       "      <td>3</td>\n",
       "      <td>30000</td>\n",
       "      <td>1</td>\n",
       "      <td>4</td>\n",
       "      <td>Y</td>\n",
       "      <td>0</td>\n",
       "    </tr>\n",
       "  </tbody>\n",
       "</table>\n",
       "</div>"
      ],
      "text/plain": [
       "   client_id   app_date education sex  age car car_type  decline_app_cnt  \\\n",
       "0      25905  01FEB2014       SCH   M   62   Y        Y                0   \n",
       "1      63161  12MAR2014       SCH   F   59   N        N                0   \n",
       "2      25887  01FEB2014       SCH   M   25   Y        N                2   \n",
       "3      16222  23JAN2014       SCH   F   53   N        N                0   \n",
       "4     101655  18APR2014       GRD   M   48   N        N                0   \n",
       "\n",
       "   good_work  score_bki  bki_request_cnt  region_rating  home_address  \\\n",
       "0          0  -2.008753                1             50             1   \n",
       "1          0  -1.532276                3             50             2   \n",
       "2          0  -1.408142                1             80             1   \n",
       "3          0  -2.057471                2             50             2   \n",
       "4          1  -1.244723                1             60             2   \n",
       "\n",
       "   work_address  income  sna  first_time foreign_passport  default  \n",
       "0             2   18000    4           1                N        0  \n",
       "1             3   19000    4           1                N        0  \n",
       "2             2   30000    1           4                Y        0  \n",
       "3             3   10000    1           3                N        0  \n",
       "4             3   30000    1           4                Y        0  "
      ]
     },
     "execution_count": 4,
     "metadata": {},
     "output_type": "execute_result"
    }
   ],
   "source": [
    "# Проверка стартовых данных\n",
    "df.head()"
   ]
  },
  {
   "cell_type": "code",
   "execution_count": 5,
   "metadata": {
    "execution": {
     "iopub.execute_input": "2021-06-01T19:04:08.297273Z",
     "iopub.status.busy": "2021-06-01T19:04:08.296624Z",
     "iopub.status.idle": "2021-06-01T19:04:08.300901Z",
     "shell.execute_reply": "2021-06-01T19:04:08.301274Z",
     "shell.execute_reply.started": "2021-06-01T18:43:51.951091Z"
    },
    "papermill": {
     "duration": 0.153904,
     "end_time": "2021-06-01T19:04:08.301425",
     "exception": false,
     "start_time": "2021-06-01T19:04:08.147521",
     "status": "completed"
    },
    "tags": []
   },
   "outputs": [
    {
     "data": {
      "text/html": [
       "<div>\n",
       "<style scoped>\n",
       "    .dataframe tbody tr th:only-of-type {\n",
       "        vertical-align: middle;\n",
       "    }\n",
       "\n",
       "    .dataframe tbody tr th {\n",
       "        vertical-align: top;\n",
       "    }\n",
       "\n",
       "    .dataframe thead th {\n",
       "        text-align: right;\n",
       "    }\n",
       "</style>\n",
       "<table border=\"1\" class=\"dataframe\">\n",
       "  <thead>\n",
       "    <tr style=\"text-align: right;\">\n",
       "      <th></th>\n",
       "      <th>client_id</th>\n",
       "      <th>app_date</th>\n",
       "      <th>education</th>\n",
       "      <th>sex</th>\n",
       "      <th>age</th>\n",
       "      <th>car</th>\n",
       "      <th>car_type</th>\n",
       "      <th>decline_app_cnt</th>\n",
       "      <th>good_work</th>\n",
       "      <th>score_bki</th>\n",
       "      <th>bki_request_cnt</th>\n",
       "      <th>region_rating</th>\n",
       "      <th>home_address</th>\n",
       "      <th>work_address</th>\n",
       "      <th>income</th>\n",
       "      <th>sna</th>\n",
       "      <th>first_time</th>\n",
       "      <th>foreign_passport</th>\n",
       "    </tr>\n",
       "  </thead>\n",
       "  <tbody>\n",
       "    <tr>\n",
       "      <th>0</th>\n",
       "      <td>74835</td>\n",
       "      <td>22MAR2014</td>\n",
       "      <td>GRD</td>\n",
       "      <td>M</td>\n",
       "      <td>29</td>\n",
       "      <td>Y</td>\n",
       "      <td>Y</td>\n",
       "      <td>0</td>\n",
       "      <td>0</td>\n",
       "      <td>-2.271884</td>\n",
       "      <td>3</td>\n",
       "      <td>50</td>\n",
       "      <td>1</td>\n",
       "      <td>2</td>\n",
       "      <td>50000</td>\n",
       "      <td>1</td>\n",
       "      <td>4</td>\n",
       "      <td>N</td>\n",
       "    </tr>\n",
       "    <tr>\n",
       "      <th>1</th>\n",
       "      <td>17527</td>\n",
       "      <td>24JAN2014</td>\n",
       "      <td>SCH</td>\n",
       "      <td>F</td>\n",
       "      <td>39</td>\n",
       "      <td>N</td>\n",
       "      <td>N</td>\n",
       "      <td>5</td>\n",
       "      <td>0</td>\n",
       "      <td>-1.504999</td>\n",
       "      <td>2</td>\n",
       "      <td>50</td>\n",
       "      <td>1</td>\n",
       "      <td>2</td>\n",
       "      <td>5000</td>\n",
       "      <td>4</td>\n",
       "      <td>3</td>\n",
       "      <td>N</td>\n",
       "    </tr>\n",
       "    <tr>\n",
       "      <th>2</th>\n",
       "      <td>75683</td>\n",
       "      <td>23MAR2014</td>\n",
       "      <td>UGR</td>\n",
       "      <td>M</td>\n",
       "      <td>50</td>\n",
       "      <td>Y</td>\n",
       "      <td>Y</td>\n",
       "      <td>0</td>\n",
       "      <td>0</td>\n",
       "      <td>-1.691339</td>\n",
       "      <td>1</td>\n",
       "      <td>50</td>\n",
       "      <td>1</td>\n",
       "      <td>2</td>\n",
       "      <td>30000</td>\n",
       "      <td>1</td>\n",
       "      <td>3</td>\n",
       "      <td>Y</td>\n",
       "    </tr>\n",
       "    <tr>\n",
       "      <th>3</th>\n",
       "      <td>26883</td>\n",
       "      <td>03FEB2014</td>\n",
       "      <td>SCH</td>\n",
       "      <td>M</td>\n",
       "      <td>56</td>\n",
       "      <td>N</td>\n",
       "      <td>N</td>\n",
       "      <td>0</td>\n",
       "      <td>0</td>\n",
       "      <td>-2.374182</td>\n",
       "      <td>1</td>\n",
       "      <td>40</td>\n",
       "      <td>1</td>\n",
       "      <td>2</td>\n",
       "      <td>17000</td>\n",
       "      <td>1</td>\n",
       "      <td>3</td>\n",
       "      <td>N</td>\n",
       "    </tr>\n",
       "    <tr>\n",
       "      <th>4</th>\n",
       "      <td>28862</td>\n",
       "      <td>04FEB2014</td>\n",
       "      <td>GRD</td>\n",
       "      <td>F</td>\n",
       "      <td>38</td>\n",
       "      <td>N</td>\n",
       "      <td>N</td>\n",
       "      <td>0</td>\n",
       "      <td>0</td>\n",
       "      <td>-2.487502</td>\n",
       "      <td>0</td>\n",
       "      <td>80</td>\n",
       "      <td>2</td>\n",
       "      <td>3</td>\n",
       "      <td>120000</td>\n",
       "      <td>1</td>\n",
       "      <td>3</td>\n",
       "      <td>N</td>\n",
       "    </tr>\n",
       "  </tbody>\n",
       "</table>\n",
       "</div>"
      ],
      "text/plain": [
       "   client_id   app_date education sex  age car car_type  decline_app_cnt  \\\n",
       "0      74835  22MAR2014       GRD   M   29   Y        Y                0   \n",
       "1      17527  24JAN2014       SCH   F   39   N        N                5   \n",
       "2      75683  23MAR2014       UGR   M   50   Y        Y                0   \n",
       "3      26883  03FEB2014       SCH   M   56   N        N                0   \n",
       "4      28862  04FEB2014       GRD   F   38   N        N                0   \n",
       "\n",
       "   good_work  score_bki  bki_request_cnt  region_rating  home_address  \\\n",
       "0          0  -2.271884                3             50             1   \n",
       "1          0  -1.504999                2             50             1   \n",
       "2          0  -1.691339                1             50             1   \n",
       "3          0  -2.374182                1             40             1   \n",
       "4          0  -2.487502                0             80             2   \n",
       "\n",
       "   work_address  income  sna  first_time foreign_passport  \n",
       "0             2   50000    1           4                N  \n",
       "1             2    5000    4           3                N  \n",
       "2             2   30000    1           3                Y  \n",
       "3             2   17000    1           3                N  \n",
       "4             3  120000    1           3                N  "
      ]
     },
     "execution_count": 5,
     "metadata": {},
     "output_type": "execute_result"
    }
   ],
   "source": [
    "test_df.head()"
   ]
  },
  {
   "cell_type": "markdown",
   "metadata": {
    "papermill": {
     "duration": 0.132673,
     "end_time": "2021-06-01T19:04:08.566991",
     "exception": false,
     "start_time": "2021-06-01T19:04:08.434318",
     "status": "completed"
    },
    "tags": []
   },
   "source": [
    "Поля выборок идентичны, главное различие - в обучающем фрейме присутствует целевой столбец 'default'.\n",
    "Теперь взглянем на данные более подробно:"
   ]
  },
  {
   "cell_type": "code",
   "execution_count": 6,
   "metadata": {
    "execution": {
     "iopub.execute_input": "2021-06-01T19:04:08.841150Z",
     "iopub.status.busy": "2021-06-01T19:04:08.840611Z",
     "iopub.status.idle": "2021-06-01T19:04:08.880435Z",
     "shell.execute_reply": "2021-06-01T19:04:08.879906Z",
     "shell.execute_reply.started": "2021-06-01T18:43:51.970606Z"
    },
    "papermill": {
     "duration": 0.178626,
     "end_time": "2021-06-01T19:04:08.880553",
     "exception": false,
     "start_time": "2021-06-01T19:04:08.701927",
     "status": "completed"
    },
    "tags": []
   },
   "outputs": [
    {
     "name": "stdout",
     "output_type": "stream",
     "text": [
      "<class 'pandas.core.frame.DataFrame'>\n",
      "RangeIndex: 73799 entries, 0 to 73798\n",
      "Data columns (total 19 columns):\n",
      " #   Column            Non-Null Count  Dtype  \n",
      "---  ------            --------------  -----  \n",
      " 0   client_id         73799 non-null  int64  \n",
      " 1   app_date          73799 non-null  object \n",
      " 2   education         73492 non-null  object \n",
      " 3   sex               73799 non-null  object \n",
      " 4   age               73799 non-null  int64  \n",
      " 5   car               73799 non-null  object \n",
      " 6   car_type          73799 non-null  object \n",
      " 7   decline_app_cnt   73799 non-null  int64  \n",
      " 8   good_work         73799 non-null  int64  \n",
      " 9   score_bki         73799 non-null  float64\n",
      " 10  bki_request_cnt   73799 non-null  int64  \n",
      " 11  region_rating     73799 non-null  int64  \n",
      " 12  home_address      73799 non-null  int64  \n",
      " 13  work_address      73799 non-null  int64  \n",
      " 14  income            73799 non-null  int64  \n",
      " 15  sna               73799 non-null  int64  \n",
      " 16  first_time        73799 non-null  int64  \n",
      " 17  foreign_passport  73799 non-null  object \n",
      " 18  default           73799 non-null  int64  \n",
      "dtypes: float64(1), int64(12), object(6)\n",
      "memory usage: 10.7+ MB\n"
     ]
    }
   ],
   "source": [
    "df.info()"
   ]
  },
  {
   "cell_type": "code",
   "execution_count": 7,
   "metadata": {
    "execution": {
     "iopub.execute_input": "2021-06-01T19:04:09.171781Z",
     "iopub.status.busy": "2021-06-01T19:04:09.150534Z",
     "iopub.status.idle": "2021-06-01T19:04:09.187055Z",
     "shell.execute_reply": "2021-06-01T19:04:09.186538Z",
     "shell.execute_reply.started": "2021-06-01T18:43:52.010056Z"
    },
    "papermill": {
     "duration": 0.17427,
     "end_time": "2021-06-01T19:04:09.187166",
     "exception": false,
     "start_time": "2021-06-01T19:04:09.012896",
     "status": "completed"
    },
    "tags": []
   },
   "outputs": [
    {
     "name": "stdout",
     "output_type": "stream",
     "text": [
      "<class 'pandas.core.frame.DataFrame'>\n",
      "RangeIndex: 36349 entries, 0 to 36348\n",
      "Data columns (total 18 columns):\n",
      " #   Column            Non-Null Count  Dtype  \n",
      "---  ------            --------------  -----  \n",
      " 0   client_id         36349 non-null  int64  \n",
      " 1   app_date          36349 non-null  object \n",
      " 2   education         36178 non-null  object \n",
      " 3   sex               36349 non-null  object \n",
      " 4   age               36349 non-null  int64  \n",
      " 5   car               36349 non-null  object \n",
      " 6   car_type          36349 non-null  object \n",
      " 7   decline_app_cnt   36349 non-null  int64  \n",
      " 8   good_work         36349 non-null  int64  \n",
      " 9   score_bki         36349 non-null  float64\n",
      " 10  bki_request_cnt   36349 non-null  int64  \n",
      " 11  region_rating     36349 non-null  int64  \n",
      " 12  home_address      36349 non-null  int64  \n",
      " 13  work_address      36349 non-null  int64  \n",
      " 14  income            36349 non-null  int64  \n",
      " 15  sna               36349 non-null  int64  \n",
      " 16  first_time        36349 non-null  int64  \n",
      " 17  foreign_passport  36349 non-null  object \n",
      "dtypes: float64(1), int64(11), object(6)\n",
      "memory usage: 5.0+ MB\n"
     ]
    }
   ],
   "source": [
    "test_df.info()"
   ]
  },
  {
   "cell_type": "markdown",
   "metadata": {
    "papermill": {
     "duration": 0.135376,
     "end_time": "2021-06-01T19:04:09.457473",
     "exception": false,
     "start_time": "2021-06-01T19:04:09.322097",
     "status": "completed"
    },
    "tags": []
   },
   "source": [
    "Из информации по дата-сетам получаем еще одно подтверждение, что поля выборок одинаковые.\n",
    "При более подробном рассмотрении становится видно, что в выборках имеются пропуски. Посмотрим сколько их и в каких столбцах:"
   ]
  },
  {
   "cell_type": "code",
   "execution_count": 8,
   "metadata": {
    "execution": {
     "iopub.execute_input": "2021-06-01T19:04:09.742452Z",
     "iopub.status.busy": "2021-06-01T19:04:09.729058Z",
     "iopub.status.idle": "2021-06-01T19:04:09.751146Z",
     "shell.execute_reply": "2021-06-01T19:04:09.751650Z",
     "shell.execute_reply.started": "2021-06-01T18:43:52.034997Z"
    },
    "papermill": {
     "duration": 0.159161,
     "end_time": "2021-06-01T19:04:09.751818",
     "exception": false,
     "start_time": "2021-06-01T19:04:09.592657",
     "status": "completed"
    },
    "tags": []
   },
   "outputs": [
    {
     "data": {
      "text/plain": [
       "client_id             0\n",
       "app_date              0\n",
       "education           307\n",
       "sex                   0\n",
       "age                   0\n",
       "car                   0\n",
       "car_type              0\n",
       "decline_app_cnt       0\n",
       "good_work             0\n",
       "score_bki             0\n",
       "bki_request_cnt       0\n",
       "region_rating         0\n",
       "home_address          0\n",
       "work_address          0\n",
       "income                0\n",
       "sna                   0\n",
       "first_time            0\n",
       "foreign_passport      0\n",
       "default               0\n",
       "dtype: int64"
      ]
     },
     "execution_count": 8,
     "metadata": {},
     "output_type": "execute_result"
    }
   ],
   "source": [
    "df.isnull().sum()"
   ]
  },
  {
   "cell_type": "code",
   "execution_count": 9,
   "metadata": {
    "execution": {
     "iopub.execute_input": "2021-06-01T19:04:10.177782Z",
     "iopub.status.busy": "2021-06-01T19:04:10.173956Z",
     "iopub.status.idle": "2021-06-01T19:04:10.181369Z",
     "shell.execute_reply": "2021-06-01T19:04:10.180799Z",
     "shell.execute_reply.started": "2021-06-01T18:43:52.062542Z"
    },
    "papermill": {
     "duration": 0.224938,
     "end_time": "2021-06-01T19:04:10.181498",
     "exception": false,
     "start_time": "2021-06-01T19:04:09.956560",
     "status": "completed"
    },
    "tags": []
   },
   "outputs": [
    {
     "data": {
      "text/plain": [
       "client_id             0\n",
       "app_date              0\n",
       "education           171\n",
       "sex                   0\n",
       "age                   0\n",
       "car                   0\n",
       "car_type              0\n",
       "decline_app_cnt       0\n",
       "good_work             0\n",
       "score_bki             0\n",
       "bki_request_cnt       0\n",
       "region_rating         0\n",
       "home_address          0\n",
       "work_address          0\n",
       "income                0\n",
       "sna                   0\n",
       "first_time            0\n",
       "foreign_passport      0\n",
       "dtype: int64"
      ]
     },
     "execution_count": 9,
     "metadata": {},
     "output_type": "execute_result"
    }
   ],
   "source": [
    "test_df.isnull().sum()"
   ]
  },
  {
   "cell_type": "markdown",
   "metadata": {
    "papermill": {
     "duration": 0.205111,
     "end_time": "2021-06-01T19:04:10.594164",
     "exception": false,
     "start_time": "2021-06-01T19:04:10.389053",
     "status": "completed"
    },
    "tags": []
   },
   "source": [
    "Пропусков немного и все они находятся в графе \"education\". По-хорошему, стоило бы данные удалить, т.к. сильного влияния это на общую выборку не окажет. Но мы попробуем в дальнейшем обработать пропуски и заполнить их выбранными значениями."
   ]
  },
  {
   "cell_type": "markdown",
   "metadata": {
    "papermill": {
     "duration": 0.206104,
     "end_time": "2021-06-01T19:04:11.007545",
     "exception": false,
     "start_time": "2021-06-01T19:04:10.801441",
     "status": "completed"
    },
    "tags": []
   },
   "source": [
    "# 2. Preprocessing"
   ]
  },
  {
   "cell_type": "markdown",
   "metadata": {
    "papermill": {
     "duration": 0.207207,
     "end_time": "2021-06-01T19:04:11.436370",
     "exception": false,
     "start_time": "2021-06-01T19:04:11.229163",
     "status": "completed"
    },
    "tags": []
   },
   "source": [
    "Так как предобработку по пропущенным значениям требуется провести только со столбцом education, приступим непосредственно к анализу данных столбца."
   ]
  },
  {
   "cell_type": "markdown",
   "metadata": {
    "papermill": {
     "duration": 0.208098,
     "end_time": "2021-06-01T19:04:11.850120",
     "exception": false,
     "start_time": "2021-06-01T19:04:11.642022",
     "status": "completed"
    },
    "tags": []
   },
   "source": [
    "## 2.1. Столбец education"
   ]
  },
  {
   "cell_type": "markdown",
   "metadata": {
    "papermill": {
     "duration": 0.204866,
     "end_time": "2021-06-01T19:04:12.263370",
     "exception": false,
     "start_time": "2021-06-01T19:04:12.058504",
     "status": "completed"
    },
    "tags": []
   },
   "source": [
    "Сам столбец отражает уровень образования того или клиента из имеющихся выборок. Посмотрим сколько предствалено различных типов образования:"
   ]
  },
  {
   "cell_type": "code",
   "execution_count": 10,
   "metadata": {
    "execution": {
     "iopub.execute_input": "2021-06-01T19:04:12.677708Z",
     "iopub.status.busy": "2021-06-01T19:04:12.677191Z",
     "iopub.status.idle": "2021-06-01T19:04:12.687099Z",
     "shell.execute_reply": "2021-06-01T19:04:12.686640Z",
     "shell.execute_reply.started": "2021-06-01T18:43:52.080519Z"
    },
    "papermill": {
     "duration": 0.221864,
     "end_time": "2021-06-01T19:04:12.687213",
     "exception": false,
     "start_time": "2021-06-01T19:04:12.465349",
     "status": "completed"
    },
    "tags": []
   },
   "outputs": [
    {
     "data": {
      "text/plain": [
       "5"
      ]
     },
     "execution_count": 10,
     "metadata": {},
     "output_type": "execute_result"
    }
   ],
   "source": [
    "# Посмотрим количество уникальных значений в выборке\n",
    "df.education.nunique()"
   ]
  },
  {
   "cell_type": "code",
   "execution_count": 11,
   "metadata": {
    "execution": {
     "iopub.execute_input": "2021-06-01T19:04:12.962728Z",
     "iopub.status.busy": "2021-06-01T19:04:12.962202Z",
     "iopub.status.idle": "2021-06-01T19:04:12.966984Z",
     "shell.execute_reply": "2021-06-01T19:04:12.966528Z",
     "shell.execute_reply.started": "2021-06-01T18:43:52.097053Z"
    },
    "papermill": {
     "duration": 0.144877,
     "end_time": "2021-06-01T19:04:12.967107",
     "exception": false,
     "start_time": "2021-06-01T19:04:12.822230",
     "status": "completed"
    },
    "tags": []
   },
   "outputs": [
    {
     "data": {
      "text/plain": [
       "array(['SCH', 'GRD', 'UGR', 'PGR', 'ACD', nan], dtype=object)"
      ]
     },
     "execution_count": 11,
     "metadata": {},
     "output_type": "execute_result"
    }
   ],
   "source": [
    "# Посмотрим какие это значения:\n",
    "df.education.unique()"
   ]
  },
  {
   "cell_type": "markdown",
   "metadata": {
    "papermill": {
     "duration": 0.133758,
     "end_time": "2021-06-01T19:04:13.238373",
     "exception": false,
     "start_time": "2021-06-01T19:04:13.104615",
     "status": "completed"
    },
    "tags": []
   },
   "source": [
    "Повторим для тестовой выборки:"
   ]
  },
  {
   "cell_type": "code",
   "execution_count": 12,
   "metadata": {
    "execution": {
     "iopub.execute_input": "2021-06-01T19:04:13.512438Z",
     "iopub.status.busy": "2021-06-01T19:04:13.511800Z",
     "iopub.status.idle": "2021-06-01T19:04:13.522435Z",
     "shell.execute_reply": "2021-06-01T19:04:13.521547Z",
     "shell.execute_reply.started": "2021-06-01T18:43:52.112575Z"
    },
    "papermill": {
     "duration": 0.149459,
     "end_time": "2021-06-01T19:04:13.522624",
     "exception": false,
     "start_time": "2021-06-01T19:04:13.373165",
     "status": "completed"
    },
    "tags": []
   },
   "outputs": [
    {
     "name": "stdout",
     "output_type": "stream",
     "text": [
      "5\n",
      "['GRD' 'SCH' 'UGR' 'PGR' nan 'ACD']\n"
     ]
    }
   ],
   "source": [
    "print(test_df.education.nunique())\n",
    "print(test_df.education.unique())"
   ]
  },
  {
   "cell_type": "markdown",
   "metadata": {
    "papermill": {
     "duration": 0.135769,
     "end_time": "2021-06-01T19:04:13.794772",
     "exception": false,
     "start_time": "2021-06-01T19:04:13.659003",
     "status": "completed"
    },
    "tags": []
   },
   "source": [
    "Значения одинаковые, что не может не радовать. В дальнейшем можно будет преобразовать либо при помощи OneHotEncoding либо через dummie-переменные.\n",
    "Посмотрим распределение на гистограмме:"
   ]
  },
  {
   "cell_type": "code",
   "execution_count": 13,
   "metadata": {
    "execution": {
     "iopub.execute_input": "2021-06-01T19:04:14.072689Z",
     "iopub.status.busy": "2021-06-01T19:04:14.072217Z",
     "iopub.status.idle": "2021-06-01T19:04:14.346968Z",
     "shell.execute_reply": "2021-06-01T19:04:14.346423Z",
     "shell.execute_reply.started": "2021-06-01T18:43:52.132586Z"
    },
    "papermill": {
     "duration": 0.415042,
     "end_time": "2021-06-01T19:04:14.347106",
     "exception": false,
     "start_time": "2021-06-01T19:04:13.932064",
     "status": "completed"
    },
    "tags": []
   },
   "outputs": [
    {
     "data": {
      "text/plain": [
       "<matplotlib.axes._subplots.AxesSubplot at 0x1f25d30cf10>"
      ]
     },
     "execution_count": 13,
     "metadata": {},
     "output_type": "execute_result"
    },
    {
     "data": {
      "image/png": "[encoded data removed]",
      "text/plain": [
       "<Figure size 432x288 with 1 Axes>"
      ]
     },
     "metadata": {
      "needs_background": "light"
     },
     "output_type": "display_data"
    }
   ],
   "source": [
    "df.education.hist()"
   ]
  },
  {
   "cell_type": "markdown",
   "metadata": {
    "papermill": {
     "duration": 0.206816,
     "end_time": "2021-06-01T19:04:14.762569",
     "exception": false,
     "start_time": "2021-06-01T19:04:14.555753",
     "status": "completed"
    },
    "tags": []
   },
   "source": [
    "Из графика видно, что в выборке преобладает уровень образования SCH. Посмотрим, совпадает ли распределение учебной выборки с тестовой:"
   ]
  },
  {
   "cell_type": "code",
   "execution_count": 14,
   "metadata": {
    "execution": {
     "iopub.execute_input": "2021-06-01T19:04:15.209458Z",
     "iopub.status.busy": "2021-06-01T19:04:15.200645Z",
     "iopub.status.idle": "2021-06-01T19:04:15.313232Z",
     "shell.execute_reply": "2021-06-01T19:04:15.312740Z",
     "shell.execute_reply.started": "2021-06-01T18:43:52.291007Z"
    },
    "papermill": {
     "duration": 0.343103,
     "end_time": "2021-06-01T19:04:15.313342",
     "exception": false,
     "start_time": "2021-06-01T19:04:14.970239",
     "status": "completed"
    },
    "tags": []
   },
   "outputs": [
    {
     "data": {
      "text/plain": [
       "<matplotlib.axes._subplots.AxesSubplot at 0x1f25dacef70>"
      ]
     },
     "execution_count": 14,
     "metadata": {},
     "output_type": "execute_result"
    },
    {
     "data": {
      "image/png": "[encoded data removed]",
      "text/plain": [
       "<Figure size 432x288 with 1 Axes>"
      ]
     },
     "metadata": {
      "needs_background": "light"
     },
     "output_type": "display_data"
    }
   ],
   "source": [
    "test_df.education.hist()"
   ]
  },
  {
   "cell_type": "markdown",
   "metadata": {
    "papermill": {
     "duration": 0.133805,
     "end_time": "2021-06-01T19:04:15.582344",
     "exception": false,
     "start_time": "2021-06-01T19:04:15.448539",
     "status": "completed"
    },
    "tags": []
   },
   "source": [
    "Распределения в выборках идентичны, поэтому для обеих выборок заменим пропуски значением моды:"
   ]
  },
  {
   "cell_type": "code",
   "execution_count": 15,
   "metadata": {
    "execution": {
     "iopub.execute_input": "2021-06-01T19:04:15.870329Z",
     "iopub.status.busy": "2021-06-01T19:04:15.865003Z",
     "iopub.status.idle": "2021-06-01T19:04:15.876007Z",
     "shell.execute_reply": "2021-06-01T19:04:15.875429Z",
     "shell.execute_reply.started": "2021-06-01T18:43:52.432376Z"
    },
    "papermill": {
     "duration": 0.158023,
     "end_time": "2021-06-01T19:04:15.876127",
     "exception": false,
     "start_time": "2021-06-01T19:04:15.718104",
     "status": "completed"
    },
    "tags": []
   },
   "outputs": [],
   "source": [
    "# Заполняем значения NaN в выборках значением наиболее часто встречаемым в них(модой):\n",
    "df.education = df.education.fillna(df['education'].mode()[0])\n",
    "test_df.education = test_df.education.fillna(test_df['education'].mode()[0])"
   ]
  },
  {
   "cell_type": "markdown",
   "metadata": {
    "papermill": {
     "duration": 0.137744,
     "end_time": "2021-06-01T19:04:16.154927",
     "exception": false,
     "start_time": "2021-06-01T19:04:16.017183",
     "status": "completed"
    },
    "tags": []
   },
   "source": [
    "Проверим,заполнились ли пропущенные значения:"
   ]
  },
  {
   "cell_type": "code",
   "execution_count": 16,
   "metadata": {
    "execution": {
     "iopub.execute_input": "2021-06-01T19:04:16.429828Z",
     "iopub.status.busy": "2021-06-01T19:04:16.429358Z",
     "iopub.status.idle": "2021-06-01T19:04:16.436418Z",
     "shell.execute_reply": "2021-06-01T19:04:16.435961Z",
     "shell.execute_reply.started": "2021-06-01T18:43:52.455233Z"
    },
    "papermill": {
     "duration": 0.146341,
     "end_time": "2021-06-01T19:04:16.436530",
     "exception": false,
     "start_time": "2021-06-01T19:04:16.290189",
     "status": "completed"
    },
    "tags": []
   },
   "outputs": [
    {
     "name": "stdout",
     "output_type": "stream",
     "text": [
      "['SCH' 'GRD' 'UGR' 'PGR' 'ACD']\n",
      "['GRD' 'SCH' 'UGR' 'PGR' 'ACD']\n"
     ]
    }
   ],
   "source": [
    "print(df.education.unique())\n",
    "print(test_df.education.unique())"
   ]
  },
  {
   "cell_type": "markdown",
   "metadata": {
    "papermill": {
     "duration": 0.133223,
     "end_time": "2021-06-01T19:04:16.704400",
     "exception": false,
     "start_time": "2021-06-01T19:04:16.571177",
     "status": "completed"
    },
    "tags": []
   },
   "source": [
    "Как мы видим, более пропущенных значений в данном столбце обеих выборок не имеется"
   ]
  },
  {
   "cell_type": "markdown",
   "metadata": {
    "papermill": {
     "duration": 0.135689,
     "end_time": "2021-06-01T19:04:16.973979",
     "exception": false,
     "start_time": "2021-06-01T19:04:16.838290",
     "status": "completed"
    },
    "tags": []
   },
   "source": [
    "## 2.2. Прочие категориальные столбцы"
   ]
  },
  {
   "cell_type": "markdown",
   "metadata": {
    "papermill": {
     "duration": 0.134338,
     "end_time": "2021-06-01T19:04:17.242116",
     "exception": false,
     "start_time": "2021-06-01T19:04:17.107778",
     "status": "completed"
    },
    "tags": []
   },
   "source": [
    "Рассмотрим сразу все оставшиеся столбцы, для них нет необходимости заполнять пропущенные значения, так как они отсутствуют"
   ]
  },
  {
   "cell_type": "code",
   "execution_count": 17,
   "metadata": {
    "execution": {
     "iopub.execute_input": "2021-06-01T19:04:17.514323Z",
     "iopub.status.busy": "2021-06-01T19:04:17.513693Z",
     "iopub.status.idle": "2021-06-01T19:04:17.516070Z",
     "shell.execute_reply": "2021-06-01T19:04:17.515592Z",
     "shell.execute_reply.started": "2021-06-01T18:43:52.469534Z"
    },
    "papermill": {
     "duration": 0.139242,
     "end_time": "2021-06-01T19:04:17.516186",
     "exception": false,
     "start_time": "2021-06-01T19:04:17.376944",
     "status": "completed"
    },
    "tags": []
   },
   "outputs": [],
   "source": [
    "# Список с названиями категориальных столбцов фрейма\n",
    "cat_cols = ['education', 'home_address', 'work_address', 'sna', 'first_time']"
   ]
  },
  {
   "cell_type": "markdown",
   "metadata": {
    "papermill": {
     "duration": 0.13799,
     "end_time": "2021-06-01T19:04:17.791525",
     "exception": false,
     "start_time": "2021-06-01T19:04:17.653535",
     "status": "completed"
    },
    "tags": []
   },
   "source": [
    "Посмотрим количество уникальных значений для home_address и work_address:"
   ]
  },
  {
   "cell_type": "code",
   "execution_count": 18,
   "metadata": {
    "execution": {
     "iopub.execute_input": "2021-06-01T19:04:18.068369Z",
     "iopub.status.busy": "2021-06-01T19:04:18.067865Z",
     "iopub.status.idle": "2021-06-01T19:04:18.073282Z",
     "shell.execute_reply": "2021-06-01T19:04:18.073628Z",
     "shell.execute_reply.started": "2021-06-01T18:43:52.479330Z"
    },
    "papermill": {
     "duration": 0.144443,
     "end_time": "2021-06-01T19:04:18.073773",
     "exception": false,
     "start_time": "2021-06-01T19:04:17.929330",
     "status": "completed"
    },
    "tags": []
   },
   "outputs": [
    {
     "data": {
      "text/plain": [
       "2    39956\n",
       "1    32585\n",
       "3     1258\n",
       "Name: home_address, dtype: int64"
      ]
     },
     "execution_count": 18,
     "metadata": {},
     "output_type": "execute_result"
    }
   ],
   "source": [
    "df.home_address.value_counts()"
   ]
  },
  {
   "cell_type": "markdown",
   "metadata": {
    "papermill": {
     "duration": 0.142468,
     "end_time": "2021-06-01T19:04:18.360697",
     "exception": false,
     "start_time": "2021-06-01T19:04:18.218229",
     "status": "completed"
    },
    "tags": []
   },
   "source": [
    "И сразу для тестовой выборки:"
   ]
  },
  {
   "cell_type": "code",
   "execution_count": 19,
   "metadata": {
    "execution": {
     "iopub.execute_input": "2021-06-01T19:04:18.646049Z",
     "iopub.status.busy": "2021-06-01T19:04:18.645561Z",
     "iopub.status.idle": "2021-06-01T19:04:18.651642Z",
     "shell.execute_reply": "2021-06-01T19:04:18.652180Z",
     "shell.execute_reply.started": "2021-06-01T18:43:52.493931Z"
    },
    "papermill": {
     "duration": 0.150806,
     "end_time": "2021-06-01T19:04:18.652342",
     "exception": false,
     "start_time": "2021-06-01T19:04:18.501536",
     "status": "completed"
    },
    "tags": []
   },
   "outputs": [
    {
     "data": {
      "text/plain": [
       "2    19635\n",
       "1    16103\n",
       "3      611\n",
       "Name: home_address, dtype: int64"
      ]
     },
     "execution_count": 19,
     "metadata": {},
     "output_type": "execute_result"
    }
   ],
   "source": [
    "test_df.home_address.value_counts()"
   ]
  },
  {
   "cell_type": "markdown",
   "metadata": {
    "papermill": {
     "duration": 0.135739,
     "end_time": "2021-06-01T19:04:18.932191",
     "exception": false,
     "start_time": "2021-06-01T19:04:18.796452",
     "status": "completed"
    },
    "tags": []
   },
   "source": [
    "Теперь посмотрим на гистограммы:"
   ]
  },
  {
   "cell_type": "code",
   "execution_count": 20,
   "metadata": {
    "execution": {
     "iopub.execute_input": "2021-06-01T19:04:19.214490Z",
     "iopub.status.busy": "2021-06-01T19:04:19.214005Z",
     "iopub.status.idle": "2021-06-01T19:04:19.360996Z",
     "shell.execute_reply": "2021-06-01T19:04:19.360442Z",
     "shell.execute_reply.started": "2021-06-01T18:43:52.507241Z"
    },
    "papermill": {
     "duration": 0.291522,
     "end_time": "2021-06-01T19:04:19.361163",
     "exception": false,
     "start_time": "2021-06-01T19:04:19.069641",
     "status": "completed"
    },
    "tags": []
   },
   "outputs": [
    {
     "data": {
      "text/plain": [
       "<matplotlib.axes._subplots.AxesSubplot at 0x1f25de318e0>"
      ]
     },
     "execution_count": 20,
     "metadata": {},
     "output_type": "execute_result"
    },
    {
     "data": {
      "image/png": "[encoded data removed]",
      "text/plain": [
       "<Figure size 432x288 with 1 Axes>"
      ]
     },
     "metadata": {
      "needs_background": "light"
     },
     "output_type": "display_data"
    }
   ],
   "source": [
    "df.home_address.hist()"
   ]
  },
  {
   "cell_type": "code",
   "execution_count": 21,
   "metadata": {
    "execution": {
     "iopub.execute_input": "2021-06-01T19:04:19.761257Z",
     "iopub.status.busy": "2021-06-01T19:04:19.751443Z",
     "iopub.status.idle": "2021-06-01T19:04:19.923079Z",
     "shell.execute_reply": "2021-06-01T19:04:19.922593Z",
     "shell.execute_reply.started": "2021-06-01T18:43:52.666690Z"
    },
    "papermill": {
     "duration": 0.421589,
     "end_time": "2021-06-01T19:04:19.923195",
     "exception": false,
     "start_time": "2021-06-01T19:04:19.501606",
     "status": "completed"
    },
    "tags": []
   },
   "outputs": [
    {
     "data": {
      "text/plain": [
       "<matplotlib.axes._subplots.AxesSubplot at 0x1f25e7920d0>"
      ]
     },
     "execution_count": 21,
     "metadata": {},
     "output_type": "execute_result"
    },
    {
     "data": {
      "image/png": "[encoded data removed]",
      "text/plain": [
       "<Figure size 432x288 with 1 Axes>"
      ]
     },
     "metadata": {
      "needs_background": "light"
     },
     "output_type": "display_data"
    }
   ],
   "source": [
    "test_df.home_address.hist()"
   ]
  },
  {
   "cell_type": "markdown",
   "metadata": {
    "papermill": {
     "duration": 0.139338,
     "end_time": "2021-06-01T19:04:20.203339",
     "exception": false,
     "start_time": "2021-06-01T19:04:20.064001",
     "status": "completed"
    },
    "tags": []
   },
   "source": [
    "Как мы видим, представлено три типа адресов:1,2 и 3. Последний тип адресов выражен наименее ярко, их меньше всего. Вероятно, это может быть объяснено по принципу проживания (центр\\окраина\\пригород). Теперь посмотрим на work_address:"
   ]
  },
  {
   "cell_type": "code",
   "execution_count": 22,
   "metadata": {
    "execution": {
     "iopub.execute_input": "2021-06-01T19:04:20.491196Z",
     "iopub.status.busy": "2021-06-01T19:04:20.490595Z",
     "iopub.status.idle": "2021-06-01T19:04:20.497956Z",
     "shell.execute_reply": "2021-06-01T19:04:20.497422Z",
     "shell.execute_reply.started": "2021-06-01T18:43:52.854232Z"
    },
    "papermill": {
     "duration": 0.1522,
     "end_time": "2021-06-01T19:04:20.498069",
     "exception": false,
     "start_time": "2021-06-01T19:04:20.345869",
     "status": "completed"
    },
    "tags": []
   },
   "outputs": [
    {
     "data": {
      "text/plain": [
       "3    44959\n",
       "2    20506\n",
       "1     8334\n",
       "Name: work_address, dtype: int64"
      ]
     },
     "execution_count": 22,
     "metadata": {},
     "output_type": "execute_result"
    }
   ],
   "source": [
    "df.work_address.value_counts()"
   ]
  },
  {
   "cell_type": "code",
   "execution_count": 23,
   "metadata": {
    "execution": {
     "iopub.execute_input": "2021-06-01T19:04:20.782609Z",
     "iopub.status.busy": "2021-06-01T19:04:20.782096Z",
     "iopub.status.idle": "2021-06-01T19:04:20.789438Z",
     "shell.execute_reply": "2021-06-01T19:04:20.788924Z",
     "shell.execute_reply.started": "2021-06-01T18:43:52.862773Z"
    },
    "papermill": {
     "duration": 0.15143,
     "end_time": "2021-06-01T19:04:20.789549",
     "exception": false,
     "start_time": "2021-06-01T19:04:20.638119",
     "status": "completed"
    },
    "tags": []
   },
   "outputs": [
    {
     "data": {
      "text/plain": [
       "3    22154\n",
       "2    10255\n",
       "1     3940\n",
       "Name: work_address, dtype: int64"
      ]
     },
     "execution_count": 23,
     "metadata": {},
     "output_type": "execute_result"
    }
   ],
   "source": [
    "test_df.work_address.value_counts()"
   ]
  },
  {
   "cell_type": "markdown",
   "metadata": {
    "papermill": {
     "duration": 0.140273,
     "end_time": "2021-06-01T19:04:21.068769",
     "exception": false,
     "start_time": "2021-06-01T19:04:20.928496",
     "status": "completed"
    },
    "tags": []
   },
   "source": [
    "Теперь посмотрим гистограммы:"
   ]
  },
  {
   "cell_type": "code",
   "execution_count": 24,
   "metadata": {
    "execution": {
     "iopub.execute_input": "2021-06-01T19:04:21.373452Z",
     "iopub.status.busy": "2021-06-01T19:04:21.372897Z",
     "iopub.status.idle": "2021-06-01T19:04:21.490567Z",
     "shell.execute_reply": "2021-06-01T19:04:21.490084Z",
     "shell.execute_reply.started": "2021-06-01T18:43:52.880651Z"
    },
    "papermill": {
     "duration": 0.278809,
     "end_time": "2021-06-01T19:04:21.490690",
     "exception": false,
     "start_time": "2021-06-01T19:04:21.211881",
     "status": "completed"
    },
    "tags": []
   },
   "outputs": [
    {
     "data": {
      "text/plain": [
       "<matplotlib.axes._subplots.AxesSubplot at 0x1f25e81fee0>"
      ]
     },
     "execution_count": 24,
     "metadata": {},
     "output_type": "execute_result"
    },
    {
     "data": {
      "image/png": "[encoded data removed]",
      "text/plain": [
       "<Figure size 432x288 with 1 Axes>"
      ]
     },
     "metadata": {
      "needs_background": "light"
     },
     "output_type": "display_data"
    }
   ],
   "source": [
    "df.work_address.hist()"
   ]
  },
  {
   "cell_type": "code",
   "execution_count": 25,
   "metadata": {
    "execution": {
     "iopub.execute_input": "2021-06-01T19:04:21.794781Z",
     "iopub.status.busy": "2021-06-01T19:04:21.789273Z",
     "iopub.status.idle": "2021-06-01T19:04:21.909315Z",
     "shell.execute_reply": "2021-06-01T19:04:21.908927Z",
     "shell.execute_reply.started": "2021-06-01T18:43:53.030588Z"
    },
    "papermill": {
     "duration": 0.280851,
     "end_time": "2021-06-01T19:04:21.909423",
     "exception": false,
     "start_time": "2021-06-01T19:04:21.628572",
     "status": "completed"
    },
    "tags": []
   },
   "outputs": [
    {
     "data": {
      "text/plain": [
       "<matplotlib.axes._subplots.AxesSubplot at 0x1f25e8b93a0>"
      ]
     },
     "execution_count": 25,
     "metadata": {},
     "output_type": "execute_result"
    },
    {
     "data": {
      "image/png": "[encoded data removed]",
      "text/plain": [
       "<Figure size 432x288 with 1 Axes>"
      ]
     },
     "metadata": {
      "needs_background": "light"
     },
     "output_type": "display_data"
    }
   ],
   "source": [
    "test_df.work_address.hist()"
   ]
  },
  {
   "cell_type": "markdown",
   "metadata": {
    "papermill": {
     "duration": 0.159296,
     "end_time": "2021-06-01T19:04:22.209560",
     "exception": false,
     "start_time": "2021-06-01T19:04:22.050264",
     "status": "completed"
    },
    "tags": []
   },
   "source": [
    "Здесь так же присутствует всего три типа обозначений, первый выражен наименее ярко. Вероятно это напрямую зависит от того, насколько далеко находится работа от дома.\n",
    "В дальнейшем полученные признаки можно будет использовать для создания фич."
   ]
  },
  {
   "cell_type": "markdown",
   "metadata": {
    "papermill": {
     "duration": 0.139311,
     "end_time": "2021-06-01T19:04:22.494888",
     "exception": false,
     "start_time": "2021-06-01T19:04:22.355577",
     "status": "completed"
    },
    "tags": []
   },
   "source": [
    "На основе просмотренных гистограмм можно сделать вывод, что каких-либо странных значений не присутствует, все значения находятся в удобоваримом диапазоне, чтобы можно было отнести их к нормальным. Графики домашнего адреса для обеих выборок имеют большее количество данных в середине и левой части, графики рабочего адреса смещен вправо."
   ]
  },
  {
   "cell_type": "markdown",
   "metadata": {
    "papermill": {
     "duration": 0.140388,
     "end_time": "2021-06-01T19:04:22.775903",
     "exception": false,
     "start_time": "2021-06-01T19:04:22.635515",
     "status": "completed"
    },
    "tags": []
   },
   "source": [
    "Теперь посмотрим количество уникальных значений для столбца, отражающего взаимосвязь заемщика с клиентами банка:"
   ]
  },
  {
   "cell_type": "code",
   "execution_count": 26,
   "metadata": {
    "execution": {
     "iopub.execute_input": "2021-06-01T19:04:23.063296Z",
     "iopub.status.busy": "2021-06-01T19:04:23.062569Z",
     "iopub.status.idle": "2021-06-01T19:04:23.068266Z",
     "shell.execute_reply": "2021-06-01T19:04:23.067663Z",
     "shell.execute_reply.started": "2021-06-01T18:43:53.172923Z"
    },
    "papermill": {
     "duration": 0.151651,
     "end_time": "2021-06-01T19:04:23.068411",
     "exception": false,
     "start_time": "2021-06-01T19:04:22.916760",
     "status": "completed"
    },
    "tags": []
   },
   "outputs": [
    {
     "name": "stdout",
     "output_type": "stream",
     "text": [
      "[4 1 2 3]\n",
      "[1 4 2 3]\n"
     ]
    }
   ],
   "source": [
    "print(df.sna.unique())\n",
    "print(test_df.sna.unique())"
   ]
  },
  {
   "cell_type": "markdown",
   "metadata": {
    "papermill": {
     "duration": 0.139775,
     "end_time": "2021-06-01T19:04:23.353337",
     "exception": false,
     "start_time": "2021-06-01T19:04:23.213562",
     "status": "completed"
    },
    "tags": []
   },
   "source": [
    "Видно, что в обеих выборках варианты, которые могут принимать значения столбца - одинаковы, посмотрим на гистограммы"
   ]
  },
  {
   "cell_type": "code",
   "execution_count": 27,
   "metadata": {
    "execution": {
     "iopub.execute_input": "2021-06-01T19:04:23.660685Z",
     "iopub.status.busy": "2021-06-01T19:04:23.659971Z",
     "iopub.status.idle": "2021-06-01T19:04:23.791237Z",
     "shell.execute_reply": "2021-06-01T19:04:23.791590Z",
     "shell.execute_reply.started": "2021-06-01T18:43:53.180598Z"
    },
    "papermill": {
     "duration": 0.29979,
     "end_time": "2021-06-01T19:04:23.791730",
     "exception": false,
     "start_time": "2021-06-01T19:04:23.491940",
     "status": "completed"
    },
    "tags": []
   },
   "outputs": [
    {
     "data": {
      "text/plain": [
       "<matplotlib.axes._subplots.AxesSubplot at 0x1f25e9214c0>"
      ]
     },
     "execution_count": 27,
     "metadata": {},
     "output_type": "execute_result"
    },
    {
     "data": {
      "image/png": "[encoded data removed]",
      "text/plain": [
       "<Figure size 432x288 with 1 Axes>"
      ]
     },
     "metadata": {
      "needs_background": "light"
     },
     "output_type": "display_data"
    }
   ],
   "source": [
    "df.sna.hist()"
   ]
  },
  {
   "cell_type": "code",
   "execution_count": 28,
   "metadata": {
    "execution": {
     "iopub.execute_input": "2021-06-01T19:04:24.107154Z",
     "iopub.status.busy": "2021-06-01T19:04:24.099863Z",
     "iopub.status.idle": "2021-06-01T19:04:24.243728Z",
     "shell.execute_reply": "2021-06-01T19:04:24.243342Z",
     "shell.execute_reply.started": "2021-06-01T18:43:53.323576Z"
    },
    "papermill": {
     "duration": 0.308848,
     "end_time": "2021-06-01T19:04:24.243856",
     "exception": false,
     "start_time": "2021-06-01T19:04:23.935008",
     "status": "completed"
    },
    "tags": []
   },
   "outputs": [
    {
     "data": {
      "text/plain": [
       "<matplotlib.axes._subplots.AxesSubplot at 0x1f25e99a130>"
      ]
     },
     "execution_count": 28,
     "metadata": {},
     "output_type": "execute_result"
    },
    {
     "data": {
      "image/png": "[encoded data removed]",
      "text/plain": [
       "<Figure size 432x288 with 1 Axes>"
      ]
     },
     "metadata": {
      "needs_background": "light"
     },
     "output_type": "display_data"
    }
   ],
   "source": [
    "test_df.sna.hist()"
   ]
  },
  {
   "cell_type": "markdown",
   "metadata": {
    "papermill": {
     "duration": 0.144592,
     "end_time": "2021-06-01T19:04:24.531567",
     "exception": false,
     "start_time": "2021-06-01T19:04:24.386975",
     "status": "completed"
    },
    "tags": []
   },
   "source": [
    "Как и в предыдущих столбцах, распределение здесь похоже для тестовой и обучающей выборки, каких либо \"странных\" значений не наблюдается, все данные лежат в пределах нормы."
   ]
  },
  {
   "cell_type": "markdown",
   "metadata": {
    "papermill": {
     "duration": 0.215962,
     "end_time": "2021-06-01T19:04:24.890642",
     "exception": false,
     "start_time": "2021-06-01T19:04:24.674680",
     "status": "completed"
    },
    "tags": []
   },
   "source": [
    "Рассмотрим столбец, который отражает давность информации о заемщике:"
   ]
  },
  {
   "cell_type": "code",
   "execution_count": 29,
   "metadata": {
    "execution": {
     "iopub.execute_input": "2021-06-01T19:04:25.343716Z",
     "iopub.status.busy": "2021-06-01T19:04:25.343141Z",
     "iopub.status.idle": "2021-06-01T19:04:25.347438Z",
     "shell.execute_reply": "2021-06-01T19:04:25.347054Z",
     "shell.execute_reply.started": "2021-06-01T18:43:53.458010Z"
    },
    "papermill": {
     "duration": 0.228504,
     "end_time": "2021-06-01T19:04:25.347546",
     "exception": false,
     "start_time": "2021-06-01T19:04:25.119042",
     "status": "completed"
    },
    "tags": []
   },
   "outputs": [
    {
     "name": "stdout",
     "output_type": "stream",
     "text": [
      "[1 4 3 2]\n",
      "[4 3 1 2]\n"
     ]
    }
   ],
   "source": [
    "print(df.first_time.unique())\n",
    "print(test_df.first_time.unique())"
   ]
  },
  {
   "cell_type": "markdown",
   "metadata": {
    "papermill": {
     "duration": 0.142386,
     "end_time": "2021-06-01T19:04:25.632825",
     "exception": false,
     "start_time": "2021-06-01T19:04:25.490439",
     "status": "completed"
    },
    "tags": []
   },
   "source": [
    "Теперь посмотрим, как значения столбца ведут себя на гистограммах:"
   ]
  },
  {
   "cell_type": "code",
   "execution_count": 30,
   "metadata": {
    "execution": {
     "iopub.execute_input": "2021-06-01T19:04:25.936639Z",
     "iopub.status.busy": "2021-06-01T19:04:25.930906Z",
     "iopub.status.idle": "2021-06-01T19:04:26.050227Z",
     "shell.execute_reply": "2021-06-01T19:04:26.049761Z",
     "shell.execute_reply.started": "2021-06-01T18:43:53.466569Z"
    },
    "papermill": {
     "duration": 0.277449,
     "end_time": "2021-06-01T19:04:26.050349",
     "exception": false,
     "start_time": "2021-06-01T19:04:25.772900",
     "status": "completed"
    },
    "tags": []
   },
   "outputs": [
    {
     "data": {
      "text/plain": [
       "<matplotlib.axes._subplots.AxesSubplot at 0x1f25e8a5280>"
      ]
     },
     "execution_count": 30,
     "metadata": {},
     "output_type": "execute_result"
    },
    {
     "data": {
      "image/png": "[encoded data removed]",
      "text/plain": [
       "<Figure size 432x288 with 1 Axes>"
      ]
     },
     "metadata": {
      "needs_background": "light"
     },
     "output_type": "display_data"
    }
   ],
   "source": [
    "# Тренировочная выборка\n",
    "df.first_time.hist()"
   ]
  },
  {
   "cell_type": "code",
   "execution_count": 31,
   "metadata": {
    "execution": {
     "iopub.execute_input": "2021-06-01T19:04:26.362047Z",
     "iopub.status.busy": "2021-06-01T19:04:26.359870Z",
     "iopub.status.idle": "2021-06-01T19:04:26.479102Z",
     "shell.execute_reply": "2021-06-01T19:04:26.478577Z",
     "shell.execute_reply.started": "2021-06-01T18:43:53.611200Z"
    },
    "papermill": {
     "duration": 0.285215,
     "end_time": "2021-06-01T19:04:26.479218",
     "exception": false,
     "start_time": "2021-06-01T19:04:26.194003",
     "status": "completed"
    },
    "tags": []
   },
   "outputs": [
    {
     "data": {
      "text/plain": [
       "<matplotlib.axes._subplots.AxesSubplot at 0x1f25ea66ac0>"
      ]
     },
     "execution_count": 31,
     "metadata": {},
     "output_type": "execute_result"
    },
    {
     "data": {
      "image/png": "[encoded data removed]",
      "text/plain": [
       "<Figure size 432x288 with 1 Axes>"
      ]
     },
     "metadata": {
      "needs_background": "light"
     },
     "output_type": "display_data"
    }
   ],
   "source": [
    "# Тестовая выборка\n",
    "test_df.first_time.hist()"
   ]
  },
  {
   "cell_type": "markdown",
   "metadata": {
    "papermill": {
     "duration": 0.144645,
     "end_time": "2021-06-01T19:04:26.805387",
     "exception": false,
     "start_time": "2021-06-01T19:04:26.660742",
     "status": "completed"
    },
    "tags": []
   },
   "source": [
    "Как мы можем увидеть, значения столбца варьируются от 1 до 4. Вероятно, они отражают, имелись ли данные о клиенте до обращения. Принцип распределения значений, скорее всего,такой: 1 - новый заемщик, 4 - очень старый заемщик. "
   ]
  },
  {
   "cell_type": "markdown",
   "metadata": {
    "papermill": {
     "duration": 0.143789,
     "end_time": "2021-06-01T19:04:27.088983",
     "exception": false,
     "start_time": "2021-06-01T19:04:26.945194",
     "status": "completed"
    },
    "tags": []
   },
   "source": [
    "Выбивающихся значений в выборках не наблюдается, наиболее явно выражено значение 3, распределение имеет более длинный хвост слева."
   ]
  },
  {
   "cell_type": "markdown",
   "metadata": {
    "papermill": {
     "duration": 0.143976,
     "end_time": "2021-06-01T19:04:27.372435",
     "exception": false,
     "start_time": "2021-06-01T19:04:27.228459",
     "status": "completed"
    },
    "tags": []
   },
   "source": [
    "## 2.3. Бинарные столбцы"
   ]
  },
  {
   "cell_type": "markdown",
   "metadata": {
    "papermill": {
     "duration": 0.143112,
     "end_time": "2021-06-01T19:04:27.660121",
     "exception": false,
     "start_time": "2021-06-01T19:04:27.517009",
     "status": "completed"
    },
    "tags": []
   },
   "source": [
    "К бинарным столбцам можно отнести те, значения которых принимают только одно из двух значений, например \"да\" или \"нет\", \"1\" или \"0\" и т.д. В нашем фрейме к таким столбцам можно отнести следующие:"
   ]
  },
  {
   "cell_type": "code",
   "execution_count": 32,
   "metadata": {
    "execution": {
     "iopub.execute_input": "2021-06-01T19:04:27.950544Z",
     "iopub.status.busy": "2021-06-01T19:04:27.950009Z",
     "iopub.status.idle": "2021-06-01T19:04:27.954112Z",
     "shell.execute_reply": "2021-06-01T19:04:27.953661Z",
     "shell.execute_reply.started": "2021-06-01T18:43:53.981976Z"
    },
    "papermill": {
     "duration": 0.150793,
     "end_time": "2021-06-01T19:04:27.954234",
     "exception": false,
     "start_time": "2021-06-01T19:04:27.803441",
     "status": "completed"
    },
    "tags": []
   },
   "outputs": [],
   "source": [
    "# Список с названиями бинарных столбцов фрейма\n",
    "bin_cols = ['sex', 'car', 'car_type', 'foreign_passport', 'good_work']"
   ]
  },
  {
   "cell_type": "markdown",
   "metadata": {
    "papermill": {
     "duration": 0.147464,
     "end_time": "2021-06-01T19:04:28.243718",
     "exception": false,
     "start_time": "2021-06-01T19:04:28.096254",
     "status": "completed"
    },
    "tags": []
   },
   "source": [
    "Посмотрим на уникальные значения:"
   ]
  },
  {
   "cell_type": "code",
   "execution_count": 33,
   "metadata": {
    "execution": {
     "iopub.execute_input": "2021-06-01T19:04:28.537372Z",
     "iopub.status.busy": "2021-06-01T19:04:28.536866Z",
     "iopub.status.idle": "2021-06-01T19:04:28.564577Z",
     "shell.execute_reply": "2021-06-01T19:04:28.564996Z",
     "shell.execute_reply.started": "2021-06-01T18:43:53.986650Z"
    },
    "papermill": {
     "duration": 0.178687,
     "end_time": "2021-06-01T19:04:28.565142",
     "exception": false,
     "start_time": "2021-06-01T19:04:28.386455",
     "status": "completed"
    },
    "tags": []
   },
   "outputs": [
    {
     "name": "stdout",
     "output_type": "stream",
     "text": [
      "['M' 'F']\n",
      "['M' 'F']\n",
      "['Y' 'N']\n",
      "['Y' 'N']\n",
      "['Y' 'N']\n",
      "['Y' 'N']\n",
      "['N' 'Y']\n",
      "['N' 'Y']\n",
      "[0 1]\n",
      "[0 1]\n"
     ]
    }
   ],
   "source": [
    "print(df.sex.unique())\n",
    "print(test_df.sex.unique())\n",
    "print(df.car.unique())\n",
    "print(test_df.car.unique())\n",
    "print(df.car_type.unique())\n",
    "print(test_df.car_type.unique())\n",
    "print(df.foreign_passport.unique())\n",
    "print(test_df.foreign_passport.unique())\n",
    "print(df.good_work.unique())\n",
    "print(test_df.good_work.unique())"
   ]
  },
  {
   "cell_type": "markdown",
   "metadata": {
    "papermill": {
     "duration": 0.143206,
     "end_time": "2021-06-01T19:04:28.850233",
     "exception": false,
     "start_time": "2021-06-01T19:04:28.707027",
     "status": "completed"
    },
    "tags": []
   },
   "source": [
    "Видно, что все столбцы имеют только 2 значения, аномальных значений и пропусков не наблюдается. Теперь проверим, как распределены значения этих столбцов:"
   ]
  },
  {
   "cell_type": "code",
   "execution_count": 34,
   "metadata": {
    "execution": {
     "iopub.execute_input": "2021-06-01T19:04:29.164123Z",
     "iopub.status.busy": "2021-06-01T19:04:29.161218Z",
     "iopub.status.idle": "2021-06-01T19:04:30.040413Z",
     "shell.execute_reply": "2021-06-01T19:04:30.039960Z",
     "shell.execute_reply.started": "2021-06-01T18:43:54.027120Z"
    },
    "papermill": {
     "duration": 1.045206,
     "end_time": "2021-06-01T19:04:30.040515",
     "exception": false,
     "start_time": "2021-06-01T19:04:28.995309",
     "status": "completed"
    },
    "tags": []
   },
   "outputs": [
    {
     "data": {
      "image/png": "[encoded data removed]",
      "text/plain": [
       "<Figure size 432x288 with 1 Axes>"
      ]
     },
     "metadata": {
      "needs_background": "light"
     },
     "output_type": "display_data"
    },
    {
     "data": {
      "image/png": "[encoded data removed]",
      "text/plain": [
       "<Figure size 432x288 with 1 Axes>"
      ]
     },
     "metadata": {
      "needs_background": "light"
     },
     "output_type": "display_data"
    },
    {
     "data": {
      "image/png": "[encoded data removed]",
      "text/plain": [
       "<Figure size 432x288 with 1 Axes>"
      ]
     },
     "metadata": {
      "needs_background": "light"
     },
     "output_type": "display_data"
    },
    {
     "data": {
      "image/png": "[encoded data removed]",
      "text/plain": [
       "<Figure size 432x288 with 1 Axes>"
      ]
     },
     "metadata": {
      "needs_background": "light"
     },
     "output_type": "display_data"
    },
    {
     "data": {
      "image/png": "[encoded data removed]",
      "text/plain": [
       "<Figure size 432x288 with 1 Axes>"
      ]
     },
     "metadata": {
      "needs_background": "light"
     },
     "output_type": "display_data"
    }
   ],
   "source": [
    "for column in bin_cols:\n",
    "    plt.figure()\n",
    "    sns.countplot(df[column])\n",
    "    plt.title(column)\n",
    "    plt.show()"
   ]
  },
  {
   "cell_type": "markdown",
   "metadata": {
    "papermill": {
     "duration": 0.143747,
     "end_time": "2021-06-01T19:04:30.335463",
     "exception": false,
     "start_time": "2021-06-01T19:04:30.191716",
     "status": "completed"
    },
    "tags": []
   },
   "source": [
    "На основе полученных гистограмм можно сделать вывод, что большинство классов неравномерны, возможно в дальнейшем придется их как-либо балансировать. Наиболее равным является столбец sex, количество людей обоих полов в выборке разнится не сильно. Теперь посмотрим как дела обстоят в тестовой выборке:"
   ]
  },
  {
   "cell_type": "code",
   "execution_count": 35,
   "metadata": {
    "execution": {
     "iopub.execute_input": "2021-06-01T19:04:30.638948Z",
     "iopub.status.busy": "2021-06-01T19:04:30.638465Z",
     "iopub.status.idle": "2021-06-01T19:04:31.318572Z",
     "shell.execute_reply": "2021-06-01T19:04:31.318047Z",
     "shell.execute_reply.started": "2021-06-01T18:43:54.645974Z"
    },
    "papermill": {
     "duration": 0.83874,
     "end_time": "2021-06-01T19:04:31.318690",
     "exception": false,
     "start_time": "2021-06-01T19:04:30.479950",
     "status": "completed"
    },
    "tags": []
   },
   "outputs": [
    {
     "data": {
      "image/png": "[encoded data removed]",
      "text/plain": [
       "<Figure size 432x288 with 1 Axes>"
      ]
     },
     "metadata": {
      "needs_background": "light"
     },
     "output_type": "display_data"
    },
    {
     "data": {
      "image/png": "[encoded data removed]",
      "text/plain": [
       "<Figure size 432x288 with 1 Axes>"
      ]
     },
     "metadata": {
      "needs_background": "light"
     },
     "output_type": "display_data"
    },
    {
     "data": {
      "image/png": "[encoded data removed]",
      "text/plain": [
       "<Figure size 432x288 with 1 Axes>"
      ]
     },
     "metadata": {
      "needs_background": "light"
     },
     "output_type": "display_data"
    },
    {
     "data": {
      "image/png": "[encoded data removed]",
      "text/plain": [
       "<Figure size 432x288 with 1 Axes>"
      ]
     },
     "metadata": {
      "needs_background": "light"
     },
     "output_type": "display_data"
    },
    {
     "data": {
      "image/png": "[encoded data removed]",
      "text/plain": [
       "<Figure size 432x288 with 1 Axes>"
      ]
     },
     "metadata": {
      "needs_background": "light"
     },
     "output_type": "display_data"
    }
   ],
   "source": [
    "for column in bin_cols:\n",
    "    plt.figure()\n",
    "    sns.countplot(test_df[column])\n",
    "    plt.title(column)\n",
    "    plt.show()"
   ]
  },
  {
   "cell_type": "markdown",
   "metadata": {
    "papermill": {
     "duration": 0.148787,
     "end_time": "2021-06-01T19:04:31.615587",
     "exception": false,
     "start_time": "2021-06-01T19:04:31.466800",
     "status": "completed"
    },
    "tags": []
   },
   "source": [
    "Распределения выглядят примерно одинаково, соотношение классов похоже на обучающую выборку. В дальнейшем, возможно мы выделим новые фичи на основе уже имеющихся столбцов. Теперь можно перейти к числовым столбцам."
   ]
  },
  {
   "cell_type": "markdown",
   "metadata": {
    "papermill": {
     "duration": 0.148893,
     "end_time": "2021-06-01T19:04:31.911547",
     "exception": false,
     "start_time": "2021-06-01T19:04:31.762654",
     "status": "completed"
    },
    "tags": []
   },
   "source": [
    "## 2.4. Числовые столбцы"
   ]
  },
  {
   "cell_type": "markdown",
   "metadata": {
    "papermill": {
     "duration": 0.148286,
     "end_time": "2021-06-01T19:04:32.208111",
     "exception": false,
     "start_time": "2021-06-01T19:04:32.059825",
     "status": "completed"
    },
    "tags": []
   },
   "source": [
    "Такие столбцы содержат те или иные значения, количество которых обычно довольно высоко. Конечно, часть бинарных столбцов тоже можно отнести к числовым, ведь они содержат 0 или 1, как значение. Но для бинарных столбцов это, скорее, является логической интерпритацией изначальных значений, поэтому их трогать не стоит. Рассмотрим столбцы более подробно:"
   ]
  },
  {
   "cell_type": "code",
   "execution_count": 36,
   "metadata": {
    "execution": {
     "iopub.execute_input": "2021-06-01T19:04:32.509232Z",
     "iopub.status.busy": "2021-06-01T19:04:32.508690Z",
     "iopub.status.idle": "2021-06-01T19:04:32.511913Z",
     "shell.execute_reply": "2021-06-01T19:04:32.511424Z",
     "shell.execute_reply.started": "2021-06-01T18:43:55.185295Z"
    },
    "papermill": {
     "duration": 0.154683,
     "end_time": "2021-06-01T19:04:32.512022",
     "exception": false,
     "start_time": "2021-06-01T19:04:32.357339",
     "status": "completed"
    },
    "tags": []
   },
   "outputs": [],
   "source": [
    "# Список с названиями числовых столбцов фрейма\n",
    "num_cols = [\"age\", \"decline_app_cnt\", \"income\",\n",
    "            \"bki_request_cnt\", \"score_bki\", \"region_rating\"]"
   ]
  },
  {
   "cell_type": "markdown",
   "metadata": {
    "papermill": {
     "duration": 0.148257,
     "end_time": "2021-06-01T19:04:32.809028",
     "exception": false,
     "start_time": "2021-06-01T19:04:32.660771",
     "status": "completed"
    },
    "tags": []
   },
   "source": [
    "Так как различных значений в каждом из столбцов много, посмотрим сразу на гистограммы распределения значений:"
   ]
  },
  {
   "cell_type": "code",
   "execution_count": 37,
   "metadata": {
    "execution": {
     "iopub.execute_input": "2021-06-01T19:04:33.135185Z",
     "iopub.status.busy": "2021-06-01T19:04:33.131607Z",
     "iopub.status.idle": "2021-06-01T19:04:34.725418Z",
     "shell.execute_reply": "2021-06-01T19:04:34.725808Z",
     "shell.execute_reply.started": "2021-06-01T18:43:55.191093Z"
    },
    "papermill": {
     "duration": 1.766586,
     "end_time": "2021-06-01T19:04:34.725986",
     "exception": false,
     "start_time": "2021-06-01T19:04:32.959400",
     "status": "completed"
    },
    "scrolled": true,
    "tags": []
   },
   "outputs": [
    {
     "data": {
      "image/png": "[encoded data removed]",
      "text/plain": [
       "<Figure size 432x288 with 1 Axes>"
      ]
     },
     "metadata": {
      "needs_background": "light"
     },
     "output_type": "display_data"
    },
    {
     "data": {
      "image/png": "[encoded data removed]",
      "text/plain": [
       "<Figure size 432x288 with 1 Axes>"
      ]
     },
     "metadata": {
      "needs_background": "light"
     },
     "output_type": "display_data"
    },
    {
     "data": {
      "image/png": "[encoded data removed]",
      "text/plain": [
       "<Figure size 432x288 with 1 Axes>"
      ]
     },
     "metadata": {
      "needs_background": "light"
     },
     "output_type": "display_data"
    },
    {
     "data": {
      "image/png": "[encoded data removed]",
      "text/plain": [
       "<Figure size 432x288 with 1 Axes>"
      ]
     },
     "metadata": {
      "needs_background": "light"
     },
     "output_type": "display_data"
    },
    {
     "data": {
      "image/png": "[encoded data removed]",
      "text/plain": [
       "<Figure size 432x288 with 1 Axes>"
      ]
     },
     "metadata": {
      "needs_background": "light"
     },
     "output_type": "display_data"
    },
    {
     "data": {
      "image/png": "[encoded data removed]",
      "text/plain": [
       "<Figure size 432x288 with 1 Axes>"
      ]
     },
     "metadata": {
      "needs_background": "light"
     },
     "output_type": "display_data"
    }
   ],
   "source": [
    "for col in num_cols:\n",
    "    plt.figure()\n",
    "    sns.distplot(df[col], kde=False, rug=False)\n",
    "    plt.title(col)\n",
    "    plt.show()"
   ]
  },
  {
   "cell_type": "markdown",
   "metadata": {
    "papermill": {
     "duration": 0.152488,
     "end_time": "2021-06-01T19:04:35.032959",
     "exception": false,
     "start_time": "2021-06-01T19:04:34.880471",
     "status": "completed"
    },
    "tags": []
   },
   "source": [
    "Теперь проверим для тестовой выборки:"
   ]
  },
  {
   "cell_type": "code",
   "execution_count": 38,
   "metadata": {
    "execution": {
     "iopub.execute_input": "2021-06-01T19:04:35.354195Z",
     "iopub.status.busy": "2021-06-01T19:04:35.353666Z",
     "iopub.status.idle": "2021-06-01T19:04:36.417732Z",
     "shell.execute_reply": "2021-06-01T19:04:36.417147Z",
     "shell.execute_reply.started": "2021-06-01T18:43:56.313716Z"
    },
    "papermill": {
     "duration": 1.232158,
     "end_time": "2021-06-01T19:04:36.417878",
     "exception": false,
     "start_time": "2021-06-01T19:04:35.185720",
     "status": "completed"
    },
    "tags": []
   },
   "outputs": [
    {
     "data": {
      "image/png": "[encoded data removed]",
      "text/plain": [
       "<Figure size 432x288 with 1 Axes>"
      ]
     },
     "metadata": {
      "needs_background": "light"
     },
     "output_type": "display_data"
    },
    {
     "data": {
      "image/png": "[encoded data removed]",
      "text/plain": [
       "<Figure size 432x288 with 1 Axes>"
      ]
     },
     "metadata": {
      "needs_background": "light"
     },
     "output_type": "display_data"
    },
    {
     "data": {
      "image/png": "[encoded data removed]",
      "text/plain": [
       "<Figure size 432x288 with 1 Axes>"
      ]
     },
     "metadata": {
      "needs_background": "light"
     },
     "output_type": "display_data"
    },
    {
     "data": {
      "image/png": "[encoded data removed]",
      "text/plain": [
       "<Figure size 432x288 with 1 Axes>"
      ]
     },
     "metadata": {
      "needs_background": "light"
     },
     "output_type": "display_data"
    },
    {
     "data": {
      "image/png": "[encoded data removed]",
      "text/plain": [
       "<Figure size 432x288 with 1 Axes>"
      ]
     },
     "metadata": {
      "needs_background": "light"
     },
     "output_type": "display_data"
    },
    {
     "data": {
      "image/png": "[encoded data removed]",
      "text/plain": [
       "<Figure size 432x288 with 1 Axes>"
      ]
     },
     "metadata": {
      "needs_background": "light"
     },
     "output_type": "display_data"
    }
   ],
   "source": [
    "for col in num_cols:\n",
    "    plt.figure()\n",
    "    sns.distplot(test_df[col], kde=False, rug=False)\n",
    "    plt.title(col)\n",
    "    plt.show()"
   ]
  },
  {
   "cell_type": "markdown",
   "metadata": {
    "papermill": {
     "duration": 0.242109,
     "end_time": "2021-06-01T19:04:36.889680",
     "exception": false,
     "start_time": "2021-06-01T19:04:36.647571",
     "status": "completed"
    },
    "tags": []
   },
   "source": [
    "У тестовой выборки есть общая тенденция в распределении столбца age та же самая, что и у обучающей, но появились внезапные, выбивающиеся по количеству упоминаний, значения для людей старше 35 лет. Возможно для дальнейшего совершенствования модели, будет необходимо с этими данными что-то придумать."
   ]
  },
  {
   "cell_type": "markdown",
   "metadata": {
    "papermill": {
     "duration": 0.235767,
     "end_time": "2021-06-01T19:04:37.363303",
     "exception": false,
     "start_time": "2021-06-01T19:04:37.127536",
     "status": "completed"
    },
    "tags": []
   },
   "source": [
    "На первый взгляд все графики выглядят нормально, без выбросов. По гистограмме распределения возраста можно сделать вывод, что молодые люди обращаются за кредитом чаще, чем взрослые(45+). Большая часть отказов по заявкам сосредоточена в районе 0. Это может говорить о том, что большая часть клиентов, по мнению банка, является добросовестной и стабильно выплачивает все деньги банку. Основная часть гистограммы дохода сосредоточена в районе минимальных значений, но есть и более высокие. Количество запросов в БКИ так же сосредоточено в районе минимальных значений, в особенности около 0-2 запросов, Само распределение смещено влево. Распределение score_bki является нормальным с центральной частью в районе -2. Рейтинг региона говорит нам о том, что большая часть обращающихся находится в регионах  со средним рейтингом, обращения из регионов с минимальным рейтингом почти отсутствует. "
   ]
  },
  {
   "cell_type": "markdown",
   "metadata": {
    "papermill": {
     "duration": 0.240649,
     "end_time": "2021-06-01T19:04:37.841301",
     "exception": false,
     "start_time": "2021-06-01T19:04:37.600652",
     "status": "completed"
    },
    "tags": []
   },
   "source": [
    "Теперь проверим на выбросы при помощи IQR:"
   ]
  },
  {
   "cell_type": "code",
   "execution_count": 39,
   "metadata": {
    "execution": {
     "iopub.execute_input": "2021-06-01T19:04:38.322155Z",
     "iopub.status.busy": "2021-06-01T19:04:38.321379Z",
     "iopub.status.idle": "2021-06-01T19:04:38.362162Z",
     "shell.execute_reply": "2021-06-01T19:04:38.361330Z",
     "shell.execute_reply.started": "2021-06-01T18:43:57.434781Z"
    },
    "papermill": {
     "duration": 0.283742,
     "end_time": "2021-06-01T19:04:38.362291",
     "exception": false,
     "start_time": "2021-06-01T19:04:38.078549",
     "status": "completed"
    },
    "tags": []
   },
   "outputs": [
    {
     "name": "stdout",
     "output_type": "stream",
     "text": [
      "Название столбца:age 25-й перцентиль: 30.0, 75-й перцентиль: 48.0, IQR: 18.0,  Границы выбросов: [3.0, 75.0].\n",
      "Название столбца:decline_app_cnt 25-й перцентиль: 0.0, 75-й перцентиль: 0.0, IQR: 0.0,  Границы выбросов: [0.0, 0.0].\n",
      "Название столбца:income 25-й перцентиль: 20000.0, 75-й перцентиль: 48000.0, IQR: 28000.0,  Границы выбросов: [-22000.0, 90000.0].\n",
      "Название столбца:bki_request_cnt 25-й перцентиль: 0.0, 75-й перцентиль: 3.0, IQR: 3.0,  Границы выбросов: [-4.5, 7.5].\n",
      "Название столбца:score_bki 25-й перцентиль: -2.259533835, 75-й перцентиль: -1.56983126, IQR: 0.6897025750000001,  Границы выбросов: [-3.2940876975, -0.5352773974999998].\n",
      "Название столбца:region_rating 25-й перцентиль: 50.0, 75-й перцентиль: 60.0, IQR: 10.0,  Границы выбросов: [35.0, 75.0].\n"
     ]
    }
   ],
   "source": [
    "for col in num_cols:\n",
    "    IQR = df[col].quantile(0.75) - df[col].quantile(0.25)\n",
    "    perc25 = df[col].quantile(0.25)  # 25-й перцентиль\n",
    "    perc75 = df[col].quantile(0.75)  # 75-й перцентиль\n",
    "\n",
    "    print(\n",
    "        f'Название столбца:{col} '\n",
    "        '25-й перцентиль: {},'.format(perc25),\n",
    "        '75-й перцентиль: {},'.format(perc75),\n",
    "        \"IQR: {}, \".format(IQR),\n",
    "        \"Границы выбросов: [{f}, {l}].\".format(f=perc25 - 1.5*IQR,\n",
    "                                               l=perc75 + 1.5*IQR))"
   ]
  },
  {
   "cell_type": "markdown",
   "metadata": {
    "papermill": {
     "duration": 0.156411,
     "end_time": "2021-06-01T19:04:38.677077",
     "exception": false,
     "start_time": "2021-06-01T19:04:38.520666",
     "status": "completed"
    },
    "tags": []
   },
   "source": [
    "Столбец age целиком и полностью лежит в допустимых границах, данные же столбца decline_app_cnt по IQR,похоже, слишком сильно сосредоточены в районе нуля, поэтому все остальное определяется как выброс. Здравый же смысл нам говорит, что действительно существуют люди, которым могут отказывать в заявке по 10-20 раз или, возможно, больше. Таких значений очень мало и сильного влияния они оказывать на результат не должны. Однако, если в дальнейшем метрики модели будут сильно неудобоваримы, мы можем как-либо заменить (медианой или модой) выбивающиеся значения. Посмотрим столбец income:"
   ]
  },
  {
   "cell_type": "code",
   "execution_count": 40,
   "metadata": {
    "execution": {
     "iopub.execute_input": "2021-06-01T19:04:38.994452Z",
     "iopub.status.busy": "2021-06-01T19:04:38.993783Z",
     "iopub.status.idle": "2021-06-01T19:04:39.021327Z",
     "shell.execute_reply": "2021-06-01T19:04:39.021711Z",
     "shell.execute_reply.started": "2021-06-01T18:43:57.486691Z"
    },
    "papermill": {
     "duration": 0.186513,
     "end_time": "2021-06-01T19:04:39.021925",
     "exception": false,
     "start_time": "2021-06-01T19:04:38.835412",
     "status": "completed"
    },
    "tags": []
   },
   "outputs": [
    {
     "data": {
      "text/plain": [
       "4695"
      ]
     },
     "execution_count": 40,
     "metadata": {},
     "output_type": "execute_result"
    }
   ],
   "source": [
    "df.income[df.income > 90000].count()"
   ]
  },
  {
   "cell_type": "markdown",
   "metadata": {
    "papermill": {
     "duration": 0.154228,
     "end_time": "2021-06-01T19:04:39.332855",
     "exception": false,
     "start_time": "2021-06-01T19:04:39.178627",
     "status": "completed"
    },
    "tags": []
   },
   "source": [
    "Как мы видим, для столбца income имеются значения, сильно выходящие за максимальную границу выброса согласно IQR. При этом, там присутствуют и значения, которые выходят даже за 400000. Исходя из метода, мы должны придумать, что делать со всеми значениями выше верхней границы выброса, но здравый смысл подсказывает, что за кредитами могут обращаться и люди, которые могут иметь свое личное дело. Т.е. доход которых может действительно принимать такие большие значения. Поэтому столбец оставим без изменения, однако будем иметь ввиду, что в случае дальнейшей корректировки модели, сильно выбивающиеся данные можно заменить либо максимальным или медианным значением, либо определить с помощью прочих методов. Посмотрим оставшиеся столбцы:"
   ]
  },
  {
   "cell_type": "code",
   "execution_count": 41,
   "metadata": {
    "execution": {
     "iopub.execute_input": "2021-06-01T19:04:39.646016Z",
     "iopub.status.busy": "2021-06-01T19:04:39.645500Z",
     "iopub.status.idle": "2021-06-01T19:04:39.653226Z",
     "shell.execute_reply": "2021-06-01T19:04:39.652721Z",
     "shell.execute_reply.started": "2021-06-01T18:43:57.495290Z"
    },
    "papermill": {
     "duration": 0.166613,
     "end_time": "2021-06-01T19:04:39.653336",
     "exception": false,
     "start_time": "2021-06-01T19:04:39.486723",
     "status": "completed"
    },
    "tags": []
   },
   "outputs": [
    {
     "name": "stdout",
     "output_type": "stream",
     "text": [
      "1755\n",
      "52\n",
      "299\n"
     ]
    }
   ],
   "source": [
    "print(df.bki_request_cnt[df.bki_request_cnt > 7.5].count())\n",
    "print(df.score_bki[df.score_bki < -3.2940876975].count())\n",
    "print(df.score_bki[df.score_bki > -0.5352773975].count())"
   ]
  },
  {
   "cell_type": "markdown",
   "metadata": {
    "papermill": {
     "duration": 0.159563,
     "end_time": "2021-06-01T19:04:39.971069",
     "exception": false,
     "start_time": "2021-06-01T19:04:39.811506",
     "status": "completed"
    },
    "tags": []
   },
   "source": [
    "Значения bki_request_cnt выбиваются за границы IQR не сильно, людей которые отправили заявок больше, чем того допускает IQR <1% от обучающей выборки. А более 15 заявок отправило менее 200 человек. Один человек отправил целых 53(!) заявки. Опять же, если в дальнейшем прогнозы модели будут плохими, можно будет заменить на значение медианы данного столбца. Для score_bki выбросы вообще не существенны,их очень мало и они не сильно удалены от границ IQR. Здесь преобразовывать ничего не будем."
   ]
  },
  {
   "cell_type": "markdown",
   "metadata": {
    "papermill": {
     "duration": 0.160505,
     "end_time": "2021-06-01T19:04:40.288812",
     "exception": false,
     "start_time": "2021-06-01T19:04:40.128307",
     "status": "completed"
    },
    "tags": []
   },
   "source": [
    "Посмотрим, как ведет себя в этом плане тестовая выборка:"
   ]
  },
  {
   "cell_type": "code",
   "execution_count": 42,
   "metadata": {
    "execution": {
     "iopub.execute_input": "2021-06-01T19:04:40.614026Z",
     "iopub.status.busy": "2021-06-01T19:04:40.613480Z",
     "iopub.status.idle": "2021-06-01T19:04:40.643316Z",
     "shell.execute_reply": "2021-06-01T19:04:40.643885Z",
     "shell.execute_reply.started": "2021-06-01T18:43:57.509434Z"
    },
    "papermill": {
     "duration": 0.195327,
     "end_time": "2021-06-01T19:04:40.644073",
     "exception": false,
     "start_time": "2021-06-01T19:04:40.448746",
     "status": "completed"
    },
    "tags": []
   },
   "outputs": [
    {
     "name": "stdout",
     "output_type": "stream",
     "text": [
      "Название столбца:age 25-й перцентиль: 30.0, 75-й перцентиль: 48.0, IQR: 18.0,  Границы выбросов: [3.0, 75.0].\n",
      "Название столбца:decline_app_cnt 25-й перцентиль: 0.0, 75-й перцентиль: 0.0, IQR: 0.0,  Границы выбросов: [0.0, 0.0].\n",
      "Название столбца:income 25-й перцентиль: 20000.0, 75-й перцентиль: 48000.0, IQR: 28000.0,  Границы выбросов: [-22000.0, 90000.0].\n",
      "Название столбца:bki_request_cnt 25-й перцентиль: 0.0, 75-й перцентиль: 3.0, IQR: 3.0,  Границы выбросов: [-4.5, 7.5].\n",
      "Название столбца:score_bki 25-й перцентиль: -2.26190903, 75-й перцентиль: -1.56395672, IQR: 0.69795231,  Границы выбросов: [-3.308837495, -0.5170282549999998].\n",
      "Название столбца:region_rating 25-й перцентиль: 50.0, 75-й перцентиль: 60.0, IQR: 10.0,  Границы выбросов: [35.0, 75.0].\n"
     ]
    }
   ],
   "source": [
    "for col in num_cols:\n",
    "    IQR = test_df[col].quantile(0.75) - test_df[col].quantile(0.25)\n",
    "    perc25 = test_df[col].quantile(0.25)  # 25-й перцентиль\n",
    "    perc75 = test_df[col].quantile(0.75)  # 75-й перцентиль\n",
    "\n",
    "    print(\n",
    "        f'Название столбца:{col} '\n",
    "        '25-й перцентиль: {},'.format(perc25),\n",
    "        '75-й перцентиль: {},'.format(perc75),\n",
    "        \"IQR: {}, \".format(IQR),\n",
    "        \"Границы выбросов: [{f}, {l}].\".format(f=perc25 - 1.5*IQR,\n",
    "                                               l=perc75 + 1.5*IQR))"
   ]
  },
  {
   "cell_type": "markdown",
   "metadata": {
    "papermill": {
     "duration": 0.159091,
     "end_time": "2021-06-01T19:04:40.964265",
     "exception": false,
     "start_time": "2021-06-01T19:04:40.805174",
     "status": "completed"
    },
    "tags": []
   },
   "source": [
    "В целом, общее поведение примерно одинаково. Если оценка модели будет плохой,необходимо будет заменить выбивающиеся значения на,например, медиану."
   ]
  },
  {
   "cell_type": "markdown",
   "metadata": {
    "papermill": {
     "duration": 0.160086,
     "end_time": "2021-06-01T19:04:41.282670",
     "exception": false,
     "start_time": "2021-06-01T19:04:41.122584",
     "status": "completed"
    },
    "tags": []
   },
   "source": [
    "Также, мы упускаем из поля зрения столбец с датой заявки. Приведем его к стандартному формату:"
   ]
  },
  {
   "cell_type": "code",
   "execution_count": 43,
   "metadata": {
    "execution": {
     "iopub.execute_input": "2021-06-01T19:04:41.611457Z",
     "iopub.status.busy": "2021-06-01T19:04:41.604919Z",
     "iopub.status.idle": "2021-06-01T19:04:42.206513Z",
     "shell.execute_reply": "2021-06-01T19:04:42.205871Z",
     "shell.execute_reply.started": "2021-06-01T18:43:57.551929Z"
    },
    "papermill": {
     "duration": 0.764399,
     "end_time": "2021-06-01T19:04:42.206647",
     "exception": false,
     "start_time": "2021-06-01T19:04:41.442248",
     "status": "completed"
    },
    "tags": []
   },
   "outputs": [],
   "source": [
    "# Приводим к типу отображения YYYY-MM-DD\n",
    "df['app_date'] = df['app_date'].apply(lambda x: datetime.strptime(x, '%d%b%Y'))"
   ]
  },
  {
   "cell_type": "markdown",
   "metadata": {
    "papermill": {
     "duration": 0.238235,
     "end_time": "2021-06-01T19:04:42.682570",
     "exception": false,
     "start_time": "2021-06-01T19:04:42.444335",
     "status": "completed"
    },
    "tags": []
   },
   "source": [
    "Проведем ту же процедуру для тестовой выборки:"
   ]
  },
  {
   "cell_type": "code",
   "execution_count": 44,
   "metadata": {
    "execution": {
     "iopub.execute_input": "2021-06-01T19:04:43.243405Z",
     "iopub.status.busy": "2021-06-01T19:04:43.237989Z",
     "iopub.status.idle": "2021-06-01T19:04:43.532427Z",
     "shell.execute_reply": "2021-06-01T19:04:43.531864Z",
     "shell.execute_reply.started": "2021-06-01T18:43:58.112659Z"
    },
    "papermill": {
     "duration": 0.545585,
     "end_time": "2021-06-01T19:04:43.532537",
     "exception": false,
     "start_time": "2021-06-01T19:04:42.986952",
     "status": "completed"
    },
    "tags": []
   },
   "outputs": [],
   "source": [
    "# Приводим к типу отображения YYYY-MM-DD\n",
    "test_df['app_date'] = test_df['app_date'].apply(\n",
    "    lambda x: datetime.strptime(x, '%d%b%Y'))"
   ]
  },
  {
   "cell_type": "markdown",
   "metadata": {
    "papermill": {
     "duration": 0.157748,
     "end_time": "2021-06-01T19:04:43.851370",
     "exception": false,
     "start_time": "2021-06-01T19:04:43.693622",
     "status": "completed"
    },
    "tags": []
   },
   "source": [
    "Теперь посмотрим на гистграммах распределение дат в выборках:"
   ]
  },
  {
   "cell_type": "code",
   "execution_count": 45,
   "metadata": {
    "execution": {
     "iopub.execute_input": "2021-06-01T19:04:44.194618Z",
     "iopub.status.busy": "2021-06-01T19:04:44.190168Z",
     "iopub.status.idle": "2021-06-01T19:04:44.398599Z",
     "shell.execute_reply": "2021-06-01T19:04:44.398172Z",
     "shell.execute_reply.started": "2021-06-01T18:43:58.390468Z"
    },
    "papermill": {
     "duration": 0.39162,
     "end_time": "2021-06-01T19:04:44.398714",
     "exception": false,
     "start_time": "2021-06-01T19:04:44.007094",
     "status": "completed"
    },
    "tags": []
   },
   "outputs": [
    {
     "data": {
      "text/plain": [
       "<matplotlib.axes._subplots.AxesSubplot at 0x1f25f909640>"
      ]
     },
     "execution_count": 45,
     "metadata": {},
     "output_type": "execute_result"
    },
    {
     "data": {
      "image/png": "[encoded data removed]",
      "text/plain": [
       "<Figure size 432x288 with 1 Axes>"
      ]
     },
     "metadata": {
      "needs_background": "light"
     },
     "output_type": "display_data"
    }
   ],
   "source": [
    "df.app_date.hist()"
   ]
  },
  {
   "cell_type": "code",
   "execution_count": 46,
   "metadata": {
    "execution": {
     "iopub.execute_input": "2021-06-01T19:04:44.716411Z",
     "iopub.status.busy": "2021-06-01T19:04:44.715905Z",
     "iopub.status.idle": "2021-06-01T19:04:44.910869Z",
     "shell.execute_reply": "2021-06-01T19:04:44.911234Z",
     "shell.execute_reply.started": "2021-06-01T18:43:58.825415Z"
    },
    "papermill": {
     "duration": 0.364282,
     "end_time": "2021-06-01T19:04:44.911374",
     "exception": false,
     "start_time": "2021-06-01T19:04:44.547092",
     "status": "completed"
    },
    "tags": []
   },
   "outputs": [
    {
     "data": {
      "text/plain": [
       "<matplotlib.axes._subplots.AxesSubplot at 0x1f25f588cd0>"
      ]
     },
     "execution_count": 46,
     "metadata": {},
     "output_type": "execute_result"
    },
    {
     "data": {
      "image/png": "[encoded data removed]",
      "text/plain": [
       "<Figure size 432x288 with 1 Axes>"
      ]
     },
     "metadata": {
      "needs_background": "light"
     },
     "output_type": "display_data"
    }
   ],
   "source": [
    "test_df.app_date.hist()"
   ]
  },
  {
   "cell_type": "markdown",
   "metadata": {
    "papermill": {
     "duration": 0.161821,
     "end_time": "2021-06-01T19:04:45.232634",
     "exception": false,
     "start_time": "2021-06-01T19:04:45.070813",
     "status": "completed"
    },
    "tags": []
   },
   "source": [
    "Распределение дат нормальное, четко выраженных пиков нет. Данный столбец тоже является числовым, на основе него можно будет выделить новые признаки."
   ]
  },
  {
   "cell_type": "markdown",
   "metadata": {
    "papermill": {
     "duration": 0.162388,
     "end_time": "2021-06-01T19:04:45.552974",
     "exception": false,
     "start_time": "2021-06-01T19:04:45.390586",
     "status": "completed"
    },
    "tags": []
   },
   "source": [
    "Теперь осталось посмотреть на последний столбец: client_id. В целом, никакой смысловой нагрузки столбец нести не должен, проверим сколько уникальных значений:"
   ]
  },
  {
   "cell_type": "code",
   "execution_count": 47,
   "metadata": {
    "execution": {
     "iopub.execute_input": "2021-06-01T19:04:45.884754Z",
     "iopub.status.busy": "2021-06-01T19:04:45.884233Z",
     "iopub.status.idle": "2021-06-01T19:04:45.892140Z",
     "shell.execute_reply": "2021-06-01T19:04:45.890983Z",
     "shell.execute_reply.started": "2021-06-01T18:43:59.002864Z"
    },
    "papermill": {
     "duration": 0.176061,
     "end_time": "2021-06-01T19:04:45.892289",
     "exception": false,
     "start_time": "2021-06-01T19:04:45.716228",
     "status": "completed"
    },
    "tags": []
   },
   "outputs": [
    {
     "name": "stdout",
     "output_type": "stream",
     "text": [
      "73799\n",
      "36349\n"
     ]
    }
   ],
   "source": [
    "print(df.client_id.nunique())\n",
    "print(test_df.client_id.nunique())"
   ]
  },
  {
   "cell_type": "markdown",
   "metadata": {
    "papermill": {
     "duration": 0.24177,
     "end_time": "2021-06-01T19:04:46.377355",
     "exception": false,
     "start_time": "2021-06-01T19:04:46.135585",
     "status": "completed"
    },
    "tags": []
   },
   "source": [
    "Все значения,представленные в данном столбце уникальны. Большой значимости он для нас не имеет, поэтому переходим к другим столбцам."
   ]
  },
  {
   "cell_type": "markdown",
   "metadata": {
    "papermill": {
     "duration": 0.24203,
     "end_time": "2021-06-01T19:04:46.861692",
     "exception": false,
     "start_time": "2021-06-01T19:04:46.619662",
     "status": "completed"
    },
    "tags": []
   },
   "source": [
    "Осталось посмотреть на целевой столбец и можно приступать к дальнейшей обработке данных и выделению фич."
   ]
  },
  {
   "cell_type": "markdown",
   "metadata": {
    "papermill": {
     "duration": 0.240876,
     "end_time": "2021-06-01T19:04:47.344173",
     "exception": false,
     "start_time": "2021-06-01T19:04:47.103297",
     "status": "completed"
    },
    "tags": []
   },
   "source": [
    "## 2.5. Целевой столбец default"
   ]
  },
  {
   "cell_type": "markdown",
   "metadata": {
    "papermill": {
     "duration": 0.241519,
     "end_time": "2021-06-01T19:04:47.824523",
     "exception": false,
     "start_time": "2021-06-01T19:04:47.583004",
     "status": "completed"
    },
    "tags": []
   },
   "source": [
    "Целевой столбец представляет собой бинарное обозначение по перечню имеющихся клиентов обучающей выборки. На основе его значений будет проводиться валидация модели и последующий тест. Посмотрим распределение значений:"
   ]
  },
  {
   "cell_type": "code",
   "execution_count": 48,
   "metadata": {
    "execution": {
     "iopub.execute_input": "2021-06-01T19:04:48.327117Z",
     "iopub.status.busy": "2021-06-01T19:04:48.326391Z",
     "iopub.status.idle": "2021-06-01T19:04:48.436966Z",
     "shell.execute_reply": "2021-06-01T19:04:48.437546Z",
     "shell.execute_reply.started": "2021-06-01T18:43:59.015470Z"
    },
    "papermill": {
     "duration": 0.370647,
     "end_time": "2021-06-01T19:04:48.437724",
     "exception": false,
     "start_time": "2021-06-01T19:04:48.067077",
     "status": "completed"
    },
    "tags": []
   },
   "outputs": [
    {
     "data": {
      "text/plain": [
       "<matplotlib.axes._subplots.AxesSubplot at 0x1f25f506640>"
      ]
     },
     "execution_count": 48,
     "metadata": {},
     "output_type": "execute_result"
    },
    {
     "data": {
      "image/png": "[encoded data removed]",
      "text/plain": [
       "<Figure size 432x288 with 1 Axes>"
      ]
     },
     "metadata": {
      "needs_background": "light"
     },
     "output_type": "display_data"
    }
   ],
   "source": [
    "df.default.hist()"
   ]
  },
  {
   "cell_type": "markdown",
   "metadata": {
    "papermill": {
     "duration": 0.237136,
     "end_time": "2021-06-01T19:04:48.915651",
     "exception": false,
     "start_time": "2021-06-01T19:04:48.678515",
     "status": "completed"
    },
    "tags": []
   },
   "source": [
    "Как мы видим всего в выборке преобладает количество клиентов, вероятность дефолта для которых равна 0. Из-за этого выборка получается несбалансированной. Было бы неплохо воспользоваться либо oversampling'ом либо undersampling'ом, но я боюсь, что тогда модель может получить неполную информацию для будущих предсказаний. Поэтому попробуем посмотреть результат на модели с регуляризацией. В остальном - странных, выбивающихся из диапазона, значений не наблюдается. Теперь можно приступать к обработке столбцов и выделению новых значений."
   ]
  },
  {
   "cell_type": "markdown",
   "metadata": {
    "papermill": {
     "duration": 0.241326,
     "end_time": "2021-06-01T19:04:49.398867",
     "exception": false,
     "start_time": "2021-06-01T19:04:49.157541",
     "status": "completed"
    },
    "tags": []
   },
   "source": [
    "# 3. Data Engeneering"
   ]
  },
  {
   "cell_type": "markdown",
   "metadata": {
    "papermill": {
     "duration": 0.238909,
     "end_time": "2021-06-01T19:04:49.880637",
     "exception": false,
     "start_time": "2021-06-01T19:04:49.641728",
     "status": "completed"
    },
    "tags": []
   },
   "source": [
    "Теперь попробуем выделить новые значения на основе уже имеющихся. Сначала посмотрим корреляцию Пирсона для имеющихся у нас данных:"
   ]
  },
  {
   "cell_type": "code",
   "execution_count": 49,
   "metadata": {
    "execution": {
     "iopub.execute_input": "2021-06-01T19:04:50.370443Z",
     "iopub.status.busy": "2021-06-01T19:04:50.369768Z",
     "iopub.status.idle": "2021-06-01T19:04:51.024636Z",
     "shell.execute_reply": "2021-06-01T19:04:51.024224Z",
     "shell.execute_reply.started": "2021-06-01T18:43:59.159237Z"
    },
    "papermill": {
     "duration": 0.901522,
     "end_time": "2021-06-01T19:04:51.024748",
     "exception": false,
     "start_time": "2021-06-01T19:04:50.123226",
     "status": "completed"
    },
    "tags": []
   },
   "outputs": [
    {
     "data": {
      "text/plain": [
       "<matplotlib.axes._subplots.AxesSubplot at 0x1f25f28eee0>"
      ]
     },
     "execution_count": 49,
     "metadata": {},
     "output_type": "execute_result"
    },
    {
     "data": {
      "image/png": "[encoded data removed]",
      "text/plain": [
       "<Figure size 432x288 with 2 Axes>"
      ]
     },
     "metadata": {
      "needs_background": "light"
     },
     "output_type": "display_data"
    }
   ],
   "source": [
    "sns.heatmap(df[num_cols].corr().abs(), vmin=0, vmax=1, annot=True)"
   ]
  },
  {
   "cell_type": "markdown",
   "metadata": {
    "papermill": {
     "duration": 0.163132,
     "end_time": "2021-06-01T19:04:51.351197",
     "exception": false,
     "start_time": "2021-06-01T19:04:51.188065",
     "status": "completed"
    },
    "tags": []
   },
   "source": [
    "Как мы видим, сильной корреляции у признаков не наблюдается. Теперь перейдем к формированию новых столбцов."
   ]
  },
  {
   "cell_type": "markdown",
   "metadata": {
    "papermill": {
     "duration": 0.161304,
     "end_time": "2021-06-01T19:04:51.673015",
     "exception": false,
     "start_time": "2021-06-01T19:04:51.511711",
     "status": "completed"
    },
    "tags": []
   },
   "source": [
    "## 3.1. Столбец app_date"
   ]
  },
  {
   "cell_type": "markdown",
   "metadata": {
    "papermill": {
     "duration": 0.161988,
     "end_time": "2021-06-01T19:04:51.998570",
     "exception": false,
     "start_time": "2021-06-01T19:04:51.836582",
     "status": "completed"
    },
    "tags": []
   },
   "source": [
    "На основе данного столбца можно сформировать столбец, который будет отображать \"давность\" заявки. Конечно, они все сосредоточены в одном году, но признак может оказаться значимым."
   ]
  },
  {
   "cell_type": "code",
   "execution_count": 50,
   "metadata": {
    "execution": {
     "iopub.execute_input": "2021-06-01T19:04:52.326100Z",
     "iopub.status.busy": "2021-06-01T19:04:52.325569Z",
     "iopub.status.idle": "2021-06-01T19:04:52.329027Z",
     "shell.execute_reply": "2021-06-01T19:04:52.329420Z",
     "shell.execute_reply.started": "2021-06-01T18:43:59.544004Z"
    },
    "papermill": {
     "duration": 0.169532,
     "end_time": "2021-06-01T19:04:52.329565",
     "exception": false,
     "start_time": "2021-06-01T19:04:52.160033",
     "status": "completed"
    },
    "tags": []
   },
   "outputs": [],
   "source": [
    "# Создаем переменную с текущей датой\n",
    "current_date = datetime.now()"
   ]
  },
  {
   "cell_type": "code",
   "execution_count": 51,
   "metadata": {
    "execution": {
     "iopub.execute_input": "2021-06-01T19:04:52.662574Z",
     "iopub.status.busy": "2021-06-01T19:04:52.661704Z",
     "iopub.status.idle": "2021-06-01T19:04:53.519641Z",
     "shell.execute_reply": "2021-06-01T19:04:53.519115Z",
     "shell.execute_reply.started": "2021-06-01T18:43:59.549231Z"
    },
    "papermill": {
     "duration": 1.029836,
     "end_time": "2021-06-01T19:04:53.519754",
     "exception": false,
     "start_time": "2021-06-01T19:04:52.489918",
     "status": "completed"
    },
    "tags": []
   },
   "outputs": [],
   "source": [
    "# Создаем столбец, который будет хранить разницу в днях между текущей датой и датой заявки\n",
    "df['app_age'] = df['app_date'].apply(lambda x: (current_date-x).days)"
   ]
  },
  {
   "cell_type": "markdown",
   "metadata": {
    "papermill": {
     "duration": 0.165836,
     "end_time": "2021-06-01T19:04:53.850632",
     "exception": false,
     "start_time": "2021-06-01T19:04:53.684796",
     "status": "completed"
    },
    "tags": []
   },
   "source": [
    "Теперь посмотрим, что получилось:"
   ]
  },
  {
   "cell_type": "code",
   "execution_count": 52,
   "metadata": {
    "execution": {
     "iopub.execute_input": "2021-06-01T19:04:54.206594Z",
     "iopub.status.busy": "2021-06-01T19:04:54.205945Z",
     "iopub.status.idle": "2021-06-01T19:04:54.210982Z",
     "shell.execute_reply": "2021-06-01T19:04:54.210309Z",
     "shell.execute_reply.started": "2021-06-01T18:44:00.491116Z"
    },
    "papermill": {
     "duration": 0.193989,
     "end_time": "2021-06-01T19:04:54.211127",
     "exception": false,
     "start_time": "2021-06-01T19:04:54.017138",
     "status": "completed"
    },
    "tags": []
   },
   "outputs": [
    {
     "data": {
      "text/html": [
       "<div>\n",
       "<style scoped>\n",
       "    .dataframe tbody tr th:only-of-type {\n",
       "        vertical-align: middle;\n",
       "    }\n",
       "\n",
       "    .dataframe tbody tr th {\n",
       "        vertical-align: top;\n",
       "    }\n",
       "\n",
       "    .dataframe thead th {\n",
       "        text-align: right;\n",
       "    }\n",
       "</style>\n",
       "<table border=\"1\" class=\"dataframe\">\n",
       "  <thead>\n",
       "    <tr style=\"text-align: right;\">\n",
       "      <th></th>\n",
       "      <th>client_id</th>\n",
       "      <th>app_date</th>\n",
       "      <th>education</th>\n",
       "      <th>sex</th>\n",
       "      <th>age</th>\n",
       "      <th>car</th>\n",
       "      <th>car_type</th>\n",
       "      <th>decline_app_cnt</th>\n",
       "      <th>good_work</th>\n",
       "      <th>score_bki</th>\n",
       "      <th>bki_request_cnt</th>\n",
       "      <th>region_rating</th>\n",
       "      <th>home_address</th>\n",
       "      <th>work_address</th>\n",
       "      <th>income</th>\n",
       "      <th>sna</th>\n",
       "      <th>first_time</th>\n",
       "      <th>foreign_passport</th>\n",
       "      <th>default</th>\n",
       "      <th>app_age</th>\n",
       "    </tr>\n",
       "  </thead>\n",
       "  <tbody>\n",
       "    <tr>\n",
       "      <th>0</th>\n",
       "      <td>25905</td>\n",
       "      <td>2014-02-01</td>\n",
       "      <td>SCH</td>\n",
       "      <td>M</td>\n",
       "      <td>62</td>\n",
       "      <td>Y</td>\n",
       "      <td>Y</td>\n",
       "      <td>0</td>\n",
       "      <td>0</td>\n",
       "      <td>-2.008753</td>\n",
       "      <td>1</td>\n",
       "      <td>50</td>\n",
       "      <td>1</td>\n",
       "      <td>2</td>\n",
       "      <td>18000</td>\n",
       "      <td>4</td>\n",
       "      <td>1</td>\n",
       "      <td>N</td>\n",
       "      <td>0</td>\n",
       "      <td>2677</td>\n",
       "    </tr>\n",
       "    <tr>\n",
       "      <th>1</th>\n",
       "      <td>63161</td>\n",
       "      <td>2014-03-12</td>\n",
       "      <td>SCH</td>\n",
       "      <td>F</td>\n",
       "      <td>59</td>\n",
       "      <td>N</td>\n",
       "      <td>N</td>\n",
       "      <td>0</td>\n",
       "      <td>0</td>\n",
       "      <td>-1.532276</td>\n",
       "      <td>3</td>\n",
       "      <td>50</td>\n",
       "      <td>2</td>\n",
       "      <td>3</td>\n",
       "      <td>19000</td>\n",
       "      <td>4</td>\n",
       "      <td>1</td>\n",
       "      <td>N</td>\n",
       "      <td>0</td>\n",
       "      <td>2638</td>\n",
       "    </tr>\n",
       "    <tr>\n",
       "      <th>2</th>\n",
       "      <td>25887</td>\n",
       "      <td>2014-02-01</td>\n",
       "      <td>SCH</td>\n",
       "      <td>M</td>\n",
       "      <td>25</td>\n",
       "      <td>Y</td>\n",
       "      <td>N</td>\n",
       "      <td>2</td>\n",
       "      <td>0</td>\n",
       "      <td>-1.408142</td>\n",
       "      <td>1</td>\n",
       "      <td>80</td>\n",
       "      <td>1</td>\n",
       "      <td>2</td>\n",
       "      <td>30000</td>\n",
       "      <td>1</td>\n",
       "      <td>4</td>\n",
       "      <td>Y</td>\n",
       "      <td>0</td>\n",
       "      <td>2677</td>\n",
       "    </tr>\n",
       "    <tr>\n",
       "      <th>3</th>\n",
       "      <td>16222</td>\n",
       "      <td>2014-01-23</td>\n",
       "      <td>SCH</td>\n",
       "      <td>F</td>\n",
       "      <td>53</td>\n",
       "      <td>N</td>\n",
       "      <td>N</td>\n",
       "      <td>0</td>\n",
       "      <td>0</td>\n",
       "      <td>-2.057471</td>\n",
       "      <td>2</td>\n",
       "      <td>50</td>\n",
       "      <td>2</td>\n",
       "      <td>3</td>\n",
       "      <td>10000</td>\n",
       "      <td>1</td>\n",
       "      <td>3</td>\n",
       "      <td>N</td>\n",
       "      <td>0</td>\n",
       "      <td>2686</td>\n",
       "    </tr>\n",
       "    <tr>\n",
       "      <th>4</th>\n",
       "      <td>101655</td>\n",
       "      <td>2014-04-18</td>\n",
       "      <td>GRD</td>\n",
       "      <td>M</td>\n",
       "      <td>48</td>\n",
       "      <td>N</td>\n",
       "      <td>N</td>\n",
       "      <td>0</td>\n",
       "      <td>1</td>\n",
       "      <td>-1.244723</td>\n",
       "      <td>1</td>\n",
       "      <td>60</td>\n",
       "      <td>2</td>\n",
       "      <td>3</td>\n",
       "      <td>30000</td>\n",
       "      <td>1</td>\n",
       "      <td>4</td>\n",
       "      <td>Y</td>\n",
       "      <td>0</td>\n",
       "      <td>2601</td>\n",
       "    </tr>\n",
       "  </tbody>\n",
       "</table>\n",
       "</div>"
      ],
      "text/plain": [
       "   client_id   app_date education sex  age car car_type  decline_app_cnt  \\\n",
       "0      25905 2014-02-01       SCH   M   62   Y        Y                0   \n",
       "1      63161 2014-03-12       SCH   F   59   N        N                0   \n",
       "2      25887 2014-02-01       SCH   M   25   Y        N                2   \n",
       "3      16222 2014-01-23       SCH   F   53   N        N                0   \n",
       "4     101655 2014-04-18       GRD   M   48   N        N                0   \n",
       "\n",
       "   good_work  score_bki  bki_request_cnt  region_rating  home_address  \\\n",
       "0          0  -2.008753                1             50             1   \n",
       "1          0  -1.532276                3             50             2   \n",
       "2          0  -1.408142                1             80             1   \n",
       "3          0  -2.057471                2             50             2   \n",
       "4          1  -1.244723                1             60             2   \n",
       "\n",
       "   work_address  income  sna  first_time foreign_passport  default  app_age  \n",
       "0             2   18000    4           1                N        0     2677  \n",
       "1             3   19000    4           1                N        0     2638  \n",
       "2             2   30000    1           4                Y        0     2677  \n",
       "3             3   10000    1           3                N        0     2686  \n",
       "4             3   30000    1           4                Y        0     2601  "
      ]
     },
     "execution_count": 52,
     "metadata": {},
     "output_type": "execute_result"
    }
   ],
   "source": [
    "df.head()"
   ]
  },
  {
   "cell_type": "markdown",
   "metadata": {
    "papermill": {
     "duration": 0.240033,
     "end_time": "2021-06-01T19:04:54.696186",
     "exception": false,
     "start_time": "2021-06-01T19:04:54.456153",
     "status": "completed"
    },
    "tags": []
   },
   "source": [
    "Повторим для тестовой выборки:"
   ]
  },
  {
   "cell_type": "code",
   "execution_count": 53,
   "metadata": {
    "execution": {
     "iopub.execute_input": "2021-06-01T19:04:55.029777Z",
     "iopub.status.busy": "2021-06-01T19:04:55.029262Z",
     "iopub.status.idle": "2021-06-01T19:04:55.578628Z",
     "shell.execute_reply": "2021-06-01T19:04:55.579055Z",
     "shell.execute_reply.started": "2021-06-01T18:44:00.510784Z"
    },
    "papermill": {
     "duration": 0.722659,
     "end_time": "2021-06-01T19:04:55.579211",
     "exception": false,
     "start_time": "2021-06-01T19:04:54.856552",
     "status": "completed"
    },
    "tags": []
   },
   "outputs": [],
   "source": [
    "test_df['app_age'] = test_df['app_date'].apply(lambda x: (current_date-x).days)"
   ]
  },
  {
   "cell_type": "markdown",
   "metadata": {
    "papermill": {
     "duration": 0.163006,
     "end_time": "2021-06-01T19:04:55.903102",
     "exception": false,
     "start_time": "2021-06-01T19:04:55.740096",
     "status": "completed"
    },
    "tags": []
   },
   "source": [
    "Посмотрим распределение значений app_age и добавим к списку числовых столбцов"
   ]
  },
  {
   "cell_type": "code",
   "execution_count": 54,
   "metadata": {
    "execution": {
     "iopub.execute_input": "2021-06-01T19:04:56.238320Z",
     "iopub.status.busy": "2021-06-01T19:04:56.237801Z",
     "iopub.status.idle": "2021-06-01T19:04:56.354545Z",
     "shell.execute_reply": "2021-06-01T19:04:56.354956Z",
     "shell.execute_reply.started": "2021-06-01T18:44:01.152640Z"
    },
    "papermill": {
     "duration": 0.286109,
     "end_time": "2021-06-01T19:04:56.355095",
     "exception": false,
     "start_time": "2021-06-01T19:04:56.068986",
     "status": "completed"
    },
    "tags": []
   },
   "outputs": [
    {
     "data": {
      "text/plain": [
       "<matplotlib.axes._subplots.AxesSubplot at 0x1f25f4a0af0>"
      ]
     },
     "execution_count": 54,
     "metadata": {},
     "output_type": "execute_result"
    },
    {
     "data": {
      "image/png": "[encoded data removed]",
      "text/plain": [
       "<Figure size 432x288 with 1 Axes>"
      ]
     },
     "metadata": {
      "needs_background": "light"
     },
     "output_type": "display_data"
    }
   ],
   "source": [
    "# Обучающая выборка\n",
    "df.app_age.hist()"
   ]
  },
  {
   "cell_type": "code",
   "execution_count": 55,
   "metadata": {
    "execution": {
     "iopub.execute_input": "2021-06-01T19:04:56.681988Z",
     "iopub.status.busy": "2021-06-01T19:04:56.681476Z",
     "iopub.status.idle": "2021-06-01T19:04:56.797719Z",
     "shell.execute_reply": "2021-06-01T19:04:56.798160Z",
     "shell.execute_reply.started": "2021-06-01T18:44:01.277852Z"
    },
    "papermill": {
     "duration": 0.28115,
     "end_time": "2021-06-01T19:04:56.798307",
     "exception": false,
     "start_time": "2021-06-01T19:04:56.517157",
     "status": "completed"
    },
    "tags": []
   },
   "outputs": [
    {
     "data": {
      "text/plain": [
       "<matplotlib.axes._subplots.AxesSubplot at 0x1f25ee498e0>"
      ]
     },
     "execution_count": 55,
     "metadata": {},
     "output_type": "execute_result"
    },
    {
     "data": {
      "image/png": "[encoded data removed]",
      "text/plain": [
       "<Figure size 432x288 with 1 Axes>"
      ]
     },
     "metadata": {
      "needs_background": "light"
     },
     "output_type": "display_data"
    }
   ],
   "source": [
    "# Тестовая выборка\n",
    "test_df.app_age.hist()"
   ]
  },
  {
   "cell_type": "markdown",
   "metadata": {
    "papermill": {
     "duration": 0.17187,
     "end_time": "2021-06-01T19:04:57.148163",
     "exception": false,
     "start_time": "2021-06-01T19:04:56.976293",
     "status": "completed"
    },
    "tags": []
   },
   "source": [
    "Как мы видим они полностью повторяют распределение самого столбца app_date, что логично. Теперь добавим к числовым столбцам:"
   ]
  },
  {
   "cell_type": "code",
   "execution_count": 56,
   "metadata": {
    "execution": {
     "iopub.execute_input": "2021-06-01T19:04:57.490691Z",
     "iopub.status.busy": "2021-06-01T19:04:57.490185Z",
     "iopub.status.idle": "2021-06-01T19:04:57.491951Z",
     "shell.execute_reply": "2021-06-01T19:04:57.492299Z",
     "shell.execute_reply.started": "2021-06-01T18:44:01.405778Z"
    },
    "papermill": {
     "duration": 0.17215,
     "end_time": "2021-06-01T19:04:57.492443",
     "exception": false,
     "start_time": "2021-06-01T19:04:57.320293",
     "status": "completed"
    },
    "tags": []
   },
   "outputs": [],
   "source": [
    "num_cols.append('app_age')"
   ]
  },
  {
   "cell_type": "markdown",
   "metadata": {
    "papermill": {
     "duration": 0.164307,
     "end_time": "2021-06-01T19:04:57.819988",
     "exception": false,
     "start_time": "2021-06-01T19:04:57.655681",
     "status": "completed"
    },
    "tags": []
   },
   "source": [
    "После того, как список num_cols стал полностью сформирован, необходимо прологарифмировать признаки, которые вызывали вопросы:"
   ]
  },
  {
   "cell_type": "code",
   "execution_count": 57,
   "metadata": {
    "execution": {
     "iopub.execute_input": "2021-06-01T19:04:58.162358Z",
     "iopub.status.busy": "2021-06-01T19:04:58.161737Z",
     "iopub.status.idle": "2021-06-01T19:04:58.167183Z",
     "shell.execute_reply": "2021-06-01T19:04:58.166699Z",
     "shell.execute_reply.started": "2021-06-01T18:44:01.410343Z"
    },
    "papermill": {
     "duration": 0.178126,
     "end_time": "2021-06-01T19:04:58.167291",
     "exception": false,
     "start_time": "2021-06-01T19:04:57.989165",
     "status": "completed"
    },
    "tags": []
   },
   "outputs": [
    {
     "data": {
      "text/plain": [
       "['age',\n",
       " 'decline_app_cnt',\n",
       " 'income',\n",
       " 'bki_request_cnt',\n",
       " 'score_bki',\n",
       " 'region_rating',\n",
       " 'app_age']"
      ]
     },
     "execution_count": 57,
     "metadata": {},
     "output_type": "execute_result"
    }
   ],
   "source": [
    "num_cols"
   ]
  },
  {
   "cell_type": "code",
   "execution_count": 58,
   "metadata": {
    "execution": {
     "iopub.execute_input": "2021-06-01T19:04:58.542996Z",
     "iopub.status.busy": "2021-06-01T19:04:58.542473Z",
     "iopub.status.idle": "2021-06-01T19:04:58.565878Z",
     "shell.execute_reply": "2021-06-01T19:04:58.565319Z",
     "shell.execute_reply.started": "2021-06-01T18:44:01.425629Z"
    },
    "papermill": {
     "duration": 0.233121,
     "end_time": "2021-06-01T19:04:58.565992",
     "exception": false,
     "start_time": "2021-06-01T19:04:58.332871",
     "status": "completed"
    },
    "tags": []
   },
   "outputs": [],
   "source": [
    "# создаем список столбцов, которые стоит логарифмировать.\n",
    "num_cols_log = ['age', 'decline_app_cnt',\n",
    "                'bki_request_cnt', 'income', 'app_age']\n",
    "for col in num_cols_log:\n",
    "    df[col] = np.log(df[col] + 1)"
   ]
  },
  {
   "cell_type": "markdown",
   "metadata": {
    "papermill": {
     "duration": 0.165101,
     "end_time": "2021-06-01T19:04:58.895522",
     "exception": false,
     "start_time": "2021-06-01T19:04:58.730421",
     "status": "completed"
    },
    "tags": []
   },
   "source": [
    "Теперь повторим для тестовой выборки:"
   ]
  },
  {
   "cell_type": "code",
   "execution_count": 59,
   "metadata": {
    "execution": {
     "iopub.execute_input": "2021-06-01T19:04:59.228969Z",
     "iopub.status.busy": "2021-06-01T19:04:59.228453Z",
     "iopub.status.idle": "2021-06-01T19:04:59.242760Z",
     "shell.execute_reply": "2021-06-01T19:04:59.241981Z",
     "shell.execute_reply.started": "2021-06-01T18:44:01.461634Z"
    },
    "papermill": {
     "duration": 0.182865,
     "end_time": "2021-06-01T19:04:59.242900",
     "exception": false,
     "start_time": "2021-06-01T19:04:59.060035",
     "status": "completed"
    },
    "tags": []
   },
   "outputs": [],
   "source": [
    "for col in num_cols_log:\n",
    "    test_df[col] = np.log(test_df[col] + 1)"
   ]
  },
  {
   "cell_type": "markdown",
   "metadata": {
    "papermill": {
     "duration": 0.163704,
     "end_time": "2021-06-01T19:04:59.571899",
     "exception": false,
     "start_time": "2021-06-01T19:04:59.408195",
     "status": "completed"
    },
    "tags": []
   },
   "source": [
    "Наконец, посмотрим на значимость полученных числовых признаков:"
   ]
  },
  {
   "cell_type": "code",
   "execution_count": 60,
   "metadata": {
    "execution": {
     "iopub.execute_input": "2021-06-01T19:04:59.904595Z",
     "iopub.status.busy": "2021-06-01T19:04:59.904066Z",
     "iopub.status.idle": "2021-06-01T19:05:00.081194Z",
     "shell.execute_reply": "2021-06-01T19:05:00.081570Z",
     "shell.execute_reply.started": "2021-06-01T18:44:01.479229Z"
    },
    "papermill": {
     "duration": 0.346575,
     "end_time": "2021-06-01T19:05:00.081726",
     "exception": false,
     "start_time": "2021-06-01T19:04:59.735151",
     "status": "completed"
    },
    "tags": []
   },
   "outputs": [
    {
     "data": {
      "text/plain": [
       "Text(0.5, 1.0, 'Значимость числовых признаков')"
      ]
     },
     "execution_count": 60,
     "metadata": {},
     "output_type": "execute_result"
    },
    {
     "data": {
      "image/png": "[encoded data removed]",
      "text/plain": [
       "<Figure size 432x288 with 1 Axes>"
      ]
     },
     "metadata": {
      "needs_background": "light"
     },
     "output_type": "display_data"
    }
   ],
   "source": [
    "imp_num = pd.Series(f_classif(df[num_cols], df['default'])[0], index=num_cols)\n",
    "imp_num.sort_values(inplace=True)\n",
    "imp_num.plot(kind='barh')\n",
    "plt.title('Значимость числовых признаков')"
   ]
  },
  {
   "cell_type": "markdown",
   "metadata": {
    "papermill": {
     "duration": 0.165927,
     "end_time": "2021-06-01T19:05:00.414144",
     "exception": false,
     "start_time": "2021-06-01T19:05:00.248217",
     "status": "completed"
    },
    "tags": []
   },
   "source": [
    "Как мы можем увидеть, наименее значимым из всех числовых признаков являетя возраст, а наиболее влиятельными - количество отказов по прошлым заявкам и скоринговый балл БКИ. Еще раз проверим корреляцию:"
   ]
  },
  {
   "cell_type": "code",
   "execution_count": 61,
   "metadata": {
    "execution": {
     "iopub.execute_input": "2021-06-01T19:05:00.748766Z",
     "iopub.status.busy": "2021-06-01T19:05:00.748230Z",
     "iopub.status.idle": "2021-06-01T19:05:01.237918Z",
     "shell.execute_reply": "2021-06-01T19:05:01.237486Z",
     "shell.execute_reply.started": "2021-06-01T18:44:01.631224Z"
    },
    "papermill": {
     "duration": 0.661509,
     "end_time": "2021-06-01T19:05:01.238033",
     "exception": false,
     "start_time": "2021-06-01T19:05:00.576524",
     "status": "completed"
    },
    "tags": []
   },
   "outputs": [
    {
     "data": {
      "text/plain": [
       "<matplotlib.axes._subplots.AxesSubplot at 0x1f25e775580>"
      ]
     },
     "execution_count": 61,
     "metadata": {},
     "output_type": "execute_result"
    },
    {
     "data": {
      "image/png": "[encoded data removed]",
      "text/plain": [
       "<Figure size 1080x720 with 2 Axes>"
      ]
     },
     "metadata": {
      "needs_background": "light"
     },
     "output_type": "display_data"
    }
   ],
   "source": [
    "plt.figure(figsize=(15, 10))\n",
    "sns.heatmap(df[num_cols].corr().abs(), vmin=0, vmax=1, annot=True)"
   ]
  },
  {
   "cell_type": "markdown",
   "metadata": {
    "papermill": {
     "duration": 0.169792,
     "end_time": "2021-06-01T19:05:01.578362",
     "exception": false,
     "start_time": "2021-06-01T19:05:01.408570",
     "status": "completed"
    },
    "tags": []
   },
   "source": [
    "Корреляционная зависимость по отношению к новому признаку мала."
   ]
  },
  {
   "cell_type": "markdown",
   "metadata": {
    "papermill": {
     "duration": 0.167668,
     "end_time": "2021-06-01T19:05:01.918089",
     "exception": false,
     "start_time": "2021-06-01T19:05:01.750421",
     "status": "completed"
    },
    "tags": []
   },
   "source": [
    "## 3.2. Бинарные столбцы"
   ]
  },
  {
   "cell_type": "markdown",
   "metadata": {
    "papermill": {
     "duration": 0.166425,
     "end_time": "2021-06-01T19:05:02.251026",
     "exception": false,
     "start_time": "2021-06-01T19:05:02.084601",
     "status": "completed"
    },
    "tags": []
   },
   "source": [
    "Преобразуем бинарные столбцы так, чтобы в них находились только числовые значения:"
   ]
  },
  {
   "cell_type": "code",
   "execution_count": 62,
   "metadata": {
    "execution": {
     "iopub.execute_input": "2021-06-01T19:05:02.606915Z",
     "iopub.status.busy": "2021-06-01T19:05:02.601648Z",
     "iopub.status.idle": "2021-06-01T19:05:02.742698Z",
     "shell.execute_reply": "2021-06-01T19:05:02.742231Z",
     "shell.execute_reply.started": "2021-06-01T18:44:02.065031Z"
    },
    "papermill": {
     "duration": 0.325338,
     "end_time": "2021-06-01T19:05:02.742816",
     "exception": false,
     "start_time": "2021-06-01T19:05:02.417478",
     "status": "completed"
    },
    "tags": []
   },
   "outputs": [
    {
     "name": "stdout",
     "output_type": "stream",
     "text": [
      "sex {0: 'F', 1: 'M'}\n",
      "car {0: 'N', 1: 'Y'}\n",
      "car_type {0: 'N', 1: 'Y'}\n",
      "foreign_passport {0: 'N', 1: 'Y'}\n",
      "good_work {0: 0, 1: 1}\n"
     ]
    }
   ],
   "source": [
    "label_encoder = LabelEncoder()\n",
    "for column in bin_cols:\n",
    "    df[column] = label_encoder.fit_transform(df[column])\n",
    "    test_df[column] = label_encoder.fit_transform(test_df[column])\n",
    "    # на каждой итерации выводим результат, чтобы было понятно какие значения и на что мы заменили\n",
    "    print(column, dict(enumerate(label_encoder.classes_)))"
   ]
  },
  {
   "cell_type": "markdown",
   "metadata": {
    "papermill": {
     "duration": 0.165135,
     "end_time": "2021-06-01T19:05:03.076598",
     "exception": false,
     "start_time": "2021-06-01T19:05:02.911463",
     "status": "completed"
    },
    "tags": []
   },
   "source": [
    "Посмотрим, как теперь выглядит наш фрейм:"
   ]
  },
  {
   "cell_type": "code",
   "execution_count": 63,
   "metadata": {
    "execution": {
     "iopub.execute_input": "2021-06-01T19:05:03.427249Z",
     "iopub.status.busy": "2021-06-01T19:05:03.420273Z",
     "iopub.status.idle": "2021-06-01T19:05:03.431277Z",
     "shell.execute_reply": "2021-06-01T19:05:03.430733Z",
     "shell.execute_reply.started": "2021-06-01T18:44:02.171716Z"
    },
    "papermill": {
     "duration": 0.187863,
     "end_time": "2021-06-01T19:05:03.431408",
     "exception": false,
     "start_time": "2021-06-01T19:05:03.243545",
     "status": "completed"
    },
    "tags": []
   },
   "outputs": [
    {
     "data": {
      "text/html": [
       "<div>\n",
       "<style scoped>\n",
       "    .dataframe tbody tr th:only-of-type {\n",
       "        vertical-align: middle;\n",
       "    }\n",
       "\n",
       "    .dataframe tbody tr th {\n",
       "        vertical-align: top;\n",
       "    }\n",
       "\n",
       "    .dataframe thead th {\n",
       "        text-align: right;\n",
       "    }\n",
       "</style>\n",
       "<table border=\"1\" class=\"dataframe\">\n",
       "  <thead>\n",
       "    <tr style=\"text-align: right;\">\n",
       "      <th></th>\n",
       "      <th>client_id</th>\n",
       "      <th>app_date</th>\n",
       "      <th>education</th>\n",
       "      <th>sex</th>\n",
       "      <th>age</th>\n",
       "      <th>car</th>\n",
       "      <th>car_type</th>\n",
       "      <th>decline_app_cnt</th>\n",
       "      <th>good_work</th>\n",
       "      <th>score_bki</th>\n",
       "      <th>bki_request_cnt</th>\n",
       "      <th>region_rating</th>\n",
       "      <th>home_address</th>\n",
       "      <th>work_address</th>\n",
       "      <th>income</th>\n",
       "      <th>sna</th>\n",
       "      <th>first_time</th>\n",
       "      <th>foreign_passport</th>\n",
       "      <th>default</th>\n",
       "      <th>app_age</th>\n",
       "    </tr>\n",
       "  </thead>\n",
       "  <tbody>\n",
       "    <tr>\n",
       "      <th>0</th>\n",
       "      <td>25905</td>\n",
       "      <td>2014-02-01</td>\n",
       "      <td>SCH</td>\n",
       "      <td>1</td>\n",
       "      <td>4.143135</td>\n",
       "      <td>1</td>\n",
       "      <td>1</td>\n",
       "      <td>0.000000</td>\n",
       "      <td>0</td>\n",
       "      <td>-2.008753</td>\n",
       "      <td>0.693147</td>\n",
       "      <td>50</td>\n",
       "      <td>1</td>\n",
       "      <td>2</td>\n",
       "      <td>9.798183</td>\n",
       "      <td>4</td>\n",
       "      <td>1</td>\n",
       "      <td>0</td>\n",
       "      <td>0</td>\n",
       "      <td>7.892826</td>\n",
       "    </tr>\n",
       "    <tr>\n",
       "      <th>1</th>\n",
       "      <td>63161</td>\n",
       "      <td>2014-03-12</td>\n",
       "      <td>SCH</td>\n",
       "      <td>0</td>\n",
       "      <td>4.094345</td>\n",
       "      <td>0</td>\n",
       "      <td>0</td>\n",
       "      <td>0.000000</td>\n",
       "      <td>0</td>\n",
       "      <td>-1.532276</td>\n",
       "      <td>1.386294</td>\n",
       "      <td>50</td>\n",
       "      <td>2</td>\n",
       "      <td>3</td>\n",
       "      <td>9.852247</td>\n",
       "      <td>4</td>\n",
       "      <td>1</td>\n",
       "      <td>0</td>\n",
       "      <td>0</td>\n",
       "      <td>7.878155</td>\n",
       "    </tr>\n",
       "    <tr>\n",
       "      <th>2</th>\n",
       "      <td>25887</td>\n",
       "      <td>2014-02-01</td>\n",
       "      <td>SCH</td>\n",
       "      <td>1</td>\n",
       "      <td>3.258097</td>\n",
       "      <td>1</td>\n",
       "      <td>0</td>\n",
       "      <td>1.098612</td>\n",
       "      <td>0</td>\n",
       "      <td>-1.408142</td>\n",
       "      <td>0.693147</td>\n",
       "      <td>80</td>\n",
       "      <td>1</td>\n",
       "      <td>2</td>\n",
       "      <td>10.308986</td>\n",
       "      <td>1</td>\n",
       "      <td>4</td>\n",
       "      <td>1</td>\n",
       "      <td>0</td>\n",
       "      <td>7.892826</td>\n",
       "    </tr>\n",
       "    <tr>\n",
       "      <th>3</th>\n",
       "      <td>16222</td>\n",
       "      <td>2014-01-23</td>\n",
       "      <td>SCH</td>\n",
       "      <td>0</td>\n",
       "      <td>3.988984</td>\n",
       "      <td>0</td>\n",
       "      <td>0</td>\n",
       "      <td>0.000000</td>\n",
       "      <td>0</td>\n",
       "      <td>-2.057471</td>\n",
       "      <td>1.098612</td>\n",
       "      <td>50</td>\n",
       "      <td>2</td>\n",
       "      <td>3</td>\n",
       "      <td>9.210440</td>\n",
       "      <td>1</td>\n",
       "      <td>3</td>\n",
       "      <td>0</td>\n",
       "      <td>0</td>\n",
       "      <td>7.896181</td>\n",
       "    </tr>\n",
       "    <tr>\n",
       "      <th>4</th>\n",
       "      <td>101655</td>\n",
       "      <td>2014-04-18</td>\n",
       "      <td>GRD</td>\n",
       "      <td>1</td>\n",
       "      <td>3.891820</td>\n",
       "      <td>0</td>\n",
       "      <td>0</td>\n",
       "      <td>0.000000</td>\n",
       "      <td>1</td>\n",
       "      <td>-1.244723</td>\n",
       "      <td>0.693147</td>\n",
       "      <td>60</td>\n",
       "      <td>2</td>\n",
       "      <td>3</td>\n",
       "      <td>10.308986</td>\n",
       "      <td>1</td>\n",
       "      <td>4</td>\n",
       "      <td>1</td>\n",
       "      <td>0</td>\n",
       "      <td>7.864036</td>\n",
       "    </tr>\n",
       "  </tbody>\n",
       "</table>\n",
       "</div>"
      ],
      "text/plain": [
       "   client_id   app_date education  sex       age  car  car_type  \\\n",
       "0      25905 2014-02-01       SCH    1  4.143135    1         1   \n",
       "1      63161 2014-03-12       SCH    0  4.094345    0         0   \n",
       "2      25887 2014-02-01       SCH    1  3.258097    1         0   \n",
       "3      16222 2014-01-23       SCH    0  3.988984    0         0   \n",
       "4     101655 2014-04-18       GRD    1  3.891820    0         0   \n",
       "\n",
       "   decline_app_cnt  good_work  score_bki  bki_request_cnt  region_rating  \\\n",
       "0         0.000000          0  -2.008753         0.693147             50   \n",
       "1         0.000000          0  -1.532276         1.386294             50   \n",
       "2         1.098612          0  -1.408142         0.693147             80   \n",
       "3         0.000000          0  -2.057471         1.098612             50   \n",
       "4         0.000000          1  -1.244723         0.693147             60   \n",
       "\n",
       "   home_address  work_address     income  sna  first_time  foreign_passport  \\\n",
       "0             1             2   9.798183    4           1                 0   \n",
       "1             2             3   9.852247    4           1                 0   \n",
       "2             1             2  10.308986    1           4                 1   \n",
       "3             2             3   9.210440    1           3                 0   \n",
       "4             2             3  10.308986    1           4                 1   \n",
       "\n",
       "   default   app_age  \n",
       "0        0  7.892826  \n",
       "1        0  7.878155  \n",
       "2        0  7.892826  \n",
       "3        0  7.896181  \n",
       "4        0  7.864036  "
      ]
     },
     "execution_count": 63,
     "metadata": {},
     "output_type": "execute_result"
    }
   ],
   "source": [
    "df.head()"
   ]
  },
  {
   "cell_type": "markdown",
   "metadata": {
    "papermill": {
     "duration": 0.249172,
     "end_time": "2021-06-01T19:05:03.932140",
     "exception": false,
     "start_time": "2021-06-01T19:05:03.682968",
     "status": "completed"
    },
    "tags": []
   },
   "source": [
    "Теперь преобразуем столбцы car и car_type в единый столбец, который будет отражать наличие машины, и если она есть - показывать, импортная она или нет."
   ]
  },
  {
   "cell_type": "code",
   "execution_count": 64,
   "metadata": {
    "execution": {
     "iopub.execute_input": "2021-06-01T19:05:04.465551Z",
     "iopub.status.busy": "2021-06-01T19:05:04.443712Z",
     "iopub.status.idle": "2021-06-01T19:05:05.324217Z",
     "shell.execute_reply": "2021-06-01T19:05:05.323496Z",
     "shell.execute_reply.started": "2021-06-01T18:44:02.193887Z"
    },
    "papermill": {
     "duration": 1.138251,
     "end_time": "2021-06-01T19:05:05.324353",
     "exception": false,
     "start_time": "2021-06-01T19:05:04.186102",
     "status": "completed"
    },
    "tags": []
   },
   "outputs": [],
   "source": [
    "# создаем список, в котором будут храниться значения\n",
    "cars = []\n",
    "# проверяем, есть машина или нет, и ставим соответствующую\n",
    "# категорию в новый список\n",
    "for i in df.car.index:\n",
    "    if df.car[i] == 0:\n",
    "        cars.append(0)\n",
    "    elif df.car_type[i] == 0:\n",
    "        cars.append(1)\n",
    "    else:\n",
    "        cars.append(2)"
   ]
  },
  {
   "cell_type": "code",
   "execution_count": 65,
   "metadata": {
    "execution": {
     "iopub.execute_input": "2021-06-01T19:05:05.847432Z",
     "iopub.status.busy": "2021-06-01T19:05:05.845827Z",
     "iopub.status.idle": "2021-06-01T19:05:05.853927Z",
     "shell.execute_reply": "2021-06-01T19:05:05.854395Z",
     "shell.execute_reply.started": "2021-06-01T18:44:02.982508Z"
    },
    "papermill": {
     "duration": 0.279948,
     "end_time": "2021-06-01T19:05:05.854560",
     "exception": false,
     "start_time": "2021-06-01T19:05:05.574612",
     "status": "completed"
    },
    "tags": []
   },
   "outputs": [
    {
     "data": {
      "text/plain": [
       "0    49832\n",
       "2    14008\n",
       "1     9959\n",
       "Name: car_and_brand, dtype: int64"
      ]
     },
     "execution_count": 65,
     "metadata": {},
     "output_type": "execute_result"
    }
   ],
   "source": [
    "# Переносим полученные значения в новый столбец\n",
    "df['car_and_brand'] = pd.Series(cars)\n",
    "df.car_and_brand.value_counts()"
   ]
  },
  {
   "cell_type": "markdown",
   "metadata": {
    "papermill": {
     "duration": 0.192332,
     "end_time": "2021-06-01T19:05:06.262967",
     "exception": false,
     "start_time": "2021-06-01T19:05:06.070635",
     "status": "completed"
    },
    "tags": []
   },
   "source": [
    "Как мы видим, получился категориальный признак, который отражает наличие машины у клиента, и относит к одному из трех типов:\n",
    "* клиент не имеет машины (0)\n",
    "* клиент имеет отечественный автомобиль(1)\n",
    "* клиент имеет импортный автомобиль(2)"
   ]
  },
  {
   "cell_type": "markdown",
   "metadata": {
    "papermill": {
     "duration": 0.165235,
     "end_time": "2021-06-01T19:05:06.595863",
     "exception": false,
     "start_time": "2021-06-01T19:05:06.430628",
     "status": "completed"
    },
    "tags": []
   },
   "source": [
    "Повторим для тестовой выборки"
   ]
  },
  {
   "cell_type": "code",
   "execution_count": 66,
   "metadata": {
    "execution": {
     "iopub.execute_input": "2021-06-01T19:05:06.941271Z",
     "iopub.status.busy": "2021-06-01T19:05:06.935970Z",
     "iopub.status.idle": "2021-06-01T19:05:07.672498Z",
     "shell.execute_reply": "2021-06-01T19:05:07.672883Z",
     "shell.execute_reply.started": "2021-06-01T18:44:03.009895Z"
    },
    "papermill": {
     "duration": 0.910942,
     "end_time": "2021-06-01T19:05:07.673019",
     "exception": false,
     "start_time": "2021-06-01T19:05:06.762077",
     "status": "completed"
    },
    "tags": []
   },
   "outputs": [],
   "source": [
    "# создаем список, в котором будут храниться значения\n",
    "cars_test = []\n",
    "# проверяем, есть машина или нет, и ставим соответствующую\n",
    "# категорию в новый список\n",
    "for i in test_df.car.index:\n",
    "    if test_df.car[i] == 0:\n",
    "        cars_test.append(0)\n",
    "    elif test_df.car_type[i] == 0:\n",
    "        cars_test.append(1)\n",
    "    else:\n",
    "        cars_test.append(2)"
   ]
  },
  {
   "cell_type": "code",
   "execution_count": 67,
   "metadata": {
    "execution": {
     "iopub.execute_input": "2021-06-01T19:05:08.026153Z",
     "iopub.status.busy": "2021-06-01T19:05:08.025583Z",
     "iopub.status.idle": "2021-06-01T19:05:08.033511Z",
     "shell.execute_reply": "2021-06-01T19:05:08.033041Z",
     "shell.execute_reply.started": "2021-06-01T18:44:03.402737Z"
    },
    "papermill": {
     "duration": 0.198422,
     "end_time": "2021-06-01T19:05:08.033617",
     "exception": false,
     "start_time": "2021-06-01T19:05:07.835195",
     "status": "completed"
    },
    "tags": []
   },
   "outputs": [
    {
     "data": {
      "text/plain": [
       "0    24458\n",
       "2     7000\n",
       "1     4891\n",
       "Name: car_and_brand, dtype: int64"
      ]
     },
     "execution_count": 67,
     "metadata": {},
     "output_type": "execute_result"
    }
   ],
   "source": [
    "# Переносим полученные значения в новый столбец\n",
    "test_df['car_and_brand'] = pd.Series(cars_test)\n",
    "test_df.car_and_brand.value_counts()"
   ]
  },
  {
   "cell_type": "markdown",
   "metadata": {
    "papermill": {
     "duration": 0.168505,
     "end_time": "2021-06-01T19:05:08.376684",
     "exception": false,
     "start_time": "2021-06-01T19:05:08.208179",
     "status": "completed"
    },
    "tags": []
   },
   "source": [
    "Добавим полученный признак к категориальным:"
   ]
  },
  {
   "cell_type": "code",
   "execution_count": 68,
   "metadata": {
    "execution": {
     "iopub.execute_input": "2021-06-01T19:05:08.715497Z",
     "iopub.status.busy": "2021-06-01T19:05:08.715043Z",
     "iopub.status.idle": "2021-06-01T19:05:08.718022Z",
     "shell.execute_reply": "2021-06-01T19:05:08.717438Z",
     "shell.execute_reply.started": "2021-06-01T18:44:03.420497Z"
    },
    "papermill": {
     "duration": 0.173492,
     "end_time": "2021-06-01T19:05:08.718127",
     "exception": false,
     "start_time": "2021-06-01T19:05:08.544635",
     "status": "completed"
    },
    "tags": []
   },
   "outputs": [],
   "source": [
    "cat_cols.append('car_and_brand')"
   ]
  },
  {
   "cell_type": "markdown",
   "metadata": {
    "papermill": {
     "duration": 0.166998,
     "end_time": "2021-06-01T19:05:09.051913",
     "exception": false,
     "start_time": "2021-06-01T19:05:08.884915",
     "status": "completed"
    },
    "tags": []
   },
   "source": [
    "Теперь удалим исходные столбцы, на основе которых мы получили новый признак:"
   ]
  },
  {
   "cell_type": "code",
   "execution_count": 69,
   "metadata": {
    "execution": {
     "iopub.execute_input": "2021-06-01T19:05:09.391268Z",
     "iopub.status.busy": "2021-06-01T19:05:09.390510Z",
     "iopub.status.idle": "2021-06-01T19:05:09.392852Z",
     "shell.execute_reply": "2021-06-01T19:05:09.393226Z",
     "shell.execute_reply.started": "2021-06-01T18:44:03.433248Z"
    },
    "papermill": {
     "duration": 0.175932,
     "end_time": "2021-06-01T19:05:09.393388",
     "exception": false,
     "start_time": "2021-06-01T19:05:09.217456",
     "status": "completed"
    },
    "tags": []
   },
   "outputs": [],
   "source": [
    "# удалим два исходных бинарных столбца, из которых мы получили\n",
    "# категориальный столбец car_and_brand\n",
    "bin_cols.remove('car')\n",
    "bin_cols.remove('car_type')"
   ]
  },
  {
   "cell_type": "markdown",
   "metadata": {
    "papermill": {
     "duration": 0.16787,
     "end_time": "2021-06-01T19:05:09.730081",
     "exception": false,
     "start_time": "2021-06-01T19:05:09.562211",
     "status": "completed"
    },
    "tags": []
   },
   "source": [
    "Теперь создадим бинарный признак, который будет показывать - выше среднего доход у заемщика или нет."
   ]
  },
  {
   "cell_type": "code",
   "execution_count": 70,
   "metadata": {
    "execution": {
     "iopub.execute_input": "2021-06-01T19:05:10.073299Z",
     "iopub.status.busy": "2021-06-01T19:05:10.072766Z",
     "iopub.status.idle": "2021-06-01T19:05:24.681259Z",
     "shell.execute_reply": "2021-06-01T19:05:24.680805Z",
     "shell.execute_reply.started": "2021-06-01T18:44:03.447080Z"
    },
    "papermill": {
     "duration": 14.782253,
     "end_time": "2021-06-01T19:05:24.681381",
     "exception": false,
     "start_time": "2021-06-01T19:05:09.899128",
     "status": "completed"
    },
    "tags": []
   },
   "outputs": [],
   "source": [
    "df['income_level'] = df.income.apply(\n",
    "    lambda x: 1 if x > df.income.mean() else 0)"
   ]
  },
  {
   "cell_type": "code",
   "execution_count": 71,
   "metadata": {
    "execution": {
     "iopub.execute_input": "2021-06-01T19:05:25.025461Z",
     "iopub.status.busy": "2021-06-01T19:05:25.024953Z",
     "iopub.status.idle": "2021-06-01T19:05:31.386902Z",
     "shell.execute_reply": "2021-06-01T19:05:31.387280Z",
     "shell.execute_reply.started": "2021-06-01T18:44:18.823506Z"
    },
    "papermill": {
     "duration": 6.53411,
     "end_time": "2021-06-01T19:05:31.387423",
     "exception": false,
     "start_time": "2021-06-01T19:05:24.853313",
     "status": "completed"
    },
    "tags": []
   },
   "outputs": [],
   "source": [
    "test_df['income_level'] = test_df.income.apply(\n",
    "    lambda x: 1 if x > df.income.mean()else 0)"
   ]
  },
  {
   "cell_type": "markdown",
   "metadata": {
    "papermill": {
     "duration": 0.166397,
     "end_time": "2021-06-01T19:05:31.719909",
     "exception": false,
     "start_time": "2021-06-01T19:05:31.553512",
     "status": "completed"
    },
    "tags": []
   },
   "source": [
    "Здесь мы сравниваем со средним значением заработка обучающей выборки, чтобы не получить разницы в масштабе. Посмотрим, как ведет себя распределение значений полученного признака:"
   ]
  },
  {
   "cell_type": "code",
   "execution_count": 72,
   "metadata": {
    "execution": {
     "iopub.execute_input": "2021-06-01T19:05:32.078228Z",
     "iopub.status.busy": "2021-06-01T19:05:32.071906Z",
     "iopub.status.idle": "2021-06-01T19:05:32.224100Z",
     "shell.execute_reply": "2021-06-01T19:05:32.223674Z",
     "shell.execute_reply.started": "2021-06-01T18:44:26.355454Z"
    },
    "papermill": {
     "duration": 0.336016,
     "end_time": "2021-06-01T19:05:32.224225",
     "exception": false,
     "start_time": "2021-06-01T19:05:31.888209",
     "status": "completed"
    },
    "tags": []
   },
   "outputs": [
    {
     "data": {
      "text/plain": [
       "<matplotlib.axes._subplots.AxesSubplot at 0x1f25cf13d30>"
      ]
     },
     "execution_count": 72,
     "metadata": {},
     "output_type": "execute_result"
    },
    {
     "data": {
      "image/png": "[encoded data removed]",
      "text/plain": [
       "<Figure size 432x288 with 1 Axes>"
      ]
     },
     "metadata": {
      "needs_background": "light"
     },
     "output_type": "display_data"
    }
   ],
   "source": [
    "df.income_level.hist()"
   ]
  },
  {
   "cell_type": "markdown",
   "metadata": {
    "papermill": {
     "duration": 0.167644,
     "end_time": "2021-06-01T19:05:32.562389",
     "exception": false,
     "start_time": "2021-06-01T19:05:32.394745",
     "status": "completed"
    },
    "tags": []
   },
   "source": [
    "Из гистограммы видно, что доход выше среднего примерно у трети людей из всей обучающей выборки, что может говорить нам о тех, кто в основном обращается за кредитом. Добавим полученный столбец к бинарным:"
   ]
  },
  {
   "cell_type": "code",
   "execution_count": 73,
   "metadata": {
    "execution": {
     "iopub.execute_input": "2021-06-01T19:05:32.907178Z",
     "iopub.status.busy": "2021-06-01T19:05:32.906595Z",
     "iopub.status.idle": "2021-06-01T19:05:32.909032Z",
     "shell.execute_reply": "2021-06-01T19:05:32.908517Z",
     "shell.execute_reply.started": "2021-06-01T18:44:26.498232Z"
    },
    "papermill": {
     "duration": 0.174513,
     "end_time": "2021-06-01T19:05:32.909143",
     "exception": false,
     "start_time": "2021-06-01T19:05:32.734630",
     "status": "completed"
    },
    "tags": []
   },
   "outputs": [],
   "source": [
    "bin_cols.append('income_level')"
   ]
  },
  {
   "cell_type": "code",
   "execution_count": 74,
   "metadata": {
    "execution": {
     "iopub.execute_input": "2021-06-01T19:05:33.272537Z",
     "iopub.status.busy": "2021-06-01T19:05:33.250714Z",
     "iopub.status.idle": "2021-06-01T19:05:33.280617Z",
     "shell.execute_reply": "2021-06-01T19:05:33.280227Z",
     "shell.execute_reply.started": "2021-06-01T18:44:26.503336Z"
    },
    "papermill": {
     "duration": 0.205064,
     "end_time": "2021-06-01T19:05:33.280748",
     "exception": false,
     "start_time": "2021-06-01T19:05:33.075684",
     "status": "completed"
    },
    "tags": []
   },
   "outputs": [
    {
     "data": {
      "text/html": [
       "<div>\n",
       "<style scoped>\n",
       "    .dataframe tbody tr th:only-of-type {\n",
       "        vertical-align: middle;\n",
       "    }\n",
       "\n",
       "    .dataframe tbody tr th {\n",
       "        vertical-align: top;\n",
       "    }\n",
       "\n",
       "    .dataframe thead th {\n",
       "        text-align: right;\n",
       "    }\n",
       "</style>\n",
       "<table border=\"1\" class=\"dataframe\">\n",
       "  <thead>\n",
       "    <tr style=\"text-align: right;\">\n",
       "      <th></th>\n",
       "      <th>client_id</th>\n",
       "      <th>app_date</th>\n",
       "      <th>education</th>\n",
       "      <th>sex</th>\n",
       "      <th>age</th>\n",
       "      <th>car</th>\n",
       "      <th>car_type</th>\n",
       "      <th>decline_app_cnt</th>\n",
       "      <th>good_work</th>\n",
       "      <th>score_bki</th>\n",
       "      <th>...</th>\n",
       "      <th>home_address</th>\n",
       "      <th>work_address</th>\n",
       "      <th>income</th>\n",
       "      <th>sna</th>\n",
       "      <th>first_time</th>\n",
       "      <th>foreign_passport</th>\n",
       "      <th>default</th>\n",
       "      <th>app_age</th>\n",
       "      <th>car_and_brand</th>\n",
       "      <th>income_level</th>\n",
       "    </tr>\n",
       "  </thead>\n",
       "  <tbody>\n",
       "    <tr>\n",
       "      <th>0</th>\n",
       "      <td>25905</td>\n",
       "      <td>2014-02-01</td>\n",
       "      <td>SCH</td>\n",
       "      <td>1</td>\n",
       "      <td>4.143135</td>\n",
       "      <td>1</td>\n",
       "      <td>1</td>\n",
       "      <td>0.000000</td>\n",
       "      <td>0</td>\n",
       "      <td>-2.008753</td>\n",
       "      <td>...</td>\n",
       "      <td>1</td>\n",
       "      <td>2</td>\n",
       "      <td>9.798183</td>\n",
       "      <td>4</td>\n",
       "      <td>1</td>\n",
       "      <td>0</td>\n",
       "      <td>0</td>\n",
       "      <td>7.892826</td>\n",
       "      <td>2</td>\n",
       "      <td>0</td>\n",
       "    </tr>\n",
       "    <tr>\n",
       "      <th>1</th>\n",
       "      <td>63161</td>\n",
       "      <td>2014-03-12</td>\n",
       "      <td>SCH</td>\n",
       "      <td>0</td>\n",
       "      <td>4.094345</td>\n",
       "      <td>0</td>\n",
       "      <td>0</td>\n",
       "      <td>0.000000</td>\n",
       "      <td>0</td>\n",
       "      <td>-1.532276</td>\n",
       "      <td>...</td>\n",
       "      <td>2</td>\n",
       "      <td>3</td>\n",
       "      <td>9.852247</td>\n",
       "      <td>4</td>\n",
       "      <td>1</td>\n",
       "      <td>0</td>\n",
       "      <td>0</td>\n",
       "      <td>7.878155</td>\n",
       "      <td>0</td>\n",
       "      <td>0</td>\n",
       "    </tr>\n",
       "    <tr>\n",
       "      <th>2</th>\n",
       "      <td>25887</td>\n",
       "      <td>2014-02-01</td>\n",
       "      <td>SCH</td>\n",
       "      <td>1</td>\n",
       "      <td>3.258097</td>\n",
       "      <td>1</td>\n",
       "      <td>0</td>\n",
       "      <td>1.098612</td>\n",
       "      <td>0</td>\n",
       "      <td>-1.408142</td>\n",
       "      <td>...</td>\n",
       "      <td>1</td>\n",
       "      <td>2</td>\n",
       "      <td>10.308986</td>\n",
       "      <td>1</td>\n",
       "      <td>4</td>\n",
       "      <td>1</td>\n",
       "      <td>0</td>\n",
       "      <td>7.892826</td>\n",
       "      <td>1</td>\n",
       "      <td>0</td>\n",
       "    </tr>\n",
       "    <tr>\n",
       "      <th>3</th>\n",
       "      <td>16222</td>\n",
       "      <td>2014-01-23</td>\n",
       "      <td>SCH</td>\n",
       "      <td>0</td>\n",
       "      <td>3.988984</td>\n",
       "      <td>0</td>\n",
       "      <td>0</td>\n",
       "      <td>0.000000</td>\n",
       "      <td>0</td>\n",
       "      <td>-2.057471</td>\n",
       "      <td>...</td>\n",
       "      <td>2</td>\n",
       "      <td>3</td>\n",
       "      <td>9.210440</td>\n",
       "      <td>1</td>\n",
       "      <td>3</td>\n",
       "      <td>0</td>\n",
       "      <td>0</td>\n",
       "      <td>7.896181</td>\n",
       "      <td>0</td>\n",
       "      <td>0</td>\n",
       "    </tr>\n",
       "    <tr>\n",
       "      <th>4</th>\n",
       "      <td>101655</td>\n",
       "      <td>2014-04-18</td>\n",
       "      <td>GRD</td>\n",
       "      <td>1</td>\n",
       "      <td>3.891820</td>\n",
       "      <td>0</td>\n",
       "      <td>0</td>\n",
       "      <td>0.000000</td>\n",
       "      <td>1</td>\n",
       "      <td>-1.244723</td>\n",
       "      <td>...</td>\n",
       "      <td>2</td>\n",
       "      <td>3</td>\n",
       "      <td>10.308986</td>\n",
       "      <td>1</td>\n",
       "      <td>4</td>\n",
       "      <td>1</td>\n",
       "      <td>0</td>\n",
       "      <td>7.864036</td>\n",
       "      <td>0</td>\n",
       "      <td>0</td>\n",
       "    </tr>\n",
       "  </tbody>\n",
       "</table>\n",
       "<p>5 rows × 22 columns</p>\n",
       "</div>"
      ],
      "text/plain": [
       "   client_id   app_date education  sex       age  car  car_type  \\\n",
       "0      25905 2014-02-01       SCH    1  4.143135    1         1   \n",
       "1      63161 2014-03-12       SCH    0  4.094345    0         0   \n",
       "2      25887 2014-02-01       SCH    1  3.258097    1         0   \n",
       "3      16222 2014-01-23       SCH    0  3.988984    0         0   \n",
       "4     101655 2014-04-18       GRD    1  3.891820    0         0   \n",
       "\n",
       "   decline_app_cnt  good_work  score_bki  ...  home_address  work_address  \\\n",
       "0         0.000000          0  -2.008753  ...             1             2   \n",
       "1         0.000000          0  -1.532276  ...             2             3   \n",
       "2         1.098612          0  -1.408142  ...             1             2   \n",
       "3         0.000000          0  -2.057471  ...             2             3   \n",
       "4         0.000000          1  -1.244723  ...             2             3   \n",
       "\n",
       "      income  sna  first_time  foreign_passport  default   app_age  \\\n",
       "0   9.798183    4           1                 0        0  7.892826   \n",
       "1   9.852247    4           1                 0        0  7.878155   \n",
       "2  10.308986    1           4                 1        0  7.892826   \n",
       "3   9.210440    1           3                 0        0  7.896181   \n",
       "4  10.308986    1           4                 1        0  7.864036   \n",
       "\n",
       "   car_and_brand  income_level  \n",
       "0              2             0  \n",
       "1              0             0  \n",
       "2              1             0  \n",
       "3              0             0  \n",
       "4              0             0  \n",
       "\n",
       "[5 rows x 22 columns]"
      ]
     },
     "execution_count": 74,
     "metadata": {},
     "output_type": "execute_result"
    }
   ],
   "source": [
    "df.head()"
   ]
  },
  {
   "cell_type": "markdown",
   "metadata": {
    "papermill": {
     "duration": 0.204215,
     "end_time": "2021-06-01T19:05:33.652185",
     "exception": false,
     "start_time": "2021-06-01T19:05:33.447970",
     "status": "completed"
    },
    "tags": []
   },
   "source": [
    "Посмотрим значимость бинарных признаков нашей выборки:"
   ]
  },
  {
   "cell_type": "code",
   "execution_count": 75,
   "metadata": {
    "execution": {
     "iopub.execute_input": "2021-06-01T19:05:33.996908Z",
     "iopub.status.busy": "2021-06-01T19:05:33.996364Z",
     "iopub.status.idle": "2021-06-01T19:05:34.187129Z",
     "shell.execute_reply": "2021-06-01T19:05:34.186461Z",
     "shell.execute_reply.started": "2021-06-01T18:44:26.535640Z"
    },
    "papermill": {
     "duration": 0.366835,
     "end_time": "2021-06-01T19:05:34.187261",
     "exception": false,
     "start_time": "2021-06-01T19:05:33.820426",
     "status": "completed"
    },
    "tags": []
   },
   "outputs": [
    {
     "data": {
      "text/plain": [
       "Text(0.5, 1.0, 'Значимость бинарных признаков')"
      ]
     },
     "execution_count": 75,
     "metadata": {},
     "output_type": "execute_result"
    },
    {
     "data": {
      "image/png": "[encoded data removed]",
      "text/plain": [
       "<Figure size 432x288 with 1 Axes>"
      ]
     },
     "metadata": {
      "needs_background": "light"
     },
     "output_type": "display_data"
    }
   ],
   "source": [
    "imp_bin = pd.Series(mutual_info_classif(df[bin_cols], df['default'],\n",
    "                                        discrete_features=True), index=bin_cols)\n",
    "imp_bin.sort_values(inplace=True)\n",
    "imp_bin.plot(kind='barh')\n",
    "plt.title('Значимость бинарных признаков')"
   ]
  },
  {
   "cell_type": "markdown",
   "metadata": {
    "papermill": {
     "duration": 0.257848,
     "end_time": "2021-06-01T19:05:34.703524",
     "exception": false,
     "start_time": "2021-06-01T19:05:34.445676",
     "status": "completed"
    },
    "tags": []
   },
   "source": [
    "Как видно из графика, наиболее влиятельными являются наличие иностранного паспорта и уровень дохода. Пол является наименее значимым из всех выделенных признаков."
   ]
  },
  {
   "cell_type": "markdown",
   "metadata": {
    "papermill": {
     "duration": 0.259204,
     "end_time": "2021-06-01T19:05:35.222515",
     "exception": false,
     "start_time": "2021-06-01T19:05:34.963311",
     "status": "completed"
    },
    "tags": []
   },
   "source": [
    "## 3.3. Категориальные столбцы"
   ]
  },
  {
   "cell_type": "markdown",
   "metadata": {
    "papermill": {
     "duration": 0.254067,
     "end_time": "2021-06-01T19:05:35.729698",
     "exception": false,
     "start_time": "2021-06-01T19:05:35.475631",
     "status": "completed"
    },
    "tags": []
   },
   "source": [
    "Для этих столбцов мы применим OneHotEncoding, но для начала проверим, какие столбцы у нас отнесены к категориальным:"
   ]
  },
  {
   "cell_type": "code",
   "execution_count": 76,
   "metadata": {
    "execution": {
     "iopub.execute_input": "2021-06-01T19:05:36.241477Z",
     "iopub.status.busy": "2021-06-01T19:05:36.240978Z",
     "iopub.status.idle": "2021-06-01T19:05:36.245758Z",
     "shell.execute_reply": "2021-06-01T19:05:36.245274Z",
     "shell.execute_reply.started": "2021-06-01T18:44:26.703818Z"
    },
    "papermill": {
     "duration": 0.26364,
     "end_time": "2021-06-01T19:05:36.245893",
     "exception": false,
     "start_time": "2021-06-01T19:05:35.982253",
     "status": "completed"
    },
    "tags": []
   },
   "outputs": [
    {
     "data": {
      "text/plain": [
       "['education',\n",
       " 'home_address',\n",
       " 'work_address',\n",
       " 'sna',\n",
       " 'first_time',\n",
       " 'car_and_brand']"
      ]
     },
     "metadata": {},
     "output_type": "display_data"
    }
   ],
   "source": [
    "display(cat_cols)"
   ]
  },
  {
   "cell_type": "markdown",
   "metadata": {
    "papermill": {
     "duration": 0.171781,
     "end_time": "2021-06-01T19:05:36.586727",
     "exception": false,
     "start_time": "2021-06-01T19:05:36.414946",
     "status": "completed"
    },
    "tags": []
   },
   "source": [
    "Для того,чтобы посмотреть значимость категориальных признаков, необходимо отразить столбец education при помощи dummie-переменных:"
   ]
  },
  {
   "cell_type": "code",
   "execution_count": 77,
   "metadata": {
    "execution": {
     "iopub.execute_input": "2021-06-01T19:05:36.943236Z",
     "iopub.status.busy": "2021-06-01T19:05:36.942713Z",
     "iopub.status.idle": "2021-06-01T19:05:36.955217Z",
     "shell.execute_reply": "2021-06-01T19:05:36.955654Z",
     "shell.execute_reply.started": "2021-06-01T18:44:26.708846Z"
    },
    "papermill": {
     "duration": 0.194544,
     "end_time": "2021-06-01T19:05:36.955798",
     "exception": false,
     "start_time": "2021-06-01T19:05:36.761254",
     "status": "completed"
    },
    "tags": []
   },
   "outputs": [
    {
     "data": {
      "text/html": [
       "<div>\n",
       "<style scoped>\n",
       "    .dataframe tbody tr th:only-of-type {\n",
       "        vertical-align: middle;\n",
       "    }\n",
       "\n",
       "    .dataframe tbody tr th {\n",
       "        vertical-align: top;\n",
       "    }\n",
       "\n",
       "    .dataframe thead th {\n",
       "        text-align: right;\n",
       "    }\n",
       "</style>\n",
       "<table border=\"1\" class=\"dataframe\">\n",
       "  <thead>\n",
       "    <tr style=\"text-align: right;\">\n",
       "      <th></th>\n",
       "      <th>ACD</th>\n",
       "      <th>GRD</th>\n",
       "      <th>PGR</th>\n",
       "      <th>SCH</th>\n",
       "      <th>UGR</th>\n",
       "    </tr>\n",
       "  </thead>\n",
       "  <tbody>\n",
       "    <tr>\n",
       "      <th>0</th>\n",
       "      <td>0</td>\n",
       "      <td>0</td>\n",
       "      <td>0</td>\n",
       "      <td>1</td>\n",
       "      <td>0</td>\n",
       "    </tr>\n",
       "    <tr>\n",
       "      <th>1</th>\n",
       "      <td>0</td>\n",
       "      <td>0</td>\n",
       "      <td>0</td>\n",
       "      <td>1</td>\n",
       "      <td>0</td>\n",
       "    </tr>\n",
       "    <tr>\n",
       "      <th>2</th>\n",
       "      <td>0</td>\n",
       "      <td>0</td>\n",
       "      <td>0</td>\n",
       "      <td>1</td>\n",
       "      <td>0</td>\n",
       "    </tr>\n",
       "    <tr>\n",
       "      <th>3</th>\n",
       "      <td>0</td>\n",
       "      <td>0</td>\n",
       "      <td>0</td>\n",
       "      <td>1</td>\n",
       "      <td>0</td>\n",
       "    </tr>\n",
       "    <tr>\n",
       "      <th>4</th>\n",
       "      <td>0</td>\n",
       "      <td>1</td>\n",
       "      <td>0</td>\n",
       "      <td>0</td>\n",
       "      <td>0</td>\n",
       "    </tr>\n",
       "  </tbody>\n",
       "</table>\n",
       "</div>"
      ],
      "text/plain": [
       "   ACD  GRD  PGR  SCH  UGR\n",
       "0    0    0    0    1    0\n",
       "1    0    0    0    1    0\n",
       "2    0    0    0    1    0\n",
       "3    0    0    0    1    0\n",
       "4    0    1    0    0    0"
      ]
     },
     "execution_count": 77,
     "metadata": {},
     "output_type": "execute_result"
    }
   ],
   "source": [
    "dummies_edu = pd.get_dummies(df['education'])\n",
    "dummies_edu.head()"
   ]
  },
  {
   "cell_type": "markdown",
   "metadata": {
    "papermill": {
     "duration": 0.169338,
     "end_time": "2021-06-01T19:05:37.297108",
     "exception": false,
     "start_time": "2021-06-01T19:05:37.127770",
     "status": "completed"
    },
    "tags": []
   },
   "source": [
    "Теперь посмотрим на значимость этих переменных:"
   ]
  },
  {
   "cell_type": "code",
   "execution_count": 78,
   "metadata": {
    "execution": {
     "iopub.execute_input": "2021-06-01T19:05:37.636623Z",
     "iopub.status.busy": "2021-06-01T19:05:37.635968Z",
     "iopub.status.idle": "2021-06-01T19:05:37.934989Z",
     "shell.execute_reply": "2021-06-01T19:05:37.935352Z",
     "shell.execute_reply.started": "2021-06-01T18:44:26.731886Z"
    },
    "papermill": {
     "duration": 0.471078,
     "end_time": "2021-06-01T19:05:37.935488",
     "exception": false,
     "start_time": "2021-06-01T19:05:37.464410",
     "status": "completed"
    },
    "tags": []
   },
   "outputs": [
    {
     "data": {
      "text/plain": [
       "Text(0.5, 1.0, 'Значимость категориальных признаков')"
      ]
     },
     "execution_count": 78,
     "metadata": {},
     "output_type": "execute_result"
    },
    {
     "data": {
      "image/png": "[encoded data removed]",
      "text/plain": [
       "<Figure size 432x288 with 1 Axes>"
      ]
     },
     "metadata": {
      "needs_background": "light"
     },
     "output_type": "display_data"
    }
   ],
   "source": [
    "# Создаем новый перечень категориальных признаков для проверки\n",
    "cat_cols_for_check = ['home_address', 'work_address',\n",
    "                      'sna', 'first_time', 'car_and_brand']\n",
    "# соединяем в одно целое преобразованный столбец education и столбец с новыми признаками\n",
    "imp_cat = pd.Series(mutual_info_classif(pd.concat([df[cat_cols_for_check], dummies_edu], axis=1),\n",
    "                                        df['default'], discrete_features=True),\n",
    "                    # в качестве индексов берем названия столбцов\n",
    "                    index=pd.concat([df[cat_cols_for_check], dummies_edu], axis=1).columns)\n",
    "imp_cat.sort_values(inplace=True)\n",
    "imp_cat.plot(kind='barh')\n",
    "plt.title('Значимость категориальных признаков')"
   ]
  },
  {
   "cell_type": "markdown",
   "metadata": {
    "papermill": {
     "duration": 0.177719,
     "end_time": "2021-06-01T19:05:38.287968",
     "exception": false,
     "start_time": "2021-06-01T19:05:38.110249",
     "status": "completed"
    },
    "tags": []
   },
   "source": [
    "На графике видно, что большую роль играет то, как связан заемщик с клиентами банка и информация о самом заемщике (первый раз он обращается или нет). Также мы можем увидеть, что из столбца education наибольшую роль играют два типа образования:SCH и GRD. Теперь преобразуем категориальные признаки при помощи OneHotEncoding:"
   ]
  },
  {
   "cell_type": "code",
   "execution_count": 79,
   "metadata": {
    "execution": {
     "iopub.execute_input": "2021-06-01T19:05:38.636626Z",
     "iopub.status.busy": "2021-06-01T19:05:38.635968Z",
     "iopub.status.idle": "2021-06-01T19:05:39.007347Z",
     "shell.execute_reply": "2021-06-01T19:05:39.005782Z",
     "shell.execute_reply.started": "2021-06-01T18:44:27.004853Z"
    },
    "papermill": {
     "duration": 0.549493,
     "end_time": "2021-06-01T19:05:39.007620",
     "exception": false,
     "start_time": "2021-06-01T19:05:38.458127",
     "status": "completed"
    },
    "tags": []
   },
   "outputs": [
    {
     "name": "stdout",
     "output_type": "stream",
     "text": [
      "(73799, 22)\n",
      "(36349, 22)\n"
     ]
    }
   ],
   "source": [
    "# преобразуем наши категориальные признаки при помощи OneHotEncoding\n",
    "# для обучающей и тестовой выборок\n",
    "df_cat = OneHotEncoder(sparse=False).fit_transform(df[cat_cols].values)\n",
    "test_df_cat = OneHotEncoder(sparse=False).fit_transform(\n",
    "    test_df[cat_cols].values)\n",
    "# выведем результат\n",
    "print(df_cat.shape)\n",
    "print(test_df_cat.shape)"
   ]
  },
  {
   "cell_type": "markdown",
   "metadata": {
    "papermill": {
     "duration": 0.178781,
     "end_time": "2021-06-01T19:05:39.366854",
     "exception": false,
     "start_time": "2021-06-01T19:05:39.188073",
     "status": "completed"
    },
    "tags": []
   },
   "source": [
    "Посмотрим на наши дата-фреймы:"
   ]
  },
  {
   "cell_type": "code",
   "execution_count": 80,
   "metadata": {
    "execution": {
     "iopub.execute_input": "2021-06-01T19:05:39.727138Z",
     "iopub.status.busy": "2021-06-01T19:05:39.715633Z",
     "iopub.status.idle": "2021-06-01T19:05:39.738996Z",
     "shell.execute_reply": "2021-06-01T19:05:39.739470Z",
     "shell.execute_reply.started": "2021-06-01T18:44:27.196434Z"
    },
    "papermill": {
     "duration": 0.203916,
     "end_time": "2021-06-01T19:05:39.739635",
     "exception": false,
     "start_time": "2021-06-01T19:05:39.535719",
     "status": "completed"
    },
    "tags": []
   },
   "outputs": [
    {
     "data": {
      "text/html": [
       "<div>\n",
       "<style scoped>\n",
       "    .dataframe tbody tr th:only-of-type {\n",
       "        vertical-align: middle;\n",
       "    }\n",
       "\n",
       "    .dataframe tbody tr th {\n",
       "        vertical-align: top;\n",
       "    }\n",
       "\n",
       "    .dataframe thead th {\n",
       "        text-align: right;\n",
       "    }\n",
       "</style>\n",
       "<table border=\"1\" class=\"dataframe\">\n",
       "  <thead>\n",
       "    <tr style=\"text-align: right;\">\n",
       "      <th></th>\n",
       "      <th>client_id</th>\n",
       "      <th>app_date</th>\n",
       "      <th>education</th>\n",
       "      <th>sex</th>\n",
       "      <th>age</th>\n",
       "      <th>car</th>\n",
       "      <th>car_type</th>\n",
       "      <th>decline_app_cnt</th>\n",
       "      <th>good_work</th>\n",
       "      <th>score_bki</th>\n",
       "      <th>...</th>\n",
       "      <th>home_address</th>\n",
       "      <th>work_address</th>\n",
       "      <th>income</th>\n",
       "      <th>sna</th>\n",
       "      <th>first_time</th>\n",
       "      <th>foreign_passport</th>\n",
       "      <th>default</th>\n",
       "      <th>app_age</th>\n",
       "      <th>car_and_brand</th>\n",
       "      <th>income_level</th>\n",
       "    </tr>\n",
       "  </thead>\n",
       "  <tbody>\n",
       "    <tr>\n",
       "      <th>0</th>\n",
       "      <td>25905</td>\n",
       "      <td>2014-02-01</td>\n",
       "      <td>SCH</td>\n",
       "      <td>1</td>\n",
       "      <td>4.143135</td>\n",
       "      <td>1</td>\n",
       "      <td>1</td>\n",
       "      <td>0.000000</td>\n",
       "      <td>0</td>\n",
       "      <td>-2.008753</td>\n",
       "      <td>...</td>\n",
       "      <td>1</td>\n",
       "      <td>2</td>\n",
       "      <td>9.798183</td>\n",
       "      <td>4</td>\n",
       "      <td>1</td>\n",
       "      <td>0</td>\n",
       "      <td>0</td>\n",
       "      <td>7.892826</td>\n",
       "      <td>2</td>\n",
       "      <td>0</td>\n",
       "    </tr>\n",
       "    <tr>\n",
       "      <th>1</th>\n",
       "      <td>63161</td>\n",
       "      <td>2014-03-12</td>\n",
       "      <td>SCH</td>\n",
       "      <td>0</td>\n",
       "      <td>4.094345</td>\n",
       "      <td>0</td>\n",
       "      <td>0</td>\n",
       "      <td>0.000000</td>\n",
       "      <td>0</td>\n",
       "      <td>-1.532276</td>\n",
       "      <td>...</td>\n",
       "      <td>2</td>\n",
       "      <td>3</td>\n",
       "      <td>9.852247</td>\n",
       "      <td>4</td>\n",
       "      <td>1</td>\n",
       "      <td>0</td>\n",
       "      <td>0</td>\n",
       "      <td>7.878155</td>\n",
       "      <td>0</td>\n",
       "      <td>0</td>\n",
       "    </tr>\n",
       "    <tr>\n",
       "      <th>2</th>\n",
       "      <td>25887</td>\n",
       "      <td>2014-02-01</td>\n",
       "      <td>SCH</td>\n",
       "      <td>1</td>\n",
       "      <td>3.258097</td>\n",
       "      <td>1</td>\n",
       "      <td>0</td>\n",
       "      <td>1.098612</td>\n",
       "      <td>0</td>\n",
       "      <td>-1.408142</td>\n",
       "      <td>...</td>\n",
       "      <td>1</td>\n",
       "      <td>2</td>\n",
       "      <td>10.308986</td>\n",
       "      <td>1</td>\n",
       "      <td>4</td>\n",
       "      <td>1</td>\n",
       "      <td>0</td>\n",
       "      <td>7.892826</td>\n",
       "      <td>1</td>\n",
       "      <td>0</td>\n",
       "    </tr>\n",
       "    <tr>\n",
       "      <th>3</th>\n",
       "      <td>16222</td>\n",
       "      <td>2014-01-23</td>\n",
       "      <td>SCH</td>\n",
       "      <td>0</td>\n",
       "      <td>3.988984</td>\n",
       "      <td>0</td>\n",
       "      <td>0</td>\n",
       "      <td>0.000000</td>\n",
       "      <td>0</td>\n",
       "      <td>-2.057471</td>\n",
       "      <td>...</td>\n",
       "      <td>2</td>\n",
       "      <td>3</td>\n",
       "      <td>9.210440</td>\n",
       "      <td>1</td>\n",
       "      <td>3</td>\n",
       "      <td>0</td>\n",
       "      <td>0</td>\n",
       "      <td>7.896181</td>\n",
       "      <td>0</td>\n",
       "      <td>0</td>\n",
       "    </tr>\n",
       "    <tr>\n",
       "      <th>4</th>\n",
       "      <td>101655</td>\n",
       "      <td>2014-04-18</td>\n",
       "      <td>GRD</td>\n",
       "      <td>1</td>\n",
       "      <td>3.891820</td>\n",
       "      <td>0</td>\n",
       "      <td>0</td>\n",
       "      <td>0.000000</td>\n",
       "      <td>1</td>\n",
       "      <td>-1.244723</td>\n",
       "      <td>...</td>\n",
       "      <td>2</td>\n",
       "      <td>3</td>\n",
       "      <td>10.308986</td>\n",
       "      <td>1</td>\n",
       "      <td>4</td>\n",
       "      <td>1</td>\n",
       "      <td>0</td>\n",
       "      <td>7.864036</td>\n",
       "      <td>0</td>\n",
       "      <td>0</td>\n",
       "    </tr>\n",
       "  </tbody>\n",
       "</table>\n",
       "<p>5 rows × 22 columns</p>\n",
       "</div>"
      ],
      "text/plain": [
       "   client_id   app_date education  sex       age  car  car_type  \\\n",
       "0      25905 2014-02-01       SCH    1  4.143135    1         1   \n",
       "1      63161 2014-03-12       SCH    0  4.094345    0         0   \n",
       "2      25887 2014-02-01       SCH    1  3.258097    1         0   \n",
       "3      16222 2014-01-23       SCH    0  3.988984    0         0   \n",
       "4     101655 2014-04-18       GRD    1  3.891820    0         0   \n",
       "\n",
       "   decline_app_cnt  good_work  score_bki  ...  home_address  work_address  \\\n",
       "0         0.000000          0  -2.008753  ...             1             2   \n",
       "1         0.000000          0  -1.532276  ...             2             3   \n",
       "2         1.098612          0  -1.408142  ...             1             2   \n",
       "3         0.000000          0  -2.057471  ...             2             3   \n",
       "4         0.000000          1  -1.244723  ...             2             3   \n",
       "\n",
       "      income  sna  first_time  foreign_passport  default   app_age  \\\n",
       "0   9.798183    4           1                 0        0  7.892826   \n",
       "1   9.852247    4           1                 0        0  7.878155   \n",
       "2  10.308986    1           4                 1        0  7.892826   \n",
       "3   9.210440    1           3                 0        0  7.896181   \n",
       "4  10.308986    1           4                 1        0  7.864036   \n",
       "\n",
       "   car_and_brand  income_level  \n",
       "0              2             0  \n",
       "1              0             0  \n",
       "2              1             0  \n",
       "3              0             0  \n",
       "4              0             0  \n",
       "\n",
       "[5 rows x 22 columns]"
      ]
     },
     "execution_count": 80,
     "metadata": {},
     "output_type": "execute_result"
    }
   ],
   "source": [
    "df.head()"
   ]
  },
  {
   "cell_type": "code",
   "execution_count": 81,
   "metadata": {
    "execution": {
     "iopub.execute_input": "2021-06-01T19:05:40.259134Z",
     "iopub.status.busy": "2021-06-01T19:05:40.258633Z",
     "iopub.status.idle": "2021-06-01T19:05:40.281723Z",
     "shell.execute_reply": "2021-06-01T19:05:40.281193Z",
     "shell.execute_reply.started": "2021-06-01T18:44:27.221513Z"
    },
    "papermill": {
     "duration": 0.284852,
     "end_time": "2021-06-01T19:05:40.281879",
     "exception": false,
     "start_time": "2021-06-01T19:05:39.997027",
     "status": "completed"
    },
    "tags": []
   },
   "outputs": [
    {
     "data": {
      "text/html": [
       "<div>\n",
       "<style scoped>\n",
       "    .dataframe tbody tr th:only-of-type {\n",
       "        vertical-align: middle;\n",
       "    }\n",
       "\n",
       "    .dataframe tbody tr th {\n",
       "        vertical-align: top;\n",
       "    }\n",
       "\n",
       "    .dataframe thead th {\n",
       "        text-align: right;\n",
       "    }\n",
       "</style>\n",
       "<table border=\"1\" class=\"dataframe\">\n",
       "  <thead>\n",
       "    <tr style=\"text-align: right;\">\n",
       "      <th></th>\n",
       "      <th>client_id</th>\n",
       "      <th>app_date</th>\n",
       "      <th>education</th>\n",
       "      <th>sex</th>\n",
       "      <th>age</th>\n",
       "      <th>car</th>\n",
       "      <th>car_type</th>\n",
       "      <th>decline_app_cnt</th>\n",
       "      <th>good_work</th>\n",
       "      <th>score_bki</th>\n",
       "      <th>...</th>\n",
       "      <th>region_rating</th>\n",
       "      <th>home_address</th>\n",
       "      <th>work_address</th>\n",
       "      <th>income</th>\n",
       "      <th>sna</th>\n",
       "      <th>first_time</th>\n",
       "      <th>foreign_passport</th>\n",
       "      <th>app_age</th>\n",
       "      <th>car_and_brand</th>\n",
       "      <th>income_level</th>\n",
       "    </tr>\n",
       "  </thead>\n",
       "  <tbody>\n",
       "    <tr>\n",
       "      <th>0</th>\n",
       "      <td>74835</td>\n",
       "      <td>2014-03-22</td>\n",
       "      <td>GRD</td>\n",
       "      <td>1</td>\n",
       "      <td>3.401197</td>\n",
       "      <td>1</td>\n",
       "      <td>1</td>\n",
       "      <td>0.000000</td>\n",
       "      <td>0</td>\n",
       "      <td>-2.271884</td>\n",
       "      <td>...</td>\n",
       "      <td>50</td>\n",
       "      <td>1</td>\n",
       "      <td>2</td>\n",
       "      <td>10.819798</td>\n",
       "      <td>1</td>\n",
       "      <td>4</td>\n",
       "      <td>0</td>\n",
       "      <td>7.874359</td>\n",
       "      <td>2</td>\n",
       "      <td>1</td>\n",
       "    </tr>\n",
       "    <tr>\n",
       "      <th>1</th>\n",
       "      <td>17527</td>\n",
       "      <td>2014-01-24</td>\n",
       "      <td>SCH</td>\n",
       "      <td>0</td>\n",
       "      <td>3.688879</td>\n",
       "      <td>0</td>\n",
       "      <td>0</td>\n",
       "      <td>1.791759</td>\n",
       "      <td>0</td>\n",
       "      <td>-1.504999</td>\n",
       "      <td>...</td>\n",
       "      <td>50</td>\n",
       "      <td>1</td>\n",
       "      <td>2</td>\n",
       "      <td>8.517393</td>\n",
       "      <td>4</td>\n",
       "      <td>3</td>\n",
       "      <td>0</td>\n",
       "      <td>7.895808</td>\n",
       "      <td>0</td>\n",
       "      <td>0</td>\n",
       "    </tr>\n",
       "    <tr>\n",
       "      <th>2</th>\n",
       "      <td>75683</td>\n",
       "      <td>2014-03-23</td>\n",
       "      <td>UGR</td>\n",
       "      <td>1</td>\n",
       "      <td>3.931826</td>\n",
       "      <td>1</td>\n",
       "      <td>1</td>\n",
       "      <td>0.000000</td>\n",
       "      <td>0</td>\n",
       "      <td>-1.691339</td>\n",
       "      <td>...</td>\n",
       "      <td>50</td>\n",
       "      <td>1</td>\n",
       "      <td>2</td>\n",
       "      <td>10.308986</td>\n",
       "      <td>1</td>\n",
       "      <td>3</td>\n",
       "      <td>1</td>\n",
       "      <td>7.873978</td>\n",
       "      <td>2</td>\n",
       "      <td>0</td>\n",
       "    </tr>\n",
       "    <tr>\n",
       "      <th>3</th>\n",
       "      <td>26883</td>\n",
       "      <td>2014-02-03</td>\n",
       "      <td>SCH</td>\n",
       "      <td>1</td>\n",
       "      <td>4.043051</td>\n",
       "      <td>0</td>\n",
       "      <td>0</td>\n",
       "      <td>0.000000</td>\n",
       "      <td>0</td>\n",
       "      <td>-2.374182</td>\n",
       "      <td>...</td>\n",
       "      <td>40</td>\n",
       "      <td>1</td>\n",
       "      <td>2</td>\n",
       "      <td>9.741027</td>\n",
       "      <td>1</td>\n",
       "      <td>3</td>\n",
       "      <td>0</td>\n",
       "      <td>7.892078</td>\n",
       "      <td>0</td>\n",
       "      <td>0</td>\n",
       "    </tr>\n",
       "    <tr>\n",
       "      <th>4</th>\n",
       "      <td>28862</td>\n",
       "      <td>2014-02-04</td>\n",
       "      <td>GRD</td>\n",
       "      <td>0</td>\n",
       "      <td>3.663562</td>\n",
       "      <td>0</td>\n",
       "      <td>0</td>\n",
       "      <td>0.000000</td>\n",
       "      <td>0</td>\n",
       "      <td>-2.487502</td>\n",
       "      <td>...</td>\n",
       "      <td>80</td>\n",
       "      <td>2</td>\n",
       "      <td>3</td>\n",
       "      <td>11.695255</td>\n",
       "      <td>1</td>\n",
       "      <td>3</td>\n",
       "      <td>0</td>\n",
       "      <td>7.891705</td>\n",
       "      <td>0</td>\n",
       "      <td>1</td>\n",
       "    </tr>\n",
       "  </tbody>\n",
       "</table>\n",
       "<p>5 rows × 21 columns</p>\n",
       "</div>"
      ],
      "text/plain": [
       "   client_id   app_date education  sex       age  car  car_type  \\\n",
       "0      74835 2014-03-22       GRD    1  3.401197    1         1   \n",
       "1      17527 2014-01-24       SCH    0  3.688879    0         0   \n",
       "2      75683 2014-03-23       UGR    1  3.931826    1         1   \n",
       "3      26883 2014-02-03       SCH    1  4.043051    0         0   \n",
       "4      28862 2014-02-04       GRD    0  3.663562    0         0   \n",
       "\n",
       "   decline_app_cnt  good_work  score_bki  ...  region_rating  home_address  \\\n",
       "0         0.000000          0  -2.271884  ...             50             1   \n",
       "1         1.791759          0  -1.504999  ...             50             1   \n",
       "2         0.000000          0  -1.691339  ...             50             1   \n",
       "3         0.000000          0  -2.374182  ...             40             1   \n",
       "4         0.000000          0  -2.487502  ...             80             2   \n",
       "\n",
       "   work_address     income  sna  first_time  foreign_passport   app_age  \\\n",
       "0             2  10.819798    1           4                 0  7.874359   \n",
       "1             2   8.517393    4           3                 0  7.895808   \n",
       "2             2  10.308986    1           3                 1  7.873978   \n",
       "3             2   9.741027    1           3                 0  7.892078   \n",
       "4             3  11.695255    1           3                 0  7.891705   \n",
       "\n",
       "   car_and_brand  income_level  \n",
       "0              2             1  \n",
       "1              0             0  \n",
       "2              2             0  \n",
       "3              0             0  \n",
       "4              0             1  \n",
       "\n",
       "[5 rows x 21 columns]"
      ]
     },
     "execution_count": 81,
     "metadata": {},
     "output_type": "execute_result"
    }
   ],
   "source": [
    "test_df.head()"
   ]
  },
  {
   "cell_type": "markdown",
   "metadata": {
    "execution": {
     "iopub.execute_input": "2021-05-31T22:45:34.188979Z",
     "iopub.status.busy": "2021-05-31T22:45:34.188289Z",
     "iopub.status.idle": "2021-05-31T22:45:34.219607Z",
     "shell.execute_reply": "2021-05-31T22:45:34.218249Z",
     "shell.execute_reply.started": "2021-05-31T22:45:34.188926Z"
    },
    "papermill": {
     "duration": 0.198862,
     "end_time": "2021-06-01T19:05:40.739717",
     "exception": false,
     "start_time": "2021-06-01T19:05:40.540855",
     "status": "completed"
    },
    "tags": []
   },
   "source": [
    "Оба фрейма одинаковые, за исключением искомого столбца default. Теперь приступим к созданию и обучению модели."
   ]
  },
  {
   "cell_type": "markdown",
   "metadata": {
    "papermill": {
     "duration": 0.171496,
     "end_time": "2021-06-01T19:05:41.083895",
     "exception": false,
     "start_time": "2021-06-01T19:05:40.912399",
     "status": "completed"
    },
    "tags": []
   },
   "source": [
    "# 4. Machine Learning"
   ]
  },
  {
   "cell_type": "markdown",
   "metadata": {
    "papermill": {
     "duration": 0.168712,
     "end_time": "2021-06-01T19:05:41.428794",
     "exception": false,
     "start_time": "2021-06-01T19:05:41.260082",
     "status": "completed"
    },
    "tags": []
   },
   "source": [
    "Далее будет проходить подготовка данных для обучения модели и непосредственно само обучение. Основной идеей является попытка рассмотреть несколько различных вариантов модели:\n",
    "* обычная, на основе сформированных выше признаков\n",
    "* нормализованная, на основе сформированных выше признаков\n",
    "* нормализованная, с полиномиальными признаками\n",
    "* нормализованная, с полиномиальными признаками и регуляризацией"
   ]
  },
  {
   "cell_type": "markdown",
   "metadata": {
    "papermill": {
     "duration": 0.173286,
     "end_time": "2021-06-01T19:05:41.770466",
     "exception": false,
     "start_time": "2021-06-01T19:05:41.597180",
     "status": "completed"
    },
    "tags": []
   },
   "source": [
    "## 4.1. Подготовка данных"
   ]
  },
  {
   "cell_type": "markdown",
   "metadata": {
    "papermill": {
     "duration": 0.17197,
     "end_time": "2021-06-01T19:05:42.114007",
     "exception": false,
     "start_time": "2021-06-01T19:05:41.942037",
     "status": "completed"
    },
    "tags": []
   },
   "source": [
    "### 4.1.1. Обычная модель"
   ]
  },
  {
   "cell_type": "markdown",
   "metadata": {
    "papermill": {
     "duration": 0.171767,
     "end_time": "2021-06-01T19:05:42.459262",
     "exception": false,
     "start_time": "2021-06-01T19:05:42.287495",
     "status": "completed"
    },
    "tags": []
   },
   "source": [
    "Объединим данные в одно пространство признаков и выделим target:"
   ]
  },
  {
   "cell_type": "code",
   "execution_count": 82,
   "metadata": {
    "execution": {
     "iopub.execute_input": "2021-06-01T19:05:42.804371Z",
     "iopub.status.busy": "2021-06-01T19:05:42.803827Z",
     "iopub.status.idle": "2021-06-01T19:05:42.818167Z",
     "shell.execute_reply": "2021-06-01T19:05:42.818693Z",
     "shell.execute_reply.started": "2021-06-01T18:44:27.251282Z"
    },
    "papermill": {
     "duration": 0.188244,
     "end_time": "2021-06-01T19:05:42.818891",
     "exception": false,
     "start_time": "2021-06-01T19:05:42.630647",
     "status": "completed"
    },
    "tags": []
   },
   "outputs": [],
   "source": [
    "X_casual = np.hstack([df[num_cols].values, df[bin_cols].values, df_cat])\n",
    "Y = df['default'].values"
   ]
  },
  {
   "cell_type": "markdown",
   "metadata": {
    "papermill": {
     "duration": 0.251648,
     "end_time": "2021-06-01T19:05:43.332781",
     "exception": false,
     "start_time": "2021-06-01T19:05:43.081133",
     "status": "completed"
    },
    "tags": []
   },
   "source": [
    "**Примечание**: Y мы объявим 1 раз, так как со значениями default мы не проводим никаких манипуляций"
   ]
  },
  {
   "cell_type": "markdown",
   "metadata": {
    "papermill": {
     "duration": 0.246644,
     "end_time": "2021-06-01T19:05:43.822702",
     "exception": false,
     "start_time": "2021-06-01T19:05:43.576058",
     "status": "completed"
    },
    "tags": []
   },
   "source": [
    "### 4.1.2. Нормализованная модель"
   ]
  },
  {
   "cell_type": "markdown",
   "metadata": {
    "papermill": {
     "duration": 0.256733,
     "end_time": "2021-06-01T19:05:44.337387",
     "exception": false,
     "start_time": "2021-06-01T19:05:44.080654",
     "status": "completed"
    },
    "tags": []
   },
   "source": [
    "Проведем нормализацию числовых признаков при помощи StandardScaler():"
   ]
  },
  {
   "cell_type": "code",
   "execution_count": 83,
   "metadata": {
    "execution": {
     "iopub.execute_input": "2021-06-01T19:05:44.860089Z",
     "iopub.status.busy": "2021-06-01T19:05:44.859368Z",
     "iopub.status.idle": "2021-06-01T19:05:44.868318Z",
     "shell.execute_reply": "2021-06-01T19:05:44.867713Z",
     "shell.execute_reply.started": "2021-06-01T18:44:27.308496Z"
    },
    "papermill": {
     "duration": 0.272478,
     "end_time": "2021-06-01T19:05:44.868456",
     "exception": false,
     "start_time": "2021-06-01T19:05:44.595978",
     "status": "completed"
    },
    "tags": []
   },
   "outputs": [],
   "source": [
    "scaler = StandardScaler()\n",
    "num_norm = scaler.fit_transform(df[num_cols].values)"
   ]
  },
  {
   "cell_type": "markdown",
   "metadata": {
    "papermill": {
     "duration": 0.264645,
     "end_time": "2021-06-01T19:05:45.393730",
     "exception": false,
     "start_time": "2021-06-01T19:05:45.129085",
     "status": "completed"
    },
    "tags": []
   },
   "source": [
    "Теперь, как и выше, объединим воедино все признаки:"
   ]
  },
  {
   "cell_type": "code",
   "execution_count": 84,
   "metadata": {
    "execution": {
     "iopub.execute_input": "2021-06-01T19:05:45.917151Z",
     "iopub.status.busy": "2021-06-01T19:05:45.916488Z",
     "iopub.status.idle": "2021-06-01T19:05:45.927395Z",
     "shell.execute_reply": "2021-06-01T19:05:45.926818Z",
     "shell.execute_reply.started": "2021-06-01T18:44:27.323982Z"
    },
    "papermill": {
     "duration": 0.273986,
     "end_time": "2021-06-01T19:05:45.927542",
     "exception": false,
     "start_time": "2021-06-01T19:05:45.653556",
     "status": "completed"
    },
    "tags": []
   },
   "outputs": [],
   "source": [
    "X_norm = np.hstack([num_norm, df[bin_cols].values, df_cat])"
   ]
  },
  {
   "cell_type": "markdown",
   "metadata": {
    "papermill": {
     "duration": 0.263106,
     "end_time": "2021-06-01T19:05:46.457456",
     "exception": false,
     "start_time": "2021-06-01T19:05:46.194350",
     "status": "completed"
    },
    "tags": []
   },
   "source": [
    "### 4.1.3. Нормализованная модель с полиномиальными признаками"
   ]
  },
  {
   "cell_type": "markdown",
   "metadata": {
    "papermill": {
     "duration": 0.259112,
     "end_time": "2021-06-01T19:05:46.976996",
     "exception": false,
     "start_time": "2021-06-01T19:05:46.717884",
     "status": "completed"
    },
    "tags": []
   },
   "source": [
    "Сформируем полиномиальные признаки на основе имеющихся у нас числовых признаков:"
   ]
  },
  {
   "cell_type": "code",
   "execution_count": 85,
   "metadata": {
    "execution": {
     "iopub.execute_input": "2021-06-01T19:05:47.476426Z",
     "iopub.status.busy": "2021-06-01T19:05:47.475758Z",
     "iopub.status.idle": "2021-06-01T19:05:47.524934Z",
     "shell.execute_reply": "2021-06-01T19:05:47.524489Z",
     "shell.execute_reply.started": "2021-06-01T18:44:27.389497Z"
    },
    "papermill": {
     "duration": 0.29813,
     "end_time": "2021-06-01T19:05:47.525040",
     "exception": false,
     "start_time": "2021-06-01T19:05:47.226910",
     "status": "completed"
    },
    "tags": []
   },
   "outputs": [],
   "source": [
    "poly = PolynomialFeatures(2)\n",
    "\n",
    "num_poly = poly.fit_transform(df[num_cols].values)"
   ]
  },
  {
   "cell_type": "markdown",
   "metadata": {
    "papermill": {
     "duration": 0.168065,
     "end_time": "2021-06-01T19:05:47.863318",
     "exception": false,
     "start_time": "2021-06-01T19:05:47.695253",
     "status": "completed"
    },
    "tags": []
   },
   "source": [
    "Теперь нормализуем результат при помощи StandardScaler():"
   ]
  },
  {
   "cell_type": "code",
   "execution_count": 86,
   "metadata": {
    "execution": {
     "iopub.execute_input": "2021-06-01T19:05:48.219632Z",
     "iopub.status.busy": "2021-06-01T19:05:48.218920Z",
     "iopub.status.idle": "2021-06-01T19:05:48.277413Z",
     "shell.execute_reply": "2021-06-01T19:05:48.276880Z",
     "shell.execute_reply.started": "2021-06-01T18:44:27.482498Z"
    },
    "papermill": {
     "duration": 0.242853,
     "end_time": "2021-06-01T19:05:48.277529",
     "exception": false,
     "start_time": "2021-06-01T19:05:48.034676",
     "status": "completed"
    },
    "tags": []
   },
   "outputs": [],
   "source": [
    "num_norm_poly = scaler.fit_transform(num_poly)"
   ]
  },
  {
   "cell_type": "markdown",
   "metadata": {
    "papermill": {
     "duration": 0.177037,
     "end_time": "2021-06-01T19:05:48.630084",
     "exception": false,
     "start_time": "2021-06-01T19:05:48.453047",
     "status": "completed"
    },
    "tags": []
   },
   "source": [
    "И снова объединим воедино признаки:"
   ]
  },
  {
   "cell_type": "code",
   "execution_count": 87,
   "metadata": {
    "execution": {
     "iopub.execute_input": "2021-06-01T19:05:49.025447Z",
     "iopub.status.busy": "2021-06-01T19:05:49.024609Z",
     "iopub.status.idle": "2021-06-01T19:05:49.047430Z",
     "shell.execute_reply": "2021-06-01T19:05:49.047029Z",
     "shell.execute_reply.started": "2021-06-01T18:44:27.594895Z"
    },
    "papermill": {
     "duration": 0.203839,
     "end_time": "2021-06-01T19:05:49.047543",
     "exception": false,
     "start_time": "2021-06-01T19:05:48.843704",
     "status": "completed"
    },
    "tags": []
   },
   "outputs": [],
   "source": [
    "X_norm_poly = np.hstack([num_norm_poly, df[bin_cols].values, df_cat])"
   ]
  },
  {
   "cell_type": "markdown",
   "metadata": {
    "papermill": {
     "duration": 0.172045,
     "end_time": "2021-06-01T19:05:49.393637",
     "exception": false,
     "start_time": "2021-06-01T19:05:49.221592",
     "status": "completed"
    },
    "tags": []
   },
   "source": [
    "## 4.2. Обучение модели"
   ]
  },
  {
   "cell_type": "markdown",
   "metadata": {
    "papermill": {
     "duration": 0.172808,
     "end_time": "2021-06-01T19:05:49.739390",
     "exception": false,
     "start_time": "2021-06-01T19:05:49.566582",
     "status": "completed"
    },
    "tags": []
   },
   "source": [
    "Теперь необходимо проверить, какие результаты покажет каждая из выделенных моделей:"
   ]
  },
  {
   "cell_type": "markdown",
   "metadata": {
    "papermill": {
     "duration": 0.174264,
     "end_time": "2021-06-01T19:05:50.085309",
     "exception": false,
     "start_time": "2021-06-01T19:05:49.911045",
     "status": "completed"
    },
    "tags": []
   },
   "source": [
    "**Примечание:** Так как выборки у нас несбалансированные, применим параметр модели class_weight='balanced', который отвечает за балансировку классов"
   ]
  },
  {
   "cell_type": "markdown",
   "metadata": {
    "papermill": {
     "duration": 0.176509,
     "end_time": "2021-06-01T19:05:50.457850",
     "exception": false,
     "start_time": "2021-06-01T19:05:50.281341",
     "status": "completed"
    },
    "tags": []
   },
   "source": [
    "### 4.2.1. Обычная модель"
   ]
  },
  {
   "cell_type": "markdown",
   "metadata": {
    "papermill": {
     "duration": 0.172982,
     "end_time": "2021-06-01T19:05:50.804489",
     "exception": false,
     "start_time": "2021-06-01T19:05:50.631507",
     "status": "completed"
    },
    "tags": []
   },
   "source": [
    "Разделим обучающую выборку на тренировочную и валидационную:"
   ]
  },
  {
   "cell_type": "code",
   "execution_count": 88,
   "metadata": {
    "execution": {
     "iopub.execute_input": "2021-06-01T19:05:51.156468Z",
     "iopub.status.busy": "2021-06-01T19:05:51.155871Z",
     "iopub.status.idle": "2021-06-01T19:05:51.173074Z",
     "shell.execute_reply": "2021-06-01T19:05:51.172646Z",
     "shell.execute_reply.started": "2021-06-01T18:44:27.626901Z"
    },
    "papermill": {
     "duration": 0.19719,
     "end_time": "2021-06-01T19:05:51.173190",
     "exception": false,
     "start_time": "2021-06-01T19:05:50.976000",
     "status": "completed"
    },
    "tags": []
   },
   "outputs": [],
   "source": [
    "X_train, X_valid, y_train, y_valid = train_test_split(\n",
    "    X_casual, Y, test_size=0.30, random_state=RANDOM_SEED, shuffle=True)"
   ]
  },
  {
   "cell_type": "markdown",
   "metadata": {
    "papermill": {
     "duration": 0.169926,
     "end_time": "2021-06-01T19:05:51.518093",
     "exception": false,
     "start_time": "2021-06-01T19:05:51.348167",
     "status": "completed"
    },
    "tags": []
   },
   "source": [
    "Обучим модель:"
   ]
  },
  {
   "cell_type": "code",
   "execution_count": 89,
   "metadata": {
    "execution": {
     "iopub.execute_input": "2021-06-01T19:05:51.865418Z",
     "iopub.status.busy": "2021-06-01T19:05:51.864703Z",
     "iopub.status.idle": "2021-06-01T19:05:53.283298Z",
     "shell.execute_reply": "2021-06-01T19:05:53.283898Z",
     "shell.execute_reply.started": "2021-06-01T18:44:27.667408Z"
    },
    "papermill": {
     "duration": 1.594872,
     "end_time": "2021-06-01T19:05:53.284169",
     "exception": false,
     "start_time": "2021-06-01T19:05:51.689297",
     "status": "completed"
    },
    "tags": []
   },
   "outputs": [
    {
     "data": {
      "text/plain": [
       "LogisticRegression(class_weight='balanced', random_state=45)"
      ]
     },
     "execution_count": 89,
     "metadata": {},
     "output_type": "execute_result"
    }
   ],
   "source": [
    "lgr_casual = LogisticRegression(\n",
    "    class_weight='balanced', random_state=RANDOM_SEED)\n",
    "lgr_casual.fit(X_train, y_train)"
   ]
  },
  {
   "cell_type": "markdown",
   "metadata": {
    "papermill": {
     "duration": 0.26087,
     "end_time": "2021-06-01T19:05:53.825966",
     "exception": false,
     "start_time": "2021-06-01T19:05:53.565096",
     "status": "completed"
    },
    "tags": []
   },
   "source": [
    "Теперь попробуем предсказать значения:"
   ]
  },
  {
   "cell_type": "code",
   "execution_count": 90,
   "metadata": {
    "execution": {
     "iopub.execute_input": "2021-06-01T19:05:54.351411Z",
     "iopub.status.busy": "2021-06-01T19:05:54.350649Z",
     "iopub.status.idle": "2021-06-01T19:05:54.362307Z",
     "shell.execute_reply": "2021-06-01T19:05:54.362664Z",
     "shell.execute_reply.started": "2021-06-01T18:44:28.892797Z"
    },
    "papermill": {
     "duration": 0.278482,
     "end_time": "2021-06-01T19:05:54.362816",
     "exception": false,
     "start_time": "2021-06-01T19:05:54.084334",
     "status": "completed"
    },
    "tags": []
   },
   "outputs": [],
   "source": [
    "# Для тестовой выборки\n",
    "probs_casual_tr = lgr_casual.predict_proba(X_train)\n",
    "probs_casual_tr = probs_casual_tr[:, 1]\n",
    "# Для валидационной выборки\n",
    "probs_casual = lgr_casual.predict_proba(X_valid)\n",
    "probs_casual = probs_casual[:, 1]\n",
    "y_predict_c = lgr_casual.predict(X_valid)"
   ]
  },
  {
   "cell_type": "markdown",
   "metadata": {
    "papermill": {
     "duration": 0.16993,
     "end_time": "2021-06-01T19:05:54.730710",
     "exception": false,
     "start_time": "2021-06-01T19:05:54.560780",
     "status": "completed"
    },
    "tags": []
   },
   "source": [
    "Зафиксируем полученные значения для построения графика:"
   ]
  },
  {
   "cell_type": "code",
   "execution_count": 91,
   "metadata": {
    "execution": {
     "iopub.execute_input": "2021-06-01T19:05:55.080285Z",
     "iopub.status.busy": "2021-06-01T19:05:55.079644Z",
     "iopub.status.idle": "2021-06-01T19:05:55.120629Z",
     "shell.execute_reply": "2021-06-01T19:05:55.120079Z",
     "shell.execute_reply.started": "2021-06-01T18:44:28.913078Z"
    },
    "papermill": {
     "duration": 0.218943,
     "end_time": "2021-06-01T19:05:55.120742",
     "exception": false,
     "start_time": "2021-06-01T19:05:54.901799",
     "status": "completed"
    },
    "tags": []
   },
   "outputs": [],
   "source": [
    "# значения для обучающей выборки\n",
    "fpr_c_tr, tpr_c_tr, threshold_c_tr = roc_curve(y_train, probs_casual_tr)\n",
    "roc_auc_c_tr = roc_auc_score(y_train, probs_casual_tr)\n",
    "# значения для валидационной выборки\n",
    "fpr_c, tpr_c, threshold_c = roc_curve(y_valid, probs_casual)\n",
    "roc_auc_c = roc_auc_score(y_valid, probs_casual)"
   ]
  },
  {
   "cell_type": "markdown",
   "metadata": {
    "papermill": {
     "duration": 0.170734,
     "end_time": "2021-06-01T19:05:55.467682",
     "exception": false,
     "start_time": "2021-06-01T19:05:55.296948",
     "status": "completed"
    },
    "tags": []
   },
   "source": [
    "Построим график, чтобы увидеть как различаются предсказания на валидационной и тренировочной выборках:"
   ]
  },
  {
   "cell_type": "code",
   "execution_count": 92,
   "metadata": {
    "execution": {
     "iopub.execute_input": "2021-06-01T19:05:55.836788Z",
     "iopub.status.busy": "2021-06-01T19:05:55.836281Z",
     "iopub.status.idle": "2021-06-01T19:05:56.011339Z",
     "shell.execute_reply": "2021-06-01T19:05:56.011863Z",
     "shell.execute_reply.started": "2021-06-01T18:44:28.992948Z"
    },
    "papermill": {
     "duration": 0.373507,
     "end_time": "2021-06-01T19:05:56.012041",
     "exception": false,
     "start_time": "2021-06-01T19:05:55.638534",
     "status": "completed"
    },
    "tags": []
   },
   "outputs": [
    {
     "data": {
      "image/png": "[encoded data removed]",
      "text/plain": [
       "<Figure size 864x504 with 1 Axes>"
      ]
     },
     "metadata": {
      "needs_background": "light"
     },
     "output_type": "display_data"
    }
   ],
   "source": [
    "plt.figure(figsize=(12, 7))\n",
    "plt.plot([0, 1], label='Baseline', linestyle='--')\n",
    "plt.plot(fpr_c, tpr_c, label='logRegCasual roc auc= %0.5f' % roc_auc_c)\n",
    "plt.plot(fpr_c_tr, tpr_c_tr, label='logRegCasualTrain roc auc=%0.5f' %\n",
    "         roc_auc_c_tr)\n",
    "plt.title('Сравнение результатов предсказаний')\n",
    "plt.ylabel('True Positive Rate')\n",
    "plt.xlabel('False Positive Rate')\n",
    "plt.legend(loc='lower right')\n",
    "plt.show()"
   ]
  },
  {
   "cell_type": "markdown",
   "metadata": {
    "papermill": {
     "duration": 0.260733,
     "end_time": "2021-06-01T19:05:56.534356",
     "exception": false,
     "start_time": "2021-06-01T19:05:56.273623",
     "status": "completed"
    },
    "tags": []
   },
   "source": [
    "Значения различаются не сильно, переобучения нет."
   ]
  },
  {
   "cell_type": "raw",
   "metadata": {
    "papermill": {
     "duration": 0.261979,
     "end_time": "2021-06-01T19:05:57.056898",
     "exception": false,
     "start_time": "2021-06-01T19:05:56.794919",
     "status": "completed"
    },
    "tags": []
   },
   "source": [
    "Построим матрицу ошибок для валидационной выборки:"
   ]
  },
  {
   "cell_type": "code",
   "execution_count": 93,
   "metadata": {
    "execution": {
     "iopub.execute_input": "2021-06-01T19:05:57.584495Z",
     "iopub.status.busy": "2021-06-01T19:05:57.583982Z",
     "iopub.status.idle": "2021-06-01T19:05:57.666876Z",
     "shell.execute_reply": "2021-06-01T19:05:57.666436Z",
     "shell.execute_reply.started": "2021-06-01T18:44:29.177782Z"
    },
    "papermill": {
     "duration": 0.348831,
     "end_time": "2021-06-01T19:05:57.666984",
     "exception": false,
     "start_time": "2021-06-01T19:05:57.318153",
     "status": "completed"
    },
    "tags": []
   },
   "outputs": [
    {
     "data": {
      "image/png": "[encoded data removed]",
      "text/plain": [
       "<Figure size 432x288 with 1 Axes>"
      ]
     },
     "metadata": {
      "needs_background": "light"
     },
     "output_type": "display_data"
    }
   ],
   "source": [
    "sns.heatmap(confusion_matrix(y_valid, y_predict_c), annot=True, annot_kws={\"size\": 20}, fmt='', cmap='Pastel2', cbar=False,\n",
    "            xticklabels=['1', '0'], yticklabels=['1', '0'])\n",
    "plt.title('Матрица ошибок для default')\n",
    "plt.show()"
   ]
  },
  {
   "cell_type": "markdown",
   "metadata": {
    "papermill": {
     "duration": 0.174112,
     "end_time": "2021-06-01T19:05:58.015871",
     "exception": false,
     "start_time": "2021-06-01T19:05:57.841759",
     "status": "completed"
    },
    "tags": []
   },
   "source": [
    "### 4.2.2. Нормализованная модель"
   ]
  },
  {
   "cell_type": "markdown",
   "metadata": {
    "papermill": {
     "duration": 0.179286,
     "end_time": "2021-06-01T19:05:58.374775",
     "exception": false,
     "start_time": "2021-06-01T19:05:58.195489",
     "status": "completed"
    },
    "tags": []
   },
   "source": [
    "Общая логика здесь точно такая же, просто часть данных в выборке нормализована:"
   ]
  },
  {
   "cell_type": "code",
   "execution_count": 94,
   "metadata": {
    "execution": {
     "iopub.execute_input": "2021-06-01T19:05:58.734538Z",
     "iopub.status.busy": "2021-06-01T19:05:58.734055Z",
     "iopub.status.idle": "2021-06-01T19:05:58.753048Z",
     "shell.execute_reply": "2021-06-01T19:05:58.752482Z",
     "shell.execute_reply.started": "2021-06-01T18:44:29.267914Z"
    },
    "papermill": {
     "duration": 0.200325,
     "end_time": "2021-06-01T19:05:58.753191",
     "exception": false,
     "start_time": "2021-06-01T19:05:58.552866",
     "status": "completed"
    },
    "tags": []
   },
   "outputs": [],
   "source": [
    "# разделим на тренировочную и тестовую выборки\n",
    "X_train, X_valid, y_train, y_valid = train_test_split(\n",
    "    X_norm, Y, test_size=0.30, random_state=RANDOM_SEED, shuffle=True)"
   ]
  },
  {
   "cell_type": "code",
   "execution_count": 95,
   "metadata": {
    "execution": {
     "iopub.execute_input": "2021-06-01T19:05:59.285020Z",
     "iopub.status.busy": "2021-06-01T19:05:59.284181Z",
     "iopub.status.idle": "2021-06-01T19:05:59.785567Z",
     "shell.execute_reply": "2021-06-01T19:05:59.786144Z",
     "shell.execute_reply.started": "2021-06-01T18:44:29.334970Z"
    },
    "papermill": {
     "duration": 0.77113,
     "end_time": "2021-06-01T19:05:59.786346",
     "exception": false,
     "start_time": "2021-06-01T19:05:59.015216",
     "status": "completed"
    },
    "tags": []
   },
   "outputs": [
    {
     "data": {
      "text/plain": [
       "LogisticRegression(class_weight='balanced', random_state=45)"
      ]
     },
     "execution_count": 95,
     "metadata": {},
     "output_type": "execute_result"
    }
   ],
   "source": [
    "# обучим модель\n",
    "lgr_norm = LogisticRegression(\n",
    "    class_weight='balanced', random_state=RANDOM_SEED)\n",
    "lgr_norm.fit(X_train, y_train)"
   ]
  },
  {
   "cell_type": "code",
   "execution_count": 96,
   "metadata": {
    "execution": {
     "iopub.execute_input": "2021-06-01T19:06:00.370804Z",
     "iopub.status.busy": "2021-06-01T19:06:00.369867Z",
     "iopub.status.idle": "2021-06-01T19:06:00.379788Z",
     "shell.execute_reply": "2021-06-01T19:06:00.380441Z",
     "shell.execute_reply.started": "2021-06-01T18:44:29.986873Z"
    },
    "papermill": {
     "duration": 0.304473,
     "end_time": "2021-06-01T19:06:00.380652",
     "exception": false,
     "start_time": "2021-06-01T19:06:00.076179",
     "status": "completed"
    },
    "tags": []
   },
   "outputs": [],
   "source": [
    "# предскажем значения тренировочной выборки\n",
    "probs_norm_tr = lgr_norm.predict_proba(X_train)\n",
    "probs_norm_tr = probs_norm_tr[:, 1]\n",
    "# предскажем значения валидационной выборки\n",
    "probs_norm = lgr_norm.predict_proba(X_valid)\n",
    "probs_norm = probs_norm[:, 1]\n",
    "y_predict_n = lgr_norm.predict(X_valid)"
   ]
  },
  {
   "cell_type": "code",
   "execution_count": 97,
   "metadata": {
    "execution": {
     "iopub.execute_input": "2021-06-01T19:06:00.805894Z",
     "iopub.status.busy": "2021-06-01T19:06:00.805387Z",
     "iopub.status.idle": "2021-06-01T19:06:00.842774Z",
     "shell.execute_reply": "2021-06-01T19:06:00.842376Z",
     "shell.execute_reply.started": "2021-06-01T18:44:30.006332Z"
    },
    "papermill": {
     "duration": 0.226009,
     "end_time": "2021-06-01T19:06:00.842913",
     "exception": false,
     "start_time": "2021-06-01T19:06:00.616904",
     "status": "completed"
    },
    "tags": []
   },
   "outputs": [],
   "source": [
    "# запомним параметры обучающей выборки\n",
    "fpr_n_tr, tpr_n_tr, threshold_n_tr = roc_curve(y_train, probs_norm_tr)\n",
    "roc_auc_n_tr = roc_auc_score(y_train, probs_norm_tr)\n",
    "# запомним параметры валидационной выборки для построения кривой\n",
    "fpr_n, tpr_n, threshold_n = roc_curve(y_valid, probs_norm)\n",
    "roc_auc_n = roc_auc_score(y_valid, probs_norm)"
   ]
  },
  {
   "cell_type": "markdown",
   "metadata": {
    "papermill": {
     "duration": 0.193832,
     "end_time": "2021-06-01T19:06:01.210025",
     "exception": false,
     "start_time": "2021-06-01T19:06:01.016193",
     "status": "completed"
    },
    "tags": []
   },
   "source": [
    "Построим график для сравнения ROC AUC валидационной и тренировочной выборок:"
   ]
  },
  {
   "cell_type": "code",
   "execution_count": 98,
   "metadata": {
    "execution": {
     "iopub.execute_input": "2021-06-01T19:06:01.587881Z",
     "iopub.status.busy": "2021-06-01T19:06:01.587350Z",
     "iopub.status.idle": "2021-06-01T19:06:01.734963Z",
     "shell.execute_reply": "2021-06-01T19:06:01.735477Z",
     "shell.execute_reply.started": "2021-06-01T18:44:30.085954Z"
    },
    "papermill": {
     "duration": 0.34491,
     "end_time": "2021-06-01T19:06:01.735622",
     "exception": false,
     "start_time": "2021-06-01T19:06:01.390712",
     "status": "completed"
    },
    "tags": []
   },
   "outputs": [
    {
     "data": {
      "image/png": "[encoded data removed]",
      "text/plain": [
       "<Figure size 864x504 with 1 Axes>"
      ]
     },
     "metadata": {
      "needs_background": "light"
     },
     "output_type": "display_data"
    }
   ],
   "source": [
    "plt.figure(figsize=(12, 7))\n",
    "plt.plot([0, 1], label='Baseline', linestyle='--')\n",
    "plt.plot(fpr_n, tpr_n, label='logRegNormal roc auc= %0.5f' % roc_auc_n)\n",
    "plt.plot(fpr_n_tr, tpr_n_tr, label='logRegNormalTrain roc auc=%0.5f' %\n",
    "         roc_auc_n_tr)\n",
    "plt.title('Сравнение результатов предсказаний')\n",
    "plt.ylabel('True Positive Rate')\n",
    "plt.xlabel('False Positive Rate')\n",
    "plt.legend(loc='lower right')\n",
    "plt.show()"
   ]
  },
  {
   "cell_type": "markdown",
   "metadata": {
    "papermill": {
     "duration": 0.181217,
     "end_time": "2021-06-01T19:06:02.097512",
     "exception": false,
     "start_time": "2021-06-01T19:06:01.916295",
     "status": "completed"
    },
    "tags": []
   },
   "source": [
    "Вывод схож с предудущим подпунктом - переобучения нет."
   ]
  },
  {
   "cell_type": "markdown",
   "metadata": {
    "papermill": {
     "duration": 0.174519,
     "end_time": "2021-06-01T19:06:02.452566",
     "exception": false,
     "start_time": "2021-06-01T19:06:02.278047",
     "status": "completed"
    },
    "tags": []
   },
   "source": [
    "Построим матрицу ошибок валидационной выборки:"
   ]
  },
  {
   "cell_type": "code",
   "execution_count": 99,
   "metadata": {
    "execution": {
     "iopub.execute_input": "2021-06-01T19:06:02.815373Z",
     "iopub.status.busy": "2021-06-01T19:06:02.814798Z",
     "iopub.status.idle": "2021-06-01T19:06:03.019558Z",
     "shell.execute_reply": "2021-06-01T19:06:03.019160Z",
     "shell.execute_reply.started": "2021-06-01T18:44:30.269326Z"
    },
    "papermill": {
     "duration": 0.389939,
     "end_time": "2021-06-01T19:06:03.019663",
     "exception": false,
     "start_time": "2021-06-01T19:06:02.629724",
     "status": "completed"
    },
    "tags": []
   },
   "outputs": [
    {
     "data": {
      "image/png": "[encoded data removed]",
      "text/plain": [
       "<Figure size 432x288 with 1 Axes>"
      ]
     },
     "metadata": {
      "needs_background": "light"
     },
     "output_type": "display_data"
    }
   ],
   "source": [
    "sns.heatmap(confusion_matrix(y_valid, y_predict_n), annot=True, annot_kws={\"size\": 20}, fmt='', cmap='Pastel2', cbar=False,\n",
    "            xticklabels=['1', '0'], yticklabels=['1', '0'])\n",
    "plt.title('Матрица ошибок для default')\n",
    "plt.show()"
   ]
  },
  {
   "cell_type": "markdown",
   "metadata": {
    "papermill": {
     "duration": 0.180049,
     "end_time": "2021-06-01T19:06:03.381914",
     "exception": false,
     "start_time": "2021-06-01T19:06:03.201865",
     "status": "completed"
    },
    "tags": []
   },
   "source": [
    "### 4.2.3. Нормализованная модель с полиномиальными признаками"
   ]
  },
  {
   "cell_type": "markdown",
   "metadata": {
    "papermill": {
     "duration": 0.17943,
     "end_time": "2021-06-01T19:06:03.740648",
     "exception": false,
     "start_time": "2021-06-01T19:06:03.561218",
     "status": "completed"
    },
    "tags": []
   },
   "source": [
    "Далее аналогично п.п. 4.2.1 и 4.2.2"
   ]
  },
  {
   "cell_type": "code",
   "execution_count": 100,
   "metadata": {
    "execution": {
     "iopub.execute_input": "2021-06-01T19:06:04.100077Z",
     "iopub.status.busy": "2021-06-01T19:06:04.098312Z",
     "iopub.status.idle": "2021-06-01T19:06:04.118364Z",
     "shell.execute_reply": "2021-06-01T19:06:04.117870Z",
     "shell.execute_reply.started": "2021-06-01T18:44:30.359922Z"
    },
    "papermill": {
     "duration": 0.200713,
     "end_time": "2021-06-01T19:06:04.118473",
     "exception": false,
     "start_time": "2021-06-01T19:06:03.917760",
     "status": "completed"
    },
    "tags": []
   },
   "outputs": [],
   "source": [
    "# разделим на тренировочную и тестовую выборки\n",
    "X_train, X_valid, y_train, y_valid = train_test_split(\n",
    "    X_norm_poly, Y, test_size=0.30, random_state=RANDOM_SEED, shuffle=True)"
   ]
  },
  {
   "cell_type": "code",
   "execution_count": 101,
   "metadata": {
    "execution": {
     "iopub.execute_input": "2021-06-01T19:06:04.514270Z",
     "iopub.status.busy": "2021-06-01T19:06:04.513732Z",
     "iopub.status.idle": "2021-06-01T19:06:05.565514Z",
     "shell.execute_reply": "2021-06-01T19:06:05.564630Z",
     "shell.execute_reply.started": "2021-06-01T18:44:30.443472Z"
    },
    "papermill": {
     "duration": 1.231678,
     "end_time": "2021-06-01T19:06:05.565649",
     "exception": false,
     "start_time": "2021-06-01T19:06:04.333971",
     "status": "completed"
    },
    "tags": []
   },
   "outputs": [
    {
     "data": {
      "text/plain": [
       "LogisticRegression(class_weight='balanced', random_state=45)"
      ]
     },
     "execution_count": 101,
     "metadata": {},
     "output_type": "execute_result"
    }
   ],
   "source": [
    "# обучим модель\n",
    "lgr_norm_poly = LogisticRegression(\n",
    "    class_weight='balanced', random_state=RANDOM_SEED)\n",
    "lgr_norm_poly.fit(X_train, y_train)"
   ]
  },
  {
   "cell_type": "code",
   "execution_count": 102,
   "metadata": {
    "execution": {
     "iopub.execute_input": "2021-06-01T19:06:05.952483Z",
     "iopub.status.busy": "2021-06-01T19:06:05.951932Z",
     "iopub.status.idle": "2021-06-01T19:06:05.962679Z",
     "shell.execute_reply": "2021-06-01T19:06:05.963188Z",
     "shell.execute_reply.started": "2021-06-01T18:44:31.708081Z"
    },
    "papermill": {
     "duration": 0.193183,
     "end_time": "2021-06-01T19:06:05.963362",
     "exception": false,
     "start_time": "2021-06-01T19:06:05.770179",
     "status": "completed"
    },
    "tags": []
   },
   "outputs": [],
   "source": [
    "# предскажем значения тренировочной выборки\n",
    "probs_norm_poly_tr = lgr_norm_poly.predict_proba(X_train)\n",
    "probs_norm_poly_tr = probs_norm_poly_tr[:, 1]\n",
    "# предскажем значения валидационной выборки\n",
    "probs_norm_poly = lgr_norm_poly.predict_proba(X_valid)\n",
    "probs_norm_poly = probs_norm_poly[:, 1]\n",
    "y_predict_np = lgr_norm_poly.predict(X_valid)"
   ]
  },
  {
   "cell_type": "code",
   "execution_count": 103,
   "metadata": {
    "execution": {
     "iopub.execute_input": "2021-06-01T19:06:06.351729Z",
     "iopub.status.busy": "2021-06-01T19:06:06.351186Z",
     "iopub.status.idle": "2021-06-01T19:06:06.387929Z",
     "shell.execute_reply": "2021-06-01T19:06:06.387476Z",
     "shell.execute_reply.started": "2021-06-01T18:44:31.738996Z"
    },
    "papermill": {
     "duration": 0.220638,
     "end_time": "2021-06-01T19:06:06.388051",
     "exception": false,
     "start_time": "2021-06-01T19:06:06.167413",
     "status": "completed"
    },
    "tags": []
   },
   "outputs": [],
   "source": [
    "# запомним параметры тренировочной выборки для построения кривой\n",
    "fpr_np_tr, tpr_np_tr, threshold_np_tr = roc_curve(y_train, probs_norm_poly_tr)\n",
    "roc_auc_np_tr = roc_auc_score(y_train, probs_norm_poly_tr)\n",
    "# запомним параметры валидационной выборки для построения кривой\n",
    "fpr_np, tpr_np, threshold_np = roc_curve(y_valid, probs_norm_poly)\n",
    "roc_auc_np = roc_auc_score(y_valid, probs_norm_poly)"
   ]
  },
  {
   "cell_type": "markdown",
   "metadata": {
    "papermill": {
     "duration": 0.177156,
     "end_time": "2021-06-01T19:06:06.739462",
     "exception": false,
     "start_time": "2021-06-01T19:06:06.562306",
     "status": "completed"
    },
    "tags": []
   },
   "source": [
    "Построим графики ROC AUC для тренировочной и валидационной выборок:"
   ]
  },
  {
   "cell_type": "code",
   "execution_count": 104,
   "metadata": {
    "execution": {
     "iopub.execute_input": "2021-06-01T19:06:07.116476Z",
     "iopub.status.busy": "2021-06-01T19:06:07.115699Z",
     "iopub.status.idle": "2021-06-01T19:06:07.258398Z",
     "shell.execute_reply": "2021-06-01T19:06:07.257935Z",
     "shell.execute_reply.started": "2021-06-01T18:44:31.817715Z"
    },
    "papermill": {
     "duration": 0.342056,
     "end_time": "2021-06-01T19:06:07.258502",
     "exception": false,
     "start_time": "2021-06-01T19:06:06.916446",
     "status": "completed"
    },
    "tags": []
   },
   "outputs": [
    {
     "data": {
      "image/png": "[encoded data removed]",
      "text/plain": [
       "<Figure size 864x504 with 1 Axes>"
      ]
     },
     "metadata": {
      "needs_background": "light"
     },
     "output_type": "display_data"
    }
   ],
   "source": [
    "plt.figure(figsize=(12, 7))\n",
    "plt.plot([0, 1], label='Baseline', linestyle='--')\n",
    "plt.plot(fpr_np, tpr_np, label='logNormPoly roc auc= %0.5f' % roc_auc_np)\n",
    "plt.plot(fpr_np_tr, tpr_np_tr,\n",
    "         label='logRegNormPolyTrain roc auc=%0.5f' % roc_auc_np_tr)\n",
    "plt.title('Сравнение результатов предсказаний')\n",
    "plt.ylabel('True Positive Rate')\n",
    "plt.xlabel('False Positive Rate')\n",
    "plt.legend(loc='lower right')\n",
    "plt.show()"
   ]
  },
  {
   "cell_type": "markdown",
   "metadata": {
    "papermill": {
     "duration": 0.176655,
     "end_time": "2021-06-01T19:06:07.611265",
     "exception": false,
     "start_time": "2021-06-01T19:06:07.434610",
     "status": "completed"
    },
    "tags": []
   },
   "source": [
    "Как и в предыдущих моделях - переобучения нет, кривые почти идентичны"
   ]
  },
  {
   "cell_type": "markdown",
   "metadata": {
    "papermill": {
     "duration": 0.175408,
     "end_time": "2021-06-01T19:06:07.965181",
     "exception": false,
     "start_time": "2021-06-01T19:06:07.789773",
     "status": "completed"
    },
    "tags": []
   },
   "source": [
    "Построим матрицу ошибок для валидационной выборки:"
   ]
  },
  {
   "cell_type": "code",
   "execution_count": 105,
   "metadata": {
    "execution": {
     "iopub.execute_input": "2021-06-01T19:06:08.329444Z",
     "iopub.status.busy": "2021-06-01T19:06:08.328950Z",
     "iopub.status.idle": "2021-06-01T19:06:08.413547Z",
     "shell.execute_reply": "2021-06-01T19:06:08.412614Z",
     "shell.execute_reply.started": "2021-06-01T18:44:31.995383Z"
    },
    "papermill": {
     "duration": 0.269421,
     "end_time": "2021-06-01T19:06:08.413657",
     "exception": false,
     "start_time": "2021-06-01T19:06:08.144236",
     "status": "completed"
    },
    "tags": []
   },
   "outputs": [
    {
     "data": {
      "image/png": "[encoded data removed]",
      "text/plain": [
       "<Figure size 432x288 with 1 Axes>"
      ]
     },
     "metadata": {
      "needs_background": "light"
     },
     "output_type": "display_data"
    }
   ],
   "source": [
    "sns.heatmap(confusion_matrix(y_valid, y_predict_np), annot=True, annot_kws={\"size\": 20}, fmt='', cmap='Pastel2', cbar=False,\n",
    "            xticklabels=['1', '0'], yticklabels=['1', '0'])\n",
    "plt.title('Матрица ошибок для default')\n",
    "plt.show()"
   ]
  },
  {
   "cell_type": "markdown",
   "metadata": {
    "papermill": {
     "duration": 0.17882,
     "end_time": "2021-06-01T19:06:08.771242",
     "exception": false,
     "start_time": "2021-06-01T19:06:08.592422",
     "status": "completed"
    },
    "tags": []
   },
   "source": [
    "### 4.2.4. Нормализованная модель с полиномиальными признаками и регуляризацией"
   ]
  },
  {
   "cell_type": "markdown",
   "metadata": {
    "papermill": {
     "duration": 0.180068,
     "end_time": "2021-06-01T19:06:09.134386",
     "exception": false,
     "start_time": "2021-06-01T19:06:08.954318",
     "status": "completed"
    },
    "tags": []
   },
   "source": [
    "Первая часть идет аналогично п. 4.2.3:"
   ]
  },
  {
   "cell_type": "code",
   "execution_count": 106,
   "metadata": {
    "execution": {
     "iopub.execute_input": "2021-06-01T19:06:09.502678Z",
     "iopub.status.busy": "2021-06-01T19:06:09.502185Z",
     "iopub.status.idle": "2021-06-01T19:06:09.521530Z",
     "shell.execute_reply": "2021-06-01T19:06:09.521017Z",
     "shell.execute_reply.started": "2021-06-01T18:44:32.088990Z"
    },
    "papermill": {
     "duration": 0.206303,
     "end_time": "2021-06-01T19:06:09.521641",
     "exception": false,
     "start_time": "2021-06-01T19:06:09.315338",
     "status": "completed"
    },
    "tags": []
   },
   "outputs": [],
   "source": [
    "# разделим на тренировочную и тестовую выборки\n",
    "X_train, X_valid, y_train, y_valid = train_test_split(\n",
    "    X_norm_poly, Y, test_size=0.30, random_state=RANDOM_SEED, shuffle=True)"
   ]
  },
  {
   "cell_type": "markdown",
   "metadata": {
    "papermill": {
     "duration": 0.174285,
     "end_time": "2021-06-01T19:06:09.879089",
     "exception": false,
     "start_time": "2021-06-01T19:06:09.704804",
     "status": "completed"
    },
    "tags": []
   },
   "source": [
    "Теперь приступим к самой регуляризации:"
   ]
  },
  {
   "cell_type": "code",
   "execution_count": 107,
   "metadata": {
    "execution": {
     "iopub.execute_input": "2021-06-01T19:06:10.241011Z",
     "iopub.status.busy": "2021-06-01T19:06:10.240500Z",
     "iopub.status.idle": "2021-06-01T19:06:52.094377Z",
     "shell.execute_reply": "2021-06-01T19:06:52.094861Z",
     "shell.execute_reply.started": "2021-06-01T18:44:32.134846Z"
    },
    "papermill": {
     "duration": 42.041206,
     "end_time": "2021-06-01T19:06:52.094996",
     "exception": false,
     "start_time": "2021-06-01T19:06:10.053790",
     "status": "completed"
    },
    "tags": []
   },
   "outputs": [
    {
     "name": "stdout",
     "output_type": "stream",
     "text": [
      "Лучший penalty: l2\n",
      "Лучшее C: 1291.5496650148827\n"
     ]
    }
   ],
   "source": [
    "# зададим ограничения для параметра регуляризации\n",
    "C = np.logspace(0, 4, 10)\n",
    "# укажем типы регуляризации\n",
    "penalty = ['l1', 'l2']\n",
    "# создадим гиперпараметры\n",
    "hyperparameters = dict(C=C, penalty=penalty)\n",
    "model = LogisticRegression(random_state=RANDOM_SEED)\n",
    "model.fit(X_train, y_train)\n",
    "# укажем сетку поиска с использованием пятикратной перекрестной проверки\n",
    "clf = GridSearchCV(model, hyperparameters, cv=5, verbose=0)\n",
    "\n",
    "best_model = clf.fit(X_train, y_train)\n",
    "# Выведем лучшие гиперпараметры\n",
    "print('Лучший penalty:', best_model.best_estimator_.get_params()['penalty'])\n",
    "print('Лучшее C:', best_model.best_estimator_.get_params()['C'])"
   ]
  },
  {
   "cell_type": "markdown",
   "metadata": {
    "papermill": {
     "duration": 0.176678,
     "end_time": "2021-06-01T19:06:52.449759",
     "exception": false,
     "start_time": "2021-06-01T19:06:52.273081",
     "status": "completed"
    },
    "tags": []
   },
   "source": [
    "Теперь обучим модель с использованием получившихся значений:"
   ]
  },
  {
   "cell_type": "code",
   "execution_count": 108,
   "metadata": {
    "execution": {
     "iopub.execute_input": "2021-06-01T19:06:52.808549Z",
     "iopub.status.busy": "2021-06-01T19:06:52.808063Z",
     "iopub.status.idle": "2021-06-01T19:06:53.857596Z",
     "shell.execute_reply": "2021-06-01T19:06:53.858166Z",
     "shell.execute_reply.started": "2021-06-01T18:45:24.222859Z"
    },
    "papermill": {
     "duration": 1.231547,
     "end_time": "2021-06-01T19:06:53.858322",
     "exception": false,
     "start_time": "2021-06-01T19:06:52.626775",
     "status": "completed"
    },
    "tags": []
   },
   "outputs": [
    {
     "data": {
      "text/plain": [
       "LogisticRegression(C=1291.5496650148827, class_weight='balanced',\n",
       "                   random_state=45)"
      ]
     },
     "execution_count": 108,
     "metadata": {},
     "output_type": "execute_result"
    }
   ],
   "source": [
    "lgr_hyp = LogisticRegression(\n",
    "    penalty='l2', C=1291.5496650148827, class_weight='balanced', random_state=RANDOM_SEED)\n",
    "lgr_hyp.fit(X_train, y_train)"
   ]
  },
  {
   "cell_type": "code",
   "execution_count": 109,
   "metadata": {
    "execution": {
     "iopub.execute_input": "2021-06-01T19:06:54.259367Z",
     "iopub.status.busy": "2021-06-01T19:06:54.258729Z",
     "iopub.status.idle": "2021-06-01T19:06:54.265791Z",
     "shell.execute_reply": "2021-06-01T19:06:54.266295Z",
     "shell.execute_reply.started": "2021-06-01T18:45:25.510610Z"
    },
    "papermill": {
     "duration": 0.197814,
     "end_time": "2021-06-01T19:06:54.266465",
     "exception": false,
     "start_time": "2021-06-01T19:06:54.068651",
     "status": "completed"
    },
    "tags": []
   },
   "outputs": [],
   "source": [
    "# предскажем значения тренировочной выборки\n",
    "probs_hyp_tr = lgr_hyp.predict_proba(X_train)\n",
    "probs_hyp_tr = probs_hyp_tr[:, 1]\n",
    "# предскажем значения валидационной выборки\n",
    "probs_hyp = lgr_hyp.predict_proba(X_valid)\n",
    "probs_hyp = probs_hyp[:, 1]\n",
    "y_predict_hyp = lgr_hyp.predict(X_valid)"
   ]
  },
  {
   "cell_type": "code",
   "execution_count": 110,
   "metadata": {
    "execution": {
     "iopub.execute_input": "2021-06-01T19:06:54.653083Z",
     "iopub.status.busy": "2021-06-01T19:06:54.652618Z",
     "iopub.status.idle": "2021-06-01T19:06:54.688621Z",
     "shell.execute_reply": "2021-06-01T19:06:54.688205Z",
     "shell.execute_reply.started": "2021-06-01T18:45:25.542533Z"
    },
    "papermill": {
     "duration": 0.217484,
     "end_time": "2021-06-01T19:06:54.688738",
     "exception": false,
     "start_time": "2021-06-01T19:06:54.471254",
     "status": "completed"
    },
    "tags": []
   },
   "outputs": [],
   "source": [
    "# запомним параметры тренировочной выборки для построения кривой\n",
    "fpr_hyp_tr, tpr_hyp_tr, threshold_hyp_tr = roc_curve(y_train, probs_hyp_tr)\n",
    "roc_auc_hyp_tr = roc_auc_score(y_train, probs_hyp_tr)\n",
    "# запомним параметры валидационной выборки для построения кривой\n",
    "fpr_hyp, tpr_hyp, threshold_hyp = roc_curve(y_valid, probs_hyp)\n",
    "roc_auc_hyp = roc_auc_score(y_valid, probs_hyp)"
   ]
  },
  {
   "cell_type": "markdown",
   "metadata": {
    "papermill": {
     "duration": 0.180129,
     "end_time": "2021-06-01T19:06:55.049231",
     "exception": false,
     "start_time": "2021-06-01T19:06:54.869102",
     "status": "completed"
    },
    "tags": []
   },
   "source": [
    "Построим графики ROC AUC для тренировочной и валидационной выборок:"
   ]
  },
  {
   "cell_type": "code",
   "execution_count": 111,
   "metadata": {
    "execution": {
     "iopub.execute_input": "2021-06-01T19:06:55.432084Z",
     "iopub.status.busy": "2021-06-01T19:06:55.430005Z",
     "iopub.status.idle": "2021-06-01T19:06:55.572873Z",
     "shell.execute_reply": "2021-06-01T19:06:55.572404Z",
     "shell.execute_reply.started": "2021-06-01T18:45:25.626763Z"
    },
    "papermill": {
     "duration": 0.341987,
     "end_time": "2021-06-01T19:06:55.572976",
     "exception": false,
     "start_time": "2021-06-01T19:06:55.230989",
     "status": "completed"
    },
    "tags": []
   },
   "outputs": [
    {
     "data": {
      "image/png": "[encoded data removed]",
      "text/plain": [
       "<Figure size 864x504 with 1 Axes>"
      ]
     },
     "metadata": {
      "needs_background": "light"
     },
     "output_type": "display_data"
    }
   ],
   "source": [
    "plt.figure(figsize=(12, 7))\n",
    "plt.plot([0, 1], label='Baseline', linestyle='--')\n",
    "plt.plot(fpr_hyp, tpr_hyp, label='logRegHyper roc auc= %0.5f' % roc_auc_hyp)\n",
    "plt.plot(fpr_hyp_tr, tpr_hyp_tr,\n",
    "         label='logRegHyperTrain roc auc=%0.5f' % roc_auc_hyp_tr)\n",
    "plt.title('Сравнение результатов предсказаний')\n",
    "plt.ylabel('True Positive Rate')\n",
    "plt.xlabel('False Positive Rate')\n",
    "plt.legend(loc='lower right')\n",
    "plt.show()"
   ]
  },
  {
   "cell_type": "markdown",
   "metadata": {
    "papermill": {
     "duration": 0.179525,
     "end_time": "2021-06-01T19:06:55.932747",
     "exception": false,
     "start_time": "2021-06-01T19:06:55.753222",
     "status": "completed"
    },
    "tags": []
   },
   "source": [
    "И снова, кривые почти идентичны - переобучения нет."
   ]
  },
  {
   "cell_type": "markdown",
   "metadata": {
    "papermill": {
     "duration": 0.204028,
     "end_time": "2021-06-01T19:06:56.316026",
     "exception": false,
     "start_time": "2021-06-01T19:06:56.111998",
     "status": "completed"
    },
    "tags": []
   },
   "source": [
    "Построим матрицу ошибок для валидационной выборки:"
   ]
  },
  {
   "cell_type": "code",
   "execution_count": 112,
   "metadata": {
    "execution": {
     "iopub.execute_input": "2021-06-01T19:06:56.684100Z",
     "iopub.status.busy": "2021-06-01T19:06:56.683575Z",
     "iopub.status.idle": "2021-06-01T19:06:56.766110Z",
     "shell.execute_reply": "2021-06-01T19:06:56.766470Z",
     "shell.execute_reply.started": "2021-06-01T18:45:25.810067Z"
    },
    "papermill": {
     "duration": 0.268223,
     "end_time": "2021-06-01T19:06:56.766616",
     "exception": false,
     "start_time": "2021-06-01T19:06:56.498393",
     "status": "completed"
    },
    "tags": []
   },
   "outputs": [
    {
     "data": {
      "image/png": "[encoded data removed]",
      "text/plain": [
       "<Figure size 432x288 with 1 Axes>"
      ]
     },
     "metadata": {
      "needs_background": "light"
     },
     "output_type": "display_data"
    }
   ],
   "source": [
    "sns.heatmap(confusion_matrix(y_valid, y_predict_hyp), annot=True, annot_kws={\"size\": 20}, fmt='', cmap='Pastel2', cbar=False,\n",
    "            xticklabels=['1', '0'], yticklabels=['1', '0'])\n",
    "plt.title('Матрица ошибок для default')\n",
    "plt.show()"
   ]
  },
  {
   "cell_type": "markdown",
   "metadata": {
    "papermill": {
     "duration": 0.181447,
     "end_time": "2021-06-01T19:06:57.133177",
     "exception": false,
     "start_time": "2021-06-01T19:06:56.951730",
     "status": "completed"
    },
    "tags": []
   },
   "source": [
    "### 4.2.5. Результаты"
   ]
  },
  {
   "cell_type": "markdown",
   "metadata": {
    "papermill": {
     "duration": 0.169869,
     "end_time": "2021-06-01T19:06:57.475560",
     "exception": false,
     "start_time": "2021-06-01T19:06:57.305691",
     "status": "completed"
    },
    "tags": []
   },
   "source": [
    "Построим график, который будет отражать полученные нами данные:"
   ]
  },
  {
   "cell_type": "code",
   "execution_count": 113,
   "metadata": {
    "execution": {
     "iopub.execute_input": "2021-06-01T19:06:57.849003Z",
     "iopub.status.busy": "2021-06-01T19:06:57.848466Z",
     "iopub.status.idle": "2021-06-01T19:06:58.027265Z",
     "shell.execute_reply": "2021-06-01T19:06:58.027643Z",
     "shell.execute_reply.started": "2021-06-01T18:45:25.901263Z"
    },
    "papermill": {
     "duration": 0.381451,
     "end_time": "2021-06-01T19:06:58.027806",
     "exception": false,
     "start_time": "2021-06-01T19:06:57.646355",
     "status": "completed"
    },
    "tags": []
   },
   "outputs": [
    {
     "data": {
      "image/png": "[encoded data removed]",
      "text/plain": [
       "<Figure size 1080x720 with 1 Axes>"
      ]
     },
     "metadata": {
      "needs_background": "light"
     },
     "output_type": "display_data"
    }
   ],
   "source": [
    "plt.figure(figsize=(15, 10))\n",
    "plt.plot([0, 1], label='Baseline', linestyle='--')\n",
    "plt.plot(fpr_c, tpr_c, label='logRegCasual roc auc= %0.5f' % roc_auc_c)\n",
    "plt.plot(fpr_n, tpr_n, label='logRegNormal roc auc=%0.5f' % roc_auc_n)\n",
    "plt.plot(fpr_np, tpr_np, label='logRegNormPoly roc auc=%0.5f' % roc_auc_np)\n",
    "plt.plot(fpr_hyp, tpr_hyp, label='logRegHyper roc auc=%0.5f' % roc_auc_hyp)\n",
    "plt.title('Сравнение результатов предсказаний')\n",
    "plt.ylabel('True Positive Rate')\n",
    "plt.xlabel('False Positive Rate')\n",
    "plt.legend(loc='lower right')\n",
    "plt.show()"
   ]
  },
  {
   "cell_type": "markdown",
   "metadata": {
    "papermill": {
     "duration": 0.187436,
     "end_time": "2021-06-01T19:06:58.408439",
     "exception": false,
     "start_time": "2021-06-01T19:06:58.221003",
     "status": "completed"
    },
    "tags": []
   },
   "source": [
    "Как можно увидеть - почти все кривые различаются совсем незначительно, метрика roc_auc почти везде раличается только после 4 знака. При этом, точность предсказания дефолтного клиента гораздо выше чем у \"случайного\" способа определения. Для использования на тестовой выборке выберем модель с регуляризацией."
   ]
  },
  {
   "cell_type": "markdown",
   "metadata": {
    "papermill": {
     "duration": 0.180597,
     "end_time": "2021-06-01T19:06:58.771442",
     "exception": false,
     "start_time": "2021-06-01T19:06:58.590845",
     "status": "completed"
    },
    "tags": []
   },
   "source": [
    "# 5. Submission"
   ]
  },
  {
   "cell_type": "markdown",
   "metadata": {
    "papermill": {
     "duration": 0.182741,
     "end_time": "2021-06-01T19:06:59.134531",
     "exception": false,
     "start_time": "2021-06-01T19:06:58.951790",
     "status": "completed"
    },
    "tags": []
   },
   "source": [
    "Теперь перейдем к тестовому дата-фрейму. Предварительно, сделаем нормализацию и выделим полиномиальные признаки, при этом используем transform, чтобы для нормализации применились значения обучающей выборки. Для начала выделим полиномиальные признаки:"
   ]
  },
  {
   "cell_type": "code",
   "execution_count": 114,
   "metadata": {
    "execution": {
     "iopub.execute_input": "2021-06-01T19:06:59.505990Z",
     "iopub.status.busy": "2021-06-01T19:06:59.505429Z",
     "iopub.status.idle": "2021-06-01T19:06:59.516609Z",
     "shell.execute_reply": "2021-06-01T19:06:59.517008Z",
     "shell.execute_reply.started": "2021-06-01T18:45:26.110620Z"
    },
    "papermill": {
     "duration": 0.201129,
     "end_time": "2021-06-01T19:06:59.517159",
     "exception": false,
     "start_time": "2021-06-01T19:06:59.316030",
     "status": "completed"
    },
    "tags": []
   },
   "outputs": [],
   "source": [
    "X_poly_t = poly.fit_transform(test_df[num_cols].values)"
   ]
  },
  {
   "cell_type": "markdown",
   "metadata": {
    "papermill": {
     "duration": 0.181653,
     "end_time": "2021-06-01T19:06:59.882357",
     "exception": false,
     "start_time": "2021-06-01T19:06:59.700704",
     "status": "completed"
    },
    "tags": []
   },
   "source": [
    "Теперь используем StandardScaler:"
   ]
  },
  {
   "cell_type": "code",
   "execution_count": 115,
   "metadata": {
    "execution": {
     "iopub.execute_input": "2021-06-01T19:07:00.254403Z",
     "iopub.status.busy": "2021-06-01T19:07:00.253904Z",
     "iopub.status.idle": "2021-06-01T19:07:00.262885Z",
     "shell.execute_reply": "2021-06-01T19:07:00.263258Z",
     "shell.execute_reply.started": "2021-06-01T18:45:26.129415Z"
    },
    "papermill": {
     "duration": 0.197462,
     "end_time": "2021-06-01T19:07:00.263404",
     "exception": false,
     "start_time": "2021-06-01T19:07:00.065942",
     "status": "completed"
    },
    "tags": []
   },
   "outputs": [],
   "source": [
    "X_norm_poly_t = scaler.transform(X_poly_t)"
   ]
  },
  {
   "cell_type": "markdown",
   "metadata": {
    "papermill": {
     "duration": 0.185072,
     "end_time": "2021-06-01T19:07:00.634093",
     "exception": false,
     "start_time": "2021-06-01T19:07:00.449021",
     "status": "completed"
    },
    "tags": []
   },
   "source": [
    "Объединим воедино поле признаков тестового фрейма:"
   ]
  },
  {
   "cell_type": "code",
   "execution_count": 116,
   "metadata": {
    "execution": {
     "iopub.execute_input": "2021-06-01T19:07:01.047111Z",
     "iopub.status.busy": "2021-06-01T19:07:01.046427Z",
     "iopub.status.idle": "2021-06-01T19:07:01.060244Z",
     "shell.execute_reply": "2021-06-01T19:07:01.060635Z",
     "shell.execute_reply.started": "2021-06-01T18:45:26.142178Z"
    },
    "papermill": {
     "duration": 0.202741,
     "end_time": "2021-06-01T19:07:01.060806",
     "exception": false,
     "start_time": "2021-06-01T19:07:00.858065",
     "status": "completed"
    },
    "tags": []
   },
   "outputs": [],
   "source": [
    "X_test = np.hstack([X_norm_poly_t, test_df[bin_cols].values, test_df_cat])"
   ]
  },
  {
   "cell_type": "markdown",
   "metadata": {
    "papermill": {
     "duration": 0.18358,
     "end_time": "2021-06-01T19:07:01.430771",
     "exception": false,
     "start_time": "2021-06-01T19:07:01.247191",
     "status": "completed"
    },
    "tags": []
   },
   "source": [
    "Обучим модель на всей выборке:"
   ]
  },
  {
   "cell_type": "code",
   "execution_count": 117,
   "metadata": {
    "execution": {
     "iopub.execute_input": "2021-06-01T19:07:01.803890Z",
     "iopub.status.busy": "2021-06-01T19:07:01.803042Z",
     "iopub.status.idle": "2021-06-01T19:07:03.315396Z",
     "shell.execute_reply": "2021-06-01T19:07:03.315799Z",
     "shell.execute_reply.started": "2021-06-01T18:45:26.156067Z"
    },
    "papermill": {
     "duration": 1.702028,
     "end_time": "2021-06-01T19:07:03.315974",
     "exception": false,
     "start_time": "2021-06-01T19:07:01.613946",
     "status": "completed"
    },
    "tags": []
   },
   "outputs": [
    {
     "data": {
      "text/plain": [
       "LogisticRegression(C=1291.5496650148827, class_weight='balanced',\n",
       "                   random_state=45)"
      ]
     },
     "execution_count": 117,
     "metadata": {},
     "output_type": "execute_result"
    }
   ],
   "source": [
    "# Запишем значения default в y_tr для обучения\n",
    "Y_tr = df['default'].values\n",
    "# Обучим саму модель:\n",
    "test_model = LogisticRegression(\n",
    "    penalty='l2', C=1291.5496650148827, class_weight='balanced', random_state=RANDOM_SEED)\n",
    "test_model.fit(X_norm_poly, Y_tr)"
   ]
  },
  {
   "cell_type": "markdown",
   "metadata": {
    "papermill": {
     "duration": 0.200096,
     "end_time": "2021-06-01T19:07:03.727581",
     "exception": false,
     "start_time": "2021-06-01T19:07:03.527485",
     "status": "completed"
    },
    "tags": []
   },
   "source": [
    "Теперь сделаем предсказание для тестовой выборки:"
   ]
  },
  {
   "cell_type": "code",
   "execution_count": 118,
   "metadata": {
    "execution": {
     "iopub.execute_input": "2021-06-01T19:07:04.129348Z",
     "iopub.status.busy": "2021-06-01T19:07:04.128695Z",
     "iopub.status.idle": "2021-06-01T19:07:04.138164Z",
     "shell.execute_reply": "2021-06-01T19:07:04.138648Z",
     "shell.execute_reply.started": "2021-06-01T18:45:28.013608Z"
    },
    "papermill": {
     "duration": 0.204131,
     "end_time": "2021-06-01T19:07:04.138824",
     "exception": false,
     "start_time": "2021-06-01T19:07:03.934693",
     "status": "completed"
    },
    "tags": []
   },
   "outputs": [],
   "source": [
    "y_test_pred = test_model.predict(X_test)\n",
    "y_pred_prob_test = test_model.predict_proba(X_test)[:, 1]"
   ]
  },
  {
   "cell_type": "markdown",
   "metadata": {
    "papermill": {
     "duration": 0.185607,
     "end_time": "2021-06-01T19:07:04.579005",
     "exception": false,
     "start_time": "2021-06-01T19:07:04.393398",
     "status": "completed"
    },
    "tags": []
   },
   "source": [
    "Сформируем сабмит:"
   ]
  },
  {
   "cell_type": "code",
   "execution_count": 119,
   "metadata": {
    "execution": {
     "iopub.execute_input": "2021-06-01T19:07:04.953594Z",
     "iopub.status.busy": "2021-06-01T19:07:04.953065Z",
     "iopub.status.idle": "2021-06-01T19:07:05.084312Z",
     "shell.execute_reply": "2021-06-01T19:07:05.083815Z",
     "shell.execute_reply.started": "2021-06-01T18:45:28.031724Z"
    },
    "papermill": {
     "duration": 0.31996,
     "end_time": "2021-06-01T19:07:05.084423",
     "exception": false,
     "start_time": "2021-06-01T19:07:04.764463",
     "status": "completed"
    },
    "tags": []
   },
   "outputs": [
    {
     "data": {
      "text/html": [
       "<div>\n",
       "<style scoped>\n",
       "    .dataframe tbody tr th:only-of-type {\n",
       "        vertical-align: middle;\n",
       "    }\n",
       "\n",
       "    .dataframe tbody tr th {\n",
       "        vertical-align: top;\n",
       "    }\n",
       "\n",
       "    .dataframe thead th {\n",
       "        text-align: right;\n",
       "    }\n",
       "</style>\n",
       "<table border=\"1\" class=\"dataframe\">\n",
       "  <thead>\n",
       "    <tr style=\"text-align: right;\">\n",
       "      <th></th>\n",
       "      <th>client_id</th>\n",
       "      <th>default</th>\n",
       "    </tr>\n",
       "  </thead>\n",
       "  <tbody>\n",
       "    <tr>\n",
       "      <th>0</th>\n",
       "      <td>74835</td>\n",
       "      <td>0.215277</td>\n",
       "    </tr>\n",
       "    <tr>\n",
       "      <th>1</th>\n",
       "      <td>17527</td>\n",
       "      <td>0.824939</td>\n",
       "    </tr>\n",
       "    <tr>\n",
       "      <th>2</th>\n",
       "      <td>75683</td>\n",
       "      <td>0.329621</td>\n",
       "    </tr>\n",
       "    <tr>\n",
       "      <th>3</th>\n",
       "      <td>26883</td>\n",
       "      <td>0.368337</td>\n",
       "    </tr>\n",
       "    <tr>\n",
       "      <th>4</th>\n",
       "      <td>28862</td>\n",
       "      <td>0.107692</td>\n",
       "    </tr>\n",
       "  </tbody>\n",
       "</table>\n",
       "</div>"
      ],
      "text/plain": [
       "   client_id   default\n",
       "0      74835  0.215277\n",
       "1      17527  0.824939\n",
       "2      75683  0.329621\n",
       "3      26883  0.368337\n",
       "4      28862  0.107692"
      ]
     },
     "execution_count": 119,
     "metadata": {},
     "output_type": "execute_result"
    }
   ],
   "source": [
    "submission = pd.DataFrame(\n",
    "    {'client_id': test_df.client_id, \"default\": y_pred_prob_test})\n",
    "submission.to_csv('submission.csv', index=False)\n",
    "submission.head()"
   ]
  },
  {
   "cell_type": "markdown",
   "metadata": {
    "papermill": {
     "duration": 0.186088,
     "end_time": "2021-06-01T19:07:05.454178",
     "exception": false,
     "start_time": "2021-06-01T19:07:05.268090",
     "status": "completed"
    },
    "tags": []
   },
   "source": [
    "**Вывод**: Мы получили модель с метрикой ROG AUC примерно 0.73, что уже является хорошим показателем. Для дальнейшего усовершенствования модели может быть необходимо создать новые признаки или придумать какие-либо решения со значениями, которые вызывают сомнение в рамках IQR."
   ]
  },
  {
   "cell_type": "code",
   "execution_count": null,
   "metadata": {
    "papermill": {
     "duration": 0.184727,
     "end_time": "2021-06-01T19:07:05.824233",
     "exception": false,
     "start_time": "2021-06-01T19:07:05.639506",
     "status": "completed"
    },
    "tags": []
   },
   "outputs": [],
   "source": []
  }
 ],
 "metadata": {
  "kernelspec": {
   "display_name": "Python 3",
   "language": "python",
   "name": "python3"
  },
  "language_info": {
   "codemirror_mode": {
    "name": "ipython",
    "version": 3
   },
   "file_extension": ".py",
   "mimetype": "text/x-python",
   "name": "python",
   "nbconvert_exporter": "python",
   "pygments_lexer": "ipython3",
   "version": "3.8.3"
  },
  "papermill": {
   "default_parameters": {},
   "duration": 196.075336,
   "end_time": "2021-06-01T19:07:07.453441",
   "environment_variables": {},
   "exception": null,
   "input_path": "__notebook__.ipynb",
   "output_path": "__notebook__.ipynb",
   "parameters": {},
   "start_time": "2021-06-01T19:03:51.378105",
   "version": "2.3.3"
  }
 },
 "nbformat": 4,
 "nbformat_minor": 5
}
